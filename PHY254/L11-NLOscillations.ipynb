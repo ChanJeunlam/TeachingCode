{
 "cells": [
  {
   "cell_type": "raw",
   "id": "772bdd69",
   "metadata": {
    "raw_mimetype": "text/latex",
    "slideshow": {
     "slide_type": "subslide"
    }
   },
   "source": [
    "\\DefineVerbatimEnvironment{Verbatim}{Verbatim}{fontsize=\\scriptsize}\n",
    "\n",
    "\\newcommand{\\bnabla}{\\boldsymbol{\\nabla}}\n",
    "\\newcommand{\\eexp}[1]{\\text{e}^{#1}}\n",
    "\\newcommand{\\di}[0]{\\text{d}}\n",
    "\\newcommand{\\bs}[1]{\\boldsymbol{#1}}\n",
    "\\newcommand{\\ode}[2]{\\frac{\\di {#1}}{\\di {#2}}}\n",
    "\\newcommand{\\oden}[3]{\\frac{\\di^{#1} {#2}}{\\di {#3}^{#1}}}\n",
    "\\newcommand{\\odel}[2]{\\di {#1}/\\di {#2}}\n",
    "\\newcommand{\\odeln}[3]{\\di^{#1} {#2}/\\di {#3}^{#1}}\n",
    "\\newcommand{\\pde}[2]{\\frac{\\partial {#1}}{\\partial {#2}}}\n",
    "\\newcommand{\\pden}[3]{\\frac{\\partial^{#1} {#2}}{\\partial {#3}^{#1}}}\n",
    "\\newcommand{\\pdel}[2]{\\partial_{#2} {#1}}\n",
    "\\newcommand{\\pdenl}[3]{\\partial^{#1}_{#3} {#2}}\n",
    "\\newcommand{\\divr}[1]{\\vec\\nabla \\cdot {#1}}\n",
    "\\newcommand{\\divrb}[1]{\\boldsymbol{\\nabla} \\cdot {#1}}\n",
    "\\newcommand{\\grad}[1]{\\vec \\nabla {#1}}\n",
    "\\newcommand{\\gradb}[1]{\\boldsymbol\\nabla {#1}}\n",
    "\\newcommand{\\curl}[1]{\\vec\\nabla \\times {#1}}\n",
    "\\newcommand{\\curlb}[1]{\\boldsymbol{\\nabla}\\times\\boldsymbol{#1}}\n",
    "\\newcommand{\\lapl}[0]{\\vec\\nabla^2}\n",
    "\\newcommand{\\laplb}[0]{\\boldsymbol{\\nabla}^2}\n",
    "\\newcommand{\\cplxi}[0]{\\text{i}}\n",
    "\\newcommand{\\unit}[1]{\\mathbf{\\hat{#1}}}\n",
    "\\newcommand{\\red}[1]{\\textcolor{red}{#1}}\n",
    "\\newcommand{\\blue}[1]{\\textcolor{blue}{#1}}\n",
    "\\newcommand{\\mage}[1]{\\textcolor{magenta}{#1}}\n",
    "\\newcommand{\\with}[0]{\\quad\\text{with}\\quad}\n",
    "\\newcommand{\\thrfor}[0]{\\quad\\Rightarrow\\quad}\n",
    "\\newcommand{\\andeq}[0]{\\quad\\text{and}\\quad}\n",
    "\\newcommand{\\oreq}[0]{\\quad\\text{or}\\quad}\n",
    "\\newcommand{\\stirling}[2]{\\genfrac{[}{]}{0pt}{}{#1}{#2}}"
   ]
  },
  {
   "cell_type": "markdown",
   "id": "e148a358",
   "metadata": {
    "slideshow": {
     "slide_type": "skip"
    }
   },
   "source": [
    "$\\newcommand{\\bnabla}{\\boldsymbol{\\nabla}}$\n",
    "$\\newcommand{\\eexp}[1]{\\text{e}^{#1}}$\n",
    "$\\newcommand{\\di}[0]{\\text{d}}$\n",
    "$\\newcommand{\\bs}[1]{\\boldsymbol{#1}}$\n",
    "$\\newcommand{\\ode}[2]{\\frac{\\di {#1}}{\\di {#2}}}$\n",
    "$\\newcommand{\\oden}[3]{\\frac{\\di^{#1} {#2}}{\\di {#3}^{#1}}}$\n",
    "$\\newcommand{\\odel}[2]{\\di {#1}/\\di {#2}}$\n",
    "$\\newcommand{\\odeln}[3]{\\di^{#1} {#2}/\\di {#3}^{#1}}$\n",
    "$\\newcommand{\\pde}[2]{\\frac{\\partial {#1}}{\\partial {#2}}}$\n",
    "$\\newcommand{\\pden}[3]{\\frac{\\partial^{#1} {#2}}{\\partial {#3}^{#1}}}$\n",
    "$\\newcommand{\\pdel}[2]{\\partial_{#2} {#1}}$\n",
    "$\\newcommand{\\pdenl}[3]{\\partial^{#1}_{#3} {#2}}$\n",
    "$\\newcommand{\\divr}[1]{\\vec\\nabla \\cdot {#1}}$\n",
    "$\\newcommand{\\divrb}[1]{\\boldsymbol{\\nabla} \\cdot {#1}}$\n",
    "$\\newcommand{\\grad}[1]{\\vec \\nabla {#1}}$\n",
    "$\\newcommand{\\gradb}[1]{\\boldsymbol\\nabla {#1}}$\n",
    "$\\newcommand{\\curl}[1]{\\vec\\nabla \\times {#1}}$\n",
    "$\\newcommand{\\curlb}[1]{\\boldsymbol{\\nabla}\\times\\boldsymbol{#1}}$\n",
    "$\\newcommand{\\lapl}[0]{\\vec\\nabla^2}$\n",
    "$\\newcommand{\\laplb}[0]{\\boldsymbol{\\nabla}^2}$\n",
    "$\\newcommand{\\cplxi}[0]{\\text{i}}$\n",
    "$\\newcommand{\\unit}[1]{\\mathbf{\\hat{#1}}}$\n",
    "$\\newcommand{\\thrfor}[0]{\\quad\\Rightarrow\\quad}$\n",
    "$\\newcommand{\\red}[1]{\\textcolor{red}{#1}}$\n",
    "$\\newcommand{\\blue}[1]{\\textcolor{blue}{#1}}$\n",
    "$\\newcommand{\\mage}[1]{\\textcolor{magenta}{#1}}$\n",
    "$\\newcommand{\\with}[0]{\\quad\\text{with}\\quad}$\n",
    "$\\newcommand{\\thrfor}[0]{\\quad\\Rightarrow\\quad}$\n",
    "$\\newcommand{\\andeq}[0]{\\quad\\text{and}\\quad}$\n",
    "$\\newcommand{\\oreq}[0]{\\quad\\text{or}\\quad}$\n",
    "$\\newcommand{\\stirling}[2]{\\genfrac{[}{]}{0pt}{}{#1}{#2}}$"
   ]
  },
  {
   "cell_type": "code",
   "execution_count": null,
   "id": "fd128070",
   "metadata": {
    "raw_mimetype": "text/x-python",
    "slideshow": {
     "slide_type": "slide"
    }
   },
   "outputs": [],
   "source": [
    "from IPython.display import Image, display, YouTubeVideo, HTML, Video\n",
    "import numpy as np\n",
    "import matplotlib.pyplot as plt\n",
    "from matplotlib import interactive, rcParams, animation\n",
    "from ipywidgets import interact, FloatSlider, fixed, IntSlider\n",
    "from scipy.constants import pi  # otherwise it's too annoying to type np.pi\n",
    "interactive(True)\n",
    "rcParams['figure.dpi'] = 150  # for crisper figures later"
   ]
  },
  {
   "cell_type": "markdown",
   "id": "fa601d62",
   "metadata": {
    "slideshow": {
     "slide_type": "skip"
    }
   },
   "source": [
    "*Readings:*\n",
    "\n",
    "* *Mostly these notes; the first 1/2 of it are classics, the second 1/2 are an adaptation of the beginning of Chapter 12 of Taylor, which is not a required textbook. Our librarian was able to make this chapter available on Quercus.*\n",
    "* *Baker & Gollub is a whole textbook devoted to the topic of chaos, which we will introduce in the latter part of this document. You can use it as a side resource if you need more info about a particular topic.*\n",
    "* **Note:** *I don't know where lecture 11 will end and lecture 12 will begin. Try to work on both as a whole.*"
   ]
  },
  {
   "cell_type": "markdown",
   "id": "c776b480",
   "metadata": {
    "slideshow": {
     "slide_type": "skip"
    }
   },
   "source": [
    "# Expectations\n",
    "\n",
    "## Remember\n",
    "\n",
    "* In non-linear oscillators, the frequency can depend on the amplitude.\n",
    "* In non-linear oscillators, Fourier modes exchange energy.\n",
    "* Fourier analysis helps, knowing the frequency content of a given oscillation (I do *not* request that you fully understand how it works)\n",
    "* Waves can be non-linear too. Their speed can depend on the amplitude.\n",
    "* Solitons are waves that never change shape, because their non-linear effects are compensated by dispersive effects.\n",
    "* A damped-driven pendulum can develop non-linear oscillations for moderately strong driving, and chaos for stronger driving.\n",
    "\n",
    "## Understand\n",
    "\n",
    "Most of this lecture is qualitative, and its contents are fairly advanced. My expectations of you understanding the contents are more modest that for previous lectures.\n",
    "\n",
    "## Apply\n",
    "\n",
    "* Integrate numerically a non-linear oscillator equation. \n",
    "* Create a time series visualization.\n",
    "* Create a phase-space trajectory (I will sometime plot the potential energy in the background; This is purely informational and aesthetic, and I am NOT requiring that you know how to do this).\n",
    "* Interpret qualitative features of a non-linear solution (wave propagation as a function of amplitude, plotting the shape...).\n",
    "\n",
    "Notice that I am not requesting anything about how to plot the Fourier coefficients like I will do.\n",
    "This is again probably too advanced."
   ]
  },
  {
   "cell_type": "markdown",
   "id": "282c6b73",
   "metadata": {
    "slideshow": {
     "slide_type": "skip"
    }
   },
   "source": [
    "# Introduction\n",
    "\n",
    "Most of what we have seen was about linear motions:  linear oscillations, linear damping, linear forcing, linear modes, linear waves.\n",
    "Linear motions, in a way, all look the same.\n",
    "We took mechanical examples as an excuse to study very generic phenomena that exist as soon as something has inertia and a restoring force.\n",
    "In electronic circuits, inertial is provided by inductance and restoring is provided by capacitance, but they behave exactly the same way.\n",
    "So, in a way, all the math and physics we have done are a series of invaluable building blocks to help us tackle many, if not all, sub-domains of physics and beyond.\n",
    "\n",
    "When non-linearity is included however, things become trickier. There are a lot of non-linear phenomena, and while there are some universal elements to it, there is also a lot of diversity.\n",
    "At our level, we still have too few tools to tackle these systems with pen-and-paper (and to be fair, those often only get you so far), but we have learned a lot about visualizing complex phenomena.\n",
    "So, we will use these tools a lot to visualize complex phenomena, and leave the detailed math for when you grow up."
   ]
  },
  {
   "cell_type": "markdown",
   "id": "3f11ea1c",
   "metadata": {
    "slideshow": {
     "slide_type": "skip"
    }
   },
   "source": [
    "In this section, we review a few of the most famous undriven, nonlinear waves and oscillations.\n",
    "\n",
    "# Non-linear pendulum\n",
    "\n",
    "## General behaviour\n",
    "\n",
    "We know this one, its equation of motion is \n",
    "$$\\ddot \\theta + \\omega_0^2\\sin\\theta = 0,$$\n",
    "with the caveat that $\\omega_0$ is the angular frequency of oscillations only in the weak-amplitude (linear) limit.\n",
    "We also saw that it had a neat expression for the period of oscillation, namely,\n",
    "\\begin{equation}\n",
    "    T = \\frac{2\\sqrt{2}}{\\omega_0} \\int_0^{\\Theta}\\frac{\\di \\theta}{\\sqrt{\\cos\\theta - \\cos\\Theta}},\n",
    "    \\label{eq:TNL}\n",
    "\\end{equation}\n",
    "where $\\Theta$ (capital $\\theta$) is the maximum angle of oscillation, assuming it is not undergoing rolling motion.\n",
    "We can find this expression based on conservation of energy (see lecture 6).\n",
    "\n",
    "Its energy (shades) and possible bound trajectories (red lines) are shown below."
   ]
  },
  {
   "cell_type": "code",
   "execution_count": null,
   "id": "7ff52c04",
   "metadata": {
    "slideshow": {
     "slide_type": "slide"
    }
   },
   "outputs": [],
   "source": [
    "ftsz = 12  # font size\n",
    "m = 1.0  # [kg] mass\n",
    "g = 9.8  # [m/s2] gravity\n",
    "l = 1.0  # [m] pendulum length\n",
    "omega0 = (g/l)**.5"
   ]
  },
  {
   "cell_type": "code",
   "execution_count": null,
   "id": "71fba062",
   "metadata": {
    "slideshow": {
     "slide_type": "subslide"
    }
   },
   "outputs": [],
   "source": [
    "# theta and dottheta values\n",
    "th = np.linspace(-pi, pi, 500)\n",
    "dotth = (g/l)**0.5*np.linspace(-2.5, 2.5, 500)\n",
    "\n",
    "[thg, dotthg] = np.meshgrid(th, dotth)  # gridded values\n",
    "# U = m*g*l*(1-np.cos(th))  # for PE vs theta plot\n",
    "Eg = 0.5*m*l**2*dotthg**2 + m*g*l*(1-np.cos(thg))  # for contouring\n",
    "    \n",
    "def E_pendulum_phaseplot():\n",
    "    plt.figure(figsize=(5, 4))\n",
    "    plt.contourf(thg/pi, dotthg, Eg/(m*g*l), 32)  # plot contours\n",
    "    plt.colorbar(orientation='horizontal')  # add colorbar\n",
    "    # red contour overlay for phase trajectories\n",
    "    plt.contour(thg/pi, dotthg, Eg/(m*g*l),\n",
    "                np.linspace(0.1, 2, 6), colors='r')\n",
    "    plt.xlim([th[0]/pi, th[-1]/pi])\n",
    "    plt.ylim([dotth[0], dotth[-1]])\n",
    "    plt.grid('on')\n",
    "    plt.title(r'$E/(mg\\ell)$ in phase space')\n",
    "    plt.xlabel(r'$\\theta/\\pi$')\n",
    "    plt.ylabel(r'$\\dot\\theta$ [rad/s]')\n",
    "\n",
    "    plt.tight_layout()\n",
    "    return\n"
   ]
  },
  {
   "cell_type": "code",
   "execution_count": null,
   "id": "8dba7636",
   "metadata": {
    "slideshow": {
     "slide_type": "subslide"
    }
   },
   "outputs": [],
   "source": [
    "E_pendulum_phaseplot()"
   ]
  },
  {
   "cell_type": "markdown",
   "id": "37cf27d9",
   "metadata": {
    "slideshow": {
     "slide_type": "skip"
    }
   },
   "source": [
    "So, at low energy (near the bottom of the well), we have SHM (cute little ellipses), and as the energy or equivalently $\\Theta$ increase, the trajectories in phase space get more distorted.\n",
    "Let's see how this distorsion is reflected in the time series.\n",
    "\n",
    "There is no easy analytical expression for $\\theta$ in the general case, so instead, we will use the Euler-Cromer method."
   ]
  },
  {
   "cell_type": "code",
   "execution_count": null,
   "id": "5f185ebc-9798-4fbb-8855-8bf278d605d1",
   "metadata": {
    "slideshow": {
     "slide_type": "subslide"
    }
   },
   "outputs": [],
   "source": [
    "def ddtheta(theta, omega0):\n",
    "    \"\"\" Second time derivative of theta \"\"\"\n",
    "    return -omega0**2*np.sin(theta)\n",
    "\n",
    "Theta = -0.5*pi  # [rad] maximum angle"
   ]
  },
  {
   "cell_type": "code",
   "execution_count": null,
   "id": "2bc40a87-3053-4016-97fc-dcd2e2f4dcf8",
   "metadata": {
    "slideshow": {
     "slide_type": "fragment"
    }
   },
   "outputs": [],
   "source": [
    "from scipy.special import ellipk\n",
    "T = 4*ellipk(np.sin(Theta/2)**2)/omega0  # Total cheat! I am not computing the integral\n",
    "# See https://en.wikipedia.org/wiki/Pendulum_(mathematics)#Arbitrary-amplitude_period\n",
    "print(\"Period is T = {} s\".format(T))"
   ]
  },
  {
   "cell_type": "code",
   "execution_count": null,
   "id": "bf0eae95-2405-4fa7-8522-90599d3fe790",
   "metadata": {
    "slideshow": {
     "slide_type": "subslide"
    }
   },
   "outputs": [],
   "source": [
    "# Weakly non-linear pendulum\n",
    "ntT = 500  # number of time steps per period\n",
    "nT = 3.  # number of periods\n",
    "dt = T/ntT  # duration of one time step\n",
    "time = np.arange(0., T*nT, dt)  # time array\n",
    "nt = len(time)  # total number of iterations"
   ]
  },
  {
   "cell_type": "code",
   "execution_count": null,
   "id": "1e43bca1-ad12-4240-93a4-b1a9acf5468d",
   "metadata": {
    "slideshow": {
     "slide_type": "fragment"
    }
   },
   "outputs": [],
   "source": [
    "# Initialize theta, dtheta/dt\n",
    "theta = 0*time\n",
    "dottheta = 0*time\n",
    "\n",
    "# Set first element of theta and dottheta to initial conditions.\n",
    "theta[0] = Theta\n",
    "dottheta[0] = 0.0\n",
    "\n",
    "# generate theta and dottheta with the Euler-Cromer method\n",
    "for i in range(nt-1):\n",
    "    dottheta[i+1] = dottheta[i] + dt*ddtheta(theta[i], omega0)  # update dottheta\n",
    "    theta[i+1] = theta[i] + dottheta[i+1]*dt  # use updated dottheta"
   ]
  },
  {
   "cell_type": "code",
   "execution_count": null,
   "id": "205d7e90-37a5-4963-8017-f6c31c036ad4",
   "metadata": {
    "slideshow": {
     "slide_type": "subslide"
    }
   },
   "outputs": [],
   "source": [
    "def plot_TS(t, T, th, dth):\n",
    "    \"\"\" draw time series; th is theta, dth is dtheta/dt\"\"\"\n",
    "    plt.figure()\n",
    "    plt.subplot(2, 1, 1)\n",
    "    plt.plot(t/T, th/pi)\n",
    "    plt.ylabel(r'$\\theta/\\pi$')\n",
    "    plt.xlabel(r'$t/T$')\n",
    "    plt.grid()\n",
    "    \n",
    "    plt.subplot(2, 1, 2)\n",
    "    plt.plot(t/T, dth)\n",
    "    plt.ylabel(r'$\\dot\\theta$ [rad/s]')\n",
    "    plt.xlabel(r'$t/T$')\n",
    "    plt.grid()\n",
    "\n",
    "    plt.show()\n",
    "    \n",
    "    return"
   ]
  },
  {
   "cell_type": "code",
   "execution_count": null,
   "id": "86a1c0dc-a5fc-414d-bdbe-15e986120bac",
   "metadata": {
    "slideshow": {
     "slide_type": "subslide"
    }
   },
   "outputs": [],
   "source": [
    "plot_TS(time, T, theta, dottheta)"
   ]
  },
  {
   "cell_type": "markdown",
   "id": "2adb3640-7591-4580-8985-0a09d890e114",
   "metadata": {
    "slideshow": {
     "slide_type": "skip"
    }
   },
   "source": [
    "So, as expected, the pendulum oscillates with period $T$, but the oscillations aren't quite sinusoidal.\n",
    "On the $\\theta$ curve, the sine function look a little squeezed, though it's not super obvious.\n",
    "The $\\dot\\theta$ curve is more notably a-sinusoidal, with flatter slopes and pointier tops.\n",
    "How can we visualize this better?\n",
    "First, try a phase plot."
   ]
  },
  {
   "cell_type": "code",
   "execution_count": null,
   "id": "0a0c21a5-652b-45d4-8337-cdb571501003",
   "metadata": {
    "slideshow": {
     "slide_type": "subslide"
    }
   },
   "outputs": [],
   "source": [
    "def plot_phase(th, T, dth):\n",
    "    \"\"\" draw phase plot; th is theta, dth is dtheta/dt\"\"\"\n",
    "    plt.figure(2)\n",
    "    plt.plot(th/pi, dth, '.', markersize=0.5)\n",
    "    # plt.scatter(th/pi, dth, c=time, s=0.25, alpha=0.5)\n",
    "    plt.ylabel(r'$\\dot\\theta$ [rad/s]')\n",
    "    plt.xlabel(r'$\\theta/\\pi$')\n",
    "    plt.grid()\n",
    "    # plt.axis(xmin=-1, xmax=1)\n",
    "    plt.show()\n",
    "    return"
   ]
  },
  {
   "cell_type": "code",
   "execution_count": null,
   "id": "4d2a67d7-1d1d-4d5c-89b5-a5c69119de33",
   "metadata": {
    "slideshow": {
     "slide_type": "subslide"
    }
   },
   "outputs": [],
   "source": [
    "plot_phase(theta, T, dottheta)"
   ]
  },
  {
   "cell_type": "markdown",
   "id": "5750b1b6-96a4-45cd-913b-6701349d3fe4",
   "metadata": {
    "slideshow": {
     "slide_type": "skip"
    }
   },
   "source": [
    "The phase plot looks a little more diamond-like, indicating that the nice ellipses of SHM are gone.\n",
    "\n",
    "## Fourier analysis\n",
    "\n",
    "We saw in lecture 9 that there is a tool to analyse periodic signals: the Fourier series.\n",
    "It isn't clear at this point what nail this hammer will find, i.e., what question, we are looking to answer, but let's try anyway.\n",
    "Let's find the coefficients $A_n$ and $B_n$ such that\n",
    "$$ \\theta(t) = \\frac{A_0}2 + \\sum_{n=1}^\\infty\\left[A_n \\cos\\left(\\frac{2n\\pi t}{T}\\right) + B_n \\sin\\left(\\frac{2n\\pi t}{T}\\right)\\right].$$\n",
    "In fact, we can see on the plot that $\\theta$ is an even function (any initial condition with zero velocity is; any initial condition with zero position and non-zero velocity would be and odd function), so we can drop the $B_n$'s right away and focus on the $A_n$'s:\n",
    "$$A_n = \\frac2T\\int_{0}^{T}\\theta(t)\\cos\\left(\\frac{2n\\pi t}{T}\\right)\\di t.$$\n",
    "\n",
    "*Note: As I warned in lecture 9, the notations are a bit different from then because in lecture 9, I was assuming that the function had period $2L$.*\n",
    "\n",
    "We don't know the expression for $\\theta$ (that's the idea: if we knew it, we wouldn't try so many different ways to visualize it), so we need to compute them numerically.\n",
    "Because we computed $\\theta$ for a duration of three periods, we can simply integrate over the whole interval and divide by three (and we will be a smidge more accurate)."
   ]
  },
  {
   "cell_type": "markdown",
   "id": "a0dee5e7-4930-4296-b1ba-3c4147e91476",
   "metadata": {
    "slideshow": {
     "slide_type": "skip"
    }
   },
   "source": [
    "I will compute the first few $A_n$'s by explicitely computing the integral with the trapezoidal method, but I will also use an uber-classical algorithm to compute the coefficients, the Fast Fourier Transform (FFT), just to show that it computes the same thing (I will not time it, but it does compute all coefficients much faster than the pedestrian integration)."
   ]
  },
  {
   "cell_type": "markdown",
   "id": "45c13222",
   "metadata": {
    "slideshow": {
     "slide_type": "skip"
    }
   },
   "source": [
    "***\n",
    "\n",
    "*A few words to understand how I use the `rfft` routine below, although you are not expected to understand how or why it works. If are just willing to believe me when I say that twice the output of the `rfft` is equivalent to (in fact, better than, because the routine designed by pros) computing the $A_n$'s and $B_n$'s above, then you can skip this part.*"
   ]
  },
  {
   "cell_type": "markdown",
   "id": "bc246980",
   "metadata": {
    "slideshow": {
     "slide_type": "skip"
    }
   },
   "source": [
    "*The FFT algorithm computes the complex version of a Fourier series. That is, at each point $t_k$ in the time series, with $k = 0$, $1$, ..., $K-1$, with $K$ the total number of points in the time array, the value $\\theta_k = \\theta(t_k)$ is given by*\n",
    "$$\\theta_k = \\sum_{n=0}^{K-1}a_n\\exp\\left(\\frac{2\\pi\\cplxi n t_k}{T}\\right),$$\n",
    "*with $a_n$ the complex Fourier coefficient for each mode.*\n",
    "*Note that there are as many modes as there are grid points ($K$): that's because we are back to a discrete system, and the number of modes is not infinite anymore.*"
   ]
  },
  {
   "cell_type": "markdown",
   "id": "28df3034-c51c-4dda-939c-9ab516154102",
   "metadata": {
    "slideshow": {
     "slide_type": "skip"
    }
   },
   "source": [
    "*The complex Fourier coefficients are given by*\n",
    "$$a_n = \\frac{1}{K}\\sum_{k=0}^K\\theta_k\\exp\\left(-\\frac{2\\pi\\cplxi n t_k}T\\right),$$\n",
    "*which is the discrete equivalent of the integrals for $A_n$ and $B_n$. In fact, a formula sheet about Fourier series (e.g., https://en.wikipedia.org/wiki/Fourier_series#Definition) would tell you that $a_n = (A_n - \\cplxi B_n)/2$. So, for our even function $\\theta$ for which $B_n\\equiv 0$, $A_n = 2a_n$. It is almost what is coded below, except that the FFT algorithm works with complex numbers, and real numbers are treated as complex numbers with a zero imaginary part (for example, when the FFT implementation wants to output what we would call the number 2, it would really output `2+0j`), and Matplotlib doesn't plot complex numbers, even if the imaginary part is zero. It does plot the real part automatically, but it complains about it, so, we take the real part of the $a_n$'s to quench any discontent.*\n",
    "\n",
    "*In general, the function we compute the Fourier series of can be complex. But because the $\\theta_k$'s are real, there is a symmetry in the $a_n$'s, namely that $a_n = a_{K-n}^*$, and the `rfft` uses that property to only compute half the modes, which is faster.*\n",
    "***"
   ]
  },
  {
   "cell_type": "code",
   "execution_count": null,
   "id": "7f9ef97a-5354-4ed1-9333-67c974bb6047",
   "metadata": {
    "slideshow": {
     "slide_type": "subslide"
    }
   },
   "outputs": [],
   "source": [
    "from numpy.fft import rfft  # the FFT for real entries\n",
    "Nmodes = 10  # we compute the first 10 modes with the pedestrian method\n",
    "An = np.empty(Nmodes)\n",
    "for n in range(Nmodes):\n",
    "    An[n] = np.trapz(theta*np.cos(2*n*pi*time/T), time)*2/T/nT\n",
    "\n",
    "an = rfft(theta[:ntT], norm=\"forward\")\n",
    "# \"forward\" means that the Fourier coefficients are normalized, which is\n",
    "# how I have written them in the lecture notes "
   ]
  },
  {
   "cell_type": "code",
   "execution_count": null,
   "id": "9f6513e4-e011-48e3-b231-2e431c6067e0",
   "metadata": {
    "slideshow": {
     "slide_type": "fragment"
    }
   },
   "outputs": [],
   "source": [
    "def plot_Fourier():\n",
    "    plt.plot(An, 'o', label='$A_n$')\n",
    "    plt.plot(2*np.real(an), '+', label=r'$2$Re$(a_n)$')\n",
    "    plt.plot(2*np.imag(an), 'x', label=r'$2$Im$(a_n)$')\n",
    "    plt.xlim(0., Nmodes)\n",
    "    plt.xlabel('mode number')\n",
    "    plt.ylabel('Fourier coefficient')\n",
    "    plt.legend()\n",
    "    plt.grid()"
   ]
  },
  {
   "cell_type": "code",
   "execution_count": null,
   "id": "0601f0bd",
   "metadata": {
    "slideshow": {
     "slide_type": "subslide"
    }
   },
   "outputs": [],
   "source": [
    "plot_Fourier()"
   ]
  },
  {
   "cell_type": "markdown",
   "id": "3515c929-0cbb-453d-9d89-984344c55de0",
   "metadata": {
    "slideshow": {
     "slide_type": "skip"
    }
   },
   "source": [
    "Above, the dashed line gives the same result as the solid blue line: a dominant mode-1 (i.e., an oscillation of frequency $1/T$), and we have confirmed, or illustrated, that the `rfft` routine does the work of the integrals for the $A_n$'s.\n",
    "\n",
    "But there is more: the mode-3 (frequency $3/T$) seems to show some activity, and there might be more.\n",
    "So, there seems to be valuable information in the weaker modes, because that's where the deviation from linearity seems to exists.\n",
    "We can't prove at this point, but at at the very least, we should find a way to plot it better.\n",
    "\n",
    "This problem is actually very common in nonlinear systems: the higher harmonics are where it's at, even though they are weaker.\n",
    "One common solution is to plot spectra on a semi-log scale, i.e., to plot the $|A_n|$'s in log-scale."
   ]
  },
  {
   "cell_type": "code",
   "execution_count": null,
   "id": "f1eaf33c-bc98-4e41-a7c5-fc1f378f944a",
   "metadata": {
    "slideshow": {
     "slide_type": "subslide"
    }
   },
   "outputs": [],
   "source": [
    "def plot_semilog():\n",
    "    plt.semilogy(abs(An), 'o-', label='$|A_n|$')\n",
    "    plt.semilogy(2*abs(an), '+--', label=r'$2|a_n|$')\n",
    "    plt.xlim(0., Nmodes)\n",
    "    # plt.ylim(1e-15, 1e1)\n",
    "    plt.xlabel('mode number')\n",
    "    plt.ylabel('Fourier coefficient')\n",
    "    plt.legend()\n",
    "    plt.grid()"
   ]
  },
  {
   "cell_type": "code",
   "execution_count": null,
   "id": "7f304158",
   "metadata": {
    "slideshow": {
     "slide_type": "subslide"
    }
   },
   "outputs": [],
   "source": [
    "plot_semilog()"
   ]
  },
  {
   "cell_type": "markdown",
   "id": "5774b31d-4d6b-45c0-999e-acea8ccf631b",
   "metadata": {
    "slideshow": {
     "slide_type": "skip"
    }
   },
   "source": [
    "The two methods agree when there is a strong signal, but when the modal amplitude is weak, the `rfft` method gives less amplitude. As the mode number goes up, the `rfft` method still shows harmonics, while the \"pedestrian\" method gives a background amplitude that is too high to distinguish any harmonic past the 7th harmonic.\n",
    "\n",
    "Which method is more trustworthy? As of the time I am writing these notes, I have to definite proof, but I know that:\n",
    "\n",
    "* The `rfft` method is a tried-and-tested method, while my way to integrate was done a bit naively, it was the first thing to try, and I did;\n",
    "* These higher harmonics at $n=7$, $9$, and probably higher, are a real thing;\n",
    "* If you try to increase `ntT` (the number of points per oscillation period), you will see the even coefficients's magnitudes decrease in both methods, but more so in my own method. This indicates that my method might not be as precise as `rfft`.\n",
    "\n",
    "For these reasons, I trust the `rfft` method more than my own, and will use it from now on."
   ]
  },
  {
   "cell_type": "markdown",
   "id": "3170c728-7bd7-41d0-b938-116196152ab3",
   "metadata": {
    "slideshow": {
     "slide_type": "skip"
    }
   },
   "source": [
    "And what about the physics? We do see that the first harmonic dominates indeed, highlighting the fact that most of the energy is in the sinusoidal oscillation of period $T$.\n",
    "But there is more than just harmonic: every odd mode has some energy in it, and the amplitudes decay by what appears to be a constant factor each time: $|A_{n+2}| = \\rho|A_n|$, with $\\rho <1$.\n",
    "We can't know for sure if $\\gamma$ is constant except for this anecdotal piece of evidence, not without more work anyway, but the fact is that there is more than one harmonic."
   ]
  },
  {
   "cell_type": "markdown",
   "id": "7231b415-4862-4dd4-9b4d-b6968b348c1f",
   "metadata": {
    "slideshow": {
     "slide_type": "skip"
    }
   },
   "source": [
    "Can we know for sure that the existence of these harmonics is due to non-linear effects?\n",
    "After all, when we plucket a string, we had many harmonics superposing, and the dynamics were linear.\n",
    "One test you can do is take the code above and increase the degree of nonlinearity: try successively the values $\\Theta = \\pi/4$, $\\pi/2$, $2\\pi/3$, $3\\pi/4$, $0.99\\pi$... You should see the harmonics grow in importance, and this increment $\\rho$ become larger and closer to one.\n",
    "\n",
    "But we can also do a bit of elementary math to show that it is indeed the case for weakly non-linear oscillations, and therefore *a fortiori* for strongly non-linear ones."
   ]
  },
  {
   "cell_type": "markdown",
   "id": "294a948f",
   "metadata": {
    "slideshow": {
     "slide_type": "skip"
    }
   },
   "source": [
    "## Weakly nonlinear pendulum\n",
    "\n",
    "For small-but-not-too-small angles, we can expand the times series for the sine to two orders, i.e., $\\sin \\theta \\approx \\theta - \\theta^3/3!$, and the ODE becomes\n",
    "\\begin{equation}\n",
    "    \\ddot \\theta + \\omega_0^2 \\dot \\theta = - \\frac{\\omega_0^2}{6}\\theta^3,\n",
    "    \\label{eq:weakNLpendulum}\n",
    "\\end{equation}\n",
    "with the non-linear term purposely left on the RHS to make it look as if it is forcing the SHO.\n",
    "\n",
    "What is the frequency of that \"forcing\"?\n",
    "Let's make a first guess and assume that the whole thing oscillates at $\\omega =2\\pi/T$, but that it does so sinusoidally, which isn't too bad an assumption in the weakly non-linear case.\n",
    "That is, $\\theta \\approx \\Theta\\cos(\\omega t)$.\n",
    "In that case, the non-linear forcing is proportional to $\\cos^3\\omega t$, which is\n",
    "\\begin{align*}\n",
    "    \\cos^3 \\omega t & = \\left(\\frac{\\eexp{\\cplxi\\omega t} + \\eexp{-\\cplxi \\omega t}}{2}\\right)^3 \\\\\n",
    "                    & = \\frac18\\left(\\eexp{3\\cplxi\\omega t} + 3\\eexp{\\cplxi\\omega t} + 3\\eexp{-\\cplxi\\omega t}+e^{3\\cplxi\\omega t}\\right)\\\\\n",
    "                    & = \\frac{\\cos(3\\omega t) + 3\\cos(\\omega t)}4.\n",
    "\\end{align*}"
   ]
  },
  {
   "cell_type": "markdown",
   "id": "5047276c-7341-4e6c-8f94-9607c6a476bf",
   "metadata": {
    "slideshow": {
     "slide_type": "skip"
    }
   },
   "source": [
    "So, it's like the non-linear term takes in that signal at $\\omega$, and turns it in part into a forcing, oscillating at $3\\omega$.\n",
    "Recall that in the spectrum, we saw the frequencies $\\omega$ and $3\\omega$ first.\n",
    "This forcing is weak: its pre-factor is $\\Theta^3/6$, which is much smaller than the \"primary\"  amplitude $\\Theta$ if the non-linearity is weak ($\\Theta \\ll 1$), but it is there.\n",
    "\n",
    "Now, the LHS of equation \\eqref{eq:weakNLpendulum} responds to this forcing and develops an oscillation at $3\\omega$.\n",
    "A more accurate signal should then be $\\theta \\approx A_1\\cos\\omega t + A_3 \\cos(3\\omega t)$.\n",
    "But if you plug it back into the non-linear term $\\omega^2\\theta^3/6$, you will create more frequencies! Only frequencies that are odd though, which you can check by cubing the new $\\theta$[^2].\n",
    "So, you create $5\\omega$, $7\\omega$, and so on, just like we saw on the spectra above.\n",
    "But each time, this non-linear forcing is weaker, and the harmonics aren't as strong.\n",
    "\n",
    "This is true for weak non-linearity, but it must also be true for strong non-linearity.\n",
    "Indeed, as you add up more and more corrections in the Taylor expansion ($\\sin\\theta \\approx \\theta - \\theta^3/3! + \\theta^5/5! - \\theta^7/7!\\dots$), you can only create more and more occasions to create more and more frequencies.\n",
    "\n",
    "This is one fundamental feature of non-linear systems: **modes exchange energy**. \n",
    "We still have relations like $E = \\sum_{n=1}^\\infty E_n$ as for linearly coupled oscillators or waves, but in the linear case, we always had expressions of the type $E_n\\propto m\\omega_n^2 A_n^2$, where $\\omega_n$ and $A_n$ did not depend on what was going on in the other modes.\n",
    "Here, the big difference are that the frequencies depend on the amplitude via equation \\eqref{eq:TNL}, the $A_n$'s are not just proportional to $\\Theta$ anymore, and as a consequence,\" the $E_n$'s are not independent from one another. The amount of energy in each mode depends on how much energy there is in the other modes.\n",
    "For example, in our pendulum, how big $\\Theta^3$ was would influence how big $\\rho$ (the one from $|A_{n+2}|  =\\rho|A_n|$) was.\n",
    "\n",
    "[^2]: it is informative to do this sort of exercise once in your life. To do it a second time would be somewhat silly."
   ]
  },
  {
   "cell_type": "markdown",
   "id": "7170178c-f7ce-4567-ba1a-bce84c3bca65",
   "metadata": {
    "slideshow": {
     "slide_type": "skip"
    }
   },
   "source": [
    "# Non-linear waves\n",
    "\n",
    "Waves can also become nonlinear. In fact, before you took any physics class, and probably still today depending on your state of mind, the word \"wave\" probably evoked large overturning rolls on a beach, and maybe a surfer or two on it.\n",
    "Waves like those are as non-linear as it gets, and very far from a good ol' sinusoidal motion.\n",
    "\n",
    "Their mathematical description is excruciatingly complicated at our level, so we will stick to a qualitative description of a few famous results."
   ]
  },
  {
   "cell_type": "markdown",
   "id": "0e0d3aab-c61c-459e-8797-277a0cdc789f",
   "metadata": {
    "slideshow": {
     "slide_type": "skip"
    }
   },
   "source": [
    "## The Fermi-Pasta-Ulam-Tsingou (FPUT) experiment\n",
    "\n",
    "*This famous historical experiment was formerly called the \"Fermi-Pasta-Ulam\" experiment, until calls to rename the experiment were made in 2008. Tsingou was a programmer, whose gender I will let you guess.*\n",
    "\n",
    "Waves, like simple oscillations, are subjected to the same effects as simple oscillations: a non-linear superposition of waves will lead to interactions between them, energy exchanges, and unpredictable behaviour.\n",
    "In many cases, the dynamics becomes a mess: the system is expected to \"thermalize\", i.e., if the energy is initialized in a given mode with some coupling between the modes, and if one waits long enough, non-linear effects should spread the energy in all the modes.\n",
    "\n",
    "This was a thought experiment until the advent of computers.\n",
    "In the 1950's, FPU & T decided to test their brand-new computer, the Mathematical Analyzer Numerical Integrator and Automatic Computer Model I (MANIAC I), located in what I imagine was an entire room at the Los Alamos Scientific Laboratory.\n",
    "They needed a really hard problem, and they settled on computing the motion of a chain of masses, coupled by springs, with one simulation including a quadratic non-linearity, and the other a cubic non-linearity.\n",
    "And because they really wanted to make a splash, they decided to couple a whopping 64 masses together (imagine that!).\n",
    "\n",
    "This is widely considered to be the very first numerical simulation ever. Before, computers were used to compute numbers, output the results of complicated formulas, for artillery calculations for example. This on the other hand was the first time, scientists asked the question: \"What if I asked a computer to give me the solution to a problem whose outcome I cannot predict?\""
   ]
  },
  {
   "cell_type": "markdown",
   "id": "b6209d63-e819-4f48-9ebb-d60b32ff313c",
   "metadata": {
    "slideshow": {
     "slide_type": "skip"
    }
   },
   "source": [
    "So, the simulation with the quadratic non-linearity solved the system of equations\n",
    "\\begin{equation}\n",
    "    \\ddot y_n = y_{n+1} - 2y_n + y_{n-1} + \\alpha\\left[(y_{n+1} - y_n)^2 + (y_n-y_{n-1})^2\\right],\n",
    "    \\label{eq:FPUTquadratic}\n",
    "\\end{equation}\n",
    "with $\\alpha$ a small number controlling the degree of non-linearity, and the experiment with the cubic non-linearity was solved for \n",
    "$$\\ddot y_n = y_{n+1} - 2y_n + y_{n-1} + \\beta\\left[(y_{n+1} - y_n)^3 + (y_n-y_{n-1})^3\\right],$$\n",
    "with $\\beta$ also controlling the degree of non-linearity."
   ]
  },
  {
   "cell_type": "markdown",
   "id": "b9baf7cf-d5de-4399-a9e1-86c1895428c7",
   "metadata": {
    "slideshow": {
     "slide_type": "skip"
    }
   },
   "source": [
    "I have never tried coding this experiment, and there are repos online where you will find Python implementations of it. I suspect that it isn't hard, but I will simply show you the output, taken directly from Wikipedia (https://commons.wikimedia.org/wiki/File:Fermi%E2%80%93Pasta%E2%80%93Ulam%E2%80%93Tsingou_recurrence.gif; Author: Jacopo Bertolotti, CC0, via Wikimedia Commons)."
   ]
  },
  {
   "cell_type": "markdown",
   "id": "eec62a2c-50af-410f-a9c2-b2f750d540c7",
   "metadata": {
    "slideshow": {
     "slide_type": "slide"
    }
   },
   "source": [
    "![](Fermi–Pasta–Ulam–Tsingou_recurrence.gif)"
   ]
  },
  {
   "cell_type": "markdown",
   "id": "b30d107f-6c9d-4896-bb9b-50d35900ec82",
   "metadata": {
    "slideshow": {
     "slide_type": "skip"
    }
   },
   "source": [
    "So, here you clearly see the difference between linear and non-linear: in the linear case, the energy stays in the first harmonic, while in the non-linear case, the energy spreads to other modes.\n",
    "\n",
    "But what was really surprising was that the energy just didn't stay in these modes, or didn't keep moving from mode to mode somewhat unpredictably: periodically, the energy would gather back into the first harmonic, and the cycle would repeat.\n",
    "\n",
    "Another surprising thing was the propagating structures that would develop a little bit after the simulation started: the oscillation would become asymmetric, and would look like a steep front, followed by a long tail.\n",
    "And a little bit after that, secondary bumps would develop.\n",
    "\n",
    "It took about a decade before people made headways into understanding this problem.\n",
    "First, Kruskal & Zabusky made the connection with the Korteweg-de Vries equation, which was famous for surface water waves and had been solved in the late 1890's.\n",
    "Then, the number of \"sub-bumps\" and their amplitude was solved entirely by Miura in 1968.\n",
    "These bumps were then called \"solitons\", because in an infinite domain, they would propagate as isolated bumps, like a wavelength who got separated from the others."
   ]
  },
  {
   "cell_type": "markdown",
   "id": "f9365c01-c943-4001-b867-b462f18eb087",
   "metadata": {
    "slideshow": {
     "slide_type": "skip"
    }
   },
   "source": [
    "## Surface Water solitons\n",
    "\n",
    "Essentially, a soliton is the result of two competing effects: nonlinear effects and wave dispersion. These effects are in general completely different from one another, and that there are situations in which they can perfectly balance is one of the many \"miracles\" of non-linear science.\n",
    "Let's see how it happens for surface water waves, first with a couple of movies (https://youtu.be/hfc3IL9gAts and https://youtu.be/w-oDnvbV8mY)."
   ]
  },
  {
   "cell_type": "code",
   "execution_count": null,
   "id": "ce2d790c-c7e3-4b98-abd9-e62e26d487b9",
   "metadata": {
    "slideshow": {
     "slide_type": "subslide"
    }
   },
   "outputs": [],
   "source": [
    "YouTubeVideo('hfc3IL9gAts')"
   ]
  },
  {
   "cell_type": "code",
   "execution_count": null,
   "id": "d9bd9aba-7c67-47f8-800d-519b77fde721",
   "metadata": {
    "scrolled": true,
    "slideshow": {
     "slide_type": "subslide"
    }
   },
   "outputs": [],
   "source": [
    "YouTubeVideo('w-oDnvbV8mY')"
   ]
  },
  {
   "cell_type": "markdown",
   "id": "1e276458-37dc-4839-8813-fa6bf7b77f80",
   "metadata": {
    "slideshow": {
     "slide_type": "skip"
    }
   },
   "source": [
    "You have probably seen those yourself, because they happen very frequently on shallow beaches (you just need to know what you're looking for).\n",
    "I showed a picture that I took myself during the first lecture, see below for a reminder and a few more."
   ]
  },
  {
   "cell_type": "markdown",
   "id": "c5c53014-7cf0-46e7-999c-5bda0d2ce6ec",
   "metadata": {
    "slideshow": {
     "slide_type": "subslide"
    }
   },
   "source": [
    "![](020_P1020338.jpg)"
   ]
  },
  {
   "cell_type": "markdown",
   "id": "1f88f64c-a8c3-4522-82a3-446c6c8f4ce8",
   "metadata": {
    "slideshow": {
     "slide_type": "subslide"
    }
   },
   "source": [
    "![](016_Solitons.jpg)"
   ]
  },
  {
   "cell_type": "markdown",
   "id": "91319d54-3405-476e-80a2-f5d4f082c032",
   "metadata": {
    "slideshow": {
     "slide_type": "subslide"
    }
   },
   "source": [
    "There are also a few pretty pictures on this Wikipedia page: https://en.wikipedia.org/wiki/Cnoidal_wave"
   ]
  },
  {
   "cell_type": "markdown",
   "id": "884a8080-73aa-4a48-8412-6889cee5d88f",
   "metadata": {
    "slideshow": {
     "slide_type": "skip"
    }
   },
   "source": [
    "We don't really see \"sub-bumps\" in those pictures.\n",
    "Below are pictures, taken by the Japanese satellite HIMAWARI-8, animated to reveal propagation patterns of sub-surface waves that show this ordered ranking of \"sub-solitons\"."
   ]
  },
  {
   "cell_type": "markdown",
   "id": "46e4c7c2-3f5e-40bd-a8a0-523deb4d8667",
   "metadata": {
    "slideshow": {
     "slide_type": "subslide"
    }
   },
   "source": [
    "![](ISHIM8.gif)"
   ]
  },
  {
   "cell_type": "markdown",
   "id": "fecc8fa1-250a-4118-8cd0-aebfbdd28696",
   "metadata": {
    "slideshow": {
     "slide_type": "skip"
    }
   },
   "source": [
    "Below is a video I did myself a long time ago (Hornetal.mp4), that shows this kind of wave between two layers of water of different densities.\n",
    "\n",
    "It is remarkable how those waves are similar to some of the oscillations FPUT saw."
   ]
  },
  {
   "cell_type": "code",
   "execution_count": null,
   "id": "e0d0152d-bd94-431c-b4df-afe4aed38e0a",
   "metadata": {
    "slideshow": {
     "slide_type": "subslide"
    }
   },
   "outputs": [],
   "source": [
    "Video(\"Hornetal.mp4\")"
   ]
  },
  {
   "cell_type": "markdown",
   "id": "8a1037af-2fbe-47a9-9887-a49437404444",
   "metadata": {
    "slideshow": {
     "slide_type": "skip"
    }
   },
   "source": [
    "If one were to apply a continuum approximation to equation \\eqref{eq:FPUTquadratic} (cf. https://en.wikipedia.org/wiki/Fermi–Pasta–Ulam–Tsingou_problem#Connection_to_the_KdV_equation for a summary of the derivation), one would end up with the Korteweg-de Vries (KdV) equation.\n",
    "In its canonical form, it is not obvious which term does what, so instead, I will write the form it takes for long surface gravity waves on a fluid of depth $h$.\n",
    "It is valid when the waves are \n",
    "\n",
    "* weakly non-linear (which happens when the surface elevation $y$ is much less than the depth $h$, while not vanishingly small), and\n",
    "* when the waves are weakly dispersive. Very long waves ($\\lambda \\gg h$, such as tsunamis or swell) are non-dispersive, their phase speed is $v=\\sqrt{gh}$. But when the wavelength is much longer than the depth, but not infinitely longer, then weak dispersion sets in. Like in tutorial 10 for deep-water gravity waves, longer waves propagate (a little) faster than shorter waves."
   ]
  },
  {
   "cell_type": "markdown",
   "id": "7b235c87",
   "metadata": {
    "slideshow": {
     "slide_type": "skip"
    }
   },
   "source": [
    "For such waves, the KdV equation reads\n",
    "$$\\underbrace{\\frac{1}{v}\\pde{y}t + \\pde{y}x}_{\\text{linear, non-disp.}} + \\underbrace{\\frac{3}{2h}y\\pde{y}x}_{\\text{non-lin.}} + \\underbrace{\\frac{h^6}6\\pden3yx}_{\\text{disp.}} = 0.$$"
   ]
  },
  {
   "cell_type": "markdown",
   "id": "aaf0632d-f154-44ba-9dff-026d7de95a5c",
   "metadata": {
    "slideshow": {
     "slide_type": "skip"
    }
   },
   "source": [
    "Oof! I just wrote it because it is kind of famous, not for you to remember or even understand how it works by looking at it. But we can see that there is:\n",
    "\n",
    "* a linear, non-dispersive propagation operator. It only works for rightward-propagating waves; any function that can be written $y(x-vt)$ will satisfy it, but not $y(x+vt)$.\n",
    "* a non-linear term $(3/2h)y\\pdel yx$, and\n",
    "* a dispersive term $(h^6/6)\\partial^3_x y$. As mentioned above, it makes longer waves travel faster than shorter waves. Don't worry if you can't see it on the equation: no-one can. People know it because they've stared at this equation and its solutions for much longer than we have.\n",
    "\n",
    "What follows is a usual, hand-wavy explanation of the phenomenology of these waves.\n",
    "The explanation is super-dodgy, very unrigorous, has a lot of holes, but it does says what each term does, qualitatively. Anything more rigorous would have me fill pages and pages of calculations.\n",
    "\n",
    "* The linear, non-dispersive phase speed is $\\sqrt{gh}$, meaning that a wave over a deeper ocean travels faster than a wave over a deeper ocean. So, at the crest of the wave, the water is locally deeper, and therefore the crest travels faster than the rest of the wave: it steepens. Note that the KdV equation without the dispersive term is called Burger's equation, and it is *the* equation that models shock waves. This behaviour is why waves on a beach overturn: because the depth keeps decreasing as a wave approaches a short, the non-linearity keeps increasing, and the front of the wave becomes so steep that it overturns.\n",
    "* But then as the wave steepens, the back of the wave becomes longer, and the front of the wave becomes shorter. Dispersion kicks in, the longer back-of-the-wave now travels a bit faster and catches up with the shorter front-of-the-wave, which now travels more slowly.\n",
    "\n",
    "In the end, if the conditions are right, some sort of competitive equilibrium establishes itself.\n",
    "Below is my modest attempt to sketch what is going on.\n",
    "It is upside-down because when I created it, I was then trying to explain the red-and-blue simulation I showed earlier, which had the crests pointing down.\n",
    "It works the same for surface waves, only with crests pointing up.\n",
    "Do not attempt to understand this behaviour beyond this qualitative description!"
   ]
  },
  {
   "cell_type": "markdown",
   "id": "18e41e97-29da-4a77-9ef8-66dd1b5f3688",
   "metadata": {
    "slideshow": {
     "slide_type": "subslide"
    }
   },
   "source": [
    "![My own qualitative explanation of how water solitons form](KdV_behavior.pdf)"
   ]
  },
  {
   "cell_type": "markdown",
   "id": "088b4394-81c8-45a9-bb55-457717c5f146",
   "metadata": {
    "slideshow": {
     "slide_type": "skip"
    }
   },
   "source": [
    "This equation has all sorts of solutions, but the soliton solution is\n",
    "$$y(x, t) = \\frac{y_0}{\\cosh^2\\left\\{\\frac{\\sqrt{3y_0/h}}{2h}\\left[x-V(y_0)t\\right]\\right\\}}, \\with V(y_0) = \\left(1+\\frac{y_0}{2h}\\right)v,$$\n",
    "where $y_0$ is the height of the bump.\n",
    "Again, it is a bit too intense to tackle head on, but let me point out two notable facts:\n",
    "\n",
    "* the general shape of this solution is plotted below. It does look like the pictures.\n",
    "* the velocity is $V(y_0)$, and it depends on the height of the bump. Similarly to the period depending on the amplitude of the non-linear pendulum, the speed of a non-linear wave depends on its amplitude. In this case, a taller wave travels faster than a shorter wave."
   ]
  },
  {
   "cell_type": "markdown",
   "id": "b5078344-ebe7-4330-a764-105529ed2302",
   "metadata": {
    "slideshow": {
     "slide_type": "subslide"
    }
   },
   "source": [
    "![](sech2.png)"
   ]
  },
  {
   "cell_type": "markdown",
   "id": "60c8c6fc-8f64-4b63-a4fb-5fec462ddb3a",
   "metadata": {
    "slideshow": {
     "slide_type": "fragment"
    }
   },
   "source": [
    "And who knows, you may see this wave sooner than you think: https://www.physics.utoronto.ca/~phy326/sol/"
   ]
  },
  {
   "cell_type": "markdown",
   "id": "78e99397-c5cd-44ee-bb1b-db8f299ae9a0",
   "metadata": {
    "slideshow": {
     "slide_type": "subslide"
    }
   },
   "source": [
    "I will conclude about this class of dispersive-nonlinear waves by mentioning what is arguably (and subjectively) their most spectacular family member: the **Morning Glory cloud**. The most famous happens in northern Australia, but it has been observed over Canada, and I have a suspicion  that my neighbour filmed a small one last year from her balcony (https://vimeo.com/456635595 at around 15s)."
   ]
  },
  {
   "cell_type": "code",
   "execution_count": null,
   "id": "0aa9f388-9585-49b1-8772-d0dd7b6093c4",
   "metadata": {
    "slideshow": {
     "slide_type": "subslide"
    }
   },
   "outputs": [],
   "source": [
    "%%html\n",
    "<div style=\"padding:56.25% 0 0 0;position:relative;\"><iframe src=\"https://player.vimeo.com/video/456635595?badge=0&amp;autopause=0&amp;player_id=0&amp;app_id=58479\" frameborder=\"0\" allow=\"autoplay; fullscreen; picture-in-picture\" allowfullscreen style=\"position:absolute;top:0;left:0;width:100%;height:100%;\" title=\"Summer Storm (Toronto, ON)\"></iframe></div><script src=\"https://player.vimeo.com/api/player.js\"></script>"
   ]
  },
  {
   "cell_type": "markdown",
   "id": "b088e833",
   "metadata": {
    "slideshow": {
     "slide_type": "subslide"
    }
   },
   "source": [
    "## Nonlinear Schrödinger equation (NLSE)"
   ]
  },
  {
   "cell_type": "markdown",
   "id": "38d937cb-5d17-41b9-b43a-ae0578dc677e",
   "metadata": {
    "slideshow": {
     "slide_type": "skip"
    }
   },
   "source": [
    "Just a few words on this one: even though looking up \"solitons\" online will mostly bring up pictures of waves on water, the class of solitons that are solution of the NLSE are actually the most studied. One of the big explanations are the engineering applications: optical fibers are very dispersive media. Any linear signal sent through them would end up being completely distorted after some time. That's why it is actually non-linear waves that are being sent, in the form of tiny solitons, one after the other.\n",
    "Because solitons don't change shape ever, the information remains perfectly intact over any propagation distance.\n",
    "These solitons also occur in plasmas, Bose-Einstein condensates, all sorts of condensed-matter systems, and they have been investigated as a possible explanation for rogue vagues in the ocean.\n",
    "\n",
    "They look different than KdV solitons: the envelope is the soliton and it can also be a $1/\\cosh^2$ function, but the phase propagates inside, see below.\n",
    "Unlike KdV solitons, NLS solitons are *strongly-dispersive* solitons.\n",
    "I tried to find prettier pictures, but they just aren't as pretty. I will let you do this search for yourselves."
   ]
  },
  {
   "cell_type": "markdown",
   "id": "6e90bb18",
   "metadata": {},
   "source": [
    "![Kraaiennest, CC BY-SA 4.0 <https://creativecommons.org/licenses/by-sa/4.0>, via Wikimedia Commons](Sech_soliton.png)"
   ]
  },
  {
   "cell_type": "markdown",
   "id": "6687d70c",
   "metadata": {
    "slideshow": {
     "slide_type": "subslide"
    }
   },
   "source": [
    "## Torsional solitons"
   ]
  },
  {
   "cell_type": "markdown",
   "id": "50003484-f396-4257-8249-2cb8aeebd90b",
   "metadata": {
    "slideshow": {
     "slide_type": "skip"
    }
   },
   "source": [
    "OK, one last one.\n",
    "Remember the Klein-Gordon equation of homework 5? Of course you do, it was due today.\n",
    "A chain of pendulums was coupled together by torsional springs, and after linearization, you had found the Klein-Gordon equation.\n",
    "\n",
    "Well, let's not linearize, not even a little: the equation\n",
    "$$\\pden{2}{\\theta}x - \\frac{1}{v^2}\\pden2{\\theta}t = k_0^2\\sin\\theta$$\n",
    "is called the \"sine-Gordon\" equation, as a nod and a wink to the Klein-Gordon equation.\n",
    "And it does have soliton solutions!\n",
    "To create one, take one end of the chain, give it a rotation angle of $2\\pi$, i.e., flip the pendulum there completely on itself: the next pendulum swings by $2\\pi$ with a delay, and the next, and the next... The rotation propagates like a wave, and that wave never changes shape.\n",
    "\n",
    "Videos are surprisingly hard to come by. The Wikipedia page (https://en.wikipedia.org/wiki/Sine-Gordon_equation) has a few examples, and I like the one below (https://vimeo.com/35462854)."
   ]
  },
  {
   "cell_type": "code",
   "execution_count": null,
   "id": "8127323d-d154-433d-bf95-10f6bff47225",
   "metadata": {
    "slideshow": {
     "slide_type": "subslide"
    }
   },
   "outputs": [],
   "source": [
    "%%html\n",
    "<iframe src=\"https://player.vimeo.com/video/35462854\" width=\"640\" height=\"480\" frameborder=\"0\" allow=\"autoplay; fullscreen; picture-in-picture\" allowfullscreen></iframe>\n",
    "<p><a href=\"https://vimeo.com/35462854\">Solitons - kink and anti-kink collisions</a> from <a href=\"https://vimeo.com/kangaroo3d\">Daniel Piker</a> on <a href=\"https://vimeo.com\">Vimeo</a>.</p>"
   ]
  },
  {
   "cell_type": "markdown",
   "id": "a3ad45b7-bce5-47e0-98a7-45a28cdb9d2a",
   "metadata": {
    "slideshow": {
     "slide_type": "skip"
    }
   },
   "source": [
    "The soliton solutions (one for each direction of propagation, also called kink and anti-kink) to this equation are\n",
    "$$\\theta = 4\\arctan\\left(\\eexp{\\pm \\gamma s}\\right), \\with s = k_0\\left(x-vt\\right),\\quad \\gamma = \\frac1{\\sqrt{1-\\beta^2}} \\andeq \\beta = \\frac{v}{v_0}.$$\n",
    "The speed $v$ is constant in this equation and if you recall, $v_0 = \\omega_0/k_0$.\n",
    "\n",
    "If those equations remind you of the Lorentz transform in special relativity, that's because it should: this chain of pendulums does work a little like the equations of SR.\n",
    "Here, the soliton travels at speed $v$, which depends on how fast (i.e., non-linearly) the rotation happens, via the parameter $\\gamma$.\n",
    "I plot two versions below, one for $\\beta=0.1$ (slow rotation) and one for $\\beta=0.99$ (rotation so fast, the disturbance propagates at almost the maximum velocity $v_0$)."
   ]
  },
  {
   "cell_type": "code",
   "execution_count": null,
   "id": "a0933327",
   "metadata": {
    "slideshow": {
     "slide_type": "subslide"
    }
   },
   "outputs": [],
   "source": [
    "def s(t, x, v, k0):\n",
    "    return k0*(x - v*t)\n",
    "\n",
    "\n",
    "def theta(gamma, sval):\n",
    "    return 4*np.arctan(np.exp(-gamma*sval))/pi\n",
    "\n",
    "\n",
    "def gamma(beta):\n",
    "    return 1/np.sqrt(1-beta**2)\n",
    "    \n",
    "\n",
    "L = 200\n",
    "x = np.linspace(0., L, 256)\n",
    "v0 = 10.\n",
    "k0 = omega0/v0\n",
    "v1 = 0.1*v0  # first experiment\n",
    "v2 = 0.99*v0  # second experiment\n",
    "\n",
    "linestyles = ['-', '--', '-.', ':']"
   ]
  },
  {
   "cell_type": "code",
   "execution_count": null,
   "id": "3d48c01e-4577-44fb-9fb4-48fb1d188a48",
   "metadata": {
    "slideshow": {
     "slide_type": "subslide"
    }
   },
   "outputs": [],
   "source": [
    "def plot_kinks():\n",
    "    for ii, time in enumerate([-10., 0., 10., 20.]):\n",
    "        plt.plot(x, theta(gamma(v1/v0), s(time, x, v1, k0)),\n",
    "                 'b', linestyle=linestyles[ii],\n",
    "                 label=r'$\\beta = {0:.1f}$, $t = {1}$'.format(v1/v0, time))\n",
    "        plt.plot(x, theta(gamma(v2/v0), s(time, x, v2, k0)),\n",
    "                 'r', linestyle=linestyles[ii],\n",
    "                 label=r'$\\beta = {0:.1f}$, $t = {1}$'.format(v2/v0, time))\n",
    "\n",
    "    plt.grid()\n",
    "    plt.xlabel('$x$')\n",
    "    plt.ylabel(r'$\\theta/\\pi$')\n",
    "    plt.legend()\n",
    "    plt.show()\n",
    "    \n",
    "    return"
   ]
  },
  {
   "cell_type": "code",
   "execution_count": null,
   "id": "787ff58d-5c37-42b9-ae1d-6278ae1e7412",
   "metadata": {
    "slideshow": {
     "slide_type": "subslide"
    }
   },
   "outputs": [],
   "source": [
    "plot_kinks()"
   ]
  },
  {
   "cell_type": "markdown",
   "id": "5fadec10-2c32-4416-ba0d-1e09d4bcd5c8",
   "metadata": {
    "slideshow": {
     "slide_type": "skip"
    }
   },
   "source": [
    "Above, we see that the red curves, for which we flipped the pendulum faster, propagate faster, their slope is steeper. In other words, their width is proportional to $\\gamma^{-1}$ (length contraction)."
   ]
  },
  {
   "cell_type": "markdown",
   "id": "13ae9d00",
   "metadata": {
    "slideshow": {
     "slide_type": "skip"
    }
   },
   "source": [
    "# The damped, driven pendulum (DDP)\n",
    "\n",
    "The non-linear oscillations I just showed were all well-behaved, in a way: we had solutions with closed expressions, and their form was predictable over time.\n",
    "Often with non-linear systems though, predictability is not guaranteed, and we often encounter what physicists call \"chaos\". We will talk more about it in the next lecture, but in the mean time, let's study the simplest system, one could think of, that exhibits chaos.\n",
    "\n",
    "That is, let's go back to our non-linear pendulum, and tweak it so that it is now (lightly) damped and driven at angular frequency $\\omega_d$ (NOT the damped pseudo-frequency of lecture 4; I am redefining $\\omega_d$ to be the driving frequency, because I will need to keep $\\omega$ as a free variable).\n",
    "The equation of motion becomes for the damped, driven (DDP) pendulum becomes\n",
    "$$\\ddot \\theta + 2\\gamma \\dot \\theta + \\omega_0^2\\sin\\theta = \\omega_0^2 \\beta \\cos(\\omega_d t),$$\n",
    "with $\\beta$ some measure of how hard we drive it.\n",
    "\n",
    "Before analyzing this system further, let's code it up and see what it does.\n",
    "I will use the notation $T_d = 2\\pi/\\omega_d$ for the driving period."
   ]
  },
  {
   "cell_type": "markdown",
   "id": "6fe2b383-6056-4531-8137-e98252cfaab7",
   "metadata": {
    "slideshow": {
     "slide_type": "skip"
    }
   },
   "source": [
    "In a first time, I will plot three types of plots:\n",
    "\n",
    "* regular time series, $\\theta/pi$ as a function of $t/T_d$,\n",
    "* $(\\theta/\\pi, \\dot \\theta/(\\pi\\omega_d))$ phase plots (phase trajectories in red, potential energy in faint shades),\n",
    "* $\\theta_n(\\omega)$ spectra."
   ]
  },
  {
   "cell_type": "code",
   "execution_count": null,
   "id": "47689ed1",
   "metadata": {
    "slideshow": {
     "slide_type": "slide"
    }
   },
   "outputs": [],
   "source": [
    "omegad = 2*omega0/3  # driving frequency\n",
    "Td = 2*pi/omegad  # driving period\n",
    "gamma = omega0/4  # damping\n",
    "ntTd = 500  # number of time steps per driving period"
   ]
  },
  {
   "cell_type": "code",
   "execution_count": null,
   "id": "260a0352",
   "metadata": {
    "slideshow": {
     "slide_type": "fragment"
    }
   },
   "outputs": [],
   "source": [
    "dt = Td/ntTd  # time step\n",
    "num_cycles = 40  # number of dirving periods\n",
    "t_end = num_cycles*Td  # final time\n",
    "nt = ntTd*num_cycles  # number of time steps\n",
    "\n",
    "time = np.arange(0., t_end, dt)  # initialize the time array"
   ]
  },
  {
   "cell_type": "code",
   "execution_count": null,
   "id": "7bb6ec80",
   "metadata": {
    "slideshow": {
     "slide_type": "fragment"
    }
   },
   "outputs": [],
   "source": [
    "theta0 = -pi/2  # initial angle\n",
    "dottheta0 = 0.0  # initial angular velocity"
   ]
  },
  {
   "cell_type": "code",
   "execution_count": null,
   "id": "c680062c",
   "metadata": {
    "slideshow": {
     "slide_type": "subslide"
    }
   },
   "outputs": [],
   "source": [
    "# function that returns theta acceleration accounting for gravity, forcing, damping\n",
    "def ddtheta_ddp(th, dth, wd, w0, g, t, b):\n",
    "    \"\"\" returns theta acceleration accounting for natural frequency w0, \n",
    "    forcing frequency w and amplitude b, damping g, system state th and dth \"\"\"\n",
    "    return -w0**2 * np.sin(th) - 2*g*dth + b*omega0**2*np.cos(wd*t)"
   ]
  },
  {
   "cell_type": "code",
   "execution_count": null,
   "id": "a7680a69",
   "metadata": {
    "slideshow": {
     "slide_type": "fragment"
    }
   },
   "outputs": [],
   "source": [
    "def generate_time_series(th0, dth0, wd, w0, b, g, t):\n",
    "    \"\"\" Generate theta and dtheta/dt with the Euler-Cromer method\n",
    "    th0 = initial angle,\n",
    "    dth0 = initial angular velocity,\n",
    "    wd = driving frequency\n",
    "    w0 = natural oscillation frequency\n",
    "    t = time array\n",
    "    b = driving amplitude\n",
    "    g = damping coefficient \"\"\"\n",
    "    dt = t[1] - t[0]  # time step\n",
    "    th = 0*t  # initialize theta array\n",
    "    th[0] = th0  # initial angle\n",
    "    dth = 0*t  # initialize dtheta/dt\n",
    "    dth[0] = dth0  # initial angular velocity\n",
    "    for i in range(0, len(t)-1):\n",
    "        # First, update dtheta/dt\n",
    "        dth[i+1] = dth[i] + dt*ddtheta_ddp(th[i], dth[i], wd, w0, g, t[i], b)\n",
    "        # Second, use updated dtheta/dt to update theta\n",
    "        th[i+1] = th[i] + dt*dth[i+1]\n",
    "    \n",
    "    return th, dth"
   ]
  },
  {
   "cell_type": "code",
   "execution_count": null,
   "id": "3e9f0946",
   "metadata": {
    "slideshow": {
     "slide_type": "subslide"
    }
   },
   "outputs": [],
   "source": [
    "beta = 0.2  # driving amplitude = F0/(m L omega0**2) with F0 driving torque\n",
    "theta, dottheta = generate_time_series(\n",
    "    theta0, dottheta0, omegad, omega0, beta, gamma, time)"
   ]
  },
  {
   "cell_type": "code",
   "execution_count": null,
   "id": "ff96f3f0",
   "metadata": {
    "slideshow": {
     "slide_type": "subslide"
    }
   },
   "outputs": [],
   "source": [
    "def plot_TS_ddp(th, dth, wd, w0, b, g, t, ftsz, tmin):\n",
    "    \"\"\"plot time series of th. t must be time/Td, ftsz is font size,\n",
    "    tmin is the minimum (might need to ged rid of initial transient) \"\"\"\n",
    "    t_plot = t[t>=tmin]  # new array, only for times t>=tmin\n",
    "    th_plot = th[t>=tmin]/pi  # idem for theta; plus, we scale by pi\n",
    "    dth_plot = dth[t>=tmin]/pi/wd  # idem for dtheta/dt; plus, we scale by wd*pi\n",
    "    \n",
    "    plt.subplot(2, 1, 1)\n",
    "    plt.plot(t_plot, th_plot)\n",
    "    plt.grid()\n",
    "    plt.xlabel(r\"$t/T_d$\", fontsize=ftsz)\n",
    "    plt.ylabel(r\"$\\theta/\\pi$\", fontsize=ftsz)\n",
    "    plt.xlim(t_plot[0], t_plot[-1])\n",
    "    \n",
    "    plt.subplot(2, 1, 2)\n",
    "    plt.plot(t_plot, dth_plot)\n",
    "    plt.grid()\n",
    "    plt.xlabel(r\"$t/T_d$\", fontsize=ftsz)\n",
    "    plt.ylabel(r\"$\\dot\\theta/(\\pi\\omega_d)$\", fontsize=ftsz)\n",
    "    plt.xlim(t_plot[0], t_plot[-1])\n",
    "    \n",
    "    plt.suptitle(r\"Time series for $\\omega_0/\\omega_d = {0:.2f}$, $Q = {1:.2f}$, $\\beta = {2:.2f}$\"\n",
    "              .format(w0/wd, w0/g, b), fontsize=ftsz)\n",
    "    plt.tight_layout()\n",
    "    plt.show()"
   ]
  },
  {
   "cell_type": "code",
   "execution_count": null,
   "id": "71300290",
   "metadata": {
    "slideshow": {
     "slide_type": "subslide"
    }
   },
   "outputs": [],
   "source": [
    "plot_TS_ddp(theta, dottheta, omegad, omega0, beta, gamma, time/Td, ftsz, tmin=4.)"
   ]
  },
  {
   "cell_type": "markdown",
   "id": "af796900",
   "metadata": {
    "slideshow": {
     "slide_type": "skip"
    }
   },
   "source": [
    "So, there is a transient at the beginning.\n",
    "It is short-ish because we have quite a bit of damping: $Q=4$, technically in the weakly-damped regime, but low enough that a free oscillation decays after a only handful of oscillations.\n",
    "Setting `tmin=4` ($t_{min} = 4\\tau$ in seconds) in the time series should crop this initial transient and leave only the steady regime, and `t_min=35` should display only the last 5 driving periods. (I have not implemented this for the phase plot, I like seeing the transient there)"
   ]
  },
  {
   "cell_type": "code",
   "execution_count": null,
   "id": "b691640a",
   "metadata": {
    "slideshow": {
     "slide_type": "subslide"
    }
   },
   "outputs": [],
   "source": [
    "def plot_phase_ddp(th, dth, wd, w0, b, g, t, ftsz, nconts):\n",
    "    \"\"\" draw phase plot; th is theta, dth is dtheta/dt, nconts is number of contours for U \"\"\"\n",
    "    # First, we plot the potential energy in the background\n",
    "    thm = min(min(th)/pi, -1)  # lower x limit; \n",
    "    thM = max(max(th)/pi, +1)  # upper x-limit\n",
    "    dthM = 1.1*max(abs(dth))/pi/wd  # y-limit; symmetric around zero\n",
    "    th_lin = np.linspace(thm, thM, 512)\n",
    "    dth_lin = np.linspace(-dthM, dthM, 64)\n",
    "    thg, dthg = np.meshgrid(th_lin*pi, dth_lin*pi*wd)\n",
    "    Ug = 0.5 * dthg**2 + w0**2 * (1-np.cos(thg))  # not the right units; only want the shape\n",
    "    plt.contourf(thg/pi, dthg/pi/wd, Ug, nconts, alpha=0.1)  # alpha controls transparency\n",
    "    \n",
    "    # Then we plot the phase trajectory\n",
    "    # plt.plot(th/pi, dth/pi/wd, 'r.', markersize=2)\n",
    "    plt.scatter(th/pi, dth/pi/wd, c=t, cmap='copper_r', s=1.0)  # c=t means color-coded by t; s is size\n",
    "    plt.ylabel(r'$\\dot\\theta/(\\pi\\omega_d)$ [rad/s]')\n",
    "    plt.xlabel(r'$\\theta/\\pi$')\n",
    "    plt.title(r\"$\\phi$-plot for $\\omega_0/\\omega_d = {0:.2f}$, $Q = {1:.2f}$, $\\beta = {2:.2f}$\"\n",
    "              .format(w0/wd, w0/g, b), fontsize=ftsz)\n",
    "    # plt.axis(xmin=-1, xmax=1)\n",
    "    plt.tight_layout()\n",
    "    plt.show()\n",
    "    return"
   ]
  },
  {
   "cell_type": "code",
   "execution_count": null,
   "id": "5a551a22",
   "metadata": {
    "slideshow": {
     "slide_type": "subslide"
    }
   },
   "outputs": [],
   "source": [
    "plot_phase_ddp(theta, dottheta, omegad, omega0, beta, gamma, time/Td, ftsz, nconts=64)"
   ]
  },
  {
   "cell_type": "markdown",
   "id": "4831d63d",
   "metadata": {
    "slideshow": {
     "slide_type": "skip"
    }
   },
   "source": [
    "After a while, we reach a steady-state in which our phase space shows only an ellipse-like trajectory (the light orange trajectory in the centre).\n",
    "Note that the steady-state phase plot does not exactly follow iso-$U$ contours, the ellipse is slightly flatter: the pendulum gains energy when the the driving work is positive, loses energy when the driving work is negative and/or damping removes energy.\n",
    "We therefore say that this system has an **attractor** (since the trajectory was attracted to this ellipse) and that in this case, the attractor is a *single-period cycle*.\n",
    "That is, at this $\\beta$, after every period, the motion completes 1 full ellipse.  "
   ]
  },
  {
   "cell_type": "markdown",
   "id": "f3bdcbc7",
   "metadata": {
    "slideshow": {
     "slide_type": "skip"
    }
   },
   "source": [
    "For the initial $\\beta = 0.2$ rad ($\\approx 11^\\circ$), the forcing is very weak, and the oscillations are periodic with period $\\tau$, as predicted by linear theory.\n",
    "Let's check it on a Fourier plot."
   ]
  },
  {
   "cell_type": "code",
   "execution_count": null,
   "id": "e906c541",
   "metadata": {
    "slideshow": {
     "slide_type": "subslide"
    }
   },
   "outputs": [],
   "source": [
    "def spectrum_ddp(th, wd, w0, b, g, t, tmin, ftsz):\n",
    "    \"\"\" This one plots the spectrum. Best results will be achieved if\n",
    "    tmin is as small as possible, but large enough that the transient\n",
    "    is excluded. It should also be an integer number of periods for the\n",
    "    function to be periodic. Otherwise, big wiggles. \"\"\"\n",
    "    \n",
    "    th_for_Fourier = th[t>=tmin]\n",
    "    An = 2*rfft(th_for_Fourier, norm='forward')\n",
    "    # To make the Fourier plot interpretable, numpy.fft has a function to create\n",
    "    # an x-axis made out of frequencies instead of mode numbers. See below. \n",
    "    w_array = np.fft.rfftfreq(len(th_for_Fourier), t[1]-t[0])*2*pi\n",
    "    \n",
    "    plt.semilogy(w_array/wd, abs(An), label='$A_n$')\n",
    "    plt.xlabel('$\\omega/\\omega_d$', fontsize=ftsz)\n",
    "    plt.ylabel('$|A_n|$', fontsize=ftsz)\n",
    "    plt.title(r\"Fourier coeffs for $\\omega_0/\\omega_d = {0:.2f}$, $Q = {1:.2f}$, $\\beta = {2:.2f}$\"\n",
    "              .format(w0/wd, w0/g, b), fontsize=ftsz)\n",
    "    plt.xlim(0., 10.)\n",
    "    plt.grid()\n",
    "    plt.tight_layout()\n",
    "    plt.show()\n",
    "    \n",
    "    return"
   ]
  },
  {
   "cell_type": "code",
   "execution_count": null,
   "id": "f030f850",
   "metadata": {
    "slideshow": {
     "slide_type": "subslide"
    }
   },
   "outputs": [],
   "source": [
    "spectrum_ddp(theta, omegad, omega0, beta, gamma, time, 4., ftsz)"
   ]
  },
  {
   "cell_type": "markdown",
   "id": "906a08fa",
   "metadata": {
    "slideshow": {
     "slide_type": "skip"
    }
   },
   "source": [
    "So, we see peaks at $\\omega = \\omega_d$, a tiny superharmonic at $3\\omega_d$, but it's faint.\n",
    "\n",
    "Let's crank it up! Push to $\\beta = 0.9$."
   ]
  },
  {
   "cell_type": "code",
   "execution_count": null,
   "id": "071c8e16",
   "metadata": {
    "slideshow": {
     "slide_type": "subslide"
    }
   },
   "outputs": [],
   "source": [
    "beta = 0.9  # 52º\n",
    "theta, dottheta = generate_time_series(\n",
    "    theta0, dottheta0, omegad, omega0, beta, gamma, time)"
   ]
  },
  {
   "cell_type": "code",
   "execution_count": null,
   "id": "c10573f4",
   "metadata": {
    "slideshow": {
     "slide_type": "subslide"
    }
   },
   "outputs": [],
   "source": [
    "plot_TS_ddp(theta, dottheta, omegad, omega0, beta, gamma, time/Td, ftsz, tmin=35.)"
   ]
  },
  {
   "cell_type": "code",
   "execution_count": null,
   "id": "aff678d1",
   "metadata": {
    "slideshow": {
     "slide_type": "subslide"
    }
   },
   "outputs": [],
   "source": [
    "plot_phase_ddp(theta, dottheta, omegad, omega0, beta, gamma, time/Td, ftsz, nconts=16)"
   ]
  },
  {
   "cell_type": "code",
   "execution_count": null,
   "id": "e073b066",
   "metadata": {
    "slideshow": {
     "slide_type": "subslide"
    }
   },
   "outputs": [],
   "source": [
    "spectrum_ddp(theta, omegad, omega0, beta, gamma, time, 5., ftsz)"
   ]
  },
  {
   "cell_type": "markdown",
   "id": "b743ee22",
   "metadata": {
    "slideshow": {
     "slide_type": "skip"
    }
   },
   "source": [
    "For $\\beta = 0.9$, the amplitude is much larger, we might be detecting a flattening of the tops, confirmed by the appearance of the superharmonics at $\\omega = 3\\omega_d$, $5\\omega_d$, $7\\omega_d$ and maybe (just maybe) $9\\omega_d$.\n",
    "The phase plot still shows a single-period attractor, but this time it is clearly not an ellipse.\n",
    "Squinting hard, we can identify the parts of the cycle where the forcing give energy to the system (that is, when the trajectory climbs the contours) and parts of the cycle where the system loses energy (when the trajectory goes down).\n",
    "\n",
    "The amplitude is close to $\\pi$: we're close to the pendulum going over the top.\n",
    "Let's crank it up once more..."
   ]
  },
  {
   "cell_type": "code",
   "execution_count": null,
   "id": "4f7d7429",
   "metadata": {
    "slideshow": {
     "slide_type": "subslide"
    }
   },
   "outputs": [],
   "source": [
    "beta = 1.2  # 69º\n",
    "theta, dottheta = generate_time_series(\n",
    "    theta0, dottheta0, omegad, omega0, beta, gamma, time)"
   ]
  },
  {
   "cell_type": "code",
   "execution_count": null,
   "id": "d29bb80c",
   "metadata": {
    "slideshow": {
     "slide_type": "subslide"
    }
   },
   "outputs": [],
   "source": [
    "plot_TS_ddp(theta, dottheta, omegad, omega0, beta, gamma, time/Td, ftsz, tmin=0.)"
   ]
  },
  {
   "cell_type": "code",
   "execution_count": null,
   "id": "91ecad8b",
   "metadata": {
    "slideshow": {
     "slide_type": "subslide"
    }
   },
   "outputs": [],
   "source": [
    "plot_phase_ddp(theta, dottheta, omegad, omega0, beta, gamma, time/Td, ftsz, nconts=128)"
   ]
  },
  {
   "cell_type": "markdown",
   "id": "28b70b7e",
   "metadata": {
    "slideshow": {
     "slide_type": "skip"
    }
   },
   "source": [
    "Weee! The pendulum goes over the top, often.\n",
    "Also, the signal is not periodic anymore: this is a signature of chaos.\n",
    "The phase plot shows it quite remarkably, with the phase trajectory never settling into a closed trajectory."
   ]
  },
  {
   "cell_type": "markdown",
   "id": "0d6e228e",
   "metadata": {
    "slideshow": {
     "slide_type": "skip"
    }
   },
   "source": [
    "Let me pause for a sec and comment on the fact that the pendulum goes over the top sometimes, and how the phase plot is moderately useful like this.\n",
    "With the particular set of parameters I used ($\\omega_d$, $\\omega_0$, $\\gamma$, $\\beta$), the phase plot becomes very long.\n",
    "Right now, it's OK: it goes over but stays in each potential well for a while, so, the plot is still readable.\n",
    "But with more driving, the pendulum could undergo rolling motion.\n",
    "And if it did, the plots in phase space could look kind of wild, with the angle jumping from potential well to potential well along the $\\theta$ axis, making the phase plot very wide and details hard to read.\n",
    "We therefore make the phase plot \"periodic\": if $\\theta$ tries to \"escape\" on the left because it is doing a barrel roll clockwise, we make it re-enter the central potential well from the right."
   ]
  },
  {
   "cell_type": "code",
   "execution_count": null,
   "id": "518e2d0f",
   "metadata": {
    "slideshow": {
     "slide_type": "subslide"
    }
   },
   "outputs": [],
   "source": [
    "def wrap_theta(th):\n",
    "    \"\"\" map all theta values onto the branch -pi<theta<pi \"\"\"\n",
    "    th_wrapped = th[:] % (2*pi)  # First, move everything between [0, 2*pi]\n",
    "    for i in range(len(th)):  # second, move everything between [pi, 2*pi] in [-pi, 0]\n",
    "        if th_wrapped[i] > pi:\n",
    "            th_wrapped[i] = th_wrapped[i] - 2*pi\n",
    "    return th_wrapped"
   ]
  },
  {
   "cell_type": "code",
   "execution_count": null,
   "id": "ae990c98",
   "metadata": {
    "slideshow": {
     "slide_type": "subslide"
    }
   },
   "outputs": [],
   "source": [
    "theta_wrapped = wrap_theta(theta)\n",
    "plot_phase_ddp(theta_wrapped, dottheta, omegad, omega0, beta, gamma, time/Td, ftsz, nconts=32)"
   ]
  },
  {
   "cell_type": "markdown",
   "id": "c45254e7",
   "metadata": {
    "slideshow": {
     "slide_type": "skip"
    }
   },
   "source": [
    "That's better.\n",
    "\n",
    "Periodicity is now hard to see. What is the Fourier spectrum saying?"
   ]
  },
  {
   "cell_type": "code",
   "execution_count": null,
   "id": "c6d06e5b",
   "metadata": {
    "slideshow": {
     "slide_type": "subslide"
    }
   },
   "outputs": [],
   "source": [
    "spectrum_ddp(theta, omegad, omega0, beta, gamma, time, 5., ftsz)"
   ]
  },
  {
   "cell_type": "markdown",
   "id": "2f554ea4",
   "metadata": {
    "slideshow": {
     "slide_type": "skip"
    }
   },
   "source": [
    "So, the periodicity due to the driving is still there.\n",
    "But besides that, it's a mess of frequencies: there are plenty of superharmonics, and they are not multiple of $\\omega_d$.\n",
    "But there are also *subharmonics*: frequencies that are less than $\\omega$.\n",
    "In fact, the lower-frequency signals appear more important, indicating that long-term motions (the drift from potential well to potential well each time the pendulum does a barrel roll is such an example).\n",
    "\n",
    "We just witnessed the appearance of chaos: a very unpredictable dynamics, where periodicity gave way to all sorts of frequencies. Let me now go beyond this illustration and talk about chaos in a more systematic way."
   ]
  }
 ],
 "metadata": {
  "celltoolbar": "Slideshow",
  "kernelspec": {
   "display_name": "Python 3 (ipykernel)",
   "language": "python",
   "name": "python3"
  },
  "language_info": {
   "codemirror_mode": {
    "name": "ipython",
    "version": 3
   },
   "file_extension": ".py",
   "mimetype": "text/x-python",
   "name": "python",
   "nbconvert_exporter": "python",
   "pygments_lexer": "ipython3",
   "version": "3.8.11"
  }
 },
 "nbformat": 4,
 "nbformat_minor": 5
}
