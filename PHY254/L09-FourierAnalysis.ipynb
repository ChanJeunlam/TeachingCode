{
 "cells": [
  {
   "cell_type": "raw",
   "metadata": {
    "raw_mimetype": "text/latex",
    "slideshow": {
     "slide_type": "skip"
    }
   },
   "source": [
    "\\DefineVerbatimEnvironment{Verbatim}{Verbatim}{fontsize=\\scriptsize}\n",
    "\n",
    "\\newcommand{\\bnabla}{\\boldsymbol{\\nabla}}\n",
    "\\newcommand{\\eexp}[1]{\\text{e}^{#1}}\n",
    "\\newcommand{\\di}[0]{\\text{d}}\n",
    "\\newcommand{\\bs}[1]{\\boldsymbol{#1}}\n",
    "\\newcommand{\\ode}[2]{\\frac{\\di {#1}}{\\di {#2}}}\n",
    "\\newcommand{\\oden}[3]{\\frac{\\di^{#1} {#2}}{\\di {#3}^{#1}}}\n",
    "\\newcommand{\\odel}[2]{\\di {#1}/\\di {#2}}\n",
    "\\newcommand{\\odeln}[3]{\\di^{#1} {#2}/\\di {#3}^{#1}}\n",
    "\\newcommand{\\pde}[2]{\\frac{\\partial {#1}}{\\partial {#2}}}\n",
    "\\newcommand{\\pden}[3]{\\frac{\\partial^{#1} {#2}}{\\partial {#3}^{#1}}}\n",
    "\\newcommand{\\pdel}[2]{\\partial_{#2} {#1}}\n",
    "\\newcommand{\\pdenl}[3]{\\partial^{#1}_{#3} {#2}}\n",
    "\\newcommand{\\divr}[1]{\\vec\\nabla \\cdot {#1}}\n",
    "\\newcommand{\\divrb}[1]{\\boldsymbol{\\nabla} \\cdot {#1}}\n",
    "\\newcommand{\\grad}[1]{\\vec \\nabla {#1}}\n",
    "\\newcommand{\\gradb}[1]{\\boldsymbol\\nabla {#1}}\n",
    "\\newcommand{\\curl}[1]{\\vec\\nabla \\times {#1}}\n",
    "\\newcommand{\\curlb}[1]{\\boldsymbol{\\nabla}\\times\\boldsymbol{#1}}\n",
    "\\newcommand{\\lapl}[0]{\\vec\\nabla^2}\n",
    "\\newcommand{\\laplb}[0]{\\boldsymbol{\\nabla}^2}\n",
    "\\newcommand{\\cplxi}[0]{\\text{i}}\n",
    "\\newcommand{\\unit}[1]{\\mathbf{\\hat{#1}}}\n",
    "\\newcommand{\\red}[1]{\\textcolor{red}{#1}}\n",
    "\\newcommand{\\blue}[1]{\\textcolor{blue}{#1}}\n",
    "\\newcommand{\\mage}[1]{\\textcolor{magenta}{#1}}\n",
    "\\newcommand{\\with}[0]{\\quad\\text{with}\\quad}\n",
    "\\newcommand{\\thrfor}[0]{\\quad\\Rightarrow\\quad}\n",
    "\\newcommand{\\andeq}[0]{\\quad\\text{and}\\quad}\n",
    "\\newcommand{\\oreq}[0]{\\quad\\text{or}\\quad}\n",
    "\\newcommand{\\stirling}[2]{\\genfrac{[}{]}{0pt}{}{#1}{#2}}"
   ]
  },
  {
   "cell_type": "markdown",
   "metadata": {
    "slideshow": {
     "slide_type": "skip"
    }
   },
   "source": [
    "$\\newcommand{\\bnabla}{\\boldsymbol{\\nabla}}$\n",
    "$\\newcommand{\\eexp}[1]{\\text{e}^{#1}}$\n",
    "$\\newcommand{\\di}[0]{\\text{d}}$\n",
    "$\\newcommand{\\bs}[1]{\\boldsymbol{#1}}$\n",
    "$\\newcommand{\\ode}[2]{\\frac{\\di {#1}}{\\di {#2}}}$\n",
    "$\\newcommand{\\oden}[3]{\\frac{\\di^{#1} {#2}}{\\di {#3}^{#1}}}$\n",
    "$\\newcommand{\\odel}[2]{\\di {#1}/\\di {#2}}$\n",
    "$\\newcommand{\\odeln}[3]{\\di^{#1} {#2}/\\di {#3}^{#1}}$\n",
    "$\\newcommand{\\pde}[2]{\\frac{\\partial {#1}}{\\partial {#2}}}$\n",
    "$\\newcommand{\\pden}[3]{\\frac{\\partial^{#1} {#2}}{\\partial {#3}^{#1}}}$\n",
    "$\\newcommand{\\pdel}[2]{\\partial_{#2} {#1}}$\n",
    "$\\newcommand{\\pdenl}[3]{\\partial^{#1}_{#3} {#2}}$\n",
    "$\\newcommand{\\divr}[1]{\\vec\\nabla \\cdot {#1}}$\n",
    "$\\newcommand{\\divrb}[1]{\\boldsymbol{\\nabla} \\cdot {#1}}$\n",
    "$\\newcommand{\\grad}[1]{\\vec \\nabla {#1}}$\n",
    "$\\newcommand{\\gradb}[1]{\\boldsymbol\\nabla {#1}}$\n",
    "$\\newcommand{\\curl}[1]{\\vec\\nabla \\times {#1}}$\n",
    "$\\newcommand{\\curlb}[1]{\\boldsymbol{\\nabla}\\times\\boldsymbol{#1}}$\n",
    "$\\newcommand{\\lapl}[0]{\\vec\\nabla^2}$\n",
    "$\\newcommand{\\laplb}[0]{\\boldsymbol{\\nabla}^2}$\n",
    "$\\newcommand{\\cplxi}[0]{\\text{i}}$\n",
    "$\\newcommand{\\unit}[1]{\\mathbf{\\hat{#1}}}$\n",
    "$\\newcommand{\\thrfor}[0]{\\quad\\Rightarrow\\quad}$\n",
    "$\\newcommand{\\red}[1]{\\textcolor{red}{#1}}$\n",
    "$\\newcommand{\\blue}[1]{\\textcolor{blue}{#1}}$\n",
    "$\\newcommand{\\mage}[1]{\\textcolor{magenta}{#1}}$\n",
    "$\\newcommand{\\with}[0]{\\quad\\text{with}\\quad}$\n",
    "$\\newcommand{\\thrfor}[0]{\\quad\\Rightarrow\\quad}$\n",
    "$\\newcommand{\\andeq}[0]{\\quad\\text{and}\\quad}$\n",
    "$\\newcommand{\\oreq}[0]{\\quad\\text{or}\\quad}$\n",
    "$\\newcommand{\\stirling}[2]{\\genfrac{[}{]}{0pt}{}{#1}{#2}}$"
   ]
  },
  {
   "cell_type": "code",
   "execution_count": 1,
   "metadata": {
    "raw_mimetype": "text/x-python",
    "slideshow": {
     "slide_type": "skip"
    }
   },
   "outputs": [],
   "source": [
    "from IPython.display import Image, display, YouTubeVideo, HTML\n",
    "import numpy as np\n",
    "import matplotlib.pyplot as plt\n",
    "from matplotlib import interactive, rcParams, animation\n",
    "from ipywidgets import interact, FloatSlider, fixed, IntSlider\n",
    "interactive(True)\n",
    "rcParams['figure.dpi'] = 100  # for crisper figures later"
   ]
  },
  {
   "cell_type": "markdown",
   "metadata": {
    "slideshow": {
     "slide_type": "skip"
    }
   },
   "source": [
    "*Readings:*\n",
    "\n",
    "* *French 6, starting p.189.*\n",
    "\n",
    "**Note:** like the previous edition these lecture notes come with a lot of animations. If you use Jupyter, you can re-create them all from the notebook.\n",
    "If instead you read the pdf notes, I saved them all in .mp4 format and included them in the .zip archive."
   ]
  },
  {
   "cell_type": "markdown",
   "metadata": {
    "slideshow": {
     "slide_type": "skip"
    }
   },
   "source": [
    "And finally, a reminder about our go-to set-up: the wave on a string. I recorded three demos, shown below and also at\n",
    "\n",
    "* https://youtu.be/bcIeaNoB880 and https://play.library.utoronto.ca/1b369519194f7f25a371f977467e023d\n",
    "* https://youtu.be/DL47_MbRPmc and https://play.library.utoronto.ca/0813eb54d3f1db4a9c7ce2274c9ed8cd\n",
    "* https://youtu.be/_am6ogAuSjc and https://play.library.utoronto.ca/9553f6a2c1dea0c96f41ed9347fa1fbe"
   ]
  },
  {
   "cell_type": "code",
   "execution_count": 2,
   "metadata": {
    "scrolled": true,
    "slideshow": {
     "slide_type": "subslide"
    }
   },
   "outputs": [
    {
     "data": {
      "image/jpeg": "[encoded data removed]",
      "text/html": [
       "\n",
       "        <iframe\n",
       "            width=\"560\"\n",
       "            height=\"315\"\n",
       "            src=\"https://www.youtube.com/embed/bcIeaNoB880\"\n",
       "            frameborder=\"0\"\n",
       "            allowfullscreen\n",
       "        ></iframe>\n",
       "        "
      ],
      "text/plain": [
       "<IPython.lib.display.YouTubeVideo at 0x7fc84774cd00>"
      ]
     },
     "execution_count": 2,
     "metadata": {},
     "output_type": "execute_result"
    }
   ],
   "source": [
    "YouTubeVideo('bcIeaNoB880', width=560, height=315)"
   ]
  },
  {
   "cell_type": "code",
   "execution_count": 3,
   "metadata": {
    "slideshow": {
     "slide_type": "skip"
    }
   },
   "outputs": [
    {
     "data": {
      "image/jpeg": "[encoded data removed]",
      "text/html": [
       "\n",
       "        <iframe\n",
       "            width=\"560\"\n",
       "            height=\"315\"\n",
       "            src=\"https://www.youtube.com/embed/DL47_MbRPmc\"\n",
       "            frameborder=\"0\"\n",
       "            allowfullscreen\n",
       "        ></iframe>\n",
       "        "
      ],
      "text/plain": [
       "<IPython.lib.display.YouTubeVideo at 0x7fc847774520>"
      ]
     },
     "execution_count": 3,
     "metadata": {},
     "output_type": "execute_result"
    }
   ],
   "source": [
    "YouTubeVideo('DL47_MbRPmc', width=560, height=315)"
   ]
  },
  {
   "cell_type": "code",
   "execution_count": 4,
   "metadata": {
    "scrolled": true,
    "slideshow": {
     "slide_type": "skip"
    }
   },
   "outputs": [
    {
     "data": {
      "image/jpeg": "[encoded data removed]",
      "text/html": [
       "\n",
       "        <iframe\n",
       "            width=\"560\"\n",
       "            height=\"315\"\n",
       "            src=\"https://www.youtube.com/embed/_am6ogAuSjc\"\n",
       "            frameborder=\"0\"\n",
       "            allowfullscreen\n",
       "        ></iframe>\n",
       "        "
      ],
      "text/plain": [
       "<IPython.lib.display.YouTubeVideo at 0x7fc847774280>"
      ]
     },
     "execution_count": 4,
     "metadata": {},
     "output_type": "execute_result"
    }
   ],
   "source": [
    "YouTubeVideo('_am6ogAuSjc', width=560, height=315)"
   ]
  },
  {
   "cell_type": "markdown",
   "metadata": {
    "slideshow": {
     "slide_type": "skip"
    }
   },
   "source": [
    "# Expectations"
   ]
  },
  {
   "cell_type": "markdown",
   "metadata": {
    "slideshow": {
     "slide_type": "slide"
    }
   },
   "source": [
    "## Remember\n",
    "\n",
    "* The orthogonality relations for sines and cosines.\n",
    "* The energy of any solution is the sum of the energies of each single mode."
   ]
  },
  {
   "cell_type": "markdown",
   "metadata": {
    "slideshow": {
     "slide_type": "-"
    }
   },
   "source": [
    "## Understand\n",
    "\n",
    "* Why standing wave modes are orthogonal normal modes of the vibrating taut string.\n",
    "* How a spectrum is a quick graphic way to show a series of modes\n",
    "* How and why standing wave modes behave like simple harmonic oscillators."
   ]
  },
  {
   "cell_type": "markdown",
   "metadata": {
    "slideshow": {
     "slide_type": "-"
    }
   },
   "source": [
    "## Apply\n",
    "\n",
    "* Anything that appears in the worked examples, tutorials and problem sets."
   ]
  },
  {
   "cell_type": "markdown",
   "metadata": {
    "slideshow": {
     "slide_type": "skip"
    }
   },
   "source": [
    "# Results from Fourier Series"
   ]
  },
  {
   "cell_type": "markdown",
   "metadata": {
    "slideshow": {
     "slide_type": "skip"
    }
   },
   "source": [
    "We just saw that if $y_n$ and $y_m$ were modes of vibrations of the string, then a linear combination of those two was a solution. But is the reverse true? Namely, if $y$ is a solution, can it be written as $\\sum_{n=1}^{\\infty} A_n y_n$? After all, maybe we have only covered the set of solutions which were separable, and we are missing plenty of elementary solutions that cannot be written as $y_n(t, x) = f_n(x)h_n(t)$."
   ]
  },
  {
   "cell_type": "markdown",
   "metadata": {
    "slideshow": {
     "slide_type": "skip"
    }
   },
   "source": [
    "The answer is yes, the decomposition exists and is unique.\n",
    "To prove it rigorously would is typically done in a calculus course, when you learn about Fourier series. Just like earlier in the course, you are not required to know the math of it, and in this lecture we will just accept the results. I suggested you watch the video below before, and I will do it again (also at https://youtu.be/r6sGWTCMz2k; 25 minutes), because it is nice."
   ]
  },
  {
   "cell_type": "code",
   "execution_count": 5,
   "metadata": {
    "scrolled": true,
    "slideshow": {
     "slide_type": "skip"
    }
   },
   "outputs": [
    {
     "data": {
      "image/jpeg": "[encoded data removed]",
      "text/html": [
       "\n",
       "        <iframe\n",
       "            width=\"560\"\n",
       "            height=\"315\"\n",
       "            src=\"https://www.youtube.com/embed/r6sGWTCMz2k\"\n",
       "            frameborder=\"0\"\n",
       "            allowfullscreen\n",
       "        ></iframe>\n",
       "        "
      ],
      "text/plain": [
       "<IPython.lib.display.YouTubeVideo at 0x7fc847774850>"
      ]
     },
     "execution_count": 5,
     "metadata": {},
     "output_type": "execute_result"
    }
   ],
   "source": [
    "YouTubeVideo('r6sGWTCMz2k', width=560, height=315)"
   ]
  },
  {
   "cell_type": "markdown",
   "metadata": {
    "slideshow": {
     "slide_type": "skip"
    }
   },
   "source": [
    "Just as the existence and unicity of the decomposition into eigenmodes for a coupled system of oscillations was a gift from a linear algebra class, the existence and unicity of the decomposition of any solution into standing wave modes is a gift from Fourier analysis."
   ]
  },
  {
   "cell_type": "markdown",
   "metadata": {
    "slideshow": {
     "slide_type": "skip"
    }
   },
   "source": [
    "Namely, the main result to remember from a lecture on Fourier series is that if a function $s(x)$ of the real variable $x$ is periodic[^1], with period $2L$, then $\\exists \\{A_n, B_n\\}_{n\\in \\mathbb N^*}$ such that \n",
    "$$ s(x) = \\frac{A_0}2 + \\sum_{n=1}^\\infty\\left[ A_n \\cos(k_n x) + B_n \\sin(k_n x)\\right], $$\n",
    "with $k_n = \\pi n/L$, and\n",
    "$$A_n = \\frac1L\\int_{-L}^{L}s(x)\\cos(k_n x)\\di x \\andeq B_n = \\frac1L\\int_{-L}^{L}s(x)\\sin(k_n x)\\di x.$$\n",
    "\n",
    "*Note: I defined the period to be $2L$ in anticipation of the content of this lecture, which makes the expressions above look different from what you would see in other resources like Wikipedia.*\n",
    "\n",
    "[^1]: a previous version of these notes stated that $s$ had to be continuous. This isn't the case, though the series does not absolutely converge if $s$ isn't continuous. It means that it will converge everywhere except near the discontinuity, where the error will in fact grow as the number of modes increase. On the other hand, the region of space where this error is present will narrow down to zero, and the approximation will be increasingly good everywhere else. This is the sort of stuff that mathematicians worry about, we physicists are more like the glass-$(100\\%-\\epsilon)$-full kind of crowd."
   ]
  },
  {
   "cell_type": "markdown",
   "metadata": {
    "slideshow": {
     "slide_type": "skip"
    }
   },
   "source": [
    "* If the function is odd, i.e., $s(x) = -s(-x)$, then it is even simpler, with\n",
    "    $$A_n \\equiv 0 \\andeq s(x) = \\sum_{n=1}^\\infty B_n \\sin(k_n x),$$\n",
    "    and because $\\sin(k_n x)$ is also odd, which makes $s(x)\\sin(k_n x)$ even, we don't need to compute the coefficient over the whole interval:\n",
    "    $$B_n = 2\\times \\frac{1}L\\int_0^L s(x)\\sin(k_n x) \\di x,$$\n",
    "    which will be useful in this lecture.\n",
    "\n",
    "* Similarly, if the function is even, i.e., $s(x) = s(-x)$, then it simplifies into\n",
    "    $$s(x) = \\frac{A_0}{2} + \\sum_{n=1}^\\infty A_n \\cos(k_n x),$$\n",
    "    and we have again that\n",
    "    $$A_n = \\frac{2}L\\int_0^L s(x)\\cos(k_n x) \\di x,$$\n",
    "    which we won't use in this lecture but could use in problems and exercises.\n"
   ]
  },
  {
   "cell_type": "markdown",
   "metadata": {
    "slideshow": {
     "slide_type": "skip"
    }
   },
   "source": [
    "You may object that Fourier series apply to periodic functions, i.e., functions that exist on $(-\\infty, \\infty)$, not $[0, L]$.\n",
    "The connection is that we can imagine our solution on $[0, L]$ as a \"cropped\" sub-set of a function that would be periodic.\n",
    "In this case, the actual solution and the corresponding infinitely long and periodic function share the same Fourier coefficients."
   ]
  },
  {
   "cell_type": "markdown",
   "metadata": {
    "slideshow": {
     "slide_type": "skip"
    }
   },
   "source": [
    "Let me plot a sketch of what I mean by \"actual solution\" (below) and \"infinitely long and periodic function\" (figure after that one)."
   ]
  },
  {
   "cell_type": "code",
   "execution_count": 6,
   "metadata": {
    "slideshow": {
     "slide_type": "skip"
    }
   },
   "outputs": [],
   "source": [
    "# Definition of the function\n",
    "# Let's draw a triangular shape, with the top at a point where the string is plucked\n",
    "L = 1.  # [m] length of the string\n",
    "x = np.linspace(0., L, 128)  # x-array\n",
    "ftsz = 13  # font size\n",
    "a = 0.01  # how high the string is plucked [m]\n",
    "\n",
    "def plot_pluck(pluck_point):\n",
    "    s = a * x / pluck_point  # the first part of the string\n",
    "    s[x > pluck_point] = a * (L - x[x > pluck_point]) / (L-pluck_point)  # the 2nd part\n",
    "\n",
    "    plt.figure(figsize=(6, 3))\n",
    "    plt.plot(x/L, s/a, 'r')\n",
    "    plt.grid()\n",
    "    plt.xlabel('$x/L$', fontsize=ftsz)\n",
    "    plt.ylabel('$s/a$', fontsize=ftsz)\n",
    "    plt.axvline(pluck_point/L, color='k', linestyle='--')\n",
    "    plt.title('The plucked string on $[0, L]$', fontsize=ftsz)\n",
    "    plt.ylim([0., 1.2])\n",
    "    plt.autoscale(enable=True, axis='x', tight=True)\n",
    "    \n",
    "    return s"
   ]
  },
  {
   "cell_type": "code",
   "execution_count": 7,
   "metadata": {
    "slideshow": {
     "slide_type": "subslide"
    }
   },
   "outputs": [
    {
     "data": {
      "image/png": "[encoded data removed]",
      "text/plain": [
       "<Figure size 600x300 with 1 Axes>"
      ]
     },
     "metadata": {
      "needs_background": "light"
     },
     "output_type": "display_data"
    }
   ],
   "source": [
    "s = plot_pluck(0.25*L)"
   ]
  },
  {
   "cell_type": "code",
   "execution_count": 8,
   "metadata": {
    "slideshow": {
     "slide_type": "skip"
    }
   },
   "outputs": [],
   "source": [
    "def plot_extension(pluck_point, s):\n",
    "    x_extend = np.linspace(-1.5*L, 2.5*L, 512)  # x extended beyoind [0, L]\n",
    "    s_extend = a * x_extend / pluck_point  # the first part of the string\n",
    "    s_extend[x_extend > pluck_point] = (L - x_extend[x_extend > pluck_point]\n",
    "                                       ) * a / (L-pluck_point)\n",
    "    s_extend[x_extend > 2*L-pluck_point] = (x_extend[x_extend > 2*L-pluck_point]/pluck_point\n",
    "                                            - 2*L/pluck_point) * a\n",
    "    s_extend[x_extend > 2*L+pluck_point] = (L - x_extend[x_extend > 2*L+pluck_point]\n",
    "                                           )  * a / (L-pluck_point) + 2*a*L/(L-pluck_point)\n",
    "    s_extend[x_extend < -pluck_point] = a * (L - x_extend[x_extend < -pluck_point]\n",
    "                                            ) / (L-pluck_point) - 2*a*L/(L-pluck_point)\n",
    "\n",
    "    plt.figure(figsize=(12, 3))\n",
    "    plt.plot(x_extend/L, s_extend/a, 'b--', label='$s(x)$ extended')\n",
    "    plt.plot(x/L, s/a, 'r', label='$s(x)$')\n",
    "    plt.grid()\n",
    "    plt.xlabel('$x/L$', fontsize=ftsz)\n",
    "    plt.ylabel('$s/a$', fontsize=ftsz)\n",
    "    plt.ylim([-1.2, 1.2])\n",
    "    plt.axhline(0., color='k')\n",
    "    plt.axvline(pluck_point/L, color='k', linestyle='--')\n",
    "    plt.axvline(0., color='k')\n",
    "    plt.axvline(1., color='k')\n",
    "    plt.axvline(-1., color='k', linestyle=\":\")\n",
    "    plt.axvline(2., color='k', linestyle=\":\")\n",
    "    plt.title('Equivalent plucked string on an extended interval', fontsize=ftsz)\n",
    "    plt.legend(fontsize=ftsz)\n",
    "    plt.autoscale(enable=True, axis='x', tight=True)\n",
    "    \n",
    "    return"
   ]
  },
  {
   "cell_type": "code",
   "execution_count": 9,
   "metadata": {
    "slideshow": {
     "slide_type": "subslide"
    }
   },
   "outputs": [
    {
     "data": {
      "image/png": "[encoded data removed]",
      "text/plain": [
       "<Figure size 1200x300 with 1 Axes>"
      ]
     },
     "metadata": {
      "needs_background": "light"
     },
     "output_type": "display_data"
    }
   ],
   "source": [
    "plot_extension(0.25*L, s)"
   ]
  },
  {
   "cell_type": "markdown",
   "metadata": {
    "slideshow": {
     "slide_type": "skip"
    }
   },
   "source": [
    "While the plucked string (red, solid line on fig. 6) is not periodic, the blue, dashed line is, with period $2L$.\n",
    "Morevoer, it is odd, and can be decomposed as a Fourier series.\n",
    "In the interval $[0, L]$, the two are indistinguishable, and the plucked string shares the extended string's expression.\n",
    "\n",
    "In general, any function that is zero at both ends can be extended as an odd function, and only the sine decomposition need to be performed."
   ]
  },
  {
   "cell_type": "markdown",
   "metadata": {
    "slideshow": {
     "slide_type": "skip"
    }
   },
   "source": [
    "Mathematically speaking, the rest of this section is basically an application of the Fourier series theory to string vibrations."
   ]
  },
  {
   "cell_type": "markdown",
   "metadata": {
    "slideshow": {
     "slide_type": "skip"
    }
   },
   "source": [
    "# Orthogonality of Standing Wave Modes"
   ]
  },
  {
   "cell_type": "markdown",
   "metadata": {
    "slideshow": {
     "slide_type": "skip"
    }
   },
   "source": [
    "With an homogeneous chain of coupled oscillators (i.e., all masses, stiffnesses, pendulums, etc., were equal), the linked masses resulted in a symmetric matrix to diagonalize, in which case the eigenvectors were orthogonal to each other.\n",
    "Something similar is happening here: the string is homogeneous ($\\mu$ is a constant), and the normal modes are orthogonal to each other.\n",
    "The \"dot product\" however needs to be redefined, because the vector space has changed.\n",
    "With symmetric coupled oscillators, the inner product of the vector space was the good ol' dot product.\n",
    "Now, the inner product for two stress-free functions [^2] $f$ and $g$ is:\n",
    "\\begin{equation}\n",
    "    f\\odot g = \\frac2L \\int_0^L f(x)g(x)\\di x.\\label{eq:odot}\n",
    "\\end{equation}\n",
    "\n",
    "[^2]: the physicist's definition of a \"stress-free function\" is a function that won't cause any problem when deriving, integrating or else. The kind of chill function we like to not worry about. Obviously, these notes are not approved by NIST."
   ]
  },
  {
   "cell_type": "markdown",
   "metadata": {
    "slideshow": {
     "slide_type": "skip"
    }
   },
   "source": [
    "The $2/L$ pre-factor is optional and is used to ensure that the functions are orthonormal with respect to the inner product. Indeed, here is a claim:\n",
    "$$ \\boxed{\\sin(k_n x) \\odot \\sin(k_m x) = \\delta_{mn}}.$$\n",
    "The symbol $\\delta_{mn}$ is called the Kronecker delta, defined by $\\delta_{mn} = 1$ if $m=n$, and zero otherwise.\n",
    "That is, **modes are orthogonal to each other**."
   ]
  },
  {
   "cell_type": "markdown",
   "metadata": {
    "slideshow": {
     "slide_type": "skip"
    }
   },
   "source": [
    "*Note: Similarly,* $\\cos(k_n x) \\odot \\cos(k_m x) = \\delta_{mn}$ and $\\cos(k_n x) \\odot \\sin(k_m x) = 0$. *Yes, the last one is always zero, even if* $m = n$ *, but the inner product has to be redefined as*\n",
    "$$f\\odot g = \\frac1L \\int_{-L}^L f(x)g(x)\\di x,$$\n",
    "*and the string position has to be artificially extended into the negative positions range. This inner product actually gives the same result for the former inner product, but the first definition uses parity properties of $\\sin$ and $\\cos$ and is simple enough for our purposes. As far as I can tell though, we won't be using these other two relationships with the boundary conditions of strings attached to walls. We would if the origin of the $x$-axis was in the middle of the two walls, or if we had other boundary conditions. Therefore, it is not completely usueless to know that these relationships exist.*"
   ]
  },
  {
   "cell_type": "markdown",
   "metadata": {
    "slideshow": {
     "slide_type": "skip"
    }
   },
   "source": [
    "***\n",
    "\n",
    "*While not difficult, and even though it resembles a result we have seen earlier, I skipped the proof in class. Here it is, FYI. I am also providing a graphic example below, where you should see that the areas of $\\sin(k_n x)\\sin(k_m x)$ above the zero line compensate exactly those under the zero line, yielding a zero value (unless $n=m$ of course). Don't worry about remembering or even understanding the mathematical derivation.*\n",
    "\n",
    "Recall that \n",
    "$$\\cos(a\\pm b) = \\cos a \\cos b \\mp \\sin a \\sin b.$$\n",
    "\n",
    "Sum those two and you get:\n",
    "$$ 2\\cos a\\cos b = \\cos(a-b) + \\cos(a+b). $$\n",
    "Subtract them and you obtain\n",
    "$$ 2\\sin a\\sin b = \\cos(a-b) - \\cos(a+b). $$\n",
    "\n",
    "* $m\\neq n$: for $a = n\\pi x/L$ and $b = m\\pi x/L$\n",
    "\n",
    "\\begin{align*}\n",
    "    \\sin a \\odot \\sin b & = \\frac{1}{L} \\int_0^L \\left[\\cos\\left(\\frac{(n-m) \\pi x}{L}\\right) +  \\cos\\left(\\frac{(n+m)\\pi x}{L}\\right) \\right] \\di x \\\\\n",
    "                        & = \\frac{1}{L} \\left[\\frac{L}{\\pi(n-m)}\\sin\\left(\\frac{(n-m) \\pi x}{L}\\right) + \\frac{L}{\\pi(n+m)} \\sin\\left(\\frac{(n+m)\\pi x}{L}\\right) \\right]_0^L \\\\\n",
    "                        & = 0 + 0 = 0 \\quad\\textrm{if}\\quad m \\neq n.\n",
    "\\end{align*}\n",
    "\n",
    "* $m=n$ on the other hand, we need to go back to $2\\sin a\\sin b = \\cos(a-b) - \\cos(a+b)$, which, if $a = b$, becomes $2\\sin^2(2a) = 1 - \\cos(2a)$. \n",
    "Of the two integrals that are to be computed, $\\int_0^L \\cos(2n\\pi x/L) \\di x = 0$ but $\\int_0^L \\di x = L$, and therefore,\n",
    "$$\\sin\\left(\\frac{n\\pi x}L\\right) \\odot \\sin\\left(\\frac{n\\pi x}L\\right) = \\frac{2}{L}\\frac{L}2 = 1. $$\n",
    "\n",
    "Very similar derivations exist for $\\cos(k_n x) \\odot \\cos(k_m x) = \\delta_{mn}$ and $\\cos(k_n x) \\odot \\sin(k_m x) = 0$.\n",
    "\n",
    "***"
   ]
  },
  {
   "cell_type": "code",
   "execution_count": 10,
   "metadata": {
    "slideshow": {
     "slide_type": "skip"
    }
   },
   "outputs": [],
   "source": [
    "def multsincos(n, m, first, second):\n",
    "    \"\"\" a graphic illustration of what happens when two sines and/or cosines\n",
    "    are multiplied \n",
    "    IN: n, m are strictly positive integer modes\n",
    "    first, second are both 'sin' or 'cos' \"\"\"\n",
    "    def fct(nm, xloc, choice):\n",
    "        if choice == 'sin':\n",
    "            return np.sin(nm*np.pi*xloc)\n",
    "        elif choice == 'cos':\n",
    "            return np.cos(nm*np.pi*xloc)\n",
    "    \n",
    "    if first != second:\n",
    "        xmin = -1.\n",
    "    else:\n",
    "        xmin = 0.\n",
    "    \n",
    "    x = np.linspace(xmin, 1, 256)  # use L=1 m for simplicity\n",
    "        \n",
    "    fg, ax = plt.subplots(2, 1, dpi=100, sharex=True)\n",
    "    ftsz = 13  # font size\n",
    "    \n",
    "    ax[0].plot(x, fct(n, x, first), label='{0}$({1} \\pi x/L)$'.format(first, n))\n",
    "    ax[0].plot(x, fct(m, x, second), '--', label='{0}$({1}\\pi x/L)$'.format(second, m))\n",
    "    ax[0].axhline(0., color='k')\n",
    "    ax[0].axvline(0., color='k')\n",
    "    ax[0].set_xlim(xmin, 1)\n",
    "    ax[0].set_ylabel('$y_n$ and $y_m$', fontsize=ftsz)\n",
    "    ax[0].legend()\n",
    "    ax[0].grid()\n",
    "    \n",
    "    ax[1].plot(x, fct(n, x, first)*fct(m, x, second),\n",
    "               label='{0}$(1\\pi x/L)${2}$({3} \\pi x/L)$'.format(first, n, second, m))\n",
    "    plt.fill_between(x , fct(n, x, first)*fct(m, x, second))\n",
    "    ax[1].axvline(0., color='k')\n",
    "    ax[1].axhline(0., color='k')\n",
    "    ax[1].set_xlabel('$x/L$', fontsize=ftsz)\n",
    "    ax[1].set_ylabel('$y_n y_m$', fontsize=ftsz)\n",
    "    ax[1].legend()\n",
    "    ax[1].grid()\n",
    "    \n",
    "    fg.tight_layout()"
   ]
  },
  {
   "cell_type": "code",
   "execution_count": 11,
   "metadata": {
    "scrolled": false,
    "slideshow": {
     "slide_type": "skip"
    }
   },
   "outputs": [
    {
     "data": {
      "image/png": "[encoded data removed]",
      "text/plain": [
       "<Figure size 600x400 with 2 Axes>"
      ]
     },
     "metadata": {
      "needs_background": "light"
     },
     "output_type": "display_data"
    }
   ],
   "source": [
    "multsincos(1, 3, 'sin', 'sin')  # for pdf export"
   ]
  },
  {
   "cell_type": "code",
   "execution_count": 12,
   "metadata": {
    "scrolled": false,
    "slideshow": {
     "slide_type": "subslide"
    }
   },
   "outputs": [
    {
     "data": {
      "application/vnd.jupyter.widget-view+json": {
       "model_id": "75ece633b7bf48649844c95d130cfe16",
       "version_major": 2,
       "version_minor": 0
      },
      "text/plain": [
       "interactive(children=(IntSlider(value=1, description='n', max=5, min=1), IntSlider(value=2, description='m', m…"
      ]
     },
     "metadata": {},
     "output_type": "display_data"
    },
    {
     "data": {
      "text/plain": [
       "<function __main__.multsincos(n, m, first, second)>"
      ]
     },
     "execution_count": 12,
     "metadata": {},
     "output_type": "execute_result"
    }
   ],
   "source": [
    "interact(multsincos, n=IntSlider(min=1, max=5, value=1), m=IntSlider(min=1, max=5, value=2), first=['sin', 'cos'], second=['sin', 'cos'])"
   ]
  },
  {
   "cell_type": "markdown",
   "metadata": {
    "slideshow": {
     "slide_type": "skip"
    }
   },
   "source": [
    "Note that similarly to the last lecture, these results can be extended to strings that are non-homogeneous (i.e., $v$ depends on $x$, like a whip getting thinner away from the handle). A new inner product would need to be defined.\n",
    "This would be the equivalent of a matrix that is not symmetric in the case of coupled oscillators, sort of like what I asked you to do in HW4.\n",
    "These considerations are outside of what you need to know for this class."
   ]
  },
  {
   "cell_type": "markdown",
   "metadata": {
    "slideshow": {
     "slide_type": "skip"
    }
   },
   "source": [
    "# Initial value problems\n",
    "\n",
    "## Method"
   ]
  },
  {
   "cell_type": "markdown",
   "metadata": {
    "slideshow": {
     "slide_type": "skip"
    }
   },
   "source": [
    "Like in previous lectures, while we know that the general form of the solution is in the form\n",
    "$$y(t, x) = \\sum_{n = 1}^{\\infty} C_n\\cos(\\omega_n t + \\phi_n)\\sin(k_n x),$$\n",
    "finding the amplitudes $C_n$ and phases $\\phi_n$ remains to be computed for an IVP.\n",
    "And like for coupled oscillators, the orthogonality condition will help us to solve this problem relatively easily."
   ]
  },
  {
   "cell_type": "markdown",
   "metadata": {
    "slideshow": {
     "slide_type": "skip"
    }
   },
   "source": [
    "First of all though, let me to rewrite the general solution as\n",
    "\\begin{equation}\n",
    "    \\boxed{y(t, x) = \\sum_{n = 1}^{\\infty} \\left[\\alpha_n \\cos(\\omega_n t) + \\beta_n \\sin(\\omega_n t)\\right]\\sin(k_n x)},\\label{eq:generaly}\n",
    "\\end{equation}\n",
    "which is more convenient for IVPs."
   ]
  },
  {
   "cell_type": "markdown",
   "metadata": {
    "slideshow": {
     "slide_type": "skip"
    }
   },
   "source": [
    "Consider now an initial value problem\n",
    "$$ y(0, x) = P(x)\\andeq \\dot y(0, x) = V(x). $$"
   ]
  },
  {
   "cell_type": "markdown",
   "metadata": {
    "slideshow": {
     "slide_type": "skip"
    }
   },
   "source": [
    "We now have two equations,\n",
    "$$\\sum_{n = 1}^{\\infty} \\alpha_n\\sin(k_n x) = P(x) \\andeq \\sum_{n = 1}^{\\infty} \\omega_n\\beta_n\\sin(k_n x) = V(x).$$"
   ]
  },
  {
   "cell_type": "markdown",
   "metadata": {
    "slideshow": {
     "slide_type": "skip"
    }
   },
   "source": [
    "These could be seen as two equations with an infinite number of unknown each ($2\\times \\infty$ unknown total). But because these unknown multiply eigenfunctions that are all orthogonal to each other, we can use projections to turn it into a system with as many equations as there are unknown.\n",
    "For example,\n",
    "$$\\left[\\sum_{n = 1}^{\\infty} \\alpha_n\\sin(k_n x)\\right] \\odot \\sin(k_m x) = \\sum_{n = 1}^{\\infty} \\alpha_n\\left[\\sin(k_n x) \\odot \\sin(k_m x)\\right] = \\alpha_m.$$\n",
    "*Note: in the result above, I used that the $\\sin(k_n x)$ functions are orthonormal with respect to the inner product that I defined. Had I not added a $2/L$ pre-factor in my definition of the inner product (equation \\ref{eq:odot}), I would have needed to multiply the right-most-hand-side of the equation above with $L/2$.*"
   ]
  },
  {
   "cell_type": "markdown",
   "metadata": {
    "slideshow": {
     "slide_type": "skip"
    }
   },
   "source": [
    "Therefore, \n",
    "$$ \\forall m\\in \\mathbb N^*, \\quad \\alpha_m = P(x) \\odot \\sin(k_m x) \\andeq \\beta_m = \\frac{1}{\\omega_m}V(x) \\odot \\sin(k_m x). $$"
   ]
  },
  {
   "cell_type": "markdown",
   "metadata": {
    "slideshow": {
     "slide_type": "skip"
    }
   },
   "source": [
    "We solved one problem but created a new one, which is to compute all the $P(x)\\odot \\sin(k_m x)$ and $V(x)\\odot \\sin(k_m x)$.\n",
    "But at least, there is a road map, which is to compute integrals.\n",
    "If the initial condition is simple enough, the integrals can be computed analytically (which we will do for a couple of examples), and if not, a computer can do it."
   ]
  },
  {
   "cell_type": "markdown",
   "metadata": {
    "slideshow": {
     "slide_type": "skip"
    }
   },
   "source": [
    "# Example: Plucked string.\n",
    "\n",
    "I recorded a demo about this (also at https://youtu.be/KjjZx5MP36s and https://play.library.utoronto.ca/75d36f7d33c34eb9206ce68f642f0891)."
   ]
  },
  {
   "cell_type": "code",
   "execution_count": 13,
   "metadata": {
    "slideshow": {
     "slide_type": "subslide"
    }
   },
   "outputs": [
    {
     "data": {
      "image/jpeg": "[encoded data removed]",
      "text/html": [
       "\n",
       "        <iframe\n",
       "            width=\"560\"\n",
       "            height=\"315\"\n",
       "            src=\"https://www.youtube.com/embed/KjjZx5MP36s\"\n",
       "            frameborder=\"0\"\n",
       "            allowfullscreen\n",
       "        ></iframe>\n",
       "        "
      ],
      "text/plain": [
       "<IPython.lib.display.YouTubeVideo at 0x7fc8482cca60>"
      ]
     },
     "execution_count": 13,
     "metadata": {},
     "output_type": "execute_result"
    }
   ],
   "source": [
    "YouTubeVideo('KjjZx5MP36s', width=560, height=315)"
   ]
  },
  {
   "cell_type": "markdown",
   "metadata": {
    "slideshow": {
     "slide_type": "skip"
    }
   },
   "source": [
    "## Analytical resolution\n",
    "\n",
    "Analytically speaking, it is relatively easy to compute the Fourier decomposition of a string, plucked in the middle:\n",
    "$$ y(0, x) = P(x) = \\frac{2a x}{L} \\quad \\textrm{for} \\quad 0\\leq x < L/2, $$\n",
    "$$ y(0, x) = P(x) = 2a\\left(1 - \\frac{x}{L}\\right) \\quad \\textrm{for} \\quad L/2 \\leq x \\leq L. $$"
   ]
  },
  {
   "cell_type": "markdown",
   "metadata": {
    "slideshow": {
     "slide_type": "skip"
    }
   },
   "source": [
    "As before, we will consider the case $\\dot y(0, x) = V(x) = 0$, which again means that $\\forall n\\in \\mathbb N^*$, $\\beta_n = 0$."
   ]
  },
  {
   "cell_type": "markdown",
   "metadata": {
    "slideshow": {
     "slide_type": "skip"
    }
   },
   "source": [
    "\\begin{align*}\n",
    "    \\alpha_n & = P(x) \\odot \\sin(k_n x) \\\\\n",
    "             & = \\frac{4a}L \\left[\\int_0^{L/2}\\frac{x}{L} \\sin(k_n x)\\di x + \\int_{L/2}^L \\left(1 - \\frac{x}{L}\\right) \\sin(k_n x)\\di x\\right].\n",
    "\\end{align*}"
   ]
  },
  {
   "cell_type": "markdown",
   "metadata": {
    "slideshow": {
     "slide_type": "skip"
    }
   },
   "source": [
    "A useful formula to compute these integrals is\n",
    "$$ \\int x' \\sin(bx') \\di x' = \\frac{\\sin(bx)}{b^2} - \\frac{x\\cos(bx)}{b} \\quad\\text{for}\\quad b\\neq 0,$$\n",
    "which is the result of an integration by parts, followed by a simple integration.\n",
    "Ask SymPy if you are curious:"
   ]
  },
  {
   "cell_type": "code",
   "execution_count": 14,
   "metadata": {
    "raw_mimetype": "text/markdown",
    "slideshow": {
     "slide_type": "skip"
    }
   },
   "outputs": [
    {
     "data": {
      "image/png": "[encoded data removed]",
      "text/latex": [
       "$\\displaystyle \\begin{cases} - \\frac{x \\cos{\\left(b x \\right)}}{b} + \\frac{\\sin{\\left(b x \\right)}}{b^{2}} & \\text{for}\\: b \\neq 0 \\\\0 & \\text{otherwise} \\end{cases}$"
      ],
      "text/plain": [
       "⎧  x⋅cos(b⋅x)   sin(b⋅x)           \n",
       "⎪- ────────── + ────────  for b ≠ 0\n",
       "⎪      b            2              \n",
       "⎨                  b               \n",
       "⎪                                  \n",
       "⎪           0             otherwise\n",
       "⎩                                  "
      ]
     },
     "execution_count": 14,
     "metadata": {},
     "output_type": "execute_result"
    }
   ],
   "source": [
    "from sympy import symbols, sin, integrate, init_printing, factor, pi   # symbolic math operations\n",
    "init_printing(use_unicode=True)  # to print pretty\n",
    "\n",
    "n = symbols('n', integer=True, positive=True)\n",
    "x, L = symbols('x, L', real=True, positive=True)\n",
    "b = symbols('b', real=True)\n",
    "\n",
    "integrate(x*sin(b*x), x)"
   ]
  },
  {
   "cell_type": "markdown",
   "metadata": {
    "slideshow": {
     "slide_type": "skip"
    }
   },
   "source": [
    "Told ya.\n",
    "\n",
    "The first integral is\n",
    "\\begin{align*}\n",
    "    \\int_0^{L/2}\\frac{x}{L} \\sin(k_n x)\\di x \n",
    "        & = \\frac{1}{k_n L} \\left[ \\frac{\\sin(k_n x)}{k_n} - x\\cos(k_n x) \\right]_0^{L/2} \\\\\n",
    "        & = \\frac{L}{n\\pi}\\left[\\frac{1}{n\\pi}\\sin\\left(\\frac{n\\pi}{2}\\right) - \\frac12\\cos\\left(\\frac{n\\pi}{2}\\right) \\right].\n",
    "\\end{align*}"
   ]
  },
  {
   "cell_type": "code",
   "execution_count": 15,
   "metadata": {
    "raw_mimetype": "text/markdown",
    "slideshow": {
     "slide_type": "skip"
    }
   },
   "outputs": [
    {
     "data": {
      "image/png": "[encoded data removed]",
      "text/latex": [
       "$\\displaystyle - \\frac{L \\left(\\pi n \\cos{\\left(\\frac{\\pi n}{2} \\right)} - 2 \\sin{\\left(\\frac{\\pi n}{2} \\right)}\\right)}{2 \\pi^{2} n^{2}}$"
      ],
      "text/plain": [
       "   ⎛       ⎛π⋅n⎞        ⎛π⋅n⎞⎞ \n",
       "-L⋅⎜π⋅n⋅cos⎜───⎟ - 2⋅sin⎜───⎟⎟ \n",
       "   ⎝       ⎝ 2 ⎠        ⎝ 2 ⎠⎠ \n",
       "───────────────────────────────\n",
       "               2  2            \n",
       "            2⋅π ⋅n             "
      ]
     },
     "execution_count": 15,
     "metadata": {},
     "output_type": "execute_result"
    }
   ],
   "source": [
    "# SymPy check:\n",
    "factor(integrate(x/L*sin(n*pi*x/L), (x, 0, L/2)))  # for verification"
   ]
  },
  {
   "cell_type": "markdown",
   "metadata": {
    "slideshow": {
     "slide_type": "skip"
    }
   },
   "source": [
    "For the other integral, and following a similar calculation, we get\n",
    "$$\\int_{L/2}^L\\left(1 - \\frac{x}{L}\\right) \\sin(k_n x)\\di x = \\frac{L}{n\\pi}\\left[\\frac{1}{n\\pi}\\sin\\left(\\frac{n\\pi}{2}\\right) + \\frac12\\cos\\left(\\frac{n\\pi}{2}\\right) \\right]. $$"
   ]
  },
  {
   "cell_type": "code",
   "execution_count": 16,
   "metadata": {
    "raw_mimetype": "text/markdown",
    "slideshow": {
     "slide_type": "skip"
    }
   },
   "outputs": [
    {
     "data": {
      "image/png": "[encoded data removed]",
      "text/latex": [
       "$\\displaystyle \\frac{L \\left(\\pi n \\cos{\\left(\\frac{\\pi n}{2} \\right)} + 2 \\sin{\\left(\\frac{\\pi n}{2} \\right)}\\right)}{2 \\pi^{2} n^{2}}$"
      ],
      "text/plain": [
       "  ⎛       ⎛π⋅n⎞        ⎛π⋅n⎞⎞\n",
       "L⋅⎜π⋅n⋅cos⎜───⎟ + 2⋅sin⎜───⎟⎟\n",
       "  ⎝       ⎝ 2 ⎠        ⎝ 2 ⎠⎠\n",
       "─────────────────────────────\n",
       "              2  2           \n",
       "           2⋅π ⋅n            "
      ]
     },
     "execution_count": 16,
     "metadata": {},
     "output_type": "execute_result"
    }
   ],
   "source": [
    "# SymPy check\n",
    "factor(integrate((1-x/L)*sin(n*pi*x/L), (x, L/2, L)))  # for verification"
   ]
  },
  {
   "cell_type": "markdown",
   "metadata": {
    "slideshow": {
     "slide_type": "skip"
    }
   },
   "source": [
    "Adding the two, we get\n",
    "$$ \\int_0^{L/2}\\frac{x}{L} \\sin(k_n x)\\di x + \\int_{L/2}^L \\left(1 - \\frac{x}{L}\\right) \\sin(k_n x)\\di x = \\frac{2L}{(n\\pi)^2}\\sin\\left(\\frac{n\\pi}{2}\\right) $$"
   ]
  },
  {
   "cell_type": "markdown",
   "metadata": {
    "slideshow": {
     "slide_type": "skip"
    }
   },
   "source": [
    "The final form of $\\alpha_n$ is therefore\n",
    "$$ \\alpha_n = \\frac{8 a}{(n\\pi)^2}\\sin\\left(\\frac{n\\pi}{2}\\right) = 0 \\quad\\textrm{if } n\\textrm{ is even,  and } \\quad \\frac{8 a}{(n\\pi)^2}(-1)^{(n-1)/2}\\quad\\textrm{if } n\\textrm{ odd}. $$"
   ]
  },
  {
   "cell_type": "markdown",
   "metadata": {
    "slideshow": {
     "slide_type": "skip"
    }
   },
   "source": [
    "Let us only consider the $n$ odd case then, and let $n=2m+1$, $m\\in\\mathbb N$.\n",
    "From equation \\eqref{eq:generaly}, the solution to the string, plucked in the middle is therefore:\n",
    "$$ \\boxed{y(t, x) = \\frac{8a}{\\pi^2}\\sum_{m=0}^{\\infty}\\frac{(-1)^{m}}{(2m+1)^2}\\cos\\left(\\frac{(2m+1)\\pi v}{L}t\\right)\\sin\\left(\\frac{(2m+1)\\pi}{L}x\\right)}. $$"
   ]
  },
  {
   "cell_type": "markdown",
   "metadata": {
    "slideshow": {
     "slide_type": "skip"
    }
   },
   "source": [
    "## Plotting the solution: Spectrum\n",
    "\n",
    "Then, there is the problem of the graphic representation of any solution we found.\n",
    "I could display an animation, as I did before, but while pedagogically useful, it is not the representation that compresses the information the most.\n",
    "After all, if the motion is harmonic, we don't need to display a moving string to know the time information, which is completely encapsulated in the the pre-factors of each harmonic as a function of $n$, $\\omega_n$ or $k_n$."
   ]
  },
  {
   "cell_type": "markdown",
   "metadata": {
    "slideshow": {
     "slide_type": "skip"
    }
   },
   "source": [
    "A solution is therefore to plot the amplitude as a function of frequency, and the plot is called a **spectrum**."
   ]
  },
  {
   "cell_type": "markdown",
   "metadata": {
    "slideshow": {
     "slide_type": "skip"
    }
   },
   "source": [
    "Two remarks on spectra.\n",
    "\n",
    "* We did plot very similar graphs on the lecture on resonance, when we were plotting the amplitude (or dissipated power) as a function of frequency. And indeed, we do not have dissipation, meaning that we don't need to invoke forcing to describe sustained oscillations. If we introduced damping and forcing, we could plot spectra of the string vibrations under a certain periodic forcing as a function of frequency indeed, and it would look very similar.\n",
    "* You might remember from your linear algebra class that \"spectrum\" is also the name of the set of eigenvalues of a matrix. While a set is not a plot, there is a connection, because the plot will have all the frequencies on the $x$-axis, and because there is a connection between these frequencies, the eigenfrequencies of the coupled oscillators, and linear algebra."
   ]
  },
  {
   "cell_type": "markdown",
   "metadata": {
    "slideshow": {
     "slide_type": "skip"
    }
   },
   "source": [
    "Although complicated, we can plot the formula above relatively easily as a spectrum. Let me compute a few values, with $d = 1$ cm, $L = 1$ m.\n",
    "\n",
    "* $y_1(t, x) = \\frac{8a}{\\pi^2}\\cos\\frac{\\pi v t}L\\sin\\frac{\\pi x}L$,\n",
    "* $y_2(t, x) = 0$,\n",
    "* $y_3(t, x) = -\\frac{8a}{9\\pi^2}\\cos\\frac{3\\pi v t}L\\sin\\frac{3\\pi x}L$,\n",
    "* $y_4(t, x) = 0$,\n",
    "* $y_5(t, x) = \\frac{8a}{25\\pi^2}\\cos\\frac{5\\pi v t}L\\sin\\frac{5\\pi x}L$,\n",
    "* $y_6(t, x) = 0$,\n",
    "* ...\n",
    "\n",
    "We can easily plot the spectrum for the first few modes."
   ]
  },
  {
   "cell_type": "code",
   "execution_count": 17,
   "metadata": {
    "slideshow": {
     "slide_type": "skip"
    }
   },
   "outputs": [],
   "source": [
    "# Let's plot\n",
    "def plot_spectrum():\n",
    "    N = 8\n",
    "    ftsz = 13\n",
    "    plt.figure()\n",
    "    for n in range(N):\n",
    "        plt.plot([n+1]*2, [0, np.sin(0.5*(n+1)*np.pi)/(n+1)**2], 'o-', linewidth=5)\n",
    "    plt.axis([0, N+0.5, -0.15, 1.1])\n",
    "    plt.axhline(0., color='k')\n",
    "    plt.xticks(range(1, N+1), \n",
    "              ['$\\omega_{0:1d}$'.format(n) for n in range(1, N+1)],\n",
    "              fontsize=ftsz)\n",
    "    plt.xlabel('Vibration frequency ($\\omega_n = n\\pi v/L$)', fontsize=ftsz)\n",
    "    plt.ylabel(r'Modal amplitude $\\alpha_n\\pi^2/(8a)$', fontsize=ftsz)\n",
    "    plt.grid()\n",
    "    return"
   ]
  },
  {
   "cell_type": "code",
   "execution_count": 18,
   "metadata": {
    "scrolled": false,
    "slideshow": {
     "slide_type": "subslide"
    }
   },
   "outputs": [
    {
     "data": {
      "image/png": "[encoded data removed]",
      "text/plain": [
       "<Figure size 600x400 with 1 Axes>"
      ]
     },
     "metadata": {
      "needs_background": "light"
     },
     "output_type": "display_data"
    }
   ],
   "source": [
    "plot_spectrum()"
   ]
  },
  {
   "cell_type": "markdown",
   "metadata": {
    "slideshow": {
     "slide_type": "skip"
    }
   },
   "source": [
    "The amplitude of each mode decays fast with the mode number.\n",
    "This is because by plucking the string in the middle, we created a \"large-scale pattern\" whose Fourier series converges very fast.\n",
    "We can plot this to visualise better."
   ]
  },
  {
   "cell_type": "markdown",
   "metadata": {
    "slideshow": {
     "slide_type": "skip"
    }
   },
   "source": [
    "*Note: usually, a \"spectrum\" plots $|\\alpha_n|$, not $\\alpha_n$ as I did, as if the sign was included in the phase of $\\cos(\\omega_n t)$.*"
   ]
  },
  {
   "cell_type": "code",
   "execution_count": 19,
   "metadata": {
    "scrolled": false,
    "slideshow": {
     "slide_type": "skip"
    }
   },
   "outputs": [],
   "source": [
    "def plot_convergence():\n",
    "    N = 8\n",
    "    # I have to redefine the two quantities below because I used them as symbols in-between\n",
    "    L = 1.  # length of string: 33 cm\n",
    "    x = np.linspace(0., L, 128)  # the x array\n",
    "\n",
    "    mode = {}  # all modes stored in a dictionary\n",
    "    y_approx = 0*x  # this will be the sum of thre first N modes\n",
    "    y_init = 2*x/L  # the first part of the string; I will divide all y's by d\n",
    "    y_init[x > 0.5*L] = 2. * (1 - x[x > 0.5*L]/L)  # the 2nd part\n",
    "\n",
    "    fig = plt.figure(figsize=(8, 6))  # Make the figure a little bigger than usual\n",
    "\n",
    "    ff = 1  # frame number, or subplot number\n",
    "    for m in range(N//2):\n",
    "        n = 2*m + 1\n",
    "\n",
    "        mMax = 8/(n*np.pi)**2\n",
    "        mode[n] = mMax * np.sin(0.5*n*np.pi) * np.sin(n*np.pi*x/L)\n",
    "        y_approx += mode[n]\n",
    "\n",
    "        axl = fig.add_subplot(len(range(N//2)), 2, ff)\n",
    "        axl.plot(x/L, mode[n])\n",
    "        axl.axis([0, 1., -mMax*1.1, mMax*1.1])\n",
    "        axl.ticklabel_format(axis='y', style='sci', scilimits=(-1, 1))\n",
    "        axl.set_ylabel(r'$N = {0:1d}$'.format(n))\n",
    "        axl.set_yticks([-mMax, 0., mMax])\n",
    "        axl.grid()\n",
    "\n",
    "        axr = fig.add_subplot(len(range(N//2)), 2, ff+1)\n",
    "        axr.plot(x/L, y_approx, x/L, y_init, 'r--')\n",
    "        axr.axis([0, 1., 0., y_init.max()])\n",
    "        axr.set_yticks([0., 0.5, 1.])\n",
    "        axr.grid()\n",
    "\n",
    "        if n == 1:\n",
    "            axl.set_title(r'$\\alpha_N\\sin(k_N x)$')\n",
    "            axr.set_title(r'$\\sum_{n=1}^N\\alpha_n\\sin(k_n x)$')\n",
    "\n",
    "        if m == N//2-1:\n",
    "            axl.set_xlabel('$x/L$')\n",
    "            axr.set_xlabel('$x/L$')\n",
    "        else:\n",
    "            axl.set_xticklabels([])\n",
    "            axr.set_xticklabels([])\n",
    "\n",
    "        ff += 2\n",
    "\n",
    "    plt.tight_layout()\n",
    "    plt.autoscale(enable=True, axis='x', tight=True)\n",
    "    \n",
    "    return mode"
   ]
  },
  {
   "cell_type": "code",
   "execution_count": 20,
   "metadata": {
    "slideshow": {
     "slide_type": "subslide"
    }
   },
   "outputs": [
    {
     "data": {
      "image/png": "[encoded data removed]",
      "text/plain": [
       "<Figure size 800x600 with 8 Axes>"
      ]
     },
     "metadata": {
      "needs_background": "light"
     },
     "output_type": "display_data"
    }
   ],
   "source": [
    "mode = plot_convergence()"
   ]
  },
  {
   "cell_type": "markdown",
   "metadata": {
    "slideshow": {
     "slide_type": "skip"
    }
   },
   "source": [
    "In the figure above, the left column shows each individual initial mode, and the right column shows their sum, up to the mode on the left.\n",
    "Notice how after three modes ($N = 5$), most of the pattern is captured, and adding the fourth mode ($n=7$) does not improve the solution that much.\n",
    "This is why this approach is feasible: because we usually don't need an infinite number of modes to obtain a satisfying approximation to the solution."
   ]
  },
  {
   "cell_type": "markdown",
   "metadata": {
    "slideshow": {
     "slide_type": "skip"
    }
   },
   "source": [
    "Solving for the initial conditions means that we solved the problem at all times, as the animation below (saved under `PluckMiddle.mp4`) shows."
   ]
  },
  {
   "cell_type": "code",
   "execution_count": 21,
   "metadata": {
    "slideshow": {
     "slide_type": "skip"
    }
   },
   "outputs": [],
   "source": [
    "# Various quantities\n",
    "N = 8  # number of modes I want to display\n",
    "# Below are number for the string E of a violin (I think)\n",
    "L = .33  # length of string: 33 cm\n",
    "x = np.linspace(0., L, 128)  # the x array\n",
    "F = 68  # tension in the string: 68 N\n",
    "mu = 0.125/L  # mass per unit lenght of the string\n",
    "\n",
    "v = np.sqrt(F/mu)  # phase speed\n",
    "k0 = np.pi/L  # the fundamental k; k_n = n*k0 and omega_n = n*v*k0\n",
    "\n",
    "k = [n*k0 for n in range(1, N+1)]  # the list of k's\n",
    "omega = [n*k0*v for n in range(1, N+1)]  # the list of k's\n",
    "\n",
    "t_end = 2.*np.pi/(omega[0]) # time array spans one fundamental frequency\n",
    "n_frames = 100  # number of frames for animation\n",
    "time = np.linspace(0., t_end, n_frames)  # time array\n",
    "\n",
    "k = [n*k0 for n in range(1, N+1)]  # the list of k's\n",
    "omega = [n*k0*v for n in range(1, N+1)]  # the list of k's\n",
    "\n",
    "imagelist = []  # list of frames to eventually animate\n",
    "\n",
    "# Animation\n",
    "fig = plt.figure()\n",
    "ax = plt.gca()\n",
    "ax.set_xlim([0., 1.])\n",
    "ax.set_ylim([-1., N//2+0.5])\n",
    "ax.set_xlabel('$x/L$', fontsize=ftsz)\n",
    "ax.set_yticks(range(0, N//2+1))\n",
    "ax.set_yticklabels(['$tot$', '1', '3', '5', '7'])\n",
    "ax.set_ylabel('$y_n(t, x)/a + \\mathrm{ mode\\ number}\\ n$', fontsize=ftsz)\n",
    "ax.grid()\n",
    "\n",
    "k = [n*k0 for n in range(1, N+1)]  # the list of k's\n",
    "omega = [n*k0*v for n in range(1, N+1)]  # the list of k's\n",
    "\n",
    "x_positions = np.tile(x, (N//2+1, 1))/L  # replicate the x array N/2+1 times\n",
    "for t in time: # We loop over time to animate the modes\n",
    "    y_modes = 0*x_positions  # nx positions for N modes\n",
    "    for m in range(N//2):\n",
    "        n = 2*m + 1\n",
    "        y_modes[m, :] = 1 + m + mode[n]*np.cos(omega[n]*t)\n",
    "        y_modes[N//2, :] += y_modes[m, :] - 1 - m\n",
    "\n",
    "    im = plt.scatter(x_positions, y_modes, c=y_modes, cmap='copper')\n",
    "    imagelist.append([im])\n",
    "\n",
    "# Creation of the animation\n",
    "ani = animation.ArtistAnimation(fig, imagelist, interval=40, blit=True, repeat_delay=80)\n",
    "plt.close()"
   ]
  },
  {
   "cell_type": "code",
   "execution_count": 22,
   "metadata": {
    "scrolled": false,
    "slideshow": {
     "slide_type": "subslide"
    }
   },
   "outputs": [
    {
     "data": {
      "text/html": [
       "<video width=\"600\" height=\"400\" controls autoplay loop>\n",
       "  <source type=\"video/mp4\" src=\"data:video/mp4;base64,AAAAIGZ0eXBNNFYgAAACAE00ViBpc29taXNvMmF2YzEAAAAIZnJlZQACD51tZGF0AAACsAYF//+s\n",
       "3EXpvebZSLeWLNgg2SPu73gyNjQgLSBjb3JlIDE2MCByMzAxMU0gY2RlOWE5MyAtIEguMjY0L01Q\n",
       "RUctNCBBVkMgY29kZWMgLSBDb3B5bGVmdCAyMDAzLTIwMjAgLSBodHRwOi8vd3d3LnZpZGVvbGFu\n",
       "Lm9yZy94MjY0Lmh0bWwgLSBvcHRpb25zOiBjYWJhYz0xIHJlZj0zIGRlYmxvY2s9MTowOjAgYW5h\n",
       "bHlzZT0weDM6MHgxMTMgbWU9aGV4IHN1Ym1lPTcgcHN5PTEgcHN5X3JkPTEuMDA6MC4wMCBtaXhl\n",
       "ZF9yZWY9MSBtZV9yYW5nZT0xNiBjaHJvbWFfbWU9MSB0cmVsbGlzPTEgOHg4ZGN0PTEgY3FtPTAg\n",
       "ZGVhZHpvbmU9MjEsMTEgZmFzdF9wc2tpcD0xIGNocm9tYV9xcF9vZmZzZXQ9LTIgdGhyZWFkcz0x\n",
       "MiBsb29rYWhlYWRfdGhyZWFkcz0yIHNsaWNlZF90aHJlYWRzPTAgbnI9MCBkZWNpbWF0ZT0xIGlu\n",
       "dGVybGFjZWQ9MCBibHVyYXlfY29tcGF0PTAgY29uc3RyYWluZWRfaW50cmE9MCBiZnJhbWVzPTMg\n",
       "Yl9weXJhbWlkPTIgYl9hZGFwdD0xIGJfYmlhcz0wIGRpcmVjdD0xIHdlaWdodGI9MSBvcGVuX2dv\n",
       "cD0wIHdlaWdodHA9MiBrZXlpbnQ9MjUwIGtleWludF9taW49MjUgc2NlbmVjdXQ9NDAgaW50cmFf\n",
       "cmVmcmVzaD0wIHJjX2xvb2thaGVhZD00MCByYz1jcmYgbWJ0cmVlPTEgY3JmPTIzLjAgcWNvbXA9\n",
       "MC42MCBxcG1pbj0wIHFwbWF4PTY5IHFwc3RlcD00IGlwX3JhdGlvPTEuNDAgYXE9MToxLjAwAIAA\n",
       "ACWoZYiEADv//vdOvwKbRZdqA5JXCvbKpCZZuVJrAfKmAAADAAADAAADAtr0eJM75NTxNgAAAwEK\n",
       "4x8FpH/AA18KVlPImLY4vo1C2A9QqsyIBeyazuaSmkOjW3c1szgBm88fXWpmy4fNZnSxiR981QZ0\n",
       "tto8J7q0XFwTUjOHJUX+hR7AB9xc4IwYfvgsQo5wHBjfH/EE/QCKWsnQIQdPb/GnP2PfaDzB/sYE\n",
       "Clm5cEBIYJIWwqu1Ebf94SZxfmgVC2PHoTyOppoZs5RtFGvjLUDjHwvqWZyArGnF4LRvoJZDaVuR\n",
       "ubhokRMa7bkSJs9uzKZsBwc6DiT4UPUawWwKXc1HOechhjGKch1dxTpqydJ465e8Ojo0h61ycY8D\n",
       "oO5rMC4NxbG9Pbod9B3OkfouF/dpLXtNyA+Ma7+2m/1tl39xoNtkfiy9HFGJeK4B2nkfR8z/sa1m\n",
       "l8W5w7ICFTIVzTcqkSpw6anWqH/lJe/7u03tp+uPf93yEeIo1QQ8U5Oli2gScOFmoeNw5XlRL/Fc\n",
       "pPsNv9vIQUPW9N351hZXuB4YRQnMzzEHtRZPhNgdTxCUnFXv4NhWlHI/1d8y11Gc8/sP//bfdEiZ\n",
       "/aT06ImSvcDs2auYgU5SLox6l14HcWcgSnmIKQ+GMrnt133M+M2HPbHGUgL532HQTFI75DqN2ic/\n",
       "32G0WFVL6wp7mvf8bACURrW3sozEAYFSpS26HsUGU1Q605LFUxYBOZGYlfGPojUX3oj2f2O5AIlA\n",
       "ihp9sz1ttdhLfVtiL5E4BbTZMuHaZDzxyH/YyFVIReGe2VgtGBzEziylcOf73pP/Rjp8a+6zT8zV\n",
       "5ANS8+J3W+Ha/jOlnTTR5Qq4IKP/nKAb85ETdHFiNNCDSXGOiJZ/iPfzfFnuzpnIqIPjt+bL9XvJ\n",
       "3R1AItarG2Ld4ZTJS8HZToIgxgsod+x51ihbEto0eEv3IBF4F4VvDi3OfdVxdqqVCyVburgSZjQt\n",
       "zcxpkfcyVL1wl5xXMkffTXnodMXmDCuViXeCGy7QNB48CpQsKh55Cs5zUapfnK8+Y6I9DpX+EVCq\n",
       "ojG7XxX9RL/F1AAm0gycCG5Wkt8oM1dlZfmaf3XqP0M4B3DO6IOh2/Cn77WCwOn/DKhTFV2QrJI+\n",
       "dxXx+yhKJBaHdc/Vezq1YQ82Nwk0tejQ85oqI5ck4Nx0zItKf2EOeuxsbcqBE6y2whLOQS/oGcSi\n",
       "p6Xj/ZF3jpYLDHk1MfqSqWmENJGO5fFkACsTmB/34Z/BLv//J8eVDcjhxI/qP//YrLYSIChr5uSn\n",
       "YS5H9vCqEUMXxmDM3HpOVXk/huligQi9zUjBEfWqH9HH4mGYIWOhgPlAjgHveSKzSkAf+qcoPqO7\n",
       "E+4VKXdNYauv/o71IW1ALIrUTFJ+H+vUcvL2UXdcU9vH6Fjm08nx1NQQv5Fpb7+eKIbHbZsymDJD\n",
       "GhA/CE24HgXiFE2d49JWUjtu/sIguyU/NFbEbFXBe1W8XTUHzVxffrjJSuzRhnCsiRHWgHBYNnwj\n",
       "sabBgfuodVYHLLEIKDHSsvSUkquYaH2ACNYnMCUm02QdrvcCXC/bJvVtWEQsEUzqT4BmvelYBl8d\n",
       "aZesNf7lMMyVjkjria0opNwqeYo/VSm8P/Rd8v2tG9RtfnVp5WqaPeQIlUatBNVB5sHtb/4SgJcQ\n",
       "cOtt42T7eKwwthQgiU0jFzVNm95rtNT6dknmlwabS/6gfe9KCuFNoqFBPTfmPqXfMEQwAE19+Vup\n",
       "ku+SBq1KYiME0lNhIN/ym1Zaxqk7zNjMLIwWjVgFaMUNF9wHcEti7aI3xCpQerd/Mw4NNf5191Iw\n",
       "CHzAiQNhdL0eln5JnQjvLX8GBjWKTlCdZ1XCxfrar1ycYOukdeYnRIpMe9lcSefzlaHJPzOI6DIy\n",
       "+NhtWDWh6ZuyIMt2o6PVy/rsErxZUvwG66QFvf+/Km9nvydBT6X49xBdJzv/76i6IfCWUAQPTujA\n",
       "WwvltCMgGGsNsfVLytPrOVvdYViUWz7ElVMpjZ2Er0xsyPxygrIzNGev9+DLNVR+4Ji5AH78ierz\n",
       "vaM7lNvnnYQ0AMerc0M+iU/qAMQb8Wm58Cf1qDeXz2bdEUpiVwQSb5Jy4VnPWawy1EhNw19zkVHz\n",
       "iwoUoYZdWOf03UMNH/R7p29qAt1ZcCzIikNAbUxtHXRy9yUxIGx2bsyBKcBbmrTz2fZa9dArUbs5\n",
       "OkyAH1ZPIFkEbD+fJObb+Evq/3Yqm/zw2/T8g/e1A5rFgbNswGdixhtkXzbhpUlZl95bEh6MVqnZ\n",
       "C62e3wV2vlTmqq6BUHGNfZYWB4fvL8adzF1yt3xZ3Dw6hYj9yToLmdZpF8sT/Y2B6RQHAJaHJYN4\n",
       "Y1kTakT4f0RfKi9xuKIv4n+x7BZyummDZMMJQsp7y7tUmKADWG0X0g+dtaMrlSHBa5qIfpaQUHI4\n",
       "1iL84asB27Uq3RDCITfjknSpVbJiX8/zsB0yaTAf50TtC/RgE1y8z6wGox7TY6WMsDcy47wUer0Y\n",
       "s45CHeKXjGz8t35MohjeDCsTqg+5NPUiJdtfWINBwlLWUlSs0WUKFqQXgAi+3dDYUnoK1JaVAGt0\n",
       "PQSZz3lgzcNu2Qr4ZFQLA9NNtvTsLTVDbyhkJF7zoN67LXtDidrzLyliU8fA5DbG4m0fa6lN+3BK\n",
       "33Jx1ikHQyivGdUR2CnIh+MTJ1oqRX+WsJwgxmqsP7W2TodBC9MmFmCqtpds/F0NS5LVkkjmieky\n",
       "k8QYtrH5aoVIPUhMDOTro+xxTKUVmvF4WyOy4g+2IjQDETOEJMpJh8gnupS9N1/jsx+K0wa4JfiY\n",
       "ak3O9rdzAVSRXdKuzZGlmRUaFa+zoEktt/ibHKS1hNGwCxoHgb+RPq/sb+UV5/7CR8xYWby3wmNF\n",
       "KMsFf+CdnZAHyrYL96f8XMu6xhHi+NgxM9hWo5TwX9ezxxlnXA4hSTQ3RZ1Sd1NAGAgqewpvuogk\n",
       "vm/om2wen+6JFY0OkS9yhHhiI8fHRnQGGirFREv7/1ghzik6mXfM5eu1LlXxCK9VVWIaSl1amSCw\n",
       "mZWKPbuYbXYGDdjMojn6QTZGTW1QxujtJ4VWH1xMYycmAD838AZM/ezSOwqZhaPpBBOPowtiJYGa\n",
       "XV5SCypeDD09jEjji3Tmhrq9nws8pla3FuVEcGrvc+BL/XaRwIdnNMJyhOVRSPLgQsZYzsmkQoAf\n",
       "t6yg3IxnYXAds5zQaDE3MAsid/4wL56xk2pljFAVKF68lBR+wSb8e/Stq85CDPXtfgslpsYY9kvH\n",
       "n12YxekucyaYiU8X9R4SGUQ5MF2667KcF0pyQWVzCtmfZo59FieJzw8ao8oXGvmawVwlRoAyBDpy\n",
       "XzmpgDQEIe9o1MR/iriN1N11Mci6QP5XadE+hkMdBrr1xN0RMrrv0yrmNjxrDxaBr4In1nNdmP2p\n",
       "VSB8Z1obS1J+QdYGJimRdB52QaiJa3h4A0/NNa/KkuYGpI0tGZLDX5DQJwzYGr9TUBb32LJn7nAK\n",
       "+tYoCQZF32lSWbClUwU+5fq/R5BeSSEgk+SV/wxhzxffz7gZiZzvnF85zoIWvvsbn/aBHkWGvjNw\n",
       "ipXIuODyVhZfFqDgBohDFoFHadCCq5KYNQTs+sQUJxLeqRLRj7Q9lt807NgPrEQs023LUzwZ+X8p\n",
       "mpYXqvqe6b2D2MTxOaZOMqFePmZtn/6dlsaIHz601wxbzY4hSTvboK3koabffYUUcrrlotahx6dc\n",
       "iOMB1gvLBkKjJIjfoL9BGSlmzZ2FTElJWMMtkWp78eMFSCg47ZAUjNseIxNNQspG//+7afQLEOC0\n",
       "nGUc6tXn63dfPGarj7rS9JL6nlVx4IsQOBV/9WP8f4Dk5rn9buLMUqMxCF0ZAsIDm4RAMFs+CG6+\n",
       "cx2vkFDNN/hMo7542FTrixTbK9ZE3SI2FG0ff76yTv/AoMiS9dLOcfeGGGv2W2KGxv6Ixh73mO/m\n",
       "BJX0XrbIdxpY4pyNd5VUmm2yaw4FYFfSUZPzwrLlBMdwYZqi6weZd3/97M0tWVXL5D7moy+uxqXy\n",
       "6I0Mi9VVxUTLLtuqBPmiRzxT+4/7pdQEwHv7Wkyv69alzyvgBqSEYkyfJmXRQKLrA9EMmCm4L3AJ\n",
       "F8P4oPL6fsrU3mBdPaEl96mgngbUgbao7pJMVq8TiIBKmHluxHm7Di6tZxtqvjJu+oENNYj1uDb/\n",
       "qhAcxLAE5rB4KHzWGm8XxjHGpMOqflooJb7bKpOrUX7vaiE8YqZ9mBtuZRxkDqwFiXSmjEfJttP1\n",
       "jU9rxUlmFXyFVj8ZDUf8xABRUMXFegxVvQfHDN6xR39VwkhuDkfUdyApshEO1tn9GOxjXrM3208p\n",
       "iMALYIhInxjOW+J+mhyGcO14d5NBlS2cRl3TJeN7eJ0WCSkhz9zYGaNgLuKzf2/Pj6sZHq4vF56l\n",
       "QkPEE/Cr9YQNLA8R1Fs3Uopj4Du7rFMoKRISE4nvWq6z5iYfUAvIaEf/OuoIts2NgmZ+gPSFxjQr\n",
       "Xq3a46Q0ubAms21P57O1k03fYc7HeOtCB4yipuztDRQ5NzentMeDQEPEO9rqPEEkSkQCM+LE4a6N\n",
       "0umyI+CxP/d69gIP/yitmKvi6OSutaiHqtD/inCO4udmHz6d2UkbcEQJbETfV9bjowzp8Nuysdx8\n",
       "j8BSyECcgjNRyjnrzggmP5ZswLSEM/gt1VnsRCyMXQz3IKDn5DKqN87S2yfcAcC3sJ/OqA19PMGv\n",
       "2YKlmMQsgpYy6k3BxMH6NvwX/DbRvcIi+YiJUBLLIZUrcFGXMEuZZoGRiSzxIr7t+hg/LZZH+uLY\n",
       "CCoN4KTGjkspjt8RIf3FnYjy/JYAAg5QIVK8KBZE9hV0NFg+C2NO6QddHZExZJKyJagY1jfS5fRC\n",
       "D11XANXFLUW6jHGA80IQSHNMX7Ufuwryyf7KLIQZrfZFKeps9nXemOii0ucJR5jwEhf2ROl6f7q0\n",
       "beAAVH5ZBbPu/C8V8aJqemOTSSsR2SIL+PK1qq50rPUOjngFUIbYzv11V+STB1KpdiOuT2qMhZV0\n",
       "kzReAsfxufRqMMlPKemOGNYvuwBlOctnTvZ8vDw2IMVaBB1LxNVfHfTpLSMiElxGFT2NGm18wwh6\n",
       "HkFz9tQoLyg8yk5UHgCdDTku/TnlXUKiTrqvRYO647ImvsUvFFDMf3uAXbDwtMcz/2C4KTlJs6KI\n",
       "5QhowM1yMLY7DGT2KePW3zZXNON/zGV5PmI8hTtALHegPP0BL6KsdqVC6J0hipMXb7almX/OhLhT\n",
       "/TyspIYIlvAIwxWWkdl8Fs65esmf4Edv33AJGw/o0Ft5+4itIwRTYuknq4SyEBlhium+M4VxfVjg\n",
       "v1WJESH7Lh9sVck8K1wE5FKbZwFO+9lToCdDgahaUG8UDFKbom/rXiGv3LNgKW7K3q7zoG76crPl\n",
       "E1/W7jA/VHh9gaV2BBNdBI8B2fafTPn5tzRJY1mJCjHsYOi6Okl1fiZhN0/CrO6J1BuvTTpub3/j\n",
       "40Z+/uH4Ebs14P48mQCyALd2ItQ01a0b6e4+wtcj3bxJitjFyawIovSh9ZzJLpEHohaJH4QZzsLK\n",
       "36m01VCBY73XuZ7/OgF6PQPgHZG38e3dpP63FMzEcp2Y1ObtFPnKAIj/+IDdKGb9wLfGs36hO5dW\n",
       "jB4AbpGQ+jcZnhjl77Zrp/p2WtZ5KA45ZbiUEiV4PFkWELgfuJbg7yXozKARtYhkDf0456gQhzO1\n",
       "/lyXaumSouXGBxwqlWY5AUXmArcNAgdkJZbQ/lNrTGKQYpmMHkvZjnfg3STyGrn4BSnXZNFWw8s0\n",
       "Ogz4wfMHsvHQRYnQoiKDecbL7S5vmJblkYf8hEqDxpLkI7Lqd437Nd6pz3llyNAmxqTwAd8TvT3d\n",
       "7YF0WQb32CZee6e4yde3VtCwOnyxHPDFUVhrqN3jUTupISzWORoM6PX3+ZknX+Insh59eBEiqmDr\n",
       "X/7qGlr6VjJNvLX/RT/mdYAXnfvUQAKs/HXtEcnZTeqDApq98EH23nXpgWXlfqzenUBw8s3YWN4M\n",
       "uCzEff5E4ZZeRYqWSci/6gjb476BOQEvuwpffN5lTYwGd/eOdf9AS/FokzR7OdKvwwSw/64546oj\n",
       "K0btpAvnCDfbXpsWhkAQKT/Jb01JAn+BPcPdL8CmHplJhHpGbFOEcCiwh/5MGo0PyKnEjTVMBTIx\n",
       "kFa9Ajsu1lQEkNRO85i+R9/fAGmvADkyEFhtmZZAOibz758sFFkxE8uPd7/+m2VRxYfFCyiYTUs6\n",
       "u38iLw3soyaWYTIrd5+b8w3MbIDiGiet1yqBfY5H/JIqVDV3zWVU8cYJqh+qFZcUJlJN6Xun2Aq+\n",
       "jl4HJ0DTkTrzTOHLbmnjUpndHJirt7kO9m07VspCSh6xKA8+FJxDmwozxqXE4kAhb2gUf46u97Mg\n",
       "G1Q17ZO9u9Y9Gd8f0abnv+o5FqMCJ1jTrfjj0FA1bvCqTpoY4i0dlbEflWyjtd/D+EeCENtDWsOz\n",
       "shJ1RBpP6E0ULop6piFOxOPEekMzuCToqBnc5qqwn+R0UP/0QaJ5ODJzoHBCpFJ3OA0Q1wLB++9x\n",
       "rnhmqIMMLHK0ZbkxBldsOl7dofzhFPBYG/QMyXTW0Of+ye4RA9ydDVlQDp7Nb6DdIoKnUC+XLCJ9\n",
       "A59gQCare+ST8xIXnmOe1A5kusys6Ig8mMRJ+Ye4DnGCjK1a6WeNgZsi+IW4RHWz/zDOgtluyOAY\n",
       "1Q1UbZH8clreRCYCGPUvPooZg3BcfUMywuwjVgijQDjD8pJXbdk0cfhkE88/mY2EbHoIlGpaieCg\n",
       "UUzExkYuOH9pcSvFW+e+AGqu5bFQKBNHn4SvAuPnmEHkByumJ/w/sRDlf8a9C1xlgvjWoeqDPk1+\n",
       "KWKdWxuaPNwEC0aQZFhX0jNkhUeJsgX1WgYJcgQZNNvo8xNUVv1p/uBgyr8sB1tVYdcrfAknjnW3\n",
       "cN+j50SzlLlhePlp56iPI/6WjSS88JL1krFDZXPevBR0BpeAACcjbfegeFM+aUg+ZNsLrQFb39sZ\n",
       "LBSaFo5D7J6rbv5jpicTZ22g48W7Qlbi5wNbStNvOY1AwscgTx4SAemtg/33lO/tk2OF7f9KRJql\n",
       "Ox6XHGTXT/PDy3/rKmz6KCEnzOFpwu0LwmX9FeL8AoMi6UV4VK4fDDixbkJIKi/p4cKt1ynCO1oG\n",
       "U9d2kYPEchUjm28ESLMWGWdofJgiRLwSHCW1KrGVwxwcSqyxbtl/BCXgPorPaHZgfjNTOKhdjaCO\n",
       "iZGjYlpECDEb3YtwA0+s76bIfY387LCT/QtD7lqZz8Zz3qpiHN8U/QDhqzjMDCvvNR9jgjHGwrAZ\n",
       "OkkTTW644duVdvgdaUUOzBAjnzBNbVauEK0kv4d7d5YF8EAU/E+QwKVeyiP1xZdO+7tnmErtiCIT\n",
       "iLxeXc71T154NFQvfl6X3Ij211ammnpqvdO8HIdS5Jm5bIskEDK0TDiJK7TVoBB+evsRz2E/4ojU\n",
       "Z4LWSReJ6JzmrQuRpDTkwfTOrkrsozDR8ED9IZ9oX5jBWjlsxsrpt9dlHSCqVQ3WIm4TtZA+0gP5\n",
       "btSdL9w9ZavWZFaAAftCQZAZhrtSDjXQkFd7ctclX3MToZUx1sSzjHSmtcbozWBZ7ip37C1FDw6M\n",
       "OLu+c3EZ3LRro98QHPZEkwXMWLHnTnXU+9u4xfyKHl/XvGHX/qpgrwq7zYE7KgwrQ6Kg8pjs2sMW\n",
       "Mbfs7VUnDGo8GQ3h+NYuXnkMHLO9Xlxyf6m+Tb9V8+Qlbv65C5iYXn1etC1wvaWEfCHK08nNnhkB\n",
       "wnBwm7M78vJCi7JGUfrhEQF2ePN3XyZT27GE/JgVWAqFX2tNtjf5rWvn0PHAExJ0reg6Q0Ck4kRQ\n",
       "I8daRPVm0n6i3J+UFnkGVjfw1bJ0KKybPd6VAZbaIvt/6AMuN12K3e9Jb6w8E26QHZs7QzWF1c6b\n",
       "Mdtgc575YGDpCI3FPpxaxveVjW/4ZHnkspgRstMIiHDM5N3DtcU63tUbRC4YdqQhA17MymB4RCGo\n",
       "ZpjV9qqjbXc9vUmjeLjm1FXg87NXvQ9pbIZDl5otILDM0CNP+Zx6appL/ex9NlCBDoL7wkuqbco9\n",
       "PoYfz0JB1bU1m+0VztlsBj3EgMg+aizFByto2xn+f1m36YA6zKdaqq2yLQ6dDlJP8RQDq9TSbt/9\n",
       "RtCued0dso4XsrOy26ujOrJZpzM+cSoqMGaO0WMiq0qsQb7py55sOA+wyg275HENmQeoEORlqCd4\n",
       "3TUUd4H0QGMQvlSJD7yZY8c/sXwLgURF2l9ntQzKV4QgHLP8+vDj2ccaywXNrhMhv/n3oaL/5VRp\n",
       "nBknyRr7yVTHY8nfdTpG7Fv9vKfUuTFaNUO8lOlUUztb+B6uJoPy2DIOni0p8x5h/hTAiknkl9Jh\n",
       "Su+ijFHNXkwZCPQsWt5oc2o6Q+nCoMWZpJY018zGm2RxIToxNhJKA432fa7YDp+iQD+W/1nZgiJK\n",
       "UGqxD+aZhtP0+R0zMbPU3vLXVODJeiN/EV/3vt+AOmGlim8fI0ABo663x2jBahmsUWleWEK/4tWn\n",
       "v/g/ip5pSmVYIQSDbeOL8DyXBL/M7nUXq77V2nt/4/lHQw+s5gmZ0xpZ0/+ccbW2Af9knJwtmeEQ\n",
       "/sS3B8dFgMuts/PTgDQ5UfhzVQGurfLFkgCCJib7OzmneRpedXyyCz0Ir9oplI+Rtelqcp2jNe/X\n",
       "A/E3W0yXC2JH7yeosz9S0lcoi/h2s2HIiDh1ZDzR84u7dv/ZaMf7NeWSIj8aMfyy4wauzR2x78aC\n",
       "bk7sjW0Z2H3xoqxcZ4XvOSsxbF5RnMFZn2TKgz+0YMoW9s4eD94fRfA2Ai5xBTvEzTsOetuCjBBn\n",
       "vRK96wuFHd4o3NYMjnTuq/7QkGWMOy6xUNCQDX1GegvZDqv50ixf0S56XJDzZuSwd6Zv0t2vmpXj\n",
       "QD29TMv5m6hgM2i1J8EeFlKt+eRhrI7gnEFVhZwP8TY40ks8fhzNJgX2Wx7J58XV/y2R6avv1IGf\n",
       "k3a4SxAmsO70d/b6RLmh/4L9HiWZwTntzQH9RQrA76nPWfev8098jcy0tmvfyDbqUmeeCeN9KTxp\n",
       "5MXGMVqqIR3cWSXG1TWxMcTkvjLGzCO1qDqlgror8QxvXjM8l43IiA4+Ebvlus7B4hB5MdzURo+t\n",
       "iOM07lGz3b1CwQ+kwZwwYtmnot0IQnqcjMR7n4dW6fYeVut+FxNebnWYwTRomFhoeugq4YDWFGbg\n",
       "+6oyYoZVdIjPyFWSoyA8LQ7sn2PY1A63mStjuKcT8nMJAVMZXc8YL6BIIPX0He1ccx10nN/aPdag\n",
       "Eh/EpkVUaxvuvzms2EaY9bnlznR7lGVdAI2Q+EnUwzi5CN04pp/GsmECxXv2/wBIo7Na3T705q9p\n",
       "boXnR8NoUwsMmKofLb4BKpdIYyMAiJV3gk1Vb47QkBFSFPMu/8Ja3RI2Tud1u3ZY1dnzSYXGu06w\n",
       "ncKMkrVUOb3ZZBVUK/2uzNjF6aSuuM/swnnmkij/8FntncM01gZ20xkj6mYn6SN6oaU7d0nf9lK6\n",
       "ek87aR9Wqhnl4sGemzdtzrexjAA0j2m45l8OgU+NWiAzY69JvdEYxtXRMuaupEwcXAA79GNtDQVl\n",
       "qS806zL+6c8N7SUvfUIAteBnURh6DmKvkqnANvYn/bYoHpW39MUlpA7sdPAVkwG8BR+KnGJZcIq1\n",
       "xeoKAjZCadF0jJBypLpwhsRQqsJgkU3EBwQl7qG3dPJBQSbPclR5hTc0OWdt2gNTY4tlXy4nGA9e\n",
       "+6d3vsxqeE862e4ikP8BXpc35cqupgCtSeG3SmG2xxb0iJf9Th/uQtKUFP/00zoJjO/DxbFuptY0\n",
       "41hwKzU8r2s4QnMm3Mfj0oTAkjggcO4zwOQAIskT59I71cQU7yzhnHx7xl8CkD/C9ZO9FB95xDLc\n",
       "Qu6swsMV4xu1qHbXBJliWqyxI93puXG4lFvkYYSDFeUXxDQkDJinUOJS+5yHnipKqoQehbdJ2+hX\n",
       "GN+PGhIps6cmYDxdS5eFKgiHlJpmCITq86gUGDCKlQ0bZOGuRt9lcseCCUoYidJykiTwLVcRwHdL\n",
       "JCSyQz3L9N/KJV1dnPz+iFu1UGEWXt3etYDCTJMOdmLLWlDyQQP3PCXkzvNVGQUvnIa4UCnvzYg3\n",
       "G4J1THSZMRScF7VtvKzZeY4uZNiI49vQ55/PmvzC6/JyY+c1fjD7MqcnCKOAAA1x3g0KrR20JGyy\n",
       "4i2hC171np7rKk8/JNEUtJPYY+ER+Xzr/p5m6StH/at+mBCJxygS1+WjjzbyhnGXIQf3OOqmntPn\n",
       "BvCTjYMrKwGsK6lG6UEdFHfoAhvGFhFFvjpLG6rwv6eR3Ctj6MsLfpftm0BJVr+uNBph3IYlW+vB\n",
       "wvg5ULFL+VLdiastZfI5oyAzdE2LRXajg3VKjhptQCE+bf490gU7Cmpi5OcoXOz+vV9HaL5dW6Sb\n",
       "4NOkH+6a6d8iK9ZvyuU0o07RYObZo4K11Cx/OHOnNfohfQErJ7O3OqZtRtVAGPrFcP7IOFPHEr61\n",
       "DHZd/kKyk5JP/Os725GhsgMj2q9S9luIz3Ul6ekIDLXLgdVnKwcYo+oe///gyg6g/ScmfcWiMrS+\n",
       "/uvvu2TfLH2lvay6igDz/4OOtlmqHmLDHI8Hyu4n2rDEMXgn9GbdB88mq0tgEAleC8onWeeOc/68\n",
       "KvqYZRCjC7BdovE02zGTTpT7zPOGe4Inyudu6xfML5FQmcxbAfdAqfxBTNeo6kAaf4RpUlebLn20\n",
       "h1IgwYiSavuljyyBP4Ddn2n9KpwHv/aemLzVr9/tb/IJR2BGwcG+wsQQLl4Z+sMj533dMZ1x+Rsi\n",
       "qirtZ9WmYkWRKBwFCPhH3zmi1Dm1rO6KhuHxVM9/3UsN2PfpuMXThLRCboXTWZh+6WCcGM6Jk9Y5\n",
       "Z0+4tVe2o6FB6QH4ONMBEBe0wtdfH7izxwr31ckD4Ct9LZDSaE3cxASz+bjhG3hCC3UtIcoJd7zf\n",
       "MF2fXDipK+uFrRAHZjEewOCxPNy6gLFkz+sE+UrngYo4uBYtr2XxJe5bECj/73kMPtB1P24aFNUa\n",
       "sJHGuhWskOmWBzX6VGHok1j4NDI0pLoksZgNHtYlkPWNytpBeTvfHq3McqdPCHBIAGC94N9RIhn/\n",
       "1MyvnE3RkqD63ow1jjiPAsgNwevtEW10akKyyWOvwKLNhDt14bgkmkC8cespK4L/V8aYQlWyawZ1\n",
       "3Op8/e8Sq5W/GbhxZqMPQAHwv3m/4UKgNMYno6aMYPJOUk584YmxR4TFottkPk5wA5wgWiPkNxM5\n",
       "yUvZvB/GIld87TnyShIkLJ1PGTY11c4C/NOyHOyGmvWDaJG/rBiPPMBcCzKsNMNgdgTiIdd6+yiF\n",
       "WPQesPspV2+WjqZsQyQf8+4n8udexf10Z3lmgzZMKHWzrY0JlagmSA48P0jtcsWF/4WOtmGO92Ss\n",
       "mxQkxwhjKniClgdsPQaL/7ifElv1VUDq3lFbYw1kuDNLwEjKRcf4EE1C08ywwlPITC9dKPtF039p\n",
       "zq77w2Sd/8sxERQUT+HRIivv4ZHh8PiJk6fIzQ7zwqA/aBJcQ+J3VZPAFUi3QFBblSIUcTKoDDTh\n",
       "3JuCTRej5L4IyeYqD07hMlT6yW4Dqk4YD4nHhMTWwMW5gyl/K2Tovc3J+4JoMYsb5LlYABHDH4px\n",
       "AyT3nt+1pHkcFdzE5W/yGOgAmnl5wP8+8Dlwy9qrRq3jF/t3/UpEgBVc/uot2vqfcoUdnlYPmwpv\n",
       "8shoAbEvQLKreAn3Fzi1x+WG6KiXMUfUp8xB6uunS1K8aoc96PlWKO4Mbm1a0jWBXr7SCXcZ50Ye\n",
       "uZfGfD3GdJt3ixDA9iaRaXvfWvQupp/KZp8Jix0vmHMHck7ZLx0mKBsSfwMB3jugvXQXSG7NdGEQ\n",
       "5XU1f8iGuuCUp5noiMVd5nQoqwa7rJkdXDCxC31lHl0qPI+SAc7HDgeg6UMIwAs9NhEcyHN3f8f4\n",
       "b98M9paD/VcdfFftdsZ538UwxskE9NAzIyeYqD1sqp6R5WDuffY/xOebMud7pS5LHPeeM82l6l/P\n",
       "OepEIihcAPSdJARA/psKQzRyuuvZKToNjGwIFoqJ2cf8HEy2I3ksYTSSMJlK1xJQVBl7Ix4Bkt/l\n",
       "vUPSQyOrhywvZ43h1Hlt6Qq1Wexscsmo1aJeLdHQrfCleyM1CkarNrlrtGHHOpD2ZZIiTcJ9Xweg\n",
       "bTkuq+Nfw+gc0HVFf/1LsTtVPKkezXI2rrP2DedBtSIMzqqPytjp/jHxKCk8E7BRWaFxL0h6bkoC\n",
       "vicM7iJzGsIyE47rP3JollL4rCm2kPkzrh9EUR9AZK8jqe9akL/M2/ER4QHhPiBt3AxYAQrKK7qe\n",
       "ybthiITbOlyXZl13ja7Q/gJim4kSEOTwVVsEjWzqWwbty4zhrZpGdUtKHCR6MGWbd+TP/IbRRlFG\n",
       "Cg2FhEYkF4jq+iqtrJij50hLwGr4Pr/EypPQf+I6u7iMjnuLUhavixWFB+ouIUv0Va746KrSPCv5\n",
       "pE4vpujCbgs1EBQK1ExWZY1FB4iDH73YW/uhdyljykbC2KykJxXLhE5F8YvoH3/Iivq7gveiej3K\n",
       "UbZrSWaW1gmpIaFIx2KzEYb1yf6psIS2WBYUMxPmA+REeSSU0HNOUP60LHlsr+dQjfibgi2zOAvm\n",
       "8fAC0Bhq6x15vuijnnV9NrIWalXZhKPrbg+spH8C7RXOuq4EZFQKfSYu8/CW1p0ztGHXzm/HFBuf\n",
       "e0WNCxs2/INcYZ9gaxPEWAsKgfs1RE9NHRnCFvH9UWZE4usSWYw6Knlbz1YmDzImHsADx2v1zRLd\n",
       "EGlbbOcTN1L1oy++G+OCxqTXGQImnGNAyBD7M9by5/ODFntKlpfotH7nTLF/+h4dJunfePFbdASr\n",
       "YSwdK71aAACbgQAACTVBmiRsQ7/+qZYAGUovo1ktCI8AR4HC1c3shx+qSDSyy5P8W6NrXV3eDPo1\n",
       "0N8ipwr+Zi03Imo5TuY/Bcn0wEI6pZq0AWWfvR0Ydl0923jRBBUlnn8eMXP5ZDcYp/gpZGDyEIm3\n",
       "6dAlE5QbNREzNNpsT4LT4LI337JeB8dOTQdSuNC5dWax8mUN43CKWK1GuCjfdaxBdCq2G9JsaIJu\n",
       "RAv2rfYsOu3iDk9BVdoiwUHO3dPxZMo/l9i0nJXx6BVUYemiq6KXSLQY/ZvBPmTEJ1/JurGLvOYc\n",
       "1Rjgqchlrg1uTCwB+91kt2Fvjl//qMXjLIlj+blpVGMyo8nfYXKhpFOJ7rkMgkVm4+zmJ+goe6a5\n",
       "P93VB9s47YKfEFMzD7oaeZZMxVoiC0rigUISIKYq6uNFlcc76jpl0layO3DHa4Dh8rjUpkXEaUIF\n",
       "fXzo4O/5WAOTeNHzoJ8H7CpEZmrUkmWJLjCKeBaCsszxOQPADUGIza44oPObGD2gHqH3R35nhXoz\n",
       "yKdcRls6oDz1Ok+NpP9EQXAVC6zsLlICaln+thYPjIL5nqk9Simcd5FE6xDDTojmSdFjNsQZUpi0\n",
       "Mny+ViS5vVSd3WrSgssxGxS5SRXAE0xECIsLBAflp3QUN1OkiGm//TnAH6lEuCxmHPExmEnovc41\n",
       "Jb0g4oSl2Lcfav4bG7/wlIldcUOSnK+Q5GrxyrqFoFhCnjN5A/izwpGomx1UtmsOHRU8iiYYCfV2\n",
       "OMgrsbe1Oc+CB//3qLJLBn0zKbycO28cIfmhV579/5P1av0OY3xpYXjJbSMekVtiUnhB+6yVwI+z\n",
       "lofW2Kekf+fvqdWnTZFGDWwOdL/j/W4HblQ7OteFsedUidRNhY7Rc9kqezxwu0aCbEcDHMh+nXPO\n",
       "6ZSDHUPPCWkmDTWqcfs6r57Tz8By6lNj8ICvDqfjQufTUr4f0fz9DaWTHdA9FzYdj1UKSVLzqBLo\n",
       "pp3xnAkwuzdQdy/bE2nOHAY+QB1B9fXe9Luh0ex9ZpQFsf1ZCi82IJdl7rlfSGoIbxYMhu6dGjby\n",
       "mkMn6cNG5uYKux+m3gW07tZAkkBi+d6EBHIfQsgOkGqRgNNv79mwtN5dBs73xTO/hyXeHR6fGjMU\n",
       "nDJimwMChzGM3QMZCPmI/fvWPgsXUQJ7EE4ILlsIAUloEjKgB40PXfWObsJ1ELgcr0XgBF1kHvtA\n",
       "gO6RkhQaB1BFqWR7Dh4qz+v87UAd2pARYoxEdrVYixwMC/tF4K22IdNc1tJgpgIwtFgIYmI90WWw\n",
       "AB0xH8Kw7mcX5IPkjGqpjXbjshrtxwjuDeiRouB7n06P1PNYP85XoXnf4NROAeoegI0XkGcphBdV\n",
       "guSm/9TrHRjLOotvYs0OZHwUw1Df8lPiMOFG3kPnqBB/2xTiqbJ8s8+ngm1H7wCIkw8tmjBUULa4\n",
       "zmyy9hbPV+5Pk6r2cWmCDdCtsODscPO6Nki4nLoaWx9kWHUP7JieN4w3E1t5UdhYEIxk7oKczKov\n",
       "AT8kXmmt/tz4CFwL09TXn9ZZcMUUj2VLcCgecTpMdMNV51J0/gvTGxxP0Qi+oEpntLuqdnBxdVCH\n",
       "NVogTokRx9iTDOLqrEKzpnlIhQ/H4gTj8WGcQVi19Q9KYpXuFQ12LwjAmtjtK3rv6DnIWNrlPg7k\n",
       "1tJV0taFpaAWq8i2CkNqBsBIiDKgD8+0SHQcAK9JdLU/SQHiOTTpc0LdIfAfNZYSFAOpEqZu9V1K\n",
       "2WuyqkrKNn/PZk8RlF0WVw360qxAoZbSP+YG+mgZtIvawCa4/Thk9Isc8NIAJ7yWsyCgN8OfAxpS\n",
       "3Aa2wd3p+k5L+N77ldX2LCxnk0Sb/aS3+qieNrUUDYWnujpSPRhCb892MU0kFmYvbsS35EZ2yHjj\n",
       "gxZZ3oUqSj1w2bAMw3OF3Rx7nF5De7Mcp9vqV7vJCSWFNADBuJzjYWpeyiOJQV5Q25hrj6L1feGG\n",
       "vDlHupAGYaMY2u70/zwKgB1lZrAk0ABL+6ijCqRDEkfxFPQsuDPMXGRd+oTFJeJG1BOn9ihHBMXF\n",
       "87FtTDHMLVeDt8enPxYrh7IHnkzeoVEcSVOXAxsFkmxKKNyDlNJoD7BLsLss34LW7EJEaGrllIVh\n",
       "k9PITlOnlOISJpOpFr3GYHD7qRBRCtYsWtbJYXSztPXNG1i0NbCH/sYFqV465fbRno4o7N9aqnz4\n",
       "7GbVxhjm88Xjx7q9/dHqwNQvlaIoXknmTdJEsM8SAI+zBJjhZiLHcjvlUgYzc6lc7T6GaLTcZfnW\n",
       "GUnve8Uw7X+CjHqNUoRf2eEIEVHFYJwBWo4FOOG3Zx52rMf+QygU6EfI6HmMbtrxQsnQdzey7N5y\n",
       "z/ErJoKW7AZGmIkovUrZM7JsWrP9Eg6ogpSvRXbYaAw620py33g+6hz6N5wtPxcNL6pjvtOAgm8n\n",
       "mD0rVwaEoSHyTPRQwCuVxyxY5h4dxmrB+ixoj8aVZeInGhtumlq+aMQ8NDOd3vna3QsaNGlvoN7e\n",
       "ePzuljTUD6UPaidotHhxaXA88a8jl4L14juyTWqptfFnc/V2po1TW0xg3Of1EY9bAiWZvdmRceXs\n",
       "L6jOA5op4Cu+e8j9HXhHVnB5g+D2+ndWihUJT+MxFcdc2vyQlWShhTji9d95wHC8kBpN+h27TFAY\n",
       "BXJDASg8J8JhSbehebAMvaYfDvG1bb/r7JiJywx9LOIEeCtxrIHZqmjHFf6H+ErZX9JnCRU6eMVu\n",
       "0pw/q9X7ohwYe4JAaWtu5BTX2UOtvLrWc4ok+dV0NlBzQkIrZ8hMro9EjizdnMXnRPc5XD0dwXCk\n",
       "yi3E3z9nU6s3Fpo6Txj9FO68QmEJ54qfXgXfS9GwRabOTI1lCBcK8hI6nvLRDn/FVG4ZHygdcEUJ\n",
       "RtsZbvgxo9LkGxxQwZBdd+pyEmree07NQz023NEUEK6T574OYZt9BO2pnGCa2cYvNRK71jWJ9TGC\n",
       "LMPyQtqtSdkjv4FkWEj9VJICpfRF8sJKkuHKezf/npV/hZsbBNV0q+IANZk3ZAn1KbYWdWF28BzG\n",
       "8bffwxeCQUoZV8QzQX0qsOEb5Nn3RQ2jGeAJhdx0XE1a6qrD6XryEAuTR5HZDVxcFr76puaG/Veg\n",
       "ini9Frwc6o1tAT+HjTa9nlJYE6eJ1Ih3NHLj2GxmjwigUgAAA1xBnkJ4hf8AFHTjIQ7CHnS0MI3n\n",
       "6TxddpKIVstdiPoHVGw4ar8D9+TX56jDgEVszTS80IEXNU3hMEa2Qyv+stvg+bLPgiSyIJ6F+9ua\n",
       "UBnhDA4PpI3seAIG0IGFvqbZo+6h6p2Yq6UE3bB5axQ/YZHC5CW1/VPWkcS0TTBayjI4vi87bTen\n",
       "xZh/WJOd1WId4Jg3OeW+PWVpQCzBO9gJKUKLLNMZeFewq9bnXEcXm/7HFHF6jNNb/gOA1GFo8jb8\n",
       "9NkC6EiVYqulc3loqddvGNUI5LvGDn4LgHAvK2Fg2VuYPQsAqO19lRy4P/wqFWiWHmH2tW0lA5yB\n",
       "Li9MxbOQeLk5G/CQUdDa8qRo7SMzwyok3VYmv4l8lwyojBDSx66141qImGntweW+xxKWT7BrBffN\n",
       "DLsinQ7DcOHmrH695sJ0KN1wwqlbhSI4a0R6O7QRUjPFECcrsg2LCtbkKXF7r3sXEJl/8pE2yZ6q\n",
       "rdMpp26kJK6ZjAZHBMOunrub4cO6VHl09If3aIm4Ttt1Xu587aK2gD1uRyOCrlfREvvFYttKVICC\n",
       "uITg84yCju4bRT8w9+DBoYb57osZYQ6PuqMhFIzkpQyxyagkklKuI7qiNqmZ05gQfokv0nG7C8VR\n",
       "arEPeww/NcBKGXSI19ymFS3RcQTJWGbTKK5XMsVYUIXrRKSZoEdvJ2inw52P8S0M4iqsjlnNosVQ\n",
       "1+J5qfFVnkcpsSJM4oLZg35RbPcyx3v3HmwKBsqAykG9b5h1pOUcglL1IjRUiJ2O+qMEH/5wxewp\n",
       "91asmoXNcr/BY4+Te9V4hwc2cht8GP1VT6rA5/dgGcwfPXFBbMQpse4R7pcD3RMR/jz4Oy63BpKN\n",
       "DdkgeqRdFsWbomIo5vU5g0fNZ5emLpWOV6bKCNSjskcqm9bcrNcOK/2CT0O/+XXOCqeOCpG6YAYu\n",
       "qv2hY1XOC2Z1hcuucE21Kps2OmEmfCjegST8wFfLoxz+on1giWOWSw+0K7QCuli6Uea+nT2D3ECf\n",
       "FYqVzIfzIgMxB06g3AEpsmSwWCY4rgXmX4psAwHh8p+m25Ii2067G4gXCNn2Zw6vWA0QKre6NE4K\n",
       "qSR+YYc8SQc0AgGNDPRhPPChIPsC65sU3svoZmUwNbOVV0qe0YJvITo45QAAAX4BnmF0Qr8AGSjg\n",
       "ENa8NazTGOJ3NX2p2cpjc78K2vvoYAA21+vcWpyh4CQtmS8xFBw5xrv0QA9jPoGLOcaB/I+kCF/7\n",
       "w8+XuHCjT4HnAnExEGh21YX+5VcX+YR1Nk5ZIho77kyQkNCNkuaGBLmEG/1mxgtbaDq9uLU/ocKS\n",
       "VZr88WZAJ23AHWjMkK05Lqr5tPLViVt9q5Sjd5Es7/VjPq3RvUFjKsxAlbMDfYpHMlYBY5/HO+vK\n",
       "wh2rBLx4b4ZG+NAkdaCfWoKPgZushYv+E+AmJEGpLlTc6scft3O650MTi2TS+qC5xmQfurMY6aNm\n",
       "w9/Mu4RDty+A9iFxjaOhKQhjnUmlnNbScrUdpywoqNf5SpogcKGLCFhmrwv8OUjg5QQhrjk9jTKo\n",
       "JftPnTXx+KEBVvrAGVuy+PhzNglzx+ZWs+lMuyNRUfd75g8yDGANkDUO4OVVzwE39fl+1sC24kwy\n",
       "kZq8ekze+/B0C1GBfHU0D7c3B6Qs7rfGvb/ug09UAAACWAGeY2pCvwAbB0Mv4JUxtj/sQ8uJdiQW\n",
       "uSx4sw4YHSAObkzFrNvT7AarOMad7/zQY0TK3nulzgOm4S4KNvtTuWEBPTzqlOXLb21Q0b0tpPai\n",
       "RPVQ5jIKVXmkcEwpNpMGGr8+/Ka40KlgBByKXK5POjuE10vbeMA61J7pHDugxu1/oDtxXJFum8qb\n",
       "UrdliLd0FevcchfHhVxKmYIPsBEbxNxOZIPdUqfo8erJii9z0gizbfxmvGb+WkyTg0HHAs/vGTZn\n",
       "H69Zm91P2YQaOJbgr9I1uRzVJzb6BoLGF9iIxtGVgJoIlErgS8hBKjx6B0IAGn2zxMNOnGfS+h4I\n",
       "im3TH6vXoci39lNufKjvtPWBMPaCba+R317EGix9bQcaGtyDxWCScsWYv31rTrJiVmv4xGzO8cKM\n",
       "JVjKgY6vpB7tLbTrfi1ILztiG35l3QJsaVa/FZTlhJCVSlJB0OdgZ/uvAJpR+ZL5uRnfacne5PmJ\n",
       "xiO42/gUn7+9bblVBylKlqoFsu1D6UWA672DKbonTqCENqqCfGul4IGfQDka+Gv/sBFhyDoE4IBh\n",
       "7+eji/X0ratFULA0H82jBXfxdBiaFdE+txDtsXLWt4SaH637Iya47PXj6bxe7s92AR4Mr51MQnsi\n",
       "v2ZL7SnTsc/3SCSN2+zODPmdxipgKHDbr5UqUyXNOSDzqGjhZDdIlQ3tq4wlhLR2VA7QXaC9o7rn\n",
       "jCYL8LfFQ7wEp9q+ELGoL9i99coixqJKkC+O7jbL2qL2lFvXGeL+a0Q0xr3Knm9Z+R4XfGyEKsXg\n",
       "ZvKbGYUijwAACW1BmmhJqEFomUwIb//+p4QAFjRiM9cgajjtPqBI1HYeX2vQDGETc/9QEHrBPr7R\n",
       "Pn/2wKggCuF3pzi1vAYWgC1Nltz4C0gblHF+pCvrw4wZWR/aQRcYM+lv4+C4c9BSJlnOQSpqvrOZ\n",
       "dLdvJelim5Jl9NHyYCYoS4hy7yFNsteFZ0DlGTtxxaWb7pVzGuEGXtvKocMlfpH8H9igmfUMTxwz\n",
       "4B/Tqx4DddU16V9QZddahH9xSGExqHU2TC92Ck9ZWTrTUulM4bgixIOG8RotRlAq4h1gOX7zgqFP\n",
       "yRG/FgduqCUOCY16ENYjlNqxWc9BEQzwmdo0uOXCPm8gbGWOJWpIS5Hys8RUVTeGFWQDc+vm5Yk0\n",
       "NfExHeERJWx0LiTBXm9vW3B7pB1HCTZO/SsxJC+M/2g5nyaATP8mtYiVRbQWr4sdqr6p5tZB9Qqb\n",
       "KWgJZgZtWzgJQLsXlxT+bE0V7ZK/ER/uS8nnW5A3nv/2ZWOUksPOLNglOc2qeWngEe+DpXflRmyJ\n",
       "pPK3Ru5zyFqMfmTfs5zzO3Lqe8OgQE44tMscTnSl5qNbHPZe2NFVHMybFAjIldCp4HeTz1ZPqQkt\n",
       "MZuzkF32/dD5mu3/73QC6c9ld2RiWJ99GuVIMQvpJ5MSFmLuLTXQSGyYZSRAjxW9jFSnkzyolV7F\n",
       "/EHxi1DvyMyG7MJ7iiVzevaNoXb06wKyHE1UW4E0RLvEnCHXO/MJZgng0Sn//TL1/m565ZR/X/Vz\n",
       "Sr7/ALQeRFhfmMsC4KzUWj+orfvxUjVr6Xl7lv9IkYYDgR18ec2PjKDlCCx/eIhQGTNJcVDYpAsy\n",
       "BBkJK1a10a0+jACsy3pNKkjpT7V6MXDGUKcYTNv+gemU0sToCkYGVzp0v/wnfJ/6baV0G+BiQlQh\n",
       "LFtysBibf5Ud0vU7j9/wv6Yo8A08Ws9PUfuZorobbEWcr9O1IchpYQoF3u2GY+ca3tqa4eD1AJnU\n",
       "TN6h3na3g7B6Aw52MLbfLC7qf9WkcTNYW15vg0Q16giengACBhfAAIxEwPKYADRStAwdVEBij0c9\n",
       "OZ4mUtUA9pNuwyXzxkVFuddoEfXAupgJlJ+JVeIEA/dskqO9YMDG2D+DsiFU5XGIftA/Qqbp5hul\n",
       "Z88uMzTPx4kRG9ef7DwkKb0Y9qx0KDHBPYGXAC0/ui8cdv0zlO9jtOq/jwcQlZ3Gwk/4MvH8jJ5F\n",
       "GnTJa62nKtDifofQEQHxT78iPN58nKxY6SCEX7j8viCQdh1EsQfsW6wB5fQ9dfW5Qm/2ZngR+ZGx\n",
       "CSdoIpSLkyM/kkTPmG4CGT6Hl297U1uanD2GSvAyRnjof/9GnXR6jg3de9CjhNnzvvHYYrIR9SYA\n",
       "YqfZDgWlj/bpwkbzo6GcBKZ3ZnHx3rJMOPOnOazODei9Nb+JXZ9fu/SIZZWqSCnluIIi5LLnkuwF\n",
       "zdUeRN5KNZgOudhykYSoK+u6nQQmBNzHdC8GTpk7vA/7HMeHocGc5k7cwx18SHo5ZEjkZ6iFA5O1\n",
       "lM9kIRYds5q9hljr3EZIbi8OrFGzO4AfL7rlvvg7UX19LXigfQOEs1ypPajmzjiYQ4EfdN/DRxbT\n",
       "tH6QaZhACjMwP+k+b4RwuQVo/7vgdkfSajZ238HL7mS4tWXz3MgAKQUdTuat8aFLdPNRXSysL7US\n",
       "KKUO9zaskM6fkTg5r9I7A0sjbSRFiHndMW1NKMqnAJYbFrWTitFcmoHRx8MrvJ6eN+yBqj14Nq/v\n",
       "skHWBpnq0ESaCoRzAbvg33k18JTwwnbIqysrTl309AHhf6lna5ocTCctj23RUdxwDMhpkJPV+eS8\n",
       "XWUDtq+lfstueuevWQ/EZHA7PX3vN3OskIutEmMz8IfN+qTkYaEXu9wZ4nKt1O5of/918ioysV4Z\n",
       "AZdKOsgIoPnM+r08+zFvGitLWisT7w2Fqs+hKEwq9iIeOPMozRZzqW4S66/t39Ukqw/fvakjJUrw\n",
       "mk8PDynDgzSqSM1BER3yhSmqe4NgWBUuUiQjQDQTJKTpNjanil4iQXH5+s/DpbAcYDP2m2SgdJFO\n",
       "99QIV4IYoC3j1qNi6dMZcZpycGkPq7+G8pUdrugA4K2E2jsk+b963I9Mr06kV8PfSmF/5Z8kTaSj\n",
       "U5aRoKTX2zF35DFIoQ8YUpV176Gt3pDNT5z9EK1TANFEF1IrYRLndTL8lV9KqnODjSNrMhImB3tr\n",
       "qFIeD3TLowM9XO+yd+9W+jDXQT8lLzLUvK0dO3ggnRbct3MMdd/UvOkxI+r0bfoyErxL94mxUxqX\n",
       "y0d/XD7DeAtL2RWxfXbANU5ZI5KlNz6t3xhciG5FMGB7MkaopHTbsmcj7q/g6EzG/zuZc2tawXqr\n",
       "HPU3deb2+Shjf/mrukOEFsMNj/uvXN2BMt5xQfcdjEWlGn03m2cKzJjknEbzfdtB7oBGYCmLFeGk\n",
       "0c5+vZndSBpq26nhFGj9PgM8BLrgwzfLds4kRGcBArNn9wAKPpo2SljLXNXO8xvoykH/CEvhPT/9\n",
       "9ubyKCkht4PdePEbjk54Zg12liQ3Dov9pkld28hx9dJVRl5WLMqNLwLeY300Z/mu3eKRUtQbCvag\n",
       "W6AuYhlWqxHQUhrU0FO5pUipcHjXwUicDEjjon8LRGrEy3gh8dgAN84vKdXAS1PiJ/z+oDajvL89\n",
       "Sfxx6RE4UGw9ymShu5aUHApQslqyKli0F6L1fk8Hzl1AKUtf/hN1NXRXk2TGs24JoxMxZCUK7jrm\n",
       "f0lY4ie/cO+0Tft/I0HPhOAYTS9FlVXNb/UbSZyBDzEAsdM510AY/fNDAzw46hXwy6hn7Dod5pyf\n",
       "/rc1OVvFgn27Fd7H5G+Tn2EX2NIopatWNcKh/B5GfF4Jf3xSmPMgBn8mBvGwNzNcsHXyTPUvGPuZ\n",
       "R6fILwiRPZf5qh+Kv/FB81oSSz4pvSlRV0rD/VEu1GsN+ZtBYrTHXOuBpcDG0Lzef/uWp1x/mdu4\n",
       "8AY07aldeFPvFkegSluPq5WjbVnx4/0D5H5tyclBxQ6db+6y8P7i/yj/yScJ/ng3ce1XlgX7UFqQ\n",
       "vic4j5tChrC+Zd7+W6wjJBZatPLINm/JbwyZ2gub3kv3mvag7KThBRyj5NryOHCS/ELcDMYwKvFy\n",
       "Ky1cy87CbUsN+KiGd9AzSwMO1wCxdkndNNR2r2u9+ncixiNJXFWNkrAjG7M3lxPZJW4BWroK1Vyb\n",
       "vhJPUoyXG41GUJkkHj6NF8Vs4QnwDBeODkDtafexAAAFkEGehkURLC//ABQtHHMf40s5AC3gApEO\n",
       "cfCfklxjoROn6gXl7es3Laip1/8crk3Y1cTpLcYxOWi+6+GuAeN2exeq3VqHexnSkEjkNyL3NXh7\n",
       "qMfpb8sxVSURqytdTALqzEK1UkOUrJ2pQfHqes8uYXIa38Xg9dPpMC9UIyuARsDlQi4n6LdB75sq\n",
       "SWyT3/AVJtCeE+EwscxoX6EXoaHt+uergWJhB8ONR09Dyu3f4tmKk7H12S1TqYcjfNiCTsmNnfAc\n",
       "QiXDntJL4O1t661CE28Au7vueyS/wT6jB2wnx6AQ30SgAru3u0zFjkkpvOy4PC0vJOgnQ1+rNsKk\n",
       "FaLI4axqQGRciDHHBHhPfYWX2exu8j18gfiYBhSBV0xJlpsVxOuFWJCWK0wlUa3UWLGZes6dvfIU\n",
       "cwE1K5AMpvMBttJMUPZSMu8F0p3Aeha76DpkhFgzpcVyM727w/lloMjZ1Y/CrycTIZUBFfifabbk\n",
       "KXNKuFqhMli4U8GmejDsALJvSqMCRCEjNbVDjgFebvGjzTea1Prqp9QfAba+jtjlz/4REUPq7Esi\n",
       "wJw16OjJDAgSCCHnTUxfmrHTx/bk2H42oERsx+bzc5jjs0mSylRGFzj5lM0UHh2f9bjl9A6DxmVv\n",
       "MsJhMRhKFnOsqckXpDc2NuChhOvA1JEs2OiHKCF9FnnDad/IOyGooYl7t/6b5HFJvyPyazjGgn1/\n",
       "yhqjJ5reBY0hC7edB7iEzIxYt4FvVdvN4QnDC20li+OwbTlSR3et1vTqTSetuT+fLeFDjNP9IxAi\n",
       "OVTstCzC9niIRUU8K4Ec5awQzm8yj6oXVdUIfJbfK7LjgZTsmFVp0nKhPBZbu+Eh6NcjLhENTA+O\n",
       "iYIvRYOu5ivUnlc79B8TyIRSa1KkArREX0flWNIbvtAUDr9cGZ9EZw/dY3ZLthzkVHO0U7m3AKfz\n",
       "DVoMXE9lVGoXNd4YOw6DJ6yLD1qpcuNcWP+U2YqBBIpeFF8Ja4WK39R6g9dMpsyTxKuE2qnCjkLk\n",
       "rJu0iWgaYRk8cXZ8rDAGbrHhiUnVJ1bFaid7wX7o7JtJZ/i0e9Kbm034EkV0nSOICx9SueVIGn2V\n",
       "nGSdDKbmtwQjtt2GQuQu0LgfFgENmrRKowdqCiubtMIXzT2ImxW5DtjR9qOocopNc2BlDv5UHQO0\n",
       "5iiflWjWuC0cF2v5qyMWV8B9mJ7+zJRHs/JYNTgy0MDRVDH1+u1jkPzesR4E6DH4QNQtHGQr0sGK\n",
       "3dW8mS55Zd5cZT9Fdc6808Uz9QZjZkstOzAb8O2h9/R1MlET1S4Ps1QepwU74hFzdyviuzmch9qv\n",
       "SDZVJeMh3W46qLnoR9V7PK5zdWqFXKv22FyvK4SdSUKkWYTp+ASPCiosdQRDRVCjyaf9GQp8Rbog\n",
       "1qjqZx5S+MGZRnNJV/1kIwiilwcPSZJ4UDpD9ZQDbZGX6+oe3BSZKJELDX0Y6B1D+slgG5DWEtmu\n",
       "bPlpwoZ4Hb7nEmviB8oWufXDROmPzZt7VqDSFQ/fjpsSffwrNhEKS8qKVfjz/bXnNwe6SLP+FEE2\n",
       "zwn81EnrfFfztrGtMCmPvsJfWkRizyq5/HWVthdkMym+0w3mPUvjapx69a0dVclUrMH30lUtdRpZ\n",
       "2o2gx+xGi8cjukErpidzivFJsLavIf/NE08X7lFw7H6+ezJDt6xleqtBcD41KCClaoMAbyyzrIAy\n",
       "SuMN/S3+4t2WNGQKZG8xRGyO9KrNGoBxxSvryamp4dCdY9SysOpEUWixKnlzOGHCNcNfpeX2576n\n",
       "qCgvQZFJV9o3hHVq+6DE9PpXJ6TqSN9LoXo4mv44bSEgRKiLWUuh/V9v42AdFoQSzv39gkfaYShn\n",
       "rEJHG8/pU9fbaaiASw4magvQEIM0IE188DCwkNdyVmERAAACzgGepXRCvwAbn92BHbZQ2NgeB2Nr\n",
       "OSo5svmMX3quSCF/H8h4wgTdGwEe/A9HmqtIXdLJ1j53KtngEz7xUu2SJU5u+S3aFF0+rjvIpNR6\n",
       "8ANmLiFpFGd/ri1BeONiL0eqcNVTGsTUPzRniJBiIZY8PKJY029EysFt49VYUzroqdIkxZNhDDoO\n",
       "cM6cofY7Or7H0rm0m9vXd9fdVr/TfwTEniXy9riYRarJSviD2+H7x7RpST0LjbMBDAhctpRr2L6w\n",
       "oM/KWiCV5lkn+ePkQvoZDVW7xjvPS8V+1X34URAKJfTaL9Y8oRY1RPHr1MH7oW9hNfLeZiL9hs57\n",
       "ZEwGkVDng8AqjbZ2ZYOOkO/U//wl4QKPF9At+qZXBy3JeQDsZ3xBeGpsnqgXq0lK38F0GDPUOoNI\n",
       "DeRXUrHmc5McpTvdqy0tcvBSdpn0ykIyTgI1edqdfLBbXQPc66qbmuLGcW7i1yhzeQrTCyV6qIF/\n",
       "rbBdeqv/l/LZuKMTa77P/StYmEBusq2BL7Hz7ihcYBz+aLF/Jv/a7PsTnFtjhHQ8d4yLecS8UV/y\n",
       "utthqwKQh6dAuijs4YtSyVfrotNmNo1dNPIfUABFpPAPbaOaogLoHxZOsce+xjjA/w/Xyh6w6rZw\n",
       "8+nTnVfS7qhYUTVdYjQn7TADE6hy8bKd6CbLYcG8wzUtYm1O8A7S5FSQ3rKePfotg0MX80IkNPhm\n",
       "5OmcRBBBijMcjD0EEA+nkviqueaHAD8kBdndmWivb1l7/d+D1fteqB1a2pPGkRL0KCa2W7uNM7FF\n",
       "hekHbrSRFFzlP3/pip/++tPplEQDnedCuQHZsZ0uHNNh16uq+SsqHur+XQUftyPr3EcHkRyJSyh/\n",
       "RER2e7v7xPSJ6MDcOhYI1K1vq5CbalNs5oVjpS1Tk8hAx5EACuXkdQ1Ml9vjYr+rIagoDrRrHlQN\n",
       "P7H6+5MusmiwQkmJAgkAAAKgAZ6nakK/ABunQyoxsSnmtuZ6qdKUAuVQgETiMya8hzjJSxgQn0BD\n",
       "+dSV0UyEyWrRv28sglhyUw2AJ1d00gyg07reh8Bgr215/hez5kqvaEH5zgH+JCc9Nup0z7cIlZPY\n",
       "Fn75U+Pkch1dEXKhErgpEXYB3S1gVXryY/As9NryfvHhmFXOA9zM2pymfjoBv3+cYEVcT1b6tI11\n",
       "n45yUAJ2mcoKjTEDkAZxtvPB7dw4EK56WsNl8Cj9dKhhPhkwoWDflslcp1tklSitQbwRNWCt47UT\n",
       "HN1jt4NARqy6DJVaz2n29JGBNrh9fAGFd0ffPDjm3FtELfGEBrJjazKBu6k9TtMXjS2fINhBGTz2\n",
       "llO9+wPjrPbfG6MFs7aiZ6BJDQ2KPL3ovvCKh5bZnPGwqyGxofZz3PEEG3qyBP3VlAZ6eYpKz1/Y\n",
       "Bn5nXQmOq9otL+AMpHPTNmP+ffOKK1yDipXf3jOohRjI33nDT1wlEzE6yetQLfrEOhohuLjyd6WR\n",
       "B3qUm/ETpEyN59UEmWhDir2qe2rCOz+GlHC/iJMu6mh4o2wv0VG8RtzZcnK+f4c+7CZ2Y6SAmDp8\n",
       "JJhgOssFR4DTRUaEEtzhjww3UFnCzxPFqIQLf7uJ3g2jMeGid8KyvlDszd8f8IB1cceNXJyM+Ksl\n",
       "M6rTKplaqzEGLwkx9MKkHzHsorrJS7ClV6d8juc/Rz0fMYPeUPpLsW/H0ZZdadQDGLeeJHyh+FLN\n",
       "XmrvU4DMoKW37ZDocDLm6jJr47538ALTv5fqTYtp8PVFUClVIKA0yttnK3Rw8pQFhr8EGwz1f0gp\n",
       "IN683HNsTG4USz/KLNX6fsZxXemFV3nF1IT6pvpJcpWAUsWsmhHmgTWF1GofkmTZP1yPZrslHiZo\n",
       "epT9uvbgAAAIjkGarEmoQWyZTAhn//6eEACCiKMjTR8S4o12T93UwhbP7GeeSp0R7UpBtS0gCzFy\n",
       "roiNozS+mxJQJ15yFczl4psp28OPDWCDANioPb3iQHidvaOjE+Bp8k2rwsfaKBVPx+Vr5TE7lJSs\n",
       "GoIpHlVjIiEOWP1WlswaXSDWcERVIl4ISoMdZPMAL38IXDmPQSbc8u/wPBX1kD4pQhKG2IsC2Lxz\n",
       "xVOiXYr84k5Lo32Muodlu/DA/Kqrv118VXAEQqn1Xu3hcIfdPpI9ahkR1A5i50mscY73K+4+JFwY\n",
       "2vbeA+Hl2nteLfwz4W7x0p6UM4sULPl/Xr+50ajYohmyDmc3ERyItqGhQQlnFe5KltW3jwQmXxXO\n",
       "+KqV/cdKrFLuLlb04dy4PcRPfooP1A8nU4uhOSA5mIK62UYG9k1d5XboHmSv4R3cuOSln6QmUFvD\n",
       "yFkt2SDfT05ZohwCxnFgnbSrsGywfVnVfthd2IpufdbzOrChfGczqtq/5wlVrAuAbWn38Cl/0ONn\n",
       "F4Q57jJdyLFbX4xK+F9EF/XEKgryKnkSbvtHhByiahUAv2PVs8YOnGLvcWLrwrJg1lojSTUyzNGV\n",
       "RqGvtaclPT/IcqflOkcrxVDrQJwEmMUutIcREMkaM03jl9WYdflwfv6rio029QGiSL5Vj5FEMSsz\n",
       "u9qWCN5F32UqVGOYw9SYOyOj4NZHvqMfCybhsLrlhgXiYWAeP/3rdCYJ6dVQufVIh14rQIdsHsjj\n",
       "r6RBw/4O593Go+3aYoH+WRdeOL+kiFvYZoLDKUP2qZqPzGNKv8jFdxfr5JzA1m21Y/RmFDCdAND5\n",
       "sQWIRjwTzy7sK2mXFDUdxb8ch9HEW8jy9sv7KJ5ZH6QG0bUMCYjZYuZ+il6MVlIXGOC4sUsiDc0t\n",
       "zliZK6pOxva/wyRfJ5F3B0jcQtuIghwSZ4mjqkk5fL/vrkvwFiC28BugPz9mnnpd91ItkyaNqQAD\n",
       "ZDvYVJpSsH7ZbVfWaGShQBxijbNv7ZKadqC3yYOypX7xyoVN6/mZyMCrtFxseNLGh0NlQ4fBknuf\n",
       "FYhaur0g1BTMGzJbNBOjnJExRQRCJFR0YTB91MEcR//dJ9XF8vALB7ihB3F8Fmbz606wIgGdZ3Xs\n",
       "yOSQyvDLJakLY3mcC3+C8uj2mmmYxDBRbabXTJLP8gZ3TutSdbYLibY0l/4WWMBKsUS6Un0X7cDq\n",
       "6pyxg/swPJosZpAcx3KaBryEppoxPFBxvqZMIAw3yu2I+C2HXtoMaD36ljEPvm86oV0IW0Ggz7l4\n",
       "s2NI7eFmXmPZFE1tWCKfXheTXaCBLGD6B73m7Q3nQgCVusdX55dkIQCYDlDttDZ7H2GC71uByZxO\n",
       "fDwAvgdg7U7n8NmqEGjpHYa2+qcqyM32wIZ4VUWYXLEBSvErMgvX5Y+WSKvCihJgaYiLz/Sk3alV\n",
       "L7sGEdr3we0TUYcjQCdgsP7YBLGPp1ofmP3t86HDWMTUWUsy14XGweARoR5uKHPuQgJ0KPuKNsRH\n",
       "/7yfwxY4pbesZ+q8u7MIRlyKZvkz7OXBloxftt2IJ/EGgbhvvPeqF8ppqMfmysatb4I9QA1z2Utu\n",
       "ZmG9//6uO2uI6z5PAplkVzvPPw2AHB0Vv0y7lxZM3f+PKbwBO5LKkDAq7JeF6l5aNZVi/MJSwk/m\n",
       "E4UE2yiMhzjo9KXly1zRFpEln+McvUQhzR/IZxGa23/koCK4nIy0vFh50uTGmr6BdKZv7rc8MeIu\n",
       "c7S1oETXMUcI0r+vg0Xnfd2fORqSenBKDzJA5y0cVxW1SPZV/6b388O+IcCcpEvn65msjVsCp0C6\n",
       "rxGkc9OuJvd6v/X6FgkGskzb/y9zEcmMQwlegfbAgWSiOpwElZOOkVk7sZtFAdgzdhEQOq/EwdAp\n",
       "JmvOkhwOsDk+NidcacAet0REDx2fIPoLmyb+sPtxkx9+Q2o/BUfMlyvk9SVh13LeU0Se1ZTYL2UH\n",
       "ZOnFQjRRy8Vq5QXZPIfOFm5c8h8rUzFZIuabLIOCMQiCsHedzXHlBvrlWGnsPT6LeCOAfZ8REMJs\n",
       "YDvZEjUe7wkQbhEGDS13dWBoygklr22z0o11IQaLqZ4/E0PYvVj1+T+U/9iUcl8MxZXt1GwHdcBN\n",
       "//aPtEA38OPIcgE8t96WkCIK8I3r+06fP2xA7gvr3nI2DtZpPAL5SEuydA1xjnSeyWJklbsjHe4r\n",
       "H817LLMkKzFGFr2Dwq5uFxxm3wGWo+CsnqLbWcYPoQs3AJ84D5l9YQtOCqX+lv/9CcOaqLYhwEZS\n",
       "pkjV9QMifujmfqN8hFAFmkKg5NHjVI6NP8GReM23LEZWmNlvp5xgUe8AGtscIpVTiyIgr8M2ay5w\n",
       "jRaLUKOP7grZAIwxlrp82FLtRPsDaSk3Wxyy7E7CcMlRsrW3mS5LsrDfR9LGEzU6qCVDVfuWu/1d\n",
       "Bv4x2HXnE8uTZ3BzFrhW5+944sxG+VRORNLG98uD/j5tQA/cKqoHI0/JM54bGDU4dKkDG9o9q4np\n",
       "6dTStWHqlACMHFDnvcIMsAD9VphrfNUz6R+Zwec0CGi2QLjyyuhxji0H7w2nH+1Fm3/62IDL41PJ\n",
       "C5jeO7cUcGEJ592OOnuFKoD6fjJfzEh6lzruuGpgAeX19kowce+yXBqlUnQCmHIdvTrjlHYgSIdD\n",
       "1yR1DQ1jvcT3QwVE3BHKjl84Zmm9k58gvezMkIb6wL1XG8Y5tIo4HZSCqwHWhqqefnYaFsy6Ym9o\n",
       "+BpdgAZN8BgHQx0CU9NvfHFifW3ifoSaAb5V5qUylXCv0t/HDakrB8PGGStPJtmmyI/dAwAonvGs\n",
       "d0tcXFNXAuaMHFunLSTGdZZL393hdgdESAeCq+k7c7dLnVkcE6hAykFt9Tye6N3eFt92yVyW0bCR\n",
       "XZhKshybhHZe9iaZGSs4xVn3Np29uZSMRtzdGcOk2/Dv4AAABTxBnspFFSwv/wAUdhA4wCdwSF/K\n",
       "1DS2VQHArx/c5sa4fYHfacthqU2izkJM4thPfQPnzhyOZSfrdPMuP2Wy16HvP1jIU8U2GJ2IjZg2\n",
       "KvNRaH28r0fWQXvLDKBZ6zkA0xQ8okBACHZDdM9WzCUwVQptsF5L3zTX5FHkoPDLPur629NFYt8N\n",
       "O8/dyzIXu4abEGsNCRmtqY6DHj/fMqXrlpyEizPPvSgrwks7DtTGKYzha7VK0PWMa524uYfvo+N1\n",
       "5F62rNKtP2r3O83VC9lVOGsPtnoR992PhfP4EU+if4v/lkUWKnol8gjuQvWLGfWsZGKP4jb/jlqH\n",
       "tTmXXg2Gef7zWm+Q+S+klKNUJKagD9zKLdfT5Fz19kfRoCSDITVWYP43xyA4rubiMEMqM9wueiUb\n",
       "Nl05Jc/Meu9+5JnuVfDPUbXxXvXPZvEFDzXas0Un6RUNKvX4R6/om9Ma9rY8Qni2S2b4mGWeMe11\n",
       "FEupW7P9XX8Qs04SbsmdIwSX2q+uQ1+KbsOzmsSTYqpXCeg3evn0d2LF4skrIZUw2AN2pQvQ6eSC\n",
       "UgAZonzAp8Z+i+gtSD7Boxsrc5xAFMXhgsrKILw9wpBagQq9nJbP/gIKtaHkC2wsbzGGY1WO1xR5\n",
       "1uGji01VBp1UlQBEqpzjrUMQj7f79iti+GzkYlaO104R3CcxqNtZl1s9KeekFgnw9GHFwmGz+X4T\n",
       "v7w7om5RuC7iP8kJDvSqnt8dj5iL+Ufbd2KCkJ0O8EZc0MoebEebjKs2P/7y+4K8stpggjeXNC7Z\n",
       "1Tvo/6MKTaNSdpr5Ui0RkvaHFLPZMHVZlrOmgZYZCV1U+LPZwgD1fxDntj/Aq6UKU/t9FMtJY6id\n",
       "pUAgg9FSmi6Kh+vmJIdl+Xc9bwgKc/nFl5MZvqtwilmtvlPn9DTZcWZV+G8K8i+9bdnF/2T1TqYm\n",
       "gLBzaEFKUHhV+aP+ewAcRnmHYBKcDuqsvuaFY/DT5YgX9xdw9cvAKluG9PIoK+MkywaFjN/LXUg7\n",
       "OVc2erLqW5rMmNk1BgpypBmpQ4zU8oRwXkr3L6KVn7RJTJKaTTY65j1ySrAdkIh565aeHRmRFaGE\n",
       "JG6bSXD4Iga1iDsDCMVK9ABopn4zD4QWMGm0kF6uhFz4wBCfW2vJrNwZjYdOXCcN7U/3fOmYtEU+\n",
       "CQMc+39kyPAVxPONQTYdMi2t4+4Xe+pIow6a0Zsmmzw9BUjFZ6394ptJsNRKsTZidycJknoBtUO6\n",
       "R+Rs52sAe/MUCaCPBZGPWrffg+xX9F/hFkC5xKY7/BC1eccb7XbSgVcDqDGXk7sXq2Ss6T1rNPk9\n",
       "Ev1lUM648niixjfqi2Vv7D3zuPDnXCPC9NGASiuBFfnwn974+tTbm9y0OLoalqOkmC3BhISRI7jP\n",
       "I0+SCg9S6f9HzEo6ljzCRRizX3DyJf3qkj2EBlM79+9NgaH7ReoHWweeUlRlGtHuLvEkZRRx0CHD\n",
       "kXb0SPeQUiHtmbW9Tw60G70gNkQ5rSipLcLxM64gEI0+bGaTwvpWxUA2ANjAOld4bs8VahwOlVD6\n",
       "o3gLzihy8nNz1ZZJH/aWbcsgqEfHjHx5BFEHjVOz32kH49tnMtCBLorCArWhU6oIhDAXGOTXVQcm\n",
       "2pLSQzao1Zg3AvV9GPC79LGXCmQfL53XvRQwO6U4KzEoosxP+fbvmBzPar+hl3Jr1rRJj593ltLI\n",
       "f2GJ3ih4DCEtQbCSyHbjkvKClyP1nZL18THwgPPatRrJAmxn+zXvo/WWEXfBsbV2dKWxbBJ80CCW\n",
       "CNsu2VbAsnAEjQAAAvEBnul0Qr8AGIjvuyYqoEumzhBlFOZYkFJkpEp933PBe7kcVkRnlSdxwGxH\n",
       "2PgB0djn2ykHj5wcvG1XcqDSfF5XQexa6xc6ETmWkcUdVtX41rgIeLNn2cZU0iZg9qhFmL8vtbGt\n",
       "rbv3/26u5Cgc05D/CUnkX6Y55y87MxDrVW4BeARCqpMm6bIOdMCkPyUeJEzTPNIufQ8wpDyK/h+T\n",
       "HUvrhE0uSOl+IjggfdDe6HH33WPwXQ2f3fqKpMgViGO6uBMlzYBcZq/xxuuI+JC1rqEPI+Y+1Y6b\n",
       "rJYcByU/gwaiF2dXJ6o39vr9E9PIyul6XWlnLL33rXXvTFcIFBwQXy2RxsAn/VziubX2zxfA0sEl\n",
       "a2GYc6z4Ww6f5BULPsv03skS7mlyBPYL8IKab8q2Qh+Vu6DqILVEoRIjDaKl2VeAEtQ8JVVCrpgB\n",
       "bvj2dJCtpqwrDbDm5t3pAmQLyS/5A0V8nsVCuiYBTMU6rketjnw7w/GL8xRCwUaXItLIItJHhjmC\n",
       "x2gulyAomjCD5esptMukD80PtmpYNNkDwXWfXk86QtZRSh+JM3CegkTg1BavKYkJWjF1xHIDvwfk\n",
       "Noop9jt/Rju+CvIwVJCcPweP7KARxyNMNzvWcE+awoIXmjiWTx5DaB3b3IA+ndnoAvkrG9ZpNc/2\n",
       "bDVVst1IwAA9Fl8Mh6rgXEIHlV2I/X3++luNXS94NCqNz9AbiTbCRzY8t4nI73sro8ApxitAADWL\n",
       "U8gFOpYQWL9O/4TFSUtyDBdQhVUHPHUHDD36CxQ8HQMAnl3N/fr+GR7tdfd2DcyeknJeHBqhcMqL\n",
       "aZo4UCs4HHVgB96JH70Szcyr7/ihaQDJJCeyAqRPYV7gL2rDlc7rCVHB/tbpzRNtyv11Tc+aNeyx\n",
       "F2GCFPurCGNCwEor+Nt3MoQHmM1chpESDa+pDgpMaXxarhMVAXUBL8DeSSrjI9hmaaXPZVliA+Mn\n",
       "8KRgKO6wKJEoNh+m683Ye/O5ggG4qeEALaAAAANbAZ7rakK/ABcBxC1RwCgauJYx2gTnhckhPubK\n",
       "DytfiPx8YBI684ovGSxN8ElTKVcST1G4MxM01Ll8HXgk1+HgUgpJkwGP+Nd8Ipb2ju6XvKe1vyv0\n",
       "YFFLwEiT9guT9hoJDRqvYp4539ISO1F/clOFgFy9WkID9XhNwJyTiAKkosfyYbwH29djVmZsWb6h\n",
       "yAohFoK4aKaC/ImOtsT7W6ZTX6gfeMhDiUIjdCqXbLJkIZrNf/6hxB+BFMN8qiaaU39cmCSBrwpn\n",
       "iwMb1NPNJgBHFFyLjUlSOgWDKTcjzuf//K2mMfa6Fkcgn+kVvJLQvpaCIV+b1VTPvKjdm0s1A6kY\n",
       "xZ2jvK6fCstouWNgoqVZ+WlM5S2nWDfPpBvY+NSuomSt3sGE33frl8YWKm6jRey/h0vEdFDq6U1C\n",
       "cD6BifdwZAJRenLTV/CEwD9Mrp6myi8NLAWKeeYlVN5s7nocWdw0zVvPE7LbLSpHVYN8/6k3Ilji\n",
       "mx7djkvJQX+lVoWGTivGsxLLxhO8/5WMgh8IgJQsZKZyQyrXsgLnC0+EQ2iNQzsKZOOriaBQssJq\n",
       "jsNBDINweWyt43Da+2EGHF+nLImU7hzpjurR3yMAPrYlQAMdBBbyuEy+NbgTcwQu1rP/FvMcbKyw\n",
       "UMrLU+TAd0E/ga1GZKouZGgaROmklfyxHWSun9NVUuQ+ihiODbSL7cfCUPzxszure9UxKUYai0It\n",
       "OTTKL8kSBBAKXSROLqRZX3RyIbmeJITR8H96Bb7IybvuCbkrlAYn+zamEADqiLz3MZELpgZElfpx\n",
       "l7Na3yB+eCu/iYw4rZ87Bcf/VSnBjytQkROqlTcXS+45j0ujYayxT5i9h/jgnppfRxAEGGb4HxIv\n",
       "TegIhZNhh2xMtqmEvpWe3qApifLYUQDrALgJJtY03IEe1MA2YWn+IqKciCQyzEi4jqDXY4FOxks3\n",
       "Ya6TVs4GDZUdTWAWWzIA7268X/aZVVaMzwlU+djV5R3QG8AOwGZ9jgPxH6s/t6HstBOExOm80gVU\n",
       "w48F7spGF0xrP7kZHymTmXydmKYLT7KmAYqzhAjP8eRCPCd90nYhSFPU8cBClM5JJexx1ZCfU3Le\n",
       "2ZrFhLOKnDf7OyJKSKzD3Q9DHQp4MCerT8F7+blkMABqQAAABc1Bmu1JqEFsmUwIb//+p4QADNv/\n",
       "ldpR5jK1Z8CEtUJxaZ3T/PTqGvQAbOUYOj0clFIPuBt0eOVy59sHM36YhpY/GKFrNyuNBt0rouQE\n",
       "6MMrwJGgiHr9b4Ai8HOZTK7YXOgjEYkGAVMAQ21hCCDzmkpIW0okKGTE3kRk9C02jm79tXzpRsLj\n",
       "gpfQz9qPx7xNgacqbb9Zj//Jn2WGs/moS39oNgJl86JP+9S2Pgiz6ZnTE0JzSGF2WJL4+IcrtIKX\n",
       "7uL62x68bHvOEybj8pBVMKUo4ysahdiL/V4vikahio/3yGkLSUGT7C/L+TxkSJ0G2PjC/Jim/g57\n",
       "Ju9uncvBIOT/F86dMbMoD0qe3lIqZSFTz9bA0+PPHkXwBYTpunD/fuqSqA+3iMZK7OsKk3iE3NwN\n",
       "iE8y5ZkQi5EjDIaasqDrPL5qjcNstslERnFhSs4TcUSnDp8fL8lZMRpVAAADABar7QAxR0C3fQy/\n",
       "3LApCEOKMexgarTESAIu0Mst8T7kryOGDIBwC7iHFn4O8tWtrmR88uFZU6pSCh557nxPUsQQ455P\n",
       "9uJ6FsefZNw6bVGw8ZLEusu6HVumPBMecEEKxfmnZ59nVkW5/gYL1lcmftLDRg4lvJ0kQZRj3Ux4\n",
       "VUo+lBoLW6WjMrJ9t5BX9YugEIJTaL+T97bD1Ckz62ptK6F/um9/w7erVf9OquSb8eot2gshsPFY\n",
       "R034SP0dpi29U4lJXYIZ7ErWGKb0mmqc2YdGxiejsMujCVRm4t7UTLyK8nV0yR2VQht6jZSJd466\n",
       "ezfkxdLd8Azc+gzVr9k3ZI/ngRQs/A/SronSvqlwxaCiDESgguAAFQri25Vs+hAE40Fr3HcxSfFl\n",
       "UcvzQS+1o4VXKjioUhpB1TqgPFCOlJnJOtb2jC/UO3wb88wVljVxX8+OP8ChpRV5kLdgDVaGEfNt\n",
       "3Lcxxb9hJBXuTf4YXNSrGc8jNXdkEcem7GEB3SeiS5SVMiLU9SVkKSg3TkcYthn+y8Jmn/2T54zt\n",
       "5zmIWvuSGVNeHnHqZENQc0sKkhUz2IRCx+znLCQyqA5+MhHn6LeltyB8Z5ZlceVAnYwFwm9C3CU9\n",
       "TMxAaaI/dF+Z//LZ2xASYU88gD/9Im9y4f2gkPgJnvSmVB1htegDAS/3Bm+/GcdUYAZrDLf7K+u0\n",
       "sc8RrZNgJEXi1Q5BDCfTpSOKAAJclbn71ZX8gdyfTqG0UwHZc1Sq33PLdd58/xyPQCkOmEqXYctS\n",
       "Dz2xRMKkuc6N/qZt+rNrvoecfPYrGcq7Hh2fQ/ZOfNP4JgCeBwDINUiqwfr1kHxMTfAsfyPzS73w\n",
       "5+i5mf6O4bf0tBpIymvUbgJj0aG39biK0pHsEP/8XLnO1uad2ox7HXPZ3TSdpzbb97mwP32CmxeK\n",
       "L64ErATgz0aaaQG3Uvm32XEXUHfEKX/l/u/x8iqF6WZqb8qvzH8hJFN7jA8dY2zIbKrZchtQOW+U\n",
       "Zy2ANsd5dRMw7aWliHv35Xw3PHPdghLZOcUmwxkKbsl47ZUPf/2cG/JL6yjN9R7md6T0ek29BMb0\n",
       "Mqmbe9Fwf08PcWhg+6SisQgJ3w+CvxKhhkfImfm1XU1/haVxR+Gjo28AlBkd7AsCsbirASx70FjA\n",
       "YNzcOcm7+2/BY1rRjgIaQIBDJFD3uVpmklTbRCQThiJ0Me676VQfEk95m1fUGMWGgpjnv1kB/956\n",
       "v+osbaGGU93lOdK/CELFPQLT2L8v6wmB9I1rT9Z96xg9ZHP7gXGbUJSjVIpJtrcCoFlb6JiuCOz8\n",
       "ckdVa9VuHcP8I58qZM8iqvXKX0mRw1Vo4mlqdQrQ53rVpWpZ050M+ITlNk10PKy/CxyqrdAR8AT4\n",
       "2eLPo6JDlvXuLT8SMEGIGX2Qi79fj4UV/EZ72TmeEFBoyRmPo6kyW23IQAYDTvJ7i8VduR2/MvBn\n",
       "hbt73NW9doz21CwLoqt5Mr+1Rh60/2WeSByJR06YPw4y3OWgy0b1A/EAAAi/QZsPSeEKUmUwUVLD\n",
       "f/6nhAAgq2cUXsaSTMZtxI4ACkjYmTicuhFPwWFDHPlnsm8OTPL/Sg9F+Q58H4n4cGHRZNxdzdoX\n",
       "nB+A+CRo08dlal576YT/48NqPFetey0QZte0ZlwvIE1UjBp4fDWNkiE6vuC7GDo9HJeWH9rAOjbV\n",
       "xj2AQgI3TRn08nFqGMDfHsFAb1d+K1fWc8xqTNzjnmh96XWS+zxQp4TlzovVZhEHHciArrS8TVEX\n",
       "jkBofuo53/kR/QP3dWkISnvkpnYnmTnk9LV3ANlX2Plt/oAeGvkW75EmFri3P0arV4NV3788d5ky\n",
       "ArKKjrpBO5ogVERilEWic2SlnfrRQ1VLl1moB4zXrOoJ7xNSsUVvlxT2iV4Tg7smhm+BusF6WQGq\n",
       "EPAXTsq1sG9pWX30mhRudP9rin0EFpxu6IZy14ywoHxq5q1wTplA9DJR5bk0tz7/mq7m5uL/7E9V\n",
       "j+wL32zH9dAEYgfcDeWJ+4cy97HlPYRVfsaXFNpvTRzBY0lSQoMotgU8/k10G/9+7Gn6/FfuAWE0\n",
       "IhgR0C6dtswuN4yYaCFGtM8PxliH7hFRdtduAnKKmhNrI2sBUrPyd3SgXf4bqSwpH0fGTGZR+KMR\n",
       "miO5VEQ14t+Zmk2n9fscoccxVRljDf/8wmXh8mtZL5Bwu7C4qeD2VeoVtzLHcUYBwMTi+bOT6xp4\n",
       "thcJe6IvHMw4cgV2qRqwLauRqbgXb6+y3FsLT5cX1zX3FuWjFFj1c9j9BermuVgEpwrXgeIl4+bS\n",
       "YbCte2jV5QJ+hOkSCqwOnX83WacxIGXsPNPgkiWRt7faV2JQAalhKKrHTLfd1SmzBKtybolE8cvR\n",
       "PaJbBsNMS2sALmjtLz2O6L9I7AqOCV+2dVnwsP8k+cKJgb8MjGgY1l/azx8bh3BnkFPPkesA43f/\n",
       "zVzK4n8h/IxrRXCighXMFIOwMo+3BuDlkQisOlN/yz6SVRMeYHTJQLQxXxsJ6uX28ofW0c5Ox/Xr\n",
       "nehFY4r+D8vT3Awi8YCxGoFkSKPxu6RMBzFryZzygqsf5oleq3Q2MxffZfbC2iqrMNPa8l639CC4\n",
       "7iKXxY3jKcvoBtrrMd56ntOjPS0N79vvixbWVAEn+cbVREOhsWeLNtbNngw6hfNpdJMd7MldtmGn\n",
       "/Wr4wRpxhcXR00pdRggo01bm9arIRqbNNO/TTchWrFTddmHS7ldkEQBJQajsnKo48tlb1XAXIpGM\n",
       "7Ij9Le5hcrpdfppa9C7AOn+x8pD4WW08xHHWtPCveBw0hrH1Lg9yYn58Ff3GLXL3c0zLg03IquuJ\n",
       "5q1Hg8GzrHWk1Z8i63zR4cvY2PxWdwNJx9iYk5BG2uTeHbC8EYwqXtdNMhNi7IV7o9WkffGbV6uw\n",
       "2KkFaEcd+YLyj8nrJk1vdJsiQovECIb6M2XO4Cy09al80wX0zWjHyWevIZshJ3GixC2/xJ5pcDT/\n",
       "gkQKXSEDPdlE4miE6AVJhsBnTlE1+/8RcLHz082lzj/hpaTATdZR9jxQDsY73G9aVGv2042SCnMS\n",
       "DEBTdbQco913hww3PePPZrWPbaZ7q0UgaX9eGnI00c6hVIs6fTy3d9E1PACr5Uwp0Yj4BrEoWQVX\n",
       "1EgaURsNoR5i0plYX4hz8EIC6AlEzM6ragCea9HWMqiXbS847I3opJkJp6OfDut+hIGMUx0NQhjm\n",
       "hmyWV++p8TXJnQqa4pWxxlRg0DQfLbPUFBUDhva0ZZnen9dZqGndn5slS06ft9blZYNGqLyjwdyx\n",
       "kuJZAbAPNdZ86o5e0VGnUsDRJT5XDL0g4s72LBWPMi2oCQ4ivbaE+t5ICGXOzkHT8/PeW9DhWCWa\n",
       "syyFDD48Pt/FNLd88CpEpI2AiOQ4AmB+6q1Em4QPnXJ3r7cq/DqHd/oj6wRw/sqrvpi7gspIaN4a\n",
       "8L3XIQdIQqyMu0cOmhchu4zEQlJSOm4uYjyUYvbCLt5S93+wmHDJjoMScD4ChsoYfaYgXfzdbn87\n",
       "1vSer5pVmx3ilmnLSe0c88feTJeMJ4w8PPEZEFIEek/LfiF59Wo+teEyFcNpx3lSxR9HzOJoAHoz\n",
       "3UEKsjQ4Wr4xHkfFs0Sw4inpbsIHj8GSzrvo1zmFLMMrfzYgbtlQOvYHozCsO0kdHFoDyWPfjcim\n",
       "9F9rjKUpiZE+2Y0MpfBAF+URb4ZsE68/gJB/BMGBZT30tLxIHN7lScOMk/Ptsf5dsFaS6YeLlpBn\n",
       "+S5k7fdscmmKKj80XDCCwlXoHAszsLhPtj5KSk5zToP5npqBLc5ahx/43QhjBVQRilHvnEdImmHN\n",
       "B3O4vuXwgyRy7uckwfZn38JLIfL2/IWEuuXDJN9q0Z/qM1fxvm5lLYI/8UXx2+nTgS86EGRoTjj8\n",
       "+dZLuoCnYBAWf22tPOoSXEpf9V1MZ6HS4gbYWOUPNjomOITWzx696JCUZ8XDAcxc+YV73ms2fr9m\n",
       "P2IhYEz81VOfubCaxkV2GdPlJ5JBKJOxIbXNsDiVmwOOvE6jrA+yuwAVVFocJyi/XtmQo3LMsWWu\n",
       "xeeC1xpSWkg1YjqD0xcOCmPHIJSeAp4jChpe+LmD6+pR5TM7IN4VVE1FVkIJp8khijItTMn7oQ+4\n",
       "Gz73gdoINJQY8J5Ir56C9TaKogd4htPUwk7P8OO5eN0BNja67POc3lwMFVT1cHlj3CroUF2qUcun\n",
       "VRiZCfnOSKcFBqmKyFubkwE6WbTu1Xqj7QRWjQmz9fw6NNcKLMSHbhsNv+dTpY5FJp0khmcwwntA\n",
       "gtH/WtU6Yt1sp4xIByHai2eJkNQ8ZiMdWjpU84UX7nDGNGkhvWq+aYejjFO+0rmeeqrNawHfKbUJ\n",
       "4tydh6Gf1xL7PpHdEm9ivHhCRC276kwPWfhalP73ZFZQTS0Mk7SXskCURww/IDasiGCwC7h6jIgX\n",
       "90Koshn9Y/DapwhZjnObO9xpB14sP80W+U1lFEpig9DpbnEgoux7I6Vfm9cLZRkWsesxcSwtZ30y\n",
       "vXQ9IQAAA1kBny5qQr8ACjkR8Xw1KBCJhrnmwGKRkVuuwOJrJ+w7s/Nheo5qeTaYBRteJDckd2lV\n",
       "QcRTrTtkoriAEqI3pJ0vnsPgpEdH19eJaZSKg604LBGAHwF+a+UD1YAhe4eNDkXOppeESbDPrpFH\n",
       "fuIuwqh6w/VKhmKd5SYmy8jlYqlNnH1EVgPmmN0zckizlItjIP0/mHxu5YiADtPXAM9VMR81mYC9\n",
       "M3k8XHQg1ahpYKp7U3cpPG1zG00W13zZ1k1IAGY0Gg8mK8QFLPXNAQBy8Jvvh891qMPPS413qCz3\n",
       "zcmdcUtrGF7j4AAVK1nHyKD4fOIALch7RbNm9ZUmWHVcy3E2OrwqSUSKuWrJ6xHqK2ToB5W8nsue\n",
       "0ias+N4mMswwXdFUou9GbRg2FnlqyiEpRnKebhD8/cTBjeEdWjAhjE+sibuAPCsfnR+M0TtWwRLR\n",
       "IzAlWxspmqN5TWktbfnLZLWXyYUkpoCoKUOcUpTw7boNP3JDM+u6+IJsKjlcW2YKy1yHs1qmZjkl\n",
       "U8uYTq3q2fmfQ6jx5qomo2gONZfjFVR2eOO9fIQHY1wo+RoEH4lA+9oPsGBrds/sfZdGN08qg4KT\n",
       "cPvvsT7CClA/HRVP/D/qaX9SV3iAEtxZK6knanohGEubIiNzidoDy6+/GZyZQvYKn9MLdlAUG5ld\n",
       "tLj1jvHIj9S2t+Z4u4oLWfkYEWZ6FIg3hDFX0YLr7HVxWT79hSoX7BcUxvahr1mgi8sU5Mc4v8OP\n",
       "9nLdIDKEIHs/afOAkcSDhpy6DQNC9FIHD4/yVUuqqjlTJNp5ys/I8fZ9N9ma7u8j7XjhB1Pz5x5M\n",
       "wWg+U5P+8iIn+PdzuoJVdx4Gduhw9v2Z6xB9B+NcvxeZ08g1GykkUGVrhTzorWQtPyKrc1usrvjo\n",
       "VKGa5u3X75rfGESFmdSFN6hS+a7+dqiI8z69Xeb4sT9gaL0LXXEStWBQ8TjIxAo7ByK+n+b1NohM\n",
       "WcB9AzboXtHCZH8xf5MDpVPEV/P7gh0f74ww1+37C6bZtYIXu1rWOiWrd/fL6qinLMIVTiQIDU3n\n",
       "S+pZCtx1LFLhytfJlS73by6rXhaqDaREuP7/6UVKfY9tWrz+2WYObctMkPPKPrLS2IvMK9GY/NiI\n",
       "vAmLKLIAQCyJGQAABv9BmzBJ4Q6JlMCG//6nhAAgzP6t7KgcUnXF5IBFNwDcABvFGDoQDxHJ2Bmo\n",
       "GJI5AdCmRD63yhw/QKT7H2wdOnRpaQLGwqUChH/EMXcCNep3ygBYp7uqXR7Vtlw3UGi2yIuYoffx\n",
       "S099DqQ29mJgbryV4fr0u2Wvv3dOJIlR9kwJaWT5a+JG3u1WOWGi/lIwC3GNIAkN8blx7NZpIyk2\n",
       "aMiOX3Kbc/oYLrEbXkMaqQOKN02Fxb0rNoRF+6UidlPvzt+3e18CJdBwAZfwDPlts2t5DFr1nwvR\n",
       "FlwjQV451BSrH+f2XQYaStscr85bywyNW19/cX0gnkoPDaIBW59YfSqfrPRnjlD0rRWTwe9W59ey\n",
       "Km+/KQnWy8V5CYOTcB7QykOEGqP6evIqXZVYYpRF95dMxnfEusOBLU518gViPgw38qDsTU4gSkxZ\n",
       "uF98JQ+DvbSJY5Ud6li5awFnTxQMPt0/n5xeH8u3btXX0kNwJXXjSyUi32rt0RxcC76LUbpWphUM\n",
       "Y4BUxDTUQt7Jzea4c9yOSor2zUpH4if1//LHlErPxw3Y+6dttYNXlXbNchNNOd2ptB36L8XO/CHR\n",
       "uXG0Ozg6gDOzrqAuBLfWYLrf224u6J1IQFxVmG1fvsmvweTIfUmE0eyzUh0nwx/MiMV5Nn/LY51R\n",
       "zYNbavFBPSXZ0gFC4PyFBEJN4JjBhbltoCx6/f8OrM6yoVYm1th1G/lR17OCg9XKlX2zGVDUqJgO\n",
       "QKqEf6GwzClodC9+9hjfRpZqb1zLCHaktaV8sT/gJ5VUEdMES0w0Qrih3oPxBbmSZBrOsGN/bgLO\n",
       "/96pfTqZ6kW2psU9KBYV99xsP8xWA365rvNmcgyJ6XJhc8BHktCuc7MmL6G7qUXsMal5vFKM6kDB\n",
       "o1uBXITXnSELLsUoGVMjZgVli/oX19G+Ie3mUF0ZG74ectpBWfd2kcxE9mf7359h2lAEfdHFcNc2\n",
       "XdL6tvbF+bi1hVT6I2jKGmVA6OVKpcjdtKW9RmlUgRm0yfwrnr+r897XLjKgjHkHin8L4NwKgPUV\n",
       "MgGwMSnNOtKPpIMXV9xDmDokuucnP5b4IEdA3n08aaO7Op5h1TPAGqzT+9PCwLT5sq6FVw/6kj6T\n",
       "zoBMFOeh8ad/zVpCm4wLEOAdSUmbvPbdzpWTv5hk89J2QhrkHXaSd586or9q5EBXzUSOwXNCZakU\n",
       "crBTxFyItUrzLv53TbzR7aIcYibvF69rfBOAvbdv3oI/aEMWhBy5eX3vfkBwwgJ0HKsLq1jWgBa3\n",
       "r4qgBG3cMg8RIaK17dFyVLp6tH4mEu6ZGff/vFW7jJsC+ACpPFj7vMt4xcpcaeT1EtiL2y+PSyLc\n",
       "djgbcUYofpUMFd3s/pv6CkbK3WGgl/M6wUVsx0kciQVxh379ggIMb/JvJLVmIq4DPACMUb0ryjmU\n",
       "GAgiCKFTnBYKDDm+1cNxtK5Rs5exjpLcKtHaD57z1Mzi/g486YztHHRqtiQeujsDoO1s0pBRM5Qb\n",
       "HRPFISoM41wyy6REtZ13jBg6QYD9lOnB705E7LfLJHwDeUMdFaPUEXrC/pR+16Q4uOw1t3hZRQH9\n",
       "+esGEYTEKB34s4gsC/8lXPYN8PwQ0kUgIxTGG+RM/G78/NvkZnQf8IiP1agHm9wSjiztmfzCtbbp\n",
       "xsRrSGOjnrX++tuClrb2WRW9RGj+fbCaROdG1jzmzW9FcJ36yJTMEpakO4l5Ui4KH89joHFICwLc\n",
       "4xam5V5q/dmewXWoqqAg22GZasqzV0IEe2hIJYRp/SOiegQoQhGXnNCAo+KwBeLDW6yj5tUmuCKX\n",
       "a409gl8XKdnzpcpGlAZTPC5+5pjS9/1oh5pqmT/sFc9uLeEq2qFNDjNpHL0bUp6ueZTiYEtY5FVh\n",
       "PQhV1VeMYYYQVZ802rwKyiw0rJuyi7Ux3vJ+6WKD/B8+YvscXxzAreMc+j+LWwxHH1/DPys+fDnc\n",
       "ddiFpXpd9R4a5srE/kt7FWU8ArEPywA+KgpKUVoztRtX7xMTpYo487xynX9RzAH1nc45bFRThEKK\n",
       "rCIfo6/DSt5rD4ECM4FflGQ3dgA1PA9jZTyOVn6+Qe4ETJMQJuHdrUCmgVgOONwGtcJ98xUQ2T9J\n",
       "nX/XrES0+OOpuNsgQCWd8LELLnkECWKIPqE1/kPLxU8V/msFTw/+61s+HwBnZZAHXaW79vVOJ0L+\n",
       "Ceqaannc/hRlFkeY3fcDEy1Evckvxp9qQb/TEK/7/AMtwsZyY5CpqL+PUM0MAoCAAyEDY/4dP01m\n",
       "0JSzqaKizmBD1COORgwD0Kon/a+fJwyn4VACopsMzZI1/MiGqqYTTHKhbz3bGgUhM0l36SQMjE3Z\n",
       "ofd3uQQE2E7kUl3uwYDoQutjF+300ZlraX3KXP5fMOSHQ5U72u0AAAjwQZtSSeEPJlMFFTw3//6n\n",
       "hAAhnMovsTboX8AAnYADSIHsOKVIoZuJ61iAa/XdaV0uedYhjW+b82Nbs3r7kgVWgw77UMwuh3Eq\n",
       "1InQKBLREDk1mbW1SlaSWUDYZ5NOqYWz6Wlqyv4MdBpTU57BpVpIUf4PMLvKZB31NyXrw3AHUKU7\n",
       "E4qMGPwk9wyaw1IPzn+C2SSzSZRvhvlG8NHmLyD4bGpkiHOEVW24spmAqirMJdyWxMpHCnhaz3QP\n",
       "rMM2qulmPPjC/fGSgm4fC0/ntQGDyjPyeOapP4foClsiLcz1BgNMZvpWHzTasMkx+TZDCNDr9cMN\n",
       "VF4USGWZzBg4hRGlstWJUiGqLcZP/nSDZ4JA1pOyXCR9RR/mypy5qUjAsozWRb7U5szU7n6ogN/Y\n",
       "OqqM1AZVcw+eSqIBkP9PEhucvtw4kkFmSPKDPO6HWQn27d95fQ8aOOaV7PiQVgq/sWSjfkzhqu5s\n",
       "+Mw8yo/gYsyhfRhmTsgwsvjyYChaa2c4KQoQxdRMWfoJYONF63J1A0zkMI4JUOyfjZAmh8eSTqCN\n",
       "WM5QzKtTCvuAZonzpdtNNd2/x2Y1l3yWkWPWBeQY+VQhH/BwH0iosj+g4LWyM2GzPZdCgh9Mfl28\n",
       "Fs6RENaoPSO2HxX+oNyUY3gYB1CoWYwMcRN4K7H+zboKfvp8Fdb1eglzNh5c5P9AKU9DwxMNBVyJ\n",
       "ITvvUECcgQuSe03Di+3egiDP0GgLCa1bxiiHxGXH+yE+n8k63wsF4TU1TQnJwMA0mKCSllZA0Q/1\n",
       "XbKm+UNkn50cdAsyFOtqpE7bU6OPiZ5c5CgNSBDGxvaVizCR9NuLQ5QAYl7AuQiuA+4scjnMqtC5\n",
       "eLWdmtzVZtqqzb9iMWv2/UFVArrzjc3ENFEMHmAOGHTXDTN8BTmSp3fbVgb4q/SiBBd8YAOIoK2z\n",
       "4nb81GUceIzhv8Vhi1EzCLkcklrPjvszC9kZE/5MFHqAiqW8xgzt77CtKwkzH1P2GdHzR0baNQob\n",
       "Re5gCRmYvO57EEJ20xdKUT63eJX/E9lCU8Z+oXa7ngB0jCkpm8vUftiscYUk6y2n91maFTYp35AE\n",
       "FjDcYCQaia4HOx68kBZGTj1KsTAFGd2ioN9zTf4s+4mEk1TruDUfs9Xrla1fMqyli0N+Pn2eP5Qr\n",
       "/i+kma31B4adWWxJpnedOYe/LCak1PuWxkLl2SmmXYBCz4gWpehfVkELwa6oOkRtiI8haCXnotWc\n",
       "hPcv2hBtqepp1DtLl16ZwQjXP8k/t9rq/tPbTd7AtlegqJIAaUd4rRWRD3/Y2rUJL/KqR/IZxmid\n",
       "LRpCDwb15g9h70+XvAdoxYtxxJaENHOfnUHLQmnPLjxLSEZXIbm505G2032I7IiTkYAE7B1qo8U2\n",
       "uh9SLL7gvJ45nGuGXKzSMXTESPPBnDoLC4mo/soHrFT5jB3Vg1Dmdl5hYR82kKm0hTSmukV9ZTDT\n",
       "Gxz0CUVQa3E/Po9PzG8HZHmb99WwxK50+cU+L+lii0purmIZkvrM9VG8ZoACXVCRuBNKHj2YlK8/\n",
       "SP2xzWdr9ms+kWdDtmZa/6XykqgwbmKBU0y3IB2e/ayaS/sTmCO2r3meg5mzoyqK9zvE76cvuuLl\n",
       "vni6wIL/+Z/Rdi4YF2RGLR071JWnL2ALz1LO5iFPGG3UetqJdlKB24/FLRZy7ak/fZlGwFi8A2Tv\n",
       "v2Gvw+nV8npyrACbM4t9wRabTR4HNmgD8DQZWv1bvw0kPAdy6geV+FUubeOUgA0bUUqJv7Bihrp/\n",
       "g8JzAQ9HGZhVVR+xQnl8GBSHk2fiv5PKNOvr/GxNMi37tC4AyquEouE9palYAlBMTnUNWGyPyjT+\n",
       "FZmzTO51ssT4f2T8iitFIEPBTDWTnfbGeAjvnoS0r0A9+Ch4gbXUIU0ZArF2hFpkYJwwrt73HPhq\n",
       "ikgbfUFTLAG9cwNkn6R/xs/PslMci/Tx3bKMq5vbCiJUmyGrUOtf7YQ7t4W74p4hgJW/kRE+GdaD\n",
       "9TQFqn0HoakJ2D0x6u9SP+08sJDejHtC5tQBBSPEJXwoVga+OqmL8Uf12a4mGvnG4Tod3wAW2g0m\n",
       "bAyOMllGnaZQ061ojwfukMPldltf6a0D+apnLDhRQhjf6flvoAiHzA7gGFSCiUFlGmQqmddhTrBw\n",
       "iGbTXD/jQDP7Y9F60N/UimJ0WpaXL5leJ1PFgAz6lOFxu62MTz7Ecs6y23ISTWUDFCMihteXt7d3\n",
       "XFl96O4omo8mVCbzC29YPnF2zeySOpiqF8CJc/nO2mn4GoX2Lr1Vrugx+6TctcKmIFJwedGfTwXS\n",
       "iIVnVfiaW8z63gJyhcgJZeprg2BvbVSmJf/M0xGRIi9pBbaaSTdZAOvSBLt/NAl3ipFSubEyilVI\n",
       "XfIUPZGHXCZ1pRywvkIAUQIZ7hfLzoAAD/v2nAbhcxQv7VPQBD5xJC8V01B8Z9QjawIsovJpSuEF\n",
       "8G4SN8HnKVx5643MXeQSc2MKPNw/rdyMMm9Gm12tpIQIA4E0oQOysQ0ZHzMkkn/jIs9ODNXgDp2m\n",
       "Hl23WAj5g9xy3PWe/41r9S/gvMFY6uspN3xG5Nt6vVAi38eKIlyROJUPC4OrBd8sOcaC3mJyu1rm\n",
       "b5TOG9RROizvoaNAOgm+ZUpKZ6M0N4xztG4+VpQ36Q22WMp4/iBP86ixnznuhr4LhGTbJtb0K0Yi\n",
       "KTlaLAi2aiLx8SyBUwu7gE3MjrEj3oWAP9md01/+s30InTWclouqZONGrL1MqnnXBn//l+1xObHZ\n",
       "B2djBWR7iaHP5+Ncbnqlyxkt1+vFm4fA07f5cZSgGbb/oHnsq6zGmE0GuBn16tcj0rsoz+CjnD0q\n",
       "iYuLVMk/mp/fajdBQQMLhkGx2D8k+KmvJ0qxI48wiqgEHNzJ+37vbTa8s6uWgP8DHdvrQehv2dz3\n",
       "PTnNsRMnV0ytr+Sn+wNZ2DJsr4TZ7Dqp5b26sBRo9NIip7J7/blj+5NOL1H+j0oBkHOZwq0aP0+R\n",
       "gGUTq5/uA4mRAg0lCVuvOYot42QVKtrDqfN0m15bDvfzvt7FDp1qS2t3+gqjv+tQnGsAAAKrAZ9x\n",
       "akK/ABue3K++zQY0Cig5eN+TDt1jK1IfuGekbQCV0pkmQs/E8D5GnM3ZnFMGeu/fACyXgNgq6I+M\n",
       "gQ4mNf8oVpc1rC2MMrCFILeaEYH/pHv0MRb8Qdn3ClmDR/xuMRDACzrofHqUNtvoHLbmaZqXRFHb\n",
       "9QKIj8NQpM6OyBWPfuAtxYhi0gb+xhQO+bQ2U3Rpd+QWkzrF12Bo24evipJbxdmijtaSYs+fPr4f\n",
       "Vi0+VpFWqNp8zbX/GE1UMdm/zQqvQcTl3luS8/xKJShGPT0WvXXr+5Gk/grnvT64WoJ0P+XaSXK0\n",
       "9OLVcS3AJgj34LjI9/tTFT5KZMzftthpNosUjHs9iDQTauqqKrtvAZQY48gYeX/oE3kj49iHKbjF\n",
       "NQLKehOt2lL3hkaa1v+OPHs6hJa0nw8BcDv8oJ9XU5FdFib2OeYUCUacV2AAAAvM5yqW1ZiIV5oj\n",
       "VV1ra20K7IJ5bKMjQfsDlake8c2shMoqcXFa+umVSzkHKHorHlJB7yYISMmKkWKWP6eHS8uFRg7p\n",
       "3vmSNHHAesl95T7FJJGOOPCoeiPlw8kJtw2g9/RqxjAxhgkmfPoZ/39f0nCAdJmcosnZprx/DzI8\n",
       "KpXYi9pyyCnzou4qj5Z9ak9wJ7qMqWN7kekMi2jaNraPwK8TRy9BzILPF11PWwD4iMbVcT6TIzCz\n",
       "jfgQZ5SyDrnaVgh8G8AECznNqJL2a43naHaVMrUIfLEUPzNZiRzQxghRviZTD8CTkRBJdJ3uGpHc\n",
       "22sh3ecMPXoQII7l4vEy/mEL+MArjJtyWbJkuQvi7XvOGJ6pdnYNM77KYircsPn8xREzybUOFKrI\n",
       "8PBjL7mUrvMf2gxxANAyXEUfyYrzJib76IC5EEmKyi9bVgmlb8qZ1pL02apZe6BLfsA5AXkAAArQ\n",
       "QZt1SeEPJlMCG//+p4QAIdKPx+s8ULNc8Uj7OwaE7RAJ/voL5cQ+q57I5dje9EXzgh4mEmyLLlFp\n",
       "ayZb85w6KeouIsw8tkx7pwjHiH69MnD3NIg8hKW1UajeyVKTvvPdZXElUkrUrRYlisAHC38B/SoD\n",
       "yR8zmUoXOJCP15G1I5cSmH929c6kx83qkjXgPmRZoGDe1przZW/RVAhLNioCeI/Oo02F4TwVFE0l\n",
       "E5wcZ7xNxy/VVhS5n5aBuPCzbj7biBlajWy4NezToJ2JdZkF8G+iIhF72XCwd6AL3Iw/HJl1Nkbo\n",
       "yuCggq0py/7Tsa+Wwg+m8eLtekN8LNEBD1s7zYj34D5zA4SKXzahh3g5HFrxCCO/qE+YxkCYtHYW\n",
       "e95JCiVaJE6jJTvdTQMSTsTbrUc16b3NdlrzPwvJUFSg9knQEpWMhxWUgmVfo21s23ih5reS9Jer\n",
       "6Ml9TfTx8X4Z3G1g7bHxMiyr/9UbMW8L7Dr1h4YHGgDKiczKWoLhZpCcMgxYpjZVldDaXf4Ws7dz\n",
       "AcsZUdRky8mn/9sdIiveSqKuqvfsB6EwDUtFixfL69FF25hF4NplmPW/SFjcP2F7vDAyxusLw71j\n",
       "0E5abW5pwxjqp51CsJI83kqfh5lXFh3w4K+CzaZjYvaGJxgkimjlVdhZdUYUSkAlroINobNucp94\n",
       "8pITpDhcNEiJ/RsP0ihltcva5eapTVDidazSXJH9gyx5/KN9/hSSCb969lPitHvx139DBWK1Gaqs\n",
       "mgIF7L49mPcfNY1kqBnjKetDCLyQO+rB1OraQSNjp2Kbw5ifwDZr56Eu4curtrsqEnKBNJsAR7N+\n",
       "AjJlWBiKubedOHX3Lc20eHnde4a/9wgguHuQVkVoP1xNYBRz9E5lZMq9jFeBbpOxpYGtK65Ecp2d\n",
       "9VPsYbdATURWo4d42K66VRvXBhIYWDDh6AGAchMT2n1rJo5haPuFTimIol4I4mFBSQmi7CQdQx57\n",
       "oYV0e6KIjE9ghoquM3dbVGEslQndL3ql9wPhRxVrme6Bq5TiRuUS0i2BHFscN8y905YuN5l0J3Xa\n",
       "xQDv2MT31m/7jO7nnloxfqK7/OpGzPz3DU/b7Gg5IuETT11K48rS5HU/TT8+HZpNC1+HcRnjIR/d\n",
       "oCJ0oIh6UHRUUh4DUNS+uVwzFuVe39XfCrF1beqoae9m8ocrHczjZETxYnH+eO8Pvdp99RYGLMji\n",
       "i7DGQAOOg3SGfY6+72Yj0smhB2M1T/qFKax5/0sBAiOuzSCxMK2ocahnu9tzVrez0ZxWN1TJVN5H\n",
       "fG7lL3bfDL8OJhW/stxvr9VA71m1OonRcJpCr4WBnw93RMk8Wnz1WKPJaBsznx8SQvktunjQ2Jqt\n",
       "rEkszMrfoFBmYqjYgKl8H/sXHTQoHXabkbkQT78ZC7H9Je6ZZuuJDEAreGcAs4QGW/lGuUjEQlB4\n",
       "XUeoAV9KbQyz+QH/EKegDCshOxK+mFcc2whqJ39TtfgbkpDXDdKnkVL1XsXcDYdWjWRQ5IFOV6Sr\n",
       "z8NMJlCRQtumvQA/5mLtA9Qkhjd25YUA4qcJgWBeFzTFMh3m9zwXstAjaHpmNYOIkYlDVQfSK8Rr\n",
       "lLJTysnNxA+Zjfnuo3dJvFwHB53X3f398WrhURAgRvY2CeBd4wtbM7l3Reth5yhpP+/cN+tlJlGF\n",
       "r1a9BkjcNoxQzNQVu3qtFEib8HHzigwW1Spi0/BLDu29x+vY5XydqqA41NMG+gTzzhwer1ETlYn+\n",
       "HWHI41MHKEbvB0FyWKFo0B2xI92THjPjMextPhvtySmRs9jo7sbxpIis12r/kI52shWr81p2PonX\n",
       "C72eohhHsieA4VPdWUnYwtPEjk0ufRbJKZLzq+yR0vdboQ2+mqCjRqQb6wX0AmfXFGOZzYhaKXoJ\n",
       "ArpKIx8vsMxPqju4R0qEPiCiJTJOr7w40LKuTC9SSXZRfULgxX6bi89VHY6V+sulGo6dX0mGnzMS\n",
       "DdmYlKARanu1BZk/2EvoHQPZuPIK6m63Z2eylmbfhJDnMYBsDnukGiQc/LnK9skq+NjIBKpcgs6y\n",
       "MW9ipiWLwpiM6Hdyi8haqgQG9U1El1EvPf1jro4BA3wYUngeUuBSR6pKX4ZEw5/JGOkx4XiXh07Y\n",
       "5NsiOlaC9oL8h0QI39ZupEMaWGKcpz6Qy3rnRouuSC+VsUsLkVPMEb3Z7z17v57tMF5+i2Yb5N45\n",
       "40pgx1LXAlnnfsFnorzIR3HDznB263pt5neqhvEU5z7R2MGlXxZNh9c5ONutiPhQXtJs1qRVPpbA\n",
       "lRlukMZFHTKlR51wE5XtYngIePsFIwuHn1R3qPsuuHTCWMETEtFrTo6QnumUThV5IrVuJpmzO21K\n",
       "9uKo0e+oPuE7rT+lTwxDsvd369C/+X1dC/ire6iM9pmLdAvs1L3yZRMOQljEf8UpitNGMpaD9Idl\n",
       "M+3WJjFuTl2w5VvcKHdVn1I7H2/3/jgu0y6vHiQOQ580Aswwx4tstv75ocf3o5qDPijC2XqBr3RY\n",
       "bAmcCsMprVOjK4c8ohdmPddsG/ktkmCnHvuaGgetYjnhqMDjrzjMSnclcZaYPg1REYMFrQwiAXRG\n",
       "XQSk/OjrG1sj2mIRequSIhB2G5tkDGdrvsDQU6kxyuppyn9GX6+D/6Ynac9gddxYaldtGFfxPq9G\n",
       "E+MOciI6LO8GSxoO0B/lztPy8Xex+cjIzjg4t9Ye4zZwQbUWQLae86GMONoObF7TjTTfGTnHAhCk\n",
       "a6o1ZozpZ0BWafL2jFI+qOxjJqoKgWyRJe2ep/YEWNP8cU1YH/FePh3baD2BRV/GjrnFWpoVyijb\n",
       "DgybxdNDwb7yp3D4MXPv/u334PrpiTexAJlPlH0anBgAlZko7LeEwpFM9I8ZaDPyPjOUeq8etVSl\n",
       "1dvBTzSYDmZ+Hy1XCW2cTloPJ65SPf/dBqv2ouigJXyg2K6GbmvNaD5UFe/Td9w6zz4CIduzAECM\n",
       "CpPROHi75G/fHfiW/6a0BtF9E0Y2XmdiMJlejJM8OaruAKlVNsaIc7GyowTPw9T6n324PZRuFZNs\n",
       "/mwSkNZqe+y0UnwmIEIEDMuZAdNimi2IVnt6zyrSU0lxo0fMUtlvAMv2WqNwVW+l+8YV+xXnL89m\n",
       "cI0YxD+XpS6WhJ5znVnyjyXXDvW6iTfZD5DGLnccu1UcMjIsdnSzcf0dBXXgj6PXcAAWJ7VYd2Kt\n",
       "zt1dFzom6bZRo9/C/fod/xEMZ64wK/n0ft6k2RAKyLeTjtj4mhxPZcMvQkmc8XZK8/TvTDlYOUEs\n",
       "OyRQCetWKJz5998KEIcW6O/dx6+1Sl4jQ5Lzgc4VEfnh3QyIdJOl15uMEV4/OCkBADV47cz8IJ1e\n",
       "U1FfGOTpyvbLvoXX+PbOiXvhmjA01/eymkcekZM4D4paFbLdPePYpUZpziHdx7h5Ug4QI4+xD27f\n",
       "lcPV1Nt6Izn6G8PoRxvlulxYiBKQ+etZI42/lCE1QQd6sQ8+NlW26gm+g5QIxqTBLcJ/wx1ITR+4\n",
       "YXJZbdAs5ZvtKi5QzIksGw0vFP3wuOGIZZ73Ft+kirbcPP1BnNk8kMUCo+51nOHZvoee8mS5Hs+5\n",
       "wn3/2AmmDxvDi/i2/B5UPODDsdkvxV/l2EypbyVrOQvX0+cxgAeuiveRywflDl2zm9DnkAlgrt75\n",
       "MvMBkB6hpLCXG/tK7ovJoPeL6bSIF5KM885hpKVQOOAAAAM0QZ+TRRE8K/8AG6dDKkCdvozfg0mD\n",
       "+olJBf6BYEKeJ4Mk65GhZEhi04+Wp8PwoAblKI/Ea6txzzc07zOpAqMM7hzg2h42LMfFJQzbZ+BO\n",
       "Cy9wioyVLPhb68II7MwXU8a9+fewWaUgLuZjCfVmslB0J0f5YPYTFd+1cb1pUvFPP3f3i4jAAsl8\n",
       "wNwpi6IZi7XEI3/wIgFXO0Y/8nwWiB+rR6h/BRbgoF0n0dMhgo78oaZNduERl6EUggUrJrLakTNL\n",
       "nG5VFrk5x/moBSPC7DvXWplby9v347CT4lUtZ7/ISDhvk8r0McxEIdrOfzOjj3zSlVrXaBER4k+V\n",
       "0aHFHFdQ2OigGLctJXGgDJdpjGSUnwmhq+0zR5sckjpOKI67WtruuG/V5BjDLpRkWk62W3srCvLR\n",
       "Nf6PYfjPFWWvu/gQRkQAr2UsNeC0102jhn1JVtT2Zc69uWi/niIANHNQSX6dur0M2q9XRy06V9Re\n",
       "h+wyS3t36HDttDyXpxCoy9ESASwgnzsn77pZ0iQgFuxvssHQX4Otjv4ULoERwWc5gyrD1xU7DZFX\n",
       "qbgNGb0eEA7hDsyeC9lvCFGZ5CHUlGwod/cBmPxbuYr8PzJy2aYfMxT6tfKq8MvHB1tb/JNEoEJY\n",
       "3HBrGr6KqAgKXIkkuD6KLQV3n8/ranUK66MDckqLv2t0HRQNkPmh+0I0+WlT2mDFuVNGeOfHUtzL\n",
       "m9C+k3SsBGADs7UGTDKhA2qIkZwQ90mWlwfznSsurMi1+G75iZW2X5+0sHM3pmxANkOp1Ufnef4c\n",
       "Ls1Eio2meF8U7Yfv6P6qcFEvdT/SkhHTPzcIALbU9jWyoRHt1C2SYwknXkHi/N+AZ1WONxsrXMGH\n",
       "WbGr0H/ioEKpC/MhhT87JgvarGe5MSX+NtATdqwVCTu3IShrQ0xzwQtVnern/Ex0Wtqsmv65mf4n\n",
       "kSKS6f/Ecx3CYaxvtXI4m8mepr+Clo5QakZHkYXgZubQmqRDoIE6e9R9xExjt6B8PKSwIuYPsn5p\n",
       "ylMC3iMZz5cm+m3WTiaY7X4IEeY/T6+igmMA4YkUDzvJacF5n9FhbcmSlndgFqYaNC9SG52LIrgu\n",
       "4AAAAncBn7RqQr8AEV2Fv1lKr6pq/QMKjAqNxcNrVONGPc7qTqG3bQANI8k4nj3f1RJ3wXo+T7zi\n",
       "fRqHmedbmNlH9lmrPfg9i8tWSsiUS/pMt4HgTAPgtLce10Rpl7nOu/YGS7fAdbo1HlqDObZL7rUq\n",
       "59uowkm16K1nva3czuoF2+g6uz7j2VKIuVW8mVpYdqd+DgyJZ0rvqRR5nq7bhni13DR2dFiJo+E2\n",
       "DG4tMk/0PCZcHFAXf+1yWjBtYqWMLiW50CucwRhgPtGRAB9S7MQiJOuRdrRT71FiYaqOU3AQAKyU\n",
       "bhkat2sb9G5KswH6V6EkCS7BAO6UkEMSUFfT/59KazToKyfNzwGW+klzYcyxM4KDpLYlg/t2Ks4S\n",
       "w7Yw6fHg6TdBWQuXVahEdK2ZGhShmzOdjxlotYiLVe4Fa0NWhsYsJIRusFTkVioGJH0dwZnTE6Ab\n",
       "H8lzc3L/XgBQryqMgkbdOR0D6r2cqSBEI68pEDi80pH+YGT69aZKCsVV+rduOMmILYfvxkwJ2puK\n",
       "sSugIgj2c3DqYB5/m7yHSZTxbVQkNZepnJAfWTRRkGahdt7IYaOVKHjqm7SsKFiUB+IGzGs3QInq\n",
       "NofKWzdaqJ2UtxIxNQaJnZnfpjfhHwwFoyFAAALoZek2iMstm3b2LI4/PTZE8i9Txk2A7tBrHtUU\n",
       "x4yt8vGYB74wopnun7qgcuEWVW11AX0R95OYgAtWtvdVD+von2H3qEMqYhU0ZJPo8ftPGzyyez4l\n",
       "V1qx3PcoJzpkZmAiZXvH72GDnRaJJE4o8yTNXfOioj/twmcqLLBtX2lHgMffT1//M0Q43IR8ewyG\n",
       "tw2xRybVh4H/AAAJrkGbuEmoQWiZTAhv//6nhAAhqX61/doNxFwgd5IFF0L8f3iukOEEWgBqnMh4\n",
       "t4HX/t6Z7LG3NU5ANoFArpaQVMqWG1F9vXcDGUPj31EDtPHYJvx2Nv5ZRT6myLDgPiJqEMoAR5wQ\n",
       "7WQEUlQWQsi39OKKEmqo6ZA4JrqIgJcLFPXW17pf2OTyguJoTmYCkTZLIReNwa+HlosHzyBNqL06\n",
       "qNV0sytqs/ae3wpnbnrCXo6CoQagTQ9BT7yHi5h8d4A5PIZoJuzP3L7xgloL/UtS4Dm4YLhlea25\n",
       "JaiA4ORor3NDX+TpRxII9fmKlIUsaT4ZMPyqcqfE/1FNe3HhS5LxO4E/t15I5QSFbIc5CTo3jSrR\n",
       "uwGdi8lqBdC+urYjk+VdtE8RRFruYwul2HkTlnCWiz74m7ScNOOIO9dsKKYIAsnJRgvA7bSDWIFd\n",
       "g/np5nsBU86HIPkNhxxm0AiRrt6axt6mIKJ4W2ys3E7OzGF7YZaZ14YiGZhzBMzC+wLokXeNd48I\n",
       "HJSXRJ2WJo07+qFriExKQ/XHP0rj6EeiGp1lDPzX7RYunacry10SjdOnORKRpmLbQ/H91gqx06Ar\n",
       "QDkO1gcnSWETVyD4hyriqANmUkMOnPAOOuzv0hvSCv2/rf+LfExzZs9H+JGQLpDO5vboR9GmO2qh\n",
       "eAWr8upE4VBmS74hOulTO8kYqPTJh1ltphLHxpiPr2Q2Ik7Iw1gJNs/rALC3+1Nf09TuzWPqh/rz\n",
       "iXcakW5nQmYlIEb8gxV64frnEWlogqRjfwYgVkrEKeLSrywwLXdr52EudIgPqVF+0O9AJWP1e648\n",
       "6dSwhSrrKmsVmPimijSd4haLPMgVvmJVi9WcbD/pvR9fnY4uSY6tNDH/aZGsbVLo+E9cKK7gLSaT\n",
       "fKNndPu0ihki+TAsn61oZKxs+pTQDNRVBO9LyMKASGgFMf9SzqCzAHLx5+ozW1Mzgi7GXQjt/RtK\n",
       "IeBelL//DUFc8WIBvrcjiOToI+nZ4IiKK8CBVdyRm0/N/L1CGIQfgqVoQ8AG331ZSxzZdQ77CTxP\n",
       "7GGMf2oLMybjRGrvnV7LpgUzL0PKi7RUWaD30rdHlg9VD/7Sb4m4jZkZ0/A9AEYL0m/cRoKTGhFQ\n",
       "3V+y5RQ3sfOSwZL6KpHvhr0QahVg4+JBI4jQ4/RNf4f5S++POYJmjUT2IrqQOWykPJ4DBhJhetmD\n",
       "Fc13buGZmAazRvW9MUWO8FaO1JMnXhLWv9u1li6my4VbpWUaLLHKHiSCBFKBZ/LK5WNAvDkWMmnw\n",
       "TJJ4+c/QZ0Zi75gulld3ar0wcyXc/MQYd1Cb+No/lF4/e6CPbeyfCrWfsRCcvW6XFXiBIxY5pDax\n",
       "VIjyU99MojGlkC1tzYIyouAUTcoi8e69+GCsb4hVuHTFRlHUJkLRD+2ZyPA/tqmWdczrXjAp0YvI\n",
       "gpWr6pMf7aPTEYXaYerMegfrQoYMk79GDLkN5y6HYkgyEf7mBLAhrR0JNeT8mSvq4Gx5KmYmMERs\n",
       "E1J+jGVC1m+cpnZLT0TcB0hRVantQtNwW0QxZiy0qsC8Em3KzBPWGPq9m8rsT8rkTGvaMJkdiC3w\n",
       "4bkIfWdrw5IU87OWgaF+Brm6wWG5u07y1ZQ4OTmT8OPBE6t99vxIUX/mpDKayvqoP7m3+jP+AOHO\n",
       "tzSb+oe7UUyrjlz7+xW7VKnJvBdzQIJrczI/Su9A+Cmd01Hi3JmNj5prDY4Mvyv92ktJ0D6DGXWs\n",
       "V6Zwcl0dmukluiLvqPWd7AM7sF4oZQ2yo+1ZDRZzW7KZkqWX+dD4o7Ay6xYKEAL44IF4fJYcCCCV\n",
       "llFOLbzjdWdsm+X+3mJTK4jNQ9x5k4hNzDJ4DycJuSaWMQZyWscJZSHuuCtKR32zpJ7dZB5U6C4k\n",
       "1FTsxR5y0RPrMOfmW1fTNdlrSZKSCGX4k3PWjKAlLPoWAK23GUS8bQnpozH1vhLomYeMQW3b7QjM\n",
       "T/YMsRqfy4ewdY3iLuon+YT2Zb2P6C67R3mtnMjHO5EpInA1diRHZY9FSso9i7Mzwcxddkx6+OKs\n",
       "9vY3bqZX94Ftr/NDzLoSu8ra6IqAPmQmLJzpQgSadWuFHyoGb9AVKSbJuPIbBAruAMhcADH0OW9q\n",
       "kBfqY8kbvAR1I9t6C6toikdvV4oyIU+8E00pg5TXe2Z9ktkkhXkVyrpvLyJJ6NTf3ImGiVc/q3wu\n",
       "TIXQd/JbbHOFXbfE3J8Z1o6toeQKvUb/cpIA6gPeBygYMziv/lHzGmK2+ICFASqpKsBre/LeQABp\n",
       "oy/Y9f51QTCnOHYSiuSt2VZZLWUQeaj13JUUNelij8p9GdEdIfGCGN+cNEDFhWTuFwXzuRB5lqqL\n",
       "QmYgL60HMrYL8vEc2llA+2YsPf3ADRNVVbqNxnkg+hhc9c+HcG2l3NrI+vpsv0mp/avwGAZ+7etE\n",
       "l+EEtniFM/RW6drqmICliuhNkGKF1CR0XeRnED2p+MjKuTT1bGY6hvLzja+dAHqSBEZdHT4A0LVN\n",
       "EaooxeOd4Ig7Wb1QOlc5K/AtK7EEsBJhqML8PBK+eIaMgr4JzG3uUzKLZN2XGkg9OyzpTEES3W+3\n",
       "7gM0legqYjcLiP8TLTYH9ugJZNtf4tWu1N1Gd9ZC2ZpUSvYUOmfWU9cfdfrb8/PIotCex1d3Dy5G\n",
       "aI/X7lMysxqx7I9LDAZma09PDBSBJOwJ/HeH1Fr+ci5au7zDiR5TKOEv5/f5iZWH2fdwziZbpUgo\n",
       "+Mw4Rphu0LeQbG9+uJUAdWlG0AHScOQAxq3DPKAxwKMMiudMGYIK1dzUov///60l+MLGS3QPTvcP\n",
       "GnCgK4NVrz6cF/lNurK1LeownvoTA9ixemWG09OcFPehCHmp5L+MSOjlWlOz9B73hmf8sGYPOn3a\n",
       "LS7p20ovi8RZ4SJukWjg34mTC3FiMPtshGek83xv3lHnj0OenTXj174oxTfjYRilSsgWtZ7C8ZP1\n",
       "IgR+WAC6Dk/AwR12xXmFSY9ABXV8Yo5Lz24bwJn5g0p6036XpjOOvqXsxCCnjYzJlpQ4X4NdskLH\n",
       "qioWnaiT1hQU/DWinhkDWpqHU5bkj6dBvo9mESWL9XNBPdhH13fBpcNObJRhcj/nzmHUStjZrR1J\n",
       "3PRh8G4MIPTg0Z4puF5BfzD0eQd0/S3TT7lclA52aW2ig4pz7v1Zh4W6T6oCu4Ad9xjFu5PkMjxt\n",
       "7afDN4lMSeLkpVdi5wfnaHT1GyvADfK+AhxBg4lcy9bor0BLnT+wGf+edi/vdiOZAPGVSkNN6csL\n",
       "5R231uuDMFyAIgAu5zpmrggWgvHrT15uWcHT1ogdOxct3BZ9lMbgfgAAAtNBn9ZFESwr/wAbBnOy\n",
       "/p2+368eDIjI3LzCR3DZ10XWm0gSo2gKPmZAnlbGD3QQkKOmPADiZgH4jgZ84QqUD8Lzx39ppKnt\n",
       "iuoJr1sqjtan107jw1qWLbBdUqd0irJEsYIr3LTefd4mszYk0wyPIPzlx/MZfOcsU8wxUmv2g+BF\n",
       "djH+X10q5bJNnlpcnHRIIM7mbeHq+Qmu3c1fyfApAJ30VFh3zTRfrT95Zfzo44wgVlVvdVI2+uvS\n",
       "YDpTZ3zsMD10NRwYScd7CQlvFF8l2yNeli6mIXQo7NmiWAxlwjCv5QSHz/1RC9EL5qGyYo55M4aN\n",
       "fhaHbRCbey3nSDQqx4Ah+FOwUwN9jZaQ+ESBV08B9yLn/S7e3oVVHokZRT2xw4ujmiEFxDHYftH9\n",
       "km7KP3JgEG2UdGnUeqvAt5kKzfgMRLO2fXcRihjEkX9SUoNbBaAfIuRjeXTO6GoJsgG6ON9QB2b4\n",
       "LDZPUkAYvmGAPYU938G5AvpQWi4/lk6y148luIgtJDCzcatxKzhNMg/rwPxDLmUdQ0IEzH7GWsLD\n",
       "9CY6rnP/6UhEU5rJ7Dzzn2J8H2ttoUEID+kJvH3+RZLTRytwKCtkEL6GlYPpm2DtzJ01aTy2lAsp\n",
       "7XuIrQBeLoMnVL63mzaoawz4S7Z2Gvqe9rnagMvjSk3m7vHhdzvgh6Ao4271RTVli+u2ir9qykIf\n",
       "JCfLvkl4GZQUdrZci6WKxjz5AjRDtv7+ihfcdb/E5lnxMTh6xaCdQP30luV42smQYLLUGooGLogF\n",
       "zLJMtw88L+I7/WR27G7QmZ7QGyEZUNBUfBH1M57hSukEoAZpdmR6a9nv+V95+VC54ik1tQxc9Ypq\n",
       "ighDd3+nQWOBeIlWb2QJyy0tii6cz3Yyt9gXY1qOrLCDnmvJxWjduGTFf/LUhEaYRRlYJgtnN7+f\n",
       "+e1GPA1qJCDN9XZ4gRyWs7N1xj0qEE07Bx0AAAHfAZ/3akK/ABdGoBeIdKwLZvVLWCBFYXmEUf5L\n",
       "10qQEoV+4UQ2y/0lcszAyiACT3oeW0ZbhbCuoi8NS7PfBKudbmXlqyAJczyz1qo3NyAB9PYDCRxI\n",
       "OrCmRXoYMDARyLJzZxUVZXMjSHDP/wRCHGWHvze0LCDJOsNpd8RzDqddNEGtvrLex5T/HqlKpiU9\n",
       "Py7qz23HLMgSFkdlkpw2FQ1iR277li+I7HufJKUuZSLiUXu/PO+CZSKShA8me2PR6teHAkG7t26s\n",
       "6G4U/A6NMIZYpTAEdJ4hdhKi/wo3LxQGqheHqfCbrWeArbWlh783huhKoVy4DVxNeS71Tr41VtsD\n",
       "248O5jRqnSdd3pFxUpaOMUhipyOZeHRVn9hyKrL9jjd8d6vQP8MtQ/rvyb39lMAlWamNHGZr/HX/\n",
       "d2FVcfkS7ah05sk/r0qVyFKRpO7+Xg77a5Jhgf7NfqMU9ifkLxuuvyvFWsM/eeU5lBg43hX/TbUA\n",
       "ancwb8vBa98R5tNvGV/cdfGcVEViV3I0xeAwdNjbXolCK9kethrWzgpGRWYFuzD6oefSHE6yRTmh\n",
       "GbCt+xie+bsCTbzR4Nd6uDE5f9W2IziKyBx6K6fB0SY7V/FveJBn5lC7tOM9NSufDFHja48AAAOj\n",
       "QZv7SahBbJlMCG///qeEACCqB5/1ypreqQ3afnvH9JWB/roEc1tlIw1ZxgADY0tfGj6wjs5K0rRU\n",
       "7G7aS8boY7TmXWGNwZDY+WMcct3rPFJriAwq8Yfa4oL5e4/1vgakAiOyjeEyDmcFGwDqguKOQscw\n",
       "c/H6I/P3jYgNNYAG9xYVaC5sKyWp4r4GA6iDrjWRwvKinqOWtvO06Ohyv+adii5buo2TqcoJpotJ\n",
       "3BEXkH8pC1vLImCM+tkBLKHstAMda4URO7GghxTQKCui4YJXxA9RnViyO3RtObOwDddBEx9l+wWt\n",
       "GZ/6SxFppHn/RGxPz5+4m8cpi8nEcAuTo4d7Hyk0SrUayZKs7yPaPdZPtBS+pq0G52UT4uRHG80r\n",
       "lyyEQ22F0chB7fWNTCPCOj7XNlitVx4wGonCgouc5VKhbuBao4l3S5nmZXQ7nKxpzFUiaAt2WzM/\n",
       "iKOBVyIug5Ct/x4YfuR9wvn7rNkcOLApOOT77YRLf2NAS0zB8FgW9ygG5t+FRA6f3o3WXrv2Np/v\n",
       "eSYaMdifrHxWtVtU+d1AgKwSMJIJ8MRi6HvNwtNaPYY964OpC2lYgovbxzcarRbIuVrwc3FjJJZa\n",
       "2iy6LzFvZEmwFoeu+185EWYlpZaOiY/2C/ynUWxP8QichDuc7mCI0T93/sip7JwoXhwZ1//Qb84H\n",
       "Pg1Kv1CkcKepz6rp/iUU1PT7iRB2H72ICDUQHBXXpU3Er72MCUTy04F4Cm9yyVC1bRvHSQzYcPpH\n",
       "CM2LUlLfbtsyeXdEBIZhGlrqmwFGTXgg1/f4tBEymYlSx/9eBFuNNPBUSlPzpiuOhbkEKeRQ5+fH\n",
       "XX353pIMiUBbZTHS2FBz6Gvc8HN13h77BMrjRX7Loqbv06wXINL028E45Q9yqANd0fN8yWo0gzLc\n",
       "t4RoWoePKb07h1lrJqA7QxfKvaCaWgvUUrV0D+jf8Tu1xF0ZoC5Eo3n8fy8r91HS0pf/+F4QUwS4\n",
       "1Kqw2wy2cdNjv5/tQ9VbXiF/UCM6ktkXSiI5k5GVCPJqGgEtnVmgyM5XJOLxvOcenxpEfPAt6qRP\n",
       "dbLzwzrzYQUGkBN59ybH6nQpwCNbTVl1SI4Nw92Eu8jwOGZUDzT2QVyjHqgeQIw7H7e62Uq6Lc4U\n",
       "WHZmGBLr9inVLuG3LB+D8QwS1s59hBImbFTGyunOePMoV7EYYrk7lpZnV6syvkdGcXybRjPDGu3H\n",
       "CgRoAk+QhWGYuvGFrGRl2qrq0AAAAcxBnhlFFSwr/wAbB1XY2vdVFVXVft2JFKmrRaS3ZFfydYO6\n",
       "UcmsoUPaUAEwQTvoABHRuDzvMICEeoV2wwk14+copsL7I5dfKDKCm/LdkNRoB1Iu5Or6XxOgAg8Y\n",
       "d1ckPtaEQZj1XHwlUgfSUeyPpT0F8QCc81ZoDl/CmTG0wLrrWI5t19S6odwdnJZPF4+nK9YH4Het\n",
       "uY7/H9bBBLzNZlReuIeldN5bjqwNLPdNucUeH+YizX8XzboRkaPOkNL9xqo753bfodUkxSHAieTM\n",
       "np1JpW8lL+vC7dWMO8Q4P0iszr2PTt3wnScXgWTzmJxxyAvfdE/m2nP5SH/ol0mDt6jgfP/7hoKz\n",
       "/dJ10CdjALWVdeJ5dyhpXXzWSbYSfGXn/woLWpeUprvMky9iyx6g/EIT4EOmQVRInD+NOGC/cEGS\n",
       "eplMRsfNR9ngXRhxR8GD0CJU+FxC40gN8IInff0mZmbOpKQ939qS+bK3bNgF/k4cuY9K/HH3enYr\n",
       "8eWx7DbTwDXhHBBW0UrfiIJuaeNUe3e7HKyLsgWJha95C1+VGabRZpmfeyOVtmlU1MAGaj/P9ETc\n",
       "33uaJQFgfJV+XZXe/TOY28stMMfsulm9MSjZAAABYQGeOmpCvwAZJ0MqPnNz06Cr0ekB+WNdfTiX\n",
       "V9AEmpa15wkz4JWHgU3RpK1pdTRRwAC5Abc0XkLgJVGrtSYVg4TcTSgljOhftoj4N6/6nVE19fJO\n",
       "HLUlqfVck9VgHe6s/1Bnp4apifBDmRYpdqKCkP20NUWNrfMuQtjeTtgYYz3Kz77HOHcZU7MDwjC/\n",
       "suXi7Wamsnu7Oo+GWUFF2pX5ZQ1XeaYZK8l8ANWLi36ws32uz1vdKguIF3JQEKDW6GYbe7P6O1K/\n",
       "F2gDiqv9zHFB/Pd6NfJ6nyGRa2l486+1eI0yPuFb8OHcW8UIcIBCSQgVy/FeEgG+0q+Fw/NHb/6w\n",
       "/3P4sOxF6D1KL2QXOuamxTImPEMFZys9+fdj4tJvBbdHh/zuufC3HKb4OA73PfJrMhjgiR/CDn/D\n",
       "q7cr++JgIAvSkgbeQXv4oJ0ygzhOwMyijuyaI5UDkbUhdGtk7rYmcMC8AAAH50GaPkmoQWyZTAhv\n",
       "//6nhAAho/N5SEAAte1fDuf+Ls6p6oeO3gF9vxNIu1emDUsuW9iVKiP1Ofh24B8XQCwsLXj6vMZy\n",
       "GOXVm+TLH/ybSSpDN31FP5AOS23w/4C4WomfCNKckhZs+vCpprMxEDs4PRlrdIOaBnyG0MCTYUuF\n",
       "GzHAXEUADfOsUCsDt+pLNLePJEOfQEU3Mp7S0php3MclVwaqMEv3segS5uDUAWyDgA1mC1TftTWM\n",
       "fltcsEgkIXVPUSIheCmaJCo21ozDHekMMw0OA6Pcgt7DLnwGhIyrwjHas/IyiSssvbA6/lpgAciG\n",
       "XFRMePXDSoquS0Aqjqoi3SVKcbqo/ke3q+agvWerbgRl1xtIGrasCMatooKwe/k7g5EMlAV6rgIf\n",
       "FDrY4+8BY7q9jGGx/gaa/gax35Un/nxD5unvj2vzgNsNl9ObPCogGjyfVtUcKxKaMXkCc+/XD4jV\n",
       "RXyTXrhT/nMZLMrvw3xKqkvTEg2HYvIUi27H1ZpuDCpNhr+/Ym4jx48bAvIUytXFGOvioKz3PHGa\n",
       "JpoddTrWYynh1hnqYIALcMwlYMO3iOPfFt2qdFE1WF5uAmjV4hMGNIx+3RTvqKLm8p9EF6DQKcS/\n",
       "0MnPW0mkGwjUPFPArxQ6AencjJ4BFu/f+3yNfnkUgAMuSd/hNGjv1HZ7kDpwgxz2X2+HaJ+HrrIN\n",
       "kli52jneLkBYPGZ87P1cB/eCJJk0aPatrcxzHwIdSTTsqZ5dtCWof9/0pPCqH6+d0wd7spcfZdpf\n",
       "ZPL+tcQehsVXgOm9Tq90NKgWD3obL4PRD1rFZf50nkjIaP1YERXTY7tQaYnC0huxyD8i16IrdKHy\n",
       "Kglug+4pRr+vqBzzxLtivFV+LTf58ZVGvEc/DJVCVqREMLJ3+QSWRxqyIxI25eXo5YwVHMAjttI1\n",
       "DeimfnhBjdjJ5fephOW/Hca+JM82mBxDq/MPytbF0T7oS+UMIAOyG33uU8kYGM7vHhJ7W5y/euaQ\n",
       "G/b4ePnk6W2PeFPAXrheU2EZO5qsNbG93u0hYkp0dgcunp0RyNyjvwxpaaoLM1Zi+8LJU92fSYv0\n",
       "e9UDB+oKYqFFjJuzpl64nHFAyviXpwM0J0mRenopX5KgNs+4hoDfLbHswCqFKmPP0/3nn+0kCcgv\n",
       "9FaNprCYCQ310yO3td12/I74rluSDNuhRqE/XeOk2LITeJFC+7cUh841g0DimDn1DqWJznNM3tT0\n",
       "3BHfIM8eo49xGFiQ9yn2sHKrjKa5vCgQcSO5KZhm0tcsk6vEM34YAzKMKf0OJ37Vt+zygLJXcLlY\n",
       "ZVUFI3jd+8EcfrlBewmljEWX2vSlH+zzJ45vxufqJttE8fvh1cK1PhyOlCuSxXARcVxlHfA7qvvu\n",
       "XRdyXfin79v25XUNPVuAUo0j2VWEucLpk2E2shPzyfEm3R/vPEyiQyLAVUfpPxyPoOE/SlbeYRHS\n",
       "/900QnKChhMDHSNQb+EiMAuveQZKCIOhVG5oAcbyQnn+0GI+5c+pHo58L6oDiS9YXuYMxUmN4I81\n",
       "vl1mdgRN68xbQerOxfi2eZtzlIzSbHoyeO1T3Gu/2bsMjUgafYilTEAHJY5M5ASPrPlvesgOi7vy\n",
       "T75jHrdwaH59zv2jVpyPMvs7U7f3mxpPyaSfJFpoy9AFqQtm50V2N/ojmLL8jRfkW2fMyPvYkks8\n",
       "0EUMvdFrOA99t18xuPpFYKXBNiRaKySzy4UjhdTYS4h2h1zdDAotiUWmBylVCr5mj8G6QuOMuGeV\n",
       "0ql4ibhweP4mmRK1ORGV3d5Ar7+DbQL8u98QZZRsStZfdydFY3KPr02XLaKsvW3RNlSDHNmNeeHT\n",
       "8HwcMsh9S1Li6TioQ0bDFQdl0vmOWa0d/kvWvg9peb4I6Q60gZtoSBbKRlNZ3loXt/Q3MsjcONO+\n",
       "CJjoqlclcem97xon0QWzt/YGqXU5xs0VwoHfAKI5mWvnN0zmFrKnQJukFVOg6YLB6w3iZlhi0mad\n",
       "WQkVY/+8/X9w6t7EQ4C4S+oRPYqG5WutFPddzr+CL0u9RHpY78kLYqBgUgBkDDStJHIloM35swhQ\n",
       "7oLHQcA1vySfYwjfC972LSViBByvXAKzaShqaGxB52mwaowdX3YcM27yXUTdy9BqycGC/akPpp6R\n",
       "wmbOZa1P6b0zSFP+sLc+K04OP9MuPVqsu6MGwfQe16FNMSd4AVLCs0NUUCKZkiDHqJT7smaEmv9u\n",
       "GVi8oY0/sHCbNRlnuwT7wm/CDz+g/El/2B6AT3NyEvHonlaB92DM1ausUrlJZlhOxUKxXSmgedDE\n",
       "8DWhcJTYKPnVW5QKADCRIlLcH9uphmVoas71bZrhb5JO4k+MDON3rElQePt7DgIgGCmmKhd8iHUp\n",
       "iFKI4BW1wvD1fbZFE+MkZefymPO4Y8dGA8xceOsJrkJNLQVRv28KxT/OMrzGAQqpqDuE/ctLJtit\n",
       "3h4A8rqMfpgFaxdm4CxkAFsqxnA5STUBiniVOMFFweGI/llQC68IMdTp3mMXGJjGKcJicwY2a8cW\n",
       "ggMB3aVWYnKXjm08KMpGt69lM8ypgTGfBeWl0YBYGgA+wLPG9a0TPaYD1aYY83Cr541bMK+pQfxR\n",
       "Z2zmbVcdmIy/F6h3xKfT9BMBDVKjTt+TYGME8p54WmEWJc1aGHaDZfPlpglxWfA6DVZ87O6R9KBb\n",
       "EFzqqV7OYP4h43BA+A3W8ZcAAALOQZ5cRRUsK/8AGvtyllognfGlZPZTavnIdFckQOewSh4+fqAP\n",
       "qAi3NbYBAh87Cvp99gBVTpiyg2U1cFyNSF7arzLmnOt+xPdGwziS+7fTQVbuhvhmXXXFQ4HERXYr\n",
       "5l75MxSsXXukjYKebhBYJcyEK7sNN0gYP11zZ53OC6rZzfsm1iwx0qhpPP9psBsDIu40t53Rx9pq\n",
       "zdqvaK+MBmXGkxQF4BlqEDayS3FQ0FgED4idh8WV0MSrYqb4njwaKCUnwdGYv320fmx7lqXF6Xny\n",
       "x9fInBGFIYSPz1SFKirgfN6EzLFmLf9F8WoJF55Kfj4v4Q8GJbwqUEmA+3rKf0Jhl+pD5/bYBKsv\n",
       "3tllGZG9vU9rsv73/QLH482BQpxvwsdkQBQbJiQ6KKOATry1OlWaCkYgBOJjvnjHodOauPwHM0vg\n",
       "fs1YiLet75ypcz+bY29woiS87UWjtZwNrHqLiYNpvFmnXyc3TLs5FuQNgI/HbwfBmxT88LRVd98Y\n",
       "RMBg+khgYARwC4MuCZbGsml4HGJQ5zqb0AmG66SP6YdJEymc0Ox0PzfQAHuZQC12zlrIO7wUM1Dk\n",
       "ZNbu+nFSkT1A3kR3+mYIFI6pzL8Oezxk1Hr/5cCB2U8kZlQMM8N8q2gWx9cJvC2oyH9pVqaJJ/Sf\n",
       "HW3jGTw4ZtIdyjTQg94TM2dZBN7e0vjr9J0C0jqpLCjyiD4yCnRT6glilvBeo59UWZXKTigVU95D\n",
       "Fm8jdBJsAUEzxm5GSAz6WkXRFtV+z1/N/kQLYj0Qcp/6r51yiNx9xi2Ft4e2o6Jye0TBN7xP7RDI\n",
       "WyrYiSRPFcXYdScmul54fAmC4RLoA1SWZyWCvFW6IIZE3zNSqvaFH7IKzBvJ7wvQ6gR85rITePeu\n",
       "xVVOdXpsB7TMt47wjpGYpgnT8Gu6gj7y4xaK0yWM6oMG4+2k9lWxyLymbb6wG7QzaGvPrcGkgQAA\n",
       "AswBnn1qQr8AGcIfR2lZVF45k07Dx+kzcoUyYlCXcCE32BD/k6fXTNt5uOKAg81wmXsPG4XhLWcd\n",
       "jPd0g3BetQAsKfJhk1yr54jv2dZ9/ApdFXQCX501k/V8ITP2CaOdgLP57oPwlvh7L5TAeiDa6WO7\n",
       "PXrTnpmqDz6A4ZftxEdy4slsV8NzxuruBX+B/6el+L1KVdks/tqGtFIQt4HP3KRqB5R4aTCidCUA\n",
       "95gQqGkyPvQzBoLA9/ZBOUd8Q/eLAPEmr7NqztKqN+4JhUn3YBgEXf3sBRb7C1YdEsTDk7iStVF2\n",
       "g0CtQepkRIoTYBbVk9AAulp3qANForht3O3FTAG4j/EooDLzBYOZz44gZPlxvhRV27SW9Ot+UBu4\n",
       "PWBuCp0XU4SaLL95ph3Jh0Z5jvqPBIXPPx2AIaeIuGcSLLxpwjQtPWztji/GlYSTZySsGB6LX7r5\n",
       "lD22uxPgpXJ70FQXPpJi7shtWmdQ8yOrQBWf48dqwyViClyeBoJ9ufY144XWtne/+FSETH1/QuQI\n",
       "1i62px/sDqZtFKj46u/+iF3JKralBa8WTezDig9+Ox3yEN3QmZBSUb6wJHgt9tz64ach8mDyxpZr\n",
       "rpyfN/ATKLPZLtiUTs0mkSDhUIf1PagRZTa9rsSTnSSXf02wnXqny3bznEFit59tK4CcOR4xgrfM\n",
       "Yses2VEnVY6mJie587zA3fiAxeYBsiuf0lMyZurKuuczr+J4EhcFKXYbXbhSG7fjbGXfJdGKuz/L\n",
       "IpaJAcWZH7zfuPVOZT0/Me7V6XZJh8AKF2OX4Pp3dTt9bOYJI0H8JVQWSq57ivvjZ+1ACeTeLfqn\n",
       "v9SmmrqHNmqG6GjcAdge2HGqnOcN3sTSf2HvMg8oAirYHFVy2YHcmsnEWct91QvlsPTYMN4PKSMX\n",
       "gdP1PXTTRkrdfRlbqj2eth5KUc5tyF4i60x3ilvI/tYDpgAABaZBmn9JqEFsmUwIb//+p4QAFh1Q\n",
       "AAnN1inNBxH+LVlaGWiPweJuIeLms4dp8NE06bjm/QURH78Ge7m9bdQNV9tIvquJmEoRn3iKJYjP\n",
       "jNBrJkiy5OaD+OkfiRSa3VEypABCEYTm33suCuFNqQO7dvfVXHdfUbXbKX00gABg5dTeMBGbuoaY\n",
       "q6UzMjacDCnSPEnvuBbH4RQQofjp4GR6AcCLohI1hZ3vuXMV5cfOqYtn0cRWiUkN37xDPrBKg8Ok\n",
       "YES/1WZ5QQSW4VUNxNktE5aKJhKnr3TOnOcDJtcAWxuOnyWOPJH/ecODjxTKCAgfsv24tYaB8Chg\n",
       "Tg4o7TV5RFKgAlHL84tZ9FHpIvWzi5Yqrj0UDGDy4U1cN+4rh7J/LIdaXse5BDutAiAkrFscEUEe\n",
       "EjkGeMAoSjsFUM0Oj/5cVqSWM8Ua4hCCSir0FBBgwKensnZGKOcHrP9Kih3U5Jppt4RlNGobpLAM\n",
       "Q16HnfHf7Mux9Znb2RPEK2NxwpPMA6qD8dB1vdhZmmktriWQEk93c1EKuIIZPF9Y6Pyp5Ql2PTpJ\n",
       "5RLvtSNwZtLOgPJEw6kZr1FoLqrZ7M4gQ1sPB0qKjKk6VRb1n6tF2Ga85UgzLGPIpWkgp9ZbifU2\n",
       "PeU8xM1pg1RFbaxDUV7g01kO45S8zs/wcojyfi96F1UYGUZxFQTJnqgvcjHEYyNz4ruDVEbLYg/r\n",
       "dQ9+pXTRyt26PwqlXhlVPVJdZaxTDAYUeCxt7Kntw0ci5c0+DLwhZTNGQbE6JVwwYjN0XVOlFjoB\n",
       "mHKLZVh7j548eN5xaC+TMQK6A9FxN8Ue58w1p+TnlJT6A7fWHDsa7JMXxXtvIA7BR8bQPSf8G2OA\n",
       "J7jFyPP0yygxSDio+gVmD4AtMDlq8yo20cRv5UV3KulKoNLjrAizd9y6WWSEpzJbHtyfpVYb6xvp\n",
       "JCVLJQYQdQYxTnBRLWzkmcL0wcGE8xbetOXXcr+GPjfEjU61C5J13Qmc3qlA8E2muJRYRhAWO05O\n",
       "nWLnOcUkflE86QvgYIXXA5VDYXMBHpmKZmtjHzxjRujwZz5N4cHj20CamhrnUmogFiYaRlqmqiEG\n",
       "E1jSO29azseFuzvfFu12UWZxvMHDGZCm7x/Vjmqv9f9HyiNMmcxDBKmmjTSmu7UccQ5SCQQeo69w\n",
       "6lNxwmUI339WHBDZx1O57EDMCJu0u+3mkT9+QQ6OnLG9qmkNUhSN6YkeF/TP66/kaMuOB1EfRwqL\n",
       "R5hLDLCBOTvl0Ml4yF5EG70r5lXejfqif+UjyhIX3kTH/MCa7BhdbmnCUu3na0NNCC7X6nB9rg9B\n",
       "6f1ucs83vkxfQRXmVXTnSGJ7GLWcRcItJUT4AosmJ5DQzFRk6OqDqkjcefrI+vxuQC8pTy4yYkiB\n",
       "LYpIGakHqAgKkMMgNK8CQeh7WioqVXlhosDuv2MU9cZYsxrGVoYjIEu4GSXSOAjRp1DtcNYlzU2t\n",
       "Tm4a2rwZqHQ8ihmPlmEgo4MHl3SG5KPtCG6C3MJEfy1tEoI98tg7tOSG5e9FelW/DCFumS1CZqt+\n",
       "/DgWcEUPcOFhSzhMZYcmk8NDWrxxf3ZDjZqlJDbMxgqYPli+vW36le3cyErhqF1uJKSfODMjzsIR\n",
       "NeVZDEarkehfJHfCaj+xL0RrM1UUp5VCMAaH2Bl1P45cdxeG2+YPtg3hk1fLV4titCTj6kY600+z\n",
       "4ToGR2EYCZZyjf3g+g/mDHyNevBexoxrgS9lik+84t55LWaRyONyOaKC5cntm//kr9so2f26Y9kU\n",
       "ssSma/F+06Y3lYW8ldffXHarePtFozDUFNhcaAzBzRFMMtqKJ3df1MQeXpcBvl8OMw1hW2/ZBvnl\n",
       "iwH9e4QUdpYD6gAofAu0XzX6lrTGfZSE8NalB2scMxW4b+Nee15CO/dEOD6B/R/YWqc7YZlgrq27\n",
       "6BAAAAiBQZqDSeEKUmUwIZ/+nhAAgoihGsre9ks3gHgHFQP/FCRYAAVPDwKt0v7KV4cQqBlgUJFs\n",
       "b9dLW5cd3AmhSKw9lNdr5e51b9NR58Zji3YMGP7kfygJcclndMEkUKbsYj67gVVJDVMNdLWUhWqF\n",
       "ZM0K0SSU9xH64vfv6fQJN1nJMI0xbXKiDFwS9hPBgqooDkRIOdYFKJcrmQOx+jZybz0ZkShcmpKf\n",
       "6olYBr+3a5g2h6CTcdCrjQWnlC4v8ZMcXsPo1P2R9wuQ3Dydu7eRUcrWnVkNSakaxQXGLQxvx2Mi\n",
       "LUoTzSy4o4SYFRh0dBnN62ipnuREaVQ+4zBxSLqSNNpB3T4xyo20AaAgf+jbfhhhzMvs7gUPt9Ow\n",
       "jj6qX1EgxYQILQUDDeoRfcAgEdBXbRpEjjpIi4hoJCjPJXTW77CLSdZiAxIT261Q2HhUOwavGH+E\n",
       "BpV0Zh0kbK5ddnqq2heNyzlkk7iP01mSyQElcSS0roIwi9Xs2flj4y3tX/NhYGULccsc89MEXGu+\n",
       "s0A+AFQD/YKkIG/xeJjI/jC0iz69Z0dcC0lPzu92m1uxnam6V62U3H6cDKBK3aaItcn5Rm1StdrU\n",
       "lyVLBkLab6dfzjTpOT78wJR+miskvUQBPyBzp+SK0OmO85ct6LliQWCXrZl7JzqMKxLajroTxnZw\n",
       "9kd9ySYK3H/rXcuYCeVmLNeWytXaxwXOLfui89Y+0QXwfVVWyvE4GurMBP9x9Y8+NcSXSPSTwnRa\n",
       "x9aoDZTffpSdgUZzZ63ZBsqBJGEnTex9a/0OWV90xhr9BSZh6MLAPBIV+XHJaRv2prMGLiek/kMC\n",
       "udze4awiWF5/GFC4N8KyE1llnjVKZacuGjf+653zxjOb8yv8YEFv4Jj2qDoUXgD2+YeuLzyUx7de\n",
       "5vITilxmZD7dMoJ5qWLPjDg6uLioFjraP3h4QiHs+mqt8EHBB6OibeuIPLvDtEROUDfjkACYqsVE\n",
       "xKY+IwWwn5fXtwZx1mcvdcYOfjupTaRrm62kI2CkcdZwTB0vZfWkWmaE+r2FOYUm/hM4aFeKjYDR\n",
       "+D2p4d3Zfp6MyjXAWAv2EwC8JqqxNn1QrXl9RwRV+ugtm/7wbLfWYhPWKvJFnxHVSfKgNpbfZwrL\n",
       "4IX/laM8ttBlvNwUk3rqvAWTYkX4zwe3WIMJUUjDOtDac21FY2o2SQ9AMWo01scT3dCqDkkPM8A2\n",
       "UIx+7oKOLOtbe+mh+HFGFCnnDkdU5pydKjvceZViXcnL1lOFMa2oMinQCGbxTfN7CwFfXjPJuMfR\n",
       "bcxvU/imvTsmhKva1mREoCkM6Xpl27DuXSlEYRKEfki2gbPOzTkimUhg/E5dxTamG8jw/Eg4UtiK\n",
       "kiq0QJJqhdPkGUJXLuHaOVptMGchBmDaVmn3YCwMU8cStAJnJ1CeVFDdVGRK+A/7EYNQ3LKL5vIx\n",
       "opRUXVaqwFlO/2FsZmeY808riSDUfdISqyRgfCpzEGRs0qRvds0TFc9QZLptyKPTmMS0nPjGSSHe\n",
       "+5rsln2gE0yzU9Wrzga4vC7Nk5Uyykj95we52lgM+KaSwc78KhpFVNGUbF1ED3YdIIlT+HOQARl3\n",
       "KGPH0TsqBB06uNbbacfITrVjz+TSDtt32i+jkTwxjyrTC3A0qe4VIXbZuN3u29ltUDIdqABebey6\n",
       "1E9dC9MAPV98nR1tmccxttcME1r+BaTpNhIYfYE9VDjxUVNtvYCg/vPEOURxaBajsN1rdbMZHqRz\n",
       "b1erzbThN3pc9zHpUtO9v+Unvj6XFoFwQ8d7HvmWl8+8b8IBFXUvBCdTcqECEuGUs1k3AxXnCL9N\n",
       "s4t2+YV7d78fhVsMqhmrQtq7Uq6jioGMkzmiDbslmvaph6W71W5rHUKNug3VgccWyrBHM2Ki3Ufu\n",
       "98drj1CeLmhoisFKUiXHmI/lD46jYDErwtZS9YbvavvEdzaXnsjzBXSnN9F2U4eSLvFzDKmqlEMh\n",
       "gWfGpM5f4GZZDABQwJPLVFbvc8WMqbjiHZvHSZeF4cXCvBNnc1esbEESwWwExMaa3rAskVuZVOG9\n",
       "/msIPcQ22UOkjcVutaX5tGbC5D8Ecsupz0nNYnfgTKjVhx+vaOoUz1gVD3ltz9RkEClmk1xbunTP\n",
       "nrTK8FiItyr0DQH7zM+JlZ1Oe9MjupNBdk/EHkjwkprTHSiUauYn5TskUp3peJAsjzkKiG3t669O\n",
       "LP1hQblYEN6QsyfHxAyRjKkuIWrPIcT7YIUrZdYH5nogWK5YluzR7679yJ7e6atQuV6oYT5tgW1t\n",
       "0RbHXabuMft2Es8EbCN3P+lOqpNDQww6u8ox64bJfM1++fKW49j8alTr/VgdjXzirNTh+/DrEY7h\n",
       "Qqis/eOS8wEoFONZxmacywQ1dgD3sHDfpLVdGV7TgsNsSRoGI7j4XDF4ppaAnEByixF/Cy3j7uwg\n",
       "ctYxyta4tBRqsNjZ+2CCCOUnxU3Chb43gukOdR8bAmCelYgaC8L6VqpQLpdKR0IvUjFkpG0jMaNy\n",
       "sKZuPmbP3D57cDDUgT6xIpUkYhd0AvE3AjhmjH3w0JNO/5ZzmiaEFshTaUDqkJ/pQKrAe5IDHetT\n",
       "qipJMHygrIXUBMDCx/4iK3SRvAQJ3ZnIq8QHM37/o4jY5MgKEEekntfPsXdS7TI698hNtXHZtHMu\n",
       "WsP0RCYUm16vAU+yvbe/ik2TuToLO527MFZflKqMjVfAmL1oN8Rut1tkEQj4/YV8gebAKLa7gXcF\n",
       "yWGG4gMFA/Os9E5LQrRi/40Q0lysCAz4nKXqVyuPuDxJZtDMPtBbbsNCRX6aGEDLYEaBmAz4gPH5\n",
       "TjZmIsqCqv404KBKQfqFCjK6sLEh0cGSa1wjqZ3mIX4jozwIAszOq+r3Aaun6hIoTCNtP88loPDh\n",
       "xjF3oPiNpsIjeOQzk2iARcEAAAUDQZ6hRTRML/8AE+xUdq/k00w6RuWuCgDSJmUpQsAEXeh03vpx\n",
       "wRFWmzKAx405a/1m1j1/OTfvMmbOfQRDNzf8QB4d5abnNJh7FAHsXpI1UfykNeo5pFuflzrMgWKK\n",
       "Fyh7AIZUZwQd1VXE6IoelPJpGpUDnyB7zN8fQTpl1/j1M7AotBHAc2w4DWm5Oha2K4CWHUbCTj+r\n",
       "b/WwlLGoOXtHRYyolWvXujM4Q28EOmWg4b2MqA4pits/JGwBlHUxOgIOttG4/h8Tcsw5fgFxNPxC\n",
       "Lrc3mSYW2Loci/radd2l5NbPPGXvaPvh+ZGWEkj9GrtBof1EloIMaKDbD9uvlJD8sXOGRU8EfB1Y\n",
       "DAn1AhrJx3+rAhPptQrF8XlZxH13KG1g7Lvhvq0tlPaFgbK3riQYoGwg0HX6ZPRSS5z54QcO6aqQ\n",
       "l7byCPpgVJbvgYEi3xgu18cmhpeRMWS+pjZaS1ELkWi9nMLiolQl5+s25k29Oxa9JmQxoRUHoaHK\n",
       "1GHnVLyw0U1U4fHJsHQ068CuanC/Ygs8vBKk/L4e8GCkM0Wp+tJ+rC2Jcedtq1e62HCkKY0cKJov\n",
       "+wfJoHKHQkYt5xVz1zDAUHwE+m5lpwaDhHmCphAR9/Sv4qN3OhCTODjNQfK6Sm4LAZtcS8wC5cHM\n",
       "SrF43gK1JeycFYzI11P9mR2Deo3cjkNLB3NoJ8Fp8XJbJ3T6wMKZMbh+vL8wjKyuRMYTn2tbdDZX\n",
       "uLtnacf5GU+lVPnCdGLeiz/EidPvBA0iYPQByrGj67jRC36YYFWvIg40+tca8F2LW0ZbtjE99IgN\n",
       "ZPilKZ0SDOnwJm04ye0QecD4w4iNUzNL2VK0lwskBQG9f5ExQ90a+LxgT/C1wucsTL5gxGHA9ssw\n",
       "7pkgF/EZj/B/2VExZuATjJ6Zsyrx2D6/XHnM8ppXWQuEcLhBDNCboaCaMz8o+vAcftuFD3GvpRf8\n",
       "d/DqW4/rj+/5jZsXnY2cyMVPn230+4jRmGUKmey15fTlF169NbqiyPLkxslxvlPUtA5JfMAw2cES\n",
       "bvkoOSAf70Ywge7AC118CgNm3WNN+zcK2tFi2pm+44p4UZVF9iiMxPZmCVXKLgw2xJK6W0IbRRmi\n",
       "JMKyS2HYrUeIuUbpgnJ/OI8hRBoCG/vViNYXViV6m5fLHjgD71coTtmDWF19pfeYmi/QhUTIHrcz\n",
       "ri4cLviqp28keth6Kqx8oR1TENgv1xIftm/s5ejcRY0Uij8SacjuCMlCbNL82qBmm0r4quT2KZUX\n",
       "boYG8BuTamPNSTLnDBqfefu9YNqY9tIDKl2GcwD3J8bn7Fr0Jbr0415V/RVXJnfwVt+hFlPLmk1T\n",
       "dJTzVH/0wwMrG9fHVYacHK9nc1nED2GaZu6eyLYca6FHRcbQ/lLSPn/y7fYWjf9ptHZ6GVvGk0MY\n",
       "SaFGrd04scGUfMQRrgtCy+hoAKhw6m20OEqrvjJO/cBPbEBm3qU9lMm2pE0xfdH1f8JXHQPKnjir\n",
       "kH8rmAjGmvrbNW7tpfN6mY/N78T94Hk4bS4fYYh/+q7JcdUF9LoGC8XZ+2ZjzbL+LPyEs0y6Dkg4\n",
       "hu6OvUv1mNx9eaXBdDmKut51+2BkTsxFguxpbyG4n1RCVQGnibPwNEtbL4/cnaSTfNf59v6gXYoz\n",
       "HeLDdXfid56immJXOb5nxQdYGxXaiI298CkPrjdnFDig7fx1NK9w/sSJ3K5Rp5gcAYEAAAJsAZ7A\n",
       "dEK/ABuZ8Hf22TDTSL1g2XSwRJyfRl2h3POER8JjzMsGM9L2MqPgBGC7dSxzF1iatUGvI6CbYleX\n",
       "JhMLQaMF33v54mc/m6hjjc7kYKhwfDMEzK5xqhjDbVd66ZVuMp9wlkdzXA5SQNnv14M+U9Rhnvms\n",
       "bNTR600CC6g6ma3Fncz22tQ/u3ZoCuQCmr/H6o/UAp1rwYxdniCBns+jHyYhmtdL/fDrJvwd0uTf\n",
       "oK8jPt0rn9n2LXm9UYewyPHYj7cJA10EFAfzvCrPNd92ITSNrOR2mShepA9mTxBlcuFaLTu3WoRu\n",
       "opc8CUG+kDZldLcClktaGNYeW8U22ivajulfdDeNukMh7A45Z9lNgi7IbWlfCFNZbsjJD72DewAs\n",
       "hrXRGGATqgcbgHauxghxRw8Z3dkTFsicl+0VffzLy7u94J3Q+bskwd08eS4EHQnImm0pIG2Oxv4c\n",
       "ApQJ9VHtFzDaGhua4eVFzQmmbbc6QUunm/Rxak2h2sjnJqU5x54JnYVnDXBHqfJK2HWHWq5iLLQ8\n",
       "hE4h4aHhDDK2MLsCBDTKO4Dwe9AO2NunG2pQjSGrrcrwhNWBu8EUL/zE/FxyCzK6lNZGYQa8D367\n",
       "u4KyY9DUcSsAR4ro6pEGyIsl42sO97D8bb3lyO2Kk4HsURn26/JTzaTtUPOJLootynTKnVW9cIpQ\n",
       "KOhLvc42sDmQ354uCwuWVFwaE2TQIqVE+8DCVe1ZRe8Y5jDXsIUlcAGFqg1w+1gnfgKccvKFa/E/\n",
       "O6zkXVVxdSsxL0kZT4u9ooXhdb8C+yuC44Sx1D92NXwWoOZtAepvawpED3boHpEAAAK+AZ7CakK/\n",
       "ABhxp1uqPLWE51kPKEdugnRJqPnqvgPuKVsq4ARgu3T8+Vq2k/IB+FD6tyQ0gqAT7bY8AXwDpkqR\n",
       "8RkdgLWIO0LlOdZBcvXbtLoB12mgSCPrbJJh0ar194ZugQKctMPvzpA8y80B5JpN9LcWJ4XfjEM9\n",
       "1miGxNR2JhEeYytMnmura7TljOdj6Rr43vG3RF26XGCbzaupbeH02/gGndnA8ktXh031tF8ELV3d\n",
       "j/WQ7t88LK+RcyCL7GQDP/0mD6irpjPwhDe3LKBf0VYnu6phGzSWD98nuSn83hjasj/M3980nnPX\n",
       "aQ35YnjSiekChMJdmo2lgKgOT+hitOa4Y7oZU2TSuNF4xEoKpYJLRgwjBFzcPPr/C2CdPaGVGXhX\n",
       "fL4a1fEPlWozoM6OpItwtnPk2tYzUGqaUOIWCFwUu9sz5lJv8nPuxGltYNwnXGmIM5GEjILvrvvg\n",
       "0dUMcueNF454gtpVj+MGU5UWdfWkOg3cNlWHuzYcT0lVzx/hd15bcZgsHQ7c/9y8wED8vzmflq4p\n",
       "O5hPy8GS/DWPVPU/wQNCY6sghjgR0teyrEwPB4pYqAc2Y4xsONGMPwCEwFVEgqHCqTtF3ex9Ap9U\n",
       "ir+2FjKvH8vFxbBk51JdvUBk66OMTa4JWbWsZkWoz1gR9K8U8/7s/8nNCnD8x5vZB9CEAQVSW3fF\n",
       "RpwrcrQyBIWoOYRfcbtR+GjfiPtKzbEDUSCnwkm5DqVGboLp8iRaZTwxYXk9vSIQY1TljKMJBZKO\n",
       "5R9Qkm/1mQD3hvqMyPjVcw/tNbSmaNZosJ+OUgXGDXSrLU5wI0VKXNxOgVQ/ZgWM47nQiKuwPVdN\n",
       "gGF64kKclm5G5XGls/9r7Ae0eWzs4lKteucxNg9E315zLBz87eT58bkG1zhiF26ALJQbUz2A/GHR\n",
       "Aj4tS5AhIpkcAAScAAAGL0GaxEmoQWiZTAhn//6eEACCi4cxOeaALIz72LT6sT69IvP0T3gvmPYJ\n",
       "l270bv2bhth0ejgRDpMvzVmrYb4/A4mwRdZWoDML4UFzxJenbmarWmpaRfQtHHh+7b692e/K26WT\n",
       "kjezM4yU7iRFTq/KDvkMXvOCFqqfb6cq8kxJOvR0Sv43oSBJJQWXb+PDU73zUzDDIJw20Mi8+YHb\n",
       "0knBDHFZ3CUgih0SjcFYik4wtkWksNtMAcGCts+RT4vpG8D3xyJbkz2kUGJRwiv9L3CjZm9swn5i\n",
       "X6bnstbWhN8WArzGlHpstJEUbz9JFrwegSJQ8oQcfhmfELJCt1c4ennoCdcFIR85c+Fln8Hv7jE8\n",
       "/WbrNMhNeOWawADNNYXHstzZUUA4P86H4Q1+OODHIxe9VDkOuCVEUTLNj7u5nqZujcgvJPN6wsJR\n",
       "AFwc9tI0qWpIvEQtcUX2kzwtzDGSUC4NnFzSxVwMhMajivHpi3FIon0V1rZFvV4V8skDlC2v7VuE\n",
       "oxwdSfKlB4amb0PDAdyy1T6d/KawYtTbB1AMd9qyv1pl2AOF611LQOz3tnBbePOuGIIRwZX4JtV5\n",
       "1eSFr9BSMOiKzF4myaFxocHPr3scRM0qyJiNvXwQXwaulpMXhwoVkY0/fNX0Hnj3HPBo+aVE2a4G\n",
       "u1UeBp4b+q5r9WX695INpsJkpdRil4cEgPRD+qxFF6fXqAdbyl3Re1+iRXWENBin2+eXf7aSqoaH\n",
       "PCssxg8kAaY7+WBlEXMqFbzyYqJnQiWfv56eqgRqdrPBoaVnZxqSika1JUpiy9D5f7AfqLRxt1I+\n",
       "JGJ3HoJqAJAyUFiqDp5PJgz08t1EdrKQxKZFCIqLmKIvG5eCyPvGpSUBLiKVfu0IBTpxTFesNNft\n",
       "NrRLfM5Frt8MLkHXruUyi+mYuWd4vKdnYRVAw11NKMHYa2VCEG3w4pDXH1zVDzWteWRC8y6YzP71\n",
       "o5ZvDyeURD/AcwLgeVPkiAvyl4gS22iXtHliwzHLIZVKWhUbGMvsEh7ID24BVcWKrDY5OYOaxEkw\n",
       "hBMexR1YSPPfD5toirGcsxg8i8+QHbBH1UtQLl99aVd+zwL2kpPmGdMK2vsbQ9Os2W4V0Zc877Gy\n",
       "TooH8vC02SxWmC1pduFZv3yRZrTKb+fqha9yCoNYlWvy6GYR2HctoBj4JWKJUH6Xy8JJQVPGlVBH\n",
       "geW0rqIh5tNWI0N8bjDYEjUUQwx3cIwonMosINrT5+tKdo3fdP/0J9cAgzd27kKkmc8+Iz5qSxaC\n",
       "Bx+HwOEc/hmkAvBaZguO45mWlz2iygmfL5CyqCz8GIePvpsyTHvKux2r2nkzuAZqm1+iw5u/h3Gt\n",
       "cKZRNONtHreMdO3o1frFgR9lNytG+DStn9JdMKD4PgXPjY/vjl31iqZo3QnsddUFkStS1/xi3fxl\n",
       "efWTYnB2oudmPOzW3AB1TNGT20TEwNEYwX8sDFl4F8Tan3trVsvT/S8oOUKpGLJi7GYc3JNn0L/r\n",
       "NLNM56P/2UOTcQmcodK21PITSEk2x82/AvR3K2vldVh53dEVPHRLAwXkqasseMeHQe2smSxWcDlT\n",
       "FujIdpqSnrI6jo8VWNfvDfLZUEdQUsiHg3QB021/w0bj4jDO1uZrqQJjp5o1vUeLVnhNOGUOfUpx\n",
       "N2WAdAZFrGoMaN+2QyvsEVdO8vD1itI7avotwlmwu+bD73siJYKkoiILjWx25TM6pyhmLARTYn/u\n",
       "mkEWzXc8Grg8FY6BajpD/Mbp0Ck02lFP0mR8hQSshhYeRB5Ea3bpJM5dqT4EgDefDMO8wJRMwjpC\n",
       "IYN8lXByKOBfhb6TeSmt3tdsrXPX1cy90jDqnhv3f/pan3Vg6WSRjFerVG2JQo/MET5qRbmbC/Hp\n",
       "UpCJy0N4WpEBOBCeUxIjPAUfAi8B08VCWmj9u1Lv1kH1EQetkztshj3H70UxduR0rFMpZLYR0HRV\n",
       "d4eOYvknkEi1w4JWcu2eOXlnWvaQsoe0QmECgB/xVKZdksqjbMjuOmur6B3VIaiQXoFSLqgcyGsZ\n",
       "zb85G7Im85k8zfna4D1PXD40qPkDE1Ucs8mgqNeauw4HCrbi8vp3GQm9Ol4N/JmxK+DXnAL7Dz8z\n",
       "AJ2BAAAFhEGa5UnhClJlMCG//qeEACDNCxno0hcYNADVQa12RHPhP3ZSYo6X+dNiMiOY8LpUMe9t\n",
       "QyQK70yT15O8IZ3gt2U+qBOn8q2F3R2Cu06JjTCerA+SABCHVIFoL6fl1aAgApBdk7jxpwEmil73\n",
       "q5TbS+w7TQhkC6cj65H+I2AcIJukeA01wih5cxr/SAnltoO25ECh2taKQaQCdfVPrMHlOKORNfOV\n",
       "+vCO0X2q/cFKL9XH3GBP9IYKVIulgyQROxveuEY9QjRlI6C5vuO/Z0QpUKyxfo/nxDm6PJz10GLX\n",
       "D3BSIDrWzDKxgyx8jbBKiYl3Q32NcpMPOEzN91geAAJBqi3yAh6qt5/afdwTbmtNpNJyWwdhw9yk\n",
       "nlEWNqRhtVjjzww50h1LwekpgtEE1qpBe2okysJWlaVpl4asQzTKwbEke0jdAuTggjd9IlFjwpjD\n",
       "tWtDy0w/VlXNHI2n8MJeE13NZ+MgCtVe0GqekkTOWSUOSV8C9Z1z3Gs8X5r21rHkP7YAa1svAoY7\n",
       "jZ3Y/wTP/DbpsXI094e5OhlPhVxNkUkid+MXzXZ7vS1onczMqqzqV4X/Niv6SMkeDJFhBgwhoNZF\n",
       "ty/2AKTedekUwBSZSa/w8Uvci3KbabjFqyun9mbhkohWCVaMb57udN/juGWZgS067+iNRte6kPf6\n",
       "JBJ3jePDQH8Th7elRNwVC1nw3BQptiJ+8YSKvMuQbDHtgtL4WqPv443xrWWdFynS6uQvVF+LT09x\n",
       "9k3r7w/NSJYvJNJhpgZ9OaONW4cvBQeEBIoDt1PjyAR/NplcSgeFMwLCmqAzpss1aZRRbbnpC/03\n",
       "kxuxud+xgtV8IcXlh3i1cxPtlmv7J2DjfKIxNcT7UoO9uZrpbFfAOlqZJub+WoVdEvTx8mOiWQ0s\n",
       "1iwc4N0MVVwfqk9oOLyALBCtW4bOJbHe22/zuRe5i7Uc+GTzjZzF3fnMGjeA8kkyxwAjusGzSl2J\n",
       "boUjYWEGDnm6KD+sBejl61G92R7d7Jxsamsnn75C8qESwlkLo/DGtYCRvMBfqhQHH6kp6jyzJM9O\n",
       "NExl8CX3q2a4HBoA3Rr0g3gh7H0T9TqGo4J962Fm4LM7+RarOknqXpllRJRbI3X3VIjdOqWLCJyr\n",
       "jhhCUQJzj/aAJraJdV065P6gScBAydlsX6mbLNZxgNLaXvdMuFEIab9QzUJIHVeJJvQXj+E7g9Y3\n",
       "dijNv4If6ztPiUBR7T990Igg6NJvDlveesbvEXCJIvukfZq/ppqB7TKLg+EwF8j2/8tOCSuZ0/bc\n",
       "mHQWBGi35rIkf8nzrJ1FgThJcrl9eRUsvOifIk7+mQzkjM1/JwZ/8GGsdJyBxtCOyNP68bF1U7Kp\n",
       "PBnQhZqzC7uhJsktG1CqRwPB9pFbDDFX9WdZE0E49kbPRob7cHZmApxriyBNCUrfEFEkT1W2UqBO\n",
       "2lFr4MBO1ILT4HbpdbYd85TkbS/GmpW7if7ZIdyuMoSPYr7qBqApb1mREm0QJH1eB7YIkJIXm/S3\n",
       "kLwzHdCtNa7h+DbZDV7aeq7PPW7RntXyadrLdnb3ETfcBUY9Exj2qpsf7vv2Wp9fn5+fewUyCdf5\n",
       "n94ep7DyLQrcke3I1E25IyajRX36e1QtYyWDnVuEnChPZWkx7NCJ4QvF6ToanBNe/HUTNYWK7Czq\n",
       "5vWAirAikliYE6GoBIYjdQ5u8WUxFND08ckE5NvbG2wriYeVrHIh+KLXq9IzhE7kcPuftCmpBcqH\n",
       "RCKzw0h/8GqMX+Du5rTqhRHEi9HmUlPQ9C7xogbmWBaSCFsv7slemcqbThtGZYQbkIkqXD+24XCr\n",
       "l+Iex1UEHg89zn0rohgTPDwKFCXBfdBbCue2S9LuEQwXr0ipPQCtxKFbY66PkAVkuCxBAAAHIUGb\n",
       "BknhDomUwIb//qeEABHSVTgANwtkuI67Y4ZKdi/3Ahm5PN1q8uspeNsqK7PrWCFg3KM0dqVi/LQ9\n",
       "PjvX4etX/Eu++ZPEYrfSzMUeYXom3DtgP54jvDdkDSgVpX2EPsFfi1HZBIfP3LCofoMG1gTxpLQj\n",
       "U2lLbLm35jeLksm78MZtUsCuGViGw2j8gvra+md2H3I0TAsxia6BZx63R4qrr/e9SV8QFvQZBqWv\n",
       "tXLYRQRiyGWueF9Nv3hFBgA1TMQ/IQFZJm9lE3IXZbQMObf7rXFpYUGwX4hhXtVib/XnbwkO43sL\n",
       "r8ynMdAh5T+U+rupQHqTlbRFm01pQMrgd/nxsHsvYoPFcdCod8MBwo3l3ea3bOUnWqs6jCWJneDE\n",
       "yr7Uh4GzkATOgPrEQ63TX3Itkac3TM492lyVG7AU3R2ezfvjws1yzMch9XqJMqYb9IbOxkseF9Dg\n",
       "P2MUDYkEWMWg7BJIqsSvZkhE89EBSgoQqpqvL9CQEnnMgcK04OvHljcqdrM+h25lr8C3iIvj4APE\n",
       "wG+2jkMOECQq+QdpXS9BXWcd3AdxBoEFX7QszwEo2tXaJYZye/bBgSeMge/knVDMtCMFIqsRQPBZ\n",
       "bt8C/O1/Htg01JY1nx5uMtSIx+EYe1DvnaaOqxSG8ouucm0k02A2r12k7DJi6SXIzyBaAjvDc+La\n",
       "leO2WKb+lyvzf0K3kQrkwAFwy6YfZPRCDYc1Kt5KuTUJpKDwz+wHRHGET5uk4zaUfDR2MPwmqCDy\n",
       "+B/Ps5oer2kwPQ1EA9TJ6xvOnRg14MqW7f4PY8qZ+zaNH5QkERhwKG47/S2tRFgTxchmW8hsAn1L\n",
       "62YMJ2KDNuPblYkCJY538s+wTUn8jy1nj8ogh+NI5cbbNhwRS+nxNhQv0AWLdnYY4NxwEOJxHes0\n",
       "6p/rCCopoD7rNLmkjL+dgPrJ44gJILh+MoAhDuS6yCPKZoWM/3LIkpBTp8rfITmaR66pVvudlou2\n",
       "JzqMqCHobizZO9VdpuLDK1xqbiPWdUq3uUHEs0keUhU4dgNKzSU59jD0X4zKCYGRwd50SISJJTbW\n",
       "Q27q7tT2qGMWTHoAZcO1jLmzSg6xx5gNoz5w/y1Y24zRsCYQ+z/uQCMB5toECc2da5j8HtWhZNFN\n",
       "xHHf841eU90G8AA3LMtV+3IkOFtOKAdg/wUiX1GpFgFzTKddO5nXB6rTnR4IZJx9X5wNs5887xWG\n",
       "EMjcroKz35KBhAA5z0LljyP/L7QjkDj1RhqBP8pGnPnfuIeXpLt2wM/Vy5L1WoxCS1OhxJzlkF5R\n",
       "ZNg9SFXaL5syOxBt1dM174jWr4hx6DmLlLdWgkZaUCokEssKPOBIa0ob+BxazMaRwoD+bssuQ3Cu\n",
       "j2NnAA+foCXdra+Pm3YHELgyVVo84E7PQhYuXOiEqjnq37iA//Io+zChJcDFq/P+u8WcH11ax4Vv\n",
       "dKEafi/E5ynrAZKbZWn6Rq1TuVGncmJtjkB6/fA3CaNhzBO5b/SoyG6OYoQ6cbUsg8UTIT2BhLhC\n",
       "md/LYI8A9dxzO/LHMoRJz1U8lbFBDx9gtpa8NZb+LJtawO9psyFYQjjh7t3P81SBUTS9Oqh3/6F7\n",
       "WhaPX7iRdUNq8yl1C1cnOx01A6I2/eQK63STsBh6SGJnMKIOpH5OowvZOahBvqrbY9Iz8Q5be+rg\n",
       "nn4pUT1P6Ncj6inoz1XGDgEh03QwgCDFmTfO2yCaf+tXhU1oHsSIH9NMdcre9Ao3+qsBys8abzYJ\n",
       "SCo7cZDPStqvi9b1NdtouTTQrJhNTspvO/K/+OCJxUw5X5K7AamG1Aws6XBHllCd2Rfsq1G4gEfd\n",
       "D8JEPKi5zn5doBGTpNttLNnytw76SjaV5eWMx3Khi7L18HiovcE0hqjpqOuHsi8u3/uHVs/xSUOP\n",
       "aWxXcxZ8KaK2rmU7up/KdMUVMz2G80Di4CQsLbOlHGXqxTrahehKiq7GQcDEo79/ObCwP93ZdtCs\n",
       "mL9tbGRSCMJ8RtxYRF+G6MbsslFwwH/mKQUoC7lZ2PAK7DQvUi1ITe7B6xPk6cxRfhz3EIVjLdRQ\n",
       "IeJB5YiBUuNCdgw4u09U5Z8+ruDlD6x4xdiZ9wwcODwjYDJpQzb3AsVMOrd5QoWZswAYZ0b5Dt8o\n",
       "WnCd0DtRtdBiWTFMRm/uu3nXycFNWlMInmfO8K3QcVF+eFIrN95IU2gQC9WreMJayVyIVRUVIFmz\n",
       "bW966LPG56eoFgnuABYI3tEpzyv3H+yrA+XMsN1B254w5g4pAIZ0FSNAyEMZ8kFIgT34+KG1LGkP\n",
       "z2NG4HPBM2ki0651qe8ihw9BGc9SzNai6icOuTe8OfI20JDQ3XTZOjYkQa4dpnLBQJ9N90Q2sYzb\n",
       "XaBLPtqFynUCYkhNuiEhRr1HjnDcbygpk+MLOE0QAVMqlD0o05aLXhcoH/JWeCDgs+9CAX9naYEA\n",
       "AAqtQZsoSeEPJlMFETw3//6nhAAgq2cUHz5YgEIsBHvzUSfPq09QCJhByf152/1bKrhDftXF4r8c\n",
       "b52Jrb2Dre9mjSMBwUTuwDfnFmGuynqz8aEZE/Yt/wDkCBO2t0LXOenWYaELTH+oWQhYxrVJ0cTV\n",
       "9ekO0SyO4IDYFckVsmzU6DPVOrZae/AOsjP8qASHGsu4zhKvvjhzUAo1ClhqM6d/cXQzanGBmw2C\n",
       "1w+d3UTAp63yvAw8UtZibUFLJ5Garg7WQRhLBL5nGk1sBwEdZ/Gb28MCSzfu5KP2oBrzBekvgaaM\n",
       "G/MMowT+3MlJfCWaXjBTC7N38PhL/oEdYJU/+e4516Dw9qD2iAXT069cGylYrn+qIy783t5zsZcL\n",
       "PT3LO491E98JnJc0finBBcZaQn1DVX3IlnLiEJ/8vEWOOm6d68rSzr3YcxHlz9TSRrmtYhX37PT+\n",
       "1TSpbMqdMXlyM9I/9i3dJ4lwP/ESpX68nmNkzYZfseOJccrVMFJbO9jPm0VBLgiK4/0UYfFEmwEE\n",
       "CcEcDgIAB4XchHrlBnDnvQgnmr4UytmAXBS2DOHynUhJgRmZ1GTzFbTpE2XhSdnLcXE/Gf1GG9rD\n",
       "W0sMwb3UwL0rTnOS7u0zU1SeAAFHiaOnVDE+PjGAA+Aue91Re7JSgRx16tGHkNMRiV0WX4AdMtNB\n",
       "xPzxQIvXdQAC2q2MQkbkO4E9l2bvY7DzRa7j92vXEkZwFsSn9CVQYYIHRSQXkyUVdaRYU0VbMOOC\n",
       "+qcXjj2v+/e1gsarY0SEAP6Q/6um7f19RBTGCJLs2CdC0OIZXnGR9Hgt/Z1MaLPsiJ4Zcx4onUCH\n",
       "Ou+uCmujcNGqgVlLjT75IEBacnZ3mSVtKspbO+MiQ0cgJe41F9+Y7EIbbLSRewW9ZvLwFxoYgL+T\n",
       "AFBhCLHJlOos+xSbqU9Vn4xAhzcM26eUQKq6GU75TnxkSIjVibFPcjWzP4HX//3R0TW5HjPT/nu8\n",
       "62LkQ2RFldqna8p40oc1mw9kQ+Gf5xVpntabbf7FvrM9PllUk+3OkfT/Ykf9zXwgWg4mVv9AhxTm\n",
       "Tpz0K5/uCGbNFtH9BxOkW7uCr7rv67GsGhQwTLYFDUFR8PkyCtQhccxrhYH6inyavlYomUhbupZC\n",
       "R1Mjb1EDuFfsBCXiqGVrdT8nQb1ZOl6BjULXeDY2dZGTeGpERUqRNCzmCGfyfeQ+8q3h1/9Q3TXp\n",
       "gjNkPQ1th4m9wfSibKjFdXntjZKMpoltNHwlB7XJxZwfc7z6r+kp5s3ksTpVZvRVZsYIksbhjlBb\n",
       "Q3BTazS7nAseoim0hGbOzDaaedWKoOvYOjhahNWuZLwFdg3jCMvAySH870wZPv4eyBLztuCg5g0f\n",
       "PRedJDX9FWPxv6P2OohdTQUYCyLbWtCWXFa1lR3z9IUX3SRQngvFwl0QopA48HxU5PF2/frKgwyM\n",
       "caW8Tr3nm6XiGAEurig5dZ0w4BPQThpaZiqQLWCgKmstxWzYp5RJssSqsu7hRkea1iZL4BJKuCMF\n",
       "W8X3IRlqP6Bp78taBdqkCDiI9QDtxKJ7EftqE4XWAzkGgqv3QAMqebHqpB5wjWJ7mF2nx3I/p/nH\n",
       "HUod2wrw57z+h91HKMWYxB5AL+tEbwFEGuPLrPhkbi2bKEMVEl0MJy1jkHdE9w/BJ/9RkDj9IW1G\n",
       "YYsfOoRoQR1Xg0DFNbBxfvhEZjN640VNGTrpzVEcs0/FpbheBgAxLa1i5ZuIDFEXkgKPjoqqQulh\n",
       "rGkD6bhuC2wC91ob0yst92wuKfPr5C5pzGPRx62wiEL+xIDADjHFZ0Z1ERfx98QF4tDVm2yd1Uae\n",
       "oqoYbx1aVpRPhPLm/eR1/eW9fPswJ1z+Gb0uY80hmOyZFaxercbq/Zqt82N1EFM977062lghV/5A\n",
       "fVNE/12/TdL/m8DFLMoVrHzhot+tkYdNaqBMxkgGe3qplDeeuHXvKrbaY5Jff7b21oHuhAOjonSs\n",
       "1xOAtovbIJRMHeZ2gdAy8H9tF1PYpFOJESD/78f08NbfqbkSvC2og9tPDnmWv0rOqgQVapDStqpm\n",
       "pCkt5SMTG5uzwzll5WTexylVr6Tw2v9Fyt2ruL7QPRsQZLNTTRpbJxSkhH74nfz35FuRVOi6QY76\n",
       "/HBKtJ+dODTml+ozy0wzkRW3AFNTukaHRGf8oqP4LbybuF/JA1dANelwyTozozcWPOYaUmFH9TUQ\n",
       "I1eXyALmrkwmCmbgWKzjvwD5Iv88f6aC01BcYAhO96GZIzSqJk+nPXb6UJfuFY2TFIYZqos5Uci+\n",
       "IPeMj8uUrIo27r/G5vY49i+aOKs+KjVcggh7QChfXiRmd3Urdn4Mstlw5JZX917//Pa3eX+BQuaQ\n",
       "0hfhhUETJD30UjNVtHkhD/jkMi/7+9tWz1j9nUDJvS1W6C0EDuQ3ETHsdmwqOjirMpqjFPLuGfJ0\n",
       "7EVxIb+tn8do6832mAsK6QoLqRkMFOeSNYtGcjpLHzg4BN9XVw8r77hcF7BoSiXRXJ2ybfkl+vXm\n",
       "R0bKPHof/Tofsp2wHZbQ+Ux5aXtuRTGg5jS0N/+2osBIf6zCTXCvKZpaEWyw9/6IRaqbzUm5rMGF\n",
       "gjbsAuc/nG9qeHRFvXRGkyDYLLKNMKMc04Bn/agFq4pKlRQaXknkYHxfxyZ8J7XCreZ6Lax0P/nG\n",
       "B08jbMsLArxW9EAzLeszUfCGEp0xK7sg6fmaN+9TP4QNVjUfJRb4MvHMhlS61Cn+cGCjQ99wRpub\n",
       "9AdHB/+Papkeuvr+u4T0UzI8DHXCx9eF5DpmEMLq+nntrLiMD9K2zfwHTDpzjyBbbKjXjFQsdKkX\n",
       "MTX9AnZORZZ/dcgpFeImM1qhE2kM9CRggz4WHB4qVNpP7MaoW2D9MIm/GgZlUGvc319lqdb8GC+g\n",
       "XEnO0jOoAIqEDl4D1Rzn77fanwWpQ6TXnbqri0ThrfsZ9o7IPCkC6d4INLrOwxZ6ryndcoDQVVXM\n",
       "FBXongR/CuItsPRYWF8iE9Bn/CJStDEJ0dFYaPJ9FlT0lAgbrNmyLw1xdMMTeUwMJlv2qngCvE7f\n",
       "5lt7BdupcZMHEVtkZ3l4KTiv0z0FnokSFR3nDZWPFOeBoXkjJBo/XtsBVQDSl1oI8xSHDpUz2rnB\n",
       "6pDNeHLFovZaLRk4K7MyJGRZZyhUvJ6RmK7e6K+VbHk2uDfjSXkl5Kjfq8v7RfWqdZqpZmq6iYdj\n",
       "izL+gXDXYAm7ECFhCxE/cza00LdcvZ7Q9NWXN+KNAyhqQhkPmNW/pOS3pHjy0uVhPn2P5cGXUym4\n",
       "bFO81XD7ecGFLb7gPtx9XheCsS9r7YAXl29ipoQ0He4jC6zTFSVqjOuUFLf37n0IayARVZ/O6g0U\n",
       "f31+pDXmrRGwuhMPn8aYCPYxOCzojuQfu4iJTgbTkS3nGIoJuFNKkhRYQui2yqNxGDHvjXnFjVtw\n",
       "2G8aUbUwSqi818xz2SOvEfOawYba6M8nNyir6sdRm4S8igtpZqE0J/33ZD9AxQbEYrndYX2ZizM9\n",
       "SFxU+/AvWS+JqEWfZqUn305iCxw8iTaBD6P0frgABEF/xdvyo7fmgfP60gE3VzhUZiVeeXtuYXtL\n",
       "yac9mdcYMVpcRbiv5xvJZitL0u3uCVnPY2zQDw1Ke604fs83cwOl6CxclKXtDxPHKM1pAqHSIbHt\n",
       "AAADHQGfR2pCvwAbAf7sF/Sp0UfLTb8PYDfNjgkNew5otQXIPbM4IneUAWBS0KTYoOKF42vqnK1Q\n",
       "y4Oh/UvPx0I0uBbgtbL46OG1t/hJ/phlH5wNNnXRDHZAjoF8gKPUVSDpdOE4iDZvoOYWBEu9CtxZ\n",
       "Tmtnz90qWVMF8dAROjeABD0492Y0RIqTH1tx9PZp4zjoc64q1060WCGEHPJ3CUMZAFsKAsYuxlr9\n",
       "EZ+7hXccSMKAqsxgUCyGX8lOPDoSNttyAiDoksCkf0+nArbdH0Tjivumlgwnb9/ZQ7r2+N4RV85+\n",
       "+cJNQVLpS5lojNUooScnJZwPU7uTrQpxFN8N4gTtUufo95N0ngrsD1kxJ30DxdwOYQO/GBi/rFHI\n",
       "CIV6yN0/t/6hF/ZujzxvR4iSHijCLOF+N3noeyfpbMQpx2/c5e7EXZW4r9YQPUx0wzExrawRF44A\n",
       "36/NAXWKrZZTIEl+wKRYfrIKoWKAzXHhDxQNlRyiWEeT9vdgLjI7wglMxbDvuCsVnHyF3Bw4cwfV\n",
       "gKxEQLrUoKLrS/XabliDIhABXm6A3EBUYsbooh+wQnuGzejoM3spl9w0dXNCl0n9StxWiGJYzMGp\n",
       "4oWkF89vphT+UA+30zmQaqQpYYstAHag2qnMW8SGLNcRCw2q3dxE6V+QFtTNNz4gmeMF6vsG9yRq\n",
       "51lDCTRCxQEWAF02a+XyykHtbJ7kDjU3Y1D68/QYRBSrcftxXoaDACOIvhFUFfQyOEKtyQMSeJdd\n",
       "MqgTHqOOYz2lficPcN06ixKYUMV9ciA2uOYuJpNfX+HT5PvtLEubOYusNHZIHyAhsrtGu0mbhmsX\n",
       "PRkdmRXQi3hF4+wUoVShxcfXNhhrRsuINtLTq7yRV7HXMzaorTsBZyYAkI3qFu+6P1+97rmaXkNs\n",
       "wIoSVXJTgTXlzLpDRFBqsYuTheCQc+0fzbqxT5gRceUJftNF7Jjt8/JgAEdsTUEKgYCvvX6RAkhL\n",
       "A/Cg2QokDAFUWYCDUKF1VY8Y/pii39vRJylLApTC/rPTKIoaeENewz7720YjHEH8fknrfUwJq7aj\n",
       "vhfwAAAJW0GbSknhDyZTBTw7//6plgARFSxiTwACzSKK6DqimR5jS+mR7oYxvWnT0UJAm7fpcXbj\n",
       "h2FZ227NZ843tMB3nzpi7FtroIJ8KbOcTjZHan3sxtaMGseIeqBIgxD2h6OKa22luVKFUYK8MCVl\n",
       "qxtcb02RWUR0kwozJfm10ayTlY7Ypt73Sru0yyA9H8OhYy9vqAyGRymu9PjhCNRUzP25x6misvDq\n",
       "7aPbCCm8SmlLW0UljvRPhRa6THi1bDvdIIvgsHGrREDBG41xPal6wbC76vzCh6M2PyIBmSO253zk\n",
       "RIGS/U+x1iLd/dPHhon5t/NO/aI50JuQy58JApj/ZzCJx3R8V+ZzCxIgd0rUczj6r+2paoMTXPGS\n",
       "h/mLCraMQVvurNX53vN7MVv9nXdZeXQCgN3zatUG7qsSjx/0kEmeXcQxfA54vwNn6zbrCEZXjtyl\n",
       "Vkf940H6gUJN9mvKwYRCSzF21Urs+Be2pkUBuV5JKop1Yd6UPhbgq5/A5bp4+xWFaPgQkqOITAmy\n",
       "4B+o8mal5aFCWuUKw+w8+qgSpxntAOO019l924g95fWYIROdBvhNFtKBa1YPZMWwAZbyBo0dajRR\n",
       "wSbVA5grwtGG7MshfpTrGIokpjMEdhcBNRPYXYaAWXtis8i2oiKKjxPItyQQQa2guo29m50kl3nR\n",
       "/ZZII3QWEEcuAImyVCOniswDEgvNyZKUPcCNFDtkLCuue7+sJo6eC65rPwNC1q/zlD2eNQ5o00O2\n",
       "OXGh0MvFsUJkEZI2utRI7wPNV6u44U9Z5XDnUF9FZ77x7bbIwYaCOpJXEUqLIQnbTxc0TbUjIFJn\n",
       "CMMUnfU3nR2d3QkFnIS+iKoezoJniEMVcZ8vblMJUNguS1/NGIVZmRpE4uQh0U6wf5pmRz1lLjU+\n",
       "6h1clZo9aJfCKtEz9fAZ8mk+NHIagcjg3Pz7PQKlQ1quWimojw78CCdI9QoLsEb/WxnOBsUzDp66\n",
       "OI3n/Fy5vbhx9Ag/WQM8azeIbPZR8vVz/FsJMhnQbS75PeFVUgASsmMi0jCxD1hsl3h3cc6k2Jin\n",
       "3ihe8gGqp+ZmZzlcqYSqSI67gHttAG2NMRi3/ewAm3qM3qgbBMOyk9SsxVwRTpc1Qc2AfZTelzqg\n",
       "gBprskkW5TpzpuNURfV2BoZnY2upD/11r+RcR1Pn2fh/+RU1mIrPJ6aERRw6oP8FRhmGzu23vOA/\n",
       "Lh4WeGL7He/r94lccrlHWO3e/WDREB8LNi2UxHJN+KJEETOmRHhbWqwzHuVWuvyuuTzGlBb+6lsZ\n",
       "j8h1hEu8Jv4SVsj8/NxJBfVPlyi+HuHVYYQ5v5t/QxC/RQhEvaKOd7qLgXRVCQ7AbYhKlz9bo5Zp\n",
       "7WzrZ3YsoyYvkbk189WZ7NGJVKW2s+BDNe2QA9zcKGiXVToZLSfS261+muJGX0TmE9qVFD8L4M3o\n",
       "YgMTnYv2lvGz+CfkYkml3d2lqqqzfiBHjo2/3h29apY7Lx8SDG9fhzMVVuxvmGubSJB6mk2sKgsd\n",
       "RQcgBc5EaX/Gfp9z5MVthS0I48Gv0AWrEzDpv/+JeMHXCpKw3wX0l7Pz81ej3I7Za69jUOAjYRVw\n",
       "UKyd8hCpsx40Kqw6fL0lYjAEnLhCpeeWEWWJPA9zci0+vT1ZrKth1hyvvxwNVLvn0+Y0AZkysadk\n",
       "cr8dWLSW6WOmb9BkrQYb+Q6Ex2/lE3BPIju7uLEUvqF4yLQrRfeOnZGqhtSeqGJvYljFHeTkyJSg\n",
       "ggJtQKegELUhYU96aHq+CbLY4OX6qdisthRVhM/dpNS/AxpzFckc3bZ0giLHbPYrl/kGGFCcGl6r\n",
       "48PPdx5BgOb2XNjuGghUUWszXEnbmYD9vld+Agx3EXAZJls760hDolIwwc17SzJrAEi9ABoJwePc\n",
       "PdLO/wI5mrakPMvdpg3fAavXJUIgl19ZPKAw37X+1X6kea5p4oaj1C/Z34Eh51qIrsGSJOCL3xmm\n",
       "b8PcF1VJYrmjnThAdIjAuIJabQ0h5zjltaCCutDofIo04A1bq5925m0xhY+mbzAtA+qwZO9u3Xy3\n",
       "/iiG1VcjLJGHPfmEf8t0sAtb8hExTrUtq+NZ+lM8OzP/s9JDq92P7vpSy/voPlnCzt75D+9EDtm7\n",
       "A4VCCTsze/botF8Mxpqf4zEstxGsB2AhvJ99zswDtqC6LgpB09EZm5PdOmTT2JXyWxVOsZinhoQx\n",
       "mXY/9uZV+cJsg+PGugc7hFZJvixOW3S52ugYmuWCSSt/JYBT2mrlNuCQXKXPsBMETfC02or6rj6o\n",
       "7FsgKNjPF99FJzQpiESGIp8Ajj+spusz99UuCXrPjkE6dD1CDJbY/q4h+yKVKVKdZ9K/cCNPHdqO\n",
       "3YgjahKpzGnvHZvjwyZ7m3+TxaJsMgOQPqVLHsa30pVND0Ui0G4b7gxGgVbxf5mcmPPc5Sl8Veoa\n",
       "QOVUJ/aXnr/ptoU3X2xkxlcMIOK/5uJUFLe+Ws8O59sdvaezIblNOnwjSoehtZiE17rO2v5KkO3g\n",
       "njGRvoR/STg7WuMD3gNpub9OapRKyg6aNh8YoAl87E3fW6vP8EbZdO6+3DCMWo1zOqs+5waOq8ke\n",
       "5IlLBTa5TVVQtERjynO6jrdX2C3iztn52gMI7RlbQFxbTY9SiiGnUIQKEMcFWSbGPy+JnTKoF5MV\n",
       "mDL6bTofEhTR1MMRgGCAAwaAdfXlOVzzBYWSKmz0gEfZvnkvbfIWhml9duCqmePdjrWGGcyM7pXL\n",
       "WFVKwxL6Uy8a05X0m/RsxStzHs4EaLY2z5rbZLP9kcmbx9HQyB4wwgd9BKuFfl6QV/fJpdgeDhT6\n",
       "247w5M+uXg7Kob0dX54FpsNzNtk7BFVbzj9cKVaXubEM+9a2jqTFVIsI1M6EfkelD0Kh+6XJprAq\n",
       "s+tvHIE31v8cKaNNAQ7k/gwjg8NaPwkXxshRW51qzoiQ7QrARo6eegM3/mP7Eh515Nb6/qq57uf7\n",
       "hLdDZpESLFktCVl5z41F5UTmWsk9w5PwEql6F2yNcaI0jppOJXlhLCIrc6H0bKTCBc2P4i1ySeo/\n",
       "+2s8tlR1rmlNPIe7idks21rZv/S3Rso0fh6NDvteoYG5/FGvJ9Xo4J4oScGL0/703DRNz+sa//xZ\n",
       "BhYyOeEJ6bV1e70hp8Fnpq101EazpJE4vr/qCjG7r0ybud9NBvMbBASNQuJH8c0dLk8tcQsq5FTM\n",
       "+m+TzZY8H2AAAALMAZ9pakK/ABYlGe/t+46Pr2yf3Sch/Zo4Xxgh5Qu8Lx3c41YYAg2Wsemye36j\n",
       "lOcCC05nAK+lVoNdMiDFJDunEvwYS2QBaGz1GHEo3nqKlnoHPyQoorc+6O7UD42P36rRX4hI0pq0\n",
       "BmPGIPKmCqQHFyByHxXrN424xjq2LZf5N4bDXyVGRI55Amj6aRLGa1zzSz/2SOcqMpM3qX1BfcrK\n",
       "ZLYoi9h+vV1QnJ0+Nz07zumrYE8hQBNa8z84vpC32k7xsPu3z+YRTNhlGrbuEfFIVwZZZkDlQih2\n",
       "lwqie7DcvhRrCjgHfChmRLILgzwaAtJ1+xCR0Of2mPvvSzOFnvGEqPYv4h73yy89nGdx5l8jkXEO\n",
       "TEbi3CtclniuHEkTbKBAsgWmoECzcaigxtAYIUksmPZKdUxTT5yu1KkxJlt9Q58UA4uquGPjr5rB\n",
       "OuP1Lea/6cMD2D3ecKiQxSF2CwenxIeC7bmzQWRmJT1v1ArHqOChGx1mg/7reobitsJ8epHlZ1sq\n",
       "UUVdyxySyIRYbfoLw8YSJWqcRHpkdJboUq2b1T662xJAq1p2XEwTHaeEc1j1YH25VRF6EBS42O9C\n",
       "BIikL7ky4vWRj28X1JRQTmu4AoACbHYYLtgX8gTKhkCnI4Iz2+9/FLeVbRoduvLEnKPD2PWTMJrV\n",
       "qcKBUA4FLKWpEe38JbkWp4JnBoe5l0GyVaeVT4B2hbY5htuRRhKfC65ZiHNpbCC28lfv/L6VXKNx\n",
       "N9LrYHpYdaOichkTbKLS/Kv7qsPA1++r8kTu0SaMnw12MPxtPPoCl4Qlk3bl0uGiW7b98YtPtnJn\n",
       "sCxu7DoLWOB8TCEOXVdYMGifHi09qzEfTEl5Lfw/xbc/5MGGxbOoFMSDQOPfG+eLyeOo+zzd4BxX\n",
       "rjOJmSPWEeFzev6aOG+5PaFRfecwOfwZAyi+uHIZV4pvrWTcpxNjeI32bYEAAAroQZttSeEPJlMC\n",
       "Hf/+qZYAEQMAU7f+eSAIPC6wj96lrqKdTaZF84vGDQQ9PCCZ99GwprxZYOFZzhFjm4+fDEcvbx87\n",
       "t6MF3LofZqf+Df8Dr4dcPb9nhnidhCsKWuzf2Y4ETcbf8ElziMDM0mPscTb7/a4De4CI3w6N4tQl\n",
       "g216S76qp3VWachZhVWq49V0wX1i2FjEVyz+C9n9daQ1y9bJSvgtji5IsSmMEfG/enIeEA4+6wPi\n",
       "wWD4fj5NNsKJVj1AehWsaAytRlg6X/u0u75b2i4scC+WOlrIFLF7P+4Ed4UxtQ8CufmCZdxPyOCw\n",
       "DlgulPNXWL3VRVsBuzt1aBB7saqN94NbSRmF4wZbNbC6CKwdQvr34PdAXDUv6xlXwtoNXnqpbxdL\n",
       "21biUtBY6/knLtNuvi07cmaMfzrrQHVlXVuMcpgM9P1g2Ra431gj20pusSf/bca+QonBkw1VO3Y2\n",
       "0X1vmReJQZNVVqWywC9kAQHg/hvsVt4BZmvIgOh8ms3ARBLnY4mDmtzWX4+XX4uG7gVrWZBhlhvm\n",
       "mdzRWVfPO9lNqoB+24Zv43w2gQgQGNjlTGMB8QQI1jsZl0OId3oZgkNWtVcMmAV1Gq1IjWM27LlL\n",
       "dE0j3wZb+b2TIYuMkoBknPu8uaBSUjMbZhaSMm5wZvQqoKlxbMtuLhG/3DwF1+ACZB+3N1w7wZZn\n",
       "9JaXoNws0ZyZWWjFbbxAAAcZaBo79kiahwMxrwTFcrhe+1Y8yr+OEsy2q+mrkNgpg2ZH53QmAiNX\n",
       "twNwDFvrxwwoOBnnTv99gmP+tTxIUqFuMuKb2eJfy21QnwZIAek9bfD2tYNf3dNOBB99TM2XxdxM\n",
       "3fUXrr8doZHdPcfOXbgjk6PWCbVDuredTeRZBk6nDUNHb/D4DM+11DCwcpnYoCx+urKk1JBQe7rw\n",
       "Lc0RJMWi4KhylA0f/Qu1OEQ1QbVPK2K/zUtlqo+XnLXijmQ6O+83r/a81Oe5zXolFzY2PngLOuKy\n",
       "MLYXLC8NbZj+DczokqiBETD8XD5pYYp3O0VAVm3tTcp1Ep/Bp89Xmycy/xLzMdzjvlboVuwFkq7g\n",
       "sq24Vv0qCCGPNeQ2B9umvoMSkbJnYFq4nolbOTZNU+vnhzhgPykJ7+eb93A1K/vhSinIiFH11UOc\n",
       "b9c0Emn3ayL+qvHYCa9A5sjV7UVOFRZVidpzghEkwuXC6+PxZVw8q8VUj+k3R8K+QnNI4L/ef9Eb\n",
       "Q2/iaIdvG5jKtYUwLb0DVbfUjlAIWo8DKPR7armRS090fWmCt+Zz/6EsgOecRauCiYXUMxPp6ZDL\n",
       "yB/YvCbvLf492seyl1GJLtMzutwoMyfPdIUQO2755mnv670AiKQ7koUzeSR7/DnoWmyQUaUNRTp7\n",
       "XGXNmnAKtR5fwRUhK8U+mUiQnwYBEeEOfojPX/zvKH5tGyBEnkHfhXAu71YTmcu4NEUp577OoKll\n",
       "go/wJmJ7nzChSTcs5tuDV61h0snviLKqooa/EZ3Ik/QBtRUiLZyLAWYz/HBJoKrSuN5gaYMDkNbr\n",
       "+X9zNoXi9XkApE2AxwEvW2G6Jci9gOVDBs/Egrdb78T9lkJP5+z1qMjAbbsg9fpl4SL6hwcgJtA0\n",
       "+GuavcPPR6i7i2nR4Pyo+GexI/R4lsKENqlcdVrkjqu9edDRBU0l+y3tPQQTkPSRNHHq+pgOScYW\n",
       "Jyug5zlumid+QUBHkjyZCuwR5JN3mN0oQFAVTQGqcB5wsR0XsF7EoQqFrs/Ot5KlnxnTMGJPs+Cx\n",
       "i3b8FIGEHAaKFkkwGAaz4lISuiNEKClGCT80jVmMFgfiGms7Qdz+gZvlSl+Ew+gR/zWx0Ru+Tfhf\n",
       "6zzegr6AWtQP8M2fNzAusUubTdHFKEn7Vcb4L7KwN4hG/M+vetEGHVfAUvhr1YW8UjO8tf6QrJP9\n",
       "u7qhiKw0ylrlRak+l+lQAyb+brBCdBFWOYBmELY97DoJ/rapp04sM2wtt7p8gpi6QUL+FoMt4OEE\n",
       "BAPDTRqhSMVxLvlQhyOjDDMwGjZg9zX4v4RQd+13e3xUfI4e1tPluCJZ9tv1b6swbT2nMWD3ca6g\n",
       "0A/fsWgvEZhwh4aOcuLQn/Rkyhhbuflu092NHNO69lbHYzKLHvYNKjCHIvpahTXuBFMkVPYFkLzS\n",
       "nD7o2xLfY+BiMqJaOt7rA+zkWahIerpn4++nATmeeuxFyw+YdLWkIADrRUpMc8gaeHSh5gfetz4b\n",
       "T8jgyqzoLgfQolPtanrioQiyvi1Qx8uSoKUV3vl9dRThBATag/WiXQhP5Kc5MnlPu0ps5caQE/r2\n",
       "yH9aB20nMxRJVceq0vfmBBTCITHmSsl5/F8NF0hzFK4yyZQpmgO/1l4tpTiwRjA4YUaEvbx4UJFe\n",
       "dYVJ7eBxPGSDmO5DBUWd9wLZLGARt7oGnFtEaP9uzD+dZESf9ta0tuVn2Z9nADrA6yASGxLXB84N\n",
       "VTgN5QtSryQj3Bhwv37zK3vU/C4vcKxKGQCKpSB5zgV8WFotlCdwXGV1bT6MLm6iEM9RNJddr3j/\n",
       "x4tJjTmNAJPzmpGqIccrpGvBptllTrrcx2RhCalE1vEN2fyEOQlwisUFxO86NhwVtWjwb5u5ceSx\n",
       "PrQSR73KxEDhpiCHCUVvkfdtVh2/3tzXW81IBKrSbxqrK6QCKRkgqSjMOcqfel77i9mmvCSJWSmv\n",
       "XN8CmINDlFE7qNb6h7V+d8SxdimEjxEQdNsZvoCYtfcipFXlhF9Lk2URwyWeb8jOZmR2e4l5NSe+\n",
       "ClKH1YIeYPgXE/xeYa13Q4FsdQESFxXmnnOsg/8NpPOIiRuX2oRuGh7oOHqYmZZRpttCjpLbo9KR\n",
       "ktd3ciKfg2iFahPrOEgFtYJALyHaUGaVQNRU9FrSV3/vTt+mXaPAXRE3u+ryOyToo5Z53kZuD/rZ\n",
       "bcAsMFmvdhO1DtmpXitAq1PgkKXhxzcuVL0qMU5vVkanpwIYbBDVslXbhUgF6KjspZ8/PPkfjuDa\n",
       "/wijrNbMgYBQr4pa/G6ZswC9nFUiqCZhKZEx5obKmfVzkX8Zz1ju6/guNOJWfpKifS4WRQJfLI2V\n",
       "Wpox4S03DLDw1grrAjGaK5faKNM8s4a8T55AYAKu7HVCxZqubUMU4VXI9rzbt4J8DJzKt8sHXwKW\n",
       "S7QdPZWQx93iMayXH5WkSzJojmQQj/iwRsX+gIsTpCEu1i3X2lQTZTkGhttJAPpGB/aTDfEPR9bQ\n",
       "Z1Rr5fl3ODpWQ5iEyV8834sdehpESODvd3RNds/APq9iAFPgEP5BvW0uridHL/S+TJv+F/o/xpC9\n",
       "E9gsQmg82aYU0VTynav4lfGI2+p1a8LWTusIZI+weXMMxuHeQ8QgygF0UoymDEmEitPF/lFGiYl9\n",
       "RotMqDCGYwycqZrbDEHI08a1krCZE4h3cRKG0V8YVD9gEc2vTwIXlozRN1pzdbXId5b2Tksl8+y1\n",
       "y8LlZbTDp7+w7UqnQePGZMqMfFOeT5L1wPl0j2baTV7GZIJ1VaAQ/Qr/x+OnN1ynlYuuOEkayqY0\n",
       "3hvm9vdv+58WNQnln09KOnl3rn+noK8tdX5H47/DPAH7yESqEBQtRFefLbL+kWUneZtBYtNzX4Wv\n",
       "EB/vSOyq66aVoR2aVRkk/gKDdtGO1o2b+AX1dMomiiqUjd1vE1uTu5zEE2SQObJjKMPXlm/RSKR1\n",
       "40ybLjtq4aGI8hmhhojGGxOLPWChRzfnXKn3BJ/jCvZ7UI0IT8kJDo65sXou9YAAAAOVQZ+LRRE8\n",
       "K/8AG6A5DuB0yf0vDLhGVZoWNpmZW92ofqfBbKEAqjfnLfVam64+4BrjajTLlSyXkhLVLrEfhSYg\n",
       "AC2o9KsV57DLYFRWmLs6AZZrDn8zCq4uaj3HhNSg9723wJ8NLn/ZgMP1chqGp0te88nh05/a1Lhq\n",
       "6hVHVlAGE1DVAsjGnm7Nf1qDgLifqy5564ZHajfWqlTbAY4x6HAVFtClVPrperQakAFbzwXisDtm\n",
       "J43HEeUgMt2cA1p/6rm+Gy0huV2QA+3ClfIWvzHeOdr9/vMU1aX23FM6uEPBM2oREUAYqglpmiP1\n",
       "wj+ScosWjgHdgW43fWhj6B5skk+ERUsOnaIkgyYKfoAojM+TYXOTbe/O+3NsV1qyykvxYifICEbt\n",
       "AO4sNOyxZ4cl//4XWcJLk5KdnulosNM+9nGFNSinls23XKhfHQygAWDtfJJ4tb3Desnf9kNG/p7g\n",
       "XkN4bjGoEh976i1N6gcIap0fN3c6NE0AMVfLzD2cKe/pyji/Lre8Dre6EJmMRHV0aMEtJugv8/G8\n",
       "PfbDsq5tTKrjfQirJkIvYuZhYq8P9LGoLwDYAnpCnbRV5iS3GFuUmCT10snr0fN4QZlH3aSiuoq6\n",
       "Wt//u1Ql+b2xpNw4s6A0kPXKM13mhRqKj1JO7vGf/9Jzl2go6nidN4lpkheHLI5L1u93QQMCsYQL\n",
       "xOTsf7DcyAiiUajJviqsih76ubmiNP9IZrJZ4cltb6DNtFkMLbGKGRnpI8IBEnqboVjJ7oROrnY2\n",
       "fYmfGXD3PpNW5qPaS9BESxYjQMOAsrzanCSAXuNzAnGeBMJIP7wayjrPxG8FgQOEq0gQvbSShibU\n",
       "G1E2azjVJUhnTdBuSw/vZPR2Zam8o9pYHOd6a0Y/ZVUSdBBVkOnUrxzTX5NjLXTekXv+Jv2c7CYk\n",
       "MBYpOx3cN9tIAitzWy6rIBijfMvGIOlnA+WIRSaoJ2nsaSVqkU4bisBlinzc0A+t4C9KBVjCJHh/\n",
       "Xphtb685Jm9NiT8QCS5XQ76GjGCNQti11OMCIbp1EMLJdJiPAgLyVtcErOSCFR0cpXBSgGEX+jwv\n",
       "fD36My1qjx+06zN8zLBX1Rk5w60ofX8IBYxg6LEDXzqvISz4kFer6Op08vkKp6Qc7aGJFdCahRIc\n",
       "NE9Ly0aH7b9RpG2DHOT8vOcCn0akKBdMmFyi5KAX6xS8dsviu/p7wAyI0y07vxuoQlbeMZ4YZwQA\n",
       "AAJqAZ+sakK/ABunVOja1v1oDpCorCcsgSa4Bq3HQETzEW7X4H5KlaN6ecMtUHnRu9O6SwIK3le5\n",
       "A7njEYuWz55kCx0MA380S4GRBTf33MIUoiuCKHZSBnhkeDP1yx8IMa2R7tydk1dDlVcjC8zN8T0g\n",
       "y77lyg5sAAIgfmlN/oSeynqHQ9dbYuIu46cyGl6RMe4XmUtmYREd+FycTybpzUf9gOfHPzyAzH0l\n",
       "/pX+l/t/ByH9aCypWGfJlXRedqxX8m4/JXYvjQFK6CdAh85yqKUiBp5IXJGfNlzh8G7Q8H+0Ht2Y\n",
       "usva2C6y/1Z12diwxShNWalyvpoZpmUaCKbeYJRCjJXOEx1U3Qff/LV6840zdWERVJYC0iW1JsGs\n",
       "9AGYxA2/jacuClKfjg/qTVflkUu//jb5Ft/aYiuCDDIz7X8M3LbBXJBGdtGTkl4/NqTjcAtMmhMl\n",
       "J6Mr8RizEnYtVVxpQJ/G8YTw5/v9CB6waU+7/zn6NF9ldSgEsX3GXRnH5oawf8lzV8KfNwxWMAWG\n",
       "AyGQQ6IWtIBnmD8Aaf4oFfofEfVvoxxdJMgP+J3KyaT3XUOeJzRXj8PyrRDhvPzStoRj6vxpTiow\n",
       "VwpsGk64kQpp40IIfJwTSCyi4plGw0U1B6ZOGMKwkkBN5UsC5K7fBnMVjoPZbqXpfWCGPHqF2OP0\n",
       "EzE8INmYlIGqWUlkmTtKFyq4MVy8G9ioNDf4b8VGOEtAuyIcJhvYgUn6F3M+SdCuvGC/ktbynlWq\n",
       "nkj0LuW+no7vVqgNk2F6aX7BsHHOj5EwdZFt0K014NLM86kMdNEa19TDu6+LzL7wOgORAAAK90Gb\n",
       "sUmoQWiZTAh3//6plgARApNpNlXR2TOu7IbAAmoIZ+BnhXvqOpmnoOA6hRmNUQ5dEA2uo9lywsi0\n",
       "2XMdZAipiOKxKVkiPjFjPQmalvacm+YCS52F2rnWGtxobblPK5d2jUyMJcJLP8A+XlyY/pmZtrEP\n",
       "PwjT4Idu2FhcOMcECtH8/RIKAIMIk4IQ5W9UiKuec6yibIEcRZOXhnEzFYaZQ9QqtQCBngblybDv\n",
       "75AiszZq2Q+Fmcmlw85teiq/TXxYankPkJkwxYMLST99vgFuV7t4ClKW7kqz9PC9jCQAcaxmaVvh\n",
       "VNw3E+2upwR/DnhPYEzMbG0cWkSM0ZuaVFFJFtQDfx8S5rxuGP0vuLGmwReyk2pZnsO505OQHuBe\n",
       "qlTcm+kDi2JTY/bOYkVCBO7ZXwLmVI2KJ81mmPPdbkDsq8F56GuN38Xfu8e7nS/noPtsnTqw5RjW\n",
       "fxAOaQCZh5PMxcGc1yPFDA0x8uQajB3ARQ8lV8caWZKti+wHudynCZcvUgUqkdaDW0WIFvs04zg8\n",
       "cc8orCyQWvWv5RCzFv9N6HQPLP4TJBuS5bikbUnTrfFrkwY/vOuO8NXkqwV+4lNoeZ0cquxuiDR0\n",
       "CdCcylLn2NAkF9T3W5JM6qbNwlNJTE1k9i619UtUVQ+VODCmKM2jfFkQOe0u5jsAlNHK8NIN7DFd\n",
       "yM2OfpnJt+5fR4sTBim08yqam31OQ9FItSqKXDQroy7SpFKp1wq8pV2zlAu3j4ebz10/cFybqccB\n",
       "eIpL0YiPQVbJmXZORzdzSrFGydlY0PLKhRavgANhzf3+Eq8sDgjCMtNGBkNUddVmhlbnV4B/A5Hw\n",
       "qxAIdhoqruZ6Wg/2N+OUR3mTHwz8f6Y3mQ4bJIKtivVIsttZEW7pbNIBZJoU50ACW9v5jrj73v01\n",
       "0oqOo66x+eEHBBmH8WXtxFMe57CWhDxpe85R2XZAszigIcsrE1AJDRPDsyBu9+UR+wI9S3aT9fDu\n",
       "ufhbaaGtCd8Ym6e04nGiUv2UC7AIMEsdbKIYN2WxssxXGQolARXuwj+me7eZzb8wQedh6AdTuTji\n",
       "WYvamdMTiIt6G/mcKm703FGOf5dGdv1+o1SlqMFYg9QtVCNpogwE3zJfvHQLPwAY5W7J1mpBTabq\n",
       "eyiUIu8QJfY/XLE+YlhgWYM/5o+bWbQKTOGpR9/lKotbWFSPpMRwIJ87JhUsmYmfATiNkUEU2oFK\n",
       "3K0MYZv2Q5COe42HLRBhytWDjNK/q9n1GjS29mnLmDcISN2FM7pWpkhfRZETeFO4JMzVgp9nid59\n",
       "scpU/wymkFihZzGxznurYhU4Z0eBhZcoSXzEFUCv04uc/Icqz6v5rF4YUU3HwkZqhw2zNoTAMUtj\n",
       "NPwdwD9yT0aDqbzcUCYzoX370qppUvgGpQelw/hZdO/lp8YH4Z51Iix4wxguj5wb/xYOox15GI59\n",
       "XX3/lNbEWoI7XY7ILMfK6tDFCyVlzOjmbWwswC3NOTK6aKtT9bmeLpvhAY8M2ZbHVJF4gmrUeqAj\n",
       "I9AxNbfGGoysPRZnk4w+/uw8LVuuIkJLxI3fsAgzwJDux3YzQif9eiF26YlxC7YaoLLakNrstor/\n",
       "WY/Tn/5QZudOw/VwFwi1CISIvI7SeS1z+fAfzfp9erxVEwkAzD5HObqHMwHESnfw/dqAq3jPZ+QT\n",
       "OflDMdBF24rtyP7qPeUZE7KypYxODPS+77jbHeFrIA88e28O8fuk03gbSuDqWlr7sbOjhJlbtmE0\n",
       "XJjwWDYjDglq/XHPIjdEpOSWNG07uW9J0N4wFcrFRMr4nmQymHzZ7T4ctPI22a524CcG7pWWt5/m\n",
       "GVEDPs3aVcls65+DX/WRQ8cOk6JnFcy4L06lkXd+Db+wHrnY9gyl9D5kkAZf2IGpX9VXiWKG4lTd\n",
       "hsI8SkyhZibU7TuqzmDbYgfCeV6l48dBOHBEcExT5PJHAKfK7s0nB39npFnyoAWNI5fxl8+hYU1o\n",
       "Vjm9+xnJy2WtAHdjXdlVyuOtt7pywh3Z35NOa70yjrh/1GHWpaBYBGsrwXMwg24OwUS+gcMm1Jmq\n",
       "0e1Wac5VCSTnPuNZFcnKLVsuzdFyqeUETrXy42u4mJd+ARybsjegpH+VtS0J+n/wl63wGTu4JQPC\n",
       "KjRtA9NMTYvBWLKjk9FipjojT45OHOo9UhctJdAwmEyhMQ0sfuNbOeKh1Ux8dszvYYRNYWo5Z1NF\n",
       "+kIQa7OZf2IQn0Ye5+prlEnsmcDA1gTG3PhJNHprDiEIHCOaXCADsH1WjItUyf9ieo+Kxhimz0qa\n",
       "sIx/92EGsOCa30kqfUFWaHZL3Jr0FfntxFzS7a8mb58lKBghvGMLCFja/587Drl/mhlX70SfP87e\n",
       "4Gq9pWmKIKNcTGUKD30IWMrsn/S/EzIKdczcX1uEoMhqp+Ul1q8Lj+BkgEs9/jiNMmKv0JPTOx+w\n",
       "lr0kBAB2OVaCdYu/jbs9u8BIu5F2RIZGzwqoRwZwMkPl/z+i52/1C3i/gz01u2IDSUG8S0F1QEv+\n",
       "lEdRZ5V0kew7724lr5OhCIxsf3cdXUPuxDDzW5sR8HB++dCB5nV68S99TdiVdHsa8GAY39Uu4sJG\n",
       "4LFxEPb5d7VvZfTWhoFBovcCSLIVVIJ/my4olViXSa0HrW10Ze0/UPu81h+RONtozzlz3p0UcwMv\n",
       "Z+NFtqI9Z6PtuWkYe1htMTq2eYv+fTrHUqkwLFEgKRJnds7v7ZKV48/IgVNfhmdTk9ep3by2Bzqf\n",
       "16Y4BpvZtjSrBaHu3ywtb6Q/P8i2xGX1jE5oMHjJqXm9Ms6RhkheYXQRy4A296jjUiDOtDgx2TgE\n",
       "1KTezfhy5iVbZ86CXUbDLzNph02VuTe+DIPnH9QBAmGZYIj95/rXUzJO2iGi8eX5HxtsqLDYxzEK\n",
       "eY5X/OUecZ5l8ncIm30MX5BrrzbrIjLoSefBfwHCoU+kilq5PCX7Hg0ae/tkLtOjX/s0PpZtPRMI\n",
       "qh0yWyqAVi4/J6YrZvq/Zr3G5HiPKoW9KsG0dqjb0Sdb/jfdhAMYnuCzyNSmzRnckGL6f7nqyrne\n",
       "mNfKLIvi9RP9BxR+dzot4q+qxRc2s8RG/m5iIMI7O41FCa5q60hKn9hKJgGBIPF8lSsQAjpPaong\n",
       "AQXQyy4LkPVrp+5dfLKRuXE5esoR3LdiLh6IrRUnUNPuKWpowKw7dMUtMYNYV9FkF4faOsLeNUMZ\n",
       "QsaJ9uFR2nrfL+9uLzVaytpAFZHIhnItyUs1QoH9+vwRtO90hEepnUixdhOkcfLTDJYUzmrju+7Z\n",
       "XBIo3hnW8T2bum5ZRAQ8dXPQBevLQrcdPXOAGNYNo4LghJ9YCcQVlNbvhAcT7XspWa/8CP3l9XiO\n",
       "s6Mvt57eCa41HPW4IAQcsYUCZ3g6ObmXbSvbneHKC94CaNHaFtezu/wxehZaPz+Rcpsrj/u6o6ic\n",
       "kEvOWft1bi2laYDRn4Y8h7MmT9x25PZCxnRcDTdjGe9xVGF+jYTG4chrTWFES+AoVHsQrSmo/ZXC\n",
       "RNdH46ngvre/wDPcoSPVKYMu9DtTkMtyLqCc/36NnrZQIvUSnFY9jl9PYccgvFrmyZHtaVtCGDfK\n",
       "A5gJJkVhbHJDBK197FEr/Ooy1yvN66V9JCFIVp4p++3Mfm3uFgE9f2d4FW26SPP8xFd0099dcikc\n",
       "5zCbavNIzvPQVDIHC105zDjqVg9BWnxcRgYD/RiLYhkuU23j7wCEYQKeaX4VR86J2NDpI4RU4EU5\n",
       "BeUi+RDVKTAmsZUTAAAEEUGfz0URLC//ABPpXEWYsEUKIfxlojLpFdSoHApGcqqgKHqAwPUaNXlP\n",
       "onMQMH/0JFPmYfVdKMcjMMD8Zk7EO82MtH4fwAvNgyHImzrLTWHBWw7sKi853woCadZbXV/msdTI\n",
       "DzgJFinyrxuc4NYHrfkUru5h8EIUynDtHuXWyOwh2HyUrAjVb2DxVPwsIbrIpHjkd6LyTnbfRuwX\n",
       "oFqaJhqzJnQwhHHwSXu2qfrq8umZsuNM8+s+vwU5B1MOKSo/nL+jbyh9Jk3ng/LMkRulZyPAkbJN\n",
       "dZvq85wSPFMZB981sLe4Qf5QZNpu7prBqKNNDE7WH+Ws5/kSOvP6d3J42eyB1axxb5gN9whV5BsW\n",
       "mSgicHpmS5fDgFaBJBegPzbDyKe5AawaI5hg84lNZsZEO5dhnx4/BnsGiPvFQET/RO7LytCXiDGw\n",
       "XqkncbtZeG1HNwHFmIz01q/8XRS+jlmPxz/WjAasTX/mCgpyZa5blM6NxYcXoBYunqr6Tr6foMHr\n",
       "qur73lsZWxwzNpO4ZtAx+KkKSq+GW/loxByxDr8fwykuuXvEAhmaHOKAN2rWItZ7HAnUpVpgoVCu\n",
       "91ye9Abu6Vx9YMnuegSCEkERz/6/tmsMo2FJR/+ZzTXoy0hkyneB6X0/Osbe1N8Mg8lIU4k8XMcD\n",
       "+EmJ9a9SuKIKqvaE2nvXva+yjB52+4RNciTE4GlmZTGXQuqoDp3WXayzZmyh5we5H6INq1SVtd+L\n",
       "U2GRi4ju25WvecTxdwrTFp4gi4SlVI6ktj+UPN/S65/mHDlIKBqhU0NILJcWvMnlIIOqJNGyhTSY\n",
       "u+Vpcx6D7zleajtP/M3jiBKVU4AvBbGbvtWnpc2h94ccPusDKVbqN4Wh8V5vxfKvEwGI0wF6IQgY\n",
       "nxRwdxmIkxLWxRe80yHmVELnmKkW58eUNipA1mvdvdGkhGCbKLmcOLH9iBU4kCvwg7suY6t5LuZ+\n",
       "FpbZyP0D6VmzEqlXfZ/GmuZnVhTFlOdwJfj/l5mtD5ZDnF8ruDTfnzAk2PaTQTreYh8eSpeSWjKx\n",
       "9ZgZZUrPnSpH8txqLxSsP3jQgZEW4s3cXpPSgdsj22FPhCn6E0l1VJ/3VUBZfemqK0wGBCF98nNz\n",
       "MqlCGYqbW6Qq73GQnZGWFsiugn4fHgxaHD/ViE8vsCo3qUFl8e77my+vLLGiuUKeHqFCnjlwiPEB\n",
       "J6+vesHizqBv1edEIFfnA+Zfn02laOzAKxwRXxjSc6ThRP6TtCfCOxW7GjUf7qBudUWmeDVIbtjl\n",
       "M338jImfqRwyLoRu808IhJr3WOQLxDVDCAVZLb5LTnHjQ0EQ4FlfOTXyos8sdHD1MhQEC0c4+4e5\n",
       "noXBoiAsRvSq3bANvQXIcSUuQ2lJZ8N73dM3f1rPGQAAAmQBn+50Qr8AGvW+G5TFe993ja0DSlq2\n",
       "jfSoZqqp2fCG24F2l1UXEWBI0OCxlrAsuUkDgSpWpZ9rBVIkjBdJfI3YTmhdsMXotEeVSD4JQsf+\n",
       "pPWJIOH5emK/sqGYrSYQbgbMwRrHY1oStUZLgROT11FtHGCouc+ZxWTrYiJvdACFIZOuLYZaVyPS\n",
       "yPrUYRG6e1wPGD7cybDFUFN1+sA+LQnWdrjPnltiH9CR7RrrF7ywWXR7z4o1FO1c6dMwqzRco0Sv\n",
       "B1L6fINjYaP9FjnPKfxEI1Z8lagRWiR9Qv2ycOmY2G6U0OoaoDNpW6MHY8+mtFA4PAynf3PvvCnQ\n",
       "gHgG99gKa9d57rz2NW+dbXos/xBqKMGQWbLXQqQD5QiX6YJv92WtGD+iqE1iQPkDvPSy0jwyOlRP\n",
       "j/1hQpBRjq117VX5LbYHpY+OiJLxK7KGxfObb1KZpo9xMt7W/eOaM+Z/4O/JunCRPRMGAVPgS8Zc\n",
       "3QdyC2QOcMRDkou5754C+kIlrF6NVkt2WQSA2e66MKXq6UylOE2dGLLwCNXC+bemsbraGyrL3D1/\n",
       "PVSBpgb4pYdGivLYn65RcOTT7C5QHSGYXyzb5/uqrYgPvF9zITBVyA3tvawwMZOmNcX8ZNWboTji\n",
       "6gPI4hcfIA6ZjhaYFSzbTn4Ic/sxwlStODmXTxF9C6fzR8d5FBGH3OrSYcnBEDFz+v30fQTMFwgq\n",
       "gRqKedFuqAuSOvJicm7irsfkLtZqPSut0WjBkxOKbiHwhPB4Bl+jDD5LQhRSM0zKIIOOTiPour/o\n",
       "+/6dj3IlQ4jbIcma9ti6Yhi70KIAAAHoAZ/wakK/ABuiKTyYprQ0NcegU9EDUXHbZydpC4KAFBDG\n",
       "LPGFUwAtmeRUQVqKGMbQ7Xz3KBxmrl+wfPne39uYk3Gdm/BEMSUW2cuekAYO0DQnlXSgMgrOSFd+\n",
       "mUl0UJW+6LHsYqO16mRkZieQrZZQraSi2Lo+pgkJcLdEK5CzqMe51OGB+m5AfncTq7TwlQhPtfWm\n",
       "g1oFqLT+onSRmjjhNh7oJAeIqS/2s5PbHfdJJDdlf44+kUbYMh6znOM2aq7G8K4ttAYovAlwRuND\n",
       "Q4Fe75rlpYrZqkpyjUu4cLgdOm94EJ7f/y7yDadnyYrUJuCAB7Kur8LXj3/TxGYaPMXDWud4HUK8\n",
       "11cNYmdVNtawv72E/DoAVk6JS+klPks7lhRPKbbwSxHwuTEq9J8ldXfSBSX9v1ZItVqTQnfkNMgF\n",
       "ypMAQPb4NXUGAyDkh+BTXYJZhCtcYc/g8p7KiyIACSIIIwGBsn5nzSRJcEIkQrRlO2F0qrkAyr5H\n",
       "jUnQ7sIWgccL13nv4FE+H2AKRqqH8r8smbsXjdSYwApfvob4lW6873WJktYJFrYkGA1zLYOgA1OJ\n",
       "hscvNT/w3mSDomhE7hj8gczbAMsYz0udMHgjBZpZGeY7sZnYCv3H1xpPIwVtCHERQaAkg5U4VMAA\n",
       "AAScQZv1SahBbJlMCHf//qmWABEFSt9fUobPM2esJ5Lq+vDEkAQUhSuzg0EUJs4fAgqXu7gJL/Vf\n",
       "0gx7fnH+oRMPWy8Sukvq75qazvCFzVGQMIJkYvTeYo4dB5Rhl8dNLV+iohyh0AOneuUIEit4OH2s\n",
       "TJ1kY9KU16Nci5bV91VRjNZLvZjcUFe637f8Myj7VMwJ2/zeBnuqySRqWWs80XTyV1xRdmI4qoOh\n",
       "KYZMvr7E6yzPn4HvQQlkPxCe/r2TrK9DfuOZZll8mhSW3D5Cfib54XzweBOE/HCTUukJ1xXOd6rG\n",
       "QvZ4hx6GAAzzflxaWqgSPoTsr5xGFiN37RW9dVaf2i2u+8f5VMJ4Lh2MkMzZZmZWj28vlrBe+nyT\n",
       "KLSZrgCE78bjF2hjb8PHForagL4w4yr/wpMXZt4eSBAym1YOVRXXKrjuUweMgG77XlpuveF8JcTp\n",
       "TPkQAeygU8tEPQ/kshX7ihQooBeER392wdQxSqQnZTKH2k93N5e4bJW/4whuUQ0vlztPXEQpiQgj\n",
       "BI5q08ZHBJknxkDsd5eEgBwxLiCMr3h4RMfD76ZfzH6xHIGOb1aV1rpLsJBA9eWK5zYmRJgkjnvb\n",
       "oBRx3g5C1nqYOU8BJcZ7c7RmIL5gQClkI6J6LA3yfAviLvIwm75+1giGLUOpODxytESHS0HUyugX\n",
       "Vi01aVE+T+F9s0r1GL+Yp65O4wwxWtwBo7f20fpeAFdEBtVd/X69av8RJE7WHrx0aNVW51WnUvLx\n",
       "+pF2V7akbTE5vEr9g85y89uBhO/2a2DF9JkTLwRSCO486Flh1KYz2QfG34Zv21SXkWtlil9qnWcH\n",
       "1rBw6XqGSsuIgAzhkR00DGgF6nTRlP/oN/n8WKKk+c3yHqqMvGmcUOhHBtxNJf3zcbRXfGWMrISD\n",
       "JB5yw/domNEsA89q7XKp1JiZwgANu3KkSS0rnkwBoXKxLciaGdTuh5P9VZGPwWOY6V6rh8GdQW3Q\n",
       "58BUp65cNTXkLh0YoHztl3r9B57inV7ky9THM/xe9thi4/koiWtper+IYa4X+y4dthPY3YRbX8jn\n",
       "71H4NITtys3mXMBWtk1KGt+hCOFLggVzR20YWa8aXOKLz2PwyxZkxk+V8f6Li9U3NBKevMBLyN/1\n",
       "Hv/LhcJrxBj6WZDbVoHy51Yqp2nxk6HyUCY3ClVXBHFJkaP0wSe7qCJsJmK0KRyUtc/574I5FyK/\n",
       "j2RIp8iw7mvjTC6jLdFtZpV8hRkQAdKappkG57Mm6lEUhswRdtZQ1PeGIKfaECmr95ZiBPXJptNV\n",
       "jjRdrxN/vs3xI1YIJPGr6qhFvc+4el7fg/zKq5pmTByoQJORd3no3VcJQXlWSA0BwiPqsIAuVGJR\n",
       "qrDaC2NSNYhxfQnKjsgRPiAvRUGLrxITpt1kbO1/oPnr9gnJya9OUEATS2SNrWGRqltP5o2xwYV+\n",
       "KRUlJPvprcE/MIEG5NHwhncgTD1HCAAwrixA1ibn1+8QZrLKQqfWaVOjDQJDVvz/k7jwt+fq1uCI\n",
       "sPDuxIIcCnGLQUi4Ewb5kgJz+iZl1OQUlCrYTGiYKPjhcAhyGg84Ed0EeQAAAnJBnhNFFSwv/wAS\n",
       "XOOtRhE97OAn09BBXH0nvOtPI7FvaY9dtLCfxASR5BnR6djfJjKAqbakL7UTAxuTWDBYs15zoDPb\n",
       "ODCK6oBzlh9d5p1f+3E8wftl7iXRfIL/4Y4yznL7cb2wcrnMU0XayZwnXlgGBePn8wAhbCQTvTBD\n",
       "XLGaPPnk7aWAFSK1lFRsIRUXhpDwDvKu7Vufkr3ulQccMS3CEQYNe5wcEHTIrQA+94gUx9E/ZaD2\n",
       "B32197HSAZSLk2uRgsonUjEcXZB1LjGqn22n40to+WTD25zwM0LsX+E0LcxNgUisouLSmX/vV5Fy\n",
       "eLShe1RlhbAWOgnvIB0kKcDJm6vCbTnoHH5aIqFaCJdTtou0WEm3kBvm9GLDh/Qz3Mw8HDiWaM/V\n",
       "3mtjMth9vaz2VLMb66lC7mpna7aFuM62gTyq7ksJ6MBqHZc8BePqLvO0tVL65afyj3N+rM4FVc3F\n",
       "DDxP5lO6t6gpF5HdSTDGjGNt+JSNih865QNuSr5wE33XPz0Rav0ZsPGpfJKwOkYnBqwAnHIdPuxI\n",
       "aCfPhp/aAkDZoQp/QL/lmDI/E/SJS+vo3HPdyymisXKG1WPf9KyNXHmC8BOLE+82yqmlvfyj3i8+\n",
       "8010YTU/jRjoGnmffzxTi3VtfEGGse956ra2YbCcApBP4PSxef6FHU3p8D+bvZAR8Z7eOX5W3oPz\n",
       "hxjWSv5pVyDpMA28FU1v3KaVMbe4gwJZc2JDEWFXzqlwa0ua98aUqZE3VGgGEXHWmB4Ls+MqJtlh\n",
       "VjPjk7QoS4EXoz5ddsGis1vBNLuug+JIWtqPKAOrvHsN5Ze3Sw1aS1xrOkfjwAAAAKoBnjJ0Qr8A\n",
       "GwkAGm0m5e3OHg8D/0jsVBnWpk4AusbUetNomyRvkIY8KdIrsZUJDy7f3qEHFvTb6kv3frdPfLkw\n",
       "/24YUr8zgJBihVv8UnRknFki0QGzy1KL7F8jYgA4hb2zDnVTiYPSEst7YE7Yj3t3IA+Qaksf2zrN\n",
       "GEAR0uYc5VJ7igVqn3czWm+2ZZnoXftxnvHkdcAYLzJHjXHCB6pnepsAthOtTadkPAAAAhcBnjRq\n",
       "Qr8AGmBhCJN+ycZ+WKgrguQAnUgVr+oRm/GejgSU5N6WX6vbDpfbuvuVicfbNhqPwgGr45CgA9kB\n",
       "9S82yVktIXM5zzvsl9iPYj4iSCQrlWpre/kl19BMFfDuEqoTATiwq49u92Quv62hflUmOV2bIUH4\n",
       "NobH1YqvMGdyF9pHs3fHzvWHHEjkerqvKhrGAOFRcwT6eEESyjFSJ5OZbCiiHuZxbVHgX5NBjgpl\n",
       "z0k9sdoclzDxoM2+OTibgDVN2AoX2WlUmeTAzR68Qe2h8aNf5aj+HuS49z84RnNxxuifvbVjV4Nw\n",
       "T6XPwHNX37f+PiajPnWiWlvr63o0ngsvDLF1Zs9Spo2fdXC8Haobql4RPaYgZVQG28+fmSvDYnER\n",
       "saTyCjbZ/y/PQBmRSxP0SUv+0aWN5VdYod3GlnwiTHMp/66/QSJ4M9s7LFJjfFw6e+cONJqjTrHy\n",
       "IWcU5HyZaqQzpn8m/0n3AsmUcLuJ8Xrn0U/zDCVPeSL0qKKR6WKKsUnQ0mou/pwcjaZfQRIihBv2\n",
       "fXRWX/ZvjdA+SbmcklbLyKzt5y7pKaDnTyMJTicMHrhh1ZOI6bymOjifgkvWaPbXDHGutNlQXzkz\n",
       "njlb9ZfytDfSwG3GlHCNjlkl0vnqTRak5mY/fvyNc0v9fuGNEAi85isqdRJqLRhRCOxs6D1naTp+\n",
       "SeLAXLTriAojT19kLWBy84KZAAAJP0GaOUmoQWyZTAhv//6nhAAhqX6t2N1oIANnTCsKwYFYr1g2\n",
       "DxoSae0xsySLjmIUrF3nMZCeWL5ucyLawTE6KPa+GC/Z+oVAWm1lpEp8hQ/ThNloeX43QNfp1ENM\n",
       "J+Hvth4qtWJc5oG3csT8yawF74oTnICsaxWrGo8ZSXV5JH85fuMDN6V7IzCpmE7NJQ3rkkllAIz1\n",
       "fvgMG6Zrb9mrZkSEdDuzP/7P+hta/xtDazDfv5OWw7XDwyXxRNHV/C62jb3fR7XkT7y8XF8IV0vO\n",
       "gPlnahvvKMYTLFD0jDhzArR4+/C3rYcnU4tRyoV++bQcS53h3bxez/Xc+0WA+l5pWS1AmxKwI88v\n",
       "yQkruIQrz9QEhj/TIgTU0C+gPq0rDxxVpyjbuQ3xOmfOnYIrDwXE3NZ/Uh+LyFINKoeJAatg32wI\n",
       "Sx2qJxiYpLbWJEsP4IgKZBk2EnQxpYWc5p6n7+w68q1O3kuJVbcznoifzGTOru9pcM3cXYQHlsSa\n",
       "EpwrcWS+41dfCJWzjkDFGPA/JaSfyfPq8h9GXmPP/Gq5oY4uZspJ6BT3Mwvp+B/bfdZGaPabbONo\n",
       "bW4OcnxpZQZTox0klznxw5pCuiTeNo/LsXlUT3/YXKnJdC6pUvuWP7Wkdzrs5aFkTs4KDWtFLm0r\n",
       "2LlCwKZjqI+w7RKvRpMlAtPyRAGk+JwzmwRBAUzPiNSodYY+D0N+/fr/cZxFxuyznVcruCTdE44N\n",
       "DrNSPCc4LDr/d409on9vwnmD/H42Mx0POUO6c1qoENvvSn34wCrRmXOzH5NWgFIwjRdGQ9Wqg16Z\n",
       "aE3BuKggQDjBb0lVQsY+Pu7WXZwhoh+AlEbF4U77ZMj1QSiaO3tcxmdMuGbMm/2ZenPtoNajxwnp\n",
       "Uf42+SZBYLGlsuF+W/27w40yge3j9mFILq7gSh8oblNQKvSqXk17LV45qfyMuWnR3UqI8TYBPp6U\n",
       "TDjYSxKSHsvidu3MLMfn6IR/bBg3YW2b3XO64Ov8MWoer3CImrPLVWG7DmvC65hMZ5ctFC1folE7\n",
       "nhwLeq5p3oU8zmVjhKpnZ34+u0WiFnhx28FToITJiGbTItddfZB8unf9cfvmlw4XPb3zqL0dsU39\n",
       "5SQVdgYlACrEZAUad35TIDm3YIL6swo4oadNGWYziP21msp0wVuL7eJDqDVcMrGvwPllPB26AGSo\n",
       "6JaFRSBz1mIp7jZQE95zZTd4cLOd8/7Pyi0GrbKZmypn88NklSTrO+mh32HwH6tsMbVKvvo0tpgN\n",
       "/bROaR3CjPhc8mRfSt0i61KlYTSFE3Rb4XhrUQWI9uMsVaoBjcwprP09OsWBs6Pa2iQR+B797Z2h\n",
       "MzdNxezSiSp/8eNoO4KVd2hRkAyiNY82Y1QF7DhWti2vd5CxFAITTkIaNV1LlUXAcbJMgHWFlbOP\n",
       "uEVIVofwjcsU2mjy0iObrQGIv1ZVEX9+sAlW22y74uOBeUjxB+g9DLyz8d1gEoqmcspt2oyDK4aj\n",
       "zm6BsYAH0/cY5K3kvAlTNcchZ6eTkESzgT119bede+kH7/9gIVaMk5thw+u2/i1Rw/L/VYIptlzy\n",
       "iJoUBmkh8Dc8A0JhFpdQdWCImjLCuLke6jty5sh2iOKpYafFw17I6WwuNzu27qCpo23/FMu00ciI\n",
       "6OlQwa4tfgAIexfT+muI0O/3xujMH5NIFUSybQ3SoqPnIYq5t/JnHQ1WPL0XVEnQEWcTPL1WKrpo\n",
       "+mLadOJAAUDiz+XiogGkEkHaZ1ocAu5VWPTfKRdz74wyK2mMjQKzEAi6Ou4Wj4H5kRJYw2KQHH6f\n",
       "S7Vh++Qq9rDIbftHYiSXaUGmkYZBGwmcjkB1O1LXaT5D0qtqpbsHDP/WgmzESNgjZAGS2xC/XHrc\n",
       "hoQQaDUKW6cTARgUTAzSMBK07+6upm1I3UkRRQoDUp3J4r4m+5eJQ2nzh79ovUg0CyugDz9Wuoe8\n",
       "Gnq8Ku47tz1pKAfjr/+3+yV/Q8LcO+5eC9aMyYVrhSto944Zop1IJm7Lw1Z+lKmHNzWFkReLFzQO\n",
       "74y5aLDcJIKt+nR6ZdbjbUmxf77tDsbGP9a1sXcshXgtatH5bFsMrkiJH2evuopkM98eLQEMYSZy\n",
       "DCgEufUQD9/g1wQvzEb2PHTBCxKcBjzXHJjfLFUisXjH+L89U0mVbKZzktSpyIjLq6dkNCxDR+3N\n",
       "lYJkmCbqnUpCMefpfwIbnc3yRQosDjZ7mJDMbTL8hUJDzhdrW8wmqmcUyukG/RWHl5oPuCQZki58\n",
       "643ePEAdk+FPXx+7qzLlCdi7yYOs8tsRmOpS6IfBkFTEaG3uDWA4Sr/oc+NMLCBrnN1vCGOW3iW/\n",
       "5/6UPwEbxrz0pqAj7iH0qWGkkhzS0Bb5yx5AtIEWuAeHpDQMg18pkIPofvKBdG2Bg95i9HbheJja\n",
       "FEZrmWgzlYdbbmSheBYmpSzCfRi+kbTxqED5rcrsYev+dEy9tW9443Zk4at+3jpkJ2kA8LeIakvK\n",
       "qFM2vUEV7YQT8SlXxQQAsYSo+WNY62XAjsn8MjLf0UuSpAFH0UfT3GknYiHDX0q13gRUz2H+R6nx\n",
       "tDdKS9T31PFe9JbBK984m4QI/cCyQ6z1mrJ2VGHfsuCo2LzR9PWah0rvvlQkCSsqBooRDBWdinxq\n",
       "lzBdkvMcZy9e5UaZZUjPgqnfXCmYUETpKkv9989/DASqw3qWfuEc3WPMfDB3EyJpTYSKtyiZnjy9\n",
       "pyuyWb0adBiRU08ut6o0fY3Ck+KBriz7lQzwxbRI+8IompsGylO0wF0I8eSdsUESALXw4vtwlWG3\n",
       "N0Z+TQRwjiCs5DLJhvMqsJnnICDx+EIoTM3Q6ReG21QKdJZ/tfpbTIUfVo+Or25by0z41srlqnDC\n",
       "YrvxL8yhBPV/AXxVJyLirBNw4wcBzxhJDhs9SSVwjirc1GjZuY1tuUyRD8JBu5QjHbJOpOAA0wj4\n",
       "AZB1Jo7mN3wWbyn20ldJUejGtbQiLKL8WxpcuH/rwZwmhf0XqHlt6fLR8lW3SiVQuBYzfH3XBhfK\n",
       "sH4gOlZ/9tUE5uaFkRZ+hlZWpM3neJugouRPrm3U0eMj8fKpEAE0QQ7BI8zuiXpMDq4sC6/htsh3\n",
       "lv0RmdIEz4N6MiGXyecCauSoAkxhjtx2LqoQgGkIiYogzVJNAh1tnAa7O+XX8xGW1DPsJQAABFtB\n",
       "nldFFSwv/wAUdg0mJbCPzsWrdSKMDA+rBTcvIAcdgGyizd1tNb2OPVSidJWy5WZVeDFus+CSOWAX\n",
       "DKJVF8pS2PAUvAlkr/BxmvbXnsRr/VRICgsXmzlOsok99YrSy1pnkbStqDyEFO8PAyUWmxZPszI8\n",
       "lIgmj94oy2dMgYPEfTBX8/MvD0L4v2SyU5ctq3qCD5SyP4h6+kSL8bKQDYamd8FsF13XmO5TYu8I\n",
       "s1SgLXVF9Px5OCXUgrm8IT1cf1FF7G5sOJ3UxYoapTIE6YeDOU7YNcLDiqh+UUpbdfQ/at/9BLbM\n",
       "9kvSU/vtC22eydETHAEpr7pKYbLUGF4yQ/L+3mAbH2Y1bMzSZ9eV/yxtgQJL7SvqEwXqxdtp+aNs\n",
       "kDnFrSCCf/F3PyDNOPzvWgaaaxn6CcdG+LDOGGE6m/cGrhHbdaz8l/m6DLDXIJY/Oli1rQVShNVI\n",
       "nIpiafvmJlCw/497N8Shlm24GDj24QTBt/JLmWVpnn29DK/Wv9YGCnCsL3YvsH53YfREF14MqWFU\n",
       "3xqOTL2QFu2k+v8tQUD4hI178LTREkVA0kqMNBW4Np9O9pEhVmfjtsCcuXSldjYP32CJiRwcchfZ\n",
       "qYynWrUCCwCVjtpKHPmDHRsngDE62dfDx4TtHQRuWki7M5yop3ExyNyh11XBmdEa+bMo5RIGi2xI\n",
       "4UMPGAXC+1I+X8XzeDHZS7mANvkx3eEvEwb3TxPzou7AnsBzQubOrzsQfy7KO8yl4A/TrCXGPmJP\n",
       "c0dv1xlQXqtPfTLtXv2lHoNvmzZp14efMvutkohyzdrzCcJGnUpwO/nhKwd2nLD5RTnq/Sdo1bmT\n",
       "ca+jgbP/37kR+vQdlhnJUx29jHDLuRSaqs850ufNWeBGcvd/OPhv2mWH+2+M9SJVFyGs6krli7I3\n",
       "ufgmbWJKrcGAgtw7KuzDIGtYYyQzutFPOi4rxrKQXs4vMRmvXGL/6zPx0QZlYBYro6rftTfqDheo\n",
       "aF0mzQ+NB8wLJox1OTHXuQ9cEZtN7rhXHvTOTzUdx5Zj0NWxE+k3o5J98/Fq7En6MFLA19vjg0G1\n",
       "eJtGBHQd0KSa1sR+1UmKikylHTBv03jUvy3qWD77N0HsNWAk/u+WwrFRM3EmW1YQL3sSgpwJAfto\n",
       "NoJt4S7FIkTgVN77UFDjld0ZqJj0ZLhzWJw1FMTfTGTvhOx7Rvr9K0pYSrxlBm/DL306jgPYqwGY\n",
       "DgqOp5JoCPd0Hy09dNKzJUL1wtpwFUaZnfl7HBF1MbiplZ4HAzEGh0+IiavJjZkBYFDt+fPL0G92\n",
       "Cu8SQTObplprmOBrLjGW5D5O6MNRMT9lxr2Hcu81KHQM+TI5+sYGK7rQNO5iVTKcqVC+wduLijy0\n",
       "H60UL6228uy7umJ5s73m2ZmxlLNjVwrtvXw1U6q6zZXmSQuByOkVCF5TLmTiutxO+So72vlZRTRS\n",
       "2gCIas8HCU4e4+Hm3JVl3VFVP9PGJDgQ/oAUeuEUEQAAArsBnnZ0Qr8AGb/3gbmYiT9zEHjAAlgI\n",
       "QrpDeA0jeAAnllQVArAMp1WS8+nr6BeHxP4PtIzy7uAX8zS3gcUfnfMeuF4p0fbEAtVP/ufT2Rre\n",
       "YMeG5OghcK406nYwA7UF/wIZ9mrzuvZza3CYB7Qfe30eCEjABD5g4itUBWckQP5PVS0TV7RCGzlW\n",
       "YArA8qHoLK4tAph7r3WGDVM27xNjqioiEZ0kAAg8f1n1iBTMCz2L8uViTVSFC35TuLD1mdpWQbq5\n",
       "luhI3jZGdJBwdzTLpPGEQwWrjjkfRmuJN30Rpn9Yo5QmB8dHUVWVvr3RsA/9c1EjTEt8OiqVhnXD\n",
       "IqyuZBLYF8aP2JoiGZKGBlZmWUobzwMSgS3rcMurYIK8so+umjONOvUpxsgk2mwfJHjKO08pqay1\n",
       "5q3rhYpVkpvStPvOPCf39GPV4ocVmexbqXaWACODLBa8j7Ma9wqWdtLdgOKsyWLriwDXgNnuvlCk\n",
       "n6GJInl4bqw9V9YcUz5JrvoKAuwhvCyhZS6rQaHFx5IEau2AO5Q0SIm/QQuEcJJNqC+xg1+lpUNI\n",
       "UMj+o78CJdIx5dzPJ2msAtUv0jthiRsIMZzGTv9AWfI51LJhtHVLoS3G/89+xFSVCTRAE5ab7s/T\n",
       "M1qFmnhPMiSeRYrf/tF0ty6vdTEZpiTNC/G/99C6UflETxXqx0wdx5wJdL17rMpu8VPcRyiFviO+\n",
       "JTJp4CNw5we4obyXZxG+hBM4XOwKpHlG9tBxYcYjlQGPqICUE2cUsKHEKjW617TBkCj9j717fpaS\n",
       "lsbo5TUjwCxYrjER9qRw0Mj8D5TvaNQ2JzXd517w8btWfbYqjaYAVBFOezcQrYaz45GRYCYBwdix\n",
       "+5JXKNXmtbvI66WIw8hR9R0ZXHQlJ4rdpFqQ5FFIWTAxpy4dKm55hnIxMxNioDGz4msAAALcAZ54\n",
       "akK/ABHddzPacukCzXIjQJbflldg2NgAJyXLxOJRYOll27LKxoSK8HoEnGIcVD/n3iNVAr06iqJd\n",
       "Zy5/oKP0aNgBZzzidxCpaEJAh8P83BjWLNx3yy9IT+nhAek5L/vLOTCwx9G4ETMX6g7Rer5fgYF9\n",
       "tCMAIDQJS2FX/hVJXoiH7ht2lxLSOu9367oe6zCm23Eynx+AKtOPQFR31F1BL9Ylk/Kwwb2y/3/5\n",
       "7hfTeXDI8WayImstk6KUuDdUahYytGZjYOFmDbOxMIz/3uTA/wTPSklMGJSvD+7iSEkN3umr/jG2\n",
       "uB6QuVKLWPf2RL7kUNzgT8II+qLYbeISCIJ0POkAF1fLq3lM6b6wDGWhjqqdXCJ4QORdfnB4NpT5\n",
       "36+NeLTVBmlbeEDKlrvVNLaQ5/IV4gUuv8uR+RQCHo7ZEDsjLFo1xrFe/u5zpzhv73VuVbnF8Sfh\n",
       "tFVHTOU7mNPsQ+vj0yNx/bSlc3PG3/LG88lXCVsMEvaGswghwJfNZSTrzARLU8YEYMN7atSUG8IL\n",
       "MzmV1alzHki2gbr9rlcq9jBjp6mb09XmqB5QMTpdTGk2/ylzITjQmU0g4U4ivb4SYzmoqSn3+l+9\n",
       "RUEDvkISipfYKMSwXI9vuh5ox0gugnC6AXaxYkD4WYkwwC5BysIse3y8EHJAZB7p3WFtD+/7vYgY\n",
       "3Ajo9SrF7ciRYk11FKLfGxYEwhWivGjmKvKk344XCwyEvptmCpA8+yt36q0k73nCaby2fBf9JTHm\n",
       "+Y9g1H6rnYFYh4oQWarqpkIYlPpQ6D4hOTSDLiynczuNSw/46uJ36k7UaW8Z2PwpNDeInKFRNuU3\n",
       "/Vt9lUYZ7giO/fqpJRSMBBTqnAcJBKJwgXZSE5l3xXh+lgRMMbH6CH73BM3e2Zla2lG9L/D3uSDj\n",
       "4da4gQwhdQSm+ixelIM7JjiAALhuPJcUAHR/4U7xRSMAOJmdVWigc+h3OkvwAAAIl0GafUmoQWyZ\n",
       "TAhn//6eEACCiKKHmT7f3OPNJvtlJ7avpgAGwSYbvG3Xyn9sfJzfhYIvqJnDCrjAFXBIczf7Wyc/\n",
       "PxtB3hGoI3HdVJr4K5EsKsk+wVBAIEABsg7xQWhXAhvw5iWkSGOwROcSSpp/jCT9+4KKxglS10c1\n",
       "gbMDuPPGgdkEJ7zTqNVP9iaziB+UwNlQ2AgRqaqtKJQl5QaM7vNRwR90Eif05skclXXInvs9AbzM\n",
       "2RsUN7uO6hT3aMNkU6CdVrfbeUdW8qZIWbq9lKsxweIfAzgaM3GenFHukQ1CEohYxarOhUE0bI9y\n",
       "tDzOSMcD+tPW0MPeFlsCaCbbqSAvBwvhrhT/gGVS/5e7oWXcjykGYErllc5cqc8NMogVYI3/vi7H\n",
       "DCkSVVtKU2ue7Jf+y+3U9jL+JYYIqSwFxrlKEx6aQMAgquFjahb1eyH59Io56pjKUI6dTWcQPS7v\n",
       "bKtQXzJEH0XjugzfWo28al8EMZlXRUstmP1luUMpLR+yHDeuXWXf2p/qaEHDzJLjB3d/0saKASAm\n",
       "0iHtrElBFFg6lE0Qh6mXRKvSAGgdoLF8V4dYQIarkVHC3N40HeJYGHFWnIUyRAg+bxOJ6DUeVoEz\n",
       "hT5daYSIsaKdv8jgPKfI1RSN80gx2PUwLSrx2exMBT4Z8p0Tl49ays0R7PxMCvhiFi9XsrKTon1L\n",
       "0SXfBwPWYHnZMhT8D8kX390pW9se485XcSjMe7MYQdBglpxd3I7nOZk0oKfz8mJ5ZIQ8KCcDz0Y9\n",
       "w6hfXWiCbvpOUcLOwljdQeHxN5sYDY/loE0tVLnHPaltlfBFmfuJa3//gsc6nmeX//MsgRRbnaMQ\n",
       "se0ZJKk9tPC48gWJeoT4MYu/e8RVDl/Oky0JEv1mY+VRyDjI7kTEdQHMwnS5ZNOwTYWImFq0Kt+Y\n",
       "6kqjIP6f8XE5ypZnZ8mq31z8Vd/Vc8nih2GnctJak72TuWj6hqyIDmqQFAit3SiApTRiOJ9YnNZp\n",
       "mtMttkMuvFFPIpORWtVdL2afS98aukrXlieMlmCevtjoKWTyAAJzlG2jqPVy+4sGPZtRQNHptRKD\n",
       "vwe58xmeb/eEYCLajf/5mBOBXbRtESsQIJcUsKGuSfr4jYKCWvc1MyT9DEAfSPYEH9LaMpO++Cwx\n",
       "m6y2XAa/2HbFORO1QTGRB3WvSHsT2i1PCnxxY1Qqxw70LyLZctYf/JJZxj6B0zCdko7ON3n5oAFY\n",
       "oX4gKUlD9+DBJu2A6qHXTatw56d9WWb6qkJHEPx87uI6iDXFt4+Hk4yGK7lXopLAOwrMjrsuNgax\n",
       "S7qgrnqEBcV+20B8d0Ih/eEaYPoqVk5GiGkfYBWwnYC9roF7ERk8muvI50X/ofFZUyVKdfaGEdJ+\n",
       "Dj3HOApdtr5DCcR6EozCzX5Abigs59c5DChU2u6JznM6DQFMjFIOt8pTmNyJCxaIKTcu9C1A8Vgb\n",
       "KKYCV825ZVZiVXHUkIT6w5jEc4IiJs8uPKRiF21LVe4Vpv+g63K5Q5b/ze1/CX0pvMcBYSYE5Itg\n",
       "3ajYmamP5Xz6IMurpfKEQN8Ljxi170akgIrLf9HXAYeF0oBlm8YXyeL+XNnfQjPzlNuW/wP2x6ge\n",
       "+ptfrYNZR5Rl+R8E8JFZ9Z+6P/uoCE1rDid09u+wyuVy6GidyDYW4IfyM1lNwunXJ8BJQvVuanOQ\n",
       "m/XySG5+pb83QI66HryurcA3/ZpPcLVSHvSi1vCYloqtkP8HijltIZ/CydbLOL0IQFuALu/HZtil\n",
       "dMRdEIz2I67isvllYxL8DehoUk1Hme4rJxpZxnspHpWALFwJRbqbnLyBs7am7Y1/+Bx/P2HFHXcn\n",
       "YF/QKlgIVpJZH4QGZNMfcfP2Ad4LnHNfp31IO47sSb0jFbPs7SsJOZiL4Z7HbMLngnU+7zWr6ee8\n",
       "Wgz0TFxaLlupVwDULwze5YBHu5Mz5/kBDzikfUXZVSENzw7wbUvj5VkXHg9S4NYTSSJlo5kfbTc1\n",
       "pZX9MlU3jUrqxMBdjeAEfGc7CpBIj2J8qb/5NCnNt86x2K1OUJg65jgEV2nAq+YPVyFCnTzTUB3M\n",
       "vqLeB0ILsJFidiw3j0RD1NOA+BcEpXkXsnkW1Zpqdhstcp5xxklgpHumJBphjwHxGn3MiSh158bY\n",
       "M63V34gAofu+6v0CNGJ4W8dW74u/knryF3sqJr1hBVg6kbvQtmXJ34YMeGxD+Xn/+M+mwjn4hR61\n",
       "2pyhQJucvtloMB2j1GiArWNqyEPL5hgctfaPBEYgtxgYNh+QgF9mdxwAPB978cd7ET3eUUSoqHLI\n",
       "4uhwfVD52OovwH9BFY6JaGUO9sO1XX/jnF1zh+Flo8cn5fiGlrGowcd7anPwSc/9XmBXAqrsNrY3\n",
       "TFHaW5nyVNb7DsMrEshhEhgPbFMqG8CeKQfkNTGARJ9bdik1rREhnDOWa53xebCXuzfbcnJqV+hN\n",
       "yJAsh5Vt3yknfEXr/cvP41A4hXd01tmYoHJ06DMfQnwHhUjieyR8qBQVhq1DP899/GXsSPNbmcvf\n",
       "w7RtFvhSfBfEYlUjmPVWJcjY/XrKLu22vXmMu1UkmswVynCaFnHqE59gefBRFPSRlYkgI+Cly1hV\n",
       "DtY8TEK4886DPaDo4BWZUc72H/1NkVT1A17wGAXtXOTHYUqYYu9JHNWwyUfsA15KAL7RdIlkpn4m\n",
       "Pj+/0ioUOik7byw77nwj4vY0ZC/H8Wbvq06WfAJAPFrwZbA6Z2/OaH9QU6KFn4yjc+1yXblAMSbx\n",
       "FqIUQY2rb+ZuXMXtMCd69fTDzYCEh8waZ0aJDR/izPD3IvjlgmRPCueG0lQMwZ7omcQzcGtnxTGZ\n",
       "5XoHXk2u5lG/tCQa5amBmlKfj2+j7G1v45aFlsnrlIFlRzAzQZi/QPUpo6/1OzTEBKjZxnCW4wLm\n",
       "BkPzJIifLhpPUyBZAc52Vz+GWudZC86JeQAABQJBnptFFSwv/wAUbqzQQBBFAWnNxyEmLtJq1iCx\n",
       "Fz3ti5ZaefdLCh81MunbgVGRySwRS84Qp4i3b3Itao7dhMZBKlyKmoasL9INnHQLbnGGfjmXRMVQ\n",
       "Ekk5upYWFMiZtw6ssFEluXRmKP8DW/3Bb0WenIZ/p6jIRR7kensuzZcS7WZUOKmXdsLbGeiQhibx\n",
       "0Q7o8MM/LQnH+udjh/UGamHC3+ce0nc/iqo74G/Q+Bt7crTHBzugAXvd5Ghj2+FvzFUxXDBL7IPo\n",
       "VCyhube4q7O+FFetxpmSntFjrxNbXrOPsuf6AzjnaSoWaYY0U5USA6MWyh2VuBbHc9mloKzkaa1u\n",
       "n9xw/ldTKE07oTwAM7WffC7NYh+n5gKT//Mqkvs2ol5pn3E+Gr47dS0050zpwo8NeUACCMaXUzM3\n",
       "IUq2HxAW8Cjpxn2OxkDgbuqRSAbIlOOcgK83KtY6dFnZwcn80WXzKdZKLYatkhcF6IJKjC5u5AQm\n",
       "lPg74clLcnaZsKi5ILnFX/pxYqChzjWE4t270f8Xc3XHrUmgwxIDq1i2qEIJwCoRBa8XDd5lI2sV\n",
       "9ZVgkalQ6f3Nn6Zd1m0H6mD1XYRFFk4SQxFaPnyV3EenZZ/sgcuz3CJY2cgzCCqC5ICFMUzZf7jk\n",
       "tlzGCdX+6Dcbc5dnpwld+ItoM/q3TUactQp12G/DxjSXo4CKJqD4gR6IaNG1ZfGDm2DTO5m97ey+\n",
       "+U+BL7RiumDMPcQSWJTDjGal+kYvhkAGgiZdnE0x+YtOl21P+e/GgfpstDsei+WXX6vJRietM4UC\n",
       "1LRb9NTS6tqy25N1a01I371iuFqzb5RRAZ0foNP68iQN5IkfuKUzsG0GBt0y9oQ9vGzhkTjwi+xj\n",
       "XWYWE3Af1eojyGsVtdC80td5CcIMF3YKHbrnqVhH2tqvQuXkdNDqJz6+3mCGJ+qo9V+2p3WpMmfy\n",
       "1jDsqUZp0DNhE67S20yCzmcMIDB362mqXFGFjj+vBATMV8ItWCqRZTtigiZELaksP+x60MlpBXWt\n",
       "74x17+kUQqoo6bWhl9Yq8ajJt4mdeG49oaTNHH3V6cB0qrzQka7+uCDRPDOHUP7JdV5fASePusfI\n",
       "LYzLC08UPGAFM4AcsjXJ+NqGNAJq38WIp+DNzktnAdcVDTy7IGnQi024SyeOrfmlgzj6CumS87c6\n",
       "tPGmBirSc8QYZ4b8EvzASA1MXmxte3/NCTxQnmDZshmSI4d44nlugZdFCswT/qSKaj66YNWmc2/4\n",
       "JxPq+uQSD2XlMcsQ2DEcLm9ldnQeFLOSFkgqzXd/7t68/MI9fEZeBTfjqnLcoT/wRiUpoG5N0WGf\n",
       "UEC08Hg9Kwen+8IDNcK3C65S0R5wIlXXgyiR1tzAFdGN/HQ3WC7rZiUSk56K1ZpHCRPqYGAPMzWz\n",
       "uLmj+1mq5WX8QdpAaO9JYKtpMhTZ23sTTTnVvyDko4ShQJiVeNIwU4NBSgIxnWfIIHzugl/J8FcR\n",
       "SqGTc9YKu8c6H76DeEycmC1B0dzHGA/ACKc1RkEfTGRtTA7BdA9P5RQ2hv4vTqzmsAxXxz4lnCAi\n",
       "vUPApUk7u6Lyq3zr7//8WA1kv1gj71I8yEsbVBke8FVlOIhUAx7IDJ57px73eRmP7wreoj+Fbxev\n",
       "4keYWpEa744vIqLN+qLpn4qd1cp+un9dpkYUjQ+Ib6Ioy4snPECk+xP9biUZBc7Ti9fQ7B/+HMyA\n",
       "AAADKAGeunRCvwAWvJOfbmDZeCV1vty2MGe+VHijS6cd99w8ULbM5Njgh1MN3fyYP6tYRtzDa/Ny\n",
       "SL9FbWSjliwOLrDKSky3XcOn2NWIlmO2/7S/y7pk8YZ/VvgBDViSJVT5jtJIbNc76F0llB94vGAi\n",
       "QDxBUZNkjcjM8xkc5auOD/hQzfdzoqPyTWea35VsaXtoEkgeEfef4pdCCvBE1o0HklTmoz5nhHXP\n",
       "8yemfwoM4oIBPMxtyXItAljnbqo6gpCucuFR4MOm5lCNfcj2EtcNH2+Z8L+pubRR9aWaRBFY7KoL\n",
       "TNeSO30eUs4NlNFV34sRWWu2iy/TecbVzD9u1LR95VpQSdrzoV/mzqN13GrY7/J9CrS2HSwidHYo\n",
       "w8ZqseQp1uBmBJ3//RCKyPh/ZK09VxcnKTxkxm2g8vGy5wfD97pQ9xTzJiwapL4t6CTQ8X5ZEUs+\n",
       "aDVYWayHUDVapexQ7hGB5OtYNdWG2vM2xWY0Uq/boZ0DH83zuETOHmOObZVmSeS0Oj5cG3OPtJ4b\n",
       "iqL9eHWHzVR7y19xc2ecRak1zyCK3P9HQkzJIRS08IBz65C7WXdwpNe3NIhjyhU24zKkrf3dY7LW\n",
       "r/7qVjS/Mpb5fxSA5FErAfYOKF0U1AVYuHOFFZGmlQLiT7/j1V7O4hi+x4NbtkKB5LZWWBxJIT2R\n",
       "b9C8stVkna8zSa1LXT0ttNI6XMMxyb9qaTAh+EZ0W7VVVtRfdX+NjLUpwv1XxAx7X1FbAZ6duoKm\n",
       "Td2vBWeLjfXyFR+0oUWGmv62brhbsRmd8CWLw3t4hemlj8J0M3Cs9CUZs06IwNtqy1UaTRwhp6+Z\n",
       "QgJTp8mCo0J6J2g6QhnqiWSZsTlNzdezCCtqj2OyQOMnxu3L+qO/WJUd09nKVcZoeEonb+CzhrfL\n",
       "7ystjeU2lCVzvLiUxWIu479MHY3WyelWQkDykuHZRtSxhsOmYffo3NefnNCpKDsHKvoDd+2Js9kq\n",
       "UlsmDRD576hAASTMaCGK3ALWmrUh2gYrG3qPROrScI1B1/6oo/ID8uxWw3+tpp9SXVy4sPFqzt5H\n",
       "IyYBssrz5rWoETOIu6UAAANfAZ68akK/AA4nOCn52jCltxg59NzaFTb8bgCAQlbSMGgjETBMEHIA\n",
       "yjmlkifiURjwwGemfrJ+9ywH7jTZHDf7Z9ef6wsjCI+nwT+OyWZGg7U4ZRDnzaPK3KN5At3rQZmB\n",
       "Hn6GkhcTba6S8uXBXS/q0+ekstuJUQ6ySGCIskk/QTIt8RqBSDTfQKWl+mCIXPmZjsc+b8j1tvb2\n",
       "O4YfEL9MaAq//713uuGxKvluv15zNmgB+2LlrjE4PVyhZdwLCdgT4xZrGSTira73iC9lsJVA2Upp\n",
       "68CZ2a1ACNsRlWBSFv07E6iIgmOmcX2VpRslHsy1vRXtGz1mkrHnY6ln9OB0KLRFF2lXodfOq+f3\n",
       "Sk8jK+C2+CFS5LvrJtKdZCkM+llVLdr1f1Xfpo301BN7P721Ew2YryLoDsUS5VjZXhf/4L8FIq8F\n",
       "woKK+rgYydReulx7fLcJeenQUgnDIJCkpD+Lj57pBSx3qOxh4WQf9j0Km2NDgDq2y18cviXEM041\n",
       "wRm+RvmrsoIhwSLW5s+xBzDDK2SLpUIt2BeworO8SlALXSBTqKjM46B7oAUajLDxgzq6rvwJ3WND\n",
       "5fBfp+8ASpw2mf+Dyk6+5u8IaxoOEarIssASM5/LiAZ6qT6qMHiJuy5urkDCTF7JeVH2XeJEKuUv\n",
       "XWv+VHhgLKWC4X9LIK3AkB+iCLSuHl9Wplh7vc28TdQcIJr7XV8Gph/U5tbYT9xIbN/ICujUoBqp\n",
       "W/u+7w46nigpZ0IDWYYYCaYr/1tW/UuxTbk2OvfxL8wfhY4fnsJ8MDFdF7cTeaaU+gASvJYPv8ME\n",
       "YNqeJQ+eEnsMkr0ErkpfvQGm2m0bVnLvieUcEVdftsPiVAM5WP64FXyWsv8CJLVSkWY3n+1R1OGx\n",
       "vGuw0g2IHVS6ahZTZKAXLu5siIns15SUQg0E+MtrQxWHLULDAVq1gdnT6Babhn7hnQoJgLxlBqiL\n",
       "5mcKDTL0yLZcMFqUZrbhSUEA48QFdhKCceFu42vrbfh9khWxW0eiWG6aAuhmzCq9g1Z2S/0a85FK\n",
       "zlUSzaYO6+bTk7y7cEm2hTLgR+IrD8cU0mIuOeX3TfsP/6ORy3qIkP5fco/6UnERRHt9PqT50T+L\n",
       "Tyhk4rUyF2gE+ehThNxqOS7Gi0V1mYEAD1kAAAYuQZq+SahBbJlMCG///qeEAB2cXZxbAARgEvCA\n",
       "RSABATQ9gr9N5PkhiD44WW9gnYjBZaZei9oSfvFZe7BDpYoRQr4l85TG/93miF4mfByDKuClvEFT\n",
       "CT2XFhoWvry4grlZRPl1/rm1NPiav0OVvClHUSM2W8bV33cPxiS9mYZ1Wgek6BrIW5Rg/jUGDvBz\n",
       "KslPOL+rXAidU3OcXXvjHwOD5QyyBKq4s6HhzVbyzyB8xA9ICsUgco/OpW9dQ/7hZYa6R+FuflMW\n",
       "ruJ6C6v1DuLBEecb1niIUjrUldAy7SwtGRrf7LUr1EQW5sWTNORWF2h/niIdIn1j3dVFacV/W9Tg\n",
       "GZHwr/LHhSsyRtF/9Ht/TqmWEoW/GUdBTMB+4U5ej+fJ/juQ30nj9OynjoDrP+iRm0x19uAeKU2F\n",
       "06rYbkuATuWu0rs71hyW90fJ5rLsWKme0J8OBTOLJ0KU1KxSIFnJZaNLhyenvVR9rArUoDb/ZKvU\n",
       "YZ0/z/KoCGov7CzC39uEGp0uDhS9hwqD+8AhpO/O5Gxjpg5veQqk3k0ncxkFoSIWndy0bdLr6AfU\n",
       "yE45MZmmoIgSqGxpHWgSeo1ZxGt8+C64ASHv5kNa80cEZLjwm4my11PqvPmjfQBre78Nmz0ut0cU\n",
       "5B/cZqNmb4ZTp+XM29fikKhykdGmNTiLtxTu772eYkfaIVyfY4mSjlFG0ajKNzNkSnGSQTLhn17h\n",
       "EEn//1yp2hh9YVdOFyp2qqNIu1u9TGc/0YZDzrOhuWIzUVaGsKHVXImdI04vKXL54J0wT85CiGak\n",
       "uhsOMn1tGZdgrCfQwXiLii2T1bx1up/39kKRHpnKJ9NLEdSP+Gwmnc7ubVUaWvoy7Y+NgbpOmwuJ\n",
       "U2zgOedeQxt0h+kzoJBaNs/6yU7M6KyZwOeq0gvmetJTFowAlpI+5dLzgZ8nw0AFpBSyikGOgbWW\n",
       "lPlvOcS4g70smULW5p7YO05wEnqSNhT/JAx5vMftR23+6medkhjFaVI6VjsICCh14MvTHs7Ix5sV\n",
       "GUKYD9a6HvXNPF/YFqo8PTQ+BIGelab3bR2UQfJ94OdgWhj1H6zjVHKpiexMSY8YHnU6pAOfl1KE\n",
       "TPxSZ4AFBAKV2ael088gH/CbdBft3Ysqtmhj6laloZOO5zomguAOJdbYHQU5IRiFpGPzttvShpi3\n",
       "XRLh78RET7kzAvBDQ9K//V0IXzJf5kjoAyoLzF4HkTshmG3m/HLOL+p+SJjeLcKS9emi0HuuHlPb\n",
       "8TZbPEiYHyGjXzpd8w1K18kloxvLCjLhXs2iaHLpWpBZGFljozLobYEPFkE+eTVDdyb5VHJwEoWH\n",
       "hWyT11Opn34BlHPQFnnLhFFFGdiist558go1RmUDNX0M6WDMHEtJWbsf6DDcznYFvsJrD9L6yb6p\n",
       "3mfM6Up2kFQR5P3RhbxYkdXuH4f5rT9pjXw0F9QaqQpsTGjTncVA0tcxZFxp8H79KQAgGbIyfcGC\n",
       "s3teHINE1K1KbAY7Qd53u5du3DYH2KBXdE+QsLt8jmlSZJWr7yZz9VtG5429FUEI0Mwlo7mZJd3o\n",
       "2fXr7bc2jjgF25upbWDEhM0MN0fJ/F/IkV6xhH1HyErwnhVYzoEv0ThYv/UhoQ+VY+9LtvoIDhLU\n",
       "pbnH7vnWvfmCvnlFofj5/o6JYkWcx655DknT+AgKZX30ohWCJEpQkHpe6OG/0gLEUUF4XqFYosF8\n",
       "h5gj3cK5cdgG9OZ00bIjy+RuST6eOhvjV3wOaSYBUArQcrFejWirqV42fgC3ObfUCFDmDfySw/iG\n",
       "c6izGlD6dKlptHaL22rWnWFZugwm2d7e0LGSSiLRdyuvHu+n1eveajxtn4QD63y7H/T+pv4n9+aH\n",
       "mPbZVOfUk+LZqlOuZpWBI5kgQHoomqzW2FR6fQxqYdpYl6vNHyKdTXH5tVIpmIWr0OFJpP+EcWPy\n",
       "Rg0/9YkCg+tbV8qhLLSzYkWGXp9xBa1dRnfFZjrZHBrVED39DW464xmAeDpSXN6AGxMgY03vg89g\n",
       "/9J8PIJzXcoExaEBtIx9M7FyGXfVfr+esmDvxbeICB9JPqKlwZ+B2/+KmG55W2bgoy0lJdxHaFaT\n",
       "YeA6GLh7nVhJy3r4dmLRgAAACItBmsBJ4QpSZTBRUsM//p4QAHZ9Q1dNdXBQ5xrefe6kAX+lck+7\n",
       "GMQmRB2tikogkMr+blOCej1vdZkk4+g6hRtiiiYCi69LnAwkTBgoqAxCJEgLdDbN7AljVTM4V4Ay\n",
       "gb5FZFGMG2df/SqEIR66bw9BznDtId/UiaFITDmV+lOLYiOpVPKoBPMyK85Lg0QRaHyzHrApaeGh\n",
       "kV7JsxxyxOm88T59kTv4EAeOu36XDr+r2Zj3h032xTKs0dm8hQWW9JvjNTbOJbc3u4KyjwIuGq28\n",
       "o7FbRIynn0BTJBXd4BkuR4/zj0stXEPNX4a1lJCZuPe5Uc1QpKcJZfD94sfhYeqNj9ENag7gdEVV\n",
       "X5zfIHbCXfXOXJ7SbNbr1e7XUIhw8jrXFoF+SW259N0JsIRbBudXnx52vI9ro3PywOpxw07+rQEy\n",
       "bImk6mpndca+ZsVGQ+B4757T0U/fJ5KLA3BOWh83Qvsg6PckMbSpThNzWYPTKFNjcUvhC/wLf50b\n",
       "hFVMINvbgCBTrTv3+h7h4VmHOOwzxmwggNYeu6YFv1BZj/PF7zBko+38A/k9Fm5+mlkEUQS8Ixa8\n",
       "+VGpkdpXoySVPDJLz2bVQgVWrIYSfQLFjcmlXn0mICt5tu9efAqv6NCyUDbd3ToUTjgRORYB0ClK\n",
       "22K8yyEheVel1FmdyeTht0OuxT+Fon2g2rtCqjYa+Ol6ucflKCYevnDbwZH1PLBDCN2DxbIxfZux\n",
       "S+M+PsXw2pcpXQ+JJTx1ekKUhxWGYwvnUMB4TVj03V+F5khsgRqRLr/xmEGS55fCBBrirgHbpmSz\n",
       "ipyQOVR66Nz+JgP2n+aD6j9qasFuf9W4m+Y8k0Lr0iyM7fnxR5k0MfFg5c/qHNxeLGJGUrs2mdZE\n",
       "E4SsCEFsU8xDh6BnN1iiwDWXkn+t5xx39FQFhI3LF/J/Rog72UcfHy9pRO2iISD5C5g2ymrJnxPv\n",
       "dwIZoGSPa5WQGPBrmn666An5Fvw8XH9EgnWuu0ma/igaOrZQ1c3A6d94GDHa4b6lkJDNvnlDP7i1\n",
       "ddOr2pSPa6sHO7St37nP7tVcsmdL2bqK2ULyAEjRjjk7y+y34jI7qCBvjpy/cAjHx/3xbD1u7Rxc\n",
       "yoImB0KXDgWKq2nM+pUdLui1lIOTMzm7d3B/KJQZyVqr57OAR5zlJB6xT8dQLPHR9S9TIymuBUK8\n",
       "1dGG1S9z1m3Sjq1xU6fZMdeblRvmDrcX1tJfu0vPre91vN589TQCcpTZi1oVJ9SRHU/gA90CDf1J\n",
       "b/Yi6NjeeK75fBioujBn+/f/fT7aX/65YrxzpVz7W80prXwTGa9hdQPSsPVQ8z2a+i2MohQOSd9f\n",
       "6EZWHWYiZdef97JKHPWU0lQx2dmB8SEiu/girF5NfU51MFcPy72d7Wh5KZTqhvojEpq0l8dfJiFb\n",
       "UR0rJfWWDyM958/H4hiP2akcDFn7vF4YbiOUp2P940dOYf8fOZdxTDAGAYckAFVpmdSpLkpVyICw\n",
       "T6gSLOXeI+6zpwaNQ0W4sjAiSgm0UuwH3NX8tpNOCWMyyJvf32Rkfze5JR74lB2XVbKKZsZn+gvU\n",
       "W/lA+5I7XB9hxMU74plsYrxuKVClc1zcmnBxO3Vd8ZPc9emXHPK+y2mYZ5qsWf7hCEsUdo+Scty6\n",
       "75iEjq/9dobCF9NGEOD6PEBQiP/V8iWTJXqIoXdea7g0bLrRyX84Nb61X4T9IRoTqN2kSJwLJDUO\n",
       "UXIdK/EvrrMAbzNGSTH7goUmB2BJH/apl88UidOtQ6sLztYMfTYrPoTPY/wE0A/pWX8mFwauewDI\n",
       "7bdcAmFZkDDjxBuk+03llATha4j+oGDjEqBgH42Tz9bt/o4GzZxIlGv0TZ2JZfblnHlrWyh14+N0\n",
       "5s6/fllU5FILTYpkYL9bFIfjlIzyDi77jZO7Jy/2U0Q/CJ23NwBDkkxH+aYs3nGmMpZgZBHRpTj3\n",
       "qWzkt99J2nVfdNWNhcAJiv8Tw4VIinFInVB86ijIdjmgr8/xjX3/OFhvnBkcNQDhBFcGXn4WsvDF\n",
       "vabRNuBFQsazmIIUcdpOKDT+qOZhTWLOZ/F7aRqQSDHoTxEsxI3Nu5ePHt+5mrEjkFks2IQDoJam\n",
       "D2kWqZs0GKawMolcXyLeW+9sLpQL8hteY/Z+wlllz7gKJHyFdZzyV2h8tGUlv1z0Grn5qUf4RrX+\n",
       "m3ocPGAD5ey/dARwXiE9lYVYrDNaYbKYHamk3crN1yyjupYu1bzrB2yrcBzipiedPAgsjSyB/byv\n",
       "SGOiEihb/idRrkj3d6QVTolO8rmyIE/3WvbcQrvBue4kSQXAZMA2pI3T8vv7Wfh61m27RxRSaXQu\n",
       "773kY6oad55eJzF9OwRGnfquiqAzMvLmhUMjoQWxHibZ7+yJ5JrqP77khzY0Fr3V386Z3hNZBCo0\n",
       "lfJAZ2oQgJIMklFlUU9+r3oaf5+E+qEGhDfWVaeZn9fQZHC+Rtva8Sz0qFROh2DHXLi9ZX29HYXh\n",
       "c8Pc2+0ckKZpMS59C94FEpOg06K4JavUVKu4hIpEYSqE0/BkvHKliC36F8QIxqrtdJhHnTLCBeks\n",
       "QMYFV1uRwer391LjLLs0aoQYKOuNKM7zMOFZuBaImOJjciaUg1Nv3puiUhZjJAVTCQm0fBlG0vsB\n",
       "ojrb2zyCRXqZpuW3MNflRB96akKhQ2Dj399qkrL8zF2c9XeUTK+BR/kKw4DAlJUpjvMfXVfIMMvu\n",
       "uvFuWELdDbkVHqbD7SHh3tUWYZWTNISa3Sv4xWygavYAvl8bhptX6+ajIG9P/e0nGSRqF5BQJBEf\n",
       "VZsXQ2EBI0IIKjqBqxQTuxHsFKk6cn7SN5eqDIFfoF+ELi8ebliAOFWZq5UpnCor4uHpK5epV5p1\n",
       "h6aM7bEFhq9hPW8SKQclj23tySuNg9+kCBHf67uVprwXRCf0GKm6SsAAAANSAZ7/akK/ABiHRKKz\n",
       "752qDJSK+eju0fAfYYVq0twAOnDfa7dXdlf2aFg/2414CMN2yzYIUhZ2pYAwhUxBCR0TtJ1Kj2Q8\n",
       "J0PLSMABbW/3WeWSclkS//3rIbmHf+AiTV9EA1JLiP0ufBpJsGkw+px0lfI9z0CLLw8+AlkH59ed\n",
       "qnl9T/4tTQDdItIq6clTh/uYdAyk5UexcNJZDmBoPax4CBgI/qXbYcSEF3l70HHQiGDgBqVfe0An\n",
       "Ew4s2o6+761UdA9IUczoX/qLKgvPBhoAM89XpQ/iBEqA9bxOhk57MAnTRC09Mk8a6PMuP8KzdVP0\n",
       "sLuAAGzmrh7oy/fN1gx1fBOUJi+bIba/SwwmLIAkVbAUcVZakIAK/PwyneCQ3n+G73TtlujBmII4\n",
       "7RweBwjU2jEtN6BmMJ2FrDRBcVy5VOpBp2TEzOqN7GAw90vnRmwwWsU0NL7qdMMy1JuguraAn8cS\n",
       "jxRrSPsZNzmKrwbrZPMK77S1wip5hnM+bGiYfIJRLPjqzmQQB0jvMsWQ++iWl3pZ2x9WAFB4ld0K\n",
       "zGRk9R6H9xQcIwSojWB0rNglO24yPMPnTNPqUwxSPCWUVjdpaJ0lsx3C4M85MFfmeKU9eHItndsr\n",
       "5Kja0sojGyMiFOEcbY5XsrHlBhvu8pX4E46K66q3hOkMnavagzdKo6gt6/dxh9ldwHnCJxX2nlvk\n",
       "7A8pdXJaXmtiIh1oc8ozKyhVFm4MkpatDelujXUnTBwWUww8hp2hSL9UUF7zDNuPApgbO/szUOrY\n",
       "dDRwEM3LD52NXw/ni/MwzlBUovd9CKqv0SDa/bGVe4GOO8eD7T8863Go1g4TNYUPAIDDv6qZTMKl\n",
       "IFlJ9dZCpucB1OGVc5W8X4hbMdETVaFn8P0uyxUjXkEYZenGclY9+ZDJnVFQbfE46+nh9q5KDmH6\n",
       "UAnlu98AyEvpUmWiTB5KMOmIMmqVvK2lks8SexaQojwn/Qp+DcdWV4xI9M63W+A79c8Q0XEqJBIJ\n",
       "bHSsnJnyHFKIdeYC9AhdxQMVMq5RnUAoCWGW1g/06t6hHFpw1eOMy9fKfmDkHJmA6dhrl/ZoIFFS\n",
       "yAeMIDuJHgwQM/NX95sdDg1cBdZgU2/3mW/wYsq/gQWqBWePE4CkgQAABpBBmuFJ4Q6JlMCGf/6e\n",
       "EACDfMypKt0pi29PCmxoAtAtd+1PthPaagJWEFC6YYqnnZRkJG1Sw1JN07NBaeFroxrJGCWEYCtC\n",
       "80MGUPj/qlI2ola1bmisMNcpLBphdSujvAn92Cdx3GPf+GAXMBFFOSs+zlfvcTtdNG6SX6OeMlYa\n",
       "O4e7WgHNWT8ubSMkkC0gIhD5FzWd+/Nj+mw+GhThC0ZFLb7K1WRYaBjFxi2o3wgV7HiTT48na6sP\n",
       "ucrA5GMUrAyRGrRoUqqkpKWqG2t74GmIjA14iKwIDPIs9Iqd6QVsU/IyBC6qosZwi+ipHhdGrjb3\n",
       "A9Z8ZWzfMJlWsMHAiJmVWE+doYl5ZWcpnVsYE92eyZZQlhCKxj3gce43KV8oeqNbhiFmhyk2KlnG\n",
       "sQA8KDXLMnS2vgIkpDVvdW5i+Wak55gBkW7bISxiKFCUXlwo+zw0u8XwH4UdD8usqztLt3GCHJ2J\n",
       "LSz/kGD4QMnZsmRSfzPdvqDerfvUhaaWBmUhvR2L1hx6G8uh3+5gRzcWqvy+MLDMEVV5aSi+gP/w\n",
       "mfxFY6V4xw7PdCmPyO7cxh8M1/qp7eJ0ceeKGs6xDdQFP7UInQwF8UgLL9utnFjNL7CMrC+6cF+F\n",
       "U5TurB1MmNSH3MBFzR3BfZ3Rm11Ui6/LKYAa2XXOiWNNR6+jbbeydLotciQ5m/q5LlqXb9PotZME\n",
       "AV/M2jhLrz1Ln5zXGXk04rgCpgu5YRd1z0OncX3ALfgjreHGF3oxNSvnZZH9r3QdB0bC8AiKoIrY\n",
       "pE1qi6B3MVkbDiDRUPAKG/1GZTzAGcUEsIudKeHuhEe3pWfoMELyHicpoNbd6rIreeLAAPkEhLxW\n",
       "CJm8d7KQj9neLzjqy6wWcZ19TeLbY3m84wSSXhGqcxASx6qrdd8QG9oFY14aVXViyt1rKZUZc5ia\n",
       "ltvsLlbyi2A0I19IIXBIb3nTGVoXULqLokmVVBZO1nkA9fDDANs2XiLEez3udilFXiOkpaIol8EJ\n",
       "0DRjEOqtZ9UMT/k0ebRbP6qKm+RZGMQeimQlPz/m6YDSbxTKZSzdGJ6Upiv4rMep019DvCNs2wxm\n",
       "2SE/CYq7zIE0vvlXVtmlc5gKwiNwnEPAJOFHhRP/NwUp44Sgmac9imrq5FuyDjO7VaDl9ysarQ1K\n",
       "MxrlYdxpaBMRtVXz0PRMtLUeuAUQno9/hCpqcrFvgdBLpzlqbzk4FF4/18ZdQUkEDDaYU+NbOfgA\n",
       "5tFyn9yheiFa1sz7ukmqUHh2rY2IR2OPp6QuyNSj2KnOj7v9oXybJKlJyVeTgxV8HvwbXHBJ+I+c\n",
       "3ZiKK96HdTiNs2xkAOrG65J7zz9ipL5sQelvkp1rKtcxq+HwZjEM4Cb/6uydZvo9ODZxbEnp5++A\n",
       "s60/7C2+/BB2PXcyKGTBglLwKJz7w9O6HNeLNU8MQu6YCznD67aFKJOuo3pV/rzicmIlmr8MK1F4\n",
       "lzgfaGC6oBrfyCamYvsThsaw/ZxVsH4XhiOCsK6riE/SWdPUVoW9ZCQHBe09CGRIN/yE8Cfly7wR\n",
       "/ccKtk5/uiFOq9LDcL/S9YOu48cyg5ch1DPvwpEyUChauOfkfMgD6yJAl0MBMPw4Tacj2xriJApQ\n",
       "QRqYEv+ROFR+Qv/y8EpQm/az/5cFw5EXOaXJFroQKyqS79kC04/XDH5L8LpXwlfQCgrNTekI7qzk\n",
       "mhLgfEciURgYv8S+XqCXygSoksEVFkWLeP8JV3XHy/ViNiP3IM3Yzer3Bve7Yo1XKXF1l+x9J/IO\n",
       "OO73zGFpSxOc//1i4ubaSDfxy3RCb/7jXjsA5VWABRmW4BO8oPq8/eIK1TSB9druTwwcyRZ94O7V\n",
       "d4YN9xm68wJ94UQh83qIAhRgwq8+bkGRlt2D7nr7pVSKFmXu4BapMGh5z1Uloud+dCqQHqiVShe+\n",
       "b/GWX2t6z9xowVxfMEOqQrdGwvbDUG3SNDFTj8xq2bfiwkFtoqLos4mbP5QQRfeCPG+kqkNTMaSY\n",
       "f616N3lM5miXzh1wv8QYaJIuMZ+v8GuUgFsieALhh5mb1EpNdMbvMVwp5yREXqpZKVttppXtcDam\n",
       "GZsgeT4zLbE1//j8oWjfmWlFI3Fkd2h7sBHdZMTEBizKSioLFufKUnjvcnOT8yqZy2QriTr7xOLZ\n",
       "yLPe2rwAXSnIrEGrhvRrSm4Btq/X/OQDwsHiHf8GBVq+IyTF0c2XtOKUPnMUjMsPfPvKcMLKo4Zo\n",
       "F/JGjgUpBAuAimPt0DAAAAZvQZsCSeEPJlMCG//+p4QAIKl+yg6hACwEjwf1j0zghXqey5zRAKiR\n",
       "OkNUuw015G01apycSS/Hj6ChpLmTAJlMVrKbk6BAVRmJ72V68FjMuMEE8cPZAiBbmCaZjvVR0Mvw\n",
       "NuajFICQvBtJJ5Ro7d8u7wwu9iHJLVVjtLwokvf9jZHOpwOvpdHSCiyYTF+nKx7BVVpMHasS9hlW\n",
       "JBfkhXGX5dpF3kmTy5/y/8OZl6ndbw01BX1qvEyQ+BLSYGsiHYwvQX5ITmi45OsTZIyyH4yJSK/C\n",
       "9wTnzN6SAN9z5deQDddX/DhgRnNf7LMP6nOnkH34ViDG5YPSQ8JUNMvu8tvTAKNC3LLm7JnSj+Kx\n",
       "aJmOzBoKPHsl8IXMiMQJsGppa/ZcEE9Rzk1/K/m47A2RjoQcNyRcB3eCzyn7zJY9X4KTmXdx9ChV\n",
       "EQ3PbHTvv1LVRG0+VjfTL2tBAFhyqV15JCOoX6Y24BQCh4wEH+M7MBGOrB63Rb65MqEFCHY66plu\n",
       "IwSY8eg5BPhQWk11MFFkXO3DO9BcMjDMbVfNGuq+kIkEUciTZKRzDvt/R18maNERaZ49W1yYFVjU\n",
       "n3ZluRNpuiLAJ0wodi9gjOlDexUvJRC456DoqEvUBDdarkhxDKbyJutf3027BCZ5V7vWZ4tH7d6l\n",
       "8a2QveeR3LFVwEN0oxebj1LzDM3U7BYAc6ebF6F0+QAMm8A+VFTfGbI9vAbOPdKzA5gxr6IBXoDU\n",
       "TvFzQWXx/YSZNGIahYIXc/GDQtJaE9+ajqauBsVL6dbu/RwFFgshHLz2QwRZwRE1nHF8j9B+yr1B\n",
       "IPbKZQ5pMAl0jT7MU+rVyRVjLGPXxdx1k2LxFjV2bEUk8Xm2dG6Ot4zUZn45OfbCiM5HukRsUnFG\n",
       "hEEPATePEs1ZwNDit+j2CukoNWxHmV3ubOdKP9y8KVRu8KDgR5bf1nmqZx80swRP0B/ch7e5csmB\n",
       "0rCOtmQ8fZUjx3mCdv9ooUy1SvnjLhO2ZaA1ETxZ60vobQ8ezR4wGpJt9+2lC90yvJkSzkDy7+45\n",
       "G5cVqUaWCSVeR5P5VZG5OTP3bBCjRHdXucXNQ4GzkGwVr6xCluUlzfpovvqZHjMnMrHvrGasqgHc\n",
       "nnqKOaf3aqFjhq2AvduQ9vy91ZuHV8fIG7+S1JZhf3+lskyV4py9l6JSah/V/A1Dw4rws5uhOZMG\n",
       "UwNzPV+NXdXy9ex6sJByLsOEDMsq8+ZwcjRInUmjIjQzIN6KiSjSeb6jlHZRjQqHUezbmBXmSjJT\n",
       "v5rrLdHqSvy50Br7udej916nNbg90VVGb9A6G+MuPWM/+R+x5FmjADNtu449puRRfJZBbM3rWUTN\n",
       "HZv+9e1d+HJxozZR7iTSgY8eL1Be/FftoBRiQINMrBYIdfMWhUxlMElOYYFD7Ra9B4mRHjtXxBE8\n",
       "fZEqCETHdaPGLzpMEhmb0lO3HGevOSg7XYtPVWMgKczWZym0sos+XVNh8caRaASUw2lQ49jdQ2Mz\n",
       "GivlyK76LcyTusTV3yln/Jupa13nr2TbuUwsVEbIzEOzKU+F3NZO3bxCpr18cGq/JFKOP6WtAhRq\n",
       "o3ipvyOWF/rUMiBtiabGXWuE1ML7QXdlqtGiAUvC7G4FKjpCQFMz3R4LBN18eudMABZr94tiY50O\n",
       "hpDqOeSyagjkuBfYmzgqd+M+wGKCXbB9VO+5umSjG4kksjgKc2NaQ51DhGmO6Ar2yxbC5OFR4/nz\n",
       "ug1M0aUX50sgLszVUhqTEpH+iKSxT/453bUHLWDs6i44J8fYJdcTPIWwnSALfzB5JFqrYbWLeWio\n",
       "U2+NUlY+pLu1mHAweUMhrNTy882zAN+bJEmlxNoFnl/hfhPOEz1/sSb7WgIaj2DhuzubYGnL16Fk\n",
       "F/nkW66Xbuy+ZUiSKb0ROAJdOa8dHvkvmXKDO8DYMS6tof/Y16ZhDA2MvWygskRR0HKnzCXh3A9S\n",
       "XCOvgXb05zhYlairUwIr72/qFJUf0EHCxk1MGvrVydHlpsKgFajDpbhttZlAayMzGgMl54pHL8AS\n",
       "b8qEAJi2J5MrqRaluA1iOx92m9uILbfnfbYvaY/N5rUqG9jZFHykNyCdyzXZDhP7rrKSMZ20aX1n\n",
       "ZYiJRDB4qE+N81my3ZBX+Mu8TXIXD0nEJvi+CvlhxmqaOWqMCORLU3ZKosF2SxSk65koOU4cGu28\n",
       "cWt/KTQR3u7gNhyhAAAGWUGbI0nhDyZTAhv//qeEACGcwyyrE5CAALHci+sAXl9XMKPUvj2ys/vV\n",
       "HeTY3l1Dcv5RY+dBKPx3VLjRK7Joqtj+2wJ9jQkNLmqXN64FclYkqRIEQnThdgjJM04twQU77aMs\n",
       "iKM17BsUcXBaU5nBp6dA/e700AWLud2EcmFPskf+SEf9IGP0o11mLwYXcvOc0TJPW/XOYu8O/Hdq\n",
       "dxBHCujEehukSOOqceheKFBmmRARqtW4pqLzAUqNxjrkWY8Jvt8/7SwS7yn4PxQhQ1k7IKJNLzDa\n",
       "cjjRbDGFmog9vsNEVazSl8daZ5RkS87w/IkO74fQ3mM0QeHjiSvy5I21o+yTtHpZS861VtlTT4LP\n",
       "NyMo2GXEBMMibTOjjcT6O6SExNLos+qQeXqKr6vJRVkC25Ca53TtIpSdGfWCK3vMYG5ArLggaTOY\n",
       "dlpFltATW4w/7q0oeDYeqVpKvdVeqEd5+b2oaNpqYflc5CF7lS3UqZBQoPYgKKyA/oyl/VkoDXyk\n",
       "tkKQRQULQ+bwD818e9RwYptRjNt6ulCaqMTx7or3aIyXMKzc91dOUZ9ew1r/35CXqtDV8folz+t2\n",
       "Cxes4OylNka3czl1TeTRE4Z0Nw4AALIb3l40FPKQa53ZVJ4NgWOZ1FSUfPm4EbylDdsSjZcQSSmD\n",
       "dOt5buf6GNOby5H1MHfAlA9SVzeRQ9RG1PXFZnyjoWOCYsrhqRjVYTCiWwbg+f5CZ01I75jMT/uS\n",
       "n9S1vKDDAs88AsWDKkewxbV98wSaGcdZ6060S9tBH3lqCSra+LVoC7PbHQB3sOMx1Kc61dctx983\n",
       "UmDFSRRv9TTPPoULADb7tPzdNb/i/RRvpc+ewStqwvFFwV850hh2LfDXmeik3LZutNNnevbZF/S/\n",
       "ctvKPFMLrPDoYYlpuPfjRBaxnY3KfEGKFioVy6vl0i41EfhNaaGDQxHFDIO7kqnBBc+pshwGbSOx\n",
       "CFcOgkAGNJBEYcVV073xfwpXVpTN5kUJmcLdGicrezj4h7Z1IsLKZDrifcyeoKdlf4qs1zHfi2Ai\n",
       "xL4wug85vqt5wP/7Myl1P6wUPW4OGXbQ6Fg8hOM4KHMb1/46/cHmidhAJ71P/iJtet0US6yxbHHJ\n",
       "DlFLxo9tjm2z+vb3ejV+GaU/FADgQvWozPyeQhV/PQ+aNXUF5PuPLdHMRPoHSjzH6lnasGnoa0ob\n",
       "IAIQ72MwXuqsWLvaklSAVcCb4pFHw05PGhvyxMdwIiiZABA2YrrhbK8/8FENNWp4/ZUXeGRgqAp1\n",
       "EOQt10OcESPZxV9iNNARdiDNFKmV+QbFgyFdddGTiwsRu2Rm71LuNR22sty/31k/Ck7WlUUQnzQv\n",
       "I7Ee9/AROy9rS0M6H0mHoFPb1BqbituIHFzLkcYbxX520qyLK9+DTT+RackHWG26SG99kd9msD0S\n",
       "gvsl5riUgEdfhwTH1Y1/j/f5fHxZNfY0Mhl9JOHf8jJopRQq8JQnrEt88iPyYu/8N3dSqYPPQSqA\n",
       "fqcfVL35bkM6W1cxfPR5c0aiQLeXgxBAcxVaacNocBf/O6lzJZJQkdIraN588spKcZpjupWnspb5\n",
       "8QVy31ZaiPv7zwthwBfy58AncpsdeDeXrb8jyhbfl1Fr/8XqZ7jIZ0K/3Vi3NUNOeXDgR5QiDnme\n",
       "A2tKry6UMddaWFe5/elbstjOBmuYlqmx2lFb0uTqhXdVwip6Xxh2B4GSthfn8P/ePIC2OpX8KiPR\n",
       "bx2MG6dqy6KbBwC8SyxBBha8tOOvjdCdkK+2TtlzQ2bxtXR90cwnNtFt33vn6MHFD/ofKTH+ds3C\n",
       "fhL6L2lTH2m1/zOfrYpvry0elnZhkVH1abp6q91QZ6ylsDA6mJgECvwpQgj9CzCuG0y+7j9cgrY+\n",
       "XZtgjWmL7t/p7frQd5Pzw6wB7cjCuE5pAUtMWlWyX8HhNtA5j30SAqtzt9KJwoRe5nA4BfjUY15v\n",
       "PSbIQLcGsPHBElymq0MyUBceY0CEr8PMFNmMhZZW7BrZnOyRK/EpKjNERQTZgu4ha2zE9ra4ZpVq\n",
       "2WRsfnSIS6iRnueNZ0VjDluiOzUQ3aGrnK2bxRCrV0KFl+6UQEhevJGE8QwnVQ28FTi5lj0xlQcg\n",
       "guw81+g4K/ccgDeB3g/EfuiGhOpDAO2N0rR0wBVUpptkjDuqwAVbhK3ME09sAAAH1EGbRUnhDyZT\n",
       "BRE8N//+p4QACCqD2ZsOxGy6if94eanVzr3ynCgA1LgIvLeQNzAh5/zLcim3sPzWIkf8bqV72bFi\n",
       "7DEXcSvpgsw0A/W86wRS/qYyzQfF0+4PmxqIdF59eP+DdHM5r3AfUi/qfeaB9N4H/OOnw3JHS7Ys\n",
       "ICi3dsyLNqcBGhJhlYiizX7XXyXzvBOe84Own/UlL8fP5Vje0hWmIh9ZqrHjGmE1CtKMjq9eKY7p\n",
       "CtrfcdLAVD3gyyG2mjK/o3OLQLyUEAQQyGH02AS8h8LeZkvpJdlGEHcQCvsCyuKCMTnJcEm1+bT6\n",
       "fkeis1CKoTgbG8J6V6IiknzzkZoXjTtqPOYrmrDERm/YN+eXylRt5vjDS5mNLCFql68rvJMjpi/1\n",
       "q2K93t1mLtFm0iRN/OAa+06L33owhmj21LPQD6r4zUEBJ6SclS+Ojd+Zy+Ycs/kzFj5VxzaKnUVg\n",
       "DWzRzhamTanU/YIqf39Lx6zLXP3BITaE1HJ5NFWalq6w41qxFQgCh30LYI0y3ELBbdpmCwBYsIZr\n",
       "UzRU/1AoM93t/CpTLgkcnCni1RnOY14WSQMMEwOK8crT6dYeL1DpMFFbQuT6qo6aOy3v814+uJKk\n",
       "94AUNz/d6l8zmAraDkIWCawZcydTk/bHXuvlN+K7Lqc9uBIrstvuW3w8jIaqfIo2IX02Yx+5PyNb\n",
       "R6fxgh9Ee9HHrPX1pT4GiMRsu8A211Ha7cYsxWr3CjWeCbPQeDMj2qb5YAqWH3MN4uSxEDf+S7Or\n",
       "XPDpUEf0YgT4Ngt8OMbh+3bNyg+riXW3LvRRtej/ih0M0EBpwd61yA2fhqD5nobqrfzdLYr/x+ZC\n",
       "q/WaIlcdSJmETpih++v0raZol2uQhsVZSLsEHm6F45Ppr2nsBmXZSUr7cfVEmzpy+/oIYiRfT6EE\n",
       "9wUI3WVKTp5uf6bL6ZlX75LzkFN/mozMX76Oj7bkvTe1kYVLJc2LgU1wqa6lShgI54uRoVHqyv72\n",
       "H/AV/KHjZnDxG26OO5fBcMVdwy1ZEg4xv+JdrLMW9ba3ZQYbEZxa5xgN+lIr1dMqtoZX9SmdP+iL\n",
       "ZouOQdZ//9l/pGDa869Q/IYyxwRwRt3cv4JrAVs/FCAFcNx/z8w0v16HmmiOiCqycK1g7pbvmQKw\n",
       "d8qRhcZeu7rUYMpqapGUREZ6d8UsG8E46l87f7beRykVz3xTrO0ZbrLR395wFx8G/nqOZUmIGTBp\n",
       "ZR0c8s3dNUSEa70Q5sol/FIklqlPGEZkObr10n5+/3tlqgFhkEHYkCWZoDhmgYgWZJU9HXtc/csB\n",
       "4Ca2Qm4bmQbSAR1SkdYwHf2kmYidxNBraGFOcgn6UHNZQBk5ojMDIOkSiZlaymtIz3TMM8KlvWr2\n",
       "5ZEdOrb0h5nWh2j6lcCLl9AIWzBHP2GYf+lBqBrFJFTLgCBrrMF6lsT3xlMTODvXDijx0eFbWo1F\n",
       "0AyMdHl57r49tqdp5ja5a0Fi7X0Y5yoNPqzXtyRutRuIaKBSs7+e0l0At7kRIzhK+xeqRvwSJ8au\n",
       "jJsyuLg8mEuC9RinSqSRJEi/5YgXrOQ23+zGFkdm56mJjXRpwk1VQznoNUK+Xfxwsj1HfD6HCgfM\n",
       "PCjTdYYQ771tjsaWMVnNroqxewz6uHjNLqF5Pfr0Wq5ap/pj1ZFiCZEkOp6Rz2/WK/o1gsfn4r3u\n",
       "K2nZPwTwa0nRJPnQfMmf57mCsdMC4DmT42j1OhZFXHyvQnU0w+FyQjK7rkz8q/m814YaqTjLfpml\n",
       "RheKPzK3cEsWBz/4u+XuVD1A/C2QN6A/fVWAKryEm81L6l14rb+a2YjB5xY/inmP0YJLkoeA2umj\n",
       "g7AgkgYI5V2hBZWA5X7xxFY1vK2vakUDwDZnjaLLi1yXc/EXB0/ui+CgjNUovbfPClZLC4SNdUMp\n",
       "ilOrO+t7RVdGMwArMta1AOhqeYQu4+0wZu6TvuESs4UGSPq3M/6eOsUQ7sdHFNuTavbrU/zC4FIf\n",
       "z3R0np6yYYmcIzCXefPedHCGSzlgjUvFnXfj6hYfWM6s9xFD8D60auz0lhkhPwCjnVLrIx5ExarK\n",
       "lUwkgKJSpLg4bagVvb+gLrrGIHbCycUccTAJNCZ/cQv3cp/83kfWz9h/XuicL7NU18nYlUVd7Bnf\n",
       "UU4FWbnIsB8rujz9yEEVqwDxa9ky6pJ6Rn3UZAscZdu8oiHFxbmDLXrVsgy1oBukwcHYwlxu8lrZ\n",
       "w1uD43/lEw+PLS1PzfLADM1mvVLwzG+J4dv6WdIbNMXssZEgs56Bs0om99O1YK1e6L0WGRlXjjzx\n",
       "qTgLMX0CCbnyLf46PbiCfQzhDGlMlfOJVl06I8rxTa4Zc/RSCz+r7NFCGY16voyRpox2UQqbfYag\n",
       "enfN4J2usLDeSDF99cxl5Xt8w00lRM3IT/Vr2A1vXnFuHpjhjljGavMxoCp8YpG4UNmz7Yhm0QxU\n",
       "yHzDWtuZaR4MmYE05cg7/9wBAD/MgecJ8XLsEl9Q5hohmqCubqVTM2T84PMIkHt/gYNzCODmQd7O\n",
       "bGKU607wUbNbF96SSBRjus7bzsFrnF12wZokcyaQx+crOedETfXfkygefajIRn7S3dhE28QAJtjD\n",
       "rdoPZIjnbE/wqLieKfQHSrGhmQowuKZFJAYH0wNYMi79lM4CDYv8Mrx1sMsHWtN9GD6hXKRnEg48\n",
       "cQAAAkABn2RqQr8AEVqwI3UMswCIodbDRf0taBlTWBAEFZBvjw+nK26PAFgnFHPhyv/rse5jhXU1\n",
       "K3pllYAhiTFdV+Do+D51p1eRiPCqhJfLrs8psqVF9zbflGpss/Ma/p3wC/IBG165df/eDYjbQa+D\n",
       "RlJiYbJRnfzWeHJ67CGORSEEl3lpIsLmNjYX6z4sQ+h4ZvYvfO7ZGVvcRsQb//WL/HrZdoTFIcft\n",
       "Gk/k2+VwbK7WIFS4lIhVQ4jso0nDwdS2rLNp0Ha9IaWoMnAW2FDQRVNFtIkwaw0Ag/llH2/IMbDw\n",
       "ejWBccRawjzAaU2tV/xUr7+pMho3F7RgRgcFecRBLsRCD5y1ED9p2Q2hswr/vwQEFlIhk2YmD7GA\n",
       "WlMvrPYi0MVtiNnHFgWtvibxEgV4R9wtxH2vDO0HdJ70t5Yh6efU5DXcju1pidoFNmmqNq2NjXY2\n",
       "jgrH9x6U7x/ZGsL/AexWz8QY39E8I1Ysq+LiMAfxwU9Xs78BAVJqM7DMkqODHWiywTC1+U4RiKkg\n",
       "EgUztlxXIjjnWXc2wiHYF7sxN3234kw9v1BtW6aSl/RlU3hzAfuvKTc1SD6XkYRDZ79QCPzHmR9f\n",
       "tKaHgpcgj/D6XHbhEnxttnDxvkOgn7Uta30neLm+W2ShhFf14YywPg9YBZVT/RxJZ3vgrqohchlY\n",
       "V93HQ2ZqGWaVl8+7F1rdSiN1Yd4Hj22O+Ko+5kvwJapOqux7rc/wf1NoZOqg2KsNRuvDaGACLdUb\n",
       "WW7G6b3cVdgAPmEAAAkRQZtnSeEPJlMFPDv//qmWABEF+ruDaRAv4CyE4ABva+NDSy2uNDBgL8PE\n",
       "kgutbefBg0OSjZzrkszrEcInjjg13syjmOdtjqvFkCenCh3ajPfPi8PR/HmsYEYP7PclvQivEtXw\n",
       "gO8yPqr1ns83YtUr1GdCBYkCFz8qXB8TNcHn10wZip9LhnrP/g0dhXOhIQG5C2Rv+/ehxg2dkoiH\n",
       "16q15gER+/eDzWJhtidG7kIGX2jD6kcMi60KUeuv5Ap82Kb75f6mU2P7JnpRFvet0FNYYr5v2jcD\n",
       "9gDkdhE7StWQ1dmM22C/n2kQD9AMliLOfaoA9rlw6QyCoDLRks75GM+f6RUhZ+5dnPEaaPXUZszI\n",
       "z2m45t7T1cyGdXsgl+uJ9JluW2kQf1lQJTTv9Jnvl1YOJjgfSMQMYsyUD/vc5RZjrvZBl/s9mjB5\n",
       "ze1L5wPDS8aoB/kxZk0dyez8o+w5JksIbDSY+x3KzEPDTL+1gq0xfecvbOnxc6pEjnIYeZ/s04ng\n",
       "MUmOO2s6nCCUaOTtSbi4xaqdDJZzaZi0e0vjEs8OiEZmbwHuNI26FZq+gNfDHHq1W2sH189GxHhI\n",
       "+Itg1+hBrq7+aF18QF0r96xSwgfYBMtobgvb74iu5FTr6Hq3gkWDODJW2aexNkXILJEzYzA8yyeM\n",
       "PeiTBgG6op+lkp+s5ttGYGpJSivq22+IG+FCIBJXjwrw3vzDMMI55ZxXfcc+xUP81MaDEj/Iywaq\n",
       "N4WIxDdhVshdymCk1EIdx0EWYEz6s0haHB0MzSgsTp2W4UTTaGDn4eRpCMKib/h2uK5Ibn0CA3g9\n",
       "+vmSLMj13AthyXhq+EywnuyycE0JusY+DANfLU/9xTp9phADQua8Ei6XGAjtga/Uv4w3BDvYUhu0\n",
       "LXofYhvbDeunCZ15ULvyd8q8kirebYJ36a+giNUFvwzstTubQ0RJyHd4+BN/V932d28G76hWIotB\n",
       "mihCW5rHSP+widn5Nv2hZyDPE05FrMb8d5u/s/Bo+NDlR+jK1wLT91CNC0avwykWjsBwoUWsqyJh\n",
       "3ZDehbleBx4BsjyOFsB4VOdq2xdVekWHUw/vAIsn31RvVrMVoNAZuxAqIK/ltqhz6VlKHnjRWVAs\n",
       "OmQXHMNKr7yIlopOnw00ZLXrLX0gyR5U4dXvvVyr+h6DC8SL7PbAKm8nD6Yw8yGbjyqgJ3oMxQ13\n",
       "zv+PcSJ8m/Jo/x80I2DpP1Ua9OLs1BqN75z2k/A5QmzRwpiQ0YpJghGiUhK8eMkjQSRkHRAMrG/E\n",
       "41XXJsxs7t7Zmp4I2Inkz1uHqWwXfKYmWaNLYGkgzHQF1dqOVxp2PdItKBG93FP+npHDZjeN9Ir4\n",
       "fYE/ogPb2GiQ3R+Ra2aZ12pQJz51noZcv5bEIH+ZgmWq7vj26XFEXfeSwUy/T5e9VAEIwJmPSBgJ\n",
       "uY4ZRWgAAnXNMfo8/lGv3l2km1O5pbge/CSIgc5jsU8eemZ3/bxuectgSmznGT+0eYTxBHEaO2ZC\n",
       "4v2a0gsJWC2BhCRgbr9yurAecKKTUbIJRurNTz2u3h8JAlYTuwWS/AQ2T5MBk7TGCXvYfpmFTVSA\n",
       "u+baFjKtQpAVjdaKZnUlHa5d2fzYOMRY/bM5GzdWv+AbxRyK8mUtbXkPEw3qELrOIgBTSaK+G7VR\n",
       "v9pWhqDX/y6kZ5SZycYxP6lHTQN2R0BMrBCkM9B90StAlxXoKPG6opsszjWwM8N1lYtYZL2QkGWd\n",
       "hV0ei71WCaD/Zy6DbGG3TC0Awhm8ai2kSmq8wL3t9Ph8IoJ/gP5KpGul36wV6cdRBXZ1pCSt1PqX\n",
       "ZjmIME3sLDeALjX0ri+52PzgNlWlzaxvOCHKA92uXMpDKojqbo5GakblyXNLudNRjmB71X9fYqbj\n",
       "wlJyioQHD5ZhePfSQZRFC5+iEKvsBoVwrkHvw+d8Yjp//x46M9gjFWkBAXfWyscq7N4nXUzQ0vm5\n",
       "Mt/Sp1aLyziQbLDI0P53rOIYqVY2bsToEcgJ0tIWQePgvXYIj7etw4ruIaNPcelmZn2gAtVIEsG6\n",
       "RnKy5RJ5Usku4wQ9yYdNhjI8yCOTcTTM2kwGMWAIeM25g5BqPJKcUcdhv7iTS1dAhcU4e7bygUgB\n",
       "7rB3konpoh1O1Wq5C/H50FGAsrWJDkKAqaIMsYWy/T8XA4xmyVoUaQnZXoHk4EeQvjjyQCgpC2IF\n",
       "AMPJ+la+wGo3Rjn2ZxVTL7k3WGPCQbi3Jj1ntPQqGffd1bA9j0n4KhKvJFFsaWSwOW2OH5LlhW6N\n",
       "dV/mRFCgc65T6JioHvb6myuXL/3njTk/SIRhj/Ef8vwr1LWfSvfogZMCtnDxz2HECxNKnje8phbh\n",
       "yXb/uvH2AiEV6T81aQdQ+Gcyi5wPiiuRvIKtL40g9F1HLNLFcRabHna63dFstt0oVaF/R6x8pJ7j\n",
       "5ah5pZvHVoF/uBlGihFpxcAGJ27cuE7KLjyC10gND6UtwH/Z7dqmCJvCpW53yIYDT4abu0EOm8dk\n",
       "DvO5wI6MoBihZm1BXPCHFf3y0aJsZLhJEqe8njaUuJU1bNjJm74JMhMA69eHy4MXqDLjI1Cpbsgs\n",
       "RE8rKfMgDyA5w9zyxP4s2PtQ5CnvH9gcvb2QCIbIQxOzExysaom/zwWIWgTxvqqf2zoG98H4wxXp\n",
       "iPw5BdRYZ/fckjFTsX89hF4THoc3R7iI6FyDB+gXCZCuarWXVVfFsFqAV3EfEmETenYCfVhuMlhx\n",
       "Q8zdt6ium2gjWT67PH+Ik0ZvMI61p+kYN34cLGrmRA3/fpdmgMW0honbu2DtJystrazVSQms2JQc\n",
       "zXpHXd3luUPqgdzbQTCmiTBK44BSbyNwEBYqBjyHFo+lbCtkTqM1KFnn+UgM+tWDlgPfnmE0Ka1g\n",
       "cykjHKFPwni6WG84io8E5mIpfU5tZTErzTzBo6JEeMSFck4lHJymCBJPa5gTJsrGMRTSuZ19D4iC\n",
       "IurFtkObsvFtctIeQhtA+zLkfZhBuvRQTvL1La9LNOuGa1YFYCMdA0by/Se7WUJqk801Jz8PAeid\n",
       "4P0jU1LitGX/y3cjWvgastqf5+uHqgrjEA9b5ZpcnPiinhJqriwmWsBNVdDpqnEmvPCBbXDRETcA\n",
       "AAKaAZ+GakK/ABFdgZl5sFvfmrqXyyJbGqkIVYaaDL2gvZXusGQIQYUhTtqHV0IRcAC5k/kxuRz/\n",
       "JAcDzYG2EcmkO03cB0jD7x93qcYVViJARpYYibaydHUU+fkbdlaZJI960z5xqQ6aTJwiHi/nkxGk\n",
       "cS5SFTqVpy/7ePGZDt6+PuGPwwaMROnoT8wGJBFkWxpAKSLdQ+N+SNoecC1Cbwq7WL2rnN65ONBj\n",
       "5kMnUqes3Lc+VSbR9DgembzWrgk1CaN6HXO05+Lk8xULwuca7nowVFcTWj3vWob0RH+gaDBwIU9L\n",
       "1luUXRCJ7SyVAdaSR4MyBrZta3OHfzx40Xg65BqNXRXfXbm3SS2K76go46sdkWXRxIGBSORKJoWN\n",
       "+N5SSpzkHEdXEbJDSO8a0XMbZsdfHBCpIiwuB/qIUlvlOZXWG3sqlCQFhMEbnFmvJydkERT9C2Jn\n",
       "uVALTjLnxEnhASiWcQkKKWUxTmV1b0/OGOovjc/g0BBLdB2VXmkMYUadHp0jtJD0hmabFUUJbQWB\n",
       "lByniZMqMGK5Myji+vp8xHIQWkPZcpF9igrGwZDrc4vETbUL5d0nnvKQ8f3LigNe2OFe0peqncn3\n",
       "gPF8RxNqKIoScdGg/s86lX5YdSL6xXS0vP3dFZ2kpTsfJwVsyKw2QQse+4N1Bfx0Dx+4Jc1Deh7H\n",
       "y9RX6itEQ6i42Q3H50K1yx4p77sUmrJvFywx5XE0QFuDUPWJ2EeGr9cqenm9P/z6zaoHcfDMZPdH\n",
       "wJU/BJYdmXwyQLLBqU9FTGymS6jR8MqSIG+eTbB8TUONtk2KzVM4073H0gFV2ECjfCwNIwv/v3nf\n",
       "l1BP9/ezp598zB5jsYxEyaAaFw/zLVfuZ+q/2iVXnHTiOuQsXue6yBsRAAAHd0Gbi0nhDyZTAh3/\n",
       "/qmWABEFBsxgJc2whrZld4GpfZq8dJB3igBw3ARge13491eUNYqTb1jqFHp/R5RhPFeantFcTirf\n",
       "hwzJw+G4ZT44bnNRnCrbepgVG5Lr1NP1i3ksQEcjksieZi0877XhymYEzbfuvSpxs8BZCbrRo7r3\n",
       "24gWJUslIVHc2SfByy5aied5PfNj0D6r4UjxkmffchZNpAwDNyNI0l170EG2A5KfKMxzUR6ZnmFk\n",
       "r0ubWsupLZ9ZbQLQA8I9cusmOchP3iGFa5mVSdGhGeZgapg0FHdHmsSYsYrRpYNoXzNr+Vcu3mEw\n",
       "0z1Pd+dfQmsFG8EgvLBNLpSyVzszMr+d0ip95QyuR6O/rizGOhijK5XoTS3YbK0+iKrZkUnraDHi\n",
       "Fcpmrt6nmqk/hSID925D1702LFzUmZh/Mce3aUQw2M7mUliWGbb3+Lg9lQSm2ceB+vATWXCNgl9/\n",
       "PaJW5qU4UImLZ8ivhHd8m//IBSKMIYdFIuLUb45JhZvLAH9xYxaOkDR3g03jIMtT2LjtBUrsKzxp\n",
       "6sEq7Ku/NyhsI+VyTXYFIY8rRb7TqtXaulF7yRF64K7d6gtxa+hsztYOCrAQkjdx98t/WeLqFtUg\n",
       "H6Rlrp2IdRjYpJuzH5VOQv0W2AH4AESInK0Gn7uzxVo88hCcay5nBtNvzMeO0OkKflpZiaT/2QI4\n",
       "AHyCwEkBUA3/PYO0mnTBY+XHyZy+IszUuT0QgVsQqAHGnMfDnOYDBmslBBAKKH44X1QSyjl0/ZBR\n",
       "x2fzsDl8z6w3kssO5pra/2g5ClsbrVuX7a47DegIQPEeZATGMS3NiJnCHsG2WwVfzMt1Ns297slG\n",
       "w/0wjfdxFgfS+kcn8L8QKI94D2tv5id8nBLwqdD/RJi5l2K3wavqO4K7ju5ctinoYc4Ni4H52PTc\n",
       "/KT9aXSuKNX38rzmoIUO4T5sG8EbkCFXYLeE+KN+X6jn6o643agLyKPxbeAG9tqD+JtJ/KT1yP6l\n",
       "7dus2bXFZV3FhXVn0ocT+x8S/eZb3snxGB0sDDJnBIjj2tpPYZIdamlPZ+Hx3LrfCohq83Lstn23\n",
       "6X4uDfH8Nd/iqy0FxCgcVbaYVknNYE/himS5rZ/q9f2Dv8AQzeHDj6XKPAaHWkuM6pjimQ2JmhKv\n",
       "YxGFxSTHjECt9VTBvrqP2+QumsetSpESTciVAVLUcYe6aLZ7FsOOMX/dpCzV5LfgSbguWjO+SRX8\n",
       "NgLje+Y0wRYGmZOzzriVbYAALCWzJBNBNgZ035ctJSRmuQp4j4qR6dIFETXKoOoc2gRNAnpbCGJC\n",
       "75AddI+Y9SMb+S7CJ88CNXimHP7QmVV5zaQKCeelX4Xmb3xSG3fOPkfnKfoFcd0OGGgrIV2bo5sv\n",
       "TM+zZ1V6QBb7HS2Pd3s8jrBt8yMHoQgxlrl+p/h7gVucUrmGiHB4BJp5tJR+8+SxxPd+54B0Rv8I\n",
       "sMxQ3n6pXhT3ravxYcTq82j2A8mW40XKTniqyCoO5kZjlob/hAJ4RkhSVWw0K3vcosj3Oesh0DyS\n",
       "Os4eBOyrq89pU0IZRGQn7WNdnPXZx9LMVfr369d+uEZ3wNba6FXbt9I5ZaWAvKE5h9AC6DSm9Vqd\n",
       "7ai7tQRA2Atfnqyx2XWoQGPCppQZxcooK/6Vf9EyihekNjCcKNyX0xyyJ3mpJew7eGHf9yIQsUA1\n",
       "03uuaRdv93/nAbuh2JsovwPyVdByWaGiLn9KRcQEsKpxe4K9usqfOLDm9vbj1wmL8+Hiv2dBsVAn\n",
       "BrGo2hjC1UhxOoDDlA19+aTOw0HKTyaQKR4PYeUyIUiZvjx4p946fiBKiRL5fqzyfCn3iwJ1Jb0f\n",
       "hCj6A5S4GD/LWuCa2XL961lcX75gMpO4zzYJQiBEuv+XiX2KDZDfJDdh19N3RQSDzlL9dCfruYSG\n",
       "/vfg1+ZdQwQ9lHuu2rzmhYX4hUHNvdUqef6IB3a0xSVi/zvYcF0f5poZBclWhP6a3uTTkUPJYwcC\n",
       "lPPb2ki1ehtz1fI/34IYRjz/e09OG60olUbAE2BTqlahOkcETYshbidAGZYdLR0ChXOH7H9kaeLH\n",
       "NKfOLyET6r57BCVeM8YyOhSsC1GVtCRTRTayyssKRyl/9U+rT0ex1F6zLQe7P1Sbb2BIYjCThT9f\n",
       "euGwWoFSqUaK6WlLfDVkRadCVNF8ynwxW00DhZIqWgBTAmNdsmAN0zsmbiVqNTiirJG0OiVSKkBX\n",
       "mwQdrC2GTzmgZ31Wg7YKJzuedD3cliWPcSiVc53fb9gUkRm64RNEx9Js+K+gcFqPxnaHezMhOcFV\n",
       "t+60CdtkfZIgzCU2dNjBzX20971vIYJGlslr/mOgtlTdSunGI7UIoYzrA6yvdPPHNkJtUSrMx+Wu\n",
       "9r5Kj1GnhcFt4lmGBdUrFAAy6267PJdOAZIt+Z6lpMvqj3NQOJRKuaq9A83Lnx+6gye/CYKB8PQH\n",
       "4GPEvyAAP8fb/51Dfd8HB4bK7Cc3uYB5IMgz5B9geRjTD98zISObwsw7FHX2US7p+ssY7aFc9Of3\n",
       "Tx4wLKMoKWkDnXvWJ0EqZINDQAAAAidBn6lFETwv/wAT5ip2Qm+i/ikXow0HnQSnfUK2NTV42L+b\n",
       "xeWfTS7JMA6PAgg/xdfOgBF4ayiKgjCXGDj7hPFy/i7LZb8xSvgQMVFJyyJdUW0HwP69OidSvKGk\n",
       "bDPZJrnqgvebNHqy/COfMDbcqM70/I06zD3X4C5L7T8fUt1iMz8L14fB3cjtidk5TkQng6f4acko\n",
       "AhP1tAoEzAEWgwoRVgTlNjAcJH1AhVV55VAvkB2QeF2fkV43e/UNu9dBGaOquCOnQGu4Kwbxb1ki\n",
       "CzQce0byt22ZRMXnXaGFm32pT2n8ZBCtZXFg6aVK5PrTSZ4KDOh8DkGOfCYUk4aEduVo2PfkleIg\n",
       "hA3pa4MYdNCzzresTJMHhLPwMdzZbNwt7HmrqJqvUwFSXH9mjjhOxM8dmfpvyGhOK5ccyHI5isdF\n",
       "rHrr4hTMs9DJkk70e6vczZ+QWo8+uDgy5wEm3O6M+V2PR96U0tcB1vEv1Njf9EW1k1pys1W1Ax6z\n",
       "VYlhr/pyAz0PXQM9gdGaq1CHjrKeQqpxhuR64kbEZiESvyzzH+XKiuZgt97mqPLDVFlHowzKcMif\n",
       "r+edEpItiJNalHjOSi8nRCZJfg00MvPJJxGIsaI9b4cgndLQzBQPmrQzIX9Bl9X+Ax/NUUiZ/Um/\n",
       "zxgruhYLOR1qWPRzH9x2kIpNtqipuvfu6nPppymfFaFFBx558XNYQuvWmLvYezUpBimX71ARo2uc\n",
       "p5A7oAAAAdEBn8h0Qr8AFitJsMoI0EXJ4CXxQBj7gMONC0N1r8r0Ak7YRecsyTTjhF4DLJ7JQ4zP\n",
       "JEgMIybc9h+QACz7RmVSBuSYR4RiojA0iFZ40tNwFV8IfJph842du1MyOVfkBMnTEwB1ttr1etsJ\n",
       "V/0HR2VZ4vDvr1cLKIfwJdajwDFPpU+P4SkWJtMuBFNWEUod1IC4+qo6+mOI6u8RWdv/wg0AEk4f\n",
       "+kbZ8Ja2pyV1q73irVuQjgc8V1LITIALXPkhA8Lo4jjw/V49ZR7X/Avk3K73V84lGx5iu0IscZt8\n",
       "m7BRYOAPk1KvucpIEt/fs2eMRRdY/gCaWPQxQuSV5rG+64z82huFwExemZBnP7rdGKvZJ+GMmFIU\n",
       "D3AM0HIV6Y9b0YTtIakYMWgRTRAhBOO+b3bM1kqcth8GrkxD/TUGDovCYiHCvyuaB0jUS2mc61wg\n",
       "Y1Pe/dTUC5NcF1M/knSc8XxTwILWMHyenh9pRPos649vpk5/XGm1B1XGP73y1QN1c8pnHDkrlWSE\n",
       "CAGX4eVGCvpePmR1Pdp4VSqnqobKvT5eXMHaPC65oqKWd21n+28Pkt666ZNhMhDjl7TNsorHtBMf\n",
       "hty3ovHj/FZPeWEvGgxKBlUAAAFhAZ/KakK/AAqFfI1HbO2cJ4fk1jg8T64R+iAKJxshR7rVilMi\n",
       "Hioh5RqJjOwHWGNZECb7mYy6RwAFAIPvNQzuz/zykkogQ+HiqXDXRw2oqgo0mKGswwRTJQ6/6Ovc\n",
       "Sxem0iIWIq88yw7CYYuMT7meqY130dQmR7RprjVkbN7y/DaSGHJomHNOQm3VZSP+EPGGv4b5qckz\n",
       "EaChvE2vE30TKeMM0vXANIPTEbDjmmnw3YdGl/q64kSnv8aZ4V7TMZ5b+FnAe5hzORAEEx2D4RsS\n",
       "NUv7Acie87xrFU6o4wgn0nSx5orgExXd+Dvr7bzhgdy1nZeLiKm+4U7Crq1PyhTbCuT2QTgymyBS\n",
       "A6Agiz49zMuJxzN/q9sGCnXQaLBS8AVFrjiWAdTg2LWdyMGsix/UVQJ/Egdvn4IpxGMI9mAsnRvN\n",
       "Ej6xxzEYuCSwdt2ckPEZWV9mhCzgKvGNNbF/1OGAk4AAAARNQZvOSahBaJlMCHf//qmWABEaQa5H\n",
       "4ZMhqU+OmAU5t5HYAjmMVavxNQLhycWQ6RvfHKmDPLLpe71BnwTHLzYn6nr3N4y2XSqqfgJHoPFa\n",
       "yFDj9m89qxmp/v1hO3Y4E+mbvz0Gg/IXFiYKtzldzsd7t1dyCIT8m3WFKCCz+ZqffQnajbaCoHLZ\n",
       "yKy/9UwB2FTOyLSuptVzWij46e2mCINk9cx7wVXz/w+MYNRY4URMzqaQ340jPIC+1TQXXM15G1Vl\n",
       "m/GZw3GXmwVl1P8gRxzfPcn68/Q0XHnNEZYEV9RvzrQn/ZJXkK5DprLm8eIECxCu0xRal53qcYKs\n",
       "8yE/pDqZ++2yCJ4WqX2rextydSfQxp8TL89NCNnCuE/Fs2XDxPK//C3pEiTuxqgMKTqvxDTd+Jok\n",
       "IbkCJ6TV01VUvFt4VvQvZbbAo+TJKUqgWywof21ch1EPBlXQhbBa2zDpUgTF/2cW9O8f95/qlZia\n",
       "ccbdKqh7PiGJgn7LAaybFPv4qYb08T/q2fJaaEKq/4GJul7HInCvDDspgcd+4h9OdTFCSPvmJr4s\n",
       "E/FB+LpNLfro/ZWwBDJSI6z/TsXAQSjV2KUunrKH9wJLSmYqq8sQxgF3GTnsdr4xRRP+x7Nrn/NG\n",
       "+mDoRutBJ74LqJL/vIkpGo6IgXqMLbl5/t7RWbfFp2yzYpoRo3GCg4kLBQR8OeBkCsmLXYKjeo5J\n",
       "HWm6YrPtmnXpQ+hJPBOsrwNGXR2jTsWvjrkl5SR2WjIp25Q7KFwCKUkpeB6BTsG+84HZvgTzhdnI\n",
       "VEEe3vxZ5aLjNtSrtmrGDs5jZzY7B4RucRxeaD1Af0S8bPE45ro6EuiDBqgxXeQLekFyfBxPbJVk\n",
       "drrUInobFLLIuXX1WHSReDujGJPnLJQt330KMljyR7YZEMh+aEUqPgfGdIX8tGuwYz5uOF9K6aDz\n",
       "xaaWkksdpWR+4ZVfaOPRpDacef8n5elCpA1E/EvnLhvN1ef9B5lSsi4YfSwT5fwhG2DH8DTgXccJ\n",
       "feOnew8AkDT+8Uf1yLB7INck8KwgoKcUDfn7ude0GpdNJzC+HRDA5R22Lc6+aaMvqPiVThv8J5B5\n",
       "oKJwwjQv2WLaAKPSJU0IGlQR91VTQLlx+L6ipcsLv9tlMRnybOl9IzhCE36uM0CuBJHhK6OORsAy\n",
       "ODWo7naDNerks69F+afEvOkAhE5IyVSB3+0TplafXQclykhtec2da7GZsMiV3ap+ieVHt/389VtN\n",
       "uaDTS1uY35L+r+7Dk+fv3HHqZ+k865IHB0moUxVdCwUEoT6EgOckgqjgHMIGliX84LOAg3kHApK6\n",
       "3HRwjElHvUP4hrZGkF30cSvrkUzVk2svxKYSTdBJDtK/VetQXj1nXgwgI+Jux6Gvnd+MZnK2Mu0y\n",
       "LKjDFwb0T4AcfkAktw2O3cdTzUmW6GEbamwbZykDbeo24Pf0JCjqBk6rLb2KvloCK1iagJGAAAAC\n",
       "VkGf7EURLCv/ABprDafceEYkqAMuqqfvpJ1osAsGXmUC76cnRiuCp+FlF7o1zaF67mVcngKeZh2w\n",
       "xsMPbelgj+N0xpxw6GobFqrTig2QYVJU3+cIsDUAJDpphAzQFVEsazBWaLUW58S/hmqPwr9n580n\n",
       "BHUJo5GoUVJuaGtMCmHtiFu/0FBSvYUiqvljYp+dWwfsmaGAgTlFFSK1E9UoDZBi1wvEbh4tvVnI\n",
       "g5abWMyUGkuFU4X0g5V/u/4SLmLIZNpL9hnfd2SDBvqn6DxFaRNDNf4nerT+k5RBk4ntH7xoxIO1\n",
       "9XuPtU/EBpqgnrwr7+eSKEyC7fpXmEXodBpi2Tjo/8DaG7JKKsMGDSK+WXp87aHhkN7ppkGzXx8R\n",
       "q1C/ryfpMTC5KHnJNqzV0oLLawTcCLHF5yMW+fXtkw8lVAr20U2QqdvAnmvVO+M/V8j7RtTjW6xz\n",
       "Nui9fhJKTYJjQtXfIda1UBF9Gavf0qP6/rknpNjLjqYoytmOACHBHxpW5K/zRKNUNu7QHpumi9em\n",
       "c/Zi/ZBma5Y5RjwXupGUrBqmM/AJlQlqii77t09ahPaZcTtKS+vrBSoKTzks+SraEqJ8csWR3Xn5\n",
       "z9MB3ka/0g5i5+quHnHmQukPbg7KQDRwZC50Pw21+NX67B0TCIomXrbCiOPV2pUkvitQMMFbVZHz\n",
       "dkBOb/1n01cMe49Qu1ffg4eBL8kqhhTYiMUxPVMAh6UV2ER0Ul75tUxLmfomsYauC73EcUIK6xyh\n",
       "6DOY+jJVpT/Yc6YtvwNkyRN9/S8QqcDqVCVgB6UAAAHlAZ4NakK/ABFc05lPfeAqzr4K7ilFzPZg\n",
       "fOtxbQ90YkzCkwgy8oCGpQ8crYlbEuBACsMhRrXbGiLmk2F2VaVqJj49sSJxjXa1nk6KsxM3tQqQ\n",
       "AadFngus9Ju67NWdbZqxsXRxKHQT+aa/uhZ7oZQ/gN0nkIcHKSbwLj/aAWHE1/YCnNkeXtOgpU5F\n",
       "k4J2Cc2dHvP38tNrvDlizT9jtv4Vmz7PecL/blgsNoBzqzxP2Plju/lq0Z84etZpsvEdg7mozRNe\n",
       "n7fg6bBv+ode6Md5ByW3H8aWuNbD53PQlQEDlYWBhZ/w/dOlAuWFL+EoO1qdIbazGpZF750ax+M0\n",
       "FP6rWnqr/9fCJ21WTY83rWvMb/wo6evgp6n3AAmclwJVtzp86EDSz3BD5XQURyzG7YtsCUidaA/9\n",
       "J0NVK6u0NFG1VG4LxZrB6Kv44OPMT68//ECtZ6K57SLtXslT+OlAiaWzcVMpBm7JdOH8ZwGMx5tc\n",
       "ILn/7/YVE+UvuW/cBTcslIDUjmSDi0aDrSfwKawuoIsNn+KpBeWF611rDQl119/1sFHWkF9UCGb9\n",
       "DczWHOF0yjzBPm2s/QLssZWdP2YnKKVxg2ovrS72fGBomYMp99svbJBv8+fqhEPv1fNmGlhWYQDG\n",
       "JIAA9IEAAAizQZoSSahBbJlMCG///qeEACCnPw69ZYtzoACtlpnjwWD5XnxwCVSuBcKYYJwJc6H+\n",
       "0BiJewlZxfNxFUnYmWPoet4AAqdv77ahUnNg2sBwOmsHU8ZAMNE7ibyJqaY56s6GEcCD5zOL8T7n\n",
       "oazIfn1bm0lbfZ1ZjCozkNoBy+06hsIrSUQ3iU9Ti9dGHa5g9pyjAfooQmIIWfL2QojJuCzM/fUo\n",
       "OEhKiHqOehYBtl6aJ6vlID6U/7mKyY9fXg440n5Ax4SlwYDcIbFq5YevgTz1NmxXK1cY+GKPA/3u\n",
       "omXpRLZEAeDZybCDBrk6mIJfIidGbfcDFk6ZPcgSzuosdkQ809YOQL7qFxu9In4TFvgIBmxJohK7\n",
       "8B6AyX52XnYPt1xnju02MhG8hpcl5FgGzRGD0W6L5ZtdEBYBLQhENl14ISbAhMrRXyRqCucUp+Ps\n",
       "eoWJRgoXD9DKSSKtzlWeAk4EBillKuIHKM4vkOWxoB05Ezpv8eIEbvFcIg3LA3+BfBrT5vojtL80\n",
       "l7ZFE7Gp3tCdcVexsrbxkVoJzW8M2B+NB/VQ5OHVTO4E+D0rth7+MqpMj1q3Igtl8Mwfaaq50Q90\n",
       "2oQEfxGbUr9VS5q/T5WWPIKPOjoF50T3tLs+UEGo0MpsC5RSriFCSdpL7igJcF01Fr/R2E9trOJe\n",
       "R5jzgxOara8uDIZmlBMRmEDKF0PFe9UBh3E1J4lyB1ycwtBU6iGUZBAuzs3l7GZ9Tu/4x6jFYpjh\n",
       "ykmHw4QHrRAQl+reSACuz6UfmNHXeY8mmILZCYbhWxqMFsCXh7EMS7lXWyI/2/LFO/LtuZpZDlL+\n",
       "hbDeYecXYOv1cnuGA3NNPq1+wBQua54u6ZljjEX5ERYJTviNs7y+Lptz92J2cgfDvo2vlpSBDMVv\n",
       "/O1bH/9ymAaFAHbD/V8bFOvBzDzt990xbF8CcMCRss2O6yXbWZPcHN/ac28a+uka7YOTPgzXW8OA\n",
       "p9lo82+qCfEXO9GfKrKrsw2TBOE6Ptzmmfdqx65R59bkzyzh5lNjb2Trj/WtLZXiW2M22uaKbWxY\n",
       "KQPXAlX7ksiDsELZJD8c1hM23YOj6e5gwXYcT6IyKokT692Z2oszJ2reV5Q9NBuBkhGVYdZYDWXo\n",
       "c5V39AUhZ7ENABt1TWSyf7d3izq2Gd1gnPAbAaATl2kIl5vfD1GYhcW+hUhEEec6ZB3YbI05Ni1t\n",
       "fVFg/Z2438EjB24H8A91ibdcpRe5MQ94g0FZ9ElQ4idQyz0iEHmpCXEPfqmFhw7DBmFTvIjhf2Lp\n",
       "wyK0JGxybGahNZ25uJWe+BG0PGFn/ak0f8DdNAhIPOaSCI1HwapDFIZnVuV2dHeS1y633e7/p54K\n",
       "f7fOZE+kOFP+prqbnVEXF+WVBtKY7mv1neQ2/9VMu4PhJPkp772Un2Nvg/Dcgvtm6/073XYxV65I\n",
       "ont4c/HbQBxNqXEh1yQtx67Af3K7LP68wgg3gDWnW+4sFZm8LTAZMgOgsVp+/v76cUCILJ74+PSL\n",
       "OUBTrew6V373BlGW/TRIzQygKZ/GRptr/XZDYoeNsz/WVNjI1XMftpwCCQbhKjFsO9Z8K+35tflJ\n",
       "gJXdnpbwGUq6VLv1JIdzQyRCPw9knHjnrkPtmm2qdX561XE52gGfAdV0/gk/jxFbgR6Et5JBgqGN\n",
       "2esgYEPHsxpH/XyI42jAV9zmRdafizCzI4UggKHIKBgWxC8iPPXr5vGVfqD57wdihPZ8OtIABe0g\n",
       "OxYdTrBsBgtxscRGtqK4VHcFh9A4vC1yPjbdrXo1nB3OclVrkoh6bjyUZztOER5l+NeyXtDxVfdo\n",
       "rv8UAfjp3VR3+8gk6wj0c1lRLko/4dsPGmSnP8PzbahTofxECS2upZxQ+Y3VmEMq/5XY+kDjcCrS\n",
       "+r4BiRkfNtWvArb6CNim2P8Rf/503e6RW5zmqk1oarRgQyXkk3v0AdAmecebcUtzr9RwPMe6/7SN\n",
       "XiWWRWmOY9DE7YzSFczhp8DFUSFzj0OEJH3Eurm4C1jaYal9MoYl980kVrgJaAaOOseqsYCTYXdk\n",
       "NuZmAPMjWe5PILyP1kopKHFEc2qaBQApXB0xsUAGbgy1umjWDV0kZDMFmwX5RXHRg1X1lPZAtOzN\n",
       "Mkvr+lC/qNzzvGe2DjgnwvWTSZxeBz4mOnmnQvGpMrnSNcyQsUroD8mCB6DHdgCPv5LBAtKNPwQl\n",
       "HGb9/lxCRVE0f5XSL27vKfkFqvNoVubKSb+FgggKBzJ8s6lniDx3QLaJKSZmXiU9GJ57Axtde2Z/\n",
       "ZSLQsClA6wd5+b8J8VnPz0FGuh1pJgveGHJ/PXxinpIZZ6+21svepeH7j1jHIIkGgxHGLx0Bo9CI\n",
       "rEYUy8uJ5+wc9uCvrpdFG5HwJzGxdLY2hXzNj2Hbwwm4GTO3n50xatxqVPf8higLgZid7N3rlMdJ\n",
       "ZkZtFe5R2z6a0aCVbVbO3hGv+lJjbEYp28FUeuvX1BfM2tRJFM5hywxER5twoLx5KPzyKPBgE0tT\n",
       "9pMX1/1f6DtoQpgmQ50PZvBNoY3kFL70ezh+wLmj38WyD+LYBoimbiFjuKieuSfxaK+iOr5CXBl1\n",
       "P9/sYkiA6K6eQqLT/safQotvb7U3gxoeRFvKM3KnnKfKjdiXtUL4XqBB8cxyxjTG/I5UpwC3FC7m\n",
       "tYP6S138/f6QNnye7X/6eba2uf+VsvgZt7sX0C7wA0d9l9B3hkq22mZH4CgitscTLzKYnCfwrFlj\n",
       "+rRkAO7j2PA6v9qPKbEZy6iK1fLRssx11BcwzxqP8tEkzMYC00oNPCSWO+pkCDLlSO3SHgZfI34H\n",
       "TY6UBLx/sJKIjREPvk5rHB17WPV60LOADn5zWe81tgeCLKdyMN31YD7BBmP4M301++R1Mk99I4HT\n",
       "N+Mu2nJYPqwWoaFTkSLsrHUI6xYgpvP3imCNrk8PrwhS8q9ctU7BYtAT1azqKbmRPo4dHFC5g1Rp\n",
       "LM3bbujpIIugOYhBCwAABPJBnjBFFSwv/wAUKwOdeS2yq2N3iulZqi5e9YubQ2WQN3gBma9pylEX\n",
       "T5fwTAT2dYlsHcRv1yAqbZuKdTgaDGrjARhzQXkYxyZSw9R6qi5XJ/4EQsNp8n00lN/UBQOkqDLC\n",
       "t4rTAFE1yiYmzqR9t+X42lZIOFM0n6emNhNkh2G0h+b1sygUDze4ocvml4qEV4XFatOGCarYyVQ9\n",
       "Jgi0LZmioVMk0TSlTyPDI6VcuB0ndpM1pb2a7NiCl8yik9kZqT/8vu7jQIRy/tA67Li8U+c/ch/N\n",
       "Yw94navOYhQxnNRtUfhvSFLU9VzJfE/USoYwOEwMThdZr5sdCMWiRdYN56KX+4PLEmqQFkTKM2wP\n",
       "YfCL9VAWyYfQANXasruccVJPeHsGCe4f5kJu9qYOIpgEGjhWrmi1RXK7v9AsFUKl3iUsYgSMOMMO\n",
       "QpGfC0FqcX3OAx0pU3Qf71Au0HIvYoHq4vEdNlPD+gWalyz3jUx/eJ9fP/47/ZLL2DBAnxzhWvXb\n",
       "RSc2Ql6V5UC5wjxge/HUGh7EzbSgYl5653U4u6XktWXN85EiHS0S6UWP4DVx/R8+zwIXcWMczjd1\n",
       "EiYwkiy74gshZ5GTfld82m0fALJ1JmH+/TdKCU04thNzHpuHqRwEOxxCokgR/8mRjByIWJTkNvTY\n",
       "7o2s2GVHpLkGJr64FVB4oCSEfPPOyDDB3rEOYAdte7TCYKhmeyS/dQLA0rZXEsElxQPvQty5tsPY\n",
       "Ssx8lFHmnFKSL0E1qpG+xz0Wk/i6d4NLm8vnlgUGMGSKxNpAtBjimoVNFDxOZpOxR9zpr6okvy1Y\n",
       "Dai084hpZBZ6xQp5xqIYh47SUCIotjuo6DG+2CcjpSZIwcUAM75VCJd0g3tWyAVP8vck6Y0oAJ+3\n",
       "27j/WvlIZ+EMxfAB8DNsoYnhWak92+7sQUfszhRT8ESqj9BcfQm27h2hy6lghgBUUOXVHoD9VBdz\n",
       "AX2OpSyvxttDdy7fMD25kgGaooxvEwQlDM1i5JbmBEu5IizDBn6lGs9gycWGsJQ3hzGwf0YupXCH\n",
       "/a5J7jD0K4fOogE0JYhozNuT3FXDX3+pdb+hzBq7+X+JwViO2PTWHEB5I2TPSjyzjCdC0rMwUFUh\n",
       "U8JXTTcFhbcWt7HL9Krug6oR3WKNBN+9bVQBU+J5T4Gf2/H/tWfx2uYO9RFuTkBn19DJKvW59DYJ\n",
       "MC0xJcyepYQdEewswZt8QTF7YynnDsBl3IzQdKf5TnGBB+VEkfTFA45rY/sdJ8P2qPjhgtZUtspL\n",
       "Xq4xXwzEbvKmYvMGOgVGH3UbaKS8P/HQM2fdoRGjC7miT7jiXPQLHB8tgmiX+BUeSehLTWdeDz/Z\n",
       "IgWfi5w40xk0jiBiVDfck2qtgUjhID8DrGWpmxFW6yYc4IjYfCNaaAEnTuz7jLwR816QLm1QnwW/\n",
       "ab0niN0/mbk0/slZJV/gbWVwKpyLIRZAPDbmAsX0vNTGXz0D+TA5jc+A906UAvrmHpLfD6YHBAta\n",
       "hlS6+49J0LF4OHuwNjWRZRRsAd4ohsyZB+zvArvSroWwd1sYy5WW4Q8hF9HKNKdXeyh34r6RnLBG\n",
       "KJWdxU8634Pn82mtZz9G+ZbQ4dd1tg6uHi6PPUfZCzDZESJW2NrmjgGbtkHm+WAc0FBmFYqOs6eh\n",
       "5E0v8MIOqweP4btSEABlDtIAlv3uxekzFzpAI+AAAAJ1AZ5PdEK/ABrMcbK7CTqAQu4sAdU2b2Ae\n",
       "jaH8jUOw3sA5eNQ+2kyDxTzHRdUqF5OnkAj/b8XBUedm+sVJ4N+jgNmMwG28C1BQRxtQpOwBedmB\n",
       "iGZ1WegAAV+WvdAJng+LUMTtuBmWmOwf/furtGlDY9UCdh8XMzCEyb3ryQAlRAC93ID5ME9rRPBH\n",
       "Hn/vCniyV3tOXZ32RK32DjPt43FGMCRVPAprLQqFGcg/EBY50KFd5HWjTLUPT16uLxo0LRWAIQLg\n",
       "5vU7CcDkTxNT18zBgGtWijszFZXfTPronjyuhV8IWIDjll+H12Gbivysfz1iBjivIyY7RDQSchKK\n",
       "ErA212CHY4DuDXigKadxpIjBg9inhsVBwEJ4siFRv3OxQoXGY4tNYJN3OssTqdUid4b29MqYro8b\n",
       "ih4ductA6jxq9u/GK8SQcUxea+vM59mN7FW4eaVLnn4P1OaAIJMMX9oq3Mq00oF1ZFl5XeH/xj+T\n",
       "lTsHRc4PXvCDbvgf7yYXDS0LsCPhxeNlFN+K+gC9qZII9OioDVtUI5WGzVC4cfxKvUU4kXERhSoJ\n",
       "sOWrT9SARL801/OVYvAjmK4lUnl1O0cFHucoR6ZP0QwKxG1+x1P4SozZ+F7pZEEJAb6AqaerABy6\n",
       "Il4Af3zuegoS5oLSOVSWTVdz0hEAsEVvFqi3nZE/oQ+Ov0AYe0RoxC0bvGMRD0LIdjokVst905MJ\n",
       "Bemmskn6jjUKLD1lv73ZPSltHUwg8n+KMyONWXjN7pWFUE97jPrNMjyuSCd92MQuEOgWvH6uvEiH\n",
       "PHUhNOrnu5pGB4Vear7HigbiKQxrZc2rbbi1Lz2BOG4ALuAAAAKPAZ5RakK/ABunQyoxtNhc8esu\n",
       "TsHrngbI+1iXyXNqGaMAChW7kseo8unY4pWG3/8KTdpD5bulNUNl+eJB4tkTb7uOwnho1rHnL2qN\n",
       "RuHcgdxNyRK+4jB8akKIXNTslWmTjxEYMR7lQ8AAJ2jXhPvsAb/N7VTJqkolwatvlv8tdp37Ypd0\n",
       "dkslzX//lxE3XTEeQJ5KoIQNvOJZvmctTCJMT7cvbALIhxwJcScVwcXxsxzMltsDv4FUIz4TMzOB\n",
       "POF2rFO6mCfnKkn4nEbwRa7FxdfAOKwz1o+DjQIA1mTy+7f9sHIj08k65UooTYkkt/o2pncW41r1\n",
       "6CfTFbOJR3scYi1jnrMgyOdGyLVhrFF9u5v/whEbbEkxtOh8RRfANmObVrmirQF194LAwXn8SMIZ\n",
       "Z4e3fZ2L5KHUKVkAA0vzdpgxZyulwOxLi6SRegx2khWHPv9/bam1ZsvFI3gTMJeeRBgwSaul83rf\n",
       "OVB+iwOiNhpe1i7qzIB+w8PZhGmOWThOaV1V7jR9e420RwopoeWvoMSXYYVPMXWzQjLBxLg2hYSM\n",
       "wluFsLiPmORZhKw8APaB5R05dj2/YA/dJhP0y4CfXZ0uON6vUnnJXfOAa2bhEt8k/8pyQQ2JyvAt\n",
       "qmGPdIwmqUTeX10Ui8O96bHpMomjG6yJZnzM62zcjsSHHUYGQt02wgmkUDviGcdeIfIZis6iUUVK\n",
       "CqX1GSwEn0PEsqSi7sWgJsx2nsQGvxqdwdy+O4H1GDJoV8oyylOBhQTDdLF5qw2JmH9gY5iStKDP\n",
       "DjUJ8FEVAR+lgUfNagtgaGONJfKJnWc9JzpLNPPg4XzLqpRaS/zldU9TwVd4KzCL0IlsQw6vaBQ+\n",
       "1+ulWs9sWoDQgQAACPBBmlZJqEFsmUwIZ//+nhAAgoiicFUfV5qRHH4LZdsEyc39Nn2qgCHgM4bn\n",
       "IIQwOz54dee6HubDa09sFyvf2/r6mzopTqLcec4v4mtkwSsobNwq4CxqSDHKckgvD5ugCjYkudoE\n",
       "gD7Pi7ZucSWssshOyBsKShD3rwwvI+Dn90tYeaH96Aw/pAA2vyy/lrYfNPKKb1xg/kbXS8lRv3SY\n",
       "ayU2E6wvfGxtWFHHb/ElD+DQwGwA3PSegNsnEBiKnJz4cEVxpPX0x10xr3MZfnTa+QzEvhyzGpB2\n",
       "3FPlWUGtwO4U5vSv1I1iQHyIdj1/8AOtRpXvD2MvieJMZ8pYtYClfAS9pJU+dGDSFXbtwgJXvDgh\n",
       "R+wyg5Lez3X949I34yzbWNVYHp+BZfIav3cimrKb8qeFeX9SEdayVgZSOzpwVTsNyrameunT9d7p\n",
       "VLPoD+IVGPZeaS0+5tsjXWE/oHeF3E5iRb05Zg4GaFs4momm5NsUdaXNMUD8rJiq8/Y8tZo2M49P\n",
       "4/NWLcx1MAsjVCy9Eq8yZ5LPve2H9e+u2KvbzUXEwtmWKOgUCojOOiPza0z0DH9DaDDxqSO04Mku\n",
       "dXxp4ge5WoiAWrFApL86DpcbPtP85RWJ2RO3HtftvqB5d7CnsBjLXK+bmS5fzH17Fj48xqy5deTe\n",
       "h/YDqCH7IwgDo3u59EFqYCBPYJRJuta8TDKiexYipJwTKXWxy6J8q6d1kfLFY6BXYlo0fSgaylZ7\n",
       "bQwqxfy2LeNBIMTqbhdT2UbKzycnbvNocH2xy4GX/I0b7JQGNO3DKRxrniiS8b8Jrj/K2RtrfdF5\n",
       "lFfOAJ18Ys6UAZvBnYNRpSR4jfLh2DhDDLfpZ9zS+kATWCObqwLNAcJfZBo2TW4hY0t5Z4XhDK5i\n",
       "anze8JY5yA02/aua7XLisPF1KoWsdakSgI8LuKsQN+VwSvZ2zMse/ylNavfIVtGVU9TrKrd11cVL\n",
       "/+z7zHQxq0zh+rxmHF/Enio+TJaJAZ3mjgAK1gEK2JezRbNEIAMCPslzN8vByMK2aMHa7L8/ie1u\n",
       "clHZ2KDf5yTFJ/szokdml+/s+mtrFN51bMDTjZ6Tf3AXUEDNrfEBjA0aTGlwIyV39AoioG065tCI\n",
       "VW/CjH6L+RA9R5GEVGOFRhxvLEhHBGQXX+PTPavjZiq6EICiZ9ComMjz7efEcCvJceT9KiEgaEDa\n",
       "d97ASGEwDIXp5F+UAbjdUeUqjVLQOurjM8IUmnCGuyu2+4+lLyy8L1GsLOjzqJ4lF+2Xfso45YII\n",
       "JY6HGOgncgsxZClXDkRrLOr7TKkOfJ2PONvuL9RDbIDC5Vwe90ow56y7OqMVNb5Z6yknyO6Z2BNK\n",
       "Y0M0OBFvYP48LE17NijZp8ei4rziUGdK6+4TzSUvyE/kanAw8+OXuYC7xVOOQVZghT5j/q4JxCEO\n",
       "tmV6znSZPdjwWCc8fhQ4wEEMx7bLu69z6kzKzQhpgoXGjaaEHGZpekH+KooVs5O+86o538F7uCJq\n",
       "McamIC7JfTsBd6KSALuCrwPjoUQ16beo5b8ooK0itZODD+ImXHIxehNXi/QT7u13/1VTlOqKy6EO\n",
       "5ZU9WNK9yhy9dz/6PVce+9CUJt4D7YURqSIHlF9ULWeFVU9rossra7cGsg1j2fWeHtYBGyixCOdK\n",
       "wACxrn9N+Ry8WGl+V+qVQezl/RKVIZSPP5Vo97Y/M4ajBZk/i0Dj3Nf74A+Oh/PQZMOTSFgmnjEb\n",
       "2GYD1uLUe8pGRyRIimjQK9NERbEyY9QDshFEqIB27ihnsqQ/V+P3FMAgHM60uFjRYEhqZHoxHjuv\n",
       "aWXphD6jiWn/eG+ua56JeBsJcKVU+yRoSpJT+b1vxWvc6elheyWTU6FxqBu5OjbkiZ9Bc5zhtU6V\n",
       "XCZ3M4qvpcGBjxmVx2Et29uiddO61uu+4bZFpb5SOSxgyj4N6t0WZHjTMrb27f0nUKNhyTkg9NU3\n",
       "pePgjvVV6H47IWGT0Hfw7eMqKnfGoOrXpaXVRz3flZn3Uu+9b5nhY2znK+3AnrGNg23OtHx12AvE\n",
       "6PNpi6APLMotib7nWvDM8w+QPQtvEDVlax7kTu9Hk0H3K/AtJ3Y2P/NxLcU8TJU6sUtxPexTqWjn\n",
       "idr4XACMzkU0UtNl0ZisMmIQWGCmuWmCTE4F3sSMPyGT292Jn/t+eMDp8bXjpNRW4ZhDRC9qcX5D\n",
       "wpxgCI7T4fRWHQn6kBWLK5xo3tO73xduopMkFlHiUk2ONOl1A/Dvst2arhTAYCZI2Z5qyKJaje20\n",
       "SgUFr7gGAzYjyWIPxlTDd+Vtt5qSgHoqtYncIGIOaLqqIbjCW1wZY2c7L60v4d1w3yBfmQ0vp5Yy\n",
       "fgRXWAm2HzX4H8z08GPVqSooXn/oA6QGtrQN7Pl7FgJtpOWsHAbMBALbH4x93Rn0EiUoYK8Yv8Tr\n",
       "GSpkvVQDFhAAw34b0rw9noYZYsOFPSWLFU3MyQ+qjDuVSn62S1/LfaOrh86ccl+bhYjV3EulKH5W\n",
       "8+WR/MW+Y4KueDnHZgVr56HhZdy8/R9jEvvizGaABpdnfVE8jp/MS1EWGNCKPHJXxprbVGwr6I1O\n",
       "Pjcrt8LsOsuJFJEFiV3+k0sf8g+l9vKwrFeRFppYbJRYBWkrVXyBh3EzwvRIQLpY9R79GhBlUkGb\n",
       "1s6bO3H4xil6P0KhlSPTf9KTqGCOLvroVAYhXc3BOARcz9fL2MhAy3gyyvKOdUQ4xNlLk//7w1le\n",
       "f2uuEXslCzR43DY8WNHmdKyTn2mhYLJLn+StoLEKOHbLcpbMx6L9XZ/4ndYJ1/+mLLZLaIlMleKt\n",
       "1lBwMm2mrM8RnK6ukXVxnVlcw/dJcBEbwKgVYLrSAqfRz/Gp1HR+m2IvOxICT4VAswp47m951Qs5\n",
       "vurIqEIr9zbsfrakYnp+NHmzZEo8mRht3bOsP0eN5Ri2unTvTXbU0J7Tdci1unxc3GcC7zYofrzZ\n",
       "Ts60NwrPobPmDuQ3JCvuKVg7mmDbEdVI7W05vm709yomRtVW0+J6bDS8t4Piq8AdW1qH3T8T5xy+\n",
       "RVNjEPzAb+l/+eQAQjryAAB+rCAj4AAABNpBnnRFFSwv/wAT6VwMGK8RlPtmbUWjdLdA/EHWeGvb\n",
       "onQFzkk5+V5e7PHuM+H4RD/Aa/RsHz+F5H6vbKtKFoON7aSyE7ncyzx9NS0F6b55gO0CupOyHNGv\n",
       "UWAoyEf8feHzJ23ZUqtmX8OSaYMv6SAEwEJRKx1iCmHnYPA0jDWw5GoGIw7t84xSyt0Ob1FIuFFh\n",
       "hinZbXWGoIJFCiCVIc20gHl3yR8v/70zh5B6THw/EILiJky7C6OEeU24JDEW8PYQYgeqyBc86+P/\n",
       "52PRK2XFZO0puL7khva4vbpuGFjANr0NMFBmQxEbyV+d+D4oy1g2fSBCibHKPZFI/1fYF5hJ7glg\n",
       "xbsSvF8foZ8vuqsm/BI66JpRlAww2VJl/dl47VkDNF0ESkFadTNjLAmOpnWU4ikYR3JklzlrBDae\n",
       "Pj7YWCTPEDzmKoLeeUUxKMokO+CftYk6HXYmU2x0lARkJwZTsiSqOiFCoivLL0X7xrNICa/60IU1\n",
       "2KgMaS7etLdpBIMWtFuwxq+AACshjaTr97KX2Ef+NAx9W8ng1zKgHXO6cpKeWVObIHyfvotypeQ5\n",
       "T7h072p8D+FYzvNqPwgWW8mOeO98qpfb/91poReEfzKywhXA+EMkeSTVZQScbDu6p+rHXAdrvQ9T\n",
       "ib7t2Bj6ynD5UOLp7lzFq1zWx373+MQXfSQWVeHX6cYN+cdR3UFsayO36FjHhB5IBWfk3xqWo6p1\n",
       "dmW0ifbz8hdtrgjbiieiyK9Cu+bkWbghSgbgGN1ulOvY/HJ9efSmYEu3KuUrypvC9GYnWe8uGojr\n",
       "NnmU7PJP80Nx4ksYDmW/HpSQVBE+XPa/2hRKbyJr8zBbdnH66TpZJ5wZtg48p6VqdesnPKekAJd7\n",
       "/QvfQvgFgECiikmyGH9R0j1+0MSWp6rgxB+z7UL4ixIXgSmA08WJMApN3MLB8L6UtwzXZiPip2PT\n",
       "U9uC307Vhnf843nE2H7DTFe+itW2G+SPHtNbdL3dg7A4DN2eYv6u0CzkKf4rmy+ZqvkmfyepC9dd\n",
       "BZY734Z1JOHG9HQVZCfqX6BR12EY4osVggO0R6gQn7is/iTVSBLum6fAzoV1+duW5LPZr+6tckJg\n",
       "Z6DoGgre65wzFV8LotNEl7VSZ3NPKvaYs5pno+q5/hjBbUPWfPWiflsO4S6c47j5sLVLfBleCyPl\n",
       "CJlm23q0uLrXFf8f/IBwD/miHqPlfQgb71UNoy6kQjSw0L+ffhP50C6AR7qenopzFmv/uNG5FPQH\n",
       "nRR6WQfXwcMY7nZar4o/+HxPPCj8QrX+RYwqyYf83wG0mB4+oFjl1kwRShmykaphG/m8GETisDTR\n",
       "rXlQ3WSzRwg0wzjdUT0vEU7FJVS3eqanXuBu7oesx92B3PhTlD0UnLX1lg0yIGa74Y77gfz/gauk\n",
       "DQijdeviEQO308n+2VV/WwZEbiWNLi7hVq8EquIvxcl5yz6BL9yQahbePRQ2FCsoxut0FFfERQM0\n",
       "ogKmaCuriggEmAThnLsrIzpdN5yX4acwRmU34DpRhICUs3CkOBv0hnXGpDayPtfScxJX1LCbUNET\n",
       "u45nIFFF3hSwptsbLC6PF5of3d+7REVWcMm8wguQQ7uQIQ3posZF6q5i/ndVvWlz07EQ5hKkSbZG\n",
       "RUq6YuwgAQaesefCKf4AAALgAZ6TdEK/ABYdv+doInJK1c3Rhk5gD6PTEgwf8KgmT/wEFvjGfEAZ\n",
       "oaUAKtiX3dUNG84eajTWwgP0dyEWcwKHLuIzGS7tukeptPgIeGyO9sBzMfvqNNL49RUOkBs15Brm\n",
       "iDCncLu7aWzBwv7FeTCOLEs/94jbeTj7FxV1wZv3cHOfMTqeMkAaknN1VvDWAntAjKFaRtQyu5OJ\n",
       "UDzADZZMq+vhV67CP/0uVFfveF0GXNH9BHMQgtrSWh9ySc1fxQUanxX+/67MXASjnyzjoFyQmlF9\n",
       "HGZq9vNL3iOlWA2Kt3RGymHkGUA8vKJ3/n0Vqsn6eFjUGC5ezQzmW65wSyC8Z0KkY4NPZpBYwi5D\n",
       "XLKXyvZBDMVQ9xyXYqcRye4sfezhid9vqDcdYaxsZy4wiGwDeoEgLbsyVkiYA9zDM/E08vJw+a9d\n",
       "1aqEJvjHBnNJJQtVF80xVoAyKAIclZbfGg38BAXEMfhLsFK9NNxFpyX/ffj0QUnwjvVrajabXHtN\n",
       "dPgO8jnqgPt2L3bfcG1d0fpH2kxWt1cPqyvvMJxtU3HCkmm7GpSkJOi2kI4IZFocCzaSzld+XDdA\n",
       "wI/Xkw4UNcPRWAQTPwhskS0V6+BjoSOg5gI/UlCbgbbY0qnNkgfkT7IgduHcfp7oBOoHo0sfTSF7\n",
       "u90qVR6OvLi5UPzacY49iPjaz+7gtyYmlvHcUVSNd+XQG0fht25T1vUlgS+zWV3zyuszBIPxDVky\n",
       "f6774qzMzFf6Ctehe8M59j5SJ8HqO2R4jdKdYJEVuW6v0Lp8bF5ZC7aBIjZPN7ca3EoF3Pkx0ix/\n",
       "Afgby/WF6YgFiBEbnkWvkrVlMqn3XpN9NzKB6qriAd/rQe7Ngx+lnWL2D+Z9cDjp4k1dCYfL4Hzk\n",
       "f0OERn3ob/X4YPyys4a8U8V6RsUUHhvuyMJowQuQg5MNTULtLjtuxDWng0gmDZi9K1TFrVnYLpLU\n",
       "wTh1Pf+2CxKgKoCpgQAAA5IBnpVqQr8AG6Ikh5xEI0Fozcm/hSNL5GrI2soZjT8wSdz04AFnZmDY\n",
       "kHZXwLbhg/ql1PkUM3A746YLse+nDfofXZRbwe1YFFkj3BjQfMM/UOWZx++1cjrnX++1Yw4CahyD\n",
       "I/uIjg5C66voIMnk0h3AbMk/HI5Sz1gBQNkJc5mJyUjk+fu+zM9zitBy810Ju18wQ569t8EFexmy\n",
       "8+/P07B2uQI/Lo/L1V62OJ/CX2qAMoJU5r42G5m9ENIi//EcBAl6cx+dVQqcRRdxPgBI/qaDEv9x\n",
       "24oUVX0vtdAdSA/ZRObT9WZEmxucPao+WMgeDjdoCMqM3kguoAAAAwAEY184Kuo9VRGeAl2kYFv0\n",
       "R6etIHycHt5XqMeMdjumYTqlIaIrQfPuMRrWZDGRqCdYNW6w4JxV3f+IkcNgGy2jlbVkpw0pQAGW\n",
       "jjnhpxbOFfwGiInCrKeDfl06NLicLEoJxgNypD/gBfIGaxyfx8GGnI7hloK0VyzQAONtouGHs9Yp\n",
       "P9HHEveXlTCYmeYN0b4m+QE+4ADdZowXLxrve7rw1SGpMO0UfR6ndS3g74snu4jnSVaOsqgNQVvk\n",
       "rOIkNh8ATWEVHjsasoJytiYnphdAzyv3iujPwLybmycSWZYfet6ayv5mm/LM9SbzUC8xLS9YbPKy\n",
       "pvmo1KIWPlUUP8jC01GkmHClmYHbMsPkQ8pL5+qpc6+qb8ndaE/tkAJDCf7vie+60hKKoArmt/mf\n",
       "1Qc2tGT1SBAW5rTgOcxAPcag5Mc+B/NM5d3GaBdNLYhpgo8K+oq21Vc2Q2myCKitm/iti0GZR7/d\n",
       "1OYJA5P586uKNvf0QFW2VfdFIef+6BvtwgcDoLFWbmFhnF8opfpZRV6pwXWKGnkZwaXgaXDM18AV\n",
       "OV/hyYNhHWEM2VEnMF2mEV42GROJ/Om74dhJorC9ugoVoDBPnaThTU9Th/Gsqekto8Cx9CE3b/LO\n",
       "mz5CbpRQiye7bKluO8vX/g9WEqlouB9Pcw9wZKXMTR6whYs7oc5YF+N9xJWaJq7T/SMbF/iZlzCw\n",
       "7+6rLQGyXmtHlfQ7x/pBrPFRrmdKfMoAOu6LaykAQHWP/CuVVcCfk+QNOibwamin4cy9dYZWGj4t\n",
       "eAdaLutuhgkUmeL4RFckNLpOXnDOCrNs8LHz6aJm7dmikOTd7XrSvEUS4U1uBhwVEkgwRsbe/oH7\n",
       "PdSttXzY/RLuTIyX+VCut2h8wAAABZtBmpdJqEFsmUwIZ//+nhAASTZyJeTnOPdzHDJB866kAqd2\n",
       "fB0OKpTpAtB07xD8402HEyeAzhD6wXdp3IjN9uCTszhD4vjZPE31t7/kBqb2964p1XMU1ylptHii\n",
       "eCJ3UlolY0ky5s+KKOS4hR0lxqPinNfDPrxWNVd9cVt56Wlm6/54htSNK8gZ2fi3i5fqMbbdno+j\n",
       "i5c61VtGH13iabPyyONLpyM+zDqC+gm4QF3417VxgYHH56ScrlLaYOIhKYHowggVOFEawQ9C8qIx\n",
       "jtYXTxlcb6wnFWG5FVVLjk9p2fjcXDsQ4G6msvpjgWXFTgIqme/uFnK2CH3B+P5ugZXbUQgdKLy/\n",
       "2iWTF+7K46RGFQfc5h+WCTjFWiqyhgn1gNI0ctPBvhfgcReInaS2WiLBFv7DNvHqeIAEnuz5tf17\n",
       "Srwtu5pGk3D+hPmWgaJvkY3yssEj9CKWuSHHLG+rrkJ4eB7I9Mr4/t+VH/1IfrwyIEvSii/4aoLS\n",
       "NMgTpQBhi7EZJ65W2WKPNh4KwfzbYRcpiy/jgoS6kJ7Qi35ByTvm72HRWWQNwgbk8pScyLZcCsz9\n",
       "sqCo74hgwmR1OybPlGouYHHsbLZGP2L6dGW382A/9nSdSEt2BMloSQieULjxliw7yG4d/D+F9J9k\n",
       "Hz6jVcpEY9B0JfV4o2NhFTUb0aaQPO+6bv26MNB61WlQCQPZwz7PuWem+I7TOi4DdgWjiISs1B0U\n",
       "d3msVaztjB5Z+nMaMoyeTSZ5QaM8trTlbhO+z1rSqQ6ggvg29AvUj7Dxqg2IGByIF85d+JOD/qEQ\n",
       "/wEudcGm9MddzW9VTvHm90ez0go9IVFiLmGL19VFsMjLsI8/qxm9k9qQgnbpvMmYM1oxni4gA7nI\n",
       "oG0bYl/beaXwY5vpJwHWPclFcvawJYALmz4OROa3j5F4+mMrvecfB2BfSBUL8Gp1iQJ0xa37LSvD\n",
       "ZSc5ZsM16WtREf73n2sWxvtUmD4M1qFtKt/AxbBDVgtCILLfHBpYtv2CNqhfIlaLx1xHLwFycMdp\n",
       "ZLpe8lYDRh/XHVfCHsCnnYfQaieUw564ynjGbZciGKUKr4TE8ICStZmVV0dlyFEFtkCZU11xOuBs\n",
       "rfq3b4sOrzPWkEkAwjMzZ647KMP6HvVvUJs4L9ANlAZ3J6aRUkbBZyv16EoKHdSnCozmpoDuvI5V\n",
       "Ch4RPJT74S7ftvK3rwscjZNsOQz8rUBQ10Kzw0imdIBxk9BAFkGXeA7IlIsP3FW/KKDaj3VqcLt2\n",
       "8uljk41EM4IsxxVIfKiXwRA9caple40/HNvM1bFXVuPWUBApnzcTb/jGmsljXbmxZqpL2jWDG0+p\n",
       "iOId/yooA/vH2lpVIZ0cIbr2xhXjxIMiI0tVNKYWqNCDxR5fG5bM5kNRSHRq+JqGbmftFUWGvW4W\n",
       "i3jyrk92vZqpqVFUxCawRnXm53lEyWWM1Ow4+dFSr3i4tTbYpyY8tMIGiarMsk3tIMHnmI2ypLmO\n",
       "zVXgqDy6K9kIAEgWAvtCUqAcuU9XR+MvWwyp0H61PZ6jStZcERmGYrZ2CmVaxnoDOfDjN5QPSjqh\n",
       "7brsSq2nYIvejjIKZtZATC8WK5wjdc2UqKZxxWrTV0uFbji3HZkkl+Wsrd+RTVFKEAxOzWOqbiky\n",
       "VTnQ+l7hVm/paWUZBapFWkUBC01wTxJvyri9U+n76P9cTASmpR4NYOS3q0MrIp03ZxHBq7+NVjQ7\n",
       "WMocfiHv9wxKQsWvL6vvJqvFkcONOfcwEHTB+EhfDKgik7feRW6q0mLpEkNkpdCP1zjJLd+fr6G2\n",
       "0YAxkVjHiFp4KW7/dWE9uM8LheGdHT9f4xE/BwL7V2oD1W9Qol8b9Jq99IJShicz1AyVb1kD/hhE\n",
       "Y9EPXsPJF4Zp7qhtj+YvbcUMxX+FsReIoipJdqjMhRe7AAAG40GauEnhClJlMCGf/p4QAFYdX8t+\n",
       "1RoyjqyCjisQhs2/uQA1duuQM/rBUy+QXJqgAY46wyZvgWr9QTa+gpnb+4itCjtf64b02uclzRbS\n",
       "hkKVAcoHzcj/0EKvV9u3ODMnC62C3K5JBWLYJUAnI97hJLhBeiuamoFYmsz+JBiq82QT9BsXNevl\n",
       "MhtdGEPZYihz84EEahDuE9Lia+b4Uz7RAknV5W2mo9JQG3V67TiEIi9QfZePEX6+hI4ZDWpuifzc\n",
       "gtRJIggKKRAZiHzUxg4WeDbSO0DocoFXq5LC38HlvaZFvlcyM+5gCbxhi4CcDLXsx/Nyn2bjaE4y\n",
       "zzEZybhZ7cCDgTLx1r0QNbWAO68NDOR2H3BoNWYuQ1h1lRjoDVx999AGaKrxjiK65wj1GRU3R15m\n",
       "KPS166PO3u29KIOxQVf0dgobzv2bKjAY9K2SIYpu1dUeY9g2aWLQhndZLvmQBWDmel+K0ULkS/wX\n",
       "T+FGjt9aiKxTbiWMwcwZicvuIdyWhwcM8uidpxTu+8bZ73oU6KywxLXKI80qSg42IKHP9baXtCDp\n",
       "5q8+SwJjx5XCvZEaCP3dUeeOKOf2MJw3wZkFVtPpTcERTr+KO32SsSjS/JEV6sV80cWuqktkDtZ9\n",
       "RlppBrn3rW6HCIOrJ8VsGzM3P4UbkjMMYu7uCk3/F0Pfba54IIt+JfdSdQla2/BOuX3bn6KcWW/y\n",
       "+2chTM3vlXgrBmua2xCQGkNi7YBHrYUqwrb7Bq3Hv74P4hQ3y9M385fdsrCOTxD3VTNkeXkb4x6J\n",
       "b4htG7+/8A8mnSrKWYbR/d+oyb/wW0zN4UJjBT7JDdx51ABCTeKvbKy3scCcsev7MRhHal2i4+7r\n",
       "lUaRpZWuWL4dfM1HntZk76P0odm+uErDVMNmgd2J43XboznPSqFfP2i2JAeJiRU8ldgDHLi2DAcb\n",
       "qxzTu+Bk6I0N75iVlBbhD0TpYqunFrOFYMcGTEHvJ2lgh3ua4UvCa45/vjO7bv+NuTe4zqpSmE1b\n",
       "q2Fp5eKXlf5PHxP2WIelXQZXtlEQPVTCXdtq796nCwGmACi8Es6wwz18VeL3o2m1o/3amLOugY4b\n",
       "gGxqutlHdS4FTSxZiS7r9vrcRhEM+7p5NFcBDYQjQ9pTyzaDlyD65e013sLovymoRSE0cJ62Z2XA\n",
       "spR6aA7nHHw0yvGJTB6wxoqPk4xo16k0gHNWZjCK5FIDGn8wPeJAEIL08fY8NYxYJVH65NNZUfrI\n",
       "DanBc8LMpbqRUDvTUvFJTFFsAsPxgstLXRAKXXiEuVC4BmyLQoGXAUJNADWCWSyMOkLScRy3XWBW\n",
       "zf3Rp4utNVwcVmKRbmAwC7u4rk6CGSGARYkcD4WgnRLZWLwXz7JfrI4bc4BGWBKjHr1bIjR2HMX4\n",
       "ZWh8JStjiPOumCeAVtjOZ/YAe1VCQ2kNEkdOs8SWWdlGxwP41OtRGZ3MuBXC9jjqsleiy58w2JV9\n",
       "LaQgvPFzzQYG+jB/u69rOgRxU2OHJpeGmvMWUNmrSmLZg2cnMriShzo0iktUc+LZte6SXJ7ARemX\n",
       "JU356X2HMgBAGnhgWGqlaj69aC4LlkjTEbP0ZB/0+PU1FInNlMUFmYTuUrBSZh1LPzzImhCXO8cC\n",
       "krFuc2KGgzbeiyTRcaJX3/I4O0BMiOk/BXwFpKjHVsiInbCdIBgo/mLTagyf5lmLTtZyt4erEnbn\n",
       "rkMjcEQInBipqsF3G0b2lgNu/YQqA8R9V5qxpWNSTYszCPAPu3dzAYQxIfg09rmN5MdZVoB9nOKu\n",
       "UcDYBEd5CjDSHygeV/uyDdHWSSG47wEFFRy8+u4uKLJLzZNKFljTX4kqlI0nHRrbEfMxETHELktz\n",
       "v9sha41uwJ1C4K5fjImisd7L/Q1kdpGSxlTL7ZY26d0UzRASujwqdHVpVTfi7IwdAOjx3rZqfdTp\n",
       "dloEap51Xbp6PtYrL98noNvxW+oi7U1fBILYO+Zqn3eEhl5JnxrA0GkneFiBmIbOgBqfgvtumQh5\n",
       "W+7kbIB4oxTOCVMEp6+r1g5Fm4ezPzm7wTCgFKsl6IL4W/fIKE4JQRIdVIn16x/TMGA7rWYU0IoI\n",
       "N0cdGrCW4UKSGJrYITnIAxITshqeP3irgB62vfh8dFUzCByAyNz1UvoRLvWEPsfpXkLiyICnF8MU\n",
       "kXvSDl+5MdavnB1JkkLYz+GyCCLPJyobtJVeDH5tHKbl5XZPovqOTiP6CGIbI4kPpfeAPvguaB7G\n",
       "LQUCJlcMFXEHIHLcFtpC/FGNiaBd7lsBD+Zth3jUhoxAevMM4BZy2xi9b5TFKkvlnna+LcZZW8MQ\n",
       "kQDsnV3HBZJuxgXxO6he+8JwIJ7sjulNbPe9XAW2W4XBAAAHR0Ga2UnhDomUwIb//qeEACCj5yGF\n",
       "wttOvFDCJUmgBxYqV66r2IDaLrIGf26RtUs3eE/Q8lq+i6TWCZHYMNRA72KsmyhQFRkttxJ8x2ns\n",
       "YpPOKuRc+7kHVDKZoKRATeW95gm69tMg8UoN5AVp/uGG9d+mLVKN8JKvcWhchatY1L+RoezOShhB\n",
       "FrT6uQxpjeXAwOWRgty+EW8SycL5tbUK3qj8IqT/ZsWvugnixcbRNK7gx27W9DWOAqiQ8u1OubCQ\n",
       "d3e/hNSY81a2l++22QpVbK9iUZQ1mVq91S8V9z9CbmLyy9tUvZkrqwKjEqorL0ohgS0fDr7kjc1M\n",
       "yk9Z/FpFOknjLi9t5GOvISSxvB84vdQHfhBr1DljnbxRwUdYyP7N53rekiv1tGuT5gms3y2Apr5+\n",
       "/JN3TBPyqplpbvaWpYvKpUbM8Nze2xo89+k08gz8KRVyxYKjX8w8Wn2yrwEE+POjOcJhJWOWtVHt\n",
       "tsKEtF+CiuFLtha8nLgV3Ct5qmk+xPq2XiAu0/0Lsku7onxFVjIqsT2YMSjQKz+ca7JeT66uflmi\n",
       "FKrH0aGiO09w+cFXbClgKO1IOSsE940sEYVCJQDom22x9c0ZJdWduxK31rUnS8UkfIwfSZf15V6Y\n",
       "NENxmzLdWMedKE/gm10A8o5kfI/BWCYJI3nRevr+9A48dYnB3B7RZvBIrZ+YtW6AaTA+EQ8wMM4s\n",
       "59QZY4OCeqIntIcn6INP49qoeMIVarF5fQzRLQRUGFH2/2xJWwseF4bxhPx9ZAVx8r8Z7bGz3ROO\n",
       "VmNV+y8DGdJIMu9tU7q8F4gzdvuEURpQ+RRhcwzVVJtiHTmpslUFBW4OfUBgPdvZdjabRfnOBZX8\n",
       "J2ZCU1cLAzom50HligHeyhxY/kDFsb4c+4WC3kiMWRtC7hZbFMpPDxr//rxtGBZxm/48761rR1KE\n",
       "pnI8YOk5oYTXs//fqVnyHY8eebll8e8sIsvlfu9Tc4aZ/K32v+lggSHxqYPLH8V94EdeISpDvVQa\n",
       "bnqVNigjeAE50j/scJQRrJEK5NsBpYd6uUYvYJ6FtFcRxJgPjGTgISfO0FNfCEXxfNKnLiywwEB8\n",
       "FZMmNMWQNTFmn3vIYpfBHgLgoa+wLg1OM4r1mm6P/907DgdpA2uSoBLTCxMKTP0pr/+F/P+MnoL2\n",
       "H/W2T2UDAgkBy5n8W+trHWvmGK5ZC12mB8rUtQFAcdMU0+yNDSWmfMvthmXRymir1t9g9OfaOWwg\n",
       "ekzhs44uo2gHeFssqbqzD4c3W5vAKAgSlUNEAOOSXoTtZmWsjdzAgykdrB9h4EA0lkp+sdHzTMit\n",
       "YcoPJjG8bDcF6ef/FYlARU/yIex8S/mo4H4bui1QfmILxDiRvVX6HuxxKBtp4AFzT7fcfG+D9oqf\n",
       "My3YZnoGJVz8jfLyUN3Tpe7ZR9E65klMOz3OlIK89Nh8oD8GZJcatqIKa7X5YUsGz+dH9laPKFuB\n",
       "vRSTQB2tobDkIg0+Lq4Q27Y9xqM8OXPAye+OagDtN3ETKMZhvpnDaGhn0XCKktLBv+zyOb4gCWqF\n",
       "LKJHfn4O0Q6I8WHYzbpcr12n4jBq2iMHnjoqsH6ZVBxdcu+MXw/S6/0L7rvPk4kpAzQPh6QkiU5H\n",
       "0I9hDP+trE02+zQwktvabWDkFRHX2t1din9x4Dn7pXkUUhgbFNxK3ab8Y/4hVBry0OwcGFPKxZsD\n",
       "H3RDuWt7eCLbpbD7c/uxueZmxdQPWlxHazbJRSEvJcIJyg/mTeciAJNFLKDC+eQhUIkSTxWRn7VI\n",
       "gDC9nGYlSCI0kPV6P7R72SKV78vW08jalCeuqzqZu/NnI313YzxdYzAJQVzQU0nOcYKnNfOYqHei\n",
       "E6hejvS/OHAYwEuAS3YP+47clNfZtfTHBKDWs9sBktyrKUR9GetIz74VSjDQ4iYPzAYHrZF+Lff/\n",
       "PcK/UT6PlvTo1gRU1sEOmkZB6hYKos0R4b1sbHcgQg9O87SkBAfQ/ecVcPdSRwZrElpyRFwZVyuV\n",
       "IAF/fU8TgX82G0c12H3ew24ND0/Z36z/VDUL6bD10G4/DdKxTFZA2EFCtcOB/yETn6qFmUbfwBcn\n",
       "bnUnaYEvnTO38eClEe5B4e2LDcuMaWzbG7ejDcpOrIdxF6q1ThP/8xcatskZ7XREZ9MTfjuuBHXe\n",
       "fbagE9AVsBCsCw2AVVTr7lod4IwccPUaZCCgLk0KH++IeZEIXF2VItv2d9YUUBktW8MnJooAGtBq\n",
       "+ymwXL9oMYlN1fTAj2gqoyucfy/EAzx/Q7M7KVaPtLHE+g1xlcQbBZCnfCMM5xCnfL+cGZpJAfMF\n",
       "ZcPal46N+6etGwAFg6OTvlo5IoDgk8G/5Jqyefa/LjwW8FJJ092pg6j2tJkoRDFUT6vC2Oo7AEqE\n",
       "fk07kXh1WCE0ulrz4IGZ/Q4LqIgiBBF8x+UYYOD3Heu5PwzQyHpuS46moG9508Sal2fWhmwrUl/3\n",
       "3ZCh1jOFDgV0eGimEytmm2D7sAAABn1BmvpJ4Q8mUwIb//6nhAAhnLzmC4ACGtIFJvvc0Xb1WIyv\n",
       "Gz0vasVJQkqGkpVvWusqqlLFsGGtXYsmP7fZqTZd6UxOW96CbJ8C0cycHlKYbfJCwsVoVoskjDSY\n",
       "DhLCHe9Mp57RulNpmvw7tVDiWvO6vv4zditB4jmf1dhyaeppSr5vj/mFUiFz0hgZh/rcmED+trGG\n",
       "Gixu1m6IhGYpm+z214j142IxicWesoeO4FjSPweGo+no7kVQ75H9+IWLXxICmJVPUjSxtM83oebm\n",
       "FA40pK8bW/NY0NsVAiKqII40nWC3M0G/z24gSzWZbdcsDbsP3aKyzHkNEKybkv/4fPF70aRp+sXV\n",
       "IEfOKMMblvEUyroHruruuSykF+YV+mAxkHjLfQpbZ6Qu3aYGeXrRxXYR80p+SCsqJkR+cjpqRGkS\n",
       "tfjERK6luAmWMyJR0XHxKKRJyJzhBVMaizWidw73e66kQJl/NETvx2bbaBhuDeuZu5TT7pYAbHwp\n",
       "ly7l7xaNhFqShqmmNe3vgjp+a5PPTA8bO/cVAwAhxLiGcfggIp4fAGma620htc3RHck2nyTNO95u\n",
       "rYubXGkgNO9BMEscZOTDHOnODtURd8ag/vET6F5XUOAONHqMBABHQqiHOZ/4N+CgKiORP6rru4d9\n",
       "drFeGTrGnXSRA9NElkOjzHMn3h+WDxIVhbv9mt3PB5+oDCqy9nwOvF5Lchkbe+Ve499sVB83Ww1A\n",
       "CXhTHjBwL/aAI5S0ooKoeYMTr1yjPYw5jCJ5QYaikjtii1qX9zPIYwauSvh1UfMoLj98ZFF/Ic7Q\n",
       "S9VinqlnjbFukNmwzIXCjuLvXqOWZNmYeguIvRSdRstGvUYtUHdqZ9+o3ZHjN8NY+SH9mxg0SoB7\n",
       "PLsd/VaZfYHlMSqd/GuXCV8D7Xfr9HC6l//iCMiWw90H/qTh5fZWkLXwYmM2wuERZinlspa3QqEY\n",
       "rYvU1juuRfHnYJllSGzojyA/pyp1Jlkmi7bOon15ub5jPgDHJTftJKvKgU4AkweYiIXNH6+FI5Uf\n",
       "BGmYWNJ+zTWgMI1JTMP4KLCDCYFOSj7YyMxkbRcOwZU6LWip9bXPrR+C5pqoqqWyWnr0aq5W9B0/\n",
       "sCYN+9sr2KbUAsjeAxnNv3vx3rZm5Uf7f7CAHpxg3/ewUBiS4gxKSDdVKRrkAJkEZtMI65tGUaOj\n",
       "U/1cXlhtDmt9dpMq0XCigHqcuV4Vq9tclAz8jn+Uu9wIr1DYpAvqKyHMAMALjwMUl3g1BUHsId8C\n",
       "GskuD/Sc4TX8nxKKQK+iAqSJV0u9272i6GFaeqtNAzMR6oZ/cGfeJlH5HqGkwcrfZAq+fO8LqfCy\n",
       "WJr8rEL5RnQtxjYKQRchgjeytWzZYUA5HdpdxkrC7rM5KYSlBqbECLwrNMZsCUh2d3zA3xTA648I\n",
       "vURnC2qQtdWmTPimRp5PRKuZ3U3JbVUggX/dgrqDUmsizufEd85zb48FBbhKYG3c0D2dhnke96ex\n",
       "GLC9gc7yqShkYVz12+LH5Kw96baMAsPjxe8SdXS1cOeQFgcv02G+pIk1muFcxJTwUpbDeovts0Oc\n",
       "8vZ0jqhhDav0LEoYjeO4QBzZU4LxbLGT86Dc6/3BHYGmJPo7x2Zf5RmWCT5GmeoVx2dxAS25kFQN\n",
       "9nLw0z7xJS1Iof4Q+rWS/kCCNWdjxFYRcKHl6wyRJoFWEVi+8GgnFPTXmmD4z7Zf4IF/q6vF+YfQ\n",
       "CBvKmaaT9+m00OABotw3Q+x8qZGsHCBWbvqyKfiJcIyeLJVMdXqOTE/6GYCBgRNLosZtv3upjD+e\n",
       "k4lvajQCoxyVwu8u4lngtjsspT+Rp7GXntbMMtmhMOJgk4oSN5i7rgtfN3YoogN+oXff57HLQLO0\n",
       "xpVkiUshz4CHYTiZsU4hy2CQFDageSz08kRqWXX3g4Z0TCTSPlwpifLY9SVM4E0ijjG74A9TmK3T\n",
       "DepML2R0txwew6Qo3OpzHVi0DQNShHadGSdr0barjH6IsMQ6UU0aVqp6za5+oyi7reZ4ZCNTpBHw\n",
       "2Qodm7JBTWXWrc4taBFQTc222Kf5rGVGijImgFzuSTbYDrr4vcI9l3kjdoHWY/KQvCJVvqdGXPHc\n",
       "rDJgRsh/RhaYYFCw1fVQu9zHjiYbUgjA2Gq8n3kWfNshBU0Lk34YPMmSYuk4ejguOY72MhwLtpeU\n",
       "guHGSLiEaeGq76XBLutcw+E4vuCAgPFyIhlXQRjbmQAACwBBmx5J4Q8mUwIZ//6eEAD+/B4ZXBUX\n",
       "0AHuR1jwRq/kgebVc0BSXNkRthCTRjW+R6aLfPCw32BAaDMfHaZSIZcQY2Ql1MGLu3kQ5HtT/MTL\n",
       "Qu6SSGlP/Z9ap2BFVI+y3LxkB5SoSRSE3Ph+M3BzVGnRyQmkOGmcphdPp8dEGLixKzJ5BIlh8SD5\n",
       "EIF1BKDsVOmLdQ3X/9Q/BRPTNVfXM/vWoURC2GwebW7sbdfsOfMXdR7D996C1rmIc9ToAHdAUSGe\n",
       "BrKucAxtcCj73DBupVn6jBp4uUO9M2snFErYvswT9ezuMBQJV0Mdmh+phgQxyl2j8xrUrBVdk+x3\n",
       "VojHraTZXNQsw/Ui7gOja0ilb3gd+5V6U3ZKfUeryjUEaOXoJG58bDmW5MLj8uylj++Xw4EGn7nL\n",
       "KsNAu9GoDqgb+zTsCZfW5zdyUMLjt9yrSmQQBLWa0956rdTDShsUPPrlibytAg8J4rdRqXLLYhXf\n",
       "qGptWiPlrdTJfGNWjxKMlTmnxig3yH81sbRxBGJOKMy06sjiw2XUQang7H4qWDtFPDlIKi4HvoV7\n",
       "dkOctq3voOULu0ms/6fgkbrFdpsRp6C9oJNqgXy6fBWfyucGQo9ZPMdRiGzKm4kB+HIhOw4fNY7m\n",
       "QZb459sy6s3U6qsHyq0imB5WWAoFeCfwEzQ94/KlTD21Qu/VtASy1BZkb1BkiW8spgOn/i3WDP5P\n",
       "HBOlis8cCIHpEQwmIfw5hMzivBUAirjeL4Aex6jl4TQYfzLu5r0vEX6Rcn0dyeVAOcAOg7UF0HEe\n",
       "XGxomWfTs6mn6M7x7GR1y5FpGXSKzB4TDia0PAazsTwD2bnZorDldrzQZq4S9kPeuXMp3oWxEoSa\n",
       "s0eLpVPVyVD1K9u5x9M1oxZSX0DwKyHZ2QNceMwViaT0UheHJno/fC23lKOvKA1BC4rETE+gqENu\n",
       "us5vOm6QaID3Mb28JmiGrxcQhCHqPvupgGbCQ9e149b3GQjB70Mgl358LFDO0cixLNpdgE/rQtiE\n",
       "PoYXntHzXmr16UG/AyHrIu/FhQwueGv3eja1vTe4VfRvL37DCM2dC2GgW43QM8tjbwTaNJRjcY5n\n",
       "79ZWi8y1yb/i6yAaQOb82um+JTa4Dv5KliMklMSeBl9YqInFHOysezmR5yhdkqQASrnxT0xy5OPm\n",
       "NseWFxaGwUQmEjupDTtIAkAFpiJM7BFFpVC9vq/NSHRvGwTAOFZvCmB6ag22nkoexoEM79Wp9xo4\n",
       "UwGsHAoFxE+J2SFj+qakLq+wiTcT7VYJOIJtTVK2p2eLILpLFs620JO/gISNHyMKqtl/ZNzxD6FZ\n",
       "zKeIeXxIXHDOcqJENwo2HFYOrvLsbQN7w9+yWSMNHujfFKoFEL0a6l7XJTVAzfNru+lUqrydxgP1\n",
       "0YHE/8kFQlr9H/8Gd1rIRmvKosibDUwh2WYuHFRyTM1iH5EQuurFSlJ2PFgV6fPQ50EZWTIeekpC\n",
       "eQstVunFpbTuUuN2zJuU6dRBrhbtDyrfOI2idCAaL2zSazKeYtQ9mK4PaKlicPx6JvQd6lGTNUN6\n",
       "9EYWPpzqTOu7DtV2YvQ3nvTKxUy711KxIxcmx0tLtd7KFxSGBTy+i9B28euWy3Yv5NAK63TwNjVP\n",
       "b2flAfcwO2Eb1ukbFOkvNh9KtnZiRgiWVdoQF4a4URKn4gLkMR45jKKb6VZm54Z2Qx0vmzO3hLB8\n",
       "MURCQXyZ4dU8p2AUp0QBtEMOpFkQkYJAXa5EsZFvrAHqs9gxSiEdPrTJN7GtEonAnl1FmMH0Awvi\n",
       "MWal9Pkqw3ssmgwilIAkBJ1HS/kOVKOO5sKlntVZRu3uMBJ6wfbbnxCrLh7bwzWMzzbc1DO8bDU2\n",
       "8exTPWIdVDeaa56JuWaGo3uVn4r5aDwI7hebsCxVUQGJxGiEBBGUb6DfW9GpegU1/k9MG2YYLOqk\n",
       "rYCF6Vq2izwAHAbKBYH5/UNPiLq9d2qcjg2cnE5VRFZ4QHv1pml9XZ6G0nB06RyL8xMIgnWuZ/R3\n",
       "aqudpan1wHftcD+KrMPc6yGpALsTP1lXGKWMokkRIA6E2VexbV2nj9m24WoxdX26wOac08iV8jB1\n",
       "rubbkS0uyXiOJyM3YQ0XvzB+IW8/54f3gvFDPUmZuvbYtgXVAXVemarCg9NapdYPNErkiJZ33oQQ\n",
       "ZodTCG1HJt1iVQr/X7teozZFUEsxCPwNg443WdY1UJtmybzQ4UTjeMLXIfHomGAnlxD9tQ4/0hVg\n",
       "s8pZebPOQybmVl9l5hG7rnZPgdhIGrsSw0KdSf8lFhAIMrnX4rJXuKvsIFL1xty2hILk4ErXtd8c\n",
       "d9xvC0QR93nkR+Zcb1VIOzyrm0omGzhlrTcK9dg/yYQe3ycmnVSgNNQo0+6QuZJXiZMUMGQN2FlM\n",
       "pTEXP6b2g5XRpmTczKqw18MN387WC+KeUfuVpS76lLmEJDd7utZuCrKP2kY6Gw6+aXwaoWHR7IN7\n",
       "Xg5FHruUkHlD5RGHDEwbvlNk6BlP9qpCAWQrGw8NJC9ztV76NDQ3s9tKZZSB2Z2sjJQ7dykcxcxX\n",
       "HjL7LFi+I8K9iQ4l/DIBMakpPU/Xy6Ehr1RbX+GS+/EDSqodJUiXD29cPUQHYXaJeQ6cR2qL46Uh\n",
       "9xqmVKhJCYBn9THi4HpET2dssO6zfAx821gY3FJ1+jlHttPmycv3tZ2O+IXC+F0oB9vRmfQmVxEq\n",
       "9g3AX3QJ2Rea7fXzVpfWEJ6mVXlwfYAIdZBb/J5SmxnXioO4HxsSHDqAr4pLliBaXVbLgErTW1VZ\n",
       "FTpwc5L9xdzSpO9s7IBoCVNfcRBv/SCL/9G1+Dp3Fk/+hn9Wrfu35ay8A+L6VjvMKdZe/kgAbMvl\n",
       "u+ZuIPOn+Pmm0SPjT8Y8Rk+t6Suo9TSbZYPmFo7CA7hqpwS3vbHFtUb6/0Pm5hvi9ndeaZTZjbAB\n",
       "m85DIQbqN90rJQO+aiDgG1tl8kUWpkZphxS044YqezpQGZ4jM6A+Xsml5ukUfMxs3QJcmGVO0Pga\n",
       "00CN3uLx4LlF9CxsiqZmyVlYkPrO72NmxJPL0/Ni5tWCD0iJvUBgucZmyRFI1N6jxhJ42/a6ERvl\n",
       "6wMX/G9YaPuCH+XOTwdsc+OeJcGQQc96DnGJ8DVsFT9tqv4KBmEJd6IJacz/QllM0YHhig1in4sE\n",
       "ZVUtzuwFqtXbk66zZ2aBJ7itED1cZCPoR0kzElvRzbs72r+TxFZbz/y7iCoaKj+eb3+NhkkSyN5f\n",
       "WW6fpNAxCzA/RAu3Q32HaZTFDv3a38FQxyqVmFl9jma2xv5xagTl1l3NY9zDwnNbgRPBvk7kkyN7\n",
       "BiM2c7VWN1VFTXivZe+6TQ6kn1HN+zLqAuvewstcMFlpkyciDU90P2CawzTm0FAADRZ/+rOxTJOM\n",
       "7we2kzyL7nG7rWxTGw+qr42QLwLcVAGc2L2EDYgf6Lym1yHTSzjfYU3+MHAs57Emw0D2oGYQCRbj\n",
       "td0Znx40ejZGm1+TXSSI4izsG/GdwBRKY3GmxigMFjHd9P9Z0R7HH3mQzft4NVM24/DlyY/w28UW\n",
       "Et/fVi+hQRovWezD2kgADRw6OzCvHm3ZU9z9RYIs42J+y8pEH3erDi4nrLf+nx++i2uPuzzYU1aI\n",
       "KG/D19mq/JIVnqoIewoG13KDqvlAW5e7WM1/y2bAheLSD//8lXhN+MpSsF/p7WjQ3Keei9qajVe9\n",
       "Ybcb4JQSYqtz5PT8jWEcNubuMOHkFHp+sqr+OsyADi4woXaYk5zNGRCzBLSS44ESJm/i3k4kXpZn\n",
       "YAAABMxBnzxFETwv/wAUbKlNkAQmtbCjWXk47ibL3ttojcU6NiRIQtxnolOJzAMzwZvXnnXRjrLL\n",
       "y/QydsOFdpXQ9liKHjupayxqJKpvsQG5r4QO5pC7/gPU04WeyHB6iTECE6DzRR4qSsmf6f8R/gdr\n",
       "heN5dO8O0xEMRD3Lw/bvpG9OxEIibpVfx+8YeH8I4xToZ0xR2aPnwI9diayH5t4p58Ts9uLpeQgC\n",
       "k7dGOmk3Euu0l7NNqdc0y7nAJyG7V02uI/rp9rnKdp+LYVozS5nWrnP3Xzr//GpzSwQAp6adrAjt\n",
       "WRSgsZnS7V8GbRT+sjzlYXwlpOcH7N8EX23E5iYjl+ID45BanwkWFbgUIHKiNU+mcDvtDpPheUcE\n",
       "l5NLskAr0GMniy6hizflS2HHah/Krf52evqhRSMD69L7Zik7tPGvUzOtRMR5uFGVMeICzHTvSrro\n",
       "A7QqyrzBEUnctzcgb1tB1hYJQ7cZwGaHQN64ZxDVC7jTcO4GwcWM7aVvPfteRb8wSfXjGWbOJqJW\n",
       "Dw4WruEudQfKJjhFZhcJ9T2viE3NPXrt332OABZftM77NTdBMr2Lnv+W3Hb+DuL4w4O3FV51Pwpv\n",
       "YWMluN4ab1SOgESeN84v7r/NORrLj6dLSoo0PkeV0/Ys6QPPdxfClNM+QljfFPfcM/fXkelBp9JI\n",
       "ZGRtAECiOvpxGLbl1jEgGCYTzGUvSNXNqgywuaHhrgGzMXp/Gx4ld86x8SG9UqGJ3EMAxTwt69Pl\n",
       "kRQ077Vghfa9N1Vj8/sE0oaWjDCNfqGSHuvE+NdTXYkKb3kWJP9/Ql2cOwFDDT7YD5VQRydF+koF\n",
       "30yxT6D9xLSAZXiMmYzRIlXP9Ppu7aZn5Qu4vx8XwXKTaG9jPsyTmeElmCCeK7c19dvR3OM9pYtn\n",
       "j2OrYw03QwBxOw/06Vcm7VDqoqLyKlJHyzQCzGmoax9BNqcTpT9RQ12n0pzTuAzTQ9LaazfSiBOs\n",
       "VJNPN8Is8tuWPeByW1cDXYCWvwc4S0cqlKINTexWpQWNY1N9W3W6IGwgMeaGEUX2sNpQEybMAtmi\n",
       "glagJ7PWTj9u96qyt3XHVRsgAEytviyAc6wW+N7ntSNFDYrfl607xIMOpZuCBMKXCPx3tY41uTNP\n",
       "Og3ay/1OTeu0JAlK99BT25pnE9WayHtiOc+rWoI63fhFkXzl8FToBmhNhoEwog4ozqAT8qW0qvm5\n",
       "BLbw8KKFHHQrWyvFR5cvEhYgfKbdkTZ9mS7toAbEzebsXD6ZzdATRNj47huAG62HIOXiAk1uaPri\n",
       "e7ft+yZCo4hq7kr0yQevkODwHXpZA5Ns5washF6CZfkvq3ZJygRN0ThbVqW/QNc3JwAY/nWrr7vM\n",
       "MLv3AlwW8JxXpsSKxS2OlIv2BbACsYUrJZVRsg0FxVM2mt5zt+tAdDJrSllJgGQHaLwdZ01nLKfa\n",
       "TEHvMJA/juV9dLgjyfv/TbUqSLe5g5Hvjdm+ZM/MlO5Z/asG2MKIFMnmOpAYvuKDhPySMkL8aPVp\n",
       "OBYcf7keDmFkNXWcIOWA8RkNwaPKLOEfmxA5WRWjRVbZfc3R9pvhWdU87u6izjv7adMd9L+bsGwB\n",
       "B56f1BsCm0OuDjz5wpkC5NfgT3fbeXph6hI5G0mLCH9gH/FNAAACzAGfW3RCvwAaZI3FfOgahHFl\n",
       "IaC50pj43aMB8f4CkV/lj16tNdXBCLlLURvr74qJV/RN/w1K1OUZByMSNPDqP9OA9Kom4p19MEZ+\n",
       "Yog1fH29CABD5nmx2rIe/K3c0b33SKca7nS9h7YrChyvd34V+PcIEXws1NXHbiktDDTDlVFUBH19\n",
       "8jlyZXJQgex6iDqgGY/UMf1s2zrJcUSrz23GV5fx+2pL2mc5z23rftjwe02WhRSNBrNZUaBGUxJI\n",
       "Fqc9DPklCIhPtBcN4Jrdc/8VNDjlUsuwA3WYmL9szC2c+WhqiBBuBXq+I3csnMRzFzMaEKOQc9DJ\n",
       "MpD7RJaapNhi9hMXK/bWaZ+u/mvWd1c5I0Plcn/R63Q5qk3p78PL4kdnBi0BO32dXrCigaXRINSI\n",
       "IAWPhpyRbCHjllrrFZHirxkLZOyZEDxoehaOdXFOB46/hDKA1Y5qiYf3xKtu7jTde5dvwLkdNXH7\n",
       "r/6+MDkvUX2UMvMA0zDxRfKvjURP2/mMgpG8m0axUIRTYwQdh9adi5cpbFdA1Kalr6ffLbtvtWUT\n",
       "7kwt8KcXMk5ihfJ5fxjAy8phJzaP0wvZ9lW7dWapfH52qAu/E7DGHAMsoKD8kXV1to3g4Bi2EK/n\n",
       "i5TOozURhECFGenEotrdhiCiVbNBHTgGPzmzRSwuyh+pnCcKEorLP6P8QHXvXurwfmvekNfYfHLS\n",
       "Zx8l3WD6HdAnuLMBfgAuOztWDSLy6Rhw6KkqZ6kdYe1w3918XoXFhOAqxDMmmFLUHE8knRzIfhQk\n",
       "F2wO1tVqsg6ykvaUUcWfWckWQDPVev4NjCmM23e/7kpoVru4ZwUtcJDo9KgesxWfy9EU0858Rr2W\n",
       "7NXHg+spII3uEpMehF6yQM+5U1S9P5mrg7T+Xd0XQdo+Gcmt/nKgyNu9ZIx70yudQkjF1F07FvYJ\n",
       "4ApZX3KMVEDitydYldQpAAACmQGfXWpCvwAZx1XseNdHqCYw9oCf07YpNLUABV13j/0NVngFr4eu\n",
       "M6Dy5gXn1mbEbOHXxYhIvSBOGAew7m8n/UEqomFy9t8WsyuDwZ2LXe5xGpb0QDV9y9Ys8DBY3R4e\n",
       "0RzuGFS4eZbp5vRBq1OIkoPYpYocLvVPBMgc5Qxy5SfSscQAhKUO8wyHpyHD8Wg+5r/5niOGCUyx\n",
       "HJoVniW29Vm6Y0Thz9i+XuVOncVt0/qAinzkDW+mi+qrN6CPM1nVqM3QJPK8ZHx8QujLmXN7X9Xv\n",
       "ylC6OukxERevPk9jVCJuxQegaz73SpFTMpW1TZoNlCS8E89EoLAJbUJ3oYU1arpvgXuXftp07C7A\n",
       "4s6FI5Tr4G8t5z98TsTNQHGO+jhrk7q9Y3IBe4gIrs3m3XOVC8eJqbSl4ZSJuYZSZ/tnR50aQ7Jk\n",
       "9N9gNeUsOarD0bMHPgL1MPT1kacaGzko8Pz/hSu6EGTd0CoB7dv+IUfaRSil/VQtYPLbihFq33IE\n",
       "iWs7E6Dy8RT73RV6R0QtNzPygJVfwQsvSvTpAjoUgAKYG55d8LRIzJcYXtWWL8Fe4Jx0YkY021es\n",
       "jOGwGnxFwMdv6djFMuBFHieUmBBrFFoROr8IQ+SpyDl8OdykHAYBIr+gQU+OCfKHoB/r9KIHYee/\n",
       "HMkHNO1fkIVELkx1jkq5r9KLSx84Ne5o0t/xMPN3WPNsn+XCykJ2gJbOE8bcUY9edKkuyF74KSHw\n",
       "FmKJuDS8n49DFdO6x/Dy3OeBlB3eaahqt8qqluWmemE2O+YGDdRziMyGgJELvLAmptFURGXyWtOq\n",
       "PVBQ9ugy+Y2vpYW08d1xbSmlhQ8wFbQh+LRsId/789133uVvKXTF6bB6DbmQWEhIRDXcWh+MM6GA\n",
       "AAAIAUGbQEmoQWiZTBTwz/6eEACCqh2JMAjCqVm+ZgJjkCV8dAMejmwiMNeDnR2niXc+UNcOuOKl\n",
       "cODOVPaurWbgVv2mA5hpt2ELA+aahQOz0JeLrxeJX19h98ojEmshB95VW8qSqBJyD010Hjba4yui\n",
       "0npg432JuEzRDCxJUWDdXA+RizX6hRJ8ODPblh9KkXvU3HuV/0mWxnwFM12UhgKjUmVRCxGKzTtR\n",
       "P8s5pMcxn6MT60HtExZ3d1aSaE9Y8jvbtuucQZwydmtCZhoJ3xEDLmhmTS4KBoqdu4edKIPUYl+C\n",
       "IkXLPvn0MZqYqBfPJTFBR2N6X+LYhruwey2Ql4iPBaJDB7LW1ZrErYN81ADZg4reowi6gG4vk8g8\n",
       "UwcIRxoSrqR08wWG6pPnRf7YFMX3QpSczP5DMsWQDIXgVhngRoHCj2u/4ZrqxrTVowVCE+FeT8ex\n",
       "GmAxl1iv021kUcoWPSPyuO8CY0QsSs9ldGikT/WdqdvbeRj86eNJn56v3vqgjs45BD0ULLEqs6Tr\n",
       "f0+Ppadp3mtzpT7Vc0EoCJ2xc01Il/NX0ry57txaZuPrYBKcGDe5j50L8yyHsOhF4VDWOZprYp8n\n",
       "GYYUoIS0KgFt3FfNKa5ibNUtw4eTqqUfQ6framrE+Mbbgh5OpvyXXoHTnczJSGgODVcQeuVN8qOe\n",
       "XeVChmmz+MhCcNBnTYuftIobownZW+GF3irdVVLzK9/ttAvs50CyUOlx37CoAHcUsXpucs43zAmU\n",
       "/4iy7Dc0ojbHpomKyaf7j4D8l/o2Qm7P+FVFYMoPWv+MNYzjHJML9RNF7/2D1dKJ9WKLvsMdPZRp\n",
       "Sg1vjX/+d82E4+O5iM8O6v9Ku9IfaUNjM7VhH6RCY6Y5IjZjJ3esEuRUyIK1+1i3KEbuXbf7uW5Q\n",
       "+ig7bUGvhKa/0jitLJzxxBHqKEQAgz9+UWdCYnViCKtUNvMHW3duZaxAqqJnucC0B9XUq40W6x7g\n",
       "glwgvRJ11XP8+ul9jzVXtib60Gr0VjdNYc/I9GU4WU9cAdiJrLYh2vqwkoRigQtazQ/Evxcn/kL0\n",
       "53OrHH/lrPKPMnO7P5u7bd9UC+gG/XHj4CbFGSk+IWKzKRg0GwjJmsK2Rqb5sebk5VwbZfk3+Et0\n",
       "EJZSeZVwYsiG3HUUwCiqlAtU+TkuZ1I48CpNIUXO7Sw5O22U1TgsyaQty3Un6NMWVwA7b5XkUtzl\n",
       "6ehtwNyEidxssdZEXOmmQxan7/7xXdmLrro8F1COMHPFBSljHiyGRokkoyLjO1aa0EpEI9j3neLJ\n",
       "rkOnLNka6rbuU6tct3AxMIYxwEKXJHwekW/i0B/qKOygeLJaDYCdEwZHwubsUW8mjLF+PNtwUo/t\n",
       "otysN1q6rrY++VrqYfTAe6aN/ZciH9OrOrG69kwPFECkrwsyGQIQ3AnQQEH6WuRqhBg8aetrSf1P\n",
       "1KnM6UCABLLOrFDfw1Zv5vl/8j1U2xCJW/i8UjOEHi7PgZG0bnEfQ5THT+t2S0Q/TeTSE0/668F5\n",
       "byuZ5cRwCQJw7tmlVsDDnKWdlZ2cY9CbQRbOflobVhRQxcnh6gGChHt3a7aza65F6YuKU8/O7Jfj\n",
       "dCr2rM4skM8QwI4gW+PpyViCGJ+yJfCSZtAHa4KGqw2RQlexG7vRw76BrbfM/8ZUsjXeUhm+VcoY\n",
       "jlXyZL+3RCaMdyDsrfAZBXg8jMEU2byqKrQyOStQUdeSZ9pz3r4Diurwu4RWXXs4Ncs5BtgbGAfC\n",
       "v3/FfRzkBHpY9TNyjthjvqXb/FALNzMQCj0NSxoPT1OwEN//zuZTd0llTKlHYQC4dLORLe6RZMDC\n",
       "SLj1srqFMnJegkWciAK3CN3zMkO2gWodiruxPTnIGSaZJjQdLk/8Rd3QcalnX/8Pxrwt4mKY5c5P\n",
       "626eGlXUdvwnlhli7POOiZpXPLzoLrgOdWe7SD7O8P0huNFddXHNWCziUDKxb6DqbSTRR1XS71rt\n",
       "FDcafLWMxNYzpNAOwU8pHZL5VwsMPUHxfY7J2Or0I/ykTSOJPu/ge5LNSRmiSL+RmMVjGXnar+iw\n",
       "T4GlrPnIoTmjMaTnTbQCKxKGf6Ot0TJdHiOxJDRhyYjo/oJxEcICsnHiH8zYgTWm99TBKCjb5f9l\n",
       "VHYybpIoJ77RaZkWguHC3Xv1Ba0DXHlAtCvYeakgdcxwZ+L7bguHIbun8Oz0K7mj2dV95ZrUXVL1\n",
       "K2puwAvNTVI9lZiIVCigVna6u1DWRPfZ6s3y9RbLmi0Vglr4Boo9W/T1S0gaFDN3BCxSRWwx4ZmS\n",
       "meGFUjofuIJPBvBiy8SSIxCrweEptiV4WRIZJ94/IQ/BhPsCwG918v+LidH3mDP+YQHoQwImsbCz\n",
       "Z7z8zCecJiMkRXxwXjE5vXMeWD961DlCimPHzJhEPHuT31UvnF+pgH2l1qhEK5ZxZDlpSwz0udRl\n",
       "3mBmS79HhYoIKTQOsZUQpeENWGi2gpEKmyEWmnH1m55+Y+0OG4jQ9ViT7qIQZxnGm60ZbnGNMaD7\n",
       "/pKfsty4VHTKzDHFDeA9JIMye9fVFZEabcfIfGzU+aFEfIpVyurpFWiAR1YDFZFxcMHYtyDsI7NN\n",
       "yrGPnkQ22Q+mXIK/6VBxJPiYO36VNb7OD0I6lGyz4Og6C+57XXZE1f40RKmkDrq95+wduv9IXEdP\n",
       "vGTCUknDLpfF2st7oiWoPFPX00JyNVNKZ9RX6aRFBPkU1nXHpXEz6bb5rEMVv4SOH02CQo35hzEs\n",
       "wAAAAl8Bn39qQr8ADzAe8F8DTjOoQOA8eWuFWRnhJIopI8gUTBTxueNeHFF0hqoOr0F9YccSb+TO\n",
       "CkvotzlicYr18z5iqou+I2q1P7ABOVG5NykBI45GSy8bE36f11EUna7uk7lJcRLnGC/ZARWHV3V+\n",
       "kA9S1LOeAAQ9mAfiIkZQuMd+OgALJu3pdFOqmqcuFpYqAvIbJcT9sj7LW+hLPTEPa05xmOGSVk54\n",
       "tP6bwX4HK51SZA/cToybmDNYqHZIPv1Y4X3wpMOWzNb47gOyBhz9vfg+HvMiv8nl4n0mMv0NbOCn\n",
       "lRGkFiN7zhXWQ0HGgN+YYQtBYxhEhJoGglZI11WJQHS4FRuDeW15RqwO/AjQ8AbnYuOXMNjgQCRp\n",
       "/Zl3zkvOYUp6W2LZIuq6b18dj595RwjasPbqGjjBhzIy3NuhIFDWxI2oSj/MU3bPfvct4w2J0UOD\n",
       "tg8/hW8HqLEz6hWiUC90xUvq2aGBrnkmnahfFlWEsD0TZAOi34sLD83At50ufbimFFCRkI2Qhymz\n",
       "rOHU2LjDJygoqPo1ivswquA1MrBFPdsanGJ06M078ps6JRni4Ys5BbEBJiIchVvG4MuZEXOeZW+Y\n",
       "qFk+1QiqOWpIIGalOmho82eRgdaceZpNx9rF87fr/aP3n+QkTIK81NshTLOjuZYwocJXcjBk519b\n",
       "RvgfQ7AF7ewBSIhHd1GGo7nu0bCWL3LdoHSoqZBMHEoZ8pkoclr5bgpOHA+wccZ0V/bsVljTCb9i\n",
       "Dener+2Xh/pw63yI9T9auvtjetYHdvSnZ+mpiRZ1hNJg8UuRmajygRKpAAAFnkGbYknhClJlMFLC\n",
       "//6MsACEIXMtIf7njWSxzJlNn0LR+3oAIxwNX3EzhzVTdR/wblw2Up2eyTqSCQD6n8Iggvr2vTbt\n",
       "oWEHJTfahxix1QI8IwvpRok8kKLi66AXs8ABWUay82ZFZZTgdQxgPacuNBgJQKO9ocj9ZmeA0llb\n",
       "5RJT24iav0EQYzLsZOL6yibWju0KSgsPbE0HAIKq/gXhUs+B9ytrrxwcQX/yT97oyR+NlPt3Kq2m\n",
       "7wcE6GkbqOF8L+yPi82KLTJA5y5Qp9Ac2e7AoThm6sXzGsbRQTsW/YhNh4ArOaMxvIS60mNP3HJb\n",
       "kO2XA6fva+NzKDOUvRsJddq2fV8Ft+UBrhFribZ4E84XLnQqljM4BWPrTLaKLymvLbj+KCO6Fd0K\n",
       "SQ1OqwrCwOzP9Iu87h3mgjcmPlFnjvOtadif63j2CNoxo3ENKsjdwsBP7dzFfS4TlbM/V9E/cImV\n",
       "ZWJmlZFUGwFK8enTe7Xa6GJnfAved4ygAk3zmmQS2eMK27QYbUjpg/BPXlGl1drdO+C6BXfvoGDP\n",
       "GFzJf1e2e6xuY/svIs4P7YsRGM9gSo6PudfDpVtfddIvKBHwNU+xugAC3LpIQubblt/zbNzp4qPS\n",
       "oj2EcDANx1MCmHlnTWdfQsks/8NTYQ+ET+Z4kkeJ4XYBR6NuTLR+1AJBPnwmto5Q0Umy2C6HZcvi\n",
       "sQiDBA31U4fDtjtOUT3qsy+Dz7E2GozFhsefxBySvVMvTIgFD0TAK00HKFb5COXPMBorpdA4LqNX\n",
       "6xHdWqufrTnH9l20q7LJPKnitxTAYD2exCD8myIbWEm6fslh0mScwK25UeHOYlCi7IiCdSz8kwR8\n",
       "2nK+u5kW46r1uBBXWToMgTmEiFpmZiIfr8Raf3xtM1FInpLCPQMK1fkFa+JkNx+W9jgmpnqJcwTB\n",
       "8xWcYzY5kac+AQKY2pAd9knD+FcNFJ363CQAlBYsvgxwz0f32zbqyUmCaP5i2HrFEnLLjN1wIt21\n",
       "DEE/p2r5ApfLXYUKNF7fE5NzqmI7iU4qErAPgNgJdjr97SeRgWXcrJJGi0CfoB7C7WsWeJv7Q87l\n",
       "w99AN0UF5T2YwC/OmJyr3RSYpEFsnBEcWRHXM4hOvaZWS6owTAb9rDCWVIDGON5fwSOQ+3DTbkWR\n",
       "pQUyJ6LFJDy5Vg9AXaJNpy4UCq8lnnykTjLb9Vi1j4Mb5EsX0cduf6yL6AJAF312nQU3kBQnW0N+\n",
       "ms4aWvgg3C4hFuSAOCpdigQXrqS39igNVy5Vmy7zlrBqt2329yhforHExVcgX3pZnfdEU2Oeys+B\n",
       "9mZt3DgWaEbwhPLML8leGF60skxEcl4hD7Edo/SlovF4hze5N9RhM2g4bnygo+A6UEKLyFkxPgVH\n",
       "P6l1dhFS0voJitUqVEFE34+a9r9eEY2DOvGCR7y2nx/dalmVa2khLBP/4INcg5019AKhYT3AwyIF\n",
       "Tx76WFjWwB8RD83ng1sr5Y8Uuir8TkD7RIN5tF6M0JjasqbmmRPb07JNaa/YuMTG8kqJeufmK4no\n",
       "XWpnxHCkiQ1My2WoHUrCWsQGg5tkrKfPejzrJRqxYK7WlKQTtcXIT/A2HB8FeZJpIRIOMbBUvAjv\n",
       "6YJpiMZuoTSofgnaiQ24cwUYDniJPO1kXD4LjAvhnY2NIZoehrDKNqlWGblwoRgmopT+iPq4feMC\n",
       "vVsMI2q6Ju8phrdHzwz9krZfdeNyqnAKZ5FX8SP0DndW5EbR1RhzUhWvLEFFfAm2UZQPJGIFWrpC\n",
       "PPR17MBbdkN/L1wx6s5cZBb1+BU0rxPTv2jG+telHvAzozEQy+18g+VzjFCt05YXephYZNlR0i23\n",
       "OZTRZ1APPJZR2dJDOuv3tNSbILh8s0R+cJuujqznsgTcvN52CG2uwpYu2Ls62GtgIo5cqepeLcEr\n",
       "m8AAAAJEAZ+BakK/AAo8GZbd9S9wT67htWaoHp6CEJdXaBpG/BpEGVSc4FxTK9RbjrVIdFWK0lEZ\n",
       "AKPn5xLT4iAFuCVn4knyjS6doxH6MgiA5iSL4l6ZfDVMQYv/g9zTKXePkP9w6eeOACM/KzUH5d+3\n",
       "38JL7MTNz/KOx3mXEyurUQfdZC70FD80Gk1jJG4IcWGkcf8bd2c6QfWP8P7gQgF63c0pBb7dGxgJ\n",
       "q1UXpI7Y+U2paDLGRIDbJ3S3zr/iEdACh94mO45z6Es/Vkx/zm3A6/ZLoABvgvbdVGQQCeC9IHPh\n",
       "QXhCRa7AavclAJnjYeqt+yuLKXNzpNy37MaVNmgjy90xz0tUm0MOlh4Di88Q+pCxmRPfLag0el2F\n",
       "Z8Tj0F67qk3OYFtw8dWSklx3RSS9r7vuLpXuBUDl02JIYaSYziHjeBReh45dPFnGHAmex9Ipt1rG\n",
       "b4eu116k6ky5pB2g1oa3o55mwj/n2ckqPTIqPaqEs6wx9EtC8NYuYz5RhtIKJdjAz40akzyMDI9G\n",
       "xmc7hGtwIbmMOwMflxJtVp/8BS8zTlQGqdCwkkCXJp6ek285qO/iRxiKlwxaxvSjYFNRIhGeA0PF\n",
       "OAjSG1RgjnZ1g7phUqiZ8cYXrV7cSoLQkpOFsZv836EINVP3VYAVr8HLmq/xHDoMcTsJqa+r38/f\n",
       "Ta6DZJWPq02n8VM8q49iq6DxGmiz/8n1DeawawHxJ47308POj5VRkkvgZGT3HcgqcoS8KnK+1M5a\n",
       "E7OZRTHEaqt4ydo7IY52UQAAAY5Bm4NJ4Q6JlMCFf/44QACe0B/FX3FSO4KJtcixsTFD9tdkW4jK\n",
       "3ySxcwQAr9J5M6yjyp2sdE3lkeS36P5f90tehPv/n52133ExR7F9iY7s+yYSusshdv3J4ixk3vhU\n",
       "K5kbdvW6+rV4Mw49azd9rSvHUjGKoFE/xiNrdCsegmgYFQ0NsJzk0up2B9lHWsO55DclY2+N63/Y\n",
       "/waYPKmTpjjT/tqWnwsKQQVSbjYnKR4oDqGPfNyEehWZLS9Bgosai9g303GbJNnuNaA2J2wJ9Ql7\n",
       "1dO121k3UAYnLJ5mcxENZJg6BNGMFE0XkCiGO7qNjGdndDBynS512cQ4fkDawEO1/zFm1mDT9a6W\n",
       "rR+Z1QT0nLpt8BgiNgJe+6wpbVxH1vmVQcr6b5HWAwEovYmgdjwI7obDfUvDQPkUEDYQgRcIa/jF\n",
       "VP4aCF5/JzbhI6uQY+umOPmvSAH9i9ONDyByZ+hlaBhyIy7W8Y3fDArPx5nCDQuui7NEAo8GiN3I\n",
       "rTWErqYoSuIngVumWWcJ6vgyyAAAB3ttb292AAAAbG12aGQAAAAAAAAAAAAAAAAAAAPoAAAPoAAB\n",
       "AAABAAAAAAAAAAAAAAAAAQAAAAAAAAAAAAAAAAAAAAEAAAAAAAAAAAAAAAAAAEAAAAAAAAAAAAAA\n",
       "AAAAAAAAAAAAAAAAAAAAAAAAAAACAAAGpXRyYWsAAABcdGtoZAAAAAMAAAAAAAAAAAAAAAEAAAAA\n",
       "AAAPoAAAAAAAAAAAAAAAAAAAAAAAAQAAAAAAAAAAAAAAAAAAAAEAAAAAAAAAAAAAAAAAAEAAAAAC\n",
       "WAAAAZAAAAAAACRlZHRzAAAAHGVsc3QAAAAAAAAAAQAAD6AAAAQAAAEAAAAABh1tZGlhAAAAIG1k\n",
       "aGQAAAAAAAAAAAAAAAAAADIAAADIAFXEAAAAAAAtaGRscgAAAAAAAAAAdmlkZQAAAAAAAAAAAAAA\n",
       "AFZpZGVvSGFuZGxlcgAAAAXIbWluZgAAABR2bWhkAAAAAQAAAAAAAAAAAAAAJGRpbmYAAAAcZHJl\n",
       "ZgAAAAAAAAABAAAADHVybCAAAAABAAAFiHN0YmwAAAC4c3RzZAAAAAAAAAABAAAAqGF2YzEAAAAA\n",
       "AAAAAQAAAAAAAAAAAAAAAAAAAAACWAGQAEgAAABIAAAAAAAAAAEAAAAAAAAAAAAAAAAAAAAAAAAA\n",
       "AAAAAAAAAAAAAAAAAAAY//8AAAA2YXZjQwFkAB7/4QAZZ2QAHqzZQJgz5eEAAAMAAQAAAwAyDxYt\n",
       "lgEABmjr48siwP34+AAAAAAcdXVpZGtoQPJfJE/FujmlG88DI/MAAAAAAAAAGHN0dHMAAAAAAAAA\n",
       "AQAAAGQAAAIAAAAAFHN0c3MAAAAAAAAAAQAAAAEAAALIY3R0cwAAAAAAAABXAAAAAQAABAAAAAAB\n",
       "AAAKAAAAAAEAAAQAAAAAAQAAAAAAAAABAAACAAAAAAEAAAoAAAAAAQAABAAAAAABAAAAAAAAAAEA\n",
       "AAIAAAAAAQAACgAAAAABAAAEAAAAAAEAAAAAAAAAAQAAAgAAAAABAAAEAAAAAAEAAAYAAAAAAQAA\n",
       "AgAAAAABAAAEAAAAAAEAAAYAAAAAAQAAAgAAAAABAAAIAAAAAAIAAAIAAAAAAQAACAAAAAACAAAC\n",
       "AAAAAAEAAAgAAAAAAgAAAgAAAAABAAAIAAAAAAIAAAIAAAAAAQAABAAAAAABAAAKAAAAAAEAAAQA\n",
       "AAAAAQAAAAAAAAABAAACAAAAAAMAAAQAAAAAAQAABgAAAAABAAACAAAAAAEAAAYAAAAAAQAAAgAA\n",
       "AAABAAAIAAAAAAIAAAIAAAAAAQAACgAAAAABAAAEAAAAAAEAAAAAAAAAAQAAAgAAAAABAAAKAAAA\n",
       "AAEAAAQAAAAAAQAAAAAAAAABAAACAAAAAAEAAAoAAAAAAQAABAAAAAABAAAAAAAAAAEAAAIAAAAA\n",
       "AQAACgAAAAABAAAEAAAAAAEAAAAAAAAAAQAAAgAAAAABAAAEAAAAAAEAAAYAAAAAAQAAAgAAAAAD\n",
       "AAAEAAAAAAEAAAYAAAAAAQAAAgAAAAABAAAGAAAAAAEAAAIAAAAAAQAACgAAAAABAAAEAAAAAAEA\n",
       "AAAAAAAAAQAAAgAAAAABAAAIAAAAAAIAAAIAAAAAAQAACgAAAAABAAAEAAAAAAEAAAAAAAAAAQAA\n",
       "AgAAAAABAAAKAAAAAAEAAAQAAAAAAQAAAAAAAAABAAACAAAAAAQAAAQAAAAAAQAACgAAAAABAAAE\n",
       "AAAAAAEAAAAAAAAAAQAAAgAAAAABAAAGAAAAAAEAAAIAAAAAAQAABgAAAAABAAACAAAAAAEAAAQA\n",
       "AAAAHHN0c2MAAAAAAAAAAQAAAAEAAABkAAAAAQAAAaRzdHN6AAAAAAAAAAAAAABkAAAoYAAACTkA\n",
       "AANgAAABggAAAlwAAAlxAAAFlAAAAtIAAAKkAAAIkgAABUAAAAL1AAADXwAABdEAAAjDAAADXQAA\n",
       "BwMAAAj0AAACrwAACtQAAAM4AAACewAACbIAAALXAAAB4wAAA6cAAAHQAAABZQAAB+sAAALSAAAC\n",
       "0AAABaoAAAiFAAAFBwAAAnAAAALCAAAGMwAABYgAAAclAAAKsQAAAyEAAAlfAAAC0AAACuwAAAOZ\n",
       "AAACbgAACvsAAAQVAAACaAAAAewAAASgAAACdgAAAK4AAAIbAAAJQwAABF8AAAK/AAAC4AAACJsA\n",
       "AAUGAAADLAAAA2MAAAYyAAAIjwAAA1YAAAaUAAAGcwAABl0AAAfYAAACRAAACRUAAAKeAAAHewAA\n",
       "AisAAAHVAAABZQAABFEAAAJaAAAB6QAACLcAAAT2AAACeQAAApMAAAj0AAAE3gAAAuQAAAOWAAAF\n",
       "nwAABucAAAdLAAAGgQAACwQAAATQAAAC0AAAAp0AAAgFAAACYwAABaIAAAJIAAABkgAAABRzdGNv\n",
       "AAAAAAAAAAEAAAAwAAAAYnVkdGEAAABabWV0YQAAAAAAAAAhaGRscgAAAAAAAAAAbWRpcmFwcGwA\n",
       "AAAAAAAAAAAAAAAtaWxzdAAAACWpdG9vAAAAHWRhdGEAAAABAAAAAExhdmY1OC40NS4xMDA=\n",
       "\">\n",
       "  Your browser does not support the video tag.\n",
       "</video>"
      ],
      "text/plain": [
       "<IPython.core.display.HTML object>"
      ]
     },
     "execution_count": 22,
     "metadata": {},
     "output_type": "execute_result"
    }
   ],
   "source": [
    "# Show the animation\n",
    "HTML(ani.to_html5_video())"
   ]
  },
  {
   "cell_type": "code",
   "execution_count": 23,
   "metadata": {
    "slideshow": {
     "slide_type": "skip"
    }
   },
   "outputs": [],
   "source": [
    "# Save the animation\n",
    "ani.save('PluckMiddle.mp4')"
   ]
  },
  {
   "cell_type": "markdown",
   "metadata": {
    "slideshow": {
     "slide_type": "slide"
    }
   },
   "source": [
    "# Some videos"
   ]
  },
  {
   "cell_type": "markdown",
   "metadata": {},
   "source": [
    "I find them cool and instructive."
   ]
  },
  {
   "cell_type": "markdown",
   "metadata": {
    "slideshow": {
     "slide_type": "skip"
    }
   },
   "source": [
    "## Bowed Violin String in Slow Motion\n",
    "\n",
    "https://youtu.be/6JeyiM0YNo4"
   ]
  },
  {
   "cell_type": "code",
   "execution_count": 24,
   "metadata": {
    "slideshow": {
     "slide_type": "subslide"
    }
   },
   "outputs": [
    {
     "data": {
      "image/jpeg": "[encoded data removed]",
      "text/html": [
       "\n",
       "        <iframe\n",
       "            width=\"560\"\n",
       "            height=\"315\"\n",
       "            src=\"https://www.youtube.com/embed/6JeyiM0YNo4?start=55\"\n",
       "            frameborder=\"0\"\n",
       "            allowfullscreen\n",
       "        ></iframe>\n",
       "        "
      ],
      "text/plain": [
       "<IPython.lib.display.YouTubeVideo at 0x7fc847fb48e0>"
      ]
     },
     "execution_count": 24,
     "metadata": {},
     "output_type": "execute_result"
    }
   ],
   "source": [
    "YouTubeVideo('6JeyiM0YNo4', width=\"560\", height=\"315\", start='55')"
   ]
  },
  {
   "cell_type": "markdown",
   "metadata": {
    "slideshow": {
     "slide_type": "notes"
    }
   },
   "source": [
    "About this video of a violin string, note that:\n",
    "\n",
    "* The oscillation is created by the bow of the violin, sticking-and-slipping (this is actually a real expression) at a frequency that resonates with the oscillation we see.\n",
    "* When the bow is removed, towards the end of the video, you can see that very quickly, the oscillation becomes like a fundamental oscillation, and nothing else, the kink is gone. That's because in reality, there is damping, and the higher the harmonic is, the stronger the damping acts on it. Indeed, as we saw before, the kink is reproduced by very high modes, and those modes oscillate faster. Assuming (and this is actually a conservative assumption) that the damping force on a mode $n$ can be modeled as something like $-b\\dot y$ again, then it proportional to the frequency: $F_{damping} \\propto \\sum -\\omega_n\\alpha_n\\sin(\\omega_n t)\\sin(k_nx)$. Therefore, the higher a mode is, the faster the damping is. After a short period of time, damping has killed all the modes but the fundamental, which is the last harmonic standing (pun intended).\n",
    "* The violin is out-of-tune to visualize a pattern. The string's oscillations are way too large for a functioning violin."
   ]
  },
  {
   "cell_type": "markdown",
   "metadata": {
    "slideshow": {
     "slide_type": "skip"
    }
   },
   "source": [
    "## Chladni Plate"
   ]
  },
  {
   "cell_type": "markdown",
   "metadata": {},
   "source": [
    "Please first watch the following video first (also at https://youtu.be/dXeBvQdkhaw and https://play.library.utoronto.ca/85ee379e108e534320503428bf84cdf2). It is not the best, but it was a pain in the neck to record."
   ]
  },
  {
   "cell_type": "code",
   "execution_count": 25,
   "metadata": {},
   "outputs": [
    {
     "data": {
      "image/jpeg": "[encoded data removed]",
      "text/html": [
       "\n",
       "        <iframe\n",
       "            width=\"560\"\n",
       "            height=\"300\"\n",
       "            src=\"https://www.youtube.com/embed/dXeBvQdkhaw?hieght=315\"\n",
       "            frameborder=\"0\"\n",
       "            allowfullscreen\n",
       "        ></iframe>\n",
       "        "
      ],
      "text/plain": [
       "<IPython.lib.display.YouTubeVideo at 0x7fc847f4aaf0>"
      ]
     },
     "execution_count": 25,
     "metadata": {},
     "output_type": "execute_result"
    }
   ],
   "source": [
    "YouTubeVideo('dXeBvQdkhaw', width=560, hieght=315)"
   ]
  },
  {
   "cell_type": "markdown",
   "metadata": {
    "slideshow": {
     "slide_type": "skip"
    }
   },
   "source": [
    "Now that you've indulged me, you can watch the much better video below (also at https://youtu.be/wvJAgrUBF4w)."
   ]
  },
  {
   "cell_type": "code",
   "execution_count": 26,
   "metadata": {
    "slideshow": {
     "slide_type": "subslide"
    }
   },
   "outputs": [
    {
     "data": {
      "image/jpeg": "[encoded data removed]",
      "text/html": [
       "\n",
       "        <iframe\n",
       "            width=\"560\"\n",
       "            height=\"300\"\n",
       "            src=\"https://www.youtube.com/embed/wvJAgrUBF4w?hieght=315\"\n",
       "            frameborder=\"0\"\n",
       "            allowfullscreen\n",
       "        ></iframe>\n",
       "        "
      ],
      "text/plain": [
       "<IPython.lib.display.YouTubeVideo at 0x7fc84553d970>"
      ]
     },
     "execution_count": 26,
     "metadata": {},
     "output_type": "execute_result"
    }
   ],
   "source": [
    "YouTubeVideo('wvJAgrUBF4w', width=560, hieght=315)"
   ]
  },
  {
   "cell_type": "markdown",
   "metadata": {
    "slideshow": {
     "slide_type": "-"
    }
   },
   "source": [
    "For an in-house explanation, see the web page, created by our very own Prof. Stephen Morris: https://www.physics.utoronto.ca/~nonlin/chladni.html"
   ]
  },
  {
   "cell_type": "markdown",
   "metadata": {
    "slideshow": {
     "slide_type": "skip"
    }
   },
   "source": [
    "## Fourier Analysis on musical instruments\n",
    "\n",
    "https://youtu.be/u1Lz8pm2npQ\n",
    "\n",
    "I love it and I hate it: this guy makes me look lame. Goes way beyond what I covered, in a compressed amount of time."
   ]
  },
  {
   "cell_type": "code",
   "execution_count": 27,
   "metadata": {
    "scrolled": true,
    "slideshow": {
     "slide_type": "subslide"
    }
   },
   "outputs": [
    {
     "data": {
      "image/jpeg": "[encoded data removed]",
      "text/html": [
       "\n",
       "        <iframe\n",
       "            width=\"560\"\n",
       "            height=\"315\"\n",
       "            src=\"https://www.youtube.com/embed/u1Lz8pm2npQ\"\n",
       "            frameborder=\"0\"\n",
       "            allowfullscreen\n",
       "        ></iframe>\n",
       "        "
      ],
      "text/plain": [
       "<IPython.lib.display.YouTubeVideo at 0x7fc84809af70>"
      ]
     },
     "execution_count": 27,
     "metadata": {},
     "output_type": "execute_result"
    }
   ],
   "source": [
    "YouTubeVideo(\"u1Lz8pm2npQ\", width=\"560\", height=\"315\")"
   ]
  },
  {
   "cell_type": "markdown",
   "metadata": {
    "slideshow": {
     "slide_type": "skip"
    }
   },
   "source": [
    "## Ruben's Tubes\n",
    "\n",
    "Our department has its own recording: https://ugdemos.physics.utoronto.ca/db/videos/rubens-flame-tube\n",
    "\n",
    "The video below is more spectacular (https://youtu.be/2awbKQ2DLRE), though ours has its charm.\n",
    "The first minute of the video is pretty instructive, but the entire video is like a pyrotechnical version of a Chladni plate."
   ]
  },
  {
   "cell_type": "code",
   "execution_count": 28,
   "metadata": {
    "scrolled": false,
    "slideshow": {
     "slide_type": "subslide"
    }
   },
   "outputs": [
    {
     "data": {
      "image/jpeg": "[encoded data removed]",
      "text/html": [
       "\n",
       "        <iframe\n",
       "            width=\"560\"\n",
       "            height=\"315\"\n",
       "            src=\"https://www.youtube.com/embed/2awbKQ2DLRE\"\n",
       "            frameborder=\"0\"\n",
       "            allowfullscreen\n",
       "        ></iframe>\n",
       "        "
      ],
      "text/plain": [
       "<IPython.lib.display.YouTubeVideo at 0x7fc847eebe50>"
      ]
     },
     "execution_count": 28,
     "metadata": {},
     "output_type": "execute_result"
    }
   ],
   "source": [
    "YouTubeVideo(\"2awbKQ2DLRE\", width=560, height=315)"
   ]
  },
  {
   "cell_type": "markdown",
   "metadata": {
    "slideshow": {
     "slide_type": "skip"
    }
   },
   "source": [
    "## The Walking Water Mystery\n",
    "\n",
    "https://youtu.be/KJDEsAy9RyM\n",
    "\n",
    "The connection with standing waves may not be obvious at first. Jump to 4'15 or 8'14 if you are impatient, but the whole thing is worth a watch. Awesome stuff at 9'30."
   ]
  },
  {
   "cell_type": "code",
   "execution_count": 29,
   "metadata": {
    "slideshow": {
     "slide_type": "subslide"
    }
   },
   "outputs": [
    {
     "data": {
      "image/jpeg": "[encoded data removed]",
      "text/html": [
       "\n",
       "        <iframe\n",
       "            width=\"560\"\n",
       "            height=\"315\"\n",
       "            src=\"https://www.youtube.com/embed/KJDEsAy9RyM\"\n",
       "            frameborder=\"0\"\n",
       "            allowfullscreen\n",
       "        ></iframe>\n",
       "        "
      ],
      "text/plain": [
       "<IPython.lib.display.YouTubeVideo at 0x7fc847f53880>"
      ]
     },
     "execution_count": 29,
     "metadata": {},
     "output_type": "execute_result"
    }
   ],
   "source": [
    "YouTubeVideo(\"KJDEsAy9RyM\", width=\"560\", height=\"315\")"
   ]
  },
  {
   "cell_type": "markdown",
   "metadata": {
    "slideshow": {
     "slide_type": "skip"
    }
   },
   "source": [
    "# Energy of Standing Waves"
   ]
  },
  {
   "cell_type": "markdown",
   "metadata": {
    "slideshow": {
     "slide_type": "skip"
    }
   },
   "source": [
    "## General expression\n",
    "\n",
    "Consider an infinitesimal piece of string located between $x$ and $\\delta x$.\n",
    "Its kinetic energy is \n",
    "$$\\delta K = \\frac12\\underbrace{\\mu\\delta x}_{=\\delta m} \\dot y^2.$$\n",
    "\n",
    "Its potential energy is due to the stretching of the piece of string when in motion, and to calculate it, we calculate the work done by the tension force $F$ to stretch the string by a certain amount (see lecture 6: we will use the relationship $W = -U$).\n",
    "The length at rest is $\\delta x$, and the length when stretched is $\\delta s = \\delta x/\\cos\\theta$, where $\\theta$ is the angle of the string in motion with the $x$-axis.\n",
    "The motion is linear and the angle are small, meaning that \n",
    "$$\\delta s = \\frac{\\delta x}{\\cos\\theta} \\approx \\frac{\\delta x}{1 - \\theta^2/2}\\approx \\delta x \\left(1 + \\frac{\\theta^2}2\\right),$$\n",
    "with two Taylor expansions back-to-back to remind ourselves what it feels to be alive.\n",
    "But if the angle is small, then $\\theta \\approx \\tan\\theta = \\partial y /\\partial x$, and\n",
    "$$\\delta s \\approx \\delta x \\left[1 + \\frac12\\left(\\pde y x\\right)^2\\right].$$\n",
    "Collecting everything,\n",
    "$$U = - W =  -F(\\delta s - \\delta x) \\approx -F\\delta x \\frac12\\left(\\pde y x\\right)^2 = \\frac12 \\mu \\delta x v^2 \\left(\\pde y x\\right)^2.$$"
   ]
  },
  {
   "cell_type": "markdown",
   "metadata": {
    "slideshow": {
     "slide_type": "skip"
    }
   },
   "source": [
    "We then let $\\delta x \\to 0$ and sum up all of the infinitesimal contributions, yielding the energy of the vibrating string\n",
    "$$E =  \\frac12 \\mu \\int_0^L \\left[\\left(\\pde{y}t\\right)^2 + v^2\\left(\\pde{y}x\\right)^2 \\right]\\di x.$$"
   ]
  },
  {
   "cell_type": "markdown",
   "metadata": {
    "slideshow": {
     "slide_type": "skip"
    }
   },
   "source": [
    "## Single Mode"
   ]
  },
  {
   "cell_type": "markdown",
   "metadata": {
    "slideshow": {
     "slide_type": "skip"
    }
   },
   "source": [
    "For a single mode, and assuming for simplicity that $V(x) = 0$,\n",
    "$$y(t, x) = y_n(t, x) = A_n \\cos(\\omega_n t)\\sin(k_n x),$$\n",
    "$$\\pde{y}t = -\\omega_n A_n \\sin(\\omega_n t)\\sin(k_n x),\\textrm{ and}$$\n",
    "$$\\pde{y}x = k_n A_n \\cos(\\omega_n t)\\cos(k_n x).$$"
   ]
  },
  {
   "cell_type": "markdown",
   "metadata": {
    "slideshow": {
     "slide_type": "skip"
    }
   },
   "source": [
    "Substituting into the expression for energy,\n",
    "\\begin{align*}\n",
    "    E_n & = \\frac12 \\mu \\int_0^L \\left[\\omega_n^2 A_n^2 \\sin^2(\\omega_n t)\\sin^2(k_n x)  + v^2k_n^2 A_n^2 \\cos^2(\\omega_n t)\\cos^2(k_n x)\\right]\\di x, \\\\\n",
    "        & = \\frac12 \\mu \\omega_n^2 A_n^2 \\left[\\sin^2(\\omega_n t)\\int_0^L \\sin^2(k_n x)\\di x + \\cos^2(\\omega_n t)\\int_0^L\\cos^2(k_n x)\\di x\\right].\n",
    "\\end{align*}"
   ]
  },
  {
   "cell_type": "markdown",
   "metadata": {
    "slideshow": {
     "slide_type": "skip"
    }
   },
   "source": [
    "You can compute (in which case you could use $\\cos^2 + \\sin^2 = 1$), or remember the normalization of the inner product $\\odot$, or convince yourself by drawing $\\cos^2$ and $\\sin^2$, that the two integrals are the same:\n",
    "$$\\int_0^L \\sin^2(k_n x)\\di x = \\int_0^L \\cos^2(k_n x)\\di x = \\frac{L}2.$$"
   ]
  },
  {
   "cell_type": "markdown",
   "metadata": {
    "slideshow": {
     "slide_type": "skip"
    }
   },
   "source": [
    "And because $\\cos^2(\\omega_n t) + \\sin^2(\\omega_n t) = 1$,\n",
    "$$\\boxed{E_n = \\frac14\\mu L\\omega_n^2 A_n^2}.$$"
   ]
  },
  {
   "cell_type": "markdown",
   "metadata": {
    "slideshow": {
     "slide_type": "skip"
    }
   },
   "source": [
    "The expression above has a lot going on, and it may seem foolish to remember it.\n",
    "However, there actually is physics in there, and it is not so complicated.\n",
    "The energy of the SHO was already $kA^2/2 = m\\omega_0^2 A^2/2$, and so, if you could remember the energy of the SHO, you can remember this one.\n",
    "\n",
    "* $E_n \\propto m = \\mu L$, the mass of the string. Why not. \n",
    "* $E_n \\propto A_n^2$: quadratic dependence of the energy on the amplitude, a super-duper general statement that you have been needing to remember from the start of this lecture series,\n",
    "* $E_n \\propto \\omega_n^2$, same for the energy of the SHO. \"Everything else being equal, a mode that oscillates twice as fast has four times the energy.\"\n",
    "* Factor 1/4: we all wish it was 1/2, for the sake of remembering better. Oh well..."
   ]
  },
  {
   "cell_type": "markdown",
   "metadata": {
    "slideshow": {
     "slide_type": "skip"
    }
   },
   "source": [
    "If we had different boundary conditions, we may have a combination of $\\sin(k_n x)$ and $\\cos(k_n x)$ in $y_n(t, x)$, but the derivation would be conceptually the same."
   ]
  },
  {
   "cell_type": "markdown",
   "metadata": {
    "slideshow": {
     "slide_type": "skip"
    }
   },
   "source": [
    "## Many modes"
   ]
  },
  {
   "cell_type": "markdown",
   "metadata": {
    "slideshow": {
     "slide_type": "skip"
    }
   },
   "source": [
    "With more than one mode,\n",
    "$$ y(t, x) = \\sum_{n=1}^\\infty A_n \\cos(\\omega_n t + \\phi_n)\\sin(k_n x).$$\n",
    "Let's discard $\\phi_n$, for example by assuming $V(x) = 0$."
   ]
  },
  {
   "cell_type": "markdown",
   "metadata": {
    "slideshow": {
     "slide_type": "skip"
    }
   },
   "source": [
    "\\begin{align*}\n",
    "    \\pde{y}t & = -\\sum_{n=1}^\\infty \\omega_n A_n \\sin(\\omega_n t)\\sin(k_n x),\\textrm{ and}\\\\\n",
    "    \\left(\\pde{y}t\\right)^2 & = \\left[\\sum_{n=1}^\\infty \\omega_n A_n \\sin(\\omega_n t)\\sin(k_n x)\\right]\\left[\\sum_{m=1}^\\infty \\omega_m A_m \\sin(\\omega_m t)\\sin(k_m x)\\right] \\\\\n",
    "                            & = \\sum_{n=1}^\\infty \\left(\\omega_n A_n \\sin(\\omega_n t)\\sin(k_n x)\\right)^2 + 2\\sum_{m=1}^\\infty\\sum_{n=m+1}^\\infty \\omega_m A_m\\omega_n A_n \\sin(\\omega_m t)\\sin(k_m x)\\sin(\\omega_n t)\\sin(k_n x).\n",
    "\\end{align*}"
   ]
  },
  {
   "cell_type": "markdown",
   "metadata": {
    "slideshow": {
     "slide_type": "skip"
    }
   },
   "source": [
    "Notice the $2\\sum_{m=1}^{\\infty}\\sum_{n=m+1}^{\\infty}$ double sum (like I need to remind you of it).\n",
    "The factor 2 is here because each term that has $m\\neq n$ will appear twice, say, the couples $\\{m=1, n=2\\}$ and $\\{m=2, n=1\\}$ each appear once, but lead to the same expression. Might as well just sum them once by starting with $n=m+1$, but make them count twice.\n",
    "We start the second sum at $n=m+1$, not $n=m$, because the $n=m$ case is treated separately, in the first summation."
   ]
  },
  {
   "cell_type": "markdown",
   "metadata": {
    "slideshow": {
     "slide_type": "skip"
    }
   },
   "source": [
    "Before going any further, let us not forget that eventually, we will integrate these sums over $[0, L]$.\n",
    "In particular, the double sum will only contain terms proportional to \n",
    "$$\\int_0^L\\sin(k_m x)\\sin(k_n x) \\di x = 0\\quad \\textrm{because}\\quad n\\neq m.$$\n",
    "Therefore, \n",
    "$$ \\int_0^L \\left(\\pde{y}t\\right)^2 \\di x = \\sum_{n=1}^\\infty \\int_0^L \\left[\\omega_n A_n \\sin(\\omega_n t)\\sin(k_n x)\\right]^2 \\di x = \\sum_{n=1}^\\infty \\int_0^L \\left(\\pde{y_n}{t}\\right)^2 \\di x. $$\n"
   ]
  },
  {
   "cell_type": "markdown",
   "metadata": {
    "slideshow": {
     "slide_type": "skip"
    }
   },
   "source": [
    "A very similar derivation leads to\n",
    "$$ \\int_0^L\\left(\\pde{y}x\\right)^2\\di x = \\sum_{n=1}^\\infty\\int_0^L \\left(\\pde{y_n}{x}\\right)^2 \\di x, $$\n",
    "and therefore,\n",
    "$$\\boxed{E = \\sum_{n=1}^\\infty E_n} = \\frac{1}{4}\\mu L \\sum_{n=1}^\\infty \\omega_n^2 A_n^2.$$\n",
    "\n",
    "In Fourier series parlance, we have illustrated here Parseval's theorem."
   ]
  },
  {
   "cell_type": "markdown",
   "metadata": {
    "slideshow": {
     "slide_type": "skip"
    }
   },
   "source": [
    "Just like for coupled oscillators, **each mode has its own energy, it does not communicate it to any other mode, and the total energy is the sum of the energy of each mode.** Remember it!"
   ]
  },
  {
   "cell_type": "markdown",
   "metadata": {
    "slideshow": {
     "slide_type": "skip"
    }
   },
   "source": [
    "# Summary\n",
    "\n",
    "In this lecture, we saw:\n",
    "\n",
    "* the take-home message about Fourier series: what they are, what they mean, how we apply them to our finite-length string,\n",
    "* Just like Fourier modes are orthogonal to one another, standing wave modes don't project onto one another when using the inner product we described.\n",
    "* To solve any initial value problem, we turn two equations ($y$ and $\\dot y$) that contain an infinite number of terms into two infinite sets of one-term equations. And it's better than way.\n",
    "* Spectra are plots of the series of modes, displaying the coefficients multiplying each mode on the $y$-axis as function of $n$, $\\omega_n$ or $k_n$ on the $x$-axis.\n",
    "* The energy in each mode is separate from the energies in the other modes: there is no energetic coupling between the modes."
   ]
  }
 ],
 "metadata": {
  "anaconda-cloud": {},
  "celltoolbar": "Slideshow",
  "kernelspec": {
   "display_name": "Python 3",
   "language": "python",
   "name": "python3"
  },
  "language_info": {
   "codemirror_mode": {
    "name": "ipython",
    "version": 3
   },
   "file_extension": ".py",
   "mimetype": "text/x-python",
   "name": "python",
   "nbconvert_exporter": "python",
   "pygments_lexer": "ipython3",
   "version": "3.8.10"
  }
 },
 "nbformat": 4,
 "nbformat_minor": 1
}
