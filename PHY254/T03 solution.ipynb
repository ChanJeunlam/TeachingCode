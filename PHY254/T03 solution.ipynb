{
 "cells": [
  {
   "cell_type": "markdown",
   "id": "d689d4a7",
   "metadata": {},
   "source": [
    "# Phase diagrams"
   ]
  },
  {
   "cell_type": "markdown",
   "id": "18ee5517",
   "metadata": {},
   "source": [
    "## Basic Diagrams\n",
    "\n",
    "### SHO\n",
    "\n",
    "The velocity is $v = -6\\sin(3t+\\pi/4)$.\n",
    "\n",
    "You need to draw an ellipse, oriented along the $x$ and $v$ axes, with length along the $x$-axis being $2$, and length along the $v$-axis being $6$.\n",
    "\n",
    "An initial phase is provided, meaning that an arrow starting from the initial position would be neat (goes clockwise, starts from $x=2\\cos(\\pi/4) = \\sqrt2$ and $v = -6\\sin(\\pi/4) = -3\\sqrt2$).\n",
    "\n",
    "*Note: if you want to use Python, I show how to do the arrow in the L03 handout.*\n",
    "\n",
    "### Oscillating, decaying oscillation\n",
    "\n",
    "Position is $x = 0.05\\cos(2\\pi t)e^{-\\pi t/2}$, and the first thing is to derive the velocity,\n",
    "$$v = 0.05\\left[-2\\pi\\sin(2\\pi t) - \\frac{\\pi}{2}\\cos(2\\pi t)\\right]e^{-\\pi t/2}.$$"
   ]
  },
  {
   "cell_type": "code",
   "execution_count": null,
   "id": "e41f7cc0",
   "metadata": {},
   "outputs": [],
   "source": [
    "import matplotlib.pyplot as plt\n",
    "import numpy as np"
   ]
  },
  {
   "cell_type": "code",
   "execution_count": null,
   "id": "a1ee5d48",
   "metadata": {},
   "outputs": [],
   "source": [
    "A = 0.05  # better to do it this way\n",
    "omega = 2*np.pi  # better to do it this way\n",
    "gamma = np.pi/2  # the decaying time scale in exp(-gamma*t); see next lecture for definition\n",
    "t = np.arange(0, 4*np.pi, np.pi/100)  # time range; better to use T but hey\n",
    "x = A*np.cos(omega*t)*np.exp(-gamma*t)  # put x expression here\n",
    "v = A*(-omega*np.sin(omega*t) - gamma*np.cos(omega*t))*np.exp(-gamma*t) # put v expression here\n",
    "plt.subplot(3, 1, 1)\n",
    "plt.plot(t, x)\n",
    "plt.xlabel('t')\n",
    "plt.ylabel('x')\n",
    "plt.subplot(3, 1, 2)\n",
    "plt.plot(t, v)\n",
    "plt.xlabel('t')\n",
    "plt.ylabel('v')\n",
    "plt.subplot(3, 1, 3)\n",
    "plt.plot(x, v)\n",
    "plt.xlabel('x')\n",
    "plt.ylabel('v')\n",
    "plt.tight_layout()"
   ]
  },
  {
   "cell_type": "markdown",
   "id": "68f2d963",
   "metadata": {},
   "source": [
    "The phase trajectory is a decaying spiral.\n",
    "See next lecture for detail."
   ]
  },
  {
   "cell_type": "markdown",
   "id": "d770b54d",
   "metadata": {},
   "source": [
    "## Projectile motion"
   ]
  },
  {
   "cell_type": "markdown",
   "id": "0e594197",
   "metadata": {},
   "source": [
    "1. Eliminate $t$ in the $\\dot z$ equation ($t = (\\dot z - v_0)/g$) and plug in the $z$ equation to form\n",
    "$$z = z_0 + \\frac{v_0 (\\dot z - v_0)}g - \\frac12 g \\frac{(\\dot z - v_0)^2}{g^2} = z_0 + \\frac{v_0^2}g-\\frac{\\dot z^2}{2g}.$$\n",
    "It represents a parabola opening to the left in ($z, \\dot z$) space, as we are about to visualize.\n"
   ]
  },
  {
   "cell_type": "code",
   "execution_count": null,
   "id": "d3e7f4b1",
   "metadata": {
    "slideshow": {
     "slide_type": "subslide"
    }
   },
   "outputs": [],
   "source": [
    "# 2. Phase trajectory for projectile motion\n",
    "\n",
    "# Import all modules\n",
    "import numpy as np\n",
    "import matplotlib.pyplot as plt\n",
    "import matplotlib as mpl\n",
    "mpl.rcParams['figure.dpi'] = 100  # for crisper figures later"
   ]
  },
  {
   "cell_type": "code",
   "execution_count": null,
   "id": "83a4ed8c",
   "metadata": {
    "slideshow": {
     "slide_type": "slide"
    }
   },
   "outputs": [],
   "source": [
    "v0 = 10.0  # [m/s]\n",
    "g = 9.81  # [m/s2]\n",
    "t = np.arange(0, 5., 0.01)  # [s]\n",
    "z = v0*t - 0.5*g*t**2  # [m]\n",
    "dotz = v0 - g*t  # [m/s]\n",
    "ftsz = 12  # font size"
   ]
  },
  {
   "cell_type": "code",
   "execution_count": null,
   "id": "cb0995c1",
   "metadata": {
    "slideshow": {
     "slide_type": "subslide"
    }
   },
   "outputs": [],
   "source": [
    "plt.plot(z, dotz)\n",
    "plt.arrow(z[-2], dotz[-2], z[-1]-z[-2], dotz[-1]-dotz[-2], width=0.3)\n",
    "plt.arrow(z[0], dotz[0],z[1]-z[0],dotz[1]-dotz[0], width=0.3)\n",
    "plt.xlabel(r'$z$ (m)', fontsize=ftsz)\n",
    "plt.ylabel(r'$\\dot z$ (m/s)', fontsize=ftsz)\n",
    "plt.title(r'Phase plot for projectile motion: $z_0 = 0$, $v_0=${0:2.1f} m/s'.format(v0),\n",
    "          fontsize=ftsz)\n",
    "plt.grid('on')"
   ]
  }
 ],
 "metadata": {
  "kernelspec": {
   "display_name": "Python 3 (ipykernel)",
   "language": "python",
   "name": "python3"
  },
  "language_info": {
   "codemirror_mode": {
    "name": "ipython",
    "version": 3
   },
   "file_extension": ".py",
   "mimetype": "text/x-python",
   "name": "python",
   "nbconvert_exporter": "python",
   "pygments_lexer": "ipython3",
   "version": "3.8.11"
  }
 },
 "nbformat": 4,
 "nbformat_minor": 5
}
