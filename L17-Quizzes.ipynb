{
 "cells": [
  {
   "cell_type": "code",
   "execution_count": 1,
   "metadata": {
    "collapsed": true,
    "slideshow": {
     "slide_type": "skip"
    }
   },
   "outputs": [],
   "source": [
    "# If you want to run this file as slides, like I did in class,\n",
    "# You need to install the right package.\n",
    "# Visit https://github.com/damianavila/RISE"
   ]
  },
  {
   "cell_type": "code",
   "execution_count": null,
   "metadata": {
    "collapsed": true,
    "slideshow": {
     "slide_type": "skip"
    }
   },
   "outputs": [],
   "source": []
  },
  {
   "cell_type": "markdown",
   "metadata": {
    "slideshow": {
     "slide_type": "skip"
    }
   },
   "source": [
    "$\\newcommand{\\rads}{~rad.s$^{-1}$}$\n",
    "$\\newcommand{\\bnabla}{\\boldsymbol{\\nabla}}$\n",
    "$\\newcommand{\\eexp}[1]{\\text{e}^{#1}}$\n",
    "$\\newcommand{\\glm}[1]{\\overline{#1}^L}$\n",
    "$\\newcommand{\\di}[0]{\\textrm{d}}$\n",
    "$\\newcommand{\\bs}[1]{\\boldsymbol{#1}}$\n",
    "$\\newcommand{\\ode}[2]{\\frac{\\di {#1}}{\\di {#2}}}$\n",
    "$\\newcommand{\\oden}[3]{\\frac{\\di^{#1} {#2}}{\\di {#3}^{#1}}}$\n",
    "$\\newcommand{\\odel}[2]{\\di {#1}/\\di {#2}}$\n",
    "$\\newcommand{\\odeln}[3]{\\di^{#1} {#2}/\\di {#3}^{#1}}$\n",
    "$\\newcommand{\\pde}[2]{\\frac{\\partial {#1}}{\\partial {#2}}}$\n",
    "$\\newcommand{\\pden}[3]{\\frac{\\partial^{#1} {#2}}{\\partial {#3}^{#1}}}$\n",
    "$\\newcommand{\\pdel}[2]{\\partial_{#2} {#1}}$\n",
    "$\\newcommand{\\pdenl}[3]{\\partial^{#1}_{#3} {#2}}$\n",
    "$\\newcommand{\\mde}[1]{\\frac{\\textrm{D} {#1}}{\\textrm{D} t}}$\n",
    "$\\newcommand{\\mdel}[1]{\\textrm{D}_t {#1}}$\n",
    "$\\newcommand{\\divr}[1]{\\vec\\nabla \\cdot {#1}}$\n",
    "$\\newcommand{\\divrb}[1]{\\boldsymbol{\\nabla} \\cdot {#1}}$\n",
    "$\\newcommand{\\grad}[1]{\\vec \\nabla {#1}}$\n",
    "$\\newcommand{\\gradb}[1]{\\boldsymbol\\nabla {#1}}$\n",
    "$\\newcommand{\\curl}[1]{\\vec\\nabla \\times {#1}}$\n",
    "$\\newcommand{\\curlb}[1]{\\boldsymbol{\\nabla}\\times\\boldsymbol{#1}}$\n",
    "$\\newcommand{\\lapl}[0]{\\vec\\nabla^2}$\n",
    "$\\newcommand{\\laplb}[0]{\\boldsymbol{\\nabla}^2}$\n",
    "$\\newcommand{\\cplxi}[0]{\\mathrm i}$\n",
    "$\\newcommand{\\unit}[1]{\\mathbf{\\hat{#1}}}$\n",
    "$\\newcommand{\\thrfor}[0]{\\quad\\Rightarrow\\quad}$\n",
    "$\\newcommand{\\red}[1]{\\textcolor{red}{#1}}$\n",
    "$\\newcommand{\\blue}[1]{\\textcolor{blue}{#1}}$\n",
    "$\\newcommand{\\mage}[1]{\\textcolor{magenta}{#1}}$"
   ]
  },
  {
   "cell_type": "markdown",
   "metadata": {
    "slideshow": {
     "slide_type": "slide"
    }
   },
   "source": [
    "# Worked example: King p. 143."
   ]
  },
  {
   "cell_type": "markdown",
   "metadata": {
    "slideshow": {
     "slide_type": "-"
    }
   },
   "source": [
    "[A string] of a cello has a linear density $\\mu = 1.70$ g.m$^{-1}$ and a length $L = 0.70$ m.\n",
    "The tension in the string is adjusted so that the fundamental frequency is 220 Hz.\n",
    "\n",
    "1. What is the tension in the string?\n",
    "2. A weight of mass m is suspended from the string. What mass would produce the same tension? \n",
    "3. What is the wavelength of the sound from the string?\n",
    "\n",
    "Take the velocity of sound in air to be 340 m.s$^{-1}$ and the acceleration due to gravity to be 10 m.s$^{−2}$."
   ]
  },
  {
   "cell_type": "markdown",
   "metadata": {
    "slideshow": {
     "slide_type": "subslide"
    }
   },
   "source": [
    "$\\bs{\\mu = 1.70}$ **g.m**$^{-1}$, $\\bs{L = 0.70}$ **m,** $\\bs{g = 10}$ **m.s**$\\bs{^{-2},\\ v_{sound} = 340\\ m.s^{-1},\\ T}$ **adjusted so that the fundamental frequency is 220 Hz.**\n",
    "**What is the tension in the string?**\n",
    "\n",
    "Intermediate question #1: which formula would you use to compute $T$? ($v$ is the phase speed)\n",
    "1. $T = \\pi/L$\n",
    "2. $T = \\mu v^2$\n",
    "3. $T = \\pi v/L$\n",
    "4. $T = \\sqrt{v/\\mu}$"
   ]
  },
  {
   "cell_type": "markdown",
   "metadata": {
    "slideshow": {
     "slide_type": "subslide"
    }
   },
   "source": [
    "$\\bs{\\mu = 1.70}$ **g.m**$^{-1}$, $\\bs{L = 0.70}$ **m,** $\\bs{g = 10}$ **m.s**$\\bs{^{-2},\\ v_{sound} = 340\\ m.s^{-1},\\ T}$ **adjusted so that the fundamental frequency is 220 Hz.**\n",
    "**What is the tension in the string?**\n",
    "\n",
    "Intermediate question #1: which formula would you use to compute $T$? ($v$ is the phase speed)\n",
    "1. $T = \\pi/L$\n",
    "2. $\\boxed{T = \\mu v^2}$\n",
    "3. $T = \\pi v/L$\n",
    "4. $T = \\sqrt{v/\\mu}$\n",
    "\n",
    "$$\\textrm{Recall that }\\ v = \\sqrt{\\frac{T}{\\mu}}. $$"
   ]
  },
  {
   "cell_type": "markdown",
   "metadata": {
    "slideshow": {
     "slide_type": "subslide"
    }
   },
   "source": [
    "$\\bs{\\mu = 1.70}$ **g.m**$^{-1}$, $\\bs{L = 0.70}$ **m,** $\\bs{g = 10}$ **m.s**$\\bs{^{-2},\\ v_{sound} = 340\\ m.s^{-1},\\ T}$ **adjusted so that the fundamental frequency is 220 Hz.**\n",
    "**What is the tension in the string?**\n",
    "\n",
    "Intermediate question #2: which formula would you use to conclude?\n",
    "1. $\\omega_1 = \\pi/L$\n",
    "2. $k_1 = \\pi/L$\n",
    "3. $\\omega_1 = \\pi v/L$\n",
    "4. $\\nu_1 = v/(2L)$"
   ]
  },
  {
   "cell_type": "markdown",
   "metadata": {
    "slideshow": {
     "slide_type": "subslide"
    }
   },
   "source": [
    "$\\bs{\\mu = 1.70}$ **g.m**$^{-1}$, $\\bs{L = 0.70}$ **m,** $\\bs{g = 10}$ **m.s**$\\bs{^{-2},\\ v_{sound} = 340\\ m.s^{-1},\\ T}$ **adjusted so that the fundamental frequency is 220 Hz.**\n",
    "**What is the tension in the string?**\n",
    "\n",
    "Intermediate question #2: which formula would you use to conclude?\n",
    "1. $\\omega_1 = \\pi/L$\n",
    "2. $k_1 = \\pi/L$\n",
    "3. $\\omega_1 = \\pi v/L$\n",
    "4. $\\boxed{\\nu_1 = v/(2L)}$\n",
    "\n",
    "The fundamental is the one for which $n=1$, which you have to remember.\n",
    "\n",
    "Notice how the frequency is quoted in Hz, or cycles per second. Therefore, it is\n",
    "$$\\nu_1 = \\frac{\\omega_1}{2\\pi} = \\frac{1}{2\\pi}\\frac{\\pi v}{L}$$\n",
    "we are after."
   ]
  },
  {
   "cell_type": "markdown",
   "metadata": {
    "slideshow": {
     "slide_type": "subslide"
    }
   },
   "source": [
    "Answer:\n",
    "\n",
    "\\begin{align*}\n",
    "    T & = 4L^2 \\nu_1^2 \\mu \\\\\n",
    "      & = 4\\times (0.7\\ m)^2 \\times (220\\ Hz)^2 \\times (1.70\\times 10^{-3}\\ kg.m^{-1}) \\\\\n",
    "      & \\approx 161\\textrm{N}.\n",
    "\\end{align*}"
   ]
  },
  {
   "cell_type": "code",
   "execution_count": 4,
   "metadata": {},
   "outputs": [
    {
     "data": {
      "text/plain": [
       "161.26879999999997"
      ]
     },
     "execution_count": 4,
     "metadata": {},
     "output_type": "execute_result"
    }
   ],
   "source": [
    "4 * (0.7)**2 * (220)**2 * 1.7e-3"
   ]
  },
  {
   "cell_type": "markdown",
   "metadata": {
    "slideshow": {
     "slide_type": "subslide"
    }
   },
   "source": [
    "$\\bs{\\mu = 1.70}$ **g.m**$^{-1}$, $\\bs{L = 0.70}$ **m,** $\\bs{g = 10}$ **m.s**$\\bs{^{-2},\\ v_{sound} = 340\\ m.s^{-1},\\ T}$ **adjusted so that the fundamental frequency is 220 Hz, i.e.,** $\\bs{T = 161}$ **N.**\n",
    "**What mass would produce the same tension?**\n",
    "\n",
    "1. 16.1 g\n",
    "2. 161 g\n",
    "3. 1.61 kg\n",
    "4. 16.1 kg"
   ]
  },
  {
   "cell_type": "markdown",
   "metadata": {
    "slideshow": {
     "slide_type": "subslide"
    }
   },
   "source": [
    "$\\bs{\\mu = 1.70}$ **g.m**$^{-1}$, $\\bs{L = 0.70}$ **m,** $\\bs{g = 10}$ **m.s**$\\bs{^{-2},\\ v_{sound} = 340\\ m.s^{-1},\\ T}$ **adjusted so that the fundamental frequency is 220 Hz, i.e.,** $\\bs{T = 161}$ **N.** \n",
    "**What mass would produce the same tension?**\n",
    "\n",
    "1. 16.1 g\n",
    "2. 161 g\n",
    "3. 1.61 kg\n",
    "4. $\\boxed{16.1\\textrm{ kg}}$\n",
    "\n",
    "$T$ is a force, the equivalent weigth is $mg$ with $g = 10$ m.s$^{-1}$.\n",
    "$$ \\thrfor m = \\frac{T}{g} = 16.1\\textrm{ kg}.$$"
   ]
  },
  {
   "cell_type": "markdown",
   "metadata": {
    "slideshow": {
     "slide_type": "subslide"
    }
   },
   "source": [
    "$\\bs{\\mu = 1.70}$ **g.m**$^{-1}$, $\\bs{L = 0.70}$ **m,** $\\bs{g = 10}$ **m.s**$\\bs{^{-2},\\ v_{sound} = 340\\ m.s^{-1},\\ T}$ **adjusted so that the fundamental frequency is 220 Hz, i.e.,** $\\bs{T = 161}$ **N, with equivalent mass** $\\bs{m = 16.1\\ kg}.$\n",
    "**What is the wavelength of the sound from the string?**\n",
    "\n",
    "1. $\\lambda = 2\\pi/k_1$,\n",
    "2. $\\lambda = v/\\nu_1$\n",
    "3. $\\lambda = 2\\pi/\\omega_1$\n",
    "4. $\\lambda = v_{sound}/\\nu_1$"
   ]
  },
  {
   "cell_type": "markdown",
   "metadata": {
    "slideshow": {
     "slide_type": "subslide"
    }
   },
   "source": [
    "$\\bs{\\mu = 1.70}$ **g.m**$^{-1}$, $\\bs{L = 0.70}$ **m,** $\\bs{g = 10}$ **m.s**$\\bs{^{-2},\\ v_{sound} = 340\\ m.s^{-1},\\ T}$ **adjusted so that the fundamental frequency is 220 Hz, i.e.,** $\\bs{T = 161}$ **N, with equivalent mass** $\\bs{m = 16.1\\ kg}.$\n",
    "**What is the wavelength of the sound from the string?**\n",
    "\n",
    "1. $\\lambda = 2\\pi/k_1\\quad$ (actually same as 2.)\n",
    "2. $\\lambda = v/\\nu_1\\quad$ (actually same as 1.)\n",
    "3. $\\lambda = 2\\pi/\\omega_1\\quad$ (this is a period, in seconds)\n",
    "4. $\\boxed{\\lambda = v_{sound}/\\nu_1}$"
   ]
  },
  {
   "cell_type": "markdown",
   "metadata": {},
   "source": [
    "* Answer 1 or 2: wavelength of string = wavelength of sound\n",
    "* Answer 4: frequency of string = frequency of sound.\n",
    "\n",
    "Why one and not the other?\n",
    "1. because wavelength of sound waves can adapt itself, the air is not bounded,\n",
    "2. sound waves are an eigenmode of motion of the air coupled to the string. It resonates, with the frequency of the string, and the \"pattern\" of oscillation of the string only needs to match that of the air vibrations a little."
   ]
  },
  {
   "cell_type": "code",
   "execution_count": 10,
   "metadata": {
    "slideshow": {
     "slide_type": "subslide"
    }
   },
   "outputs": [
    {
     "data": {
      "text/plain": [
       "1.5454545454545454"
      ]
     },
     "execution_count": 10,
     "metadata": {},
     "output_type": "execute_result"
    }
   ],
   "source": [
    "340./220"
   ]
  },
  {
   "cell_type": "markdown",
   "metadata": {},
   "source": [
    "The final answer is $\\lambda \\approx 1.5$ m."
   ]
  }
 ],
 "metadata": {
  "celltoolbar": "Slideshow",
  "kernelspec": {
   "display_name": "Python [conda root]",
   "language": "python",
   "name": "conda-root-py"
  },
  "language_info": {
   "codemirror_mode": {
    "name": "ipython",
    "version": 3
   },
   "file_extension": ".py",
   "mimetype": "text/x-python",
   "name": "python",
   "nbconvert_exporter": "python",
   "pygments_lexer": "ipython3",
   "version": "3.5.2"
  }
 },
 "nbformat": 4,
 "nbformat_minor": 2
}
