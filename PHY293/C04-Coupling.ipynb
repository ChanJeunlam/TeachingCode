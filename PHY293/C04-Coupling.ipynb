{
 "cells": [
  {
   "cell_type": "raw",
   "metadata": {
    "raw_mimetype": "text/latex",
    "slideshow": {
     "slide_type": "skip"
    }
   },
   "source": [
    "\\newcommand{\\rads}{~rad.s$^{-1}$}\n",
    "\\newcommand{\\bnabla}{\\boldsymbol{\\nabla}}\n",
    "\\newcommand{\\eexp}[1]{\\textrm{e}^{#1}}\n",
    "\\newcommand{\\glm}[1]{\\overline{#1}^L}\n",
    "\\newcommand{\\di}[0]{\\textrm{d}}\n",
    "\\newcommand{\\bs}[1]{\\boldsymbol{#1}}\n",
    "\\newcommand{\\ode}[2]{\\frac{\\di {#1}}{\\di {#2}}}\n",
    "\\newcommand{\\oden}[3]{\\frac{\\di^{#1} {#2}}{\\di {#3}^{#1}}}\n",
    "\\newcommand{\\odel}[2]{\\di {#1}/\\di {#2}}\n",
    "\\newcommand{\\odeln}[3]{\\di^{#1} {#2}/\\di {#3}^{#1}}\n",
    "\\newcommand{\\pde}[2]{\\frac{\\partial {#1}}{\\partial {#2}}}\n",
    "\\newcommand{\\pden}[3]{\\frac{\\partial^{#1} {#2}}{\\partial {#3}^{#1}}}\n",
    "\\newcommand{\\pdel}[2]{\\partial_{#2} {#1}}\n",
    "\\newcommand{\\pdenl}[3]{\\partial^{#1}_{#3} {#2}}\n",
    "\\newcommand{\\divr}[1]{\\vec\\nabla \\cdot {#1}}\n",
    "\\newcommand{\\divrb}[1]{\\boldsymbol{\\nabla} \\cdot {#1}}\n",
    "\\newcommand{\\grad}[1]{\\vec \\nabla {#1}}\n",
    "\\newcommand{\\gradb}[1]{\\boldsymbol\\nabla {#1}}\n",
    "\\newcommand{\\curl}[1]{\\vec\\nabla \\times {#1}}\n",
    "\\newcommand{\\curlb}[1]{\\boldsymbol{\\nabla}\\times\\boldsymbol{#1}}\n",
    "\\newcommand{\\lapl}[0]{\\vec\\nabla^2}\n",
    "\\newcommand{\\laplb}[0]{\\boldsymbol{\\nabla}^2}\n",
    "\\newcommand{\\cplxi}[0]{\\mathrm i}\n",
    "\\newcommand{\\unit}[1]{\\mathbf{\\hat{#1}}}\n",
    "\\newcommand{\\thrfor}[0]{\\quad\\Rightarrow\\quad}\n",
    "\\newcommand{\\andeq}[0]{\\quad\\textrm{and}\\quad}\n",
    "\\newcommand{\\oreq}[0]{\\quad\\textrm{or}\\quad}\n",
    "\\newcommand{\\red}[1]{\\textcolor{red}{#1}}\n",
    "\\newcommand{\\blue}[1]{\\textcolor{blue}{#1}}\n",
    "\\newcommand{\\mage}[1]{\\textcolor{magenta}{#1}}\n",
    "\\newcommand{\\stirling}[2]{\\genfrac{[}{]}{0pt}{}{#1}{#2}}"
   ]
  },
  {
   "cell_type": "raw",
   "metadata": {
    "raw_mimetype": "text/latex",
    "slideshow": {
     "slide_type": "skip"
    }
   },
   "source": [
    "\\DefineVerbatimEnvironment{Verbatim}{Verbatim}{fontsize=\\scriptsize}"
   ]
  },
  {
   "cell_type": "markdown",
   "metadata": {
    "slideshow": {
     "slide_type": "skip"
    }
   },
   "source": [
    "$\\newcommand{\\rads}{~rad.s$^{-1}$}$\n",
    "$\\newcommand{\\bnabla}{\\boldsymbol{\\nabla}}$\n",
    "$\\newcommand{\\eexp}[1]{\\textrm{e}^{#1}}$\n",
    "$\\newcommand{\\glm}[1]{\\overline{#1}^L}$\n",
    "$\\newcommand{\\di}[0]{\\textrm{d}}$\n",
    "$\\newcommand{\\bs}[1]{\\boldsymbol{#1}}$\n",
    "$\\newcommand{\\ode}[2]{\\frac{\\di {#1}}{\\di {#2}}}$\n",
    "$\\newcommand{\\oden}[3]{\\frac{\\di^{#1} {#2}}{\\di {#3}^{#1}}}$\n",
    "$\\newcommand{\\odel}[2]{\\di {#1}/\\di {#2}}$\n",
    "$\\newcommand{\\odeln}[3]{\\di^{#1} {#2}/\\di {#3}^{#1}}$\n",
    "$\\newcommand{\\pde}[2]{\\frac{\\partial {#1}}{\\partial {#2}}}$\n",
    "$\\newcommand{\\pden}[3]{\\frac{\\partial^{#1} {#2}}{\\partial {#3}^{#1}}}$\n",
    "$\\newcommand{\\pdel}[2]{\\partial_{#2} {#1}}$\n",
    "$\\newcommand{\\pdenl}[3]{\\partial^{#1}_{#3} {#2}}$\n",
    "$\\newcommand{\\mde}[1]{\\frac{\\textrm{D} {#1}}{\\textrm{D} t}}$\n",
    "$\\newcommand{\\mdel}[1]{\\textrm{D}_t {#1}}$\n",
    "$\\newcommand{\\divr}[1]{\\vec\\nabla \\cdot {#1}}$\n",
    "$\\newcommand{\\divrb}[1]{\\boldsymbol{\\nabla} \\cdot {#1}}$\n",
    "$\\newcommand{\\grad}[1]{\\vec \\nabla {#1}}$\n",
    "$\\newcommand{\\gradb}[1]{\\boldsymbol\\nabla {#1}}$\n",
    "$\\newcommand{\\curl}[1]{\\vec\\nabla \\times {#1}}$\n",
    "$\\newcommand{\\curlb}[1]{\\boldsymbol{\\nabla}\\times\\boldsymbol{#1}}$\n",
    "$\\newcommand{\\lapl}[0]{\\vec\\nabla^2}$\n",
    "$\\newcommand{\\laplb}[0]{\\boldsymbol{\\nabla}^2}$\n",
    "$\\newcommand{\\cplxi}[0]{\\mathrm i}$\n",
    "$\\newcommand{\\unit}[1]{\\mathbf{\\hat{#1}}}$\n",
    "$\\newcommand{\\thrfor}[0]{\\quad\\Rightarrow\\quad}$\n",
    "$\\newcommand{\\andeq}[0]{\\quad\\textrm{and}\\quad}$\n",
    "$\\newcommand{\\oreq}[0]{\\quad\\textrm{or}\\quad}$\n",
    "$\\newcommand{\\red}[1]{\\textcolor{red}{#1}}$\n",
    "$\\newcommand{\\blue}[1]{\\textcolor{blue}{#1}}$\n",
    "$\\newcommand{\\mage}[1]{\\textcolor{magenta}{#1}}$\n",
    "$\\newcommand{\\stirling}[2]{\\genfrac{[}{]}{0pt}{}{#1}{#2}}$"
   ]
  },
  {
   "cell_type": "code",
   "execution_count": 1,
   "metadata": {
    "raw_mimetype": "text/x-python",
    "slideshow": {
     "slide_type": "skip"
    }
   },
   "outputs": [],
   "source": [
    "from IPython.display import Image, display, YouTubeVideo"
   ]
  },
  {
   "cell_type": "markdown",
   "metadata": {
    "slideshow": {
     "slide_type": "skip"
    }
   },
   "source": [
    "[*Book: chapter 4*]"
   ]
  },
  {
   "cell_type": "markdown",
   "metadata": {
    "slideshow": {
     "slide_type": "skip"
    }
   },
   "source": [
    "# Introduction"
   ]
  },
  {
   "cell_type": "markdown",
   "metadata": {
    "slideshow": {
     "slide_type": "skip"
    }
   },
   "source": [
    "This chapter is a pivotal chapter in this lecture series, and from past experience, one of the most challenging as well.\n",
    "It makes the transition between the behaviour of simple oscillators and wave behaviour.\n",
    "However, these two things look very, very different.\n",
    "Where does the connection happen?"
   ]
  },
  {
   "cell_type": "markdown",
   "metadata": {
    "slideshow": {
     "slide_type": "skip"
    }
   },
   "source": [
    "Here is the pivot, and pretty much the goal of this chapter: when two oscillators are coupled, i.e., the motion of one oscillator is influenced by the motion of the other, any motion that ensues can be thought of as a linear combination of two orthogonal types of motion.\n",
    "The features of these orthogonal types of motion can be found by solving for the eigenmodes of the matrix, corresponding to the $2\\times2$ linear system of equations of the two oscillators.\n",
    "Each orthogonal mode of motion evolves independently, and its evolution equation is that of a simple harmonic oscillator.\n",
    "Physically, the most visible manifestation of one single mode of motion is that all parts of the coupled system of oscillators oscillate at the same frequency, while a different mode will have those parts oscillate at different frequencies."
   ]
  },
  {
   "cell_type": "markdown",
   "metadata": {
    "slideshow": {
     "slide_type": "skip"
    }
   },
   "source": [
    "If now an infinite number of oscillators are coupled, the number of orthogonal modes of motions are not to the number of two, but are infinite.\n",
    "This model can be thought of as a model for a continuous medium, in which waves can propagate.\n",
    "The superposition of this infinite number of modes can lead to an infinite number of patterns that propagate: waves.\n",
    "Once again, each of these modes satisfies the same equation as that of a simple harmonic oscillator."
   ]
  },
  {
   "cell_type": "markdown",
   "metadata": {
    "slideshow": {
     "slide_type": "skip"
    }
   },
   "source": [
    "It is the circle of life, PHY293-style: from oscillators to waves, and back to oscillators.\n",
    "Hopefully, by the end of my lecture series, you will have started to understand this concept."
   ]
  },
  {
   "cell_type": "markdown",
   "metadata": {
    "slideshow": {
     "slide_type": "skip"
    }
   },
   "source": [
    "Finally, throughout the chapter, and in order to simplify the presentation, we neglect damping unless otherwise stated."
   ]
  },
  {
   "cell_type": "markdown",
   "metadata": {
    "slideshow": {
     "slide_type": "skip"
    }
   },
   "source": [
    "But first, let's take a look at the go-to experimental demo of this chapter: the coupled pendulums (also at https://youtu.be/BSC0HG1Nz74 and https://play.library.utoronto.ca/a185a674af2647fc6639939b765f7454)."
   ]
  },
  {
   "cell_type": "code",
   "execution_count": 2,
   "metadata": {
    "scrolled": true,
    "slideshow": {
     "slide_type": "skip"
    }
   },
   "outputs": [
    {
     "data": {
      "image/jpeg": "[encoded data removed]",
      "text/html": [
       "\n",
       "        <iframe\n",
       "            width=\"560\"\n",
       "            height=\"315\"\n",
       "            src=\"https://www.youtube.com/embed/BSC0HG1Nz74\"\n",
       "            frameborder=\"0\"\n",
       "            allowfullscreen\n",
       "        ></iframe>\n",
       "        "
      ],
      "text/plain": [
       "<IPython.lib.display.YouTubeVideo at 0x7feac2724c10>"
      ]
     },
     "execution_count": 2,
     "metadata": {},
     "output_type": "execute_result"
    }
   ],
   "source": [
    "YouTubeVideo('BSC0HG1Nz74', width=560, height=315)"
   ]
  },
  {
   "cell_type": "markdown",
   "metadata": {
    "slideshow": {
     "slide_type": "skip"
    }
   },
   "source": [
    "# Expectations"
   ]
  },
  {
   "cell_type": "markdown",
   "metadata": {
    "slideshow": {
     "slide_type": "subslide"
    }
   },
   "source": [
    "## Remember\n",
    "\n",
    "* A normal mode of oscillation occurs by definition when all of the components of a coupled system of oscillators oscillate at the same frequency. It is an object that is shared globally, by *all* of the components of the oscillator;\n",
    "* That the modes are completely independent when the system is linear; they all have their own quantity of energy;\n",
    "* The definitions of normal frequencies, normal modes, normal coordinates. \n",
    "* That the word 'normal' is equivalent to the prefix 'eigen';\n",
    "* The determinant of a $2\\times2$ matrix.\n",
    "* In the case of an initial value problen, and as for any second-order system, the future evolution of the system can be predicted if one knows all of its physical characteristics (for pendulums, that would be masses, stiffness(es), lengths and gravitational acceleration), the initial positions of each element of the system, and their initial velocities;\n",
    "* Any solution of an initial value problem (IVP) can be written as a linear combination of the $n$ eigenmodes."
   ]
  },
  {
   "cell_type": "markdown",
   "metadata": {
    "slideshow": {
     "slide_type": "subslide"
    }
   },
   "source": [
    "## Understand\n",
    "\n",
    "* what the process of beating is;\n",
    "* what a degree of freedom is;\n",
    "* how projecting can help solving IVPs faster."
   ]
  },
  {
   "cell_type": "markdown",
   "metadata": {
    "slideshow": {
     "slide_type": "subslide"
    }
   },
   "source": [
    "## Apply\n",
    "\n",
    "* A systematic approach to retrieve all of the normal-stuff is to solve an eigenvalue/vector problem. Remember how to cast the equations of motion into a matrix equation, and how to proceed to find all of the eigen-stuff (solve for the roots of the determinant, replace $\\omega$ by $\\omega_n$ to find the eigenvectors, maybe normalize).\n",
    "* How to use initial conditions to completely solve an initial value problem;\n",
    "* How to use projections to solve IVPs.\n",
    "* Worked examples, tutorials and problem sets."
   ]
  },
  {
   "cell_type": "markdown",
   "metadata": {
    "slideshow": {
     "slide_type": "skip"
    }
   },
   "source": [
    "# Coupled Pendulums"
   ]
  },
  {
   "cell_type": "markdown",
   "metadata": {
    "slideshow": {
     "slide_type": "skip"
    }
   },
   "source": [
    "## Simple Pendulum\n",
    "\n",
    "You have seen in the first problem set that the equation of motion of one undamped pendulum of length $l$ is \n",
    "$$ \\ddot \\theta + \\omega_p^2\\theta = 0,$$ \n",
    "with $\\omega^2_p = g/l$ and $\\theta$ is the angle of the pendulum with respect to the direction of gravity (See King fig. 1.15)."
   ]
  },
  {
   "cell_type": "markdown",
   "metadata": {
    "slideshow": {
     "slide_type": "slide"
    }
   },
   "source": [
    "![Fig. 1: King 1.15](SimplePendulum.png)"
   ]
  },
  {
   "cell_type": "markdown",
   "metadata": {
    "slideshow": {
     "slide_type": "skip"
    }
   },
   "source": [
    "Let $x$ be the distance of the mass from the vertical axis (see King fig. 1.15).\n",
    "We have $x = l \\sin\\theta$.\n",
    "In order for the SHO model to be valid, we need the oscillations to remain small, i.e., $\\theta \\ll 1$ or $\\forall t,\\ x(t) \\ll l$.\n",
    "In this case, $\\sin\\theta \\approx \\theta$, meaning that an equivalent equation of motion for the mass is\n",
    "$$ \\ddot x + \\omega_p^2 x = 0. $$"
   ]
  },
  {
   "cell_type": "markdown",
   "metadata": {
    "slideshow": {
     "slide_type": "skip"
    }
   },
   "source": [
    "## Two Pendulums and a Spring\n",
    "\n",
    "### Qualitative considerations\n",
    "\n",
    "#### Setup\n",
    "\n",
    "Let me use the example of two pendulums of identical lengths $l$, at the end of which two identical masses $m$ hang.\n",
    "The masses are attached via a spring of stiffness $k$, as shown on King fig. 4.2. \n",
    "When the two masses are at rest, both pendulums are vertical, and the spring is neither stretched or compressed."
   ]
  },
  {
   "cell_type": "markdown",
   "metadata": {
    "slideshow": {
     "slide_type": "subslide"
    }
   },
   "source": [
    "![Fig. 2: King 4.2](CoupledPendula.png)"
   ]
  },
  {
   "cell_type": "markdown",
   "metadata": {
    "slideshow": {
     "slide_type": "skip"
    }
   },
   "source": [
    "Let's call $B$ the mass on the left, and $A$ the mass on the right.\n",
    "$x_A$ and $x_B$ are the horizontal distances of each mass from their respective rest positions."
   ]
  },
  {
   "cell_type": "markdown",
   "metadata": {
    "slideshow": {
     "slide_type": "skip"
    }
   },
   "source": [
    "I will show how a systematic mathematical treatment of the equations of motion reveals that there are two \"natural\", i.e., normal, modes of motion.\n",
    "But first, let me introduce them qualitatively."
   ]
  },
  {
   "cell_type": "markdown",
   "metadata": {
    "slideshow": {
     "slide_type": "skip"
    }
   },
   "source": [
    "#### Antisymmetric Normal Mode"
   ]
  },
  {
   "cell_type": "markdown",
   "metadata": {
    "slideshow": {
     "slide_type": "subslide"
    }
   },
   "source": [
    "![Fig. 3: the antisymmetric normal mode](pendulum_syn.gif)"
   ]
  },
  {
   "cell_type": "markdown",
   "metadata": {
    "slideshow": {
     "slide_type": "skip"
    }
   },
   "source": [
    "Imagine that at $t=0$, $x_{A0} = x_{B0} = A$, and both masses are held steady initially (no initial velocity).\n",
    "Since the motion of both masses is initialized in the same way, and both pendulums have the same natural frequency $g/l$, they would naturally oscillate in perfect sync, with same amplitude and in phase:"
   ]
  },
  {
   "cell_type": "markdown",
   "metadata": {
    "slideshow": {
     "slide_type": "-"
    }
   },
   "source": [
    "$$ x_A(t) = x_B(t) = A\\cos(\\omega_1 t). $$"
   ]
  },
  {
   "cell_type": "markdown",
   "metadata": {
    "slideshow": {
     "slide_type": "skip"
    }
   },
   "source": [
    "The spring is neither stretched or compressed, and therefore plays no role in this motion.\n",
    "Here is why this mode of motion is what we call a normal mode:\n",
    "**all elements of the coupled system oscillate at the same frequency**, $\\omega_1 =\\omega_p$ here."
   ]
  },
  {
   "cell_type": "markdown",
   "metadata": {
    "slideshow": {
     "slide_type": "skip"
    }
   },
   "source": [
    "#### Symmetric Normal Mode"
   ]
  },
  {
   "cell_type": "markdown",
   "metadata": {
    "slideshow": {
     "slide_type": "fragment"
    }
   },
   "source": [
    "![Fig. 4: the symmetric normal mode](pendulum_asyn.gif)"
   ]
  },
  {
   "cell_type": "markdown",
   "metadata": {
    "slideshow": {
     "slide_type": "skip"
    }
   },
   "source": [
    "We can come up with another type of motion, for which each mass will oscillate sinusoidally with a well-defined frequency."
   ]
  },
  {
   "cell_type": "markdown",
   "metadata": {
    "slideshow": {
     "slide_type": "skip"
    }
   },
   "source": [
    "Our initial conditions are now $x_{A0} = -x_{B0} = A$, with zero initial velocity again. By symmetry, one can expect that the motion is now described by "
   ]
  },
  {
   "cell_type": "markdown",
   "metadata": {
    "slideshow": {
     "slide_type": "-"
    }
   },
   "source": [
    "$$ x_A(t) = A\\cos(\\omega_2 t)\\quad\\textrm{and}\\quad x_{B}(t) = A\\cos(\\omega_2 t +\\pi). $$"
   ]
  },
  {
   "cell_type": "markdown",
   "metadata": {
    "slideshow": {
     "slide_type": "skip"
    }
   },
   "source": [
    "I.e., both positions will oscillate $\\pi$ rad (or 180$^\\circ$) out of phase, and with a single angular frequency $\\omega_2$.\n",
    "What $\\omega_2$ is, is not trivial at this point, because it will include effects due to both restoring forces, i.e., weight and the spring tension.\n",
    "I will derive it soon after, but at this point, I want you to remember that the type of motion is a normal mode because **both pendulums oscillate at the same frequency.**"
   ]
  },
  {
   "cell_type": "markdown",
   "metadata": {
    "slideshow": {
     "slide_type": "skip"
    }
   },
   "source": [
    "Could I find a third normal mode?\n",
    "The answer is no, because there are only two degrees of freedom (the positions of the masses).\n",
    "Is it obvious?\n",
    "Again, the answer is no.\n",
    "The definitive proof is a basic result of linear algebra.\n",
    "In this chapter, I will simply show that these forms of motion appear naturally out of the equations of motion, that no other normal mode is apparent, and that any other form of motion can be described as a linear combination of both forms of motion."
   ]
  },
  {
   "cell_type": "markdown",
   "metadata": {
    "slideshow": {
     "slide_type": "skip"
    }
   },
   "source": [
    "### Systematic Derivation"
   ]
  },
  {
   "cell_type": "markdown",
   "metadata": {
    "slideshow": {
     "slide_type": "subslide"
    }
   },
   "source": [
    "![Fig. 5: King 4.7: the general case](GeneralPendulums.png)"
   ]
  },
  {
   "cell_type": "markdown",
   "metadata": {
    "slideshow": {
     "slide_type": "skip"
    }
   },
   "source": [
    "#### Basic equations\n",
    "\n",
    "Let us now drop any symmetry assumption.\n",
    "The positions $x_A(t)$ and $x_B(t)$ are just what they are."
   ]
  },
  {
   "cell_type": "markdown",
   "metadata": {
    "slideshow": {
     "slide_type": "skip"
    }
   },
   "source": [
    "Let us first focus on mass $A$.\n",
    "The weight of $A$ projected on the direction of the velocity is $F_{WA} = -mg x_A/l$ (see Problem Set 1).\n",
    "The force of the spring on the mass is $F_{s\\to A} = -k(x_A - x_B)$.\n",
    "Strictly speaking, this force is aligned with the direction of the spring, but if the angles of displacement are small, we can also say that its projection on the direction of the trajectory is the same."
   ]
  },
  {
   "cell_type": "markdown",
   "metadata": {
    "slideshow": {
     "slide_type": "skip"
    }
   },
   "source": [
    "Newton's 2$^{nd}$ law applied to the mass is therefore \n",
    "$$ m\\ddot x_A + \\frac{mg}{l}x_A + k(x_A - x_B) = 0,$$\n",
    "or, after division by $m$,\n",
    "$$ \\ddot x_A + \\omega_p^2 x_A + \\omega_s^2(x_A - x_B) = 0, \\hspace{5cm} (1) $$\n",
    "with $\\omega_s^2 = k/m$ (recall that $\\omega_p^2 = g/l$).\n",
    "\n",
    "The same reasoning with mass $B$ yields\n",
    "$$ \\ddot x_B + \\omega_p^2x_B + \\omega_s^2(x_B - x_A) = 0. \\hspace{5cm} (2) $$"
   ]
  },
  {
   "cell_type": "markdown",
   "metadata": {
    "slideshow": {
     "slide_type": "skip"
    }
   },
   "source": [
    "Both equations are almost the same, except for the terms that result from the spring tension, which couples the motion of both masses."
   ]
  },
  {
   "cell_type": "markdown",
   "metadata": {
    "slideshow": {
     "slide_type": "skip"
    }
   },
   "source": [
    "#### Change of variables"
   ]
  },
  {
   "cell_type": "markdown",
   "metadata": {
    "slideshow": {
     "slide_type": "skip"
    }
   },
   "source": [
    "It is not obvious at first, how to solve for $x_A$ and $x_B$ with this coupling term involved.\n",
    "The method we use is a **change of variables.**\n",
    "Define\n",
    "$$ q_1 = x_A + x_B \\andeq q_2 = x_A - x_B.$$"
   ]
  },
  {
   "cell_type": "markdown",
   "metadata": {
    "slideshow": {
     "slide_type": "skip"
    }
   },
   "source": [
    "One simple way to make them appear is to sum and subtract eqns. (1) and (2):\n",
    "\n",
    "* $(1) + (2) \\quad\\Rightarrow\\quad \\ddot q_1 + \\omega_1^2 q_1 = 0$."
   ]
  },
  {
   "cell_type": "markdown",
   "metadata": {
    "slideshow": {
     "slide_type": "skip"
    }
   },
   "source": [
    "This is the equation for an SHO of angular frequency $\\omega_1 = \\omega_p$.\n",
    "The antisymmetric mode of motion that I described earlier on was also oscillating at frequency $\\omega_p$, because the spring wasn't stretching or compressing, and the presence of said spring was not modifying the pendulum natural frequency $\\omega_p$.\n",
    "And since it was characterized by $x_A(t) = x_B(t)$, it corresponded to $q_1 = 2x_A = 2x_B \\neq 0$ and $q_2 = 0$."
   ]
  },
  {
   "cell_type": "markdown",
   "metadata": {
    "slideshow": {
     "slide_type": "skip"
    }
   },
   "source": [
    "*Note: why do I feel the need to introduce $\\omega_1$ on top of $\\omega_p$? Because in general, no frequency of the normal modes is equal to one of the frequencies of the uncoupled oscillators. In this simple case, yes, but I do not want to give false impressions.*"
   ]
  },
  {
   "cell_type": "markdown",
   "metadata": {
    "slideshow": {
     "slide_type": "skip"
    }
   },
   "source": [
    "* $(1) - (2) \\quad\\Rightarrow\\quad \\ddot q_2 + \\omega_p^2 q_2 + 2\\omega_s^2 q_2 = 0.$\n",
    "\n",
    "Or, defining $\\omega_2^2 = \\omega_p^2 + 2\\omega_s^2$,\n",
    "$$ \\ddot q_2 + \\omega_2^2 q_2 = 0. $$\n",
    "Recall the symmetric oscillation mode: it was characterized by $x_A = -x_B$, and therefore $q_1 = 0$ and $q_2 = 2x_A = -2x_B \\neq 0.$\n",
    "I had also mentioned, back then, that $\\omega_2^2$ was not trivial, because it was a mix of the influences of gravity and spring tension.\n",
    "Indeed, here, $\\omega_2$ does contain both the influences of gravity (via $\\omega_p^2$) and spring tension (via $2\\omega_s^2$).\n",
    "Therefore, this mode corresponds to the symmetric mode of motion."
   ]
  },
  {
   "cell_type": "markdown",
   "metadata": {
    "slideshow": {
     "slide_type": "skip"
    }
   },
   "source": [
    "#### Comments (to be remembered!)"
   ]
  },
  {
   "cell_type": "markdown",
   "metadata": {
    "slideshow": {
     "slide_type": "skip"
    }
   },
   "source": [
    "* Modes of oscillations cannot be thought on as simple oscillations anymore, with one object or easily identifiable quantity such as electric current describing an oscillation. It is a **global** concept in which **all** components of one coupled system of oscillators oscillate in phase, at the same frequency, as if described by a (D or S)HO model.\n",
    "* The oscillations of each individual component are not independent from each other, but **the modes are completely independent**: there is no trace of $q_1$ in the equation for $q_2$, and vice-versa. It means that if one initiates the coupled system in a funky way, and the coupled system does a weird dance of oscillations, the degree of complexity is actually finite: one mode has a certain amplitude and a certain phase, and the other mode has a certain amplitude, presumably different, and a certain phase shift with the first mode. The pattern of oscillations might look crazy, but there are only two modes, and they don't exchange energy from one to the other as long as the system is linear.\n",
    "* $q_1$ and $q_2$ are called the **normal coordinates**, or **eigencoordinates**, of the **normal modes**, or **eigenmodes**. Their respective **normal frequencies**, or **eigenfrequencies**, are $\\omega_1$ and $\\omega_2$."
   ]
  },
  {
   "cell_type": "markdown",
   "metadata": {
    "slideshow": {
     "slide_type": "skip"
    }
   },
   "source": [
    "It is as if there is a physical space, in which physical coordinates $x_A$ and $x_B$ exist, and a dual space, in which $q_1$ and $q_2$ exist.\n",
    "Both spaces describe the same physical reality, but because they don't describe it in the same way, the \"dual\" space may be more useful in some cases, including this one."
   ]
  },
  {
   "cell_type": "markdown",
   "metadata": {
    "slideshow": {
     "slide_type": "skip"
    }
   },
   "source": [
    "When you start studying Fourier series and later on Fourier analysis, you may call this dual space the \"Fourier\" space, or \"spectral\" space.\n",
    "It has nothing to do with Halloween, and everything to do with the fact that the visualization of the physical reality in this dual space is called a (Fourier) spectrum, which looks like the display on a sound equalizer (and it is not a coincidence).\n",
    "I may use the term \"Fourier\" inadvertently, by force of habit."
   ]
  },
  {
   "cell_type": "markdown",
   "metadata": {
    "slideshow": {
     "slide_type": "skip"
    }
   },
   "source": [
    "### More on the Independence of the Modes\n",
    "\n",
    "#### General solution as a linear superposition of all modes"
   ]
  },
  {
   "cell_type": "markdown",
   "metadata": {
    "slideshow": {
     "slide_type": "skip"
    }
   },
   "source": [
    "A bit more algebra, because I want to drive home the fact that the two modes are independent.\n",
    "If the coupled system is initiated somewhat randomly, both modes of oscillation will coexist.\n",
    "They both are solutions of two different SHO equations, and their expressions are therefore\n",
    "$$q_1 = C_1\\cos(\\omega_1 t + \\phi_1)\\andeq q_2 = C_2\\cos(\\omega_2 t + \\phi_2).$$"
   ]
  },
  {
   "cell_type": "markdown",
   "metadata": {
    "slideshow": {
     "slide_type": "skip"
    }
   },
   "source": [
    "In physical coordinates, this translates into\n",
    "$$ x_A = \\frac{q_1 + q_2}2 = \\frac12\\left[C_1\\cos(\\omega_1 t + \\phi_1) + C_2\\cos(\\omega_2 t + \\phi_2) \\right],$$\n",
    "$$ x_B = \\frac{q_1 - q_2}2 = \\frac12\\left[C_1\\cos(\\omega_1 t + \\phi_1) - C_2\\cos(\\omega_2 t + \\phi_2) \\right].$$"
   ]
  },
  {
   "cell_type": "markdown",
   "metadata": {
    "slideshow": {
     "slide_type": "skip"
    }
   },
   "source": [
    "Meaning that any motion can be considered a linear superposition of the two modes.\n",
    "For the motion of the antisymmetric mode, $C_2 = 0$, for the symmetric mode, $C_1 = 0$, and in general, $C_1\\neq 0$ and $C_2\\neq 0$."
   ]
  },
  {
   "cell_type": "markdown",
   "metadata": {
    "slideshow": {
     "slide_type": "skip"
    }
   },
   "source": [
    "#### Energetic independence of the modes\n",
    "\n",
    "Here I show that the two modes each have a certain amount of energy, and that this energy does not get traded from one mode to the other.\n",
    "The kinetic energies of $A$ and $B$ are \n",
    "$$ K_{A, B} = \\frac12 m(\\dot x_{A, B})^2, $$\n",
    "their gravitational potential energies are\n",
    "$$ U^{(g)}_{A, B} = \\frac12\\frac{mgx_{A, B}^2}{l} = \\frac12 m\\omega_p^2 x_{A, B}^2 \\quad\\textrm{(see PS1 or King § 1.3.2)}, $$"
   ]
  },
  {
   "cell_type": "markdown",
   "metadata": {
    "slideshow": {
     "slide_type": "skip"
    }
   },
   "source": [
    "and the potential energy stored in the spring is\n",
    "$$ U^{(s)}  = \\frac12 k (x_A - x_B)^2 = \\frac12 m\\omega_s^2 (x_A - x_B)^2.$$ "
   ]
  },
  {
   "cell_type": "markdown",
   "metadata": {
    "slideshow": {
     "slide_type": "skip"
    }
   },
   "source": [
    "The total energy stored in the coupled system is therefore\n",
    "\\begin{align*}\n",
    "    E & = K_A + K_B + U^{(g)}_A + U^{(g)}_B + U^{(s)}, \\\\ \n",
    "      & = \\frac m2\\left\\{(\\dot x_A)^2 + (\\dot x_B)^2 + \\omega_p^2 \\left[x_A^2 + x_B^2\\right] + \\omega_s^2 (x_A - x_B)^2\\right\\}, \\\\\n",
    "      & = E_1 + E_2,\n",
    "\\end{align*}\n",
    "with \n",
    "$$ E_1 = \\frac14 m \\left[(\\dot q_1)^2 + \\omega_1^2 q_1^2\\right]\\andeq E_2 = \\frac14 m \\left[(\\dot q_2)^2 + \\omega_2^2 q_2^2\\right],$$\n",
    "which you can check by plugging in the definitions of $q_1$ and $q_2$ in $E_1$ and $E_2$ above, and by \n",
    "recalling that $\\omega_1^2 = \\omega_p^2$ and $\\omega_2^2 = \\omega_p^2 + 2\\omega_s^2$."
   ]
  },
  {
   "cell_type": "markdown",
   "metadata": {
    "slideshow": {
     "slide_type": "skip"
    }
   },
   "source": [
    "As for the coordinates, each reservoir of energy, $E_1$ and $E_2$, is uncoupled from the other one: **there is no exchange of energy from one mode of motion to the other**.\n",
    "This is true for any system of coupled oscillators, as long as the linear model is valid."
   ]
  },
  {
   "cell_type": "markdown",
   "metadata": {
    "slideshow": {
     "slide_type": "skip"
    }
   },
   "source": [
    "# Beating Phenomenon"
   ]
  },
  {
   "cell_type": "markdown",
   "metadata": {
    "slideshow": {
     "slide_type": "skip"
    }
   },
   "source": [
    "When a coupled system contains two frequencies that are very close to each other, and the two modes beat with similar amplitudes, we observe what is called a beating phenomenon in physical space."
   ]
  },
  {
   "cell_type": "markdown",
   "metadata": {
    "slideshow": {
     "slide_type": "skip"
    }
   },
   "source": [
    "Take the solutions we derived earlier in physical space, but let us assume that $\\phi_1 = \\phi_2 = 0$.\n",
    "It can be physically realized by choosing initial conditions appropriately.\n",
    "But more importantly, the phase shifts won't fundamentally change what I am about to describe, so might as well choose easy ones.\n",
    "$$ x_A = \\frac12\\left[C_1\\cos(\\omega_1 t) + C_2\\cos(\\omega_2 t) \\right],$$\n",
    "$$ x_B = \\frac12\\left[C_1\\cos(\\omega_1 t) - C_2\\cos(\\omega_2 t) \\right].$$"
   ]
  },
  {
   "cell_type": "markdown",
   "metadata": {
    "slideshow": {
     "slide_type": "skip"
    }
   },
   "source": [
    "Let us also consider the case $C_1 = C_2 = C$, because it is the simplest case that can illustrate the beating phenomenon:\n",
    "\n",
    "$$ x_A = \\frac C2\\left[\\cos(\\omega_1 t) + \\cos(\\omega_2 t) \\right] = C\\cos\\left(\\frac{\\omega_1 + \\omega_2}2 t\\right)\\cos\\left(\\frac{\\omega_2 - \\omega_1}2 t\\right),$$\n",
    "$$ x_B = \\frac C2\\left[\\cos(\\omega_1 t) - \\cos(\\omega_2 t) \\right] = C\\sin\\left(\\frac{\\omega_1 + \\omega_2}2 t\\right)\\sin\\left(\\frac{\\omega_2 - \\omega_1}2 t\\right).$$"
   ]
  },
  {
   "cell_type": "markdown",
   "metadata": {
    "slideshow": {
     "slide_type": "subslide"
    }
   },
   "source": [
    "***\n",
    "\n",
    "This went fast, let me do it more slowly (see also https://play.library.utoronto.ca/fdf0002debf728d9825bb4a7cdceb3d4).\n",
    "A bit of trigonometry:\n",
    "recall that \n",
    "$$\\cos(a+b) = \\cos a \\cos b - \\sin a \\sin b$$\n",
    "and \n",
    "$$\\cos(a-b) = \\cos a \\cos b + \\sin a \\sin b.$$\n",
    "Sum those two and you get:\n",
    "$$ \\cos(a-b) + \\cos(a+b) = 2\\cos a\\cos b . $$\n",
    "Subtract them and you obtain\n",
    "$$ \\cos(a-b) - \\cos(a+b) = 2\\sin a\\sin b. $$\n",
    "\n",
    "Now, consider \n",
    "$$a - b = \\omega_1 t \\andeq a + b = \\omega_2 t $$\n",
    "$$\\thrfor a = \\frac{\\omega_1 + \\omega_2}2 t \\andeq b = \\frac{\\omega_2 - \\omega_1}2 t. $$\n",
    "\n",
    "Using these formulas yields the result.\n",
    "\n",
    "***"
   ]
  },
  {
   "cell_type": "markdown",
   "metadata": {
    "slideshow": {
     "slide_type": "skip"
    }
   },
   "source": [
    "Or, if we define $\\Delta\\omega = (\\omega_2 - \\omega_1)/2$ and $\\Omega = (\\omega_1 + \\omega_2)/2$,\n",
    "$$ x_A = C\\cos\\left(\\Omega t\\right)\\cos\\left(\\Delta\\omega t\\right),$$\n",
    "$$ x_B = C\\sin\\left(\\Omega t\\right)\\sin\\left(\\Delta\\omega t\\right).$$"
   ]
  },
  {
   "cell_type": "markdown",
   "metadata": {
    "slideshow": {
     "slide_type": "skip"
    }
   },
   "source": [
    "Now, what if $\\Delta\\omega \\ll \\omega_1$, $\\omega_2$ or $\\Omega$? Then, \n",
    "$$ x_A \\approx C\\cos\\left(\\omega_1 t\\right)\\cos\\left(\\Delta\\omega t\\right),$$\n",
    "$$ x_B \\approx C\\sin\\left(\\omega_1 t\\right)\\sin\\left(\\Delta\\omega t\\right).$$"
   ]
  },
  {
   "cell_type": "markdown",
   "metadata": {
    "slideshow": {
     "slide_type": "skip"
    }
   },
   "source": [
    "Because $\\Delta\\omega \\ll \\omega_1$, the curves look like an oscillation, oscillating at frequency $\\omega_1$, constrained by a sinusoidal envelope of frequency $\\Delta\\omega$ with a much longer period than that of the fast oscillation (see figs. 6 & 7)."
   ]
  },
  {
   "cell_type": "code",
   "execution_count": 67,
   "metadata": {
    "slideshow": {
     "slide_type": "skip"
    }
   },
   "outputs": [],
   "source": [
    "import numpy as np\n",
    "import matplotlib.pyplot as plt\n",
    "from matplotlib import interactive\n",
    "interactive(False)\n",
    "\n",
    "def plot_beating(k, l, ratioA):\n",
    "    \"\"\" This function creates two oscillations, and plots each of them\n",
    "    separately as well as a superposition of\n",
    "    INPUT:\n",
    "    l is the length of the pendulums, increasing it increases periods\n",
    "    k is the stiffness of he spring. Increasing it increases the difference\n",
    "        between the two frequencies. \"\"\"\n",
    "    # basic quantities\n",
    "    # k = 0.5  # spring stiffness [N/m]\n",
    "    m = 0.4  # mass [kg]\n",
    "    g = 9.81  # gravitational acceleration [m/s2]\n",
    "    # l = .5  # lengths of pendulums  [m]\n",
    "    C1 = 1.e-1  # amplitude of mode 1 [m]\n",
    "    C2 = ratioA*C1  # amplitude of mode 2 [m]\n",
    "    ftsz = 11  # font size on plots\n",
    "    lnwt = 1\n",
    "    t_end = 60.\n",
    "\n",
    "    # derived quantities\n",
    "    t = np.linspace(0., t_end, 2048)\n",
    "    omega_p = np.sqrt(g/l)  # natural frequency of uncoupled pendulum\n",
    "    omega_s = np.sqrt(k/m)  # natural frequency of spring\n",
    "\n",
    "    omega_1 = omega_p  # 1st eigenfrequency\n",
    "    omega_2 = np.sqrt(omega_p**2 + 2.*omega_s**2)  # 2nd eigenfrequency\n",
    "    \n",
    "    q1 = C1*np.cos(omega_1*t)\n",
    "    q2 = C2*np.cos(omega_2*t)\n",
    "\n",
    "    xA = 0.5*(q1 + q2)  # position of A\n",
    "\n",
    "    Domega = 0.5*(omega_2 - omega_1)  # Delta omega\n",
    "    envelope = 0.5*C1*((ratioA-1)*np.sin(Domega*t) + \n",
    "                       (ratioA+1)*np.cos(Domega*t))  # C*np.cos(Domega*t)\n",
    "\n",
    "    # 1st plot: each mode individually\n",
    "    plt.figure(figsize=(12, 4), dpi=100)\n",
    "    plt.subplot(311)\n",
    "    ax1 = plt.gca()\n",
    "    #ax1.axvline(0., color='k')\n",
    "    ax1.plot(t, q1/2, 'b', linewidth=lnwt)\n",
    "    ax1.set_xlim([0., t_end])\n",
    "    ax1.set_ylim([-0.05, 0.05])\n",
    "    ax1.set_ylabel('$C_1\\,\\cos(\\omega_1 t)/2$', fontsize=ftsz)\n",
    "    ax1.grid()\n",
    "\n",
    "    plt.subplot(312, sharex=ax1, sharey=ax1)\n",
    "    ax2 = plt.gca()\n",
    "    #ax2.axvline(0., color='k')\n",
    "    ax2.plot(t, q2/2, 'y', linewidth=lnwt)\n",
    "    ax2.set_ylabel('$C_2\\,\\cos(\\omega_2 t)/2$', fontsize=ftsz)\n",
    "    ax2.grid()\n",
    "\n",
    "    plt.subplot(313, sharex=ax1, sharey=ax1)\n",
    "    ax3 = plt.gca()\n",
    "    #ax2.axvline(0., color='k')\n",
    "    ax3.plot(t, q1/2, 'b', linewidth=lnwt, label='$C_1\\,\\cos(\\omega_1 t)/2$')\n",
    "    ax3.plot(t, q2/2, 'y', linewidth=lnwt, label='$C_2\\,\\cos(\\omega_2 t)/2$')\n",
    "    ax3.set_ylabel('Both', fontsize=ftsz)\n",
    "    ax3.set_xlabel('time [s]', fontsize=ftsz)\n",
    "    ax3.legend()\n",
    "    ax3.grid()\n",
    "\n",
    "    # make these tick labels invisible\n",
    "    plt.setp(ax2.get_xticklabels(), visible=False)\n",
    "    plt.setp(ax1.get_xticklabels(), visible=False)\n",
    "    plt.tight_layout()\n",
    "    plt.autoscale(enable=True, axis='x', tight=True)\n",
    "    # plt.savefig('BeatingIndividual.png')\n",
    "    # plt.close()\n",
    "\n",
    "    # 2nd plot: adding the two, the beating phenomenon\n",
    "    plt.figure(figsize=(12, 4), dpi=100)\n",
    "    ax = plt.gca()\n",
    "    ax.axvline(0., color='k')\n",
    "    ax.plot(t, xA, 'g', linewidth=lnwt, label='$x_A(t)$')\n",
    "    if ratioA > 0.99:\n",
    "        ax.plot(t, envelope, 'r-.', label='$C\\,\\cos(\\Delta\\omega t)$')\n",
    "        ax.plot(t, -envelope, 'r--', label='$-C\\,\\cos(\\Delta\\omega t)$')\n",
    "    ax.set_ylim([-0.14, 0.16])\n",
    "    ax.set_xlabel('time [s]', fontsize=ftsz)\n",
    "    ax.set_ylabel('position [m]', fontsize=ftsz)\n",
    "    ax.grid()\n",
    "    ax.legend()\n",
    "\n",
    "    # annotation to highlight the envelope period\n",
    "    if ratioA > 0.99:\n",
    "        T = 2*np.pi/Domega\n",
    "        ax.axvline(T/4, color='k', linestyle='-.')  # the t=T/2 mark\n",
    "        ax.axvline(5*T/4, color='k', linestyle='-.')  # the t=3T/2 mark\n",
    "        ax.annotate(text='', xy=(T/4, -.12), xytext=(5*T/4, -0.12),\n",
    "                    arrowprops=dict(arrowstyle='<|-|>'))  # the double arrow\n",
    "        ax.text(1.5*np.pi/Domega, -.12, r'$2\\pi/\\Delta\\omega$',\n",
    "                verticalalignment='center', horizontalalignment='center',\n",
    "                backgroundcolor='w', fontsize=ftsz)\n",
    "\n",
    "    # annotation to highlight the fast oscillation period\n",
    "    T = 4.*np.pi/(omega_2 + omega_1)\n",
    "    pp = 20.5\n",
    "    t1 = pp*T\n",
    "    t2 = (pp+1)*T\n",
    "    ax.plot([t1]*2, [-C1*np.cos(Domega*t1), 0.13],\n",
    "            color='k')  # the fast period mark #1\n",
    "    ax.plot([t2]*2, [-C1*np.cos(Domega*t2), 0.13],\n",
    "            color='k')  # the fast period mark #2\n",
    "    ax.annotate(text='', xy=(t1-0.2, .11), xytext=(t2+0.2, 0.11),\n",
    "                arrowprops=dict(arrowstyle='<|-|>'))  # the double arrow\n",
    "    ax.text((t1+t2)/2, 0.135, r'$2\\pi/\\Omega$',\n",
    "            verticalalignment='center', horizontalalignment='center',\n",
    "            backgroundcolor='w', fontsize=ftsz)\n",
    "\n",
    "    # finishes\n",
    "    plt.tight_layout()\n",
    "    plt.autoscale(enable=True, axis='x', tight=True)\n",
    "    # plt.savefig('Beating.png')\n",
    "    plt.show()\n",
    "    # plt.close()"
   ]
  },
  {
   "cell_type": "code",
   "execution_count": 68,
   "metadata": {
    "slideshow": {
     "slide_type": "skip"
    }
   },
   "outputs": [
    {
     "data": {
      "image/png": "[encoded data removed]",
      "text/plain": [
       "<Figure size 1200x400 with 3 Axes>"
      ]
     },
     "metadata": {
      "needs_background": "light"
     },
     "output_type": "display_data"
    },
    {
     "data": {
      "image/png": "[encoded data removed]",
      "text/plain": [
       "<Figure size 1200x400 with 1 Axes>"
      ]
     },
     "metadata": {
      "needs_background": "light"
     },
     "output_type": "display_data"
    }
   ],
   "source": [
    "plot_beating(k=0.5, l=0.5, ratioA=1.)  # for pdf export"
   ]
  },
  {
   "cell_type": "markdown",
   "metadata": {
    "slideshow": {
     "slide_type": "skip"
    }
   },
   "source": [
    "*Below, on the Jupyter notebook, you can interactively increase the values of $\\ell$ to decrease the frequency of both modes, and increase $k$ to increase the difference between the two normal frequencies. You should see that as you increase $k$, the beating phenomenon becomes less and less visible. By that I mean that you will still see beats, but they will be less long, the \"bursts\" will become closer and closer and the phases when you see an oscillation and phases when you don't will become less cleanly separated. You may want to increase $\\ell$ just to make the phenomena better visible.*"
   ]
  },
  {
   "cell_type": "code",
   "execution_count": 69,
   "metadata": {
    "slideshow": {
     "slide_type": "skip"
    }
   },
   "outputs": [],
   "source": [
    "from ipywidgets import interact, FloatSlider"
   ]
  },
  {
   "cell_type": "code",
   "execution_count": 70,
   "metadata": {
    "slideshow": {
     "slide_type": "subslide"
    }
   },
   "outputs": [
    {
     "data": {
      "application/vnd.jupyter.widget-view+json": {
       "model_id": "437de2e065e240aebe8680d412e6184b",
       "version_major": 2,
       "version_minor": 0
      },
      "text/plain": [
       "interactive(children=(FloatSlider(value=0.5, description='k', max=3.0, min=0.5), FloatSlider(value=0.5, descri…"
      ]
     },
     "metadata": {},
     "output_type": "display_data"
    },
    {
     "data": {
      "text/plain": [
       "<function __main__.plot_beating(k, l, ratioA)>"
      ]
     },
     "execution_count": 70,
     "metadata": {},
     "output_type": "execute_result"
    }
   ],
   "source": [
    "interact(plot_beating, k=FloatSlider(min=0.5, max=3., step=.1, value=.5), l=FloatSlider(min=0.5, max=2.5, step=.1, value=.5), ratioA=FloatSlider(min=0.0, max=1., step=.1, value=1.))"
   ]
  },
  {
   "cell_type": "markdown",
   "metadata": {
    "slideshow": {
     "slide_type": "skip"
    }
   },
   "source": [
    "Figs. 6 and 7 above: fig. 6 top and middle: two modes, oscillating with equal amplitude and slightly different frequency. fig. 6, bottom: superposition of the two modes. Fig. 7: sum of the two modes for mass A, i.e., $x_A$, forming a beating pattern.\n",
    "\n",
    "Below (Jupyter; also at https://youtu.be/CYnR0haH_Qc and https://play.library.utoronto.ca/081230b94886e73ba70d6016aecd227e), you will find a demo, illustrating the phenomenon of beating with acoustic waves (we will see them again near the end of this part of the course).\n",
    "There is a Khan Academy video that describes the phenomenon qualitatively."
   ]
  },
  {
   "cell_type": "code",
   "execution_count": 39,
   "metadata": {
    "slideshow": {
     "slide_type": "skip"
    }
   },
   "outputs": [
    {
     "data": {
      "image/jpeg": "[encoded data removed]",
      "text/html": [
       "\n",
       "        <iframe\n",
       "            width=\"560\"\n",
       "            height=\"315\"\n",
       "            src=\"https://www.youtube.com/embed/CYnR0haH_Qc\"\n",
       "            frameborder=\"0\"\n",
       "            allowfullscreen\n",
       "        ></iframe>\n",
       "        "
      ],
      "text/plain": [
       "<IPython.lib.display.YouTubeVideo at 0x7feac684fc40>"
      ]
     },
     "execution_count": 39,
     "metadata": {},
     "output_type": "execute_result"
    }
   ],
   "source": [
    "YouTubeVideo('CYnR0haH_Qc', width=560, height=315)"
   ]
  },
  {
   "cell_type": "markdown",
   "metadata": {
    "slideshow": {
     "slide_type": "skip"
    }
   },
   "source": [
    "***\n",
    "\n",
    "*End of 09/29 lecture, beginning of 09/30 lecture.*\n",
    "\n",
    "***"
   ]
  },
  {
   "cell_type": "markdown",
   "metadata": {
    "slideshow": {
     "slide_type": "skip"
    }
   },
   "source": [
    "***\n",
    "\n",
    "**Worked example: King p. 84.**\n",
    "\n",
    "***\n",
    "\n",
    "*Beyond this point, I will not follow King's book closely. You might notice that in his preface, he mentions that his book is designed for a first-year class, for which eigenvalues and eigenvectors would be too advanced a topic. It is our strong opinion (all the instructors involved in PHY293 and 294) that we need to cover this topic in this second-year class, because it is foundational for a lot of other topics that will be tackled in the rest of PHY293-4. If you want a book for help, I can recommend John R. Taylor's \"Classical Mechanics\" (University Science Books), chapter 11, which I am loosely following.*\n",
    "\n",
    "***"
   ]
  },
  {
   "cell_type": "markdown",
   "metadata": {
    "slideshow": {
     "slide_type": "skip"
    }
   },
   "source": [
    "# General Solution Method"
   ]
  },
  {
   "cell_type": "markdown",
   "metadata": {
    "slideshow": {
     "slide_type": "skip"
    }
   },
   "source": [
    "In the previous case, we had only two coupled oscillators, which meant, two degrees of freedom (two normal coordinates).\n",
    "It was simple enough that we could solve it \"by hand\", by defining simple normal coordinates, and adding and subtracting the equations of motion."
   ]
  },
  {
   "cell_type": "markdown",
   "metadata": {
    "slideshow": {
     "slide_type": "skip"
    }
   },
   "source": [
    "But as with all things in linear algebra, difficulty increases rapidly with every equation that we add.\n",
    "For example, what if we coupled 5 oscillators?\n",
    "Not to mention the infinity of oscillators that approximate a continuous medium.\n",
    "We need the systematic and powerful approaches that are offered by linear algebra.\n",
    "And in particular, we will eventually need to use the eigenvector/eigenvalue formalism, which many of you find difficult.\n",
    "It is, however, a necessary step, and a key aspect of the theory of waves and oscillations.\n",
    "So, even though I will have to keep it in mind, my best piece of advice is to brace yourselves.\n",
    "\n",
    "To brush up on linear algebra, you could either pull up your linear algebra notes from last year, or else.\n",
    "We will essentially do what is described in the following video (Jupyter) or at https://youtu.be/PFDu9oVAE-g?t=315 (and that way, I don't have to record one myself).\n",
    "Note that if you go the beginning of this video, the author (Grant Sanderson) says (I am actually paraphrasing him) that if finding eigenvalues and eigenvectors feels complicated, it is usually because understanding of vectors and matrices is shaky to begin with.\n",
    "Fortunately, this particular video is the 10th of 11 videos on linear algrebar (https://www.youtube.com/playlist?list=PLZHQObOWTQDPD3MizzM2xVFitgF8hE_ab).\n",
    "Careful though, it takes a few hours to go through all of them."
   ]
  },
  {
   "cell_type": "code",
   "execution_count": 71,
   "metadata": {
    "scrolled": true,
    "slideshow": {
     "slide_type": "skip"
    }
   },
   "outputs": [
    {
     "data": {
      "image/jpeg": "[encoded data removed]",
      "text/html": [
       "\n",
       "        <iframe\n",
       "            width=\"560\"\n",
       "            height=\"315\"\n",
       "            src=\"https://www.youtube.com/embed/PFDu9oVAE-g?start=315\"\n",
       "            frameborder=\"0\"\n",
       "            allowfullscreen\n",
       "        ></iframe>\n",
       "        "
      ],
      "text/plain": [
       "<IPython.lib.display.YouTubeVideo at 0x7feac5669fa0>"
      ]
     },
     "execution_count": 71,
     "metadata": {},
     "output_type": "execute_result"
    }
   ],
   "source": [
    "YouTubeVideo('PFDu9oVAE-g', width=560, height=315, start=315)"
   ]
  },
  {
   "cell_type": "markdown",
   "metadata": {
    "slideshow": {
     "slide_type": "skip"
    }
   },
   "source": [
    "***\n",
    "\n",
    "*I will not cover the discussion that follows in class. Reading it may help you understand why and how everything works, but it is beyond what it traditionally expected from 2nd year students.*\n",
    "\n",
    "## *Results from Linear Algebra*"
   ]
  },
  {
   "cell_type": "markdown",
   "metadata": {
    "slideshow": {
     "slide_type": "skip"
    }
   },
   "source": [
    "### *General results*\n",
    "\n",
    "*Linear algebra can be messy, especially when it comes to whether a matrix is diagonalizable or not. \n",
    "Fortunately for us, I will only use a few of the most basic results of linear algebra.*"
   ]
  },
  {
   "cell_type": "markdown",
   "metadata": {
    "slideshow": {
     "slide_type": "slide"
    }
   },
   "source": [
    "1. *Finding the eigenvectors and eigenvalues of an $n\\times n$ matrix $A$ means finding the vectors $\\vec V$ and scalars $\\lambda$ such that*\n",
    "    $$ A \\vec V = \\lambda \\vec V, \\oreq (A - \\lambda I_n)\\vec V = 0,\\hspace{5cm}(3)$$\n",
    "    *with $I_n$ the $n\\times n$ identity matrix.*\n",
    "2. *Equation (3) has non-trivial (i.e., non-identically zero, i.e., oscillations with non-zero amplitudes in our case) solutions for $\\vec V$ if and only if\n",
    "    $$ \\det(A - \\lambda I_n) = 0.\\hspace{8cm}(4) $$\n",
    "    The determinant of a matrix is a scalar. Here, it is a polynomial in $\\lambda$. It is called the characteristic polynomial, and its roots are the eigenvalues.*\n",
    "3. *If there is a number $n$ of eigenvalues $\\lambda$ that are all distinct from each other, then the matrix is diagonalizable, and the set of the corresponding eigenvectors forms a basis for the space of solutions. In other words, if $\\vec V_i$, $i \\in \\{1\\dots{} n\\}$ is the complete set of eigenvectors, then any linear combination of them,* \n",
    "    $$\\sum_{i=1}^n a_i \\vec V_i = \\vec X$$\n",
    "    *is a solution of the original problem as well. In all our cases, $a_n \\in \\mathbb R$. Note that with damping, we could have $a_n \\in \\mathbb C$.*\n",
    "    *Furthermore, is $\\vec X$ is a solution of eqn. $(3)$, then it can be decomposed as a linear combination of eigenvectors,*\n",
    "    $$\\vec X = \\sum_{i=1}^n a_i \\vec V_i,$$\n",
    "    *and this decomposition is unique.*\n",
    "    *Note: this condition is sufficient, not necessary. Namely, the converse is not true, and a matrix needs not have all* $n$ *eigenvalues distinct from each other to be diagonalizable. But in our cases, they will be, so let's enjoy it.*"
   ]
  },
  {
   "cell_type": "markdown",
   "metadata": {
    "slideshow": {
     "slide_type": "skip"
    }
   },
   "source": [
    "### *How does this translate into our results?*\n",
    "\n",
    "* *First of all, we will have $n = 2$ for two oscillators;*\n",
    "* *the eigenvectors $\\vec V_i$ will have some connection to our normal modes 1 and 2;*\n",
    "* *the eigenvalues $\\lambda_i$ will have some connection to $\\omega_{1,2}^2$ (they will be the same actually);*\n",
    "* *the eigenvectors, in the abstract case, form a basis of the space of solutions. This is a mathematical manifestation of the fact that any motion of the two masses can be decomposed as the linear combination of two modes, as we saw in the previous section;*\n",
    "* *solving $\\det(A - \\lambda I_2) = 0$ for $\\lambda$ shows the way for solving coupled systems of oscillators systematically. Finding the roots of the polynomial, however messy it might become, will give us $\\omega_1$ and $\\omega_2$. Once we have them, substitution into the original eqn. (3) will give us $\\vec V_1$ and $\\vec V_2$.*\n",
    "\n",
    "*The math will become super messy, but the procedure is well-defined, and easy to make systematic.*\n",
    "\n",
    "*Resuming the normal course of operations.*\n",
    "\n",
    "***"
   ]
  },
  {
   "cell_type": "markdown",
   "metadata": {
    "slideshow": {
     "slide_type": "skip"
    }
   },
   "source": [
    "## Coupled pendulums"
   ]
  },
  {
   "cell_type": "markdown",
   "metadata": {
    "slideshow": {
     "slide_type": "skip"
    }
   },
   "source": [
    "As an illustration of how powerful such an approach is, let me add the extra complexity that the two masses are different, and equal to $m_A$ and $m_B$.\n",
    "I hope to convince you that while it would have made it difficult in our previous approach, it does not represent any extra difficulty with the eigenvector method."
   ]
  },
  {
   "cell_type": "markdown",
   "metadata": {
    "slideshow": {
     "slide_type": "skip"
    }
   },
   "source": [
    "The equations are therefore\n",
    "$$ m_A\\ddot x_A + \\frac{m_A g}{l} x_A + k(x_A - x_B) = 0, \\hspace{5cm}(5)$$\n",
    "$$ m_B\\ddot x_B + \\frac{m_B g}{l} x_B - k(x_A - x_B) = 0, \\hspace{5cm}(6)$$"
   ]
  },
  {
   "cell_type": "markdown",
   "metadata": {
    "slideshow": {
     "slide_type": "skip"
    }
   },
   "source": [
    "Now, define a vector\n",
    "$$\n",
    "\\vec X = \n",
    "\\begin{bmatrix}\n",
    "    x_A \\\\ \n",
    "    x_B,\n",
    "\\end{bmatrix}$$\n",
    "and two matrices\n",
    "$$\n",
    "M = \n",
    "\\begin{bmatrix}\n",
    "    m_A & 0 \\\\ \n",
    "    0 & m_B\n",
    "\\end{bmatrix}\n",
    "\\andeq\n",
    "K = \n",
    "\\begin{bmatrix}\n",
    "     \\frac{m_A g}l + k & -k \\\\\n",
    "     -k & \\frac{m_B g}l + k\n",
    "\\end{bmatrix}.$$"
   ]
  },
  {
   "cell_type": "markdown",
   "metadata": {
    "slideshow": {
     "slide_type": "skip"
    }
   },
   "source": [
    "You can check that\n",
    "$$ M\\ddot{\\vec X} + K \\vec X = \n",
    "\\begin{bmatrix}\n",
    "    m_A\\ddot x_A + \\frac{m_A g}{l} x_A + k(x_A - x_B) \\\\\n",
    "    m_B\\ddot x_B + \\frac{m_B g}{l} x_B - k(x_A - x_B)\n",
    "\\end{bmatrix}\n",
    "= \n",
    "\\begin{bmatrix}\n",
    "    0 \\\\\n",
    "    0\n",
    "\\end{bmatrix},$$\n",
    "or, more simply, that \n",
    "$$\\boxed{ M\\ddot{\\vec X} + K \\vec X = 0. }$$"
   ]
  },
  {
   "cell_type": "markdown",
   "metadata": {
    "slideshow": {
     "slide_type": "skip"
    }
   },
   "source": [
    "This is our new equation of motion.\n",
    "It strongly resembles the SHO equation, and its resolution does involve the same steps:\n",
    "\n",
    "1. assume $\\vec X = \\vec A \\cos(\\omega t + \\phi)$,\n",
    "2. substitute in the EOM and solve for $\\omega$,\n",
    "3. use initial conditions to solve for $\\vec A$ and $\\phi$."
   ]
  },
  {
   "cell_type": "markdown",
   "metadata": {
    "slideshow": {
     "slide_type": "skip"
    }
   },
   "source": [
    "### The first step...\n",
    "... implies that $\\ddot{\\vec X} = -\\omega^2 \\vec X$.\n",
    "Moreover, $M\\ddot{\\vec X} = M(-\\omega^2 \\vec X) = -\\omega^2M \\vec X$ because the algebra is linear."
   ]
  },
  {
   "cell_type": "markdown",
   "metadata": {
    "slideshow": {
     "slide_type": "skip"
    }
   },
   "source": [
    "### For the second step (solving for $\\omega$),\n",
    "$$M\\ddot{\\vec X} + K \\vec X = -\\omega^2 M \\vec X + K\\vec X = \\boxed{\\left(K -\\omega^2 M\\right)\\vec X = 0.} \\hspace{4cm} (7) $$"
   ]
  },
  {
   "cell_type": "markdown",
   "metadata": {
    "slideshow": {
     "slide_type": "skip"
    }
   },
   "source": [
    "Let me recall one of the most important results of linear algebra: **A matrix equation** $\\bs{\\textsf{R}V = 0}$ **has non-trivial (i.e., non-identically zero) solutions if and only if** $\\bs{\\det[\\textsf{R}] =0}$, as I stated in a different form around eqn. (4).\n",
    "Physically, trivial solutions are zero-amplitude oscillations of each mass position or of each mode.\n",
    "Trivially speaking, it is nothing."
   ]
  },
  {
   "cell_type": "markdown",
   "metadata": {
    "slideshow": {
     "slide_type": "skip"
    }
   },
   "source": [
    "The matrices $M$ and $K$ both contain elements that are determined by the physics of the system: masses stiffness, length of pendulum and gravitational acceleration.\n",
    "The only parameter that can be varied is therefore $\\omega$, and it is $\\omega$ we are solving for."
   ]
  },
  {
   "cell_type": "markdown",
   "metadata": {
    "slideshow": {
     "slide_type": "skip"
    }
   },
   "source": [
    "Mathematically, this step corresponds to finding the **eigenvalues** of eqn. $(7)$.\n",
    "It looks different from eqn. $(3)$ though.\n",
    "However, we can cast our equation in this form very easily by multiplying it by \n",
    "$$ M^{-1} = \n",
    "\\begin{bmatrix}\n",
    "    1/m_A & 0 \\\\\n",
    "    0 & 1/m_B\n",
    "\\end{bmatrix},\n",
    "$$\n",
    "i.e.,\n",
    "$$\n",
    "M^{-1}K \\vec X = \\omega^2 \\vec X,\n",
    "$$\n",
    "which looks like a standard eigenvalue problem. The two ways of writing it are strictly equivalent, the form above would appear if I divided eqns. $(5)$ and $(6)$ by $m_A$ and $m_B$, respectively."
   ]
  },
  {
   "cell_type": "markdown",
   "metadata": {
    "slideshow": {
     "slide_type": "skip"
    }
   },
   "source": [
    "We will also need the following formula:\n",
    "$$\\boxed{ \\det\\left(\n",
    "\\begin{bmatrix}\n",
    "    a & b \\\\\n",
    "    c & d\n",
    "\\end{bmatrix}\n",
    "\\right) = ad - bc} \\quad\\textrm{(which I expect you to remember!!!)}.$$"
   ]
  },
  {
   "cell_type": "markdown",
   "metadata": {
    "slideshow": {
     "slide_type": "skip"
    }
   },
   "source": [
    "I am going to do it by hand once, but the real advantage to this method is that it is fairly easy to ask a symbolic calculator or symbolic math software to solve for it. I will do it later, but for now, it is instructional to do it by hand."
   ]
  },
  {
   "cell_type": "markdown",
   "metadata": {
    "slideshow": {
     "slide_type": "skip"
    }
   },
   "source": [
    "Here we go:\n",
    "\\begin{align*}\n",
    "    0 = \\det(K - \\omega^2 M) & = \\det\\left(\n",
    "                                \\begin{bmatrix}\n",
    "                                    \\frac{m_A g}l + k - \\omega^2 m_A & -k \\\\\n",
    "                                    -k & \\frac{m_B g}l + k - \\omega^2 m_B\n",
    "                                \\end{bmatrix}\\right) \\\\\n",
    "                         & = \\left(\\frac{m_A g}l + k - \\omega^2 m_A\\right)\\left(\\frac{m_B g}l + k - \\omega^2 m_B\\right) - k^2 \\\\\n",
    "                         & = m_A m_B \\left[\\left(\\omega_p^2 + \\omega_{sA}^2 - \\omega^2 \\right)\\left(\\omega_p^2 + \\omega_{sB}^2 - \\omega^2\\right) - \\omega_{sA}^2\\omega_{sB}^2\\right],\n",
    "\\end{align*}"
   ]
  },
  {
   "cell_type": "markdown",
   "metadata": {
    "slideshow": {
     "slide_type": "skip"
    }
   },
   "source": [
    "with $\\omega_p^2 = g/l$, $\\omega_{sA}^2 = k/m_A$ and $\\omega_{sB}^2 = k/m_B$.\n",
    "It is a second-degree polynomial in $\\omega^2$, which is not technically hard to solve, but this is a lot of symbols to keep track of.\n",
    "\n",
    "Let us define $\\Omega^2 = \\omega_p^2 + \\omega_A^2 + \\omega_B^2$.\n",
    "If $m_A = m_B$, then $\\omega_{sA}^2 = \\omega_{sB}^2 = \\omega_s^2$ and $\\Omega^2 = \\omega_p^2 + 2\\omega_s^2 = \\omega_2^2$, which is a good sign.\n",
    "Let's plug $\\Omega^2$ in the last line of the set of equations above (and remember that is has to be equal to zero):\n",
    "$$\\omega_p^2\\Omega^2 - \\omega^2 \\left(\\omega_p^2 + \\Omega^2\\right) + \\omega^4 = 0. $$\n",
    "\n",
    "The determinant of this polynomial is\n",
    "$$ \\Delta = \\left(\\omega_p^2 + \\Omega^2\\right)^2 - 4 \\omega_p^2\\Omega^2 = \\left(\\omega_p^2 - \\Omega^2\\right)^2 $$\n",
    "and its roots are\n",
    "\\begin{align*}\n",
    "    \\omega_1'^2 & = \\frac{\\omega_p^2 + \\Omega^2 - \\Omega^2 + \\omega_p^2}{2} = \\omega_p^2 \\\\\n",
    "    \\omega_2'^2 & = \\frac{\\omega_p^2 + \\Omega^2 + \\Omega^2 - \\omega_p^2}{2} = \\Omega^2 = \\omega_p^2 + \\omega_{sA}^2 + \\omega_{sB}^2.\n",
    "\\end{align*}\n",
    "\n",
    "You may notice that $\\omega_1'^2 = \\omega_1^2$ of the previous case, and that if $m_A = m_B = m$, then $\\omega_2'^2 = \\omega_2^2$.\n",
    "These are our two eigenvalues, which are the squares of the normal frequencies!\n",
    "\n",
    "Also, $\\omega_1'^2 \\neq \\omega_2'^2$. Therefore, based on the general results from linear algebra that I recalled earlier, we will have a basis of eigenvectors to decompose all our oscillations onto."
   ]
  },
  {
   "cell_type": "markdown",
   "metadata": {
    "slideshow": {
     "slide_type": "skip"
    }
   },
   "source": [
    "### The third step (solving for $\\vec A$ and $\\phi$)"
   ]
  },
  {
   "cell_type": "markdown",
   "metadata": {
    "slideshow": {
     "slide_type": "skip"
    }
   },
   "source": [
    "#### Polarization of the Eigenvectors\n",
    "\n",
    "We can actually separate $\\vec A$ into $C\\vec Y$, with $\\|\\vec Y\\| = 1$.\n",
    "This makes it easier in the sense that we separate the amplitude of the mode, its strength, or weight, if you will, which resides in $C$ and which is calculated with the knowledge of the initial condition, and $\\vec Y$, which is a feature of the matrix $K - \\omega^2 M$, or of the physical system, and does not depend on the initial conditions.\n",
    "However, requiring that $\\|\\vec Y\\| = 1$ is not required in order to solve a problem! I do it, but some textbooks might do it differently."
   ]
  },
  {
   "cell_type": "markdown",
   "metadata": {
    "slideshow": {
     "slide_type": "skip"
    }
   },
   "source": [
    "In this case,\n",
    "$$ (K - \\omega^2 M)\\vec X = 0 = C (K - \\omega^2 M)\\vec Y \\cos(\\omega t + \\phi) \\quad\\Leftrightarrow\\quad (K - \\omega^2 M)\\vec Y = 0. $$"
   ]
  },
  {
   "cell_type": "markdown",
   "metadata": {
    "slideshow": {
     "slide_type": "skip"
    }
   },
   "source": [
    "Let \n",
    "$$\\vec Y = \n",
    "\\begin{bmatrix}\n",
    "    a \\\\ \n",
    "    b\n",
    "\\end{bmatrix}.$$\n",
    "Looking for the relationship between $a$ and $b$ for a given mode is called looking for the polarization of that mode."
   ]
  },
  {
   "cell_type": "markdown",
   "metadata": {
    "slideshow": {
     "slide_type": "skip"
    }
   },
   "source": [
    "\\begin{align*} \n",
    "    (K - \\omega^2 M)\\vec Y & = \\begin{bmatrix}\n",
    "                                \\frac{m_A g}l + k - \\omega^2 m_A & -k \\\\\n",
    "                                -k & \\frac{m_B g}l + k - \\omega^2 m_B\n",
    "                            \\end{bmatrix}\n",
    "                            \\begin{bmatrix}\n",
    "                                a \\\\ \n",
    "                                b\n",
    "                            \\end{bmatrix} \\\\\n",
    "                           & = \\begin{bmatrix}\n",
    "                                \\left(\\frac{m_A g}l + k - \\omega^2 m_A\\right)a - kb \\\\ \n",
    "                                -ka + \\left(\\frac{m_B g}l + k - \\omega^2 m_B\\right)b\n",
    "                            \\end{bmatrix} \\\\\n",
    "                           & = \\begin{bmatrix}\n",
    "                                   m_A\\left[(\\omega_p^2 + \\omega_{sA}^2 - \\omega^2 )a - \\omega_{sA}^2 b \\right] \\\\ \n",
    "                                   m_B\\left[-\\omega_{sB}^2 a + (\\omega_p^2 + \\omega_{sB}^2 - \\omega^2 )b\\right]\n",
    "                               \\end{bmatrix} = 0 . \\hspace{3cm} (8).\n",
    "\\end{align*}"
   ]
  },
  {
   "cell_type": "markdown",
   "metadata": {
    "slideshow": {
     "slide_type": "skip"
    }
   },
   "source": [
    "* Case $\\omega^2 = \\omega_1^2 = \\omega_p^2$:\n",
    "$$ \\begin{bmatrix}\n",
    "        ka - kb \\\\ \n",
    "        -ka + kb\n",
    "   \\end{bmatrix} = 0 \\thrfor a = b.$$\n",
    "*(Notice how the two equations are redundant.)*\n",
    "Therefore, $a=b$, and since $\\|\\vec Y\\| = \\sqrt{a^2 + b^2} = 1$, $a = b= 1/\\sqrt{2}$.\n",
    "This is the antisymmetric mode.\n",
    "*Note: that the masses are different does not have an impact. This is because the frequency of oscillations of each pendulum does not depend on the mass, attached to each one. Therefore, in this mode, the spring is never stretched or compressed.*"
   ]
  },
  {
   "cell_type": "markdown",
   "metadata": {
    "slideshow": {
     "slide_type": "subslide"
    }
   },
   "source": [
    "![Fig. 8: the antisymmetric normal mode](pendulum_syn.gif)"
   ]
  },
  {
   "cell_type": "markdown",
   "metadata": {
    "slideshow": {
     "slide_type": "skip"
    }
   },
   "source": [
    "* Case $\\omega^2 = \\omega_2^2 = \\omega_p^2 + \\omega_{sA}^2 + \\omega_{sB}^2$.\n",
    "I just use the first line in eqn. (8) because the second line is redundant again:\n",
    "$$ -\\omega_{sB}^2a - \\omega_{sA}^2 b = 0.$$\n",
    "Therefore, $\\omega_{sB} a = -\\omega_{sA}b$.\n",
    "We get it: if $m_A = m_B = m$, this would be the symmetric mode, with $a = 1/\\sqrt{2} = -b$.\n",
    "With $m_A \\neq m_B$, $a$ and $b$ are weighted by some coefficient, i.e., $a = \\omega_{sA}^2/\\sqrt{\\omega_{sA}^4 + \\omega_{sB}^4}$, and $b = -\\omega_{sB}^2/\\sqrt{\\omega_{sA}^4 + \\omega_{sB}^4}$."
   ]
  },
  {
   "cell_type": "markdown",
   "metadata": {
    "slideshow": {
     "slide_type": "-"
    }
   },
   "source": [
    "![Fig. 9: the symmetric normal mode, in the case $m_A = m_B$.](pendulum_asyn.gif)"
   ]
  },
  {
   "cell_type": "markdown",
   "metadata": {
    "slideshow": {
     "slide_type": "skip"
    }
   },
   "source": [
    "***\n",
    "\n",
    "*End of 09/30 lecture, beginning of 10/02 lecture.*\n",
    "\n",
    "***"
   ]
  },
  {
   "cell_type": "markdown",
   "metadata": {
    "slideshow": {
     "slide_type": "skip"
    }
   },
   "source": [
    "#### Eigenvectors as a basis for all the solutions\n",
    "\n"
   ]
  },
  {
   "cell_type": "markdown",
   "metadata": {
    "slideshow": {
     "slide_type": "skip"
    }
   },
   "source": [
    "So far, the connection with general linear algebra results is the following.\n",
    "$\\vec Y_1$ and $\\vec Y_2$ are eigenvectors of the matrix problem, $\\omega_1'^2$ and $\\omega_2'^2$ the eigenvalues (or $\\omega_1'$ and $\\omega_2'$ the eigenfrequencies) and $\\vec X_1$ and $\\vec X_2$ are the eigenmodes of oscillation."
   ]
  },
  {
   "cell_type": "markdown",
   "metadata": {
    "slideshow": {
     "slide_type": "skip"
    }
   },
   "source": [
    "Based on the results from linear algebra that I recalled earlier, it means that all solutions can be written as a linear combination of these eigenmodes:\n",
    "$$ \\vec X = C_1 \\vec Y_1\\cos(\\omega_1 t + \\phi_1) + C_2 \\vec Y_2\\cos(\\omega_2 t + \\phi_2). $$"
   ]
  },
  {
   "cell_type": "markdown",
   "metadata": {
    "slideshow": {
     "slide_type": "skip"
    }
   },
   "source": [
    "#### Amplitudes ($C$) and phases ($\\phi$)."
   ]
  },
  {
   "cell_type": "markdown",
   "metadata": {
    "slideshow": {
     "slide_type": "skip"
    }
   },
   "source": [
    "As with every initial value problem, it can get messy.\n",
    "Let me just do the cases we investigated before, i.e., the worked problem on King p. 84.\n",
    "\n",
    "In all cases, it was assumed that the masses were released from rest.\n",
    "We could check that in this case, $\\phi_1 = \\phi_2 = 0$.\n",
    "It was also assumed that $m_A = m_B$.\n",
    "\n",
    "The first example was $x_A = x_B = A$, which meant that the antisymmetric mode was selected by the initial conditions.\n",
    "In vector form, this means\n",
    "$$\\vec X_0 = \\vec X(t=0) = \\begin{bmatrix}\n",
    "    x_A(t=0) \\\\ \n",
    "    x_B(t=0)\n",
    "\\end{bmatrix}\n",
    "= \\begin{bmatrix}\n",
    "    A \\\\ \n",
    "    A\n",
    "\\end{bmatrix} =  \\sqrt{2} A \\vec Y_1 + 0\\vec Y_2.$$\n",
    "Bam! No need to do any sort of math, we know right away that the symmetric mode is zero."
   ]
  },
  {
   "cell_type": "markdown",
   "metadata": {
    "slideshow": {
     "slide_type": "skip"
    }
   },
   "source": [
    "The second example was $x_A = -x_B = A$, which meant that the symmetric mode was selected by the initial conditions.\n",
    "In vector form, this means\n",
    "$$\\vec X_0 =\n",
    "\\begin{bmatrix}\n",
    "    A \\\\ \n",
    "    -A\n",
    "\\end{bmatrix} =  0\\vec Y_1 + \\sqrt{2}A\\vec Y_2.$$\n",
    "And again! We know right away that the antisymmetric mode is zero."
   ]
  },
  {
   "cell_type": "markdown",
   "metadata": {
    "slideshow": {
     "slide_type": "subslide"
    }
   },
   "source": [
    "### Numerical resolution"
   ]
  },
  {
   "cell_type": "markdown",
   "metadata": {
    "slideshow": {
     "slide_type": "skip"
    }
   },
   "source": [
    "This bit is outside of what is expected of you, and will only benefit to those who read the Jupyter notebooks. As a matter of fact, the pdf export of this part will not be intelligible, though I will try to do the demo in class, time permitting. In any case, it is hard to realize the potential of the eigenmode method without realizing how easy it is to implement it numerically, and how it is possible to scale the numbers of oscillators up from there.\n",
    "So, let's give it a go."
   ]
  },
  {
   "cell_type": "code",
   "execution_count": 128,
   "metadata": {
    "slideshow": {
     "slide_type": "-"
    }
   },
   "outputs": [],
   "source": [
    "from sympy import *  # here I import the entire symbolic math package\n",
    "init_printing()  # to print pretty"
   ]
  },
  {
   "cell_type": "code",
   "execution_count": 129,
   "metadata": {
    "slideshow": {
     "slide_type": "fragment"
    }
   },
   "outputs": [],
   "source": [
    "# we need to declare some symbolic quantities\n",
    "# omega_sA, omega_p, omega = symbols('omega_sA, omega_p, omega', real=True)\n",
    "g, l = symbols('g, l', real=True)\n",
    "k, m_A, m_B = symbols('k, m_A, m_B', real=True)"
   ]
  },
  {
   "cell_type": "code",
   "execution_count": 130,
   "metadata": {},
   "outputs": [
    {
     "data": {
      "image/png": "[encoded data removed]",
      "text/latex": [
       "$\\displaystyle m_{A}$"
      ],
      "text/plain": [
       "m_A"
      ]
     },
     "execution_count": 130,
     "metadata": {},
     "output_type": "execute_result"
    }
   ],
   "source": [
    "m_A"
   ]
  },
  {
   "cell_type": "code",
   "execution_count": 131,
   "metadata": {
    "slideshow": {
     "slide_type": "subslide"
    }
   },
   "outputs": [
    {
     "data": {
      "image/png": "[encoded data removed]",
      "text/latex": [
       "$\\displaystyle \\left[\\begin{matrix}m_{A} & 0\\\\0 & m_{B}\\end{matrix}\\right]$"
      ],
      "text/plain": [
       "⎡m_A   0 ⎤\n",
       "⎢        ⎥\n",
       "⎣ 0   m_B⎦"
      ]
     },
     "execution_count": 131,
     "metadata": {},
     "output_type": "execute_result"
    }
   ],
   "source": [
    "# define the mass matrix\n",
    "M = Matrix([[m_A, 0],\n",
    "            [0, m_B]])\n",
    "M"
   ]
  },
  {
   "cell_type": "code",
   "execution_count": 102,
   "metadata": {
    "slideshow": {
     "slide_type": "fragment"
    }
   },
   "outputs": [
    {
     "data": {
      "image/png": "[encoded data removed]",
      "text/latex": [
       "$\\displaystyle \\left[\\begin{matrix}\\frac{g m_{A}}{l} + k & - k\\\\- k & \\frac{g m_{B}}{l} + k\\end{matrix}\\right]$"
      ],
      "text/plain": [
       "⎡g⋅m_A               ⎤\n",
       "⎢───── + k     -k    ⎥\n",
       "⎢  l                 ⎥\n",
       "⎢                    ⎥\n",
       "⎢           g⋅m_B    ⎥\n",
       "⎢   -k      ───── + k⎥\n",
       "⎣             l      ⎦"
      ]
     },
     "execution_count": 102,
     "metadata": {},
     "output_type": "execute_result"
    }
   ],
   "source": [
    "# Define the stiffness matrix\n",
    "K = Matrix([[m_A*g/l + k, -k],\n",
    "            [-k, m_B*g/l + k]])\n",
    "K"
   ]
  },
  {
   "cell_type": "code",
   "execution_count": 103,
   "metadata": {
    "slideshow": {
     "slide_type": "subslide"
    }
   },
   "outputs": [
    {
     "data": {
      "image/png": "[encoded data removed]",
      "text/latex": [
       "$\\displaystyle \\left[\\begin{matrix}\\frac{g}{l} + \\frac{k}{m_{A}} & - \\frac{k}{m_{A}}\\\\- \\frac{k}{m_{B}} & \\frac{g}{l} + \\frac{k}{m_{B}}\\end{matrix}\\right]$"
      ],
      "text/plain": [
       "⎡g    k     -k   ⎤\n",
       "⎢─ + ───    ───  ⎥\n",
       "⎢l   m_A    m_A  ⎥\n",
       "⎢                ⎥\n",
       "⎢  -k     g    k ⎥\n",
       "⎢  ───    ─ + ───⎥\n",
       "⎣  m_B    l   m_B⎦"
      ]
     },
     "execution_count": 103,
     "metadata": {},
     "output_type": "execute_result"
    }
   ],
   "source": [
    "# Compute M**(-1)*K\n",
    "EVecMat = M.inv()*K\n",
    "expand(EVecMat)"
   ]
  },
  {
   "cell_type": "code",
   "execution_count": 104,
   "metadata": {
    "slideshow": {
     "slide_type": "fragment"
    }
   },
   "outputs": [],
   "source": [
    "# A bit of refinement: we can substitute k/m_A by omega_SA, etc.\n",
    "# but first, we need to declare those symbolic variables\n",
    "omega_sA, omega_sB = symbols('omega_sA, omega_sB', real=True)\n",
    "omega_p = Symbol('omega_p', real=True)"
   ]
  },
  {
   "cell_type": "code",
   "execution_count": 105,
   "metadata": {
    "slideshow": {
     "slide_type": "subslide"
    }
   },
   "outputs": [
    {
     "data": {
      "image/png": "[encoded data removed]",
      "text/latex": [
       "$\\displaystyle \\left[\\begin{matrix}\\frac{g}{l} + \\omega_{sA}^{2} & - \\omega_{sA}^{2}\\\\- \\frac{k}{m_{B}} & \\frac{g}{l} + \\frac{k}{m_{B}}\\end{matrix}\\right]$"
      ],
      "text/plain": [
       "⎡g       2       2 ⎤\n",
       "⎢─ + ω_sA   -ω_sA  ⎥\n",
       "⎢l                 ⎥\n",
       "⎢                  ⎥\n",
       "⎢   -k      g    k ⎥\n",
       "⎢   ───     ─ + ───⎥\n",
       "⎣   m_B     l   m_B⎦"
      ]
     },
     "execution_count": 105,
     "metadata": {},
     "output_type": "execute_result"
    }
   ],
   "source": [
    "New_EVMat = expand(EVecMat).subs(k/m_A, omega_sA**2); New_EVMat"
   ]
  },
  {
   "cell_type": "code",
   "execution_count": 106,
   "metadata": {
    "slideshow": {
     "slide_type": "fragment"
    }
   },
   "outputs": [
    {
     "data": {
      "image/png": "[encoded data removed]",
      "text/latex": [
       "$\\displaystyle \\left[\\begin{matrix}\\frac{g}{l} + \\omega_{sA}^{2} & - \\omega_{sA}^{2}\\\\- \\omega_{sB}^{2} & \\frac{g}{l} + \\omega_{sB}^{2}\\end{matrix}\\right]$"
      ],
      "text/plain": [
       "⎡g       2        2  ⎤\n",
       "⎢─ + ω_sA    -ω_sA   ⎥\n",
       "⎢l                   ⎥\n",
       "⎢                    ⎥\n",
       "⎢      2    g       2⎥\n",
       "⎢ -ω_sB     ─ + ω_sB ⎥\n",
       "⎣           l        ⎦"
      ]
     },
     "execution_count": 106,
     "metadata": {},
     "output_type": "execute_result"
    }
   ],
   "source": [
    "New_EVMat = expand(New_EVMat).subs(k/m_B, omega_sB**2); New_EVMat"
   ]
  },
  {
   "cell_type": "code",
   "execution_count": 107,
   "metadata": {
    "slideshow": {
     "slide_type": "fragment"
    }
   },
   "outputs": [
    {
     "data": {
      "image/png": "[encoded data removed]",
      "text/latex": [
       "$\\displaystyle \\left[\\begin{matrix}\\omega_{p}^{2} + \\omega_{sA}^{2} & - \\omega_{sA}^{2}\\\\- \\omega_{sB}^{2} & \\omega_{p}^{2} + \\omega_{sB}^{2}\\end{matrix}\\right]$"
      ],
      "text/plain": [
       "⎡  2       2         2   ⎤\n",
       "⎢ωₚ  + ω_sA     -ω_sA    ⎥\n",
       "⎢                        ⎥\n",
       "⎢       2       2       2⎥\n",
       "⎣  -ω_sB      ωₚ  + ω_sB ⎦"
      ]
     },
     "execution_count": 107,
     "metadata": {},
     "output_type": "execute_result"
    }
   ],
   "source": [
    "New_EVMat = expand(New_EVMat).subs(g/l, omega_p**2); New_EVMat"
   ]
  },
  {
   "cell_type": "code",
   "execution_count": 108,
   "metadata": {
    "slideshow": {
     "slide_type": "subslide"
    }
   },
   "outputs": [
    {
     "data": {
      "image/png": "[encoded data removed]",
      "text/latex": [
       "$\\displaystyle \\left[\\begin{matrix}\\omega_{p}^{2} + \\omega_{sA}^{2} & - \\omega_{sA}^{2}\\\\- \\omega_{sB}^{2} & \\omega_{p}^{2} + \\omega_{sB}^{2}\\end{matrix}\\right]$"
      ],
      "text/plain": [
       "⎡  2       2         2   ⎤\n",
       "⎢ωₚ  + ω_sA     -ω_sA    ⎥\n",
       "⎢                        ⎥\n",
       "⎢       2       2       2⎥\n",
       "⎣  -ω_sB      ωₚ  + ω_sB ⎦"
      ]
     },
     "execution_count": 108,
     "metadata": {},
     "output_type": "execute_result"
    }
   ],
   "source": [
    "# Or it can be done in one fell swoop:\n",
    "New_EVMat = (expand(EVecMat).subs(k/m_A, omega_sA**2)\n",
    "                            .subs(k/m_B, omega_sB**2)\n",
    "                            .subs(g/l, omega_p**2))\n",
    "New_EVMat"
   ]
  },
  {
   "cell_type": "code",
   "execution_count": 109,
   "metadata": {
    "slideshow": {
     "slide_type": "subslide"
    }
   },
   "outputs": [
    {
     "data": {
      "image/png": "[encoded data removed]",
      "text/latex": [
       "$\\displaystyle \\left[ \\left( \\omega_{p}^{2}, \\  1, \\  \\left[ \\left[\\begin{matrix}1\\\\1\\end{matrix}\\right]\\right]\\right), \\  \\left( \\omega_{p}^{2} + \\omega_{sA}^{2} + \\omega_{sB}^{2}, \\  1, \\  \\left[ \\left[\\begin{matrix}- \\frac{\\omega_{sA}^{2}}{\\omega_{sB}^{2}}\\\\1\\end{matrix}\\right]\\right]\\right)\\right]$"
      ],
      "text/plain": [
       "⎡                 ⎛                        ⎡⎡     2 ⎤⎤⎞⎤\n",
       "⎢                 ⎜                        ⎢⎢-ω_sA  ⎥⎥⎟⎥\n",
       "⎢⎛  2     ⎡⎡1⎤⎤⎞  ⎜  2       2       2     ⎢⎢───────⎥⎥⎟⎥\n",
       "⎢⎜ωₚ , 1, ⎢⎢ ⎥⎥⎟, ⎜ωₚ  + ω_sA  + ω_sB , 1, ⎢⎢     2 ⎥⎥⎟⎥\n",
       "⎢⎝        ⎣⎣1⎦⎦⎠  ⎜                        ⎢⎢ ω_sB  ⎥⎥⎟⎥\n",
       "⎢                 ⎜                        ⎢⎢       ⎥⎥⎟⎥\n",
       "⎣                 ⎝                        ⎣⎣   1   ⎦⎦⎠⎦"
      ]
     },
     "execution_count": 109,
     "metadata": {},
     "output_type": "execute_result"
    }
   ],
   "source": [
    "# And now the finishing touch\n",
    "New_EVMat.eigenvects()"
   ]
  },
  {
   "cell_type": "markdown",
   "metadata": {
    "slideshow": {
     "slide_type": "fragment"
    }
   },
   "source": [
    "The line above is to be interpreted in the following way:\n",
    "\n",
    "1. There are two different eigenvalues, $\\omega_p^2$ and $\\omega_p^2+\\omega_{sA}^2+\\omega_{sB}^2$,\n",
    "2. each of these eigenvalues appears only once (this is what the \"1\" numbers mean in second positions),\n",
    "3. the eigenvectors are $[1, 1]$ (antisymmetric) and $[-\\omega_{sA}^2/\\omega_{sB}^2, 1]$ (pseudo-symmetric).\n",
    "Note how python doesn't care about normalizing the eigenvector norms, and that it used a different sign convention from me. It means that it does not really matter."
   ]
  },
  {
   "cell_type": "code",
   "execution_count": 110,
   "metadata": {
    "slideshow": {
     "slide_type": "subslide"
    }
   },
   "outputs": [
    {
     "data": {
      "image/png": "[encoded data removed]",
      "text/latex": [
       "$\\displaystyle \\left[\\begin{matrix}\\omega_{pA}^{2} + \\omega_{sA}^{2} & - \\omega_{sA}^{2}\\\\- \\omega_{sB}^{2} & \\omega_{pB}^{2} + \\omega_{sB}^{2}\\end{matrix}\\right]$"
      ],
      "text/plain": [
       "⎡    2       2          2    ⎤\n",
       "⎢ω_pA  + ω_sA      -ω_sA     ⎥\n",
       "⎢                            ⎥\n",
       "⎢        2          2       2⎥\n",
       "⎣   -ω_sB       ω_pB  + ω_sB ⎦"
      ]
     },
     "execution_count": 110,
     "metadata": {},
     "output_type": "execute_result"
    }
   ],
   "source": [
    "# I can even do it with two different length of pendulums!\n",
    "l_A, l_B = symbols('l_A, l_B', real=True)\n",
    "omega_pA, omega_pB = symbols('omega_pA, omega_pB', real=True)\n",
    "\n",
    "# New stiffness matrix\n",
    "K_2 = Matrix([[m_A*g/l_A + k, -k],\n",
    "              [-k, m_B*g/l_B + k]])\n",
    "\n",
    "# new eigenvector problem\n",
    "EVecMat_2 = M.inv()*K_2\n",
    "New_EVMat_2 = (expand(EVecMat_2).subs(k/m_A, omega_sA**2)\n",
    "                                .subs(k/m_B, omega_sB**2)\n",
    "                                .subs(g/l_A, omega_pA**2)\n",
    "                                .subs(g/l_B, omega_pB**2))\n",
    "\n",
    "New_EVMat_2"
   ]
  },
  {
   "cell_type": "code",
   "execution_count": 111,
   "metadata": {
    "slideshow": {
     "slide_type": "subslide"
    }
   },
   "outputs": [
    {
     "data": {
      "image/png": "[encoded data removed]",
      "text/latex": [
       "$\\displaystyle \\left[ \\left( \\frac{\\omega_{pA}^{2}}{2} + \\frac{\\omega_{pB}^{2}}{2} + \\frac{\\omega_{sA}^{2}}{2} + \\frac{\\omega_{sB}^{2}}{2} - \\frac{\\sqrt{\\omega_{pA}^{4} - 2 \\omega_{pA}^{2} \\omega_{pB}^{2} + 2 \\omega_{pA}^{2} \\omega_{sA}^{2} - 2 \\omega_{pA}^{2} \\omega_{sB}^{2} + \\omega_{pB}^{4} - 2 \\omega_{pB}^{2} \\omega_{sA}^{2} + 2 \\omega_{pB}^{2} \\omega_{sB}^{2} + \\omega_{sA}^{4} + 2 \\omega_{sA}^{2} \\omega_{sB}^{2} + \\omega_{sB}^{4}}}{2}, \\  1, \\  \\left[ \\left[\\begin{matrix}\\frac{\\omega_{pB}^{2} + \\omega_{sB}^{2}}{\\omega_{sB}^{2}} - \\frac{\\frac{\\omega_{pA}^{2}}{2} + \\frac{\\omega_{pB}^{2}}{2} + \\frac{\\omega_{sA}^{2}}{2} + \\frac{\\omega_{sB}^{2}}{2} - \\frac{\\sqrt{\\omega_{pA}^{4} - 2 \\omega_{pA}^{2} \\omega_{pB}^{2} + 2 \\omega_{pA}^{2} \\omega_{sA}^{2} - 2 \\omega_{pA}^{2} \\omega_{sB}^{2} + \\omega_{pB}^{4} - 2 \\omega_{pB}^{2} \\omega_{sA}^{2} + 2 \\omega_{pB}^{2} \\omega_{sB}^{2} + \\omega_{sA}^{4} + 2 \\omega_{sA}^{2} \\omega_{sB}^{2} + \\omega_{sB}^{4}}}{2}}{\\omega_{sB}^{2}}\\\\1\\end{matrix}\\right]\\right]\\right), \\  \\left( \\frac{\\omega_{pA}^{2}}{2} + \\frac{\\omega_{pB}^{2}}{2} + \\frac{\\omega_{sA}^{2}}{2} + \\frac{\\omega_{sB}^{2}}{2} + \\frac{\\sqrt{\\omega_{pA}^{4} - 2 \\omega_{pA}^{2} \\omega_{pB}^{2} + 2 \\omega_{pA}^{2} \\omega_{sA}^{2} - 2 \\omega_{pA}^{2} \\omega_{sB}^{2} + \\omega_{pB}^{4} - 2 \\omega_{pB}^{2} \\omega_{sA}^{2} + 2 \\omega_{pB}^{2} \\omega_{sB}^{2} + \\omega_{sA}^{4} + 2 \\omega_{sA}^{2} \\omega_{sB}^{2} + \\omega_{sB}^{4}}}{2}, \\  1, \\  \\left[ \\left[\\begin{matrix}\\frac{\\omega_{pB}^{2} + \\omega_{sB}^{2}}{\\omega_{sB}^{2}} - \\frac{\\frac{\\omega_{pA}^{2}}{2} + \\frac{\\omega_{pB}^{2}}{2} + \\frac{\\omega_{sA}^{2}}{2} + \\frac{\\omega_{sB}^{2}}{2} + \\frac{\\sqrt{\\omega_{pA}^{4} - 2 \\omega_{pA}^{2} \\omega_{pB}^{2} + 2 \\omega_{pA}^{2} \\omega_{sA}^{2} - 2 \\omega_{pA}^{2} \\omega_{sB}^{2} + \\omega_{pB}^{4} - 2 \\omega_{pB}^{2} \\omega_{sA}^{2} + 2 \\omega_{pB}^{2} \\omega_{sB}^{2} + \\omega_{sA}^{4} + 2 \\omega_{sA}^{2} \\omega_{sB}^{2} + \\omega_{sB}^{4}}}{2}}{\\omega_{sB}^{2}}\\\\1\\end{matrix}\\right]\\right]\\right)\\right]$"
      ],
      "text/plain": [
       "⎡⎛                                                                                                                                      \n",
       "⎢⎜                                                                                                                                      \n",
       "⎢⎜                                   ___________________________________________________________________________________________________\n",
       "⎢⎜    2       2       2       2     ╱     4         2     2         2     2         2     2       4         2     2         2     2     \n",
       "⎢⎜ω_pA    ω_pB    ω_sA    ω_sB    ╲╱  ω_pA  - 2⋅ω_pA ⋅ω_pB  + 2⋅ω_pA ⋅ω_sA  - 2⋅ω_pA ⋅ω_sB  + ω_pB  - 2⋅ω_pB ⋅ω_sA  + 2⋅ω_pB ⋅ω_sB  + ω_\n",
       "⎢⎜───── + ───── + ───── + ───── - ──────────────────────────────────────────────────────────────────────────────────────────────────────\n",
       "⎢⎜  2       2       2       2                                                                     2                                     \n",
       "⎢⎜                                                                                                                                      \n",
       "⎢⎜                                                                                                                                      \n",
       "⎣⎝                                                                                                                                      \n",
       "\n",
       "                                 ⎡⎡                                                   __________________________________________________\n",
       "                                 ⎢⎢                    2       2       2       2     ╱     4         2     2         2     2         2  \n",
       "____________________________     ⎢⎢                ω_pA    ω_pB    ω_sA    ω_sB    ╲╱  ω_pA  - 2⋅ω_pA ⋅ω_pB  + 2⋅ω_pA ⋅ω_sA  - 2⋅ω_pA ⋅ω\n",
       "  4         2     2       4      ⎢⎢    2       2   ───── + ───── + ───── + ───── - ─────────────────────────────────────────────────────\n",
       "sA  + 2⋅ω_sA ⋅ω_sB  + ω_sB       ⎢⎢ω_pB  + ω_sB      2       2       2       2                                                          \n",
       "────────────────────────────, 1, ⎢⎢───────────── - ─────────────────────────────────────────────────────────────────────────────────────\n",
       "                                 ⎢⎢        2                                                                                         2  \n",
       "                                 ⎢⎢    ω_sB                                                                                      ω_sB   \n",
       "                                 ⎢⎢                                                                                                     \n",
       "                                 ⎣⎣                                                                                        1            \n",
       "\n",
       "_____________________________________________________________________________⎤⎤⎞  ⎛                                                     \n",
       "   2       4         2     2         2     2       4         2     2       4 ⎥⎥⎟  ⎜                                                     \n",
       "_sB  + ω_pB  - 2⋅ω_pB ⋅ω_sA  + 2⋅ω_pB ⋅ω_sB  + ω_sA  + 2⋅ω_sA ⋅ω_sB  + ω_sB  ⎥⎥⎟  ⎜                                   __________________\n",
       "─────────────────────────────────────────────────────────────────────────────⎥⎥⎟  ⎜    2       2       2       2     ╱     4         2  \n",
       "           2                                                                 ⎥⎥⎟  ⎜ω_pA    ω_pB    ω_sA    ω_sB    ╲╱  ω_pA  - 2⋅ω_pA ⋅ω\n",
       "─────────────────────────────────────────────────────────────────────────────⎥⎥⎟, ⎜───── + ───── + ───── + ───── + ─────────────────────\n",
       "                                                                             ⎥⎥⎟  ⎜  2       2       2       2                          \n",
       "                                                                             ⎥⎥⎟  ⎜                                                     \n",
       "                                                                             ⎥⎥⎟  ⎜                                                     \n",
       "                                                                             ⎦⎦⎠  ⎝                                                     \n",
       "\n",
       "                                                                                                                  ⎡⎡                    \n",
       "                                                                                                                  ⎢⎢                    \n",
       "_____________________________________________________________________________________________________________     ⎢⎢                ω_pA\n",
       "   2         2     2         2     2       4         2     2         2     2       4         2     2       4      ⎢⎢    2       2   ────\n",
       "_pB  + 2⋅ω_pA ⋅ω_sA  - 2⋅ω_pA ⋅ω_sB  + ω_pB  - 2⋅ω_pB ⋅ω_sA  + 2⋅ω_pB ⋅ω_sB  + ω_sA  + 2⋅ω_sA ⋅ω_sB  + ω_sB       ⎢⎢ω_pB  + ω_sB      2 \n",
       "─────────────────────────────────────────────────────────────────────────────────────────────────────────────, 1, ⎢⎢───────────── - ────\n",
       "                                           2                                                                      ⎢⎢        2           \n",
       "                                                                                                                  ⎢⎢    ω_sB            \n",
       "                                                                                                                  ⎢⎢                    \n",
       "                                                                                                                  ⎣⎣                    \n",
       "\n",
       "                               _________________________________________________________________________________________________________\n",
       "2       2       2       2     ╱     4         2     2         2     2         2     2       4         2     2         2     2       4   \n",
       "    ω_pB    ω_sA    ω_sB    ╲╱  ω_pA  - 2⋅ω_pA ⋅ω_pB  + 2⋅ω_pA ⋅ω_sA  - 2⋅ω_pA ⋅ω_sB  + ω_pB  - 2⋅ω_pB ⋅ω_sA  + 2⋅ω_pB ⋅ω_sB  + ω_sA  + \n",
       "─ + ───── + ───── + ───── + ────────────────────────────────────────────────────────────────────────────────────────────────────────────\n",
       "      2       2       2                                                                     2                                           \n",
       "────────────────────────────────────────────────────────────────────────────────────────────────────────────────────────────────────────\n",
       "                                                                              2                                                         \n",
       "                                                                          ω_sB                                                          \n",
       "                                                                                                                                        \n",
       "                                                                    1                                                                   \n",
       "\n",
       "______________________⎤⎤⎞⎤\n",
       "      2     2       4 ⎥⎥⎟⎥\n",
       "2⋅ω_sA ⋅ω_sB  + ω_sB  ⎥⎥⎟⎥\n",
       "──────────────────────⎥⎥⎟⎥\n",
       "                      ⎥⎥⎟⎥\n",
       "──────────────────────⎥⎥⎟⎥\n",
       "                      ⎥⎥⎟⎥\n",
       "                      ⎥⎥⎟⎥\n",
       "                      ⎥⎥⎟⎥\n",
       "                      ⎦⎦⎠⎦"
      ]
     },
     "execution_count": 111,
     "metadata": {},
     "output_type": "execute_result"
    }
   ],
   "source": [
    "New_EVMat_2.eigenvects()"
   ]
  },
  {
   "cell_type": "markdown",
   "metadata": {
    "slideshow": {
     "slide_type": "skip"
    }
   },
   "source": [
    "*Note: the result above is so long that it will not display properly on the pdf version of the notes. Which is the message here: the result is so long, it is not practical to handle it symbolically.*"
   ]
  },
  {
   "cell_type": "markdown",
   "metadata": {
    "slideshow": {
     "slide_type": "skip"
    }
   },
   "source": [
    "Obviously, in a practical setting, we would be using a numerical math package, not a symbolic one!\n",
    "These excruciatingly complicated expressions would become mere numbers, which computers could crunch out."
   ]
  },
  {
   "cell_type": "markdown",
   "metadata": {
    "slideshow": {
     "slide_type": "skip"
    }
   },
   "source": [
    "***\n",
    "\n",
    "\n",
    "\n",
    "# *Other Examples*\n",
    "\n",
    "*For the sake of time, I will not cover these in class. You should be able to do the masses coupled by springs by yourself, as a practice problem. It is something I could ask in an exam, and the problem set should feature several derived problems. Ocean tides are outside of the scope of this class, and only serves an illustrative purpose.*\n",
    "\n",
    "## *Masses Coupled by Springs*"
   ]
  },
  {
   "cell_type": "markdown",
   "metadata": {
    "slideshow": {
     "slide_type": "slide"
    }
   },
   "source": [
    "See King fig. 4.11.\n",
    "![Fig. 10: King 4.11](CoupledMassesSprings.png)"
   ]
  },
  {
   "cell_type": "markdown",
   "metadata": {
    "slideshow": {
     "slide_type": "subslide"
    }
   },
   "source": [
    "#### *Equations of motion*\n",
    "*Let both masses be equal this time, and let all the stiffnesses be equal as well.\n",
    "Equations are:*\n",
    "$$ m \\ddot x_A = -k x_A + k(x_B - x_A) = k x_B - 2 k x_A, $$\n",
    "$$ m \\ddot x_B = -k (x_B - x_A) - kx_B = k x_A - 2 k x_B. $$"
   ]
  },
  {
   "cell_type": "markdown",
   "metadata": {
    "slideshow": {
     "slide_type": "fragment"
    }
   },
   "source": [
    "*Dividing by $m$:*\n",
    "$$ \\ddot x_A = \\omega_s^2 (x_B - 2 x_A), $$\n",
    "$$ \\ddot x_B = \\omega_s^2 (x_A - 2 x_B). $$"
   ]
  },
  {
   "cell_type": "markdown",
   "metadata": {
    "slideshow": {
     "slide_type": "fragment"
    }
   },
   "source": [
    "#### *Form of the solution*\n",
    "*We are looking for normal modes.\n",
    "Recall the definition of the normal modes:* **normal modes are modes for which all elements of the coupled system oscillate at the same, unique frequency.**\n",
    "*Therefore, we look for solutions of the form*\n",
    "$$ \\vec X = C\\vec Y \\cos(\\omega t + \\phi). $$"
   ]
  },
  {
   "cell_type": "markdown",
   "metadata": {
    "slideshow": {
     "slide_type": "skip"
    }
   },
   "source": [
    "*As before, solving for the eigenvalue problem will yield the $\\omega$'s and $\\vec Y$'s, while the $C$'s and $\\phi$'s are determined in a second time, with the initial conditions.*"
   ]
  },
  {
   "cell_type": "markdown",
   "metadata": {
    "slideshow": {
     "slide_type": "subslide"
    }
   },
   "source": [
    "#### *Eigenproblem and solving for $\\vec Y$ and $\\omega$.*\n",
    "*The previous system of equations becomes*\n",
    "$$ \\omega_s^2 (2x_A - x_B) = \\omega^2 x_A, \\hspace{6cm} (9a)$$\n",
    "$$ \\omega_s^2 (2x_B - x_A) = \\omega^2 x_B, \\hspace{6cm} (9b)$$\n",
    "*which has the form of an eigenproblem.*"
   ]
  },
  {
   "cell_type": "markdown",
   "metadata": {
    "slideshow": {
     "slide_type": "-"
    }
   },
   "source": [
    "*Indeed, defining \n",
    "$$ M^{-1}K = \\omega_s^2 \\begin{bmatrix}\n",
    "                            2 & -1 \\\\\n",
    "                            -1 & 2\n",
    "                        \\end{bmatrix}, $$\n",
    "We can write the above system of equations as*\n",
    "$$ M^{-1}K \\vec X = \\omega^2 \\vec X. $$"
   ]
  },
  {
   "cell_type": "markdown",
   "metadata": {
    "slideshow": {
     "slide_type": "subslide"
    }
   },
   "source": [
    "*We find the eigenfrequencies by finding the roots of the characteristic polynomial, i.e., of*\n",
    "$$ \\det(M^-1 K - \\omega^2\\mathsf I_2) = 0 = (2\\omega_s^2 - \\omega^2)^2 - \\omega_s^4 = (\\omega^2 - \\omega_s^2)(\\omega^2 - 3\\omega^2_s). $$"
   ]
  },
  {
   "cell_type": "markdown",
   "metadata": {
    "slideshow": {
     "slide_type": "-"
    }
   },
   "source": [
    "*Thus, the eigenfrequencies are $\\omega_1=\\omega_s$ and $\\omega_2 = \\sqrt{3}\\omega_s$.*"
   ]
  },
  {
   "cell_type": "markdown",
   "metadata": {
    "slideshow": {
     "slide_type": "skip"
    }
   },
   "source": [
    "*The mode, oscillating at $\\omega_1= \\omega_s$ can be qualified as \"antisymmetric\" again. It is the mode for which both masses oscillate in sync, and the central spring is neither stretched or compressed. Therefore, only the external springs stretch or compress, and their natural frequencies of oscillations are simply $\\omega_s$.*"
   ]
  },
  {
   "cell_type": "markdown",
   "metadata": {
    "slideshow": {
     "slide_type": "skip"
    }
   },
   "source": [
    "*By process of elimination, and because the system is neatly symmetric around the central $x$, we can surmise that the other mode, oscillating at $\\omega_2 = \\sqrt3 \\omega_s$, is a symmetric mode of motion, the motion of both masses being symmetric with respect to the central plane.*"
   ]
  },
  {
   "cell_type": "markdown",
   "metadata": {
    "slideshow": {
     "slide_type": "subslide"
    }
   },
   "source": [
    "![Fig. 11: the symmetric normal mode](spring_sym.gif)\n",
    "\n",
    "![Fig. 12: the antisymmetric normal mode.](spring_asyn.gif)"
   ]
  },
  {
   "cell_type": "markdown",
   "metadata": {
    "slideshow": {
     "slide_type": "skip"
    }
   },
   "source": [
    "*Defining $\\vec Y = [a, b]$, we can find the orientation of the eigenvectors by replacing $x_A$ and $x_B$ by $a$ and $b$ in the system $(9)$, or in only one of the equations since they are redundant.*\n",
    "\n",
    "*In the case $\\omega = \\omega_s$, eqn. $(9a)$ becomes $a - b = 0$, or $a =b$. It is indeed the antisymmetric mode.\n",
    "Normalizing to have $\\|\\vec Y_1\\| = 1$ (*which I do, but isn't necessary!*) yields $a = b = 1/\\sqrt{2}$.*\n",
    "\n",
    "*In the case $\\omega = \\sqrt{3}\\omega_s$, eqn. $(9a)$ becomes $a = -b$. It is indeed the symmetric mode.\n",
    "Normalizing to have $\\|\\vec Y_2\\| = 1$ yields $a = -b = 1/\\sqrt{2}$.*"
   ]
  },
  {
   "cell_type": "markdown",
   "metadata": {
    "slideshow": {
     "slide_type": "subslide"
    }
   },
   "source": [
    "*Any solution of the coupled oscillator system is therefore*\n",
    "$$ \\vec X = \\frac{C_1}{\\sqrt{2}}\\begin{bmatrix}\n",
    "                    1 \\\\ 1\n",
    "               \\end{bmatrix}\\cos(\\omega_s t + \\phi_1) + \n",
    "            \\frac{C_2}{\\sqrt{2}}\\begin{bmatrix}\n",
    "                    1 \\\\ -1\n",
    "            \\end{bmatrix}\\cos(\\sqrt3\\omega_s t + \\phi_2).$$"
   ]
  },
  {
   "cell_type": "markdown",
   "metadata": {
    "slideshow": {
     "slide_type": "skip"
    }
   },
   "source": [
    "*Any problem would the completed by using initial conditions in order to solve for the $C$'s and $\\phi$'s.\n",
    "I won't do it.*"
   ]
  },
  {
   "cell_type": "markdown",
   "metadata": {
    "slideshow": {
     "slide_type": "slide"
    }
   },
   "source": [
    "\n",
    "\n",
    "## *Ocean Tides*"
   ]
  },
  {
   "cell_type": "markdown",
   "metadata": {
    "slideshow": {
     "slide_type": "subslide"
    }
   },
   "source": [
    "*For your interest only. This discussion is based on the following two articles:*\n",
    "\n",
    "* *Arbic, Brian K., and Chris Garrett. 2010. \"A Coupled Oscillator Model of Shelf and Ocean Tides.\" Continental Shelf Research 30 (6). Pergamon: 564–74. doi:10.1016/j.csr.2009.07.008.*\n",
    "* *Arbic, Brian K., Richard H. Karsten, and Chris Garrett. 2009. \"On Tidal Resonance in the Global Ocean and the Back-effect of Coastal Tides upon Open-ocean Tides.\" Atmosphere-Ocean 47 (4): 239–66. doi:10.3137/OC311.2009.*"
   ]
  },
  {
   "cell_type": "markdown",
   "metadata": {
    "slideshow": {
     "slide_type": "skip"
    }
   },
   "source": [
    "*Every continent is surrounded by continental shelves, i.e., regions where the ocean floor is relatively flat, and relatively shallow (less than 500 m deep).\n",
    "You may easily realize this by looking at google maps in satellite mode.\n",
    "In contrast, the \"open-ocean\" is in general much deeper (5 km).\n",
    "Because these two regions of the ocean are much different, they can be thought of as individual oscillators with respect to tidal forcing, with their own resonance frequencies, and their own damping rates: damping is much stronger for tides in shallower seas, because the proximity to the bottom creates much more fluid friction and turbulence.*\n",
    "\n",
    "*Some continental shelves are fairly well isolated from the open ocean.\n",
    "The example that is closest to home, but also one of the best examples in the world, is Hudson Bay.\n",
    "It is very large (over 1000 km diameter) and shallow (about 100 m on average), and coupled to the open-ocean via a series of very narrow and even more shallow straits.*\n",
    "\n",
    "*One would think that such an isolated body of water does its own thing, resonating with the tidal forcing without influencing the other bodies of water.\n",
    "This would be neglecting the peculiar properties of resonance, and in particular that even if the coupling is weak between two oscillators, if the forcing provided by the first oscillator to the second oscillator happens to be at a resonance frequency of the second oscillator, the second oscillator will react strongly.\n",
    "As a consequence, the coupled system will have a fundamentally different behaviour than if the two oscillators were uncoupled: modes of oscillation take over, and the behaviour becomes global.*\n",
    "\n",
    "*Arbic and his colleagues were interested in paleo-oceanography, and in particular, what were the tides like during the last glacial maximum, were polar ice caps were retaining a lot of the world's water in solid form, above sea level?\n",
    "Then, sea level was more than 100 m below what it is now, and the oscillators as well as the couplings between them must have been very different.\n",
    "They realized it was very complicated, and that the slightest changes in the coastal configuration could change the global tides radically.\n",
    "Take a look at Arbic and Garrett 2010, page 2: they push the analogy as far as drawing two masses linked by springs, go over a discussion about damping, plot the same resonance curves that I drew in chapter 3, etc.!*\n",
    "\n",
    "*The two articles that I am citing are proof-of-concept kind of articles, where they run numerical simulations of ocean tides in which they artificially change tiny bits of coasts.\n",
    "In particular, they block Hudson Strait between Hudson Bay and the Atlantic Ocean, and find that the tides are completely modified everywhere in the Atlantic Ocean (see figure here, i.e., fig. 15a, b, c of Arbic et al. 2009, reproduced here.) and even as far as India, were a 20 cm increase in tidal amplitude happens!*"
   ]
  },
  {
   "cell_type": "markdown",
   "metadata": {
    "slideshow": {
     "slide_type": "subslide"
    }
   },
   "source": [
    "![Fig. 13: Reproduction of fig. 15a, b and c of Arbic et al. 2009: \"(a) and (b) $M_2$ amplitudes (m) near Hudson Strait in nominal (unblocked) and blocked Hudson Strait experiments. (c) Global map of $M_2$ amplitude differences (m) between the blocked Hudson Strait experiment and the unblocked experiment.\" *Note:* $M_2 \\approx 2\\pi/(12.4 hours)$ *is the name of the lunar semidiurnal tide frequency.*](HudsonBlocked.png)"
   ]
  },
  {
   "cell_type": "markdown",
   "metadata": {
    "slideshow": {
     "slide_type": "skip"
    }
   },
   "source": [
    "*Such considerations illustrate how delicate it is to predict adaptation to climate change.\n",
    "If the sea level is predicted to rise by metres, what will it entail e.g. for artifical ports, which have been designed to operate optimally under present-day tides? The changes in amplitudes and phases of tides might render some harbours less optimal than others, some breeding grounds might change, some touristic destinations might need to be redesigned...*"
   ]
  },
  {
   "cell_type": "markdown",
   "metadata": {
    "slideshow": {
     "slide_type": "skip"
    }
   },
   "source": [
    "# On the Orthogonality of the Eigenmodes"
   ]
  },
  {
   "cell_type": "markdown",
   "metadata": {
    "slideshow": {
     "slide_type": "skip"
    }
   },
   "source": [
    "## One Last Bit of Linear Algebra"
   ]
  },
  {
   "cell_type": "markdown",
   "metadata": {
    "slideshow": {
     "slide_type": "skip"
    }
   },
   "source": [
    "The last bit of linear algebra that I will be using is that if a matrix $\\textsf P$ is real symmetric, i.e., all elements of $\\textsf P$ are real, and $\\textsf P^T = \\textsf P$, then the eigenvectors of $\\textsf P$ are orthogonal to each other.\n",
    "That is, for eigenvectors that have been normalized ($\\forall i\\in {1\\dots{}n}, \\|V_i\\| = 1$),\n",
    "$$\\forall (i, j) \\in \\{1\\dots n\\}^2, \\qquad V_i\\cdot V_j = \\delta_{ij}, $$\n",
    "where $\\delta_{ij} = 1$ if $i=j$, and $\\delta_{ij} = 0$ otherwise ($\\delta_{ij}$ is called the \"Kronecker Delta\")."
   ]
  },
  {
   "cell_type": "markdown",
   "metadata": {
    "slideshow": {
     "slide_type": "skip"
    }
   },
   "source": [
    "*Note: the generalization of a real symmetric matrix is called a Hermitian matrix, for which* $P_{ij} = P_{ji}^*$ *, where the asterisk means complex conjugate. The result above applies to Hermitian matrices, which will be very important very soon, in quantum mechanics.*"
   ]
  },
  {
   "cell_type": "markdown",
   "metadata": {
    "slideshow": {
     "slide_type": "skip"
    }
   },
   "source": [
    "In general, what the dot product is depends on the vector space. In our case, it is simply that if $\\vec Y_a = [a_1, a_2]$ and $\\vec Y_b = [b_1, b_2]$, then $\\vec Y_a \\cdot \\vec Y_b = a_1b_1 + a_2b_2$."
   ]
  },
  {
   "cell_type": "markdown",
   "metadata": {
    "slideshow": {
     "slide_type": "skip"
    }
   },
   "source": [
    "Let me re-use the example of the two coupled pendulums of different masses.\n",
    "The matrix $\\textsf P$ corresponded to\n",
    "$$ M^{-1}K = \\begin{bmatrix}\n",
    "                 \\frac{g}l + \\frac{k}{m_A} & -\\frac{k}{m_A} \\\\\n",
    "                 -\\frac{k}{m_B} & \\frac{g}l + \\frac{k}{m_B}\n",
    "             \\end{bmatrix},$$\n",
    "and the normalized eigenvectors were \n",
    "$$ \\vec Y_1 = \\frac{1}{\\sqrt{2}}\\begin{bmatrix}\n",
    "                                     1 \\\\ 1\n",
    "                                 \\end{bmatrix}\n",
    "\\andeq\n",
    "\\vec Y_2 = \\frac{1}{\\sqrt{\\omega_{sA}^4 + \\omega_{sB}^4}}\\begin{bmatrix}\n",
    "               \\omega_{sA}^2 \\\\\n",
    "               -\\omega_{sB}^2\n",
    "           \\end{bmatrix}\n",
    "         = \\frac1{\\sqrt{m_A^2 + m_B^2}}\\begin{bmatrix}\n",
    "                                           m_B \\\\\n",
    "                                           -m_A\n",
    "                                       \\end{bmatrix}.$$"
   ]
  },
  {
   "cell_type": "markdown",
   "metadata": {
    "slideshow": {
     "slide_type": "skip"
    }
   },
   "source": [
    "The projection of the two eigenvectors onto each other is therefore\n",
    "$$ \\vec Y_1 \\cdot \\vec Y_2 = \\frac{m_B - m_A}{\\sqrt{2(m_A^2 + m_B^2)}}. $$"
   ]
  },
  {
   "cell_type": "markdown",
   "metadata": {
    "slideshow": {
     "slide_type": "skip"
    }
   },
   "source": [
    "Therefore, if $m_A = m_B$, the two statements \"$\\vec Y_1 \\perp \\vec Y_2$\" and \"$M^{-1}K$ is real symmetric\" are both true. In light of the linear algebra result I recalled above, this is no coincidence.\n",
    "\n",
    "Cases in which the matrix is real symmetric correspond to a wide range of applications.\n",
    "In these cases, the orthogonality property simplifies the calculations greatly, especially when the number of oscillators becomes large.\n",
    "The reason is that it becomes very easy to isolate every mode.\n",
    "\n",
    "Here, I divide the examples of applications into two classes: initial value problems (the free response), and forced problems (the driven response).\n",
    "\n",
    "*Note: there are relatively easy ways to generalize these results to non-symmetric matrices, because $\\vec Y_i M\\vec Y_j = 0$ if $i\\neq j$. It represents an additional mathematical complexity level that, while not that difficult, is too much to deal with in the short amount of time I have.*"
   ]
  },
  {
   "cell_type": "markdown",
   "metadata": {
    "slideshow": {
     "slide_type": "skip"
    }
   },
   "source": [
    "## Initial Value Problems"
   ]
  },
  {
   "cell_type": "markdown",
   "metadata": {
    "slideshow": {
     "slide_type": "skip"
    }
   },
   "source": [
    "Recall that the free response of the coupled system of oscillators can be written\n",
    "$$ \\vec X = C_1 \\vec Y_1 \\cos(\\omega_1 t + \\phi_1) + C_2 \\vec Y_2 \\cos(\\omega_2 t + \\phi_2), $$\n",
    "and that at $t = 0$,\n",
    "$\\vec X(t=0) = \\vec X_0 = C_1 \\vec Y_1\\cos\\phi_1 + C_2 \\vec Y_2\\cos\\phi_2$.\n",
    "\n",
    "The velocity is\n",
    "$$ \\vec V = -\\omega_1 C_1 \\vec Y_1 \\sin(\\omega_1 t + \\phi_1) - \\omega_2 C_2 \\vec Y_2 \\sin(\\omega_2 t + \\phi_2),$$\n",
    "which initially is \n",
    "$\\vec V(t=0) = \\vec V_0 = -\\omega_1C_1 \\vec Y_1\\sin\\phi_1 -\\omega_2 C_2 \\vec Y_2\\sin\\phi_2$."
   ]
  },
  {
   "cell_type": "raw",
   "metadata": {
    "raw_mimetype": "text/markdown",
    "slideshow": {
     "slide_type": "skip"
    }
   },
   "source": [
    "### $M^{-1}K$ symmetric\n",
    "\n",
    "This is the only case you need to know how to do. "
   ]
  },
  {
   "cell_type": "markdown",
   "metadata": {
    "slideshow": {
     "slide_type": "skip"
    }
   },
   "source": [
    "Finding the initial conditions for the modes is merely about projecting onto $\\vec Y_1$ and $\\vec Y_2$:\n",
    "$$ \\vec X_0\\cdot \\vec Y_1 = C_1 \\cos\\phi_1, $$\n",
    "$$ \\vec X_0\\cdot \\vec Y_2 = C_2 \\cos\\phi_2, $$\n",
    "$$ \\vec V_0\\cdot \\vec Y_1 = -\\omega_1 C_1 \\sin\\phi_1, $$\n",
    "$$ \\vec V_0\\cdot \\vec Y_2 = -\\omega_2 C_2 \\sin\\phi_2, $$\n",
    "because $\\vec Y_1 \\cdot \\vec Y_2 = 0$."
   ]
  },
  {
   "cell_type": "markdown",
   "metadata": {
    "slideshow": {
     "slide_type": "skip"
    }
   },
   "source": [
    "*Note: if $\\vec Y_1$ and $\\vec Y_2$ are not normalized, you need to multiply these right-hand-sides by* $\\|\\vec Y_1\\|^2$ *and* $\\|\\vec Y_2\\|^2$!!!"
   ]
  },
  {
   "cell_type": "markdown",
   "metadata": {
    "slideshow": {
     "slide_type": "skip"
    }
   },
   "source": [
    "Take the example of the identical coupled pendulums, with $x_{A0} = A > 0$, $x_{B0} = 0$, $v_{A0} = v_{B0} = 0.$\n",
    "We had $\\vec Y_1 = [1, 1]/\\sqrt{2}$ and $\\vec Y_2 = [1, -1]/\\sqrt{2}$.\n",
    "$$ \\vec X_0\\cdot \\vec Y_1 = A/\\sqrt{2} + 0/\\sqrt{2} = A/\\sqrt{2} = C_1 \\cos\\phi_1, $$\n",
    "$$ \\vec X_0\\cdot \\vec Y_2 = A/\\sqrt{2} - 0/\\sqrt{2} = A/\\sqrt{2} = C_2 \\cos\\phi_2, $$\n",
    "$$ \\vec V_0\\cdot \\vec Y_1 = 0/\\sqrt{2} + 0/\\sqrt{2} = 0 = -\\omega_1 C_1 \\sin\\phi_1, $$\n",
    "$$ \\vec V_0\\cdot \\vec Y_2 = 0/\\sqrt{2} - 0/\\sqrt{2} = 0 = -\\omega_2 C_2 \\sin\\phi_2. $$"
   ]
  },
  {
   "cell_type": "markdown",
   "metadata": {
    "slideshow": {
     "slide_type": "skip"
    }
   },
   "source": [
    "The only way for the last two equations to be satisfied with $C_1 > 0$ and $C_2 > 0$ is $\\phi_1 = \\phi_2 = 0$, in which case $C_1 = C_2 = A/\\sqrt{2}$, and the solution is\n",
    "$$ \\vec X = \\frac{A}{\\sqrt2} \\vec Y_1 \\cos(\\omega_1 t) + \\frac{A}{\\sqrt2} \\vec Y_2 \\cos(\\omega_2 t) = \\frac{A}{2} \\stirling11 \\cos(\\omega_1 t) + \\frac{A}2 \\stirling{1}{-1} \\cos(\\omega_2 t), $$"
   ]
  },
  {
   "cell_type": "raw",
   "metadata": {
    "raw_mimetype": "text/markdown",
    "slideshow": {
     "slide_type": "skip"
    }
   },
   "source": [
    "### $M^{-1}K$ non-symmetric\n",
    "\n",
    "It is actually fairly simple to generalize the results above for a non-symmetric $M^{-1}K$ matrix, but you are not required to remember it.\n",
    "*So much so that I will skip it in class!*"
   ]
  },
  {
   "cell_type": "raw",
   "metadata": {
    "raw_mimetype": "text/markdown",
    "slideshow": {
     "slide_type": "skip"
    }
   },
   "source": [
    "In this case, $\\vec Y_1 \\cdot \\vec Y_2 \\neq 0$, but $\\vec Y_1 M \\vec Y_2 = 0$. Therefore, instead of computing $\\vec X_0 \\cdot \\vec Y_1$, etc, finding the coefficients entails computing $\\vec X_0 M \\vec Y_1$, etc."
   ]
  },
  {
   "cell_type": "raw",
   "metadata": {
    "raw_mimetype": "text/markdown",
    "slideshow": {
     "slide_type": "skip"
    }
   },
   "source": [
    "Take the example of the coupled pendulums, with $x_{A0} = A > 0$, $x_{B0} = 0$, $v_{A0} = v_{B0} = 0.$\n",
    "We now choose $m_A = m$, and $m_B = 2m$.\n",
    "Therefore, $\\vec Y_1 = [1, 1]/\\sqrt{2}$ and $\\vec Y_2 = [2, -1]/\\sqrt{5}$."
   ]
  },
  {
   "cell_type": "raw",
   "metadata": {
    "raw_mimetype": "text/markdown",
    "slideshow": {
     "slide_type": "skip"
    }
   },
   "source": [
    "Then, \n",
    "$$ M \\vec Y_1 = \\frac1{\\sqrt2}\\begin{bmatrix}m & 0 \\\\ 0 & 2 m\\end{bmatrix}\\stirling{1}{1} = \\frac{m}{\\sqrt{2}}\\stirling{1}{2} \\and M \\vec Y_1 = \\frac1{\\sqrt5}\\begin{bmatrix}m & 0 \\\\ 0 & 2 m\\end{bmatrix}\\stirling{2}{-1} = \\frac{2m}{\\sqrt{5}}\\stirling{1}{-1}.$$"
   ]
  },
  {
   "cell_type": "raw",
   "metadata": {
    "raw_mimetype": "text/markdown",
    "slideshow": {
     "slide_type": "skip"
    }
   },
   "source": [
    "You can check that \n",
    "$$ \\vec Y_1 M \\vec Y_2 = \\frac{1}{\\sqrt{10}} [1, 1]\\begin{bmatrix}m & 0 \\\\ 0 & 2 m\\end{bmatrix}\\stirling{2}{-1} = \\frac{2m}{\\sqrt{10}}[1, 1] \\stirling{1}{-1} = 0,$$\n",
    "and same for $\\vec Y_2 M \\vec Y_1.$"
   ]
  },
  {
   "cell_type": "raw",
   "metadata": {
    "raw_mimetype": "text/markdown",
    "slideshow": {
     "slide_type": "skip"
    }
   },
   "source": [
    "For the coefficients, the procedure becomes\n",
    "$$ \\vec X_0 M \\vec Y_1 = mA/\\sqrt{2} + 0\\times 2m/\\sqrt{2} = A/\\sqrt{2} = C_1 \\cos\\phi_1, $$\n",
    "$$ \\vec X_0 M \\vec Y_2 = A/\\sqrt{2} - 0/\\sqrt{2} = A/\\sqrt{2} = C_2 \\cos\\phi_2, $$\n",
    "$$ \\vec V_0 M \\vec Y_1 = 0/\\sqrt{2} + 0/\\sqrt{2} = 0 = -\\omega_1 C_1 \\sin\\phi_1, $$\n",
    "$$ \\vec V_0 M \\vec Y_2 = 0/\\sqrt{2} - 0/\\sqrt{2} = 0 = -\\omega_2 C_2 \\sin\\phi_2. $$"
   ]
  },
  {
   "cell_type": "markdown",
   "metadata": {
    "slideshow": {
     "slide_type": "slide"
    }
   },
   "source": [
    "## Forced Problems"
   ]
  },
  {
   "cell_type": "markdown",
   "metadata": {
    "slideshow": {
     "slide_type": "-"
    }
   },
   "source": [
    "*I will not have time to cover this sub-section, which you should treat as optional.\n",
    "I wrote it, back when I had 19 lectures instead of 18, and it would break my heart to delete all of this.\n",
    "It may also help you consolidate what you learned in Chapter 3.*"
   ]
  },
  {
   "cell_type": "markdown",
   "metadata": {
    "slideshow": {
     "slide_type": "subslide"
    }
   },
   "source": [
    "Let us assume that there is some periodic force applied to the masses, and recall that $m_A = m_B = m$:\n",
    "$$ m\\ddot x_A + \\frac{mg}{l}x_A + k(x_A - x_B) = F_A\\cos(\\omega t),$$\n",
    "$$ m\\ddot x_B + \\frac{mg}{l}x_B -k(x_A - x_B) = F_B\\cos(\\omega t),$$\n",
    "which in matrix form can be written\n",
    "$$ \\ddot{\\vec X} + M^{-1}K \\vec X = \\vec \\Psi\\cos(\\omega t),\\hspace{5cm}(10) $$\n",
    "with $\\vec \\Psi = [F_A/m, F_B/m]$.\n",
    "Note that the problem is not an eigenvalue problem anymore."
   ]
  },
  {
   "cell_type": "markdown",
   "metadata": {
    "slideshow": {
     "slide_type": "skip"
    }
   },
   "source": [
    "The vectors $\\vec Y_1$ and $\\vec Y_2$, which were eigenvectors of the free problem, form an orthogonal basis for any 2D vector.\n",
    "Let me repeat this: $\\vec Y_1$ and $\\vec Y_2$ lose their special status as eigenvectors, but they still form an orthogonal basis on which any vector can be decomposed.\n",
    "Meaning that we can write\n",
    "$$\\vec X = h_1\\vec Y_1 + h_2 \\vec Y_2.$$"
   ]
  },
  {
   "cell_type": "markdown",
   "metadata": {
    "slideshow": {
     "slide_type": "skip"
    }
   },
   "source": [
    "Let me reiterate that the projections of $\\vec X$ on $\\vec Y_1$ and $\\vec Y_2$, i.e., $h_1$  and $h_2$, are not eigenmodes of the forced problem. \"Eigenmodes of the forced problem\" makes as much sense as \"free oscillations of the forced oscillator\" in the case of just one oscillator, i.e., no sense at all. Note however that in this particular case, $h_1 = q_1/\\sqrt2$ and $h_2 = q_2/\\sqrt2$ if $q_1 = x_A + x_B$ and $q_2 = x_A - x_B$."
   ]
  },
  {
   "cell_type": "markdown",
   "metadata": {
    "slideshow": {
     "slide_type": "skip"
    }
   },
   "source": [
    "The forcing can also the projected onto $\\vec Y_1$ and $\\vec Y_2$:\n",
    "$$\\vec\\Psi = \\Psi_1 \\vec Y_1 + \\Psi_2 \\vec Y_2,$$\n",
    "with $\\Psi_1 = (F_A + F_B)/(\\sqrt{2}m)$ and $\\Psi_2 = (F_A - F_B)/(\\sqrt{2}m)$."
   ]
  },
  {
   "cell_type": "markdown",
   "metadata": {
    "slideshow": {
     "slide_type": "skip"
    }
   },
   "source": [
    "However, the crucial point here is that $M^{-1}K \\vec Y_{1, 2} = \\omega^2_{1,2}\\vec Y_{1, 2}$ is still true, by construction of $\\vec Y_{1,2}$.\n",
    "Collecting all of these comments, equation $(10)$ can therefore be re-written\n",
    "$$ \\ddot h_1{\\vec Y}_1 + \\ddot h_2 {\\vec Y}_2  + \\omega_1^2 h_1 \\vec Y_1 + \\omega_2^2 h_2 \\vec Y_2 = (\\Psi_1 \\vec Y_1 + \\Psi_2 \\vec Y_2)\\cos(\\omega t).$$"
   ]
  },
  {
   "cell_type": "markdown",
   "metadata": {
    "slideshow": {
     "slide_type": "skip"
    }
   },
   "source": [
    "Projecting the equation above on $\\vec Y_1$ and $\\vec Y_2$ yields, respectively,\n",
    "$$\\ddot h_1 + \\omega_1^2 h_1 = \\Psi_1\\cos(\\omega t).$$\n",
    "$$\\ddot h_2 + \\omega_2^2 h_2 = \\Psi_2\\cos(\\omega t).$$"
   ]
  },
  {
   "cell_type": "markdown",
   "metadata": {
    "slideshow": {
     "slide_type": "skip"
    }
   },
   "source": [
    "Therefore, individual modes can resonate, just like a simple oscillator can resonate.\n",
    "This time however, the complexity of the possible cases increases.\n",
    "For one mode to resonate, two conditions need to be satisfied.\n",
    "For example, for the first mode to resonate, we need $\\omega = \\omega_1$, just like in the simple oscillator case, but we also need $\\Psi_1 \\neq 0$."
   ]
  },
  {
   "cell_type": "markdown",
   "metadata": {
    "slideshow": {
     "slide_type": "skip"
    }
   },
   "source": [
    "In our coupled pendulums, the first mode (the antisymmetric one) does not grow if the forcing is symmetric, i.e., if $F_A = -F_B$, in which case $\\Psi_1 = 0$.\n",
    "In order to induce a resonance phenomenon, the frequency of the forcing has to match the corresponding frequency, and the forcing pattern needs to match the polarization of the mode, i.e., the \"shape of the mode\" (i.e. whether it is symmetric or antisymmetric, or whatever the pattern actually looks like), somewhat.\n",
    "\"Somewhat\" means that the projection of the force on the eigenvector has to be non-zero.\n",
    "For example, if only one mass feels a force, say, $F_A \\neq 0$ and $F_B = 0$, the pattern is not exactly matched, but $\\Psi_1 = F_A/\\sqrt{2}m + 0/\\sqrt{2} = F_A/\\sqrt2m \\neq 0$, which is enough to trigger a resonance."
   ]
  },
  {
   "cell_type": "markdown",
   "metadata": {
    "slideshow": {
     "slide_type": "skip"
    }
   },
   "source": [
    "All of this is true for any coupled system of oscillators, and for however many degrees of freedom there are. It is also true for non-symmetric matrices, but the mathematics are more complicated to describe in the short amount of time I have."
   ]
  },
  {
   "cell_type": "markdown",
   "metadata": {
    "slideshow": {
     "slide_type": "skip"
    }
   },
   "source": [
    "Of course, everything you have learned about damped harmonic oscillator resonance also applies to the modes.\n",
    "For example, if there is damping, the resonance curve will have a certain width:\n",
    "there can be amplification for frequencies that do not exactly match the eigenfrequencies of the free system.\n",
    "Each mode will have its own damping rate, and its own quality factor."
   ]
  },
  {
   "cell_type": "markdown",
   "metadata": {
    "slideshow": {
     "slide_type": "skip"
    }
   },
   "source": [
    "For example, an atom in elemental form or a molecule can be thought of as a coupled system of oscillators.\n",
    "Atoms can move around, and energy levels of electrons can change, adding all sorts of degrees of freedom.\n",
    "This is how the atmospheric composition of the Sun can be determined from an absorption spectrum (cf. chapter 3)."
   ]
  },
  {
   "cell_type": "markdown",
   "metadata": {
    "slideshow": {
     "slide_type": "skip"
    }
   },
   "source": [
    "The reverse is true: every molecule has a specific emission spectrum, consisting of the emission of light at the resonance frequencies of the molecules.\n",
    "One just needs to excite the atom or molecule broadly, for example by heating it, and measure which frequencies are emitted by the atom or molecule.\n",
    "The more degrees of freedom there are, the more frequencies are emitted (cf. emission spectra of hydrogen vs. iron from Wikipedia, reproduced here)."
   ]
  },
  {
   "cell_type": "markdown",
   "metadata": {
    "slideshow": {
     "slide_type": "slide"
    }
   },
   "source": [
    "![Fig. 14: Visible lines of the emission spectrumm of hydrogen, by Merikanto, Adrignola [CC0], via Wikimedia Commons](800px-Emission_spectrum-H.png)"
   ]
  },
  {
   "cell_type": "markdown",
   "metadata": {},
   "source": [
    "![Fig. 15: Visible lines of the emission spectrumm of iron, by User:nilda (Own work) [Public domain], via Wikimedia Commons](Emission_spectrum-Fe.png)"
   ]
  },
  {
   "cell_type": "markdown",
   "metadata": {
    "slideshow": {
     "slide_type": "slide"
    }
   },
   "source": [
    "# $n$ Coupled Oscillators"
   ]
  },
  {
   "cell_type": "markdown",
   "metadata": {
    "slideshow": {
     "slide_type": "skip"
    }
   },
   "source": [
    "While I have illustrated this entire chapter with two oscillators, all the qualitative results apply to any number of oscillators.\n",
    "Right after this chapter, we will study waves, which can be thought of as a superposition of a finite or infinite number of modes, which arise from the fact that waves propagate on a continuous medium made of an infinite number of coupled oscillators.\n",
    "I actually hesitated between making this section the last section on coupled oscillators, or the first section on waves. \n",
    "Ultimately, it does not matter, as long as the transition is clearly understood.\n",
    "\n",
    "To illustrate this point, i.e., that a large number of coupled oscillators create waves, and that waves are really an infinitely dense network of coupled oscillators, I made the demo below (Jupyter; also at https://youtu.be/Ki70ShYFtmA  and https://play.library.utoronto.ca/c4febe4cb2b4b0e8ee5641ffa524b24f)."
   ]
  },
  {
   "cell_type": "code",
   "execution_count": 112,
   "metadata": {},
   "outputs": [
    {
     "data": {
      "image/jpeg": "[encoded data removed]",
      "text/html": [
       "\n",
       "        <iframe\n",
       "            width=\"560\"\n",
       "            height=\"315\"\n",
       "            src=\"https://www.youtube.com/embed/Ki70ShYFtmA\"\n",
       "            frameborder=\"0\"\n",
       "            allowfullscreen\n",
       "        ></iframe>\n",
       "        "
      ],
      "text/plain": [
       "<IPython.lib.display.YouTubeVideo at 0x7feac7325cd0>"
      ]
     },
     "execution_count": 112,
     "metadata": {},
     "output_type": "execute_result"
    }
   ],
   "source": [
    "YouTubeVideo('Ki70ShYFtmA', width=560, height=315)"
   ]
  },
  {
   "cell_type": "markdown",
   "metadata": {
    "slideshow": {
     "slide_type": "subslide"
    }
   },
   "source": [
    "Here, I will illustrate this point with identical masses, coupled by identical springs (cf. King fig. 4.11, reproduced earlier), because it is simpler than the coupled pendula, but complex enough to illustrate the principle.\n",
    "With two masses, we had\n",
    "$$ m \\ddot x_A = -k x_A + k(x_B - x_A), $$\n",
    "$$ m \\ddot x_B = -k (x_B - x_A) - kx_B. $$"
   ]
  },
  {
   "cell_type": "markdown",
   "metadata": {
    "slideshow": {
     "slide_type": "fragment"
    }
   },
   "source": [
    "With three masses $A$, $B$ and $C$, we would have\n",
    "$$ m \\ddot x_A = -k x_A + k(x_B - x_A), $$\n",
    "$$ m \\ddot x_B = -k (x_B - x_A) + k(x_C-x_B), $$\n",
    "$$ m \\ddot x_C = -k (x_C - x_B) - kx_C. $$"
   ]
  },
  {
   "cell_type": "markdown",
   "metadata": {
    "slideshow": {
     "slide_type": "subslide"
    }
   },
   "source": [
    "And with $N$ masses, we would have (I now index the masses with numbers instead of letters)\n",
    "$$ m \\ddot x_1 = -k x_1 + k(x_2 - x_1) = - 2 k x_1 + k x_2, $$\n",
    "$$ m \\ddot x_n = -k (x_{n} - x_{n-1}) + k(x_{n+1} - x_{n}) = k(x_{n+1} -2x_n + x_{n-1})\\quad\\forall n\\neq 1, N, $$\n",
    "$$ m \\ddot x_N = -k (x_N - x_{N-1}) - kx_N = -2k x_N + k x_{N-1}. $$"
   ]
  },
  {
   "cell_type": "markdown",
   "metadata": {
    "slideshow": {
     "slide_type": "fragment"
    }
   },
   "source": [
    "After division by $m$, we can turn this system into an $N \\times N$ eigenvalue problem\n",
    "$$ (M^{-1}K - \\omega^2 \\textsf I_N) \\vec X = 0, $$\n",
    "with\n",
    "$$ M^{-1}K = \\omega_s^2\\begin{bmatrix}\n",
    "                 2      & -1     & 0      & \\dots  &        &        & 0 \\\\\n",
    "                 -1     & 2      & -1     & 0      & \\dots  &        & 0 \\\\\n",
    "                 0      & \\ddots & \\ddots & \\ddots &        &        & \\\\\n",
    "                 \\vdots & 0      & -1     & 2      & -1     & 0      & \\\\\n",
    "                        &        &        & \\ddots & \\ddots & \\ddots & \\\\\n",
    "                 \\\\\n",
    "                 0      & \\dots  &        &        & 0      & -1     & 2\n",
    "             \\end{bmatrix}.\n",
    "$$"
   ]
  },
  {
   "cell_type": "markdown",
   "metadata": {
    "slideshow": {
     "slide_type": "skip"
    }
   },
   "source": [
    "This matrix is actually simple enough that we could find the eigenvalues analytically.\n",
    "My intention, however, is to show you that from a numerical point of view, a $3\\times 3$ matrix and a $N\\times N$ matrix are as hard to solve as each other as long as one understands how to use the methods of linear algebra.\n",
    "Instead of `SymPy`, Python's main symbolic math package, I will use `NumPy`, Python's main scientific computing package.\n",
    "Unlike `SymPy`, `NumPy` only understands numbers, not symbols."
   ]
  },
  {
   "cell_type": "code",
   "execution_count": 113,
   "metadata": {
    "slideshow": {
     "slide_type": "subslide"
    }
   },
   "outputs": [],
   "source": [
    "# We already imported NumPy, but it is useful to import\n",
    "# NumPy's linear algebra functions separately.\n",
    "import numpy.linalg as LA\n",
    "# the following two packages allow me to display the animation\n",
    "from matplotlib import animation\n",
    "from IPython.display import HTML\n",
    "# More about animations: \n",
    "# https://stackoverflow.com/questions/43445103/inline-animations-in-jupyter"
   ]
  },
  {
   "cell_type": "code",
   "execution_count": 114,
   "metadata": {
    "slideshow": {
     "slide_type": "subslide"
    }
   },
   "outputs": [],
   "source": [
    "N = 4  # number of oscillators"
   ]
  },
  {
   "cell_type": "code",
   "execution_count": 115,
   "metadata": {
    "slideshow": {
     "slide_type": "fragment"
    }
   },
   "outputs": [
    {
     "name": "stdout",
     "output_type": "stream",
     "text": [
      "[[ 2. -1.  0.  0.]\n",
      " [-1.  2. -1.  0.]\n",
      " [ 0. -1.  2. -1.]\n",
      " [ 0.  0. -1.  2.]]\n"
     ]
    }
   ],
   "source": [
    "iMK = np.zeros((N, N))  # creates a NxN square matrix filled with zeros\n",
    "# for simplicity, we set omega_s = 1 rad/s\n",
    "# I will fill the matrix in a somewhat clumsy way, for pedagogical reasons\n",
    "# However, there are functions to create tridiagonal matrices automatically\n",
    "iMK[0, 0] = 2.  # top left-hand corner\n",
    "iMK[0 , 1] = -1  # top line, one to the right\n",
    "iMK[-1, -1] = 2  # bottom right-hand corner\n",
    "iMK[-1, -2] = -1  # bottom line, one to the left\n",
    "if N > 2:\n",
    "    for n in range(1, N-1):  # this loop makes filling the matrix automatic\n",
    "        # we loop from the second to the penultimate line, which are all the same\n",
    "        iMK[n, n] = 2  # diagonal terms\n",
    "        iMK[n, n-1] = -1  # lower diagonal\n",
    "        iMK[n, n+1] = -1  # upper diagonal\n",
    "\n",
    "print(iMK)  "
   ]
  },
  {
   "cell_type": "code",
   "execution_count": 116,
   "metadata": {
    "slideshow": {
     "slide_type": "subslide"
    }
   },
   "outputs": [],
   "source": [
    "eigvals, eigvecs = LA.eig(iMK)   "
   ]
  },
  {
   "cell_type": "code",
   "execution_count": 117,
   "metadata": {},
   "outputs": [
    {
     "name": "stdout",
     "output_type": "stream",
     "text": [
      "[3.61803399 2.61803399 0.38196601 1.38196601]\n"
     ]
    }
   ],
   "source": [
    "print(eigvals)"
   ]
  },
  {
   "cell_type": "code",
   "execution_count": 118,
   "metadata": {},
   "outputs": [
    {
     "name": "stdout",
     "output_type": "stream",
     "text": [
      "[1.90211303 1.61803399 0.61803399 1.1755705 ]\n"
     ]
    }
   ],
   "source": [
    "eigfreqs = np.sqrt(eigvals)\n",
    "print(eigfreqs)"
   ]
  },
  {
   "cell_type": "code",
   "execution_count": 119,
   "metadata": {},
   "outputs": [
    {
     "name": "stdout",
     "output_type": "stream",
     "text": [
      "[[-0.37174803 -0.60150096 -0.37174803 -0.60150096]\n",
      " [ 0.60150096  0.37174803 -0.60150096 -0.37174803]\n",
      " [-0.60150096  0.37174803 -0.60150096  0.37174803]\n",
      " [ 0.37174803 -0.60150096 -0.37174803  0.60150096]]\n"
     ]
    }
   ],
   "source": [
    "print(eigvecs)"
   ]
  },
  {
   "cell_type": "markdown",
   "metadata": {
    "slideshow": {
     "slide_type": "notes"
    }
   },
   "source": [
    "The `numpy.linalg.eig` function returns an output, that is different from the output of the SymPy `eigenvects` method we used earlier:\n",
    "\n",
    "1. the first array lists all eigenvalues (repeated eigenvalues are simply written multiple times).\n",
    "2. the second array provides the corresponding displacement amplitudes of each mass (the so-called polarization relations of each mode). The way it is displayed above, each column (`eigvecs[:, i]`) corresponds to the coefficients of the series of masses for one mode (e.g., all $a_n$ or $b_n$ for mode $n$), while each line (`eigvecs[i, :]`) corresponds to the coefficients of the series of modes for one mass (e.g., all $a_n$, $1 \\leq n \\leq N$, when there are $N$ modes)."
   ]
  },
  {
   "cell_type": "markdown",
   "metadata": {
    "slideshow": {
     "slide_type": "skip"
    }
   },
   "source": [
    "It is still a bit obscure at this point, and plotting the results will help.\n",
    "But before that, I want to sort the eigenfrequencies from lowest to highest, because ```numpy.linalg.eig``` does not necessarily do it."
   ]
  },
  {
   "cell_type": "code",
   "execution_count": 120,
   "metadata": {
    "slideshow": {
     "slide_type": "subslide"
    }
   },
   "outputs": [
    {
     "name": "stdout",
     "output_type": "stream",
     "text": [
      "Sequence that would sort the eigenfrequencies:\n",
      "[2 3 1 0]\n",
      "\n",
      "Sorted eigenfrequencies:\n",
      "[0.61803399 1.1755705  1.61803399 1.90211303]\n",
      "\n",
      "and the corresponding mass position amplitudes are\n",
      "[-0.37174803 -0.60150096 -0.60150096 -0.37174803]\n",
      "[-0.60150096 -0.37174803  0.37174803  0.60150096]\n",
      "[-0.60150096  0.37174803  0.37174803 -0.60150096]\n",
      "[-0.37174803  0.60150096 -0.60150096  0.37174803]\n"
     ]
    }
   ],
   "source": [
    "print(\"Sequence that would sort the eigenfrequencies:\")\n",
    "seq = np.argsort(eigfreqs)\n",
    "print(seq)\n",
    "\n",
    "print()\n",
    "print(\"Sorted eigenfrequencies:\")\n",
    "print(eigfreqs[seq])\n",
    "\n",
    "print()\n",
    "print(\"and the corresponding mass position amplitudes are\")\n",
    "for ii in range(N):\n",
    "    print(eigvecs[:, seq[ii]])"
   ]
  },
  {
   "cell_type": "code",
   "execution_count": 121,
   "metadata": {
    "slideshow": {
     "slide_type": "subslide"
    }
   },
   "outputs": [],
   "source": [
    "# Various quantities\n",
    "t_end = 2.*np.pi/eigfreqs.min() # time array spans one longest eigenperiod\n",
    "n_frames = 100  # number of frames for animation\n",
    "time = np.linspace(0., t_end, n_frames)  # time array\n",
    "max_amp = abs(eigvecs.max())  # maximum displacement of any mass in any eigenmode\n",
    "L_inter = 3*max_amp  # distance between the masses; this makes sure that it is enough\n",
    "L_tot = L_inter*float(N+1)  # total length between the two walls;\n",
    "rest_positions = np.arange(L_inter, (N+0.5)*L_inter, L_inter)  # positions at rest\n",
    "\n",
    "# prepping the coordinates on the plot: for each time step, we will plot the positions\n",
    "# on the x axis and the mode number on the y axis\n",
    "x_positions = np.zeros((N, N))  # N positions for N modes\n",
    "y_modes = np.zeros((N, N))  # N positions for N modes\n",
    "for mode_number in range(1, N+1):\n",
    "    y_modes[mode_number-1, :] = mode_number\n",
    "\n",
    "imagelist = []  # list of frames to eventually animate\n",
    "\n",
    "fig = plt.figure()\n",
    "ax = plt.gca()\n",
    "ax.set_xlim([0., L_tot])\n",
    "ax.set_ylim([0., N+1])\n",
    "ax.set_xticks(rest_positions)\n",
    "ax.set_xlabel('positions')\n",
    "ax.set_yticks(range(1, N+1))\n",
    "ax.set_ylabel('mode number')\n",
    "ax.grid()\n",
    "for t in time:\n",
    "    # We loop over time to animate the masses\n",
    "    for mode_number in range(1, N+1):\n",
    "        ii = seq[mode_number-1]  # this will select the correct mode in the list\n",
    "        x_positions[mode_number-1, :] = (rest_positions\n",
    "                                         + eigvecs[:, ii]*np.cos(eigfreqs[ii]*t))\n",
    "    im = plt.scatter(x_positions, y_modes, c=y_modes, cmap='copper')\n",
    "    imagelist.append([im])\n",
    "    \n",
    "ani = animation.ArtistAnimation(fig, imagelist, interval=50, blit=True, repeat_delay=1000)\n",
    "plt.close()"
   ]
  },
  {
   "cell_type": "code",
   "execution_count": 122,
   "metadata": {
    "scrolled": true,
    "slideshow": {
     "slide_type": "subslide"
    }
   },
   "outputs": [
    {
     "data": {
      "text/html": [
       "<video width=\"432\" height=\"288\" controls autoplay loop>\n",
       "  <source type=\"video/mp4\" src=\"data:video/mp4;base64,AAAAIGZ0eXBNNFYgAAACAE00ViBpc29taXNvMmF2YzEAAAAIZnJlZQAAeU1tZGF0AAACrwYF//+r\n",
       "3EXpvebZSLeWLNgg2SPu73gyNjQgLSBjb3JlIDE2MCByMzAxMU0gY2RlOWE5MyAtIEguMjY0L01Q\n",
       "RUctNCBBVkMgY29kZWMgLSBDb3B5bGVmdCAyMDAzLTIwMjAgLSBodHRwOi8vd3d3LnZpZGVvbGFu\n",
       "Lm9yZy94MjY0Lmh0bWwgLSBvcHRpb25zOiBjYWJhYz0xIHJlZj0zIGRlYmxvY2s9MTowOjAgYW5h\n",
       "bHlzZT0weDM6MHgxMTMgbWU9aGV4IHN1Ym1lPTcgcHN5PTEgcHN5X3JkPTEuMDA6MC4wMCBtaXhl\n",
       "ZF9yZWY9MSBtZV9yYW5nZT0xNiBjaHJvbWFfbWU9MSB0cmVsbGlzPTEgOHg4ZGN0PTEgY3FtPTAg\n",
       "ZGVhZHpvbmU9MjEsMTEgZmFzdF9wc2tpcD0xIGNocm9tYV9xcF9vZmZzZXQ9LTIgdGhyZWFkcz05\n",
       "IGxvb2thaGVhZF90aHJlYWRzPTEgc2xpY2VkX3RocmVhZHM9MCBucj0wIGRlY2ltYXRlPTEgaW50\n",
       "ZXJsYWNlZD0wIGJsdXJheV9jb21wYXQ9MCBjb25zdHJhaW5lZF9pbnRyYT0wIGJmcmFtZXM9MyBi\n",
       "X3B5cmFtaWQ9MiBiX2FkYXB0PTEgYl9iaWFzPTAgZGlyZWN0PTEgd2VpZ2h0Yj0xIG9wZW5fZ29w\n",
       "PTAgd2VpZ2h0cD0yIGtleWludD0yNTAga2V5aW50X21pbj0yMCBzY2VuZWN1dD00MCBpbnRyYV9y\n",
       "ZWZyZXNoPTAgcmNfbG9va2FoZWFkPTQwIHJjPWNyZiBtYnRyZWU9MSBjcmY9MjMuMCBxY29tcD0w\n",
       "LjYwIHFwbWluPTAgcXBtYXg9NjkgcXBzdGVwPTQgaXBfcmF0aW89MS40MCBhcT0xOjEuMDAAgAAA\n",
       "DuVliIQAO//+906/AptFl2oDklcK9sqkJlm5UmsB8qYAAAMAABGwbnyXDXmr0iQAAK9b30j9M/5g\n",
       "GdUKgyXO3E5RXXzqYJrDREflMb4WzeAZT2/EOGvWa3zUGeof4Y63G7zhawjf8XlbPTT/khkbqrXq\n",
       "pBKAYyKYbGTTOC/b1N4jy87V28Fk/RujHwzxYbBmxCY5S3dyg3k2LX0mT6NqOWS6hmWznxl/kT2W\n",
       "bKPQ9Pp9JPzXhQqRVslKOHQkqD72HgBiN45KJ2ayNy3IPclU+JYlZj7y2D0koUKjJ/Muinr1/145\n",
       "r+Ikcl5uFzBEywGgXTQ1bw9oqdLk1E7oENi+wk6BRWkSdnGaVZggjPyf7QP9DT3jzbU7x3FlQPsr\n",
       "MG0tg7cDt86dphsK/G8sY74L3U6Uc21UkWyrkf/8a9YikRCbP5rPXN4csuPTXnd91UsC4s52IOf7\n",
       "8pWfekY5xXvU4qEu8r2mv9/DEmt+XWbyGUjXmpvymgRp43JOMgBur8DU3GZfs3BEMaEnLtNhWkLO\n",
       "7P+IGEkqPkZJJq7n5/0jtZSrF3kuFueFUg7/Ba60kOUcx0b8/EVfpCyyGUyex6ccD7XK5uCjwqHO\n",
       "gEyE7Ou/IKpJU7wRdqJ+LzJUGzwaUhd/suOqqAEbzmhYctwd1O/wKB/qBqA6zLtvWnP+Gy6PUGQu\n",
       "iSZ7Y1Ta+WC8TRwvmqb87gpML1Dk3CUHf58diYigzNQGYMQ9aW2+exBKl7KLPKfobZU7FyjT48rG\n",
       "HBTUMzYZYZA8y+Ak0tKd1USJoUr4NK2UNVg8jeBl1UCuc+K+OhJr65hBpsM6+8nZLRWn2Y2892RT\n",
       "KoU6b0wsMqivAA4cif0nJ40xLFF0EDNx6qLWocBlF+0xbkVyZRF/8EEYOg5xAT3gu2o9nUF38gic\n",
       "ttJRV+0bzwHLse/o3WvhD4jVzEQ95VXfFCIAHzGG8rGYs0kmojY9dfyEVnhdOvtd4Mul7+RxlnEx\n",
       "+lNpD8Ja4gkGrH5tMxZn1tVJ/OX+dg+9a7vy9+geUfM7SrSR8VFuYudf19gOonhKIEP+dTdNxIg/\n",
       "LYjkA0aff2IkcddDZtPbYmHKvJuUSjd0Cqr7AjGvBIMOASwp+IcG4xWPUB0uquiTNDLamMBIq19X\n",
       "lArEQFq5xEn64egXHjOi7k8wHo9BwsEha0YcrhrN7oLs7D+X6FZg9DktNkpI9gnpxfnfjv0ROWS0\n",
       "oNapBCpjY5T1HiTXUXEZXFqhmDjLJcFGQJH01aWTeJb8p8wUO/WSLSmgqHaw33GiLUmsjsm3JkCi\n",
       "1ajBDZ8VTbTjyVtX17lH9ucYj19bDMu1dNCU3/XQ2YaLNPwAegz+4xPiyRRxHWlFkbjet6oUT7HX\n",
       "YsYdeDDr5oodpjD+dKPsJgK/KeKnWd7Eo+A0u/K9BEBK1ShjOzhbBlh6j9S9e8FkCfGc1/B1pkAL\n",
       "eHz14qX+onI+HROKKrj5ioBgeMbAbl+jd08x8HTZyfI8sOhDV+/SlyfPFPB8Kumlg2BTk3WnPiLd\n",
       "Fx2wDrviqZ3K40rRjEHEEl321qSG//XyXo3S7IdIHbHx1iQ4SLYl3vEDx61Dxo4bwWWvDzUHjcyc\n",
       "+sKSZT4XDXWGAsyi5ioPk0jPceOWgAVAnWtCN6EypC+aer6QXKqvCfvzev9yamIL2yMh1ncYYzHb\n",
       "LxYmtA6FLYp7CSvn75gHQT5h09Xu+qT8G1IrIGS3o19ov74v+vhY2dzUDLnrshmsv8D5FjEeEZYH\n",
       "/UZeDf0p1AYeRCrWZSy0hRcp9zlGe2fQU6i28yG4rM7J2bq7RO7kzDD0mtAThKVFsAE83hXzhDm1\n",
       "3OHBpiIXv03aPI2zYM8c8x8Bk+KWdlgHD4DNQ5QNhQpfbrsnKMuD3zBCOMGMFHRzql8odvqBAQIE\n",
       "qZqXyF5J2pmdggz7/+TZeL2sKJRXj/YHpJ8CHZGRODOLYOyqAzupuAUF+zQ6Zj30x2d7rF4r/EfE\n",
       "FbvgAAA6ii3DpqqdLT48JN5jzDurYmMOPKG31W1mqY8tmtymgrf6MsX1MVjqS7LmdNiyk4VbJulM\n",
       "vItU9hVHML67og1iCkQnYijIKBAgKrdbhx4p45VTNiGnhLEO7jUYtC3ls9rA2YAHoM8sBv2TpRO/\n",
       "fCh7FEWSuOrSMGKrJgqKhRj+lJeAt4hHLx1xQx2+bsOul0xu062C52bso4YU/Py26DSIpuKU+M1U\n",
       "7Qvq7Vnc3nFDjBXrNhPqSIC7Sf+mN/4S/JxZPbZSFjxPVw8G82NXGngEn/ZLnmZH7yNz7cfVJhaP\n",
       "Syj5b+0jbWsol3tdzMiAcfVqxvX/D3P8EA/PpmZJ3jEmKdSbQqjkknvk+egv4EKSO/F2w2XhOkNu\n",
       "uGTFx1jguhd3I3gJGsgOwTMvcyynSgnCcCXi16HlAn5uLjHD/La6p9EXMfcg86tUts0Iv/AIbJAs\n",
       "z8J3b07i4pb/bZN0W0Iys4WMkye/ggvWf1y6f7lR/UDfvantdF1ImG6AxdSvqw6pHaj//kDzDNg8\n",
       "6V6gXYzCce6DFDMDSEaLtZODaK89qfw0Jyv/rUXua5wH+XmIzSaaL7af6OKaGSZY7+4hP6Xoct4v\n",
       "+9eD9m7fjdiFjeoSeV9T/vK6ybm1UCWI9hUhdWYs1DoLEKZuzmsoo0nYNlHgkiHsMD58ACa5dcvf\n",
       "KtBKHPcvt4q2H/CFZZfhVlC2VDF7YeoNPAaAaq08+LdePUGg9jfBaQDVtsiIZbB5TUfBGTvQA4g5\n",
       "jWbE+A7+/jJWxvUSZTgbswMI1rbfkcBs9KoAt1B5bC1tHKTpDCDNZajPSyBXhcsItIbCVghEXSto\n",
       "T0fFv8a5uX/TDf179Swk4IvolNrY5HvyNWvi08qt2p+xdZo7eXORjStlyqZQS8EntDC0C3BU77dU\n",
       "OkJNO5ramlrw/SXBG6nnnOIIwWgd4uRKDsRBVzB/Oc5M7JTZfrCuKaJXZa+tkzHQWfLdZ3IG1XzY\n",
       "miYPH2ux32AN9Mm9AKg4LXAAHdD/kVOTAj2QDMrdBhHVELUw8AM2RFSWVoJSgZ1CQ8QfRFKjh6Am\n",
       "pIgLurDjWUe4YC73D9nD7zT3QY6coShG2BFhg9OJmRc/KiMnhJPN165oAt8OGazmCo8e/m8rnECC\n",
       "G+0Pr6YbZOvvf/PrhUXYklpwqSEPMRjLFqY5OY/KoJ2AZEgY1ZzKpUj1FYvxFUX7qsZKJ6L8lZyG\n",
       "7WKijVwxPn6daoZ3FrjKtrjo5pKSrBA1lQmjhyBwuRiE/vHT6C/FvykoqXsaYvTNXYjEPdZ78efa\n",
       "WYYBNggv4yPF89I0Q4skxJmh/TQlw370Lm/yA+dFFnemldzXz5QLewUfdd/Nqg9tMoWGVKZdR8Lf\n",
       "w2qASSI5AbPrU3+19+hW1IUDln7Aht6FbO2tv/vmVzvZvTqL1econT57/WoRw5FCzspvFkR+ESMR\n",
       "XxIG0BWzX1S4yo5FD0n1N5d5kcJjRVagy8AlfTItCOh1o18Xt5dOj9pVnCMj3NlQTNT7NLtbToUi\n",
       "VQbqxAPL9+b+t5Dq8nERiGUu4vfZHewAIJPGBd83wpRHuBpJlvqSK9l1ZAclKZDhqQQxcc8G6kGb\n",
       "n/NdnVdx2mwRZIFU4nc7p4F33wpOVsl0ijWgJU0FLd9qU/uNxdtS/zCK8n0Dc7tGjFhKuzWfA4Sk\n",
       "ZZEtL8/HAE2NIWtHq/bPUpR09u6fodZY5zWdGb7KQ8Hlvm/5En1dsi+gU9MwbnvBitXiDoIt3v3F\n",
       "LHUNVhcw1P6VW9XIwhFuES8D1OKu/vz0wl0x5jSAzy5AmtB8fnSVgJDvv/Ty2Z07dkun9ME4BAxh\n",
       "mdiyrHI+EghrJuxnOaPKBoytBcpJVtXrt56/HUiIuujtDPghPXetbIRf2RD1IAE6agVyKiZK3Z6m\n",
       "a5RCRT5sLM92oHjzHpMPBDRgaNh5QVkbDrQNP8QXGvAijnFqxdtJtstAb1dvZdfar4idoputzLjU\n",
       "f+v09U7vr2eMcyrS6erJMK0CbIi7yYMLhVhnadrJPs+Il2kBoSh32ivW8ULN1vXGngPuxXmUAVsT\n",
       "GeBZlH7wt/GjKtIGrb5LmcPiokR2EbrbatFk87fwzGnkuMrUPhRV5uVr2ZbtjplIzm01nlRbHkX8\n",
       "I4H424X3CJ7Is5TcCIJjPGyszLJlp8baYob10vbi1z6VeOqTCu9ZUszdYAU/aOgDOrmAvtI0/f2L\n",
       "fykv+Z/lIOFtrAQ28LhxudbNDFLoWDUIhYi3aDRU15iBMsrahgb/A227E0LHlzlQysiaLLcTv3tz\n",
       "foJEh2btPE//UElRBvnBmhTk9d5X/OmWnpuybNHzs3+l4kfFXUEtO06EUc7GbBb+hgNwvnUGJWun\n",
       "jeCPCRwz/AKG2Gl8cb9ZuTw7d3sjvkrXWTZuQ6kvE+qfDWrfTCLgr2CmL23Jrp9Z39CcYDb2vJCy\n",
       "1CkZubH/IDn7P5Mwg/UV1dzXPOabhTF/rPoSbHObuw1MtLeENhp3hhnVU7zV8I6ICMI0jrZJVC9A\n",
       "fo4MI6ZQKA/gcOLJF4wXugO8fH91WW5aGeV1zcAVgZ4e3uhoyH8FW+X+0fsLwb8AkjSm1RUUtnG4\n",
       "OMiu8yg7tjkDQQqmpYamlcDGsdMXrpT6FBuzUGa7iNLOSXazNEsCpQxTxYiRenD1GRzcnc5HBl6O\n",
       "++NVsDeuwgq/L7/Jyw8bNB3EzdxULlMEmGw47lKw7zTUvtKgjefxfTMqqsPn97+zAcyNdqclbPP+\n",
       "6t06rRyv4ZbHeDNXYHzs5kH0l6ZBxvQ4EOtZLq0ibXndQSrjgqBQaG+Mo5Zbw+z+nnt6KvX6TxS5\n",
       "tKSZxBceUG75zP7b4DrqyQcU3jLE1onYYVqrLw3Nzmv4lLrSApv8VVN+6Yf/ojJmPqlQPPCSbZDP\n",
       "d8GxNMiJx+vygvifGgAgwQkDG4CRMYhEsZR8yZqdefYLPT22gB+mLbjvegLh4AAxwC4SPFXxqllr\n",
       "cFAe7s6azPREenDjw9FJw2Dg3Irm89/yRtS6/GtfBhlFjQjeGRSXSZf4LPu5Iuin57nSo+UmPjaE\n",
       "UrQRDSgiDbLZU1XewEbZ8NydZwgSGjaFmsi67gyy3a9p63OZph7pHz+6MPKREVei+HpiBJcAAAJw\n",
       "QZokbEO//qmWALwobgC1z+PM3sCLLpb3Nrlsv5rAFDunDSZOpYA5/lukuGuS8rNJNAYyJsVPA+UD\n",
       "LEdPRtXG4Ujdy+bTFOyshsPhP2JC5sN5xrr/lomLJxa20Uk9Cx68U22LcfER/YdmgkYbKwAxiHR/\n",
       "uYFxGeyEMW8/qy2377rczfKDigzeXrnVx/wkdysG6aokxbZN6uaDznlz3HE6GGDvlZNX/THA/AA5\n",
       "ddqrBWpc+HgxKIGA836IclelShvepgVDBty5X1aIRHX5k390JVdTTUKT1n7Z5ZZYkPyGtua5o6n7\n",
       "IYqDHvWEL97zUKMtra5GYzBiGGN77eJ7UoifwFuULqXOibX7Jvk5ahpifOrsDq4cAsevEna8OldK\n",
       "I+IgvklrnL8XWPVub1bhcCcgHHHrWHZb0XE2CY8u98r9q/GkL9+YCaV0OrsHaw55J3ThSMfYCg/x\n",
       "uGF0WpO6QwUJZglx2VdpwYDMeVX0wFwIsxB9MI++JZr7axBZn7SDGN6IodFrs7oDsAdwawou7///\n",
       "t/Dw1F3//9zC2xtKDUIyL7zodJoaeXt+45/0Jev/fwzF3eSmHwh/js6nl30O3ebIuI//7JN+xDmI\n",
       "c+yFB+CvKT4FeL5VDnRqqkRZ0UZUKQGFOUEmmR8LFcbHVACqjiZ8NbWjnKa0faSJ6VSrDTsgTV0I\n",
       "SpFQcIS0rOPnXDumtQNJY/aHqjOPwTMbJCEgX9qvubpUHYqBnqlIci/+jD0JG027JKau3My5E4ia\n",
       "3aumVNMlJdUb9ncALGmY9UUSr8FhoqspQD4lfjeIggzZH9/gS5H1PeggSXN/FjaYoA3UGeuIAAAA\n",
       "mkGeQniGfwCfKH3Efe5MacRKrN1n27hy2IbYz+bJH0p5RnNUrVL79+KCbfu8XE2JyQpxgSvZE6TE\n",
       "tXzLKWdl/dUHD/iQATtsKcQVzg/h0+rPhst2HtzpOc0cNbMMfK6+piJzZY/IqnnK2nhg0qHvxF2v\n",
       "6q+fgSaHAZlEF2IF+03Gja8d2Nmjj90+yO1Jl0yUJotH5kEd6gjDH/kAAABnAZ5hdEK/ASZ0P9aP\n",
       "940LawNUgKaTEoHLW4Yupxd5qSdxhm2/7XlhPYkmb2wqORSarYJboJJdUitWeM4ac6zmHzbzOg3C\n",
       "XeFlGv1B4l0Q5BYiWBoRv1EAENM6NyOKHIP3aVztPVSQpAAAAGoBnmNqQr8AVBTYXsgtLtPjJeYI\n",
       "J84+jb6zItpYPIeEqdXBGVCWPsBB/6D6JE0CfK6fIJRSb8CmHsPC8iAFUG/A6Bth5cjcBIZc9BGD\n",
       "5FFhhsVV3nECCOr3RgAQ0zo3IbSCq18ToXLdHg7lAAACK0GaaEmoQWiZTAh3//6plgBb/gHHn2Te\n",
       "gD2AEIJe6b379yCntAnhLNXNebi7SN+AK3wG9G8OB1XFfmb3zLQ0vFI01alTFlUHzF79tv7iA9IL\n",
       "dkNMF0hHO1ALjlOeITq6LyoeRHZdXrJnciz/Z8eB3JIIBoRUlmQfDs1y+rjhymlfFOF2kb8LzmEY\n",
       "RIobrdEUE9ywRB7bgqGxupyFhf7qSzpLkZ6zezhmeqpf1yq8c13Ov//VauQ4MV67rbDq5AEPmxCD\n",
       "Jm38Q08gHqmpgW70yftwqtB8cTe14Fz3SCie/iIe9eEGwD5sJ2QxfAFEILImAaFIu69gAjtFEJbQ\n",
       "ZXsdZDXjRphDa2ZfixiNWyGr3bUtAy2FbWRHzL9/7U6gwPStW51P6dwhqDMxy1cHfYN0KF6pcPQ4\n",
       "aHMREYbadBj/1rIy2IL98R9Uq0RRzP8Wx4hhDh0RilaaLL2T58KqygIdIi6GG6rhxoQMqd2bePy6\n",
       "4+G5GinZSu0UKlT72fq/Lt/gTK7mQ5BzRjC7oYHYrF5YviRWWanupbWR1JX1jKl/vtyXJgQSOYM2\n",
       "igY2iSW+248n540zDRaz4ge5D5P6CjZZm4ZTQdpe+9NTYRCdioSGEeZ5kZNtIl6IKTRNE3cwB3EM\n",
       "0hSmQmcMci+LvNBz9SecTYLfad1ZHjdoBTVy+2vHf/YI/UZsNBREueFg7RW9lZzLPrmtLyLs/jSd\n",
       "PT0plEzVn5AffAfb1Lq/v/VrkQAAAPlBnoZFESwz/wBPlFCCuEqu10xOra4AkCBrWEALVtmF4wc8\n",
       "n3LMD8264jB3NIPWlTvaNGy0jp7a4eHJa4p+E0PI4Tv4iynTKK+rfIfWd2sZPL4wt15CzpBw3wy/\n",
       "UX0AYKOWMf/GNDD8I9iNFtHV+MeXH+blsdnxy++NyHZO8hvEj1i8udyHH9Dcv5DlfOIRSL80iDBI\n",
       "mroiuaSsrLb2PLAoow2EnqT2+67BwoFyKsGR49SrQGvEH48PgQFEumll96G6x1ro68kh55mbU/3F\n",
       "DclckdTH+IZ8mVABTAEOHGXZzPuOrJMv7y+pK4Rg/VVjr8EZ0H863Ixgv3EAAAB1AZ6ldEK/AJK6\n",
       "KW51lLbyVw//uIOKa8sgCJSnbnc8sjthIooXDFpeYkOWHqFdoirWf9fGmpPg+UPP5V+q0Np6Umyw\n",
       "cWeJCdqnBjNd3Jo5IpcHw0mNzZNfAeuQ5ID8OSyZVqNfqcH7HftCtFxFvhRE0yKiBVSBAAAAzgGe\n",
       "p2pCvwBRfrsbugAcPkpmYBIGaYNuhejhtVddyPrvyzBh5gDebwJLqbYkoCKVg5lfLE4l1aqNZCuI\n",
       "unOF7hKUsT7HVmZR97OkMwLU48XtnQc16dpmKq70Hm0VdWYLZ9m7iEBlM8KtzALjouAMuZPKwJAJ\n",
       "ihdKMh7MitXktSFtjuuz8azhLaPOv1EOTW+1K5PjqG+8EV0rovvxBRxbij6Pv/uPyI6GafE5ZzKM\n",
       "LMNXS0G3p54284I7nPIZmOX79C4ptFW8oSSTp2n3o8SkAAACYkGaqkmoQWyZTBRMN//+p4QAZIzR\n",
       "46MgArgMpOH+8Iw5vGNt+yMbFqJZ0XqUTqPbYH/i7ozvMlJXKBcHEbYaxuMx5hEm4haJeJgM1EdV\n",
       "+IQzbED+uw0IswIccw3fjzSJd5Kh0ieObS2l+rjJ5c1LAHLaPAtylnd9qn1zAsmihwnneORjM4eK\n",
       "MLfJz9YiPpNZU5mySEx/FsTYPzZGcVJeUGce9UQBtIwto1XjUKwpy4wqSkBaFbibqjyAzv/pb6Ij\n",
       "X2MGvRRKLNEk2TRFvOiTA65O5+ish3MzDLv6eFvYI0Sv9EWwTOkcSXM/RKWlYhinOXC6/M+54Kkh\n",
       "CMmncQHEkuRDCOBx/eh5JdDQbIG8XDaWD0+yhg5micCPGnjCsW+GT5M+tFaBrc9plOKXCuiMBrup\n",
       "ErwSyJJW1PSkhzldyn5a3IwgR9iyDjRlYJkwaoqRPSE0crAs79SMAfgAP9/rz8skyeRuNBwDIAJQ\n",
       "jF8crWlQXjdMS8YKD2EiFIZ2RZi/sg4f9399+lG2k1tE3+2KrZs6rKC6ZBJE1cWD7r+U5cIgHRYI\n",
       "sFcSoLWya8qgmVetOgiMX89NxZ7uFCProc/AmWXFUkA8jQo0/5lo4koeiNwCTcRcuXcvHqEbOr9Z\n",
       "L3NFm8o+uFI8pUAuGlrOUC/EWpUKRBTqRBF98iPf5egIyz0vNL2cy7/9iPBy27AXUWKBG2mIEuR/\n",
       "npcfrl9NIQGvDgmY6VBqWda3+pF36DBYQsnUI7lFBx1Q+9VKu5w0XyTRrH+aVge+p9n/G08kazUS\n",
       "DE+RZeDTN/j6kvzXFVNUOC51qqYAAADhAZ7JakK/AHbr10NlodNnwBB0Y72dxT8NS5MVJDrV1607\n",
       "kuII2DUfe0Xdai7Y02Gl+h1f9429pBv0llhmIc+Rji7QHmtbLCy5tTyRZ35CTDlguyKnARfw2Hu7\n",
       "12qdrcV1AFDzBmxQB98o7UeZhVNFguaKIFEq1NZYgaRlPblHwWslUqg9BUT81QLKfq/LgwrAZMnq\n",
       "qcz6IIffnaKBmw4W56gAFrraAT1x9kEBeYinul7ZLxw2gFfQ1kOG0ubVlHCodQXBx/mZAOMvjWZ8\n",
       "1TWdsCS7bYVqzMRQbC2VuKbcVLixAAABu0Gay0nhClJlMCHf/qmWADKSYJAEbxjVy2/HsFR3bXAE\n",
       "R7IdwE1/SIlLH4jQBa6GoFh1mt/3/IerHTGayCpYFjD+J/yv5aRlBTspbfKJOJXfYmD+f6w2QSYW\n",
       "bTkyMo5b9CLgzC/dEWkr9e9u5HYUw6Qlg+vve+fHIywFSRuYubNx5E0/+Fwlv83XkJiyYrMrQUm9\n",
       "z1ruCZwxm1vdr7mSNIt10ujD72BYFrXN0ECAiKYeK2KJTt2rwBusHdFuMZ2JRD85DOkB2EI6nXpO\n",
       "yyX3GI5NvBXh6JttPeJIeu57FEUmxuXecRd0sky2Tuf4VKQmPIpMpVNJEvrvCb26PmFyHjqEnANT\n",
       "eAXt64u+0aXEb7lSP6W7TO89NshO5OWwa3Xe2E3CiHPp6LyEzlfu8MsLYnQihttFYyugKGr77lbJ\n",
       "vKGIdeRs8p5Q/G6is07wXypF9GkffQSfGSc/jzGJJZmZGU6xudDcB9XfixwYA9crxEljIpjCmKfk\n",
       "HjYX1CbNV7Lu+pb8O64lMSfLzt2Dy1vbScLGTcgLLzS3J1ISj3wg5bhf86a8yjxIKQ/+QVBn+HII\n",
       "DcMAGxwUo+bswG6AAAABxUGa7UnhDomUwU0TDv/+qZYAMts5L20g3QCDpbrkN4uJ2y1AUiDQ5p9t\n",
       "NNPIO30ej5waf0xYRw00f9d0v1mdGFL57piCczHwm3+dk92s4Z9ggnQQgQNUCzjf7SKkgX4Vt3n9\n",
       "k+KlPrx4TEXhq2f/02Sf5PxFL8lYAmgnymnv90k7TFn7NIb/ZfndP/SOhbvqQL4wzDxP6rI6mxK6\n",
       "SXUPoyhDiNgDxHHBhvby2TCQAOJXBR/2AIS20WClmTzueu4G8nnv0itk1okKNGAf68JlFtneXCij\n",
       "sl5LKw3KEGBaG0TdbLiZi0dWx3Jdm/MGZJrj7xlmbvV2XIrLFfs426FZLEzqebuh33r0s6JqYUB0\n",
       "CFyBcnJlH8aGjUW+vZ0nr50YkpdVlrzehyVaTynL/wknUl6puqBI4NN4+Zql2GZpnu8jeiPTKPaZ\n",
       "tslnoO3qR+BJlJYYR0pRjmSp8p9vyDSP+coJ17Wb1/sEDjvzWtpkSw+v333mgI1ANUzMyhhcHNdK\n",
       "llTdXj3gRJUJKVJbiyK6Lggyh0eVHClFp41cd6agSemTeUtSv33cUNX0fmYPBcASnhnVCM6lhiL7\n",
       "dS//8+89mDiX48XyQAAAANUBnwxqQr8AdrMfJLh3PI85Zqia/ba0Zwbgo6hlTrZMCXMl00ABGR2t\n",
       "y34oOHHYX93k7H9Tzh6sckd0U0ktAo+AeVlw7OLANbrzIpyUvZpT89axTaqd4H2aw2eDsz3n/UCz\n",
       "qF4Y9w5UOOAUukplF19TrQQgQyifKdI3wA4V3kii/CoL7AgWNcVKr7XFXNT5KvIwgGdImcPHecNh\n",
       "m7BOxsbmyL2eHlmf9STCA9E9awV27hcnA6dEnO/jf8uDwXE+qmrdPCHeEXTR1xRWPoeM8tuuc3Ae\n",
       "8uEAAAGFQZsPSeEPJlMFPDv//qmWAJwfadJkmITcAg1Sf3vqhLgrNIgvEPFdvopYtfYxJZQYqw3G\n",
       "kueT6VtdxfrvMADwbQvwnU1F8Urf4IR6RGSpuX4c3NmAd6Y+u1b4xpmKIolA8ZftNI/CqlHlivBw\n",
       "RUXtI/ngtenXg3mWQ5ab94MkCkE+dxJPjM8cawZZKKHkwC7nt0D9jshtOa8pu2hqns4kjx/a4dSo\n",
       "CKACNMQq2iPBiNZKPfxJONlp4nQD0foYQNWPl89jLK8t1K5tq/oLjMuq1uMKi2fy4UV16C6cNeYR\n",
       "2EM8U37OVhSpbQweudZyWdAFNxlKbGDzX4GyoU6vLnazGypzCKKqewInRqRUij6f8CqpMvHJRgJv\n",
       "gKh2D5n6si5BIUoo/820slRE9yTnn5y2oAFc2SXd3kgBeQOu6tR4x4B2dShVw6PcbhHKaaaUqCvN\n",
       "uyw3GUqJDLU30jGO3xcttVcd18Hxkp5iN11qYA8fUlSvXAhxkr4Ysf8sxCYcTLwLTeyw0IEAAAC5\n",
       "AZ8uakK/AHazHyWKTsNfXOKFGz1E43TLWJ7Lntv4Zjzz/sNeCSzFQANuFPiJ+1uhs2vWAzPex/Xx\n",
       "xwqYzR/Hf8a//ul7yNShK2zWD898vw9nn/+XlAV/HbXdn3LY6965wboCf1FuvHm5PuthP6r1GcAZ\n",
       "i4K8E74oAVRBl7Ve9tTUNLSg9amBs04GR9q6+SpnwuHaeRfXd5xUoh/4u+3cDd7gsODHW0GPvz3l\n",
       "oAMNOPcEsMig5fpxjyEAAAEcQZsxSeEPJlMFPDv//qmWAKDBZXMhr/FPAK8YJSqKOBc0ZRlcn8NO\n",
       "kG3fntFR3gSojL6ijVbf2+dKvTeXCsLcAuncF6yODeD7fKUTr8GQvangPYNj7Vbmm4yDsF43O2hU\n",
       "i254n76JKmUK8svtEoKUBDOjW0tuGYR3+2UF09QlzQ8yJjktc51MX9VeZzStCIQBMFFxkfvI5TPu\n",
       "FT/DwKmtTncASmr09twdDXPUdfEvblsXRPib+x8SQE1yaM+EuQYo7KgzbE2XYnxi24P1azJXo0Nk\n",
       "ZQWp6C7Me555U/cHEUcRPJF2fnnJUZ33KJiWOaC39qCr2cylnV6CsC2KOTRSiJbHyY0EmaVEnu7X\n",
       "uWsZlhUOfVxxbQ1/rH7ZgOAAAAChAZ9QakK/AHazHyENx/ahUel22TMm+OIMry0f7sSLm96a13ZV\n",
       "USTctr3OAtmApjREgBtRi5JNcP++gUoYqYVULZ+BiRJphblfOL31cpwQzRfSmf+SOTmXXoCUtCT2\n",
       "SJz0tXDb5r1PCUibbs/8vcutQ4yn+bcLuksFE1sIx4dLcznWC3NShjq/4DQH8fp4cFt/fy5mPyiI\n",
       "/XV3zjy59Vil2RAAAAFSQZtUSeEPJlMCG//+p4QAYdzAZMTRsN/9cmqFNZeHQCOcWdN/QsRzJETx\n",
       "Fc2kG5zrq8YUn5Q9bv66ueE5Dupu4/zoK/5+PzUCwGN7ll7N/ISBqYkJVsqAPP2Dv2y4F7TWkNJA\n",
       "k6NkzP+ih2RcVZbqNSYJb/X42CymWMYDnF3kWorf768Hmi7zW4mxR+NYfGQkPPxu8ibZZ20ZjIww\n",
       "0ObQxyutKB9mEzzy8YKOirf0h3n9l4a9SZ5XusQZSuKXtxjHG3nJ/mlBcJ5O0QIYrfHltAFbe0PS\n",
       "Djpo7qJsfyNQFTLUcifx9h6jIOzd+GsxbYiwz3Xu6uQpLxJgdxz2BcNFwcESKuv1URBHQLa/Od2o\n",
       "HmGr0fc/o3A0vEPm5zWNHjk5a5JN9OkQmN24DykY2qtgDUV4lepo1hJ2ny/aoDkFRddi1i790J6e\n",
       "/N/lglzMhrR+soMAAACcQZ9yRRE8L/8AWI7hm7puTflJj3U0FWIy2IlictoDeGF+ukVO37SfQzS4\n",
       "tJrk8GXrZEIp1FPM8T79bpACU6qqU/JTqBD0F6rEqZU308NSQHn2RukZUtOoTQ4rakArzLE/YOpc\n",
       "b2zq1cFmYWaVIFl4io4Edi2vBsbX1rcGSQCpFco6xg/KZpcSbV/p1oF6kNrmYkf8altxhlKRRK2U\n",
       "AAAAiAGfk2pCvwBPuGFsGqN367bIQoJbc+7/uQs8CFQOdwv9Ms4RjO1BSwlOXlaLegKmHcQYATiF\n",
       "Zw3ijhLDuLRUuZMvMMN0Teop8FdX8Ybn8TmOw0LHFAv0eev7eizjETAB7swJm3s/dF4sQLn6IUp4\n",
       "1P9kZ46zIl71EyIK0Rg/TRGZ6WpEU3PFOewAAAEYQZuVSahBaJlMCHf//qmWADKSYJAC04xlM9m1\n",
       "Xpr0BKj0c81+DMg0QPvryxebxI2wXcw6JfJEYx7J0tRb031PAJxlnEhnsbsK/71VCehkBfzaIZ4R\n",
       "NO9Pdas/P+nzG5L+HRULIezFxbcjhWGgl2Z1945PWXgWmSgcDIJk10eqe9c02vabiBin11o6FR7P\n",
       "VkG9jPwfsnV8HutZunhf2Xq3yS5ir8IvhLM6RDapC8wBU7pZjpQgEIj0yRvyF3H7XD4JelI5bGZd\n",
       "ehUAk1L0MJeY0cZ1tRRf73zUN2EmD8WMuQsYo9P1KfqDyC8XO0xEDKDz5e1MJmYdnhXhknL4nN34\n",
       "9NxOzxKBpKQjHVP/1g4oKw8KUh/yzdzY4QAAATpBm7ZJ4QpSZTAh3/6plgAykmCQAlOxB0B8BVer\n",
       "CCZxjQQb3FN7gxNa9X0kXUP3AcObmSLUCnpHgvAEF2LAyhHTWer5q7Vb2c5hi8DGUjvB4LE+/2M4\n",
       "GKLWyFWc/cZk7ES/HGlTqM5lEJiFfu7U9ikcpGCZx07sb6d1YQhFj2aZuTt0TV3puTXDpEpB1DuN\n",
       "/FHjoH3SZxvi4X5NzvqZmblW2t+TjHN3Zzne7ZTChLSBYPXqD9nf8uFfGwA8wUpEXy9U0fLXD9o/\n",
       "fMuL1Jkvp7Mre06QLFUhR1KjiBFg7e+W+8M4HesRvbXyUiKn4Dtice2hCIwsDyVju2lM7uKfmlhn\n",
       "PQ91qYgCiiSEy+TCrw0eEliMedkTsrKkBUU0AxoWj8i7j2Y2tSwgdKSYpuIEm3kQqB4j7Wpvm+2j\n",
       "yAAAAm5Bm9pJ4Q6JlMCHf/6plgAyilaOWluAAfuXunRH+wrAu0o/mhrbRAiiul88a76BCrI2UPyB\n",
       "F3v2jEYfyo87zvzNhKsRbQ/vR6Exd2VYXeY198z/8xTSxXxGZECxKhrFbi5Uw66K6WgcbMowDufj\n",
       "R1JFYJHrfn0tOjH9sLoz/17APr1zhFUQSymBKb6u2JowNtG6gnaiJzLrG1KxuOzKI306/sIjW3IB\n",
       "Xy84NB3F8UuR6Es/VL5jdh9wbbeMCNCW3x+0NU+8gB4uJUSn575ZvGMTSo8VZoz3jIfR/mjfYcxw\n",
       "IdoirGb54Vy/bEJTdGF30KXP2YRNf1Py6+KmtOytIadQvfWLSDAJVj2eqojpYFpSiLI0kKQG+byr\n",
       "l42DFS62PcZqm6pbnbFl9r8G9bw/XMk5Wglu84f9XOERseKdffCwIBoC/KPJnH6BBmCim4iBtXwV\n",
       "X8GFXWGRrHtMAUxHxZ84fj0O6TuT/q1bavhKWsQbd4yF4UfaWJuvX2ShmcPNYIsYzuS4huYEzMCH\n",
       "BFTyK6Bk9Sc10bxeVXAFdkn6Kodzf8RKOUJYO3f/5fMExL1zGV1AgySQ75z6v4bbwKxo+pruleZR\n",
       "CqzVbvLWyM5X3ZhSWndJ/COZBItFjOoLccLbe4Qqk/kGGNrGWoqGEIQ+EDVby8oTbO2GHY5WXIeq\n",
       "Ol6VEHiZ//Ur1z517sQ+5jMERFCLpUEo5gKCD/24puMkNtD+p9DvdC51aRm1zmTxNCPNAMD1+0qX\n",
       "FXbMXzsbJ2GyiUh9SDGsuSfcsU+k//iYdSw+xnD68ks4yYIcxRwrT8Sx1TFWIbBWxpGmUVmW0Xpt\n",
       "AAABOkGf+EURPDP/AD93Kby+fXZUgBo+iFrhXU2E7FqdBwosG5OhYtnGeszq5ESxhUiZqXp+Qhvt\n",
       "NF7J4BQtvGOkOhBaRHdrO8V1dudhfvZULY9xBNwJ/91akfJJoYcERfQ4UBodOR9D+THaj39E1exp\n",
       "2PwTT9rUqwyVHMUgE4CyLFxOsfr5ckEAYtC/Po7rsAo/Vc4KSqb2q1DCLMJIizivdy7jQoUTfgl0\n",
       "NDd9syJ2SWsnNnWnOMwsQks7m8LgIFN5eFcQjOYLDH8W3p1mLfmZsWy/Qngd4+7Ymz71WmydzIbW\n",
       "ILzeC9A3FSFtvJxFI9NXgGg5mDbvLNDJarotSCB+JkrztZ9P9Mvk4wjPUbSx2F1XABkS+xnqp2ms\n",
       "q5GpJLM3vGthmq1wVb0GCMrW+k65JZp9/Jm/yJOm6+njAAAA0QGeF3RCvwBQt9xaU0cADZJju9oi\n",
       "4TTFP+W3geLdlOoVnOZOpeDA50E/CrdtqLBX1F/aYrt2DtEJyrSG27hvpmW1gaDz9FXM3ZjJdmNE\n",
       "HDjycR0qpgYokVwdE4pbJbpPWCO0oyu/LIeVWT3Jv6ldFFivJHLAehUgBBdtLlyk/4JOPVrh7elE\n",
       "HYs8BJ/8vmuSlN7hZDjV/EvB6p17wpMTR9A4UAQhhfuuaJvTZvcIiPhSB7988GojZlbtM8O8fJLL\n",
       "cWiX+JQHeAoT6+nJJVyP/N2AAAABAwGeGWpCvwBRsQBC7ACL8pqlsIjPmAnZ5sWlMF+Rr+KiM9zS\n",
       "DqqtrA8ZDIKJfj0csSZPTK0B1xIrNHnY5kpnFainsmZk9BWMdQstnRq32QfQVaO3M97EmVL7kGUV\n",
       "HHg9rg39bU5EjHgTf2SrcW6nGcVaDrsff772bQx6j9/kCzQBlMCjskGHZLWYDeqSmMT5YCRZjdpz\n",
       "HDx4XXfQ51IyOSyrSy7robFO+XLjs1U1/Nrt8Z/aHzPh0EoF2o0JnFSc6WIBbJMZtd2krFpwVIk+\n",
       "6j/FSTc8uz3/PTP3m4KcqDHhie5FN9S06T+zON+dgb7WrXc5ev/I/KJ6IEI1mADRLPiiJI8AAAHd\n",
       "QZocSahBaJlMFPDv/qmWADQCr2MMp3ADgpx9aphuKwKNrfMnmoADyzb+St+VuZbOVHRBHAmHyLx8\n",
       "wAdqOqG65d4xCp6G5aZsO6TSrviHTzdxEar6e3xXr01z+FsRBbfYD/wVqXjjJF38/+CHwgAaXGwE\n",
       "N3OA873GKNvmMrJAYenVcSGact1mj7oTxTmeZkPCR7IARa1BDlt6I+ciUx8aJCiSBeclQOffBFDO\n",
       "9XuRyP0fBeafUMVuiYeVaQG0qGSqRcvEKGQDsLj7rMdK+8zqTBu3K3RLUApTqE16JvEXZqHeyLWs\n",
       "gcc6hpcAuvA1oeRJcpxrCPWpYj/iFAMNNJ++cJ8S35lEkFHWxX2OA80C5TrQptTBRJyrTsy3SyBE\n",
       "oVwF7Xxl5k8s3pWdhUs//5gP8bgysEnCQCzKsLCCWiSywdXH6T/AUq6jWjNPrcQB+PHGiNwwbgUp\n",
       "jeFJ/85zGl5sRsU7KWfcRS405/6DiOAGsl7w0HGtuqijYToCNKQg68gEq8LWlB2WydL3i+3zuGjR\n",
       "iRqdbPZSiVL40JJfRiu7CPCfY9owNDfcvYYnBDoMJPZuINENerwcnwg2PXODiQrWQNoJZO5J7zEa\n",
       "9NUsPFQaC3kQ/XoG6YBcmU2AUh/7AAAA6wGeO2pCvwB269f0uavAjvKzwhayDpuDWsbGAIlLORPX\n",
       "FYRmF6W5LaYMcQYvhIrSGt0lrel+Oq2SdJGFmBbi3DoEtSb6AovD8sZm9Qokm+s4ieCd8cKlB13a\n",
       "LlSJDYQvDklT5i1CuaG8a0tZiPv5Qv2DFhJs+ryaC2JLhlWrRtFqDKN3qxacfEt+98SbLLlDes1P\n",
       "8QyhXgG8kb4grf6oMfdfW86cumBEtZEPpUQcADlssIPvIlJ+LBdeFVNOd2xyYORwapJOnIzeH9tc\n",
       "KVrCU0KhJLTeLGsKbqEBaFO+95MqPS224of+iebqw9UAAAHdQZo+SeEKUmUwUsO//qmWADPWiG6e\n",
       "y3uVtR5J+4LuNQAdFaEjkOAJRMx3CumrcopHrTrHTsGKxj6CAv6+7UgmAaxbcbeifdD0H4Nhk80z\n",
       "ZYTUzUo1IkHVma3biwfUkaHRX8NOm7hA+7ER1wxvpx9YBNOmEEFgeMPICKTW7HzVzCDWco9gmmg3\n",
       "O0HSm0d/sXZM1+m6ye7MwjFz4F5Tr2ybOKD4gZx+DSqMAy4ec7D9YOJ13PwKLbQBrTyVRj+etd9U\n",
       "NSEd7Ys7QOoygfPEWAIR9/nKYrtozg9QmI3ZJZPubQRRPCTa9a3kRCLh/IidZYc5T9kRaRnt62Yc\n",
       "InaIzL5DrxKoTaychgGaM5rHqPh0fqvZMhItypznuDj7gIJhUJf2j623uNLpGjv2FwrdENJiMxXs\n",
       "U7Oko6+bp291Z0yff06k9/3qgtq+LfHS6aMgrM9Xm5XOLQcn4S/msa0CTJBMh2BLbodQ2tvKpER9\n",
       "N66+huUPAL7cRyRDNrthgV8/TF5IBZ4mDNcJwcgu3ygmkLP4zA85Mc0GEomREEjMqapP99dCjP2h\n",
       "YoS9XiPoogL9qp9Dms2+vja6Q9ErcAR2zSKRgvIKFhQraQjLWii5+y2mbM775t0zRRF58yl8k2tB\n",
       "AAAA0AGeXWpCvwB2syDrIktLFqLZjAlY1kpoXOA/pbYkS7L2AAvceZVWAFenppGV4FTbrVi95eMN\n",
       "VF/ccQLTtIF1zr9uDdW/FWMpdvLFqpJccnwFLaCrNt+h5iDIwIfRE2HZixwvmTjuzl7wNZ21ANbH\n",
       "8Fgix+7ooqz6NuNPgEGbJG/KuX00WyWGP3/Sj2eHyUagsS9WrqBxDKgjjujed2MJ++8JHxHikn02\n",
       "n9hs/NA9h754bjw2R6B9HefRyYcUG6L5OolvjBlQ7adihRnoqptMuVQAAAGcQZpASeEOiZTBRMP/\n",
       "/qmWADPdgO5hA+4do28JG+9kYHTOTgJFAzGQk9yhEFhU2v/EQ53ViAVwW0KG1kTfpvVGIrCjhdjV\n",
       "z4z/v3jiuieIdMAL1PN/yRD/ISMlyLP622clOX7U/s410X2DIuh+CslwkOOR/48Jg5G+OotTkjXF\n",
       "ghse7GeG4TyB+XO87lrpIwxYIlWTyc+Gw/2a/QNnHwBTjJdv3D7m3bjBsc+wqTc7/DDgUwmTanQ0\n",
       "aCcXZw7mt4n2GOnAQj1q+WZyNIMBL08tOZaUlaWXx+21HBHuOvo/GpWxwOYF1a8zzTDEU4KsVO1c\n",
       "iQKJBMT9pLhnB6I6SVqyW8cpC4vyJRS2gX1IV5yOhqU9SelQ7IERad8sdfTPAMcXUTA2NXq41rKt\n",
       "ep4rRcGBUXTuU+/bKZsQztckAiHFN0RJchHrfOyDUWDh/zB6xN5mR/PlmeJh3aayRC1/MRVBDO8v\n",
       "obwMeYx+jpx1xPUREJ0hzapFESzLyQykES4NMM2LOW8xhLZeLMAGkZ2gpQHFGWLXa0FCX+QlPldf\n",
       "ugAAAIMBnn9qQr8AdrMg3gMhbw12V6OF1SWK0JTorQzZxU7I7nQAjHuaGlI63dmZSXnZIC6MYODp\n",
       "sECOTi5HzJ/RMt20OptlSTDIRn8Nr+qDrGERLd0WfWOPhQJdoMZCa3tUXfdUgeSfU1pT2Wmc+vkS\n",
       "Gb3paKHgTl/gsW5C2XahfIT2TBn4IQAAAZRBmmRJ4Q8mUwIf//6plgAz1m/cWmEMaySu3Zp3v3kQ\n",
       "TnRIx1sHN6dVCCGXx2GlAAajYiSfjmqIEsFXV7I+Z2MO+PWT+tvh9iZwzMmei8z+gJ2Ub7mU6VLY\n",
       "iXanNRX070CR8H6lHj5omVsxQrlCI/vO7RdBq7NQ/Ds/Rv6z/YINk7HKdmBRhaVp7//hv+s1EHBM\n",
       "0t5tk/bUXD6ms4aP663n0byDFQ5o+V3x0p9+Q4yWwtsqwqhSwgrRnBQ8iXmSKCjDro9vzjPDMGvK\n",
       "suUWFAPE3cfsDSP1a3t/Z2VxTLyprX/6CUAM9d4j0xwpzVi1PtNdpk01Lq6JFFEMNcj/qnhDAzwE\n",
       "cgE9MzDGjhku8o/nBtvDGdcE4n395stik4M9Xg92fintX5LAnvwcpODfSmKI9TvMsuEphY82I+3R\n",
       "qiUXLf/967aEXViWVwIcL5qKavJWXwWgyUdSDBsGLQwOoffeO7Q1/YZkrP8USWfzSjgDH7vfI/wj\n",
       "JSPpXG8Xv5xUpCvEtDuGD+rqhqEy5P5ZmATWWUSLaAAAAJlBnoJFETwz/wA/dyoJUJ9JtR9wtyCh\n",
       "mI3WZtYJCeDaJdqVrZMfD7VGUBT0WaS7yUTJ5ndGmzkjvHnZfCwMYRpWFHY3qYAD6Yb3juUNL9PQ\n",
       "1s9mlimtqFZ9/aM0CfsLqbKKPwuRP6X+N4DrkVjyYXDkZMYGmbyKyNtvEEcv/4syMG89XlLK6srd\n",
       "VGgTVqCj7Za7fgKrDgdfPIUAAABvAZ6hdEK/AFQychDqNQfQkAVfI+iA/0zI0mlN7ELM3b9BZoax\n",
       "jYK/ig2ualeJQ4ATKFZtxKx4KzWeVH2bMBWQD1qV4LnC3ZG+qMBCIr/wYy8YaOqYBsSw4iXXcZ+3\n",
       "LQRV/fvXfkTRqbdLtpkuC3DFAAAAigGeo2pCvwBUOF0AISvnj+j6tKRQSjZaDwY4/1un2ifDp2yc\n",
       "b3f184ygxYhAkBQ/ICAHBicNhm+rZcmWCH37tanAWABnGoyq/em6z8APtywlL2QouOikVSIGc3hy\n",
       "DmjZrlzjS4BGE3dYfUm5sND+Wv+e3Q1vK4CiDqAq5T44UAVfgOQ/riIsx33MEQAAAkVBmqhJqEFo\n",
       "mUwId//+qZYANB8P42VIAQ4l7p2/z9/ciaoZJzUvPHaF2kcO5GB5fIOnAgM7ExfibqiVwoxFohR+\n",
       "axndr8Hut3iDnITpJ6YdaYjNU5oGtfRC2VnB3acPPXMKopdt1S9udr2tT1bb3/JTrzXoxjYGq+g0\n",
       "gwNPTLidMRArYHEjO5Qh/pOXuYWKf23e/eqfLBunViZrCbmrxahik8E3WeI44gM3KTeQhp+cdpPC\n",
       "6BVz+1EOh7KxMmZy2tpivRobLauaRmApqArHNHWmclpSOsw+dKzluU39i5LsKPwXaHxSbTBA7d6M\n",
       "/Y2SUf/PlD0wh7OLHhXpVQroej0PiSDRXBJ2K1FAPkjU8Fk7LdR9RCkF9xbTaq9P94ezPEWvCUf4\n",
       "wFTiHQl9fys9Np8fkolRUoS7eu7KpsXfXtGEzzI5lKY7686kassdxljUxmwFKIY87MYQDdyuWr2T\n",
       "iEUUBySD07qee8HoJXWohxnbqyXJz0aIfNXHOdbnMgA3Vttr3GvteZ+6Ks0VBjVzdcMQe8jd1qGf\n",
       "H01Hf5LQCkF/+iqSGB/sklU6nlKQxFgv51E72O9XEjKKBQtf98shRIK7klWxkG/hpDR4+0Izg06C\n",
       "FrJeojMKvcIYrUQfPbb2AKI1/6+AraAKFJmufbHksvMOs+Ws2P/+//n+nlj4Ux+c4UZTLbHWZVpf\n",
       "qS0NR68SqHXnHCPybF9d9PnW7zsNMiR3iAPq5VbCUGm45wJzt7Z6/DX0CLb8hyceZRY5t2KFYNUF\n",
       "HOakPQAAAQ9BnsZFESwz/wA/dyoFK1TTAtsj6+b4PGgQAs/GYoVRXrCNqxGsftNMwbdvoE9dxbVm\n",
       "YXaaVmLjCB4dQGfT5z954/Nz0H8g0aus+3Wd2efPOGlQmdL+FbZXzCtTz5fPUvV4RJuLK35EFbaF\n",
       "0D6gMskmMa1K3+shshif5ZdqEhFiObd3WCxTzPhWPJxqWwnbgkJqZKVE7gncuQlQJtA9UUd9tqVC\n",
       "siAswjL4uHkBG2VQiWCoBsPiMeGdnmduxiODHEQLghhbcAZPjL38ax08aTZKQXb01fhinmmYhHsj\n",
       "6u+6i+J6Wl4e4QRWgEOLDQ25rWp1br2K1PRlqNqJX27IC9rVCxjfrN+EQIhuwdY1ZXrBAAAAoAGe\n",
       "5XRCvwBULWbsnbENLY1CfE7a5xFkARMI0TRO9S05ac+yZ2tYnqQmWFJE736fBHYQb2XBgXyHr2j2\n",
       "+9vBMN+n1edJhMb9hdQFumayKFL3eRknE4KCkoGLvIdMOSd6PSCGrIFYVcKYV5XKmAQIEfZeEvPT\n",
       "Ut/42QlKSvK31yj0t88jJdFyQXCDW3+knQ3znkJYbzDXuQJZBoxxQCrCuEEAAADPAZ7nakK/AFF+\n",
       "tw/oIAg5IDnmNbPwq1hfx4EBI+zuBjqXq+Q7kuV8BLt/rkyrJVChtS8MC936ZjJ16q3GJEOLzigp\n",
       "+9bJ7/M9SHdqOFr2WatPvJKDoivZEnGTkkHzhxxeMqiPBIudmQDSsQ/xge/r+bqhUqSv/SBAcf/p\n",
       "hflBy41GLu/2gkEc74hxn+vtH8X8lboWRKPOuGne6Y3cetNpYziVn/Ivqcq4xMT/Yuh+yxzmB6IR\n",
       "eJinqcvYuCLAzgtN6y0rK+rZbeU7BTp9aS7eAAACUEGa60moQWyZTAh3//6plgAy0GRWBqAFRuB/\n",
       "ZR+9DCmNiiGvsJ1pQ+cfBCfJm1xIG6cHw/MaUA/2L+8iveHN40BV0CBd2vvuDCYLFR+6i+TgKz6i\n",
       "2nZoxKz7ZZ25Q4cXZK9a2WZlrnrWIlb03yCfK5CRJTsYB4tBZF6rckTJ65cS+hHFkfjCYjAJHGmF\n",
       "s+o4RxoaRz8l9FY/5Ftx3tYs01tyNC3MvrBrTNKQeQ9VkzK+3AEGrZLb2T/zpaEfKraQcSBLmi9/\n",
       "jSnfkxHy8qqlR6lbCxRoBO201RDHlEhmiDq/NYWqdGXIGd7Rqt0202cACdV32IpPA/SObkH89uFd\n",
       "mDYJLXQoOG4RhaWi49U3BgDrwhMiBFiZDQa8STr4hyTfOW4WNHipSOTX/9NDeVJSzi+huzNApGTS\n",
       "lFzi5D8OWDGLAtjK6+C9g6BN9WaMYwwABl6EeRMKuxBJaIm26kIANuh2LzWkwfQCVsYvBI/+9BFd\n",
       "JSYZAioTLj4Wb7P0QI3z1OafAgfE51KKHDm1AH1yoNSqSj/zY705ZT2A+U/MtOLm8CTH7TpAgz6b\n",
       "g7vu34pO7cnJKk8iyGguK+W69SRbppD7mVWHFl/+MwGwKz8ChGBxQdDs26PU4bWuAz6YvsRHjaUF\n",
       "eh9PubLWcMykuBbGn63E7VFInooX6tR/OV8W7xxhbZRcC7y7EhKLGJPLPeiHy54K5cEIJlQvq0gE\n",
       "QInOwZzB0ukkBX7ATfSEBkaGE/c5a4TdZbRXgyyCsFvXPVQnMHEUpIQKXjGPMT8YOrzjUHAAAADg\n",
       "QZ8JRRUsL/8AWI7h8QB+ghADTq8VlfTkQPJ3kTSoToyJ4FeDCTVQfo/3NVxTtSS7PtzUkmUuQwfA\n",
       "w5pQC/aae35+CpUsyckKARp5yrjGHzdp2naCO2TmwsrlsEs8UaxSFxwlFHEzgDGYw7wVOSjI3G9Y\n",
       "3D85j1+uBRkNoyzOXKmDw4sdmewEiwVw5c3zKeJ8R0PQdzPElKKrjnqCo1DXQvToGsimCtwI1AzH\n",
       "iybJrgjSvlbKCKlp0YGCDMN4uQUc6Els8lYEHBT8a7EgHbLjTjqZN9oheM7rJ8c9cS48+7EAAACU\n",
       "AZ8qakK/AFIZowBDq6SkXVYdqDtv9ni0ne/eNkNKguFTIflOg/xnDOmMMr2QIilQRXpVCgn/lP75\n",
       "IYwKeYeZM4kzkE03JxroqevIpRhxZf6Djzw79Xjg+bcTNYNeRkmoulhhKpY85YvxigHrrmHGP/Pe\n",
       "5BUOH711zGyBzxu9pmaVXXdrIQVJMPDYm6qfrXg3xTtMOAAAAe5Bmy5JqEFsmUwId//+qZYAMts5\n",
       "L20g3QCDpbrkN4uJ2y1AUouK9lVyXgEAj8CoYnZp4u5ni7u+T2sKfuDaEnNXA7OKmNtQJG1fRhQg\n",
       "ugFpcp2q6v1p1u/qXrvNoYp5Wmx/aGgbZ9XEgje2uAPAlQI9EHfZbLR8spR7AIsTGX2HEWy19dXZ\n",
       "8LyawpI5nIjcehYZ7Dfu1hDr1rXsgl37Katfv3wDz1HQdMZK5yie8RmV7WRR4lbisygTHRNQPYyH\n",
       "SXgon7CE1SamkHyUguGskb5qs8Lp5DQgq0NRW0EaJhNL+L2Qjyep98RoRgNiGch0cD7yTZoC1rJQ\n",
       "rF0HM9bDdq3avvqDY3iImaHlEj2JN+oLLJ2o8+q5s/+h3lkfltXBlFa6hQS8PltzRQiKyMcK1oPh\n",
       "zLrslqgb8lQzmdcq2KuyAirgJKJ8MZgCeOSh39dUOLpo56TYOrj12DZGr7KTWVhFe6QxLK4D0Sfh\n",
       "gp4EOFqsGRrje2PJaXPPAvEUcczcgXnrXBhnfhWX65qTYkxABqiI2bH+AHdsZVid68dtqjNHCjec\n",
       "l+Y6GoRyiVygLPs7/u5B7Nta4flj6MSCmume/BPEl2HT6DKqbfsTGe6KyV7ggfLPNyA+DKYy3lI5\n",
       "PTyUYcfCT9IIhC7h8zZRvhX5gAAAAG1Bn0xFFSwv/wBYjuGVWgOhJDg3YX9SZ89D/TKlfjgTTuuM\n",
       "VshWCqZPQAsCag8N3a3Ym0uX8Tb5QDvn6JEZpi28+pPcwgDmAFowFTXRRvXvRgpQbBjyJtQkKEdF\n",
       "7p68lHxKRse2hY/wQrM8hZaHAAAAZgGfbWpCvwBR2iEP26IpgGFTbBVTA/6MAJvrJYTSoLOnAXdC\n",
       "AEYrhYVrhKwyku6unumRRPynoDiDoOyZw61MEf3FaWvscBfU7KOja9EDBBgNSL9Qyq464TH0LxrR\n",
       "S08GGCIknKh5gQAAAXRBm3BJqEFsmUwUTDv//qmWADFQrw29AGY7dS9dWOwBzJ4KIrCbpbicyLhi\n",
       "k/0E9rt0Wsfc/0zjEr+vHgBoBj74PfR+0aRuhqM+3RyFehabYwDIXweVEaHJuQ9iAReuGpWeNxUU\n",
       "dvasPz1a2HwWiT65UaDhu0QXQamgjDp8xP9nxcPEm6QmSzck3UdlOM4zHcLKQfW32WxObPkieX8Z\n",
       "xujecBftFkjY2KakN4/kgcecBxzxlDy9ZpWxeKojNdZWBJjeqVmZnf9ygW52RpK2y3OhF6n+twFc\n",
       "odWDyopQmQDpw7NzlztsZtAZrGsSGrHzAtOD6EgsIZJP+O92evrrXrjRfAOdn6aiX1vGTH/ddS9B\n",
       "I339L0Gbl2ctYJJRuHYjAjK+r4TobmDlrA2lJcqmlxYap6Ji7pZ9Pf39Re/sB4lm+Q+Zsh9IsCGh\n",
       "wEkh1J/88aXiGbzxjWVKa9n+9XvPIU5IiUbP7js+tUrfVYnMMAVpxj1RiTkAAACDAZ+PakK/AHbr\n",
       "1w73G18l1LO06rGnN0NE7pdeBJI33tADWAFySb+tvqJfI9ixUFjf4jN4Dbu2bJfmK0UgCtCS+2yy\n",
       "y0a08RVqx3f9dgftJFK/GBtZixRjKwaJmbePJ/nqPzcZRNmxfftoIcTp8n1s8Mirlsh6omBDVN99\n",
       "H/6X9h6zosAAAAEYQZuSSeEKUmUwUsO//qmWADFW8F96mHPzggJssWgC6W1RH0POpYseCXFW9MW8\n",
       "99My+NLN99emAbM1NvZYWwSI4ATOZbP8FhgcUCRyaUjiA6ZKJkstCEi43Mbd+zMiP2jmhrwYw9/y\n",
       "9EISzj6ch0fX4l33NZGRNrtd0B+dhvsytZOdiPur1cK7stWvrCa4DnUqy55DbXUgMiDGnmFiW+20\n",
       "eqUfm6dgOxClZNDvpX2VFpLR5JSRLL/LRR6t911pBeXjmspHyYZnaEM78SVFDp8tzXAh31ethZav\n",
       "8GSZMwfOcFND5ZotlbkpcjoOdWC28NXgZFEr26IdiFxnerUHmPAIutaYxHqMQl37HEhxyp6lFcMo\n",
       "o72Ls/LrKAAAAHsBn7FqQr8AdrMdxLrSFUhFra9FizJDdojfFr5gBrAC5JNeCipiPWnySvM1g1PH\n",
       "TMyk+vjT+RyqyhDZWqKiTmeInXiLtKROvUY4GyYzpMXQDNQCOM9vqYAVTerDh3TmFpln7EEdkqL4\n",
       "VwvvBqjma6Ej3Hhh6S+GJeKI0dEAAAEQQZu1SeEOiZTAh//+qZYASn5ibgBbaAC5R02inOEcWwy6\n",
       "z844E6QKlKMSRzNs4Jf6AspGgQ48nYbtD9/UHdsHlJaUfdopNKJgpaNmDS0uoeJIJl/APaL634B3\n",
       "nBIeyS1a5vW14YdMs1ZStOyJyxQTMDIxyAa3m1wMfiaVjzPPG9Qg7pQXJlrcYVw05Mm8zjzWgQ9k\n",
       "C+gRl1Y+U9SWQ3y0RPZ1IRLusTvESUocsyinw4vOCM/wF3cIBARt4jGs7TdLH8WdjyT3P2upuj69\n",
       "Z3ZQCzulluSVFhGtyfFz1Qax+rrtzY8T1Tuz/J5zy64UW/9JhX1AieVtu/jlTQ4jghYipt2a/Wfe\n",
       "AT/z7Mac4ptihxwAAABkQZ/TRRU8L/8AWJiEX0ekBKBaqIXVDmY+nRtEnGXF3w6QZze43KN8oABe\n",
       "ldyADeocczKkAxcWfktL002K+tZ2x88BZbuNcRshSzePzbZn5tHi7C+WJgIv1hpLE0QJIBn1FV9Y\n",
       "IAAAAE0Bn/RqQr8AUevPjwsAQgeby+BlOje/vBGKCKDyAH3+nG6HL8xI6C5CJWrqAAbcLfl6TDZ4\n",
       "ZhvH6SMjwLTprFmk/JVduzetQ/PWA/yCmQAAAZhBm/lJqEFomUwId//+qZYAMpdU6ACckvuAhHGc\n",
       "ECS9QDfHT19UOxO42pOMXbgT9iuP4S95tJjWGrVLe8ZeQSBj0Y3yR9tfslFKMPvWt2/bYxdGycDB\n",
       "PzK8QE1F6AXdu8XygU9kxHSiKX3drmDOdoCavWZnVZQAWIbOGxBQUZE6YEonY9gl3Z6i85owLUeJ\n",
       "jtwQWA+SbiqbPYCYq59S4N6Ms14y78ITwvzobHDEZwrGn36woXEXQpO28GCngObQNfWZFEbtfD2o\n",
       "IXdTkRwWDRyL1FMmvfZbknMSXaP5MZhlsY4PKk0qPQx/LwmRwMzPgHWlTEj2oauE1jdw/raFBSqD\n",
       "msSWhQqP+jj/cMk5h9zh3ZyCLC3h4ZmWWpwpKWXE+0X15kXvqxEgelJ/2Go/C360CK1/RHdWrSHm\n",
       "ivN2zH1swVbHMHHC4kd/N/Zp74X0qAZ+H2SAhxtHCDDe8/w8WKUx3ypiSyqYC/HTphZUz1N+3Mld\n",
       "WDfAWed0PE/UZ5XKcZJiCnTJvCg83Orcwf8A5c9BdfDxh2WrHnAAAAC2QZ4XRREsM/8ALCDRQx4A\n",
       "AIDTX2jvGc8iKK5E1jISmFxe9zuIau+HoN83cRFWhdUJqWZTJl2lPQWM6u9vlTqeuLNIbsqPoPcS\n",
       "KUq58jKPhhfZbVJhwjN0QRLv6SrhH0PvAN1YRYqX4sN6wTQ8QYyeT8vir+C0fl5ONlF8IVB/jgL8\n",
       "X5GUK1fqn0z7cp6Ns66gT+fV4j6t+mpODYGfMKKoeWqiKUXLuX1dd53RcSMoXun+3lLd5IEAAABY\n",
       "AZ42dEK/AE+r2ccJJJbhoAkm+MxVXqEqAEZrizYkAW34ZnE4UK7vI9fdLzXz1koDJ75rZ9fQTPEh\n",
       "JDxliJw7CIYsnFZ3Z6tv0/sKDbiJzwGwMqmQHgOjgQAAAIEBnjhqQr8AULf1gEZlGEAP5ULrefao\n",
       "uLjfAkLEw1pHlk7rO/XrmiypHQQB/MExOCNgdLi3KRtynTmnPF7BizhxWNSTUqQyaOcr/mVTMF9b\n",
       "dJK16Cw3OLnw8Phe3DACEp3Ha54KUBXH/1Bc+xKoCaQNYZTYoNFSpn2VjM6Lyl61dfgAAAG6QZo9\n",
       "SahBbJlMCHf//qmWADQbP+4Hv3AFWDAcyZqzJAPDQ80LPyDb/dK6lE/B+nYkAh5W1rALDiKih6+V\n",
       "QYOhzWYvi4jM6s1efDy2aq/9q0KpFntgDR7hDJEAhv/7tYAt/D0vpUaQkLB97lMaLD3yEf25N0fO\n",
       "xHAq0rcMDK0tOXEO5PjQ0EufFvdqW4d/tq4r6c/6+XgTISyrgv0CUO0gUtOQOSAXAAUiof7hBUFN\n",
       "WHy3qbCLSCIL/wC2dpsYiwOMPl76gAE/SNZXSKjrYA0wzov7+nncLpCdOOx3LSLcT2tRf9Aew6wy\n",
       "OEaqfQSzlYQt39VyFjiNq7ay0xFJVwbOABgJww0++oxgLQiUBX0WztbhgFxjU/fit9tOikIr4GqY\n",
       "w4v7zMV3lVPPYl5MxAq9IL0D3Q8lVjHpjufXP/J7R698qz5Sk2DLlQpQOXuL/VHlMFb1sYI07Z4F\n",
       "ymoMW1zE3STOfU1E7OdZLAsDQoJF7zSnCLO8Tac8DyArQ16vCoAymagw+WMdpItV1dkDw/+6qMMk\n",
       "K/ZM/kaappY+3osUfr2jtv8ObUx2kiyarjPKQLNB6D1il+rgVqAfMQAAAJZBnltFFSwz/wAtZ9bY\n",
       "teXqije+LBHx3jlLvAxYABweEhP7QrxUHCvOd8vcLKWD/hd9iWRyk01/ArkGkDp49po05sDEEqgC\n",
       "FcsDuVMYNUctGTPSrI7YtvlsVV1ZeozBoD1PxTSJq045Czsk/95OwxfcmiVgG+ZgRMK/HRTeFIWH\n",
       "GLet+KSzxNPU4jSKsA70cRHTdBljmCAAAAB8AZ56dEK/AFQx3ITB87AL66PGr8rAEO6Co4byLYeT\n",
       "voRdcJaZ9XXu4FVbwUp1OKgScsNd/Ytku6Z1S2hhbk1Vt5r7U85eYMnpAd+8gjLxqUNxJ/1avMRY\n",
       "bUXPEGoq1GNILjjU1OTY23jqk4eF6HweXRy/huID9m1EGCSL0QAAAF0BnnxqQr8AVBT5bV1hgo/j\n",
       "9jZ+xols4QVKi7qS3TYUg6ubaxdFzdQ089eqhw5jy6GkTj1MudSDobRWacGkFC8JN0MeU/ZV0C/+\n",
       "fj6Z/l9qiard4TH3iRPhPQrlNdEAAAD5QZp/SahBbJlMFEw7//6plgAz734Xbq2VEI6gC++ue8Ie\n",
       "KoAiAQbR+K+lLKpPznQIqbeppWsOkRA+bYKcOPlMZpL9oQlJuLN/vOkO7vh9lXX8qRAJRI1OQtOk\n",
       "f3/F9cz5gYGx6zpXilva32yu8IpviaMYThTQ13KG1imvgcx/pztj4nSsFmHk3oi5ZDnBO26nU6Fe\n",
       "sWeVVFxVvT25/sPIqhtRqE9HynjLbVNhThaVNKHqgHOxpglQCXFUHcZDega0tJ6MVt+GUOEgzRCO\n",
       "1g8lrRthrM/a5+e3lUjryw6OOFymnRu62sLGVU7AyTOuIzz+BD2Cq7Ngq8sIAAAAjwGenmpCvwBU\n",
       "FfJcynfqKblEdGJ9YSRjoiJyu/fvxV0NNYTXRyV+F6VUzkDbyhADWIqheB52Vv+BKOCuHAj0mTQZ\n",
       "g49m61M2z/7CeoQ3PGulVNcvFIrsVIDQEwM8iigYA/gOhLdMYckEygloyRK36pSq5atmVPpb3Brx\n",
       "guuTIeIU150oJI2dwh2+onqZm1uOAAABokGagknhClJlMCHf/qmWACt63k91Ssh3AV3/T3pTwAse\n",
       "4/gW9UgwlRadU7FGsz2MHwenIJtX8xOZZ1v3kQQxaOMSa/vEotYnGvfkhIo0pehk+2vgrOj+Cv2w\n",
       "DmWT4dbHx2fIPmyrsU4qKpfzb0or94l5JNFtgORmIt/D3KZ86z3gVmN0wW1fyHuGWDQHNXkZVWfB\n",
       "Y/odys0+e50sNBv0mJ6DsvehktYc47LRrr89eXSVAFn1v4L25+W3ITeZdmdSN7dsNiJEb8TM2r6J\n",
       "d5srMFxC1zTUh0y3eVP+67zp0M8EOzZjq/91SNlLzysLRZWLkwy/N4AEh00aNVJxScUA2RdpiyH1\n",
       "/oe6mq0L04+GDuxzbH182jb63Mw4n+Q9nuFGMmmbFa1yCJlbguDD7IvX36+9Tg89a603kDMKyInK\n",
       "QWnH+gOcehazXbcWGoyn+Qepks4zh2lH3s2Rdt87mo5RCbrn470lGAxmoK4Fe/vSHKCbFVVuVor2\n",
       "GgPTxuQCX3NAtKwYI8etIxdK4AYiDbgQ1SjfoOC3HyTS8gEqZ+jwn6jVYssAAADtQZ6gRTRML/8A\n",
       "PL1HtwRrYIa7RnGHfaB6UklIT7zCFnageABDZAfGt23Q81FVAhelIWGXLsBz5bF3pJH7lC9uBaXV\n",
       "pH7YXR18GPtG4tnghDbkRt0PfMEYf0Y+luOmeLn0JDBexAf33hlv47quPkntrQyl2O2+IL12cpW6\n",
       "mD5mgOpE54JsUSyNuIQFtXd3Nm8ZoZWv7S/UCoULEpqEFGBQlTNkJ9niXvRfO8z0jB4Ey3/Lrscz\n",
       "dwHVF6ir1rR9ddgmzeEfmaOxzMRPC04JBa8/W64HnUUgI67pyOuT77pYmj8QXHPs60ECvLCQHT3Q\n",
       "AAAA4wGewWpCvwBHddyo+c7E/vo8VX6GOQwasciAANqMXI+z8aN7uvSgYke2KQrqX7V9NOd6zZce\n",
       "I3/EeIJvpIDTgrX8sPAL1SSDC38jsCtbevJqRgyjAkNSoQxQ0RHCy3b1MSNaK5bognTYgD50s6g8\n",
       "C0iNnAt2+HRownu43o6DqScBPkrVFNH74wyjeuAYH8R8yi+2M5CFPboNvWbPvJEcUQVe08sHinT5\n",
       "PENa9aNB2Ce7yc4mY3IVAsJMECgh49d1+91HGrqVkfNMvk7/+BKXb5uzeJJzXh/T1DpJuZrfduYM\n",
       "eRXpAAABhUGaxEmoQWiZTBTw7/6plgAz0AAvm3wAqfXEVhEyxjUwu1V2NXbhmkY6OjG0QEo/Hglk\n",
       "lAt2yceRgT47SUZBdhiS6a+IgiMmVvXhdxlYbD7zuNS1sIMmO92LTT35RclGDh4M2j/oASUpVjSt\n",
       "APrLhYWYLpaV4u+/Mj0C2RTIYvmOeOGvNQKz77netfko4qK2UHRZ7Ai9mRPbqCxrluCxot2+BYj1\n",
       "Hy9gTf95/Oe8+AzG664gcnq1XvVZlFPbDuEM+ZIoKd3azgFARdb35mUAiPBsTuliBOHJJPeoRjp5\n",
       "WbjMCRk0tNVvHSqYc2PAqG9WKDOo1wbZGjk7Ex99fxr1ADVBWb4yZji7IHp598Y8sVLU4KT9N42q\n",
       "Kie47sJh9hbsqceNTgznkji1cgEnx2NiJDBzidaGNA5DdEbTMjxCBmCKXxfVtvxVCfzz2WkF/kni\n",
       "BkGRt+d5ZHvk/npX1nNiOEicbttvnrxDzVvECy9feOxp+IkzrmMUiX6on6hwIlPzGYVHvlj/AAAA\n",
       "1QGe42pCvwBUKclF2Ly310+KnZ6SsFH9XC3K8DnU8vnwQFb/0Bkz/KEmzCCO4AHDxJSNls8Rlm9v\n",
       "K0bDYcxVdL6KM4/cgIBd/lLVF88mUko6oBoGigS7nAbo+aKlxYImoUzLOpVTvLIXvYIhclE3qQUw\n",
       "4T27UkwQodpUsvQqG36mbnpf0fllNYQJa1bPzE9/11bqZCsd0QID3ctNt8+mDiYisHhD+7jRsALr\n",
       "SMJbkpIRoWXpSU05e7a7BX8pSUaHI08FrfWOjkhI1l+/cXNqj7vUalA+FwAAAY9BmuZJ4QpSZTBS\n",
       "w3/+p4QAZuwOaK2tLLuPadH52JKa8xtecVjtQA2xsfkeKhGNrMF1LYn5DguQj0GBSe2I4+QYhplb\n",
       "8wTXyxeTW/Bap9jZlIgTFADSA2DEe8v7hcWwFL/tV8GJ+l6VWRAuVmpcV7Hga1fGoShbBJ5Hu+av\n",
       "HSJsxWdT43H5ZXxO2OIAnzwZCfjZBDiV4bhqcJDfRS56hUgiLNK8xZu3PGfSyFHVg3UJxekeEfWs\n",
       "c49GOgP9+SAZpwTnJaLR1tzRkKpw0cS9AYwAiCh4i/nDdcdoyIxvVddvTaU8X2rwApi3ViGeUllh\n",
       "aGlANTwPPdMPKA+8CFnOg0Ip+4NHdrglFC/PybArPIoRJDbrabKYJT+SGzw93Nrm9rNYbeyBdoXb\n",
       "P7Syn37dygYHywKWDnunpyCXCrPNTA+tIPf19XwicQPLKETFBDY2TpdMN4UbTpQtNZbEAsCHrR4o\n",
       "1itN/RcMWmYGKwmLxU5FQeSXG+QQXv9ClxHH8oneaSxSCLL4xtgB/85MAQSUoY8AAACqAZ8FakK/\n",
       "AFQpa2NJ9BneT8nC05cRHwniAEZCtv9KHsuvaXtqV4Ev3+TtOXcnQvqE0GVptj63tRWrf2lSw8wi\n",
       "wSOVtfDvpyXzdM9tZHjzdNSNgbY3LA9h9Kv1ZgKdqY1+77T0Mr1W7jsrBup3Yj3au+NYS7Wu3XTU\n",
       "p3fySD9HI/kJYVYw6buiDmwYwEXp7z8c0gDkbfKU0nE8NYu9NIDYQody+yxB90eQE4EAAAFpQZsH\n",
       "SeEOiZTAh3/+qZYANB8P8bGz8AAsdfARuQ/S6X0P0O3W/W71hkk8tmyDpZe+jKZmJL6s7yImOatA\n",
       "vR+f2RYPkDGmmv4p3VGpd4kes1kgk6W3y6MW7TM6EMhXzxnqmxCV1rAfA+Z5LUk7qRT9WKbCripM\n",
       "d5HGNmze2+AugEgtgpaOHNMNLyrGrzJi9zkc5HIy7YdY4UMOZp4fUISj/aEV9CibsGLqg1zVRKgF\n",
       "S+IDkQKTM+mGh3IPBQ3bJtb0ZVVbERnOj3bBb8kVjdPeeq/FV2VhP0fV3IYFi7fSvga/48tldsBk\n",
       "e0HcqV3knXz4y4ls/TWi84WzBzOFCoZhFo+yz/yhozS6iGY4YpGNedjDnwmZnAM/sukXVOALDvfh\n",
       "cIOfttXl8WaCjnA3c2vhXHe7Ev4c5V2HmeYxrmzo7tFIke+j63kE6VRC6Ktegu8hfIPdxEOdfOLy\n",
       "dpLuagNHNfmLwtIwoqyxgQAAAfpBmyhJ4Q8mUwIf//6plgAyoLpwUgBYe5A3xWU6hjrX9pH/yHwW\n",
       "vI/b3xv37Wm0xtMb052m54wvJc6rZUJSnvq3bB5rMwcQf1uRtJsTTQQtgnDAchOstIGh1zBHQAoU\n",
       "u4NcpD1x6AT+6kqBre6Je/vB33XHh83pQvTQGr9Qayuhv/7A+endMHsSH0Ysu3DP9rwH4i9NmtVL\n",
       "V9tes31w7kSlPhj/tiGYya01G0moUU2IkYJ78wBfpTFv2fxR8/efPqXH5G9CYxBQMuaY4xJYA0la\n",
       "7JsBJ/9F8+8mokAm6E1FIMTnnD0nZ/TJNd+V7/TwL2BXQDR1btFVt9gDoy0/r+jf/4cf/7CaaAQD\n",
       "1RBkduJrICsPX2UG9hkx/1jFJwiDQc52PnMS0JrtQr3WlvT6/QCdQJX48kRY2ykM5uehOqPUfob/\n",
       "VYY+HCxZHlB1MQy0yv2J16qpX01mm6AHoKH5dspEQykFs/8q1W3hLOA2mUYyE4+ZKLSsZajMpSA8\n",
       "TC+d4k/VAjiINQ+w7u06DzdP938S5DwlMFMa2uvvIQwriJzyPg42mU9Kzt3XhUP4mODEoVENSdoV\n",
       "MrT+fjnWdGT5tVS0/hm4M795EX3I7G1hNFP99Qa4OCpvrp2d8DeqFcFCz2fiYJEe7zFVXUCI/3rZ\n",
       "SZes6ZH1unwYRU7NIgAAAmxBm0xJ4Q8mUwId//6plgAywrXxqIAWwW/+YL96rwHGwwjm3T984Sn6\n",
       "RNfct//tKSVTJyzORO/GURGXjdPa++4yo8gKIpbidbcqCfHTI7loLMcpkbV/sHTtVHzigGHWn4IU\n",
       "EvCvxzBfPaykF6L0mtKbUAbjfL2oNmHg3iCu/nu9c0VwK+3lny0cG9CRqQ7cuXlXRLVTLdxx3OKG\n",
       "VgiRTdlMTW9AlKKCgXQLsBR6dQ/3ddpOD6FUwDyx74aOq9XDFvsU/r3CaQRXaWhGmvt0R9rKS3Ed\n",
       "Hw40/7qg53//U4n4ufaxOfknXugiJX1ydWK8gTh7nhElAmkUsMMLUI5w1zcJNd/wAHPH7mZtb0wS\n",
       "rzxG1fMvDsYzUmK3bFTfKZdU2R977VRnENApYX3A89b/RPSY8DmbVD9ZKOrtktlae9YDKTl9vVg4\n",
       "XUw1RfONaEAj9ASQL1/8Ft+OBk262COAmwKJ3xEucf4btjT5nqqLIHnk1618sSO28HCTfwjky3Ab\n",
       "vxrZDGW5Pa/JIGK8Kp3+u8B7PEUEPXzcPweRA1LH4YmM7DLZyOXp1F/hvkioQk1VdF/TDGWMjIqF\n",
       "pG/plV2agCH3p7iJaEfIFj3qx6+Gc0LhBklYf+GuFIqEZvzW9CkHheLuuc5KjhIS3jTNrUuBxBMR\n",
       "CgzDJj2CX5o7zdtYPEceHgIMQWxGPpE89aBU/TiwJ2SgKc2dfHAkmVwqxEiczXGgTbs3hN6IxKP7\n",
       "SDz3/KV7AQ5xP8biP1wjLjEe1bJ7akAMaDsukhohNBl35lMAQOhDy9Wq8RImlUOpffbhmp5/lENj\n",
       "hX0BV3U2j/AsoAAAARBBn2pFETwz/wAsG8OtekgB95cAgkKzU0XwvK6PUjM0ieJtKOko3NP4Fqi4\n",
       "62EYaZBPEN1mpAsZ9RhTbTuttoGk6Q2VN7MmvahnBBQY4yX5G0gFBgIZ3GTgoGCEAwBsRQIdbtOS\n",
       "rIhvJIwtSD3hioStOljs7YVy8GSVxsI8IHxQRUx15k/GClqHHFm9OcAF/ldBXzIVlnowu+qlS2xs\n",
       "gkdPTrAKntIXIKy2OZw+iCT/B4PY51JAET18C6ukuAd5six6jLKcfaHawKQPmtThDq2SlRnLa+JK\n",
       "uHi2JZDTejxLFe0dA+/21HGw4ELbEhiQNH/Lm7N23DbRQnpr/T6q3A1hz3kdcoZR5xwz5exV81Dq\n",
       "gQAAANoBn4l0Qr8AUX+wUmLAAfx56njQS61XWivW6UDZRJYmrIFbDiBocUMEUDsDF4EwDBABrZj5\n",
       "VbHFw4G9V2o8CvRhujeHcxKlZrJRPkhfcetLVJQK95rQITe6qrIQgq8vzAn1fpBde+h+9GFM35Kl\n",
       "QWMMRVWxoGbKRFW1l8Y6pLTscDlHRdX+jTjyxFIzm+F0npb36K3eA7qCakWOIrXXh2Mo5eHWyoln\n",
       "8OxcnAfl+hQCjA02Wx+WUfk5TFp0kEPcsnO6cdMsyqPk2crw9acGxB2S7HwltQXYoepEHAAAAMUB\n",
       "n4tqQr8AUhcsAIqy/K/ImWV8Zxoe5xQv/XRIbGdDTovdhgSapQrED73qZlFzjZ9HuBxHIwLshtRN\n",
       "QIM44fyTJ4KWpAn7ODxrkasXakVXIh10asuvuH20CFF05MQ18Z5b1ZaFUMNr7xRCeM1UnnPTLILB\n",
       "OO7YxUtpDGenNiWqeKUj8LNe+eWi+U8o1P7zvG5bf2gHgXzdihPc9r1tmSK1TtSkk7YW8rxuPAAN\n",
       "pUiqTjMa3wLDMEHwBdxFvtVJg/woEDrxDwAAAYpBm5BJqEFomUwId//+qZYAMpJgkAX+5vTMoCVe\n",
       "uHgG1wq8f5I0ATLD1pUOo4rJyOc1q03Mcq/dl16Jlwt6tOS8Dk7OJUJ3rZ/g5x3qKW+RgG6YcHrL\n",
       "J/8KhhwSn2Dij769i63HJSBPe7x3WZLuI1qPJtpOk3KOHftpCjmOJwOLdtGb5KFIwEsacMwbt87k\n",
       "taK3RwBmTFOpjNs+nQvN7RYWDe8Q1IykiSiHLsc9F78MRy7PysZjcnngD2UB1MdQou5ZLQCJFdat\n",
       "EbsLkNmqVBGfVmM3iRCEEuswxlT3AL/XjSzzegUNLKStoyiKKLywKtqOG7uSmsKlY0iDmI9SA2u/\n",
       "Lre/97WrFp/tYsmCKbqP/z8K4k+IS+ydv/PtUfWZk58LinySRGWTbkwwS+2kttR5Fv8TMEIRpVkX\n",
       "DOyqFRI0p4+o0GQEOzHHVyfeJG4do9A3pno1xaaLwXMuLKQf1l2sil6QjlWTuMLwAwt0rYqrN8sq\n",
       "89W/sbzLn1hSxh4/3oB5i68ZxQ0642hhAAAA0EGfrkURLDP/ACxKDzz9SUaHfyFxgCt78luzA7Fa\n",
       "VSugg81dtPexsw3bN5AqbMzY0NwPXGJ5v6/PbOu2dgK+No39I3X9vCflfBXKGDIAPiJaMpI2ka9c\n",
       "NV6EK96iFPwosQc2GuHu1seGwzRz75dcxrNg2SaTmMtXghr8Vyue/EuCZ+7aR+7oqiHntR72aaCB\n",
       "tOn0iRKhWm5RVnKADhnIfMO4BUme6yZ+zFw3aMTLabOyjdk5miN5HDSBVektl+MG7YkdZKUHNJZS\n",
       "yAqeJ27LEjEAAACEAZ/NdEK/AFHSdrTJOKE/grTU8x77nttLbAv/2NgA20Cn0Q6qK50HvaBsqlkT\n",
       "b0lKwDHQDsx1qLHEfuv2zNhr5iEsjBGPYwAPwLEnQK3JhZ/pWVU6WiCQQfYRY+i+Ik+LYnLBqOqN\n",
       "ax3hsATyuqZY9pRvd2WOURWD9/PqJKFtJa06w5uBAAAAegGfz2pCvwBPi5CXEH0wg77MV5XQvHGk\n",
       "pF+6oxydF9o01dJ3+gtxW4ll0Kkup+vnwF0MZkHfdQsJJbz4A/iKaod79AB+BXraurKalnCImotz\n",
       "/83i9hynQJ8mNmCZrnNVEtmX3ie2uYp2TwTdiIs/F9P0RJLHeieqgPSAAAABF0Gb0kmoQWyZTBRM\n",
       "O//+qZYAMVEbJs92v6DNAA+Y8GjNxwQYXX6n0ffuRk7dqEimDgNHNE6T5eBh45RbPFTitbfMhAQ/\n",
       "SDmOhlhqeUEHAOtFrKfOVrWya51gQT0TO1JQJAMKFE7irWy3MdNtTV5tvyMr+WN4iHXuuHS/rMHJ\n",
       "EYC77NKLlDNN0GT4wnQxDmB+iDjFfUNtlIh+c0iBI7S/4uJENxQmYkQYdOjdA9IDli8LxQmFz8bp\n",
       "llwatpRJ0U/k5fchwoRKDg68BfPkavdWw4D+34k7SZaN4tanCsrswlLjzNA7OWYzpfPZx2ZDm8HX\n",
       "fWg9+2Ba5XveMVDvxIbQupHXC2/WK0+hVDcm6+wX4ywClSNzqumKgAAAAGkBn/FqQr8AT6wr8Esw\n",
       "faeNX82yaZVd5sYFYC1mdRPxVycutEbGYQrAq+VlYEAeYiY20X+4zHkAsNEtHCur/nfAAvWyrqKL\n",
       "SVUqOS8DAB+ZDwp8tbeRkUS/NfDviSZxuDY6dcfxZcuTQekAAAFtQZv1SeEKUmUwIb/+p4QAZGKW\n",
       "oAia3KHWkUJ3dRa9K7a2NYyImh8dpDhXOECET6o9w2jsB28F48MmzARnMfmSRsWX3h3cweTw6AIF\n",
       "abx0p5Lq6VzGfDSJ4HR7Y1vCkU9usKjykf0BCCiGtmEdzOIwwAXfQDP5ilrccMO8yL3b1T46knFh\n",
       "qNDEb74Hvpxe0JcSbXwMMycOrC+1H0L26ESj6e5ZeyLkQWfM2N3gF5j8RP9a6ZKCcMzbuQJIOWBS\n",
       "laqqw+q+uXOptpdPKbt6sD+Yfrll84rbKUfHiscCnpmVaGPTYFnkmvq9q8Xi65LxL0Xldpp3+g9Q\n",
       "5o16wwg86GcNi55MyhNNBNBZ4Gl+HzqelMDsfAyCoWMY/MwdRRdUQNaDS9kcqTHxRY440hfl91+Y\n",
       "evXJ2Bkmy6yGf5TTX2sAxwnM0kaF05a1qx3b+Z/SE1e2mwZstTNWAFrBmN7UmStW877d6wQr2vv9\n",
       "jVXGp40AAACPQZ4TRTRML/8AO2l98pI4vYhLYeOw93vyupRE8F3oViVmek/D/theEvlR4AA4JgGu\n",
       "xrfBWe9d9i+WUkiAx3N3nNBPqjZfkoDqjqan4+Z1fI+UpBF9lwz6HC/TFJSp4fJ083htbZNBf/X8\n",
       "+GGKYAvewgGD38bYhfgrxAgkqiXeUXgRs8u90Yb7qqPdJOoBA9IAAAB+AZ40akK/AFHruWcfcqtF\n",
       "16/0Lujhb9AJX5qTG277Gf2dabOUYI0AusAG9C9otVg8uPyBC61gf6EZlw04gjicaRrStlvxyto0\n",
       "BL0bu6kXqkGPOXiWRPgZKFTm2KBR8+Y5jP6IJQsgDqcDYvC8rNgwqv51xt/dGhdTNfwgLYb1AAAB\n",
       "RkGaNkmoQWiZTAhv//6nhABkYpagBt8d82utx8yWMzj9l2FqM10YoF3Wt/GmhMNXSsRndPCaDYVD\n",
       "VrSw8bbocFOeEykOxJ6NBUISy0/wXjebJ4R9TRs16TW1rGD6HymemOs6C7d4PpszZqm0CovZVfIB\n",
       "ZO1LR4zeSZjfBP8c3A6b/FrwLzH6CLNrNDx4YVCmR9g3+8u547jq8uZqX0W1IsvCDEBVSJgQdkX8\n",
       "54vjjAvtxrnTb2pkVbIey25Ju0uw6g7VLkdqDwQChCNey3hp3LuiLi5XnbuHKSXmVrhFIXQ8LET4\n",
       "/ipJkxRWDheqDVPItrKO2/Enxe0JmrLlrd9W6wNhDVJQcs9uEwX/LmQ5HZwAi/qvspkLewuar0o1\n",
       "mux9F0tXf6yRIfN7B/kmMXKS2MJUjEaQR1rzj4OBsSPKBPBbQM6Fyd3AAAABdkGaV0nhClJlMCHf\n",
       "/qmWADKSYJACSfjKIr4oVkRbxvvaDe167oGXZ4AmAi5EJr3tTc/H2wBw+a7nGsIdoN+GqVC1p+cn\n",
       "VLxC7NO+gY/uBamMIYaDxlDrzmMG14Bzoa+kyCbrHAHff5j479MO0wo1vvFwg4gYJXi+oH8JkeCj\n",
       "GGBhyro5ORiqp8H4vXEQCUeZLKnrjAUqcA+8UZ3Z0iK0bFtpnrXzmikoJSXAuN5TjXZk5ve97fDx\n",
       "v7YQPgjDs0p/dVDveUQiuA/QOFel+tIcA1fYVp5S574/RDrI1JPqc+D9pE58QM7BaAvd3nOxLJD3\n",
       "xcY6MGVVK3l6iPWJUdTBc9kKA7Xcgh25OLmRut39Cay8A1Cxlpx/2UKuVR5yfr+3myRe+xtm0HSH\n",
       "7+tgy4T5/r/Hx4gCZuSyr2kQ+cWyMiQ8L/Xijx7e7vdEPmzgCO3M11L67VantXChjho7HOfw8P7V\n",
       "vB0hy4DhOcom5PPQwqUkmzanKeDBAAABYEGaeEnhDomUwId//qmWADLCpEaMAJllbfM0KuzuXeVK\n",
       "yZuJa/8g2mDp3foa5KD4QSRcq1t4/ThUF7IPgm2WQOxxAwY3IfFGgX8fC/izVnIv761fpzLWk6o6\n",
       "1aizXezHHlLVxv5CImel4pzL9msZ29skjs1x4aXCkgAzj+lQWtd9eDArUL1Tq9hC4d9ykTCjjP58\n",
       "C/S0ZfUe3s6Ie3v+2LeMPWBJtDZ8/S5NZeYO+cZlfUwTfXRmkkuA827ARZuTJMGU+CERIN4puHeh\n",
       "hPng5P1uy1RQoe+uYGjdLmt0dNFT31+jFSJE6LLw2EjbnKAHwL6yTbD3dwT6ygQxj6WsFUGTPf3r\n",
       "OgXF9TM8tYZZP+k60VYInZUv4rzelLkICy/NGQl7TftMcsQAH2dfGs1aCpVVz9aToctd/uK9doVW\n",
       "y7QI5ZckCw8FNNCPENy3yn02T+OZVBQTLmPJ/ue1GJB1ekEAAAIuQZqbSeEPJlMCHf/+qZYANBs/\n",
       "7ge/cA1h33lZL95ybtDsiBR3zF1Edh06iXfHdE4g4/G2SXd7TPUS3EXnp4LB9dTDjZr9Z4D9kovN\n",
       "bgdbGfrhsL8TgoGTDdVl/Hye7vBtMdYBqEIZqyOzqjzYnvP/zlIeUVsTMLBCh/BVv/C0WXPRP3G1\n",
       "LwwrT2MZ/0U9L1Z+xQHOpdjOslh6uMxa0ANw9iqidGWm2AxkB+nZroGhP1esUYdGWg0ygkjVeA52\n",
       "6PJ17YfVuDEttDPbJfm7NX3rf94ukhOSYWS22UZ2xgbcY0y60sC773br0KIk65q+cEtB2IdgTte6\n",
       "t7ZdRK3pllCMkH2WGpuJ/DwAHd9qm5JUhoKa3hYJ+M1MR8Pl1rJfC+vcjPxt7NaHfLOZv4rkuR3z\n",
       "cY88PGf+kvL15QSiqkAdSD23nU+U9x5W6kkL9u7VoHOgsZ5EZbqOaQjYFzupXgZinWTkpz/+TTBU\n",
       "5i1rU4XggRQNEi3CuXworGaGfDvkoqLR7BMAo8VT60HJ1vbSZIQPli0ZBAY8oIXVuv+K28mqHkPx\n",
       "BuNNU7fVVxwIJpryafGmAnbF3lJOq7B9JIUZ28peTdZPCgdt3XeygU7KFYT5tpX5zN1URC0LllfY\n",
       "gVmQIsuEyCg00WshBpkRQ/1OUj4DrucYuoj2P3H9zzk042sRvzsTZaczXIb2R+C5Aj/8eRLlSntc\n",
       "XLptdedySBlJiwBm4Dpsb2nn+3lMFFFWSQdgAAAA60GeuUURPC//ADzJRRGV1UZSOAENkBA4SZCI\n",
       "Jb9j9F+R90xsABpMDy/BgqcD54tVz4D7X0ElSUIQiyaYEKMnMt6/LaMHK5aVoVASF5rvmoSNIS2E\n",
       "lNoI4yqzYsUIOxRBCLFvm4W38hTHf9sW0JcrYn8831BMoVmoUhIo9j9A+lImuc3dv25zzdYO3LmY\n",
       "VrDj+orNVplUH4anet8YDEuaelq60adRZPhQ6BaAs+BZAVTC/9ztmMGewwtEqtCnmoyAR/2hgrwn\n",
       "a17ktvBjVixz3bm/oEBcmixZyfC6QQlK452ytNRRukiLKe9g2YEAAADLAZ7aakK/AFQrvq+D5Exs\n",
       "wAjIVuvRv/eZ67rldNJV+meV9H1Hxs26p//nycsXQ2cqu4i7uD68i3dQTNRBctGYNDD5fQlZq763\n",
       "2iKopoBTLjlUpAlVHweKq0Gw6caJAOJ9dF2vBzNxXymPoaPhi+DSXoO7WfbXQcBcQsOI7NB5iK5j\n",
       "x14iuhVndOsVTbcjyx5cZAfGzsRpSLeINL5D2Fj9lgtOohm26sEqPotfufJImRLsFY2a0hhe3pK0\n",
       "QWq0ySLGnv/wTF5kz2RAmYAAAAGWQZrdSahBaJlMFPDv/qmWADPjt6jPSqOUWEAQYR7R5R12aKKf\n",
       "yHiV4cGwNbqi2WYBUFNYAi+5ggAoABU1arhf7jD7cCKpocBSi1tXSV3F7qjw2mZZbT276gbVNMvY\n",
       "4trIovaI4VHnxqCK5TuxUbbYy/S3L//Za6om+ahaa4twZg31LkZsL0EIWBiqP6UuQZajmiw6J1nh\n",
       "cxf4MlEHFYSBq91oYOuHWpaYZUBSr9Y9q3myq8Un1aLZB/Aj2iDvLwil+3U7WhYADQCkiaFxH5cU\n",
       "yZReUHJM68F1E0wPkR0JBHYuWVKDBcuo/EWp6jyn/rLNkHkcp5RjevmGKGJsVxMePfbUGFXw3VgD\n",
       "2xehm1jDfhkjoFEB8DvRJjbp48fiHc1S1TaaPWvHAHF7waL2/2SP9mqGjiMLAk3ConcJzAPWy7Iu\n",
       "RXcNTCUIRylAgmyd/s7dyIB05ZH35iLsPrUlJbM53ylwz94Wtcg8emobK997SkuxkUOOwvuiZSIu\n",
       "svPmlGBNkkWi1/aAxEMFdPcRqKPIZds3Ppw1IQAAAJkBnvxqQr8AVBS84+nuDVnXWTvKQyUsHWSn\n",
       "1VtfpQSvNuUPh3LdWFnTL1h/6k4lZD1hVFb0NFjuwnNHefsYI54oqRwATNnkCa2pGuc9wxgz3fLe\n",
       "A8jVH2zkEgaADzjiOjayXuHsHFNr1lZx7ZBv9JV3q2c15Lv14aIiqJRzvmumO7xLa4p1gk5LteRJ\n",
       "5EMEaQz+mZkzdKz6LKEAAADrQZrhSeEKUmUwIZ/+nhABkVwp3xxdYAOf0t22yzYUki7CVD7euUCO\n",
       "1RxUB3mpXbODcoEEqi226Y0aNCDsSPBTxXYGfuART1b7pCuZ8C1JiN4gt/C3Lq2R/YojLHFH1SW+\n",
       "q1AfBOGN0FWNBKW88tPHk0IXhcJ3LeVhXKnfc5B3tiVRKtACT7u1rXTHkFLPx5cLzl3hors2/Wcb\n",
       "VvmoF3sk+wEl8PlnXnDpvNhd72KCjOTeI2vZmrkLsAGjXcwWKBxPSLmzulu3UifebM5oFapcmUpG\n",
       "iDHZ9sPDyisvLyBHjcDnAzWWIlJCPJsBgQAAAJRBnx9FNEwz/wAtaXGgPblqgY+EAAnum70ll4Ob\n",
       "Y1dVVaVkGquUOw5kc6S6UEzJhki7AmSn85N6FEa9oqHK04Y3rOYcf7zOesHGQAmFFxPoUApl6gou\n",
       "0JXF1iHyC7vqXIgq3/d2anjWCAStgopDFxh/8+rjQsmYZ3TpZhVb0X65+LcvX30DtH2HJv8tpuvg\n",
       "u8KqSXoOAAAAYAGfPnRCvwBULf0l1I/zIQrD+BkfCNupoiKgrcXTgO8Q4Vf56YqSzCU/xLaZDP2o\n",
       "wDAisNAYtmHcACZQsSyBW5LZkOIOZGGm7TtRGuub4ZHXtOEI0BcKOpYjqcYe9HfNMwAAAD8BnyBq\n",
       "Qr8AVBq5LihIOXSm+YggyTh2Xc/NOXK1Yt3LDrw4robnJJCZ0L0DZIYlX3RkY2438zTBw7qicKUU\n",
       "qSAAAAB5QZsjSahBaJlMFPCv/jhABh7EfoXwUilpnGRHT5cwl7buwFlkg6sZYntbHP15KZ2PophC\n",
       "M/MlEKMqwA49bw0SWbz6YslVZb1riHm8paov8RiskGHn6i/OMuV5iVYf1uaUlTrUJJp8t3PiWFWg\n",
       "mBqzmwdelrGD5Td1eQAAAEQBn0JqQr8AVDkp+OGK9cjQ6GlSK5lUAGTpoSsXgw/3s/w3OGcsVdJa\n",
       "NUYalWFTOZTDApxbvxNpfvJji/HP//RxfrgGzAAAB4ptb292AAAAbG12aGQAAAAAAAAAAAAAAAAA\n",
       "AAPoAAATiAABAAABAAAAAAAAAAAAAAAAAQAAAAAAAAAAAAAAAAAAAAEAAAAAAAAAAAAAAAAAAEAA\n",
       "AAAAAAAAAAAAAAAAAAAAAAAAAAAAAAAAAAAAAAACAAAGtHRyYWsAAABcdGtoZAAAAAMAAAAAAAAA\n",
       "AAAAAAEAAAAAAAATiAAAAAAAAAAAAAAAAAAAAAAAAQAAAAAAAAAAAAAAAAAAAAEAAAAAAAAAAAAA\n",
       "AAAAAEAAAAABsAAAASAAAAAAACRlZHRzAAAAHGVsc3QAAAAAAAAAAQAAE4gAAAQAAAEAAAAABixt\n",
       "ZGlhAAAAIG1kaGQAAAAAAAAAAAAAAAAAACgAAADIAFXEAAAAAAAtaGRscgAAAAAAAAAAdmlkZQAA\n",
       "AAAAAAAAAAAAAFZpZGVvSGFuZGxlcgAAAAXXbWluZgAAABR2bWhkAAAAAQAAAAAAAAAAAAAAJGRp\n",
       "bmYAAAAcZHJlZgAAAAAAAAABAAAADHVybCAAAAABAAAFl3N0YmwAAAC3c3RzZAAAAAAAAAABAAAA\n",
       "p2F2YzEAAAAAAAAAAQAAAAAAAAAAAAAAAAAAAAABsAEgAEgAAABIAAAAAAAAAAEAAAAAAAAAAAAA\n",
       "AAAAAAAAAAAAAAAAAAAAAAAAAAAAAAAY//8AAAA1YXZjQwFkABX/4QAYZ2QAFazZQbCWhAAAAwAE\n",
       "AAADAKA8WLZYAQAGaOvjyyLA/fj4AAAAABx1dWlka2hA8l8kT8W6OaUbzwMj8wAAAAAAAAAYc3R0\n",
       "cwAAAAAAAAABAAAAZAAAAgAAAAAUc3RzcwAAAAAAAAABAAAAAQAAAthjdHRzAAAAAAAAAFkAAAAB\n",
       "AAAEAAAAAAEAAAoAAAAAAQAABAAAAAABAAAAAAAAAAEAAAIAAAAAAQAACgAAAAABAAAEAAAAAAEA\n",
       "AAAAAAAAAQAAAgAAAAABAAAGAAAAAAEAAAIAAAAAAQAABAAAAAABAAAGAAAAAAEAAAIAAAAAAQAA\n",
       "BgAAAAABAAACAAAAAAEAAAYAAAAAAQAAAgAAAAABAAAIAAAAAAIAAAIAAAAAAgAABAAAAAABAAAK\n",
       "AAAAAAEAAAQAAAAAAQAAAAAAAAABAAACAAAAAAEAAAYAAAAAAQAAAgAAAAABAAAGAAAAAAEAAAIA\n",
       "AAAAAQAABgAAAAABAAACAAAAAAEAAAoAAAAAAQAABAAAAAABAAAAAAAAAAEAAAIAAAAAAQAACgAA\n",
       "AAABAAAEAAAAAAEAAAAAAAAAAQAAAgAAAAABAAAIAAAAAAIAAAIAAAAAAQAACAAAAAACAAACAAAA\n",
       "AAEAAAYAAAAAAQAAAgAAAAABAAAGAAAAAAEAAAIAAAAAAQAACAAAAAACAAACAAAAAAEAAAoAAAAA\n",
       "AQAABAAAAAABAAAAAAAAAAEAAAIAAAAAAQAACgAAAAABAAAEAAAAAAEAAAAAAAAAAQAAAgAAAAAB\n",
       "AAAGAAAAAAEAAAIAAAAAAQAACAAAAAACAAACAAAAAAEAAAYAAAAAAQAAAgAAAAABAAAGAAAAAAEA\n",
       "AAIAAAAAAgAABAAAAAABAAAKAAAAAAEAAAQAAAAAAQAAAAAAAAABAAACAAAAAAEAAAoAAAAAAQAA\n",
       "BAAAAAABAAAAAAAAAAEAAAIAAAAAAQAABgAAAAABAAACAAAAAAEAAAgAAAAAAgAAAgAAAAADAAAE\n",
       "AAAAAAEAAAgAAAAAAgAAAgAAAAABAAAGAAAAAAEAAAIAAAAAAQAACgAAAAABAAAEAAAAAAEAAAAA\n",
       "AAAAAQAAAgAAAAABAAAGAAAAAAEAAAIAAAAAHHN0c2MAAAAAAAAAAQAAAAEAAABkAAAAAQAAAaRz\n",
       "dHN6AAAAAAAAAAAAAABkAAARnAAAAnQAAACeAAAAawAAAG4AAAIvAAAA/QAAAHkAAADSAAACZgAA\n",
       "AOUAAAG/AAAByQAAANkAAAGJAAAAvQAAASAAAAClAAABVgAAAKAAAACMAAABHAAAAT4AAAJyAAAB\n",
       "PgAAANUAAAEHAAAB4QAAAO8AAAHhAAAA1AAAAaAAAACHAAABmAAAAJ0AAABzAAAAjgAAAkkAAAET\n",
       "AAAApAAAANMAAAJUAAAA5AAAAJgAAAHyAAAAcQAAAGoAAAF4AAAAhwAAARwAAAB/AAABFAAAAGgA\n",
       "AABRAAABnAAAALoAAABcAAAAhQAAAb4AAACaAAAAgAAAAGEAAAD9AAAAkwAAAaYAAADxAAAA5wAA\n",
       "AYkAAADZAAABkwAAAK4AAAFtAAAB/gAAAnAAAAEUAAAA3gAAAMkAAAGOAAAA1AAAAIgAAAB+AAAB\n",
       "GwAAAG0AAAFxAAAAkwAAAIIAAAFKAAABegAAAWQAAAIyAAAA7wAAAM8AAAGaAAAAnQAAAO8AAACY\n",
       "AAAAZAAAAEMAAAB9AAAASAAAABRzdGNvAAAAAAAAAAEAAAAwAAAAYnVkdGEAAABabWV0YQAAAAAA\n",
       "AAAhaGRscgAAAAAAAAAAbWRpcmFwcGwAAAAAAAAAAAAAAAAtaWxzdAAAACWpdG9vAAAAHWRhdGEA\n",
       "AAABAAAAAExhdmY1OC40NS4xMDA=\n",
       "\">\n",
       "  Your browser does not support the video tag.\n",
       "</video>"
      ],
      "text/plain": [
       "<IPython.core.display.HTML object>"
      ]
     },
     "execution_count": 122,
     "metadata": {},
     "output_type": "execute_result"
    }
   ],
   "source": [
    "# Show the animation\n",
    "HTML(ani.to_html5_video())"
   ]
  },
  {
   "cell_type": "code",
   "execution_count": 123,
   "metadata": {
    "slideshow": {
     "slide_type": "skip"
    }
   },
   "outputs": [],
   "source": [
    "# Save the animation\n",
    "ani.save('masses_for_{0:02d}_modes.mp4'.format(N), dpi=100)"
   ]
  },
  {
   "cell_type": "markdown",
   "metadata": {
    "slideshow": {
     "slide_type": "skip"
    }
   },
   "source": [
    "The last command saves the animation as a ```.mp4``` video file. I saved a few and uploaded them onto Quercus."
   ]
  },
  {
   "cell_type": "markdown",
   "metadata": {
    "slideshow": {
     "slide_type": "skip"
    }
   },
   "source": [
    "A few comments.\n",
    "You are not required to remember them at this point, but you will later on in this lecture series on waves and oscillations, so might as well start early.\n",
    "\n",
    "* For some modes, some masses don't move, or hardly at all. Likewise, some masses move symmetrically around points that would be associated with zero velocity if they had a mass on them. Such points are called \"nodes\". In-between nodes are locations where the velocities seem larger. These points are called \"antinodes\". We will be able to visualize them better with waves on a string.\n",
    "* The distance between two nodes corresponds to half a wavelength: every two nodes, the motion is periodic (spatial periodicity).\n",
    "* The larger the mode number (or the frequency) is, the more nodes there are, or equivalently, the shorter the wavelengths are. As a matter of fact, the first mode has zero nodes, the second mode has one node, and the $n^{th}$ has $n-1$ nodes. This is a general feature of standing waves, again better visualized with waves on a string.\n",
    "* Modes with more nodes are called \"higher modes\", those with less nodes are called \"low\", or \"grave\". The terminology comes from sound waves. Sound waves with larger wavelengths sound indeed graver (lower frequency) than sound waves with smaller wavelengths (higher frequencies).\n",
    "\n"
   ]
  }
 ],
 "metadata": {
  "anaconda-cloud": {},
  "celltoolbar": "Diaporama",
  "kernelspec": {
   "display_name": "Python 3 (ipykernel)",
   "language": "python",
   "name": "python3"
  },
  "language_info": {
   "codemirror_mode": {
    "name": "ipython",
    "version": 3
   },
   "file_extension": ".py",
   "mimetype": "text/x-python",
   "name": "python",
   "nbconvert_exporter": "python",
   "pygments_lexer": "ipython3",
   "version": "3.8.11"
  }
 },
 "nbformat": 4,
 "nbformat_minor": 4
}
